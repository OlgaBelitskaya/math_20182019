{
 "cells": [
  {
   "cell_type": "code",
   "execution_count": 1,
   "metadata": {},
   "outputs": [
    {
     "data": {
      "text/html": [
       "<style>\n",
       "@import url('https://fonts.googleapis.com/css?family=Roboto&effect=3d|brick-sign|');\n",
       "span {font-family:Roboto; color:black; text-shadow:4px 4px 4px #aaa;}  \n",
       "h1,h2 {font-family:Roboto; color:slategray; text-shadow:4px 4px 4px #aaa;} \n",
       "div.output_subarea, div.output_area pre{font-family:Roboto; font_size:120%; color:darkblue;}\n",
       "</style> "
      ],
      "text/plain": [
       "<IPython.core.display.HTML object>"
      ]
     },
     "metadata": {},
     "output_type": "display_data"
    }
   ],
   "source": [
    "%%html\n",
    "<style>\n",
    "@import url('https://fonts.googleapis.com/css?family=Roboto&effect=3d|brick-sign|');\n",
    "span {font-family:Roboto; color:black; text-shadow:4px 4px 4px #aaa;}  \n",
    "h1,h2 {font-family:Roboto; color:slategray; text-shadow:4px 4px 4px #aaa;} \n",
    "div.output_subarea, div.output_area pre{font-family:Roboto; font_size:120%; color:darkblue;}\n",
    "</style> "
   ]
  },
  {
   "cell_type": "code",
   "execution_count": 2,
   "metadata": {},
   "outputs": [],
   "source": [
    "import math, sympy, numpy\n",
    "sympy.init_printing(use_unicode=True)\n",
    "from sympy import *\n",
    "import pylab as plt\n",
    "%matplotlib inline"
   ]
  },
  {
   "cell_type": "markdown",
   "metadata": {},
   "source": [
    "# Типовой расчет 3 / Standard Calculation 3"
   ]
  },
  {
   "cell_type": "markdown",
   "metadata": {},
   "source": [
    "## Постановка  задачи / Formulation of the problem:\n",
    "Решить систему линейных алгебраических уравнений двумя способами: по правилу Крамера и методом Гаусса\n",
    "        \n",
    "$\n",
    "\\begin{cases}\n",
    "8x_1 - 5x_2 - 2x_3 - 2x_4 = 35 \\\\\n",
    "-2x_1 + 4x_2 - 4x_3 + x_4 = -8 \\\\\n",
    "-2x_1 + x_2 + 4x_3 + 4x_4 = -11 \\\\\n",
    "4x_1 + x_2 + 3x_3 + 10x_4 = 10\\\\\n",
    "\\end{cases}\n",
    "$"
   ]
  },
  {
   "cell_type": "markdown",
   "metadata": {},
   "source": [
    "## Решение / Decisions:"
   ]
  },
  {
   "cell_type": "markdown",
   "metadata": {},
   "source": [
    "### Правило Крамера\n",
    "\n",
    "Матричный вид записи: Ax=b, где\n",
    "    \n",
    "$ A = \n",
    "\\begin{bmatrix}\n",
    "8 & -5 & -2 & -2  \\\\\n",
    "-2 & 4 & -4 & 1 \\\\\n",
    "-2 & 1 & 4 & 4 \\\\\n",
    "4 & 1 & 3 & 10\n",
    " \\end{bmatrix}, \\ \n",
    "b = \n",
    "\\begin{bmatrix}\n",
    "35 \\\\ -8 \\\\ -11 \\\\ 10\n",
    " \\end{bmatrix}\n",
    "$.\n",
    "\n",
    "Вычислим определитель матрицы системы:\n",
    "\n",
    "$ \\Delta = \n",
    "\\begin{vmatrix}\n",
    "8 & -5 & -2 & -2  \\\\\n",
    "-2 & 4 & -4 & 1 \\\\\n",
    "-2 & 1 & 4 & 4 \\\\\n",
    "4 & 1 & 3 & 10\n",
    " \\end{vmatrix}\n",
    "$.\n",
    "\n",
    "Вычтем из 2-ой строки 3-ю, из 1-ой - 4-ую, умноженную на 2:\n",
    "\n",
    "$ \\Delta = \n",
    "\\begin{vmatrix}\n",
    "0 & -7 & -8 & -22  \\\\\n",
    "0 & 3 & -8 & -3 \\\\\n",
    "-2 & 1 & 4 & 4 \\\\\n",
    "4 & 1 & 3 & 10\n",
    " \\end{vmatrix}\n",
    "$.\n",
    "\n",
    "Сложим 4-ую строку с 3-ей, умноженной на 2:\n",
    "\n",
    "$ \\Delta = \n",
    "\\begin{vmatrix}\n",
    "0 & -7 & -8 & -22  \\\\\n",
    "0 & 3 & -8 & -3 \\\\\n",
    "-2 & 1 & 4 & 4 \\\\\n",
    "0 & 3 & 11& 18\n",
    " \\end{vmatrix}\n",
    "$.\n",
    "\n",
    "Разложим по 1-му столбцу:\n",
    "\n",
    "$ \\Delta = -2 *\n",
    "\\begin{vmatrix}\n",
    " -7 & -8 & -22  \\\\\n",
    "3 & -8 & -3 \\\\\n",
    "3 & 11& 18\n",
    " \\end{vmatrix}\n",
    "$.\n",
    "\n",
    "Вычтем из 3-ей строки 2-ую:\n",
    "\n",
    "$ \\Delta = -2 *\n",
    "\\begin{vmatrix}\n",
    " -7 & -8 & -22  \\\\\n",
    "3 & -8 & -3 \\\\\n",
    "0 & 19 & 21\n",
    " \\end{vmatrix}\n",
    "$.\n",
    "\n",
    "К 1-ой строке прибавим 2-ую, умноженную на 2:\n",
    "\n",
    "$ \\Delta = -2 *\n",
    "\\begin{vmatrix}\n",
    " -1 & -24 & -28  \\\\\n",
    "3 & -8 & -3 \\\\\n",
    "0 & 19 & 21\n",
    " \\end{vmatrix}\n",
    "$.\n",
    "\n",
    "К 2-ой строке прибавим 1-ую, умноженную на 3:\n",
    "\n",
    "$ \\Delta = -2 *\n",
    "\\begin{vmatrix}\n",
    " -1 & -24 & -28  \\\\\n",
    "0 & -80 & -87 \\\\\n",
    "0 & 19 & 21\n",
    " \\end{vmatrix}\n",
    "$.\n",
    "\n",
    "Разложим по 1-му столбцу:\n",
    "    \n",
    "$ \\Delta = -2 * (-1) *\n",
    "\\begin{vmatrix}\n",
    "-80 & -87 \\\\\n",
    "19 & 21\n",
    " \\end{vmatrix} \n",
    " = 2 * (-80 * 21 - 19 * (-87)) = - 54$."
   ]
  },
  {
   "cell_type": "markdown",
   "metadata": {},
   "source": [
    "Так как $\\Delta \\neq 0$ , то по теореме Крамера система совместна и имеет единственное решение. \n",
    "\n",
    "Вычислим вспомогательные определители. \n",
    "\n",
    "Определитель $\\Delta _i$  получим из определителя $\\Delta $ заменой его i-ого столбца столбцом свободных коэффициентов.\n",
    "\n",
    "Рассчитаем вспомогательные определители аналогично $\\Delta $ :\n",
    "\n",
    "$ \\Delta_1 = \n",
    "\\begin{vmatrix}\n",
    "35 & -5 & -2 & -2  \\\\\n",
    "-8 & 4 & -4 & 1 \\\\\n",
    "-11 & 1 & 4 & 4 \\\\\n",
    "10 & 1 & 3 & 10\n",
    " \\end{vmatrix} = -54\n",
    "\\large{\\implies x_1 = \\frac{\\Delta_1}{\\Delta} = -54 / (-54) = 1 }$.\n",
    "\n",
    "$ \\Delta_2 = \n",
    "\\begin{vmatrix}\n",
    "8 & 35 & -2 & -2  \\\\\n",
    "-2 & -8 & -4 & 1 \\\\\n",
    "-2 & -11 & 4 & 4 \\\\\n",
    "4 & 10 & 3 & 10\n",
    " \\end{vmatrix} = 270\n",
    "\\large{\\implies x_2 = \\frac{\\Delta_2}{\\Delta} = 270 / (-54) = -5 }$.\n",
    "\n",
    "$ \\Delta_3 = \n",
    "\\begin{vmatrix}\n",
    "8 & -5 & 35 & -2  \\\\\n",
    "-2 & 4 & -8 & 1 \\\\\n",
    "-2 & 1 & -11 & 4 \\\\\n",
    "4 & 1 & 10 & 10\n",
    " \\end{vmatrix} = 162\n",
    "\\large{\\implies x_3 = \\frac{\\Delta_3}{\\Delta} = 162 / (-54) = -3 }$."
   ]
  },
  {
   "cell_type": "markdown",
   "metadata": {},
   "source": [
    "Подставим в последнее уравнение $x_1, x_2, x_3$:\n",
    "\n",
    "$4 * 1 + 1 * (-5) + 3 * (-3) + 10 * x_4 = 10 \\implies 10 * x_4 = 20 \\implies x_4 = 2 $"
   ]
  },
  {
   "cell_type": "code",
   "execution_count": 38,
   "metadata": {},
   "outputs": [
    {
     "data": {
      "image/png": "[encoded data removed]",
      "text/latex": [
       "$$\\left ( \\left[\\begin{matrix}8 & -5 & -2 & -2\\\\-2 & 4 & -4 & 1\\\\-2 & 1 & 4 & 4\\\\4 & 1 & 3 & 10\\end{matrix}\\right], \\quad -54\\right )$$"
      ],
      "text/plain": [
       "⎛⎡8   -5  -2  -2⎤     ⎞\n",
       "⎜⎢              ⎥     ⎟\n",
       "⎜⎢-2  4   -4  1 ⎥     ⎟\n",
       "⎜⎢              ⎥, -54⎟\n",
       "⎜⎢-2  1   4   4 ⎥     ⎟\n",
       "⎜⎢              ⎥     ⎟\n",
       "⎝⎣4   1   3   10⎦     ⎠"
      ]
     },
     "execution_count": 38,
     "metadata": {},
     "output_type": "execute_result"
    }
   ],
   "source": [
    "# 1) \n",
    "A = sympy.Matrix([[8,-5,-2,-2],[-2,4,-4,1],[-2,1,4,4],[4,1,3,10]])\n",
    "A, A.det()"
   ]
  },
  {
   "cell_type": "code",
   "execution_count": 46,
   "metadata": {},
   "outputs": [
    {
     "data": {
      "image/png": "[encoded data removed]",
      "text/latex": [
       "$$\\left ( \\left[\\begin{matrix}0 & -7 & -8 & -22\\\\0 & 3 & -8 & -3\\\\-2 & 1 & 4 & 4\\\\4 & 1 & 3 & 10\\end{matrix}\\right], \\quad -54\\right )$$"
      ],
      "text/plain": [
       "⎛⎡0   -7  -8  -22⎤     ⎞\n",
       "⎜⎢               ⎥     ⎟\n",
       "⎜⎢0   3   -8  -3 ⎥     ⎟\n",
       "⎜⎢               ⎥, -54⎟\n",
       "⎜⎢-2  1   4    4 ⎥     ⎟\n",
       "⎜⎢               ⎥     ⎟\n",
       "⎝⎣4   1   3   10 ⎦     ⎠"
      ]
     },
     "execution_count": 46,
     "metadata": {},
     "output_type": "execute_result"
    }
   ],
   "source": [
    "A= sympy.Matrix([[0,-7,-8,-22],[0,3,-8,-3],[-2,1,4,4],[4,1,3,10]])\n",
    "A, A.det()"
   ]
  },
  {
   "cell_type": "code",
   "execution_count": 47,
   "metadata": {},
   "outputs": [
    {
     "data": {
      "image/png": "[encoded data removed]",
      "text/latex": [
       "$$\\left ( \\left[\\begin{matrix}0 & -7 & -8 & -22\\\\0 & 3 & -8 & -3\\\\-2 & 1 & 4 & 4\\\\0 & 3 & 11 & 18\\end{matrix}\\right], \\quad -54\\right )$$"
      ],
      "text/plain": [
       "⎛⎡0   -7  -8  -22⎤     ⎞\n",
       "⎜⎢               ⎥     ⎟\n",
       "⎜⎢0   3   -8  -3 ⎥     ⎟\n",
       "⎜⎢               ⎥, -54⎟\n",
       "⎜⎢-2  1   4    4 ⎥     ⎟\n",
       "⎜⎢               ⎥     ⎟\n",
       "⎝⎣0   3   11  18 ⎦     ⎠"
      ]
     },
     "execution_count": 47,
     "metadata": {},
     "output_type": "execute_result"
    }
   ],
   "source": [
    "A= sympy.Matrix([[0,-7,-8,-22],[0,3,-8,-3],[-2,1,4,4],[0,3,11,18]])\n",
    "A, A.det()"
   ]
  },
  {
   "cell_type": "code",
   "execution_count": 49,
   "metadata": {},
   "outputs": [
    {
     "data": {
      "image/png": "[encoded data removed]",
      "text/latex": [
       "$$\\left ( \\left[\\begin{matrix}-7 & -8 & -22\\\\3 & -8 & -3\\\\3 & 11 & 18\\end{matrix}\\right], \\quad -54\\right )$$"
      ],
      "text/plain": [
       "⎛⎡-7  -8  -22⎤     ⎞\n",
       "⎜⎢           ⎥     ⎟\n",
       "⎜⎢3   -8  -3 ⎥, -54⎟\n",
       "⎜⎢           ⎥     ⎟\n",
       "⎝⎣3   11  18 ⎦     ⎠"
      ]
     },
     "execution_count": 49,
     "metadata": {},
     "output_type": "execute_result"
    }
   ],
   "source": [
    "A11= sympy.Matrix([[-7,-8,-22],[3,-8,-3],[3,11,18]])\n",
    "A11, -2 * A11.det()"
   ]
  },
  {
   "cell_type": "code",
   "execution_count": 50,
   "metadata": {},
   "outputs": [
    {
     "data": {
      "image/png": "[encoded data removed]",
      "text/latex": [
       "$$\\left ( \\left[\\begin{matrix}-7 & -8 & -22\\\\3 & -8 & -3\\\\0 & 19 & 21\\end{matrix}\\right], \\quad -54\\right )$$"
      ],
      "text/plain": [
       "⎛⎡-7  -8  -22⎤     ⎞\n",
       "⎜⎢           ⎥     ⎟\n",
       "⎜⎢3   -8  -3 ⎥, -54⎟\n",
       "⎜⎢           ⎥     ⎟\n",
       "⎝⎣0   19  21 ⎦     ⎠"
      ]
     },
     "execution_count": 50,
     "metadata": {},
     "output_type": "execute_result"
    }
   ],
   "source": [
    "A11= sympy.Matrix([[-7,-8,-22],[3,-8,-3],[0,19,21]])\n",
    "A11, -2 * A11.det()"
   ]
  },
  {
   "cell_type": "code",
   "execution_count": 53,
   "metadata": {},
   "outputs": [
    {
     "data": {
      "image/png": "[encoded data removed]",
      "text/latex": [
       "$$\\left ( \\left[\\begin{matrix}-1 & -24 & -28\\\\0 & -80 & -87\\\\0 & 19 & 21\\end{matrix}\\right], \\quad -54\\right )$$"
      ],
      "text/plain": [
       "⎛⎡-1  -24  -28⎤     ⎞\n",
       "⎜⎢            ⎥     ⎟\n",
       "⎜⎢0   -80  -87⎥, -54⎟\n",
       "⎜⎢            ⎥     ⎟\n",
       "⎝⎣0   19   21 ⎦     ⎠"
      ]
     },
     "execution_count": 53,
     "metadata": {},
     "output_type": "execute_result"
    }
   ],
   "source": [
    "A11= sympy.Matrix([[-1,-24,-28],[0,-80,-87],[0,19,21]])\n",
    "A11, -2 * A11.det()"
   ]
  },
  {
   "cell_type": "code",
   "execution_count": 56,
   "metadata": {},
   "outputs": [
    {
     "data": {
      "image/png": "[encoded data removed]",
      "text/latex": [
       "$$\\left ( \\left[\\begin{matrix}-80 & -87\\\\19 & 21\\end{matrix}\\right], \\quad -54\\right )$$"
      ],
      "text/plain": [
       "⎛⎡-80  -87⎤     ⎞\n",
       "⎜⎢        ⎥, -54⎟\n",
       "⎝⎣19   21 ⎦     ⎠"
      ]
     },
     "execution_count": 56,
     "metadata": {},
     "output_type": "execute_result"
    }
   ],
   "source": [
    "A111= sympy.Matrix([[-80,-87],[19,21]])\n",
    "A111, -2 * (-1) *  A111.det()"
   ]
  },
  {
   "cell_type": "code",
   "execution_count": 58,
   "metadata": {},
   "outputs": [
    {
     "data": {
      "image/png": "[encoded data removed]",
      "text/latex": [
       "$$\\left ( \\left[\\begin{matrix}35 & -5 & -2 & -2\\\\-8 & 4 & -4 & 1\\\\-11 & 1 & 4 & 4\\\\10 & 1 & 3 & 10\\end{matrix}\\right], \\quad -54\\right )$$"
      ],
      "text/plain": [
       "⎛⎡35   -5  -2  -2⎤     ⎞\n",
       "⎜⎢               ⎥     ⎟\n",
       "⎜⎢-8   4   -4  1 ⎥     ⎟\n",
       "⎜⎢               ⎥, -54⎟\n",
       "⎜⎢-11  1   4   4 ⎥     ⎟\n",
       "⎜⎢               ⎥     ⎟\n",
       "⎝⎣10   1   3   10⎦     ⎠"
      ]
     },
     "execution_count": 58,
     "metadata": {},
     "output_type": "execute_result"
    }
   ],
   "source": [
    "# 2)\n",
    "A_1 = sympy.Matrix([[35,-5,-2,-2],[-8,4,-4,1],[-11,1,4,4],[10,1,3,10]])\n",
    "A_1, A_1.det()"
   ]
  },
  {
   "cell_type": "code",
   "execution_count": 64,
   "metadata": {},
   "outputs": [
    {
     "data": {
      "image/png": "[encoded data removed]",
      "text/latex": [
       "$$1$$"
      ],
      "text/plain": [
       "1"
      ]
     },
     "execution_count": 64,
     "metadata": {},
     "output_type": "execute_result"
    }
   ],
   "source": [
    "x1 = A_1.det() / A.det()\n",
    "x1"
   ]
  },
  {
   "cell_type": "code",
   "execution_count": 62,
   "metadata": {},
   "outputs": [
    {
     "data": {
      "image/png": "[encoded data removed]",
      "text/latex": [
       "$$\\left ( \\left[\\begin{matrix}8 & 35 & -2 & -2\\\\-2 & -8 & -4 & 1\\\\-2 & -11 & 4 & 4\\\\4 & 10 & 3 & 10\\end{matrix}\\right], \\quad 270\\right )$$"
      ],
      "text/plain": [
       "⎛⎡8   35   -2  -2⎤     ⎞\n",
       "⎜⎢               ⎥     ⎟\n",
       "⎜⎢-2  -8   -4  1 ⎥     ⎟\n",
       "⎜⎢               ⎥, 270⎟\n",
       "⎜⎢-2  -11  4   4 ⎥     ⎟\n",
       "⎜⎢               ⎥     ⎟\n",
       "⎝⎣4   10   3   10⎦     ⎠"
      ]
     },
     "execution_count": 62,
     "metadata": {},
     "output_type": "execute_result"
    }
   ],
   "source": [
    "A_2 = sympy.Matrix([[8,35,-2,-2],[-2,-8,-4,1],[-2,-11,4,4],[4,10,3,10]])\n",
    "A_2, A_2.det()"
   ]
  },
  {
   "cell_type": "code",
   "execution_count": 65,
   "metadata": {},
   "outputs": [
    {
     "data": {
      "image/png": "[encoded data removed]",
      "text/latex": [
       "$$-5$$"
      ],
      "text/plain": [
       "-5"
      ]
     },
     "execution_count": 65,
     "metadata": {},
     "output_type": "execute_result"
    }
   ],
   "source": [
    "x2 = A_2.det() / A.det()\n",
    "x2"
   ]
  },
  {
   "cell_type": "code",
   "execution_count": 66,
   "metadata": {},
   "outputs": [
    {
     "data": {
      "image/png": "[encoded data removed]",
      "text/latex": [
       "$$\\left ( \\left[\\begin{matrix}8 & -5 & 35 & -2\\\\-2 & 4 & -8 & 1\\\\-2 & 1 & -11 & 4\\\\4 & 1 & 10 & 10\\end{matrix}\\right], \\quad 162\\right )$$"
      ],
      "text/plain": [
       "⎛⎡8   -5  35   -2⎤     ⎞\n",
       "⎜⎢               ⎥     ⎟\n",
       "⎜⎢-2  4   -8   1 ⎥     ⎟\n",
       "⎜⎢               ⎥, 162⎟\n",
       "⎜⎢-2  1   -11  4 ⎥     ⎟\n",
       "⎜⎢               ⎥     ⎟\n",
       "⎝⎣4   1   10   10⎦     ⎠"
      ]
     },
     "execution_count": 66,
     "metadata": {},
     "output_type": "execute_result"
    }
   ],
   "source": [
    "A_3 = sympy.Matrix([[8,-5,35,-2],[-2,4,-8,1],[-2,1,-11,4],[4,1,10,10]])\n",
    "A_3, A_3.det()"
   ]
  },
  {
   "cell_type": "code",
   "execution_count": 67,
   "metadata": {},
   "outputs": [
    {
     "data": {
      "image/png": "[encoded data removed]",
      "text/latex": [
       "$$-3$$"
      ],
      "text/plain": [
       "-3"
      ]
     },
     "execution_count": 67,
     "metadata": {},
     "output_type": "execute_result"
    }
   ],
   "source": [
    "x3 = A_3.det() / A.det()\n",
    "x3"
   ]
  },
  {
   "cell_type": "code",
   "execution_count": 68,
   "metadata": {},
   "outputs": [
    {
     "data": {
      "image/png": "[encoded data removed]",
      "text/latex": [
       "$$\\left ( \\left[\\begin{matrix}8 & -5 & -2 & 35\\\\-2 & 4 & -4 & -8\\\\-2 & 1 & 4 & -11\\\\4 & 1 & 3 & 10\\end{matrix}\\right], \\quad -108\\right )$$"
      ],
      "text/plain": [
       "⎛⎡8   -5  -2  35 ⎤      ⎞\n",
       "⎜⎢               ⎥      ⎟\n",
       "⎜⎢-2  4   -4  -8 ⎥      ⎟\n",
       "⎜⎢               ⎥, -108⎟\n",
       "⎜⎢-2  1   4   -11⎥      ⎟\n",
       "⎜⎢               ⎥      ⎟\n",
       "⎝⎣4   1   3   10 ⎦      ⎠"
      ]
     },
     "execution_count": 68,
     "metadata": {},
     "output_type": "execute_result"
    }
   ],
   "source": [
    "A_4 = sympy.Matrix([[8,-5,-2,35],[-2,4,-4,-8],[-2,1,4,-11],[4,1,3,10]])\n",
    "A_4, A_4.det()"
   ]
  },
  {
   "cell_type": "code",
   "execution_count": 69,
   "metadata": {},
   "outputs": [
    {
     "data": {
      "image/png": "[encoded data removed]",
      "text/latex": [
       "$$2$$"
      ],
      "text/plain": [
       "2"
      ]
     },
     "execution_count": 69,
     "metadata": {},
     "output_type": "execute_result"
    }
   ],
   "source": [
    "x4 = A_4.det() / A.det()\n",
    "x4"
   ]
  },
  {
   "cell_type": "markdown",
   "metadata": {},
   "source": [
    "### Метод Гаусса\n",
    "\n",
    "Запишем расширенную матрицу:\n",
    "\n",
    "$\n",
    " \\left(\\begin{array}{cccc|c}\n",
    "8 & -5 & -2 & - 2 &  35 \\\\\n",
    "-2 & 4 & -4 & 1 &  -8 \\\\\n",
    "-2 & 1 & 4 & 4 & -11 \\\\\n",
    "4 & 1 & 3 & 10 & 10 \n",
    " \\end{array}\\right)\n",
    " $\n",
    " \n",
    "Умножим 2-ую и 3-ю строки на 4, 4-ую - на -2 и сложим с 1-ой:\n",
    " \n",
    " $\n",
    " \\left(\\begin{array}{cccc|c}\n",
    "8 & -5 & -2 & - 2 &  35 \\\\\n",
    "0 & 11 & -18 & 2 &  3 \\\\\n",
    "0 & -1 & 14 & 14 & -9 \\\\\n",
    "0 & -7 & -8 & -22 & 15\n",
    " \\end{array}\\right)\n",
    " $\n",
    " \n",
    " Умножим 3-ю строчку на 11 и сложим со 2-й; умножим 2-ую на 7, 4-ую - на 11 и сложим:\n",
    " \n",
    " $\n",
    " \\left(\\begin{array}{cccc|c}\n",
    "8 & -5 & -2 & - 2 &  35 \\\\\n",
    "0 & 11 & -18 & 2 &  3 \\\\\n",
    "0 & 0 & 136 & 156 & -96 \\\\\n",
    "0 & 0 & -214 & -228 & 186\n",
    " \\end{array}\\right) \n",
    " $\n",
    " \n",
    " Поделим 3-ю строчку на 4, 4-ую - на 2:\n",
    " \n",
    " $\n",
    " \\left(\\begin{array}{cccc|c}\n",
    "8 & -5 & -2 & - 2 &  35 \\\\\n",
    "0 & 11 & -18 & 2 &  3 \\\\\n",
    "0 & 0 & 34 & 39 & -24 \\\\\n",
    "0 & 0 & -107 & -114 & 93\n",
    " \\end{array}\\right) \n",
    " $\n",
    "\n",
    "Умножим 3-ю строчку на 107, 4-ую - на 34 и сложим:\n",
    "\n",
    " $\n",
    " \\left(\\begin{array}{cccc|c}\n",
    "8 & -5 & -2 & - 2 &  35 \\\\\n",
    "0 & 11 & -18 & 2 &  3 \\\\\n",
    "0 & 0 & 34 & 39 & -24 \\\\\n",
    "0 & 0 & 0 & 297 & 594\n",
    " \\end{array}\\right) \n",
    " $\n",
    " \n",
    " Поделим 4-ю на 297:\n",
    " \n",
    "  $\n",
    " \\left(\\begin{array}{cccc|c}\n",
    "8 & -5 & -2 & - 2 &  35 \\\\\n",
    "0 & 11 & -18 & 2 &  3 \\\\\n",
    "0 & 0 & 34 & 39 & -24 \\\\\n",
    "0 & 0 & 0 & 1 & 2\n",
    " \\end{array}\\right) \n",
    " $\n",
    " \n",
    "4-ая строка означает: $x_4 = 2 $.\n",
    " \n",
    "Подставим в 3-е уравнение:\n",
    " \n",
    " $x_4 = 2 \\implies 34x_3 + 39*2 = -24 \\implies  34x_3 = -102 \\implies x_3 = -3$\n",
    " \n",
    " Подставим в 2-е уравнение:\n",
    " \n",
    " $x_4 = 2 , x_3 = -3 \\implies 11x_2 - 18 * (-3) + 2 * 2 = 3 \\implies 11x_2 = -55 \\implies x_2 = -5$\n",
    " \n",
    " Подставим в 1-ое уравнение:\n",
    " \n",
    " $x_4 = 2 , x_3 = -3, x_2 = -5 \\implies 8x_1 - 5 * (-5) - 2 * (-3) - 2 * 2 = 35 \\implies 8x_1 = 8 \\implies x_1 = 1$"
   ]
  },
  {
   "cell_type": "markdown",
   "metadata": {},
   "source": [
    "## Ответ / Answer: (1, -5, -3, 2)."
   ]
  },
  {
   "cell_type": "code",
   "execution_count": 57,
   "metadata": {},
   "outputs": [
    {
     "data": {
      "image/png": "[encoded data removed]",
      "text/latex": [
       "$$\\left \\{ a : 1, \\quad b : -5, \\quad c : -3, \\quad d : 2\\right \\}$$"
      ],
      "text/plain": [
       "{a: 1, b: -5, c: -3, d: 2}"
      ]
     },
     "execution_count": 57,
     "metadata": {},
     "output_type": "execute_result"
    }
   ],
   "source": [
    "from sympy.abc import a,b,c,d\n",
    "system = sympy.Matrix([[8,-5,-2, -2,35],[-2,4, -4, 1,-8] ,[-2,1,4,4,-11],[4,1,3,10,10]])\n",
    "sympy.solve_linear_system(system, a,b,c,d)"
   ]
  }
 ],
 "metadata": {
  "kernelspec": {
   "display_name": "Python 3",
   "language": "python",
   "name": "python3"
  },
  "language_info": {
   "codemirror_mode": {
    "name": "ipython",
    "version": 3
   },
   "file_extension": ".py",
   "mimetype": "text/x-python",
   "name": "python",
   "nbconvert_exporter": "python",
   "pygments_lexer": "ipython3",
   "version": "3.6.4"
  }
 },
 "nbformat": 4,
 "nbformat_minor": 2
}
