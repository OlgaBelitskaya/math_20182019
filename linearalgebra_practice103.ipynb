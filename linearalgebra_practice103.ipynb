{
 "cells": [
  {
   "cell_type": "code",
   "execution_count": 1,
   "metadata": {},
   "outputs": [
    {
     "data": {
      "text/html": [
       "<style>\n",
       "@import url('https://fonts.googleapis.com/css?family=Roboto&effect=3d|brick-sign|');\n",
       "span {font-family:Roboto; color:black; text-shadow:4px 4px 4px #aaa;}  \n",
       "h1,h2 {font-family:Roboto; color:slategray; text-shadow:4px 4px 4px #aaa;} \n",
       "div.output_subarea, div.output_area pre{font-family:Roboto; font_size:120%; color:darkblue;}\n",
       "</style> "
      ],
      "text/plain": [
       "<IPython.core.display.HTML object>"
      ]
     },
     "metadata": {},
     "output_type": "display_data"
    }
   ],
   "source": [
    "%%html\n",
    "<style>\n",
    "@import url('https://fonts.googleapis.com/css?family=Roboto&effect=3d|brick-sign|');\n",
    "span {font-family:Roboto; color:black; text-shadow:4px 4px 4px #aaa;}  \n",
    "h1,h2 {font-family:Roboto; color:slategray; text-shadow:4px 4px 4px #aaa;} \n",
    "div.output_subarea, div.output_area pre{font-family:Roboto; font_size:120%; color:darkblue;}\n",
    "</style> "
   ]
  },
  {
   "cell_type": "code",
   "execution_count": 2,
   "metadata": {},
   "outputs": [],
   "source": [
    "import math, sympy, numpy\n",
    "sympy.init_printing(use_unicode=True)\n",
    "from sympy import *\n",
    "import pylab as plt\n",
    "%matplotlib inline"
   ]
  },
  {
   "cell_type": "markdown",
   "metadata": {},
   "source": [
    "# Типовой расчет 3 / Standard Calculation 3"
   ]
  },
  {
   "cell_type": "markdown",
   "metadata": {},
   "source": [
    "## Постановка  задачи / Formulation of the problem:\n",
    "Решить систему линейных алгебраических уравнений двумя способами: по правилу Крамера и методом Гаусса\n",
    "        \n",
    "$\n",
    "\\begin{cases}\n",
    "8x_1 - 5x_2 - 2x_3 - 2x_4 = 35 \\\\\n",
    "-2x_1 + 4x_2 - 4x_3 + x_4 = -8 \\\\\n",
    "-2x_1 + x_2 + 4x_3 + 4x_4 = -11 \\\\\n",
    "4x_1 + x_2 + 3x_3 + 10x_4 = 10\\\\\n",
    "\\end{cases}\n",
    "$"
   ]
  },
  {
   "cell_type": "markdown",
   "metadata": {},
   "source": [
    "## Решение / Decisions:"
   ]
  },
  {
   "cell_type": "markdown",
   "metadata": {},
   "source": [
    "### Метод Гаусса\n",
    "\n",
    "Матричный вид записи: Ax=b, где\n",
    "    \n",
    "$ A = \n",
    "\\begin{bmatrix}\n",
    "8 & -5 & -2 & - 2  \\\\\n",
    "-2 & 4 & -4 & 1 \\\\\n",
    "-2 & 1 & 4 & 4 \\\\\n",
    "4 & 1 & 3 & 10\n",
    " \\end{bmatrix}, \\ \n",
    "b = \n",
    "\\begin{bmatrix}\n",
    "35 \\\\ -8 \\\\ -11 \\\\ 10\n",
    " \\end{bmatrix}\n",
    "$.\n",
    "\n",
    "Запишем расширенную матрицу:\n",
    "\n",
    "$\n",
    " \\left(\\begin{array}{cccc|c}\n",
    "8 & -5 & -2 & - 2 &  35 \\\\\n",
    "-2 & 4 & -4 & 1 &  -8 \\\\\n",
    "-2 & 1 & 4 & 4 & -11 \\\\\n",
    "4 & 1 & 3 & 10 & 10 \n",
    " \\end{array}\\right)\n",
    " $\n",
    " \n",
    "Сложим 2-ую и 3-ю строки на 4, 4-ую - на -2 и сложим с 1-ой:\n",
    " \n",
    " $\n",
    " \\left(\\begin{array}{cccc|c}\n",
    "8 & -5 & -2 & - 2 &  35 \\\\\n",
    "0 & 11 & -18 & 2 &  3 \\\\\n",
    "0 & -1 & 14 & 14 & -9 \\\\\n",
    "0 & -7 & -8 & -22 & 15\n",
    " \\end{array}\\right)\n",
    " $\n",
    " \n",
    " Умножим 3-ю строчку на 11 и сложим со 2-й, умножим 2-ую на 7, 4-ую - на 11 и сложим:\n",
    " \n",
    " $\n",
    " \\left(\\begin{array}{cccc|c}\n",
    "8 & -5 & -2 & - 2 &  35 \\\\\n",
    "0 & 11 & -18 & 2 &  3 \\\\\n",
    "0 & 0 & 136 & 156 & -96 \\\\\n",
    "0 & 0 & -214 & -228 & 186\n",
    " \\end{array}\\right) \n",
    " $\n",
    " \n",
    " Поделим 3-ю строчку на 4, 4-ую - на 2:\n",
    " \n",
    " $\n",
    " \\left(\\begin{array}{cccc|c}\n",
    "8 & -5 & -2 & - 2 &  35 \\\\\n",
    "0 & 11 & -18 & 2 &  3 \\\\\n",
    "0 & 0 & 34 & 39 & -24 \\\\\n",
    "0 & 0 & -107 & -114 & 93\n",
    " \\end{array}\\right) \n",
    " $\n",
    "\n",
    "Умножим 3-ю строчку на 107, 4-ую - на 34 и сложим:\n",
    "\n",
    " $\n",
    " \\left(\\begin{array}{cccc|c}\n",
    "8 & -5 & -2 & - 2 &  35 \\\\\n",
    "0 & 11 & -18 & 2 &  3 \\\\\n",
    "0 & 0 & 34 & 39 & -24 \\\\\n",
    "0 & 0 & 0 & 297 & 594\n",
    " \\end{array}\\right) \n",
    " $\n",
    " \n",
    " Поделим 4-ю на 297:\n",
    " \n",
    "  $\n",
    " \\left(\\begin{array}{cccc|c}\n",
    "8 & -5 & -2 & - 2 &  35 \\\\\n",
    "0 & 11 & -18 & 2 &  3 \\\\\n",
    "0 & 0 & 34 & 39 & -24 \\\\\n",
    "0 & 0 & 0 & 1 & 2\n",
    " \\end{array}\\right) \n",
    " $\n",
    " \n",
    "4-ая строка означает: $x_4 = 2 $.\n",
    " \n",
    "Подставим в 3-е уравнение:\n",
    " \n",
    " $x_4 = 2 \\implies 34x_3 + 39*2 = -24 \\implies  34x_3 = -102 \\implies x_3 = -3$\n",
    " \n",
    " Подставим в 2-е уравнение:\n",
    " \n",
    " $x_4 = 2 , x_3 = -3 \\implies 11x_2 - 18 * (-3) + 2 * 2 = 3 \\implies 11x_2 = -55 \\implies x_2 = -5$\n",
    " \n",
    " Подставим в 1-ое уравнение:\n",
    " \n",
    " $x_4 = 2 , x_3 = -3, x_2 = -5 \\implies 8x_1 - 5 * (-5) - 2 * (-3) - 2 * 2 = 35 \\implies 8x_1 = 8 \\implies x_1 = 1$"
   ]
  },
  {
   "cell_type": "markdown",
   "metadata": {},
   "source": [
    "## Ответ / Answer: (1, -5, -3, 2)."
   ]
  },
  {
   "cell_type": "code",
   "execution_count": 4,
   "metadata": {},
   "outputs": [
    {
     "data": {
      "image/png": "[encoded data removed]",
      "text/latex": [
       "$$\\left \\{ a : 1, \\quad b : -5, \\quad c : -3, \\quad d : 2\\right \\}$$"
      ],
      "text/plain": [
       "{a: 1, b: -5, c: -3, d: 2}"
      ]
     },
     "execution_count": 4,
     "metadata": {},
     "output_type": "execute_result"
    }
   ],
   "source": [
    "from sympy.abc import a,b,c,d\n",
    "system = sympy.Matrix([[8,-5,-2, -2,35],[-2,4, -4, 1,-8] ,[-2,1,4,4,-11],[4,1,3,10,10]])\n",
    "sympy.solve_linear_system(system, a,b,c,d)"
   ]
  }
 ],
 "metadata": {
  "kernelspec": {
   "display_name": "Python 3",
   "language": "python",
   "name": "python3"
  },
  "language_info": {
   "codemirror_mode": {
    "name": "ipython",
    "version": 3
   },
   "file_extension": ".py",
   "mimetype": "text/x-python",
   "name": "python",
   "nbconvert_exporter": "python",
   "pygments_lexer": "ipython3",
   "version": "3.6.4"
  }
 },
 "nbformat": 4,
 "nbformat_minor": 2
}
