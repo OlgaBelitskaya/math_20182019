{
 "cells": [
  {
   "cell_type": "code",
   "execution_count": 1,
   "metadata": {},
   "outputs": [
    {
     "data": {
      "text/html": [
       "<style>\n",
       "@import url('https://fonts.googleapis.com/css?family=Roboto&effect=3d|brick-sign|');\n",
       "span {font-family:Roboto; color:black; text-shadow:4px 4px 4px #aaa;}  \n",
       "h1,h2 {font-family:Roboto; color:slategray; text-shadow:4px 4px 4px #aaa;} \n",
       "div.output_subarea, div.output_area pre{font-family:Roboto; font_size:120%; color:darkblue;}\n",
       "</style> "
      ],
      "text/plain": [
       "<IPython.core.display.HTML object>"
      ]
     },
     "metadata": {},
     "output_type": "display_data"
    }
   ],
   "source": [
    "%%html\n",
    "<style>\n",
    "@import url('https://fonts.googleapis.com/css?family=Roboto&effect=3d|brick-sign|');\n",
    "span {font-family:Roboto; color:black; text-shadow:4px 4px 4px #aaa;}  \n",
    "h1,h2 {font-family:Roboto; color:slategray; text-shadow:4px 4px 4px #aaa;} \n",
    "div.output_subarea, div.output_area pre{font-family:Roboto; font_size:120%; color:darkblue;}\n",
    "</style> "
   ]
  },
  {
   "cell_type": "code",
   "execution_count": 2,
   "metadata": {},
   "outputs": [],
   "source": [
    "import math, sympy, numpy\n",
    "sympy.init_printing(use_unicode=True)\n",
    "from sympy import *\n",
    "import pylab as plt\n",
    "%matplotlib inline"
   ]
  },
  {
   "cell_type": "markdown",
   "metadata": {},
   "source": [
    "[Computer Algebra I: Mathematica, SymPy, Sage, Maxima](http://hyperpolyglot.org/computer-algebra2)\n",
    "\n",
    "[Sympy. Matrices](https://docs.sympy.org/latest/tutorial/matrices.html)"
   ]
  },
  {
   "cell_type": "markdown",
   "metadata": {},
   "source": [
    "# Типовой расчет 5 / Standard Calculation 5"
   ]
  },
  {
   "cell_type": "markdown",
   "metadata": {},
   "source": [
    "## Постановка  задачи / Formulation of the problem:\n",
    "Решить систему линейных алгебраических уравнений методом Гаусса\n",
    "\n",
    "$\n",
    "\\begin{cases}\n",
    "2x_1 + 3x_2 + 2x_3 - 3x_4 - 9x_5 - 9x_6 = 0 \\\\\n",
    "2x_1 - 2x_2 - 3x_3 - 3x_4 + x_5 + 6x_6 = 0 \\\\\n",
    "-x_1 + 2x_2 + x_3 + 3x_4 - x_5 - 3x_6 = 0 \\\\\n",
    "6x_1 - 3x_2 - 3x_3 - 12x_4 - 6x_5 + 3x_6 = 0 \\\\\n",
    "\\end{cases}\n",
    "$."
   ]
  },
  {
   "cell_type": "markdown",
   "metadata": {},
   "source": [
    "**Решение.**\n",
    "\n",
    "Число уравнений *меньше* числа неизвестных переменных, \n",
    "\n",
    "значит система *совместна* и имеет *бесконечное множество решений*.\n",
    "\n",
    "Матричный вид записи: $Ax = b$, где\n",
    "    \n",
    "$ A = \n",
    "\\begin{bmatrix}\n",
    "2 & 3 & 2 & -3 & -9 & -9  \\\\\n",
    "2 & -2 & -3 & -3 & 1 & 6 \\\\\n",
    "-1 & 2 & 1 & 3 & -1 & -3 \\\\\n",
    "6 & -3 & -3 & -12 & -6 & 3\n",
    " \\end{bmatrix}, \\ \n",
    "b = \n",
    "\\begin{bmatrix}\n",
    "0 \\\\ 0 \\\\ 0 \\\\ 0\n",
    " \\end{bmatrix}\n",
    "$.\n",
    "\n",
    "Все коэффициенты $b_1 = b_2 = b_3 = b_4 = 0$, \n",
    "\n",
    "значит система является *однородной*."
   ]
  },
  {
   "cell_type": "markdown",
   "metadata": {},
   "source": [
    "Выполним элементарные преобразования матрицы $A$\n",
    "\n",
    "$ \n",
    "\\begin{bmatrix}\n",
    "2 & 3 & 2 & -3 & -9 & -9  \\\\\n",
    "2 & -2 & -3 & -3 & 1 & 6 \\\\\n",
    "-1 & 2 & 1 & 3 & -1 & -3 \\\\\n",
    "6 & -3 & -3 & -12 & -6 & 3\n",
    " \\end{bmatrix}\n",
    "$.\n",
    "\n",
    "К 3-ей строке прибавим 2-ую, к 4-ой - 1-ую:\n",
    "\n",
    "$ \n",
    "\\begin{bmatrix}\n",
    "2 & 3 & 2 & -3 & -9 & -9  \\\\\n",
    "2 & -2 & -3 & -3 & 1 & 6 \\\\\n",
    "1 & 0 & -2 & 0 & 0 & 3 \\\\\n",
    "8 & 0 & -1 & -15 & -15 & -6\n",
    " \\end{bmatrix}\n",
    "$.\n",
    "\n",
    "Из 1-ой строки вычтем 2-ую, \n",
    "\n",
    "к 4-ой строке прибавим 3-ую, умноженную на 2:\n",
    "\n",
    "$ \n",
    "\\begin{bmatrix}\n",
    "0 & 5 & 5 & 0 & -10 & -15  \\\\\n",
    "2 & -2 & -3 & -3 & 1 & 6 \\\\\n",
    "1 & 0 & -2 & 0 & 0 & 3 \\\\\n",
    "10 & 0 & -5 & -15 & -15 &  0\n",
    " \\end{bmatrix}\n",
    "$.\n",
    "\n",
    "Разделим 1-ую и 4-ую строки на 5,\n",
    "\n",
    "из 2-ой строки вычтем 3-ю, умноженную на 2:\n",
    "\n",
    "$ \n",
    "\\begin{bmatrix}\n",
    "0 & 1 & 1 & 0 & -2 & -3  \\\\\n",
    "0 & -2 & 1 & -3 & 1 & 0 \\\\\n",
    "1 & 0 & -2 & 0 & 0 & 3 \\\\\n",
    "2 & 0 & -1 & -3 & -3 &  0\n",
    " \\end{bmatrix}\n",
    "$.\n",
    "\n",
    "Из 1-ой строки вычтем 2-ую,\n",
    "\n",
    "из 4-ой вычтем 3-ю, умноженную на 2:\n",
    "\n",
    "$ \n",
    "\\begin{bmatrix}\n",
    "0 & 3 & 0 & 3 & -3 & -3  \\\\\n",
    "0 & -2 & 1 & -3 & 1 & 0 \\\\\n",
    "1 & 0 & -2 & 0 & 0 & 3 \\\\\n",
    "0 & 0 & 3 & -3 & -3 &  -6\n",
    " \\end{bmatrix}\n",
    "$.\n",
    "\n",
    "Разделим 1-ую и 4-ую строки на 3:\n",
    "\n",
    "$ \n",
    "\\begin{bmatrix}\n",
    "0 & 1 & 0 & 1 & -1 & -1  \\\\\n",
    "0 & -2 & 1 & -3 & 1 & 0 \\\\\n",
    "1 & 0 & -2 & 0 & 0 & 3 \\\\\n",
    "0 & 0 & 1 & -1 & -1 &  -2\n",
    " \\end{bmatrix}\n",
    "$.\n",
    "\n",
    "Из 2-ой строки вычтем 4-ую,\n",
    "\n",
    "к 3-ей строке прибавим 4-ую, умноженную на 2:\n",
    "\n",
    "$ \n",
    "\\begin{bmatrix}\n",
    "0 & 1 & 0 & 1 & -1 & -1  \\\\\n",
    "0 & -2 & 0 & -2 & 2 & 2 \\\\\n",
    "1 & 0 & 0 & -2 & -2 & -1 \\\\\n",
    "0 & 0 & 1 & -1 & -1 &  -2\n",
    " \\end{bmatrix}\n",
    "$.\n",
    "\n",
    "1-ая и 2-ая строка линейно зависимы, значит 2-ую строку можно исключить:\n",
    "\n",
    "$ \n",
    "\\begin{bmatrix}\n",
    "0 & 1 & 0 & 1 & -1 & -1  \\\\\n",
    "1 & 0 & 0 & -2 & -2 & -1 \\\\\n",
    "0 & 0 & 1 & -1 & -1 &  -2\n",
    " \\end{bmatrix}\n",
    "$."
   ]
  },
  {
   "cell_type": "markdown",
   "metadata": {},
   "source": [
    "Система уравнений примет вид:\n",
    "\n",
    "$\n",
    "\\begin{cases}\n",
    "x_2 + x_4 - x_5 - x_6 = 0 \\\\\n",
    "x_1 - 2x_4 - 2x_5 - x_6 = 0 \\\\\n",
    "x_3 - x_4 - x_5 - 2x_6 = 0 \\\\\n",
    "\\end{cases} \\iff\n",
    "\\begin{cases}\n",
    "x_1 = 2x_4 + 2x_5 + x_6 \\\\\n",
    "x_2 = -x_4 + x_5 + x_6 \\\\\n",
    "x_3 = x_4 + x_5 + 2x_6 \\\\\n",
    "\\end{cases}\n",
    "$.\n",
    "\n",
    "Решение системы уравнений:\n",
    "\n",
    "$\\big(2x_4 + 2x_5 + x_6, \\ -x_4 + x_5 + x_6, \\ x_4 + x_5 + 2x_6, \\ x_4, \\ x_5, \\ x_6\\big)$, где \n",
    "\n",
    "$x_4, x_5, x_6$ - произвольные числа."
   ]
  },
  {
   "cell_type": "code",
   "execution_count": 3,
   "metadata": {},
   "outputs": [
    {
     "data": {
      "image/png": "[encoded data removed]",
      "text/latex": [
       "$$\\left \\{ a : 2 d + 2 e + f, \\quad b : - d + e + f, \\quad c : d + e + 2 f\\right \\}$$"
      ],
      "text/plain": [
       "{a: 2⋅d + 2⋅e + f, b: -d + e + f, c: d + e + 2⋅f}"
      ]
     },
     "execution_count": 3,
     "metadata": {},
     "output_type": "execute_result"
    }
   ],
   "source": [
    "from sympy.abc import a,b,c,d,e,f\n",
    "system = sympy.Matrix([ [2,3,2,-3,-9,-9,0], [2,-2,-3,-3,1,6,0], [-1,2,1,3,-1,-3,0], [6,-3,-3,-12,-6,3,0] ])\n",
    "sympy.solve_linear_system(system, a,b,c,d,e,f)"
   ]
  }
 ],
 "metadata": {
  "kernelspec": {
   "display_name": "Python 3",
   "language": "python",
   "name": "python3"
  },
  "language_info": {
   "codemirror_mode": {
    "name": "ipython",
    "version": 3
   },
   "file_extension": ".py",
   "mimetype": "text/x-python",
   "name": "python",
   "nbconvert_exporter": "python",
   "pygments_lexer": "ipython3",
   "version": "3.6.4"
  }
 },
 "nbformat": 4,
 "nbformat_minor": 2
}
