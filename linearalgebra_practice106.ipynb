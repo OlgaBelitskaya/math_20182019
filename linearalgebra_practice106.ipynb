{
 "cells": [
  {
   "cell_type": "code",
   "execution_count": 1,
   "metadata": {},
   "outputs": [
    {
     "data": {
      "text/html": [
       "<style>\n",
       "@import url('https://fonts.googleapis.com/css?family=Roboto&effect=3d|brick-sign|');\n",
       "span {font-family:Roboto; color:black; text-shadow:4px 4px 4px #aaa;}  \n",
       "h1,h2 {font-family:Roboto; color:slategray; text-shadow:4px 4px 4px #aaa;} \n",
       "div.output_subarea, div.output_area pre{font-family:Roboto; font_size:120%; color:darkblue;}\n",
       "</style> "
      ],
      "text/plain": [
       "<IPython.core.display.HTML object>"
      ]
     },
     "metadata": {},
     "output_type": "display_data"
    }
   ],
   "source": [
    "%%html\n",
    "<style>\n",
    "@import url('https://fonts.googleapis.com/css?family=Roboto&effect=3d|brick-sign|');\n",
    "span {font-family:Roboto; color:black; text-shadow:4px 4px 4px #aaa;}  \n",
    "h1,h2 {font-family:Roboto; color:slategray; text-shadow:4px 4px 4px #aaa;} \n",
    "div.output_subarea, div.output_area pre{font-family:Roboto; font_size:120%; color:darkblue;}\n",
    "</style> "
   ]
  },
  {
   "cell_type": "code",
   "execution_count": 2,
   "metadata": {},
   "outputs": [],
   "source": [
    "import math, sympy, numpy\n",
    "sympy.init_printing(use_unicode=True)\n",
    "from sympy import *\n",
    "import pylab as plt\n",
    "%matplotlib inline"
   ]
  },
  {
   "cell_type": "markdown",
   "metadata": {},
   "source": [
    "[Computer Algebra I: Mathematica, SymPy, Sage, Maxima](http://hyperpolyglot.org/computer-algebra2)\n",
    "\n",
    "[Sympy. Matrices](https://docs.sympy.org/latest/tutorial/matrices.html)"
   ]
  },
  {
   "cell_type": "markdown",
   "metadata": {},
   "source": [
    "# Типовой расчет 6 / Standard Calculation 6"
   ]
  },
  {
   "cell_type": "markdown",
   "metadata": {},
   "source": [
    "## Постановка  задачи / Formulation of the problem:\n",
    "Найти общее решение системы линейных алгебраических уравнений \n",
    "\n",
    "$\n",
    "\\begin{cases}\n",
    "x_1 + 3x_2 + x_3 - 3x_5 - 6x_6 = 47 \\\\\n",
    "x_1  + x_2 + 3x_3 - 4x_4 - 3x_5 - 8x_6 = 55 \\\\\n",
    "-x_1 + x_2 - 3x_3 + 6x_4 + x_5 + 6x_6 = -33 \\\\\n",
    "x_1 - x_2 + 3x_3 - 6x_4 - x_5 - 6x_6 = 33 \\\\\n",
    "\\end{cases}\n",
    "$."
   ]
  },
  {
   "cell_type": "markdown",
   "metadata": {},
   "source": [
    "**Решение.**\n",
    "\n",
    "Число уравнений *меньше* числа неизвестных переменных, \n",
    "\n",
    "значит система *совместна* и имеет *бесконечное множество решений*. \n",
    "\n",
    "Матричный вид записи: $Ax = b$, где\n",
    "    \n",
    "$ A = \n",
    "\\begin{bmatrix}\n",
    "1 & 3 & 1 & 0 & -3 & -6  \\\\\n",
    "1 & 1 & 3 & -4 & -3 & -8 \\\\\n",
    "-1 & 1 & -3 & 6 & 1 & 6 \\\\\n",
    "1 & -1 & 3 & -6 & -1 & -6\n",
    " \\end{bmatrix}, \\ \n",
    "b = \n",
    "\\begin{bmatrix}\n",
    "47 \\\\ 55 \\\\ -33 \\\\ 33\n",
    " \\end{bmatrix}\n",
    "$.\n",
    "\n",
    "Система является *неоднородной*.\n",
    "\n",
    "Заметим, что 3-я и 4-ая строки *линейно зависимы*  \n",
    "\n",
    "(при умножении на -1 из 3-его уравнения получается 4-ое) \n",
    "\n",
    "$\\implies$ 4-ую строку можно исключить."
   ]
  },
  {
   "cell_type": "markdown",
   "metadata": {},
   "source": [
    "Применим метод Гаусса и преобразуем расширенную матрицу:\n",
    "    \n",
    "$\n",
    " \\left(\\begin{array}{cccccc|c}\n",
    "1 & 3 & 1 & 0 & -3 & -6 & 47 \\\\\n",
    "1 & 1 & 3 & -4 & -3 & -8 & 55 \\\\\n",
    "-1 & 1 & -3 & 6 & 1 & 6 & -33 \\\\\n",
    " \\end{array}\\right)\n",
    " $\n",
    " \n",
    " К 1-ой и 2-ой строке прибавим 3-ю:\n",
    " \n",
    " $\n",
    " \\left(\\begin{array}{cccccc|c}\n",
    "0 & 4 & -2 & 6 & -2 & 0 & 14 \\\\\n",
    "0 & 2 & 0 & 2 & -2 & -2 & 22 \\\\\n",
    "-1 & 1 & -3 & 6 & 1 & 6 & -33 \\\\\n",
    " \\end{array}\\right)\n",
    " $\n",
    " \n",
    " Разделим 2-ую строку на 2:\n",
    " \n",
    " $\n",
    " \\left(\\begin{array}{cccccc|c}\n",
    "0 & 4 & -2 & 6 & -2 & 0 & 14 \\\\\n",
    "0 & 1 & 0 & 1 & -1 & -1 & 11 \\\\\n",
    "-1 & 1 & -3 & 6 & 1 & 6 & -33 \\\\\n",
    " \\end{array}\\right)\n",
    " $\n",
    " \n",
    " Из 1-ой строки вычтем 2-ую, умноженную на 4,\n",
    " \n",
    " из 3-ей строки вычтем 2-ую:\n",
    " \n",
    " $\n",
    " \\left(\\begin{array}{cccccc|c}\n",
    "0 & 0 & -2 & 2 & 2 & 4 & -30 \\\\\n",
    "0 & 1 & 0 & 1 & -1 & -1 & 11 \\\\\n",
    "-1 & 0 & -3 & 5 & 2 & 7 & -44 \\\\\n",
    " \\end{array}\\right)\n",
    " $\n",
    " \n",
    " Разделим 1-ую строку на -2, а 3-ю - на -1:\n",
    " \n",
    " $\n",
    " \\left(\\begin{array}{cccccc|c}\n",
    "0 & 0 & 1 & -1 & -1 & -2 & 15 \\\\\n",
    "0 & 1 & 0 & 1 & -1 & -1 & 11 \\\\\n",
    "1 & 0 & 3 & -5 & -2 & -7 & 44 \\\\\n",
    " \\end{array}\\right)\n",
    " $\n",
    " \n",
    " Из 3-ей строки вычтем 1-ую, умноженную на 3:\n",
    " \n",
    " $\n",
    " \\left(\\begin{array}{cccccc|c}\n",
    "0 & 0 & 1 & -1 & -1 & -2 & 15 \\\\\n",
    "0 & 1 & 0 & 1 & -1 & -1 & 11 \\\\\n",
    "1 & 0 & 0 & -2 & 1 & -1 & -1 \\\\\n",
    " \\end{array}\\right)\n",
    " $"
   ]
  },
  {
   "cell_type": "markdown",
   "metadata": {},
   "source": [
    "Система уравнений примет вид:\n",
    "\n",
    "$\n",
    "\\begin{cases}\n",
    "x_3 - x_4 - x_5 - 2x_6 = 15 \\\\\n",
    "x_2 + x_4 - x_5 - x_6 = 11 \\\\\n",
    "x_1 - 2x_4 + x_5 - x_6 = -1 \\\\\n",
    "\\end{cases} \\iff\n",
    "\\begin{cases}\n",
    "x_1 = 2x_4 - x_5 + x_6 - 1 \\\\\n",
    "x_2 = -x_4 + x_5 + x_6 + 11 \\\\\n",
    "x_3 = x_4 + x_5 + 2x_6 + 15\\\\\n",
    "\\end{cases}\n",
    "$.\n",
    "\n",
    "Решение системы уравнений:\n",
    "\n",
    "$\\big(2x_4 - x_5 + x_6 - 1, \\ -x_4 + x_5 + x_6 + 11, \\ x_4 + x_5 + 2x_6 + 15, \\ x_4, \\ x_5, \\ x_6\\big)$, \n",
    "\n",
    "где $x_4, x_5, x_6$ - произвольные числа."
   ]
  },
  {
   "cell_type": "code",
   "execution_count": 6,
   "metadata": {},
   "outputs": [
    {
     "data": {
      "image/png": "[encoded data removed]",
      "text/latex": [
       "$$\\left \\{ a : 2 d - e + f - 1, \\quad b : - d + e + f + 11, \\quad c : d + e + 2 f + 15\\right \\}$$"
      ],
      "text/plain": [
       "{a: 2⋅d - e + f - 1, b: -d + e + f + 11, c: d + e + 2⋅f + 15}"
      ]
     },
     "execution_count": 6,
     "metadata": {},
     "output_type": "execute_result"
    }
   ],
   "source": [
    "from sympy.abc import a,b,c,d,e,f\n",
    "system = sympy.Matrix([ [1,3,1,0,-3,-6,47] , [1,1,3 ,-4,-3,-8,55], [-1,1,-3,6,1,6,-33], [1,-1,3,-6,-1,-6,33] ])\n",
    "sympy.solve_linear_system(system, a,b,c,d,e,f)"
   ]
  }
 ],
 "metadata": {
  "kernelspec": {
   "display_name": "Python 3",
   "language": "python",
   "name": "python3"
  },
  "language_info": {
   "codemirror_mode": {
    "name": "ipython",
    "version": 3
   },
   "file_extension": ".py",
   "mimetype": "text/x-python",
   "name": "python",
   "nbconvert_exporter": "python",
   "pygments_lexer": "ipython3",
   "version": "3.6.4"
  }
 },
 "nbformat": 4,
 "nbformat_minor": 2
}
