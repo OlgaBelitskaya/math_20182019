{
 "cells": [
  {
   "cell_type": "code",
   "execution_count": 3,
   "metadata": {},
   "outputs": [
    {
     "data": {
      "text/html": [
       "<style>\n",
       "@import url('https://fonts.googleapis.com/css?family=Roboto&effect=3d|brick-sign|');\n",
       "span {font-family:Roboto; color:black; text-shadow:4px 4px 4px #aaa;}  \n",
       "h1,h2 {font-family:Roboto; color:slategray; text-shadow:4px 4px 4px #aaa;} \n",
       "div.output_subarea, div.output_area pre{font-family:Roboto; font_size:120%; color:darkblue;}\n",
       "</style> "
      ],
      "text/plain": [
       "<IPython.core.display.HTML object>"
      ]
     },
     "metadata": {},
     "output_type": "display_data"
    }
   ],
   "source": [
    "%%html\n",
    "<style>\n",
    "@import url('https://fonts.googleapis.com/css?family=Roboto&effect=3d|brick-sign|');\n",
    "span {font-family:Roboto; color:black; text-shadow:4px 4px 4px #aaa;}  \n",
    "h1,h2 {font-family:Roboto; color:slategray; text-shadow:4px 4px 4px #aaa;} \n",
    "div.output_subarea, div.output_area pre{font-family:Roboto; font_size:120%; color:darkblue;}\n",
    "</style> "
   ]
  },
  {
   "cell_type": "code",
   "execution_count": 4,
   "metadata": {},
   "outputs": [],
   "source": [
    "import math, sympy, numpy\n",
    "from sympy import *\n",
    "sympy.init_printing(use_unicode=True)\n",
    "import pylab as plt\n",
    "%matplotlib inline"
   ]
  },
  {
   "cell_type": "markdown",
   "metadata": {},
   "source": [
    "[GeoGebra](https://www.geogebra.org/graphing?lang=en)\n",
    "\n",
    "[LaTeX/Mathematics](https://en.wikibooks.org/wiki/LaTeX/Mathematics)\n",
    "\n",
    "[Math24.ru. Ряды Тейлора и Маклорена](http://www.math24.ru/%D1%80%D1%8F%D0%B4%D1%8B-%D1%82%D0%B5%D0%B9%D0%BB%D0%BE%D1%80%D0%B0-%D0%B8-%D0%BC%D0%B0%D0%BA%D0%BB%D0%BE%D1%80%D0%B5%D0%BD%D0%B0.html)\n",
    "\n",
    "[Math24.ru. Бесконечно малые функции](http://www.math24.ru/%D0%B1%D0%B5%D1%81%D0%BA%D0%BE%D0%BD%D0%B5%D1%87%D0%BD%D0%BE-%D0%BC%D0%B0%D0%BB%D1%8B%D0%B5-%D1%84%D1%83%D0%BD%D0%BA%D1%86%D0%B8%D0%B8.html)\n",
    "\n",
    "[Math24.ru. Точки разрыва функции](http://www.math24.ru/%D1%82%D0%BE%D1%87%D0%BA%D0%B8-%D1%80%D0%B0%D0%B7%D1%80%D1%8B%D0%B2%D0%B0-%D1%84%D1%83%D0%BD%D0%BA%D1%86%D0%B8%D0%B8.html)\n",
    "\n",
    "[ SymPy Modules Reference. Calculus](https://docs.sympy.org/latest/modules/calculus/index.html)\n",
    "\n",
    "[Sympy : Symbolic Mathematics in Python](https://www.scipy-lectures.org/advanced/sympy.html)"
   ]
  },
  {
   "cell_type": "markdown",
   "metadata": {},
   "source": [
    "# Вариант 22\n",
    "\n",
    "# Дифференцирование и приложения"
   ]
  },
  {
   "cell_type": "markdown",
   "metadata": {},
   "source": [
    "## Типовой расчет №1\n",
    "\n",
    "Исходя из определения производной, найти $f'(0)$.\n",
    "\n",
    "$\\large{\\displaystyle{ f(x) = \\begin{cases}\n",
    "x + \\arcsin\\Big[ x^2 \\sin\\Big(\\frac{6}{x}\\Big)\\Big],  \\forall x: x \\neq 0 \\\\\n",
    "0, x = 0\n",
    "\\end{cases} }}$"
   ]
  },
  {
   "cell_type": "markdown",
   "metadata": {},
   "source": [
    "## Решение\n",
    "\n",
    "По определению производной\n",
    "\n",
    "$\\large{\\displaystyle{ f'(0) = \\lim_{\\Delta x \\to 0} \\frac { f(0 + \\Delta x) - f(0)}{ \\Delta x} = \\lim_{\\Delta x \\to 0} \\frac {\\Delta x + \\arcsin\\Big[ \\Delta x^2 \\sin\\Big(\\frac{6}{\\Delta x}\\Big)\\Big]}{ \\Delta x}}}$,\n",
    "\n",
    "если этот предел существует и конечен.\n",
    "\n",
    "Т.к. $\\Delta x^2 \\to 0$  при $\\Delta x \\to 0$ и $| \\sin\\Big(\\frac{6}{\\Delta x}\\Big) | \\leq 1$ при $\\Delta x \\neq 0$, \n",
    "\n",
    "то по теореме о произведении бесконечно малой функции на ограниченную получим при $\\Delta x \\to 0$:\n",
    "\n",
    "$\\large{\\displaystyle{ \\Delta x^2 \\sin\\Big(\\frac{6}{\\Delta x}\\Big) \\to 0 \\implies \\Delta x + \\arcsin\\Big[ \\Delta x^2 \\sin\\Big(\\frac{6}{\\Delta x}\\Big)\\Big] \\to 0}}$.\n",
    "\n",
    "Числитель и знаменатель дроби стремятся к 0 при $\\Delta x \\to 0$, \n",
    "\n",
    "значит дробь является неопределенным выражением вида $\\big[\\frac{0}{0}\\big]$ при $\\Delta x \\to 0$."
   ]
  },
  {
   "cell_type": "markdown",
   "metadata": {},
   "source": [
    "Для раскрытия неопределенности преобразуем функцию, \n",
    "\n",
    "используя формулу эквивалентности $\\arcsin t \\sim t$ при $t \\to 0$:\n",
    "\n",
    "$\\large{\\displaystyle{ f'(0) = \\lim_{\\Delta x \\to 0} \\frac {\\Delta x + \\Delta x^2 \\sin\\Big(\\frac{6}{\\Delta x}\\big)}{ \\Delta x} = \\lim_{\\Delta x \\to 0} \\big[1 + \\Delta x \\sin\\Big(\\frac{6}{\\Delta x}\\Big) \\big] = 1 + 0 = 1}}$\n",
    "\n",
    "Заметим, что и $\\large{\\displaystyle{ \\Delta x \\sin\\Big(\\frac{6}{\\Delta x}\\Big) \\to 0 }}$ при $\\Delta x \\to 0$.\n",
    "\n",
    "## Ответ\n",
    "\n",
    "$\\large{\\displaystyle{f'(0) = 1}}$."
   ]
  },
  {
   "cell_type": "code",
   "execution_count": 45,
   "metadata": {},
   "outputs": [],
   "source": [
    "x = Symbol('x')\n",
    "f = x + asin(x ** 2 * sin ( 6 / x))"
   ]
  },
  {
   "cell_type": "code",
   "execution_count": 46,
   "metadata": {},
   "outputs": [
    {
     "data": {
      "image/png": "[encoded data removed]",
      "text/latex": [
       "$$0$$"
      ],
      "text/plain": [
       "0"
      ]
     },
     "execution_count": 46,
     "metadata": {},
     "output_type": "execute_result"
    }
   ],
   "source": [
    "f.evalf(subs={x:0})"
   ]
  },
  {
   "cell_type": "code",
   "execution_count": 47,
   "metadata": {},
   "outputs": [
    {
     "data": {
      "image/png": "[encoded data removed]",
      "text/latex": [
       "$$\\frac{2 x \\sin{\\left (\\frac{6}{x} \\right )} - 6 \\cos{\\left (\\frac{6}{x} \\right )}}{\\sqrt{- x^{4} \\sin^{2}{\\left (\\frac{6}{x} \\right )} + 1}} + 1$$"
      ],
      "text/plain": [
       "       ⎛6⎞        ⎛6⎞     \n",
       "2⋅x⋅sin⎜─⎟ - 6⋅cos⎜─⎟     \n",
       "       ⎝x⎠        ⎝x⎠     \n",
       "────────────────────── + 1\n",
       "    __________________    \n",
       "   ╱    4    2⎛6⎞         \n",
       "  ╱  - x ⋅sin ⎜─⎟ + 1     \n",
       "╲╱            ⎝x⎠         "
      ]
     },
     "execution_count": 47,
     "metadata": {},
     "output_type": "execute_result"
    }
   ],
   "source": [
    "diff(f, x)"
   ]
  },
  {
   "cell_type": "code",
   "execution_count": 48,
   "metadata": {},
   "outputs": [
    {
     "data": {
      "image/png": "[encoded data removed]",
      "text/latex": [
       "$$1 - 6 \\cos{\\left (\\tilde{\\infty} \\right )}$$"
      ],
      "text/plain": [
       "1 - 6⋅cos(zoo)"
      ]
     },
     "execution_count": 48,
     "metadata": {},
     "output_type": "execute_result"
    }
   ],
   "source": [
    "diff(f, x).subs(x, 0)"
   ]
  },
  {
   "cell_type": "code",
   "execution_count": 80,
   "metadata": {},
   "outputs": [
    {
     "data": {
      "image/png": "[encoded data removed]",
      "text/plain": [
       "<Figure size 360x432 with 1 Axes>"
      ]
     },
     "metadata": {},
     "output_type": "display_data"
    }
   ],
   "source": [
    "x = numpy.linspace(-0.5, 0.5)\n",
    "y = numpy.piecewise(x, [x < 0, x > 0, x == 0], \n",
    "                    [lambda x: x + numpy.arcsin(x ** 2 * numpy.sin( 6 / x)), \n",
    "                     lambda x: x + numpy.arcsin(x ** 2 * numpy.sin( 6 / x)) ,\n",
    "                     lambda x: 0])\n",
    "\n",
    "plt.figure(figsize=(5,6)); plt.grid(c='steelblue',ls='--',lw=0.5)\n",
    "plt.plot(x, y, c='steelblue', lw=2, \n",
    "         label=r'$f(x) = x + \\arcsin[ x^2 \\sin(\\frac{6}{x})]$')\n",
    "plt.plot(x, x, c='darkred',ls='--',lw=2, label='y = x')\n",
    "plt.scatter(0,0)\n",
    "\n",
    "plt.xlabel(r'$x$', fontsize=15); plt.ylabel(r'$y$', fontsize=15)\n",
    "plt.legend(fontsize=15, shadow=True, bbox_to_anchor=(1.1,0.5));"
   ]
  },
  {
   "cell_type": "markdown",
   "metadata": {},
   "source": [
    "## Типовой расчет №2\n",
    "\n",
    "Составить уравнение нормали и уравнение касательной к данной кривой в точке с абсциссой $x_0$:\n",
    "\n",
    "$\\large{\\displaystyle{y = 2 x^2 + 3; \\ x_0 = -1}}$"
   ]
  },
  {
   "cell_type": "code",
   "execution_count": null,
   "metadata": {},
   "outputs": [],
   "source": []
  },
  {
   "cell_type": "markdown",
   "metadata": {},
   "source": [
    "## Типовой расчет №3\n",
    "\n",
    "Вычислить приближенно с помощью дифференциала\n",
    "\n",
    "$\\large{\\displaystyle{y = x^7; \\ x = 2.002 }}$"
   ]
  },
  {
   "cell_type": "code",
   "execution_count": null,
   "metadata": {},
   "outputs": [],
   "source": []
  },
  {
   "cell_type": "markdown",
   "metadata": {},
   "source": [
    "## Типовой расчет №4\n",
    "\n",
    "Найти производную\n",
    "\n",
    "$\\large{\\displaystyle{y = \\frac{x^6 + x^3 - 2}{\\sqrt{1 - x^3}} }}$"
   ]
  },
  {
   "cell_type": "code",
   "execution_count": null,
   "metadata": {},
   "outputs": [],
   "source": []
  },
  {
   "cell_type": "code",
   "execution_count": null,
   "metadata": {},
   "outputs": [],
   "source": []
  },
  {
   "cell_type": "code",
   "execution_count": null,
   "metadata": {},
   "outputs": [],
   "source": []
  },
  {
   "cell_type": "code",
   "execution_count": null,
   "metadata": {},
   "outputs": [],
   "source": []
  }
 ],
 "metadata": {
  "kernelspec": {
   "display_name": "Python 3",
   "language": "python",
   "name": "python3"
  },
  "language_info": {
   "codemirror_mode": {
    "name": "ipython",
    "version": 3
   },
   "file_extension": ".py",
   "mimetype": "text/x-python",
   "name": "python",
   "nbconvert_exporter": "python",
   "pygments_lexer": "ipython3",
   "version": "3.6.4"
  }
 },
 "nbformat": 4,
 "nbformat_minor": 2
}
