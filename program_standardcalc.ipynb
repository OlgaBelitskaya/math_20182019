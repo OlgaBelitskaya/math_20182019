{
 "cells": [
  {
   "cell_type": "markdown",
   "metadata": {},
   "source": [
    "# Спецификация к Типовому расчету\n",
    "# по дисциплине «Программирование»\n",
    "# 1 семестр\n",
    "\n",
    "# (Вариант 22)\n",
    "\n",
    "## Абстракция А0\n",
    "### 1. Постановка задачи.\n",
    "#### Задание: \n",
    "Написать программу обработки двух матриц в соответствии с условием.\n",
    "\n",
    "#### Условие: \n",
    "Дана матрица $A$ из $N$ строк и $N$ столбцов. \n",
    "\n",
    "Кроме матрицы $A$ дана матрица $B$ такого же размера. \n",
    "\n",
    "Если каждый элемент матрицы $A$ больше соответствующего элемента матрицы $B$, \n",
    "\n",
    "присвоить элементам $C_1, C_2, ..., C_N$ значения по правилу:\n",
    "\n",
    "$\\displaystyle{C_i = \\sum_{k=1}^{N} (A_{ik} + B_{ik}) \\ (*)}$"
   ]
  },
  {
   "cell_type": "markdown",
   "metadata": {},
   "source": [
    "### 2. Уточненная постановка задачи.\n",
    "Дана две квадратные матрицы $A$ и $B$, состоящие из N строк и N столбцов. \n",
    "\n",
    "Сравнить соответствующие элементы матриц $A$ и $B$.\n",
    "\n",
    "Если $A_{ij} > B_{ij}, \\forall i, j: 0 < i < N+1, 0 < j < N+1$, то\n",
    "\n",
    "сформирмировать одномерный массив $C_1, C_2, ..., C_N$  по правилу $(*)$."
   ]
  },
  {
   "cell_type": "markdown",
   "metadata": {},
   "source": [
    "### 3. Пример с иллюстрацией."
   ]
  },
  {
   "cell_type": "code",
   "execution_count": 1,
   "metadata": {},
   "outputs": [],
   "source": [
    "import numpy\n",
    "import pylab \n",
    "%matplotlib inline\n",
    "pylab.style.use('seaborn-whitegrid')"
   ]
  },
  {
   "cell_type": "code",
   "execution_count": 4,
   "metadata": {},
   "outputs": [],
   "source": [
    "def write_datatxt(file_name, N, A, B):\n",
    "    with open(file_name, 'w') as f:\n",
    "        f.write(\"{}\\n\".format(N))\n",
    "        for M in [A, B]:\n",
    "            for i in range(N):\n",
    "                f.write(\"{}\\n\".format(M[i]))"
   ]
  },
  {
   "cell_type": "code",
   "execution_count": 8,
   "metadata": {},
   "outputs": [
    {
     "name": "stdout",
     "output_type": "stream",
     "text": [
      "\n",
      " 5 \n",
      "\n",
      " [[79 21 39 88 16]\n",
      " [14 75  0 71  1]\n",
      " [33  1 58 73 16]\n",
      " [36 54 39 75 83]\n",
      " [31  8 92 51 37]] \n",
      "\n",
      " [[-50 -86 -33 -50 -67]\n",
      " [-78 -66 -90 -88 -92]\n",
      " [-96 -33 -51 -30 -27]\n",
      " [-95 -68 -31 -84 -97]\n",
      " [-71 -67  -8 -13 -94]]\n"
     ]
    }
   ],
   "source": [
    "N = 5\n",
    "A = numpy.random.randint(0, 100, size=(N,N))\n",
    "B = numpy.random.randint(-100, 0, size=(N,N))\n",
    "write_datatxt('AB_SC_1.txt', N, A, B)\n",
    "print('\\n', N, '\\n\\n', A, '\\n\\n', B)"
   ]
  },
  {
   "cell_type": "code",
   "execution_count": null,
   "metadata": {},
   "outputs": [],
   "source": []
  }
 ],
 "metadata": {
  "kernelspec": {
   "display_name": "Python 3",
   "language": "python",
   "name": "python3"
  },
  "language_info": {
   "codemirror_mode": {
    "name": "ipython",
    "version": 3
   },
   "file_extension": ".py",
   "mimetype": "text/x-python",
   "name": "python",
   "nbconvert_exporter": "python",
   "pygments_lexer": "ipython3",
   "version": "3.6.4"
  }
 },
 "nbformat": 4,
 "nbformat_minor": 2
}
