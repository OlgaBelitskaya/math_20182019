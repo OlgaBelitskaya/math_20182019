{
 "cells": [
  {
   "cell_type": "code",
   "execution_count": 1,
   "metadata": {},
   "outputs": [
    {
     "data": {
      "text/html": [
       "<style>\n",
       "@import url('https://fonts.googleapis.com/css?family=Roboto&effect=3d|brick-sign|');\n",
       "span {font-family:Roboto; color:black; text-shadow:4px 4px 4px #aaa;}  \n",
       "h1,h2 {font-family:Roboto; color:slategray; text-shadow:4px 4px 4px #aaa;} \n",
       "div.output_subarea, div.output_area pre{font-family:Roboto; font_size:120%; color:darkblue;}\n",
       "</style> "
      ],
      "text/plain": [
       "<IPython.core.display.HTML object>"
      ]
     },
     "metadata": {},
     "output_type": "display_data"
    }
   ],
   "source": [
    "%%html\n",
    "<style>\n",
    "@import url('https://fonts.googleapis.com/css?family=Roboto&effect=3d|brick-sign|');\n",
    "span {font-family:Roboto; color:black; text-shadow:4px 4px 4px #aaa;}  \n",
    "h1,h2 {font-family:Roboto; color:slategray; text-shadow:4px 4px 4px #aaa;} \n",
    "div.output_subarea, div.output_area pre{font-family:Roboto; font_size:120%; color:darkblue;}\n",
    "</style> "
   ]
  },
  {
   "cell_type": "code",
   "execution_count": 27,
   "metadata": {},
   "outputs": [],
   "source": [
    "import math\n",
    "from sympy import *\n",
    "sympy.init_printing(use_unicode=True)\n",
    "import pylab as plt\n",
    "%matplotlib inline"
   ]
  },
  {
   "cell_type": "code",
   "execution_count": 6,
   "metadata": {},
   "outputs": [
    {
     "name": "stdout",
     "output_type": "stream",
     "text": [
      "2\n",
      "0\n",
      "6\n",
      "0\n",
      "10\n"
     ]
    }
   ],
   "source": [
    "# 5.214\n",
    "def x(n): return n * (1 -  (-1) ** n)\n",
    "for n in range(1,6):  print (x(n))"
   ]
  },
  {
   "cell_type": "code",
   "execution_count": 7,
   "metadata": {},
   "outputs": [
    {
     "name": "stdout",
     "output_type": "stream",
     "text": [
      "0\n",
      "2\n",
      "0\n",
      "2\n",
      "0\n"
     ]
    }
   ],
   "source": [
    "# 5.218\n",
    "def x(n): return 1 -  (-1) **( n + 1)\n",
    "for n in range(1,6):  print (x(n))"
   ]
  },
  {
   "cell_type": "code",
   "execution_count": 10,
   "metadata": {},
   "outputs": [
    {
     "name": "stdout",
     "output_type": "stream",
     "text": [
      "2.0\n",
      "1.3333333333333333\n",
      "1.2\n",
      "1.1428571428571428\n",
      "1.1111111111111112\n"
     ]
    }
   ],
   "source": [
    "# 5.219\n",
    "def x(n): return 2 * n / (1 + 2 * (n - 1))\n",
    "for n in range(1,6):  print (x(n))"
   ]
  },
  {
   "cell_type": "code",
   "execution_count": 11,
   "metadata": {},
   "outputs": [
    {
     "data": {
      "text/plain": [
       "(2, 1.3333333333333333, 1.2, 1.1428571428571428, 1.1111111111111112)"
      ]
     },
     "execution_count": 11,
     "metadata": {},
     "output_type": "execute_result"
    }
   ],
   "source": [
    "2, 4/3, 6/5, 8/7, 10/9"
   ]
  },
  {
   "cell_type": "code",
   "execution_count": 12,
   "metadata": {},
   "outputs": [
    {
     "name": "stdout",
     "output_type": "stream",
     "text": [
      "2.0\n",
      "1.3333333333333333\n",
      "1.2\n",
      "1.1428571428571428\n",
      "1.1111111111111112\n"
     ]
    }
   ],
   "source": [
    "def x(n): return 2 * n / (2 * n - 1)\n",
    "for n in range(1,6):  print (x(n))"
   ]
  },
  {
   "cell_type": "code",
   "execution_count": 18,
   "metadata": {},
   "outputs": [
    {
     "name": "stdout",
     "output_type": "stream",
     "text": [
      "1\n",
      "0\n",
      "-3\n",
      "0\n",
      "5\n"
     ]
    }
   ],
   "source": [
    "# 5.220\n",
    "def x(n): return  int(n  * math.sin(math.pi * n/2 ))\n",
    "for n in range(1,6):  print (x(n))"
   ]
  },
  {
   "cell_type": "code",
   "execution_count": 42,
   "metadata": {},
   "outputs": [
    {
     "data": {
      "image/png": "[encoded data removed]",
      "text/plain": [
       "<Figure size 432x288 with 1 Axes>"
      ]
     },
     "metadata": {},
     "output_type": "display_data"
    }
   ],
   "source": [
    "# 5.225\n",
    "def x(n): return  math.sqrt(n)/ (9 + n)\n",
    "n = range(100)\n",
    "x = [x(i) for i in n]\n",
    "plt.axhline(1/6, c='r', ls='--')\n",
    "plt.plot(n,x); plt.grid();"
   ]
  },
  {
   "cell_type": "code",
   "execution_count": 28,
   "metadata": {},
   "outputs": [],
   "source": [
    "n = symbols('n')\n",
    "x = sqrt(n)/ (9 + n)"
   ]
  },
  {
   "cell_type": "code",
   "execution_count": 32,
   "metadata": {},
   "outputs": [
    {
     "data": {
      "image/png": "[encoded data removed]",
      "text/latex": [
       "$$- \\frac{\\sqrt{n}}{\\left(n + 9\\right)^{2}} + \\frac{1}{2 \\sqrt{n} \\left(n + 9\\right)}$$"
      ],
      "text/plain": [
       "     √n           1      \n",
       "- ──────── + ────────────\n",
       "         2   2⋅√n⋅(n + 9)\n",
       "  (n + 9)                "
      ]
     },
     "execution_count": 32,
     "metadata": {},
     "output_type": "execute_result"
    }
   ],
   "source": [
    "diff(x,n) "
   ]
  },
  {
   "cell_type": "code",
   "execution_count": 33,
   "metadata": {},
   "outputs": [
    {
     "data": {
      "image/png": "[encoded data removed]",
      "text/latex": [
       "$$\\left [ 9\\right ]$$"
      ],
      "text/plain": [
       "[9]"
      ]
     },
     "execution_count": 33,
     "metadata": {},
     "output_type": "execute_result"
    }
   ],
   "source": [
    "solve(diff(x,n) ,n)"
   ]
  },
  {
   "cell_type": "code",
   "execution_count": 37,
   "metadata": {},
   "outputs": [
    {
     "data": {
      "image/png": "[encoded data removed]",
      "text/latex": [
       "$$\\frac{1}{6}$$"
      ],
      "text/plain": [
       "1/6"
      ]
     },
     "execution_count": 37,
     "metadata": {},
     "output_type": "execute_result"
    }
   ],
   "source": [
    "x.subs(n,9)"
   ]
  },
  {
   "cell_type": "markdown",
   "metadata": {},
   "source": [
    "#### # 5.229(б)\n",
    "\n",
    "последовательность монотонно возрастает / the sequence increases monotonically\n",
    "\n",
    "$ \\forall n \\in \\mathbb{N} \\ (x_n < x_{n + 1}) $\n",
    "\n",
    "#### # 5.229(г)\n",
    "\n",
    "последовательность $ (x_n)_{n \\in \\mathbb{N}}$ бесконечно большая / the sequence $ (x_n)_{n  \\in \\mathbb {N}} $ is infinitely large\n",
    "\n",
    "$ \\forall E > 0 \\ \\exists N \\in \\mathbb{N} \\ \\forall n \\in \\mathbb{N} \\ (n > N \\implies |x_n| > E) $ ;\n",
    "\n",
    "$ \\exists E > 0 \\ \\forall N \\in \\mathbb{N} \\ \\exists n \\in \\mathbb{N} \\ (n > N \\land |x_n| \\leq E) $ ;"
   ]
  },
  {
   "cell_type": "code",
   "execution_count": 44,
   "metadata": {},
   "outputs": [
    {
     "data": {
      "image/png": "[encoded data removed]",
      "text/latex": [
       "$$1$$"
      ],
      "text/plain": [
       "1"
      ]
     },
     "execution_count": 44,
     "metadata": {},
     "output_type": "execute_result"
    }
   ],
   "source": [
    "# 5.230(б)\n",
    "from sympy.abc import n\n",
    "limit_seq(sqrt(n ** 2 + 1) / n)"
   ]
  },
  {
   "cell_type": "code",
   "execution_count": 49,
   "metadata": {},
   "outputs": [
    {
     "data": {
      "text/latex": [
       "$\n",
       "\\frac{\\sqrt{n ^ 2 + 1}}{n}  - 1 < 0.005\n",
       "$"
      ],
      "text/plain": [
       "<IPython.core.display.Latex object>"
      ]
     },
     "metadata": {},
     "output_type": "display_data"
    }
   ],
   "source": [
    "%%latex\n",
    "$\n",
    "\\frac{\\sqrt{n ^ 2 + 1}}{n}  - 1 < 0.005\n",
    "$"
   ]
  },
  {
   "cell_type": "code",
   "execution_count": 86,
   "metadata": {},
   "outputs": [
    {
     "data": {
      "image/png": "[encoded data removed]",
      "text/latex": [
       "$$0.00615390423749074$$"
      ],
      "text/plain": [
       "0.00615390423749074"
      ]
     },
     "execution_count": 86,
     "metadata": {},
     "output_type": "execute_result"
    }
   ],
   "source": [
    "f = abs(sqrt(n ** 2 + 1) / n - 1)\n",
    "N(f.subs(n,9))"
   ]
  },
  {
   "cell_type": "code",
   "execution_count": 87,
   "metadata": {},
   "outputs": [
    {
     "data": {
      "image/png": "[encoded data removed]",
      "text/latex": [
       "$$0.00498756211208903$$"
      ],
      "text/plain": [
       "0.00498756211208903"
      ]
     },
     "execution_count": 87,
     "metadata": {},
     "output_type": "execute_result"
    }
   ],
   "source": [
    "N(f.subs(n,10))"
   ]
  },
  {
   "cell_type": "code",
   "execution_count": 88,
   "metadata": {},
   "outputs": [],
   "source": [
    "# N = 10"
   ]
  },
  {
   "cell_type": "code",
   "execution_count": 91,
   "metadata": {},
   "outputs": [
    {
     "data": {
      "image/png": "[encoded data removed]",
      "text/latex": [
       "$$\\frac{5}{7}$$"
      ],
      "text/plain": [
       "5/7"
      ]
     },
     "execution_count": 91,
     "metadata": {},
     "output_type": "execute_result"
    }
   ],
   "source": [
    "# 5.230(г)\n",
    "from sympy.abc import n\n",
    "limit_seq((5 * n ** 2 + 1) / (7 * n ** 2 - 3))"
   ]
  },
  {
   "cell_type": "code",
   "execution_count": 92,
   "metadata": {},
   "outputs": [
    {
     "data": {
      "text/latex": [
       "$\n",
       "\\frac{5 * n ^ 2 + 1}{7 * n^2 - 3}  - \\frac{5}{7} < 0.005\n",
       "$"
      ],
      "text/plain": [
       "<IPython.core.display.Latex object>"
      ]
     },
     "metadata": {},
     "output_type": "display_data"
    }
   ],
   "source": [
    "%%latex\n",
    "$\n",
    "\\frac{5 * n ^ 2 + 1}{7 * n^2 - 3}  - \\frac{5}{7} < 0.005\n",
    "$"
   ]
  },
  {
   "cell_type": "code",
   "execution_count": 93,
   "metadata": {},
   "outputs": [
    {
     "data": {
      "image/png": "[encoded data removed]",
      "text/latex": [
       "$$0.00557244174265448$$"
      ],
      "text/plain": [
       "0.00557244174265448"
      ]
     },
     "execution_count": 93,
     "metadata": {},
     "output_type": "execute_result"
    }
   ],
   "source": [
    "g= abs((5 * n ** 2 + 1) / (7 * n ** 2 - 3) -  5/7)\n",
    "N(g.subs(n,9))"
   ]
  },
  {
   "cell_type": "code",
   "execution_count": 94,
   "metadata": {},
   "outputs": [
    {
     "data": {
      "image/png": "[encoded data removed]",
      "text/latex": [
       "$$0.00450912072145926$$"
      ],
      "text/plain": [
       "0.00450912072145926"
      ]
     },
     "execution_count": 94,
     "metadata": {},
     "output_type": "execute_result"
    }
   ],
   "source": [
    "N(g.subs(n,10))"
   ]
  },
  {
   "cell_type": "code",
   "execution_count": null,
   "metadata": {},
   "outputs": [],
   "source": [
    " # N = 10"
   ]
  },
  {
   "cell_type": "markdown",
   "metadata": {},
   "source": [
    "#### # 5.249\n",
    "\n",
    "$x_n = n * sin(\\frac{\\pi n}{2})$\n",
    "\n",
    "$ \\forall E > 0 \\ \\exists N \\in \\mathbb{N} \\ \\forall n \\in \\mathbb{N} \\ (n > N \\implies |x_n| > E) $ ;\n",
    "\n",
    "$ \\exists E > 0 \\ \\forall N \\in \\mathbb{N} \\ \\exists n \\in \\mathbb{N} \\ (n > N \\land |x_n| \\leq E) $ ;\n",
    "\n",
    "не является бесконечно большой / is not infinitely large"
   ]
  },
  {
   "cell_type": "code",
   "execution_count": 97,
   "metadata": {},
   "outputs": [
    {
     "data": {
      "image/png": "[encoded data removed]",
      "text/plain": [
       "<Figure size 432x288 with 1 Axes>"
      ]
     },
     "metadata": {},
     "output_type": "display_data"
    }
   ],
   "source": [
    "a = range(100)\n",
    "b = [i * math.sin(math.pi * i / 2) for i in a]\n",
    "plt.axhline(50, c='r', ls='--')\n",
    "plt.axhline(-50, c='r', ls='--')\n",
    "plt.plot(a,b);"
   ]
  },
  {
   "cell_type": "code",
   "execution_count": 98,
   "metadata": {},
   "outputs": [
    {
     "data": {
      "image/png": "[encoded data removed]",
      "text/latex": [
       "$$6.0$$"
      ],
      "text/plain": [
       "6.00000000000000"
      ]
     },
     "execution_count": 98,
     "metadata": {},
     "output_type": "execute_result"
    }
   ],
   "source": [
    "# 5.280\n",
    "x = symbols('x')\n",
    "limit((8 * x ** 3 - 1)/(6 * x ** 2 - 5 * x + 1), x, 0.5 )"
   ]
  },
  {
   "cell_type": "markdown",
   "metadata": {},
   "source": [
    "## $\\frac{(2 * x - 1) * ( 4 * x^2 + 2 * x + 1)} {(2 * x - 1) * ( 3 * x - 1)} = \\frac{( 4 * x^2 + 2 * x + 1)} {( 3 * x - 1)}$"
   ]
  },
  {
   "cell_type": "code",
   "execution_count": 101,
   "metadata": {},
   "outputs": [
    {
     "data": {
      "image/png": "[encoded data removed]",
      "text/latex": [
       "$$6.0$$"
      ],
      "text/plain": [
       "6.0"
      ]
     },
     "execution_count": 101,
     "metadata": {},
     "output_type": "execute_result"
    }
   ],
   "source": [
    "(4 * 0.5 ** 2 + 2 * 0.5 + 1)/(3 * 0.5 - 1)"
   ]
  }
 ],
 "metadata": {
  "kernelspec": {
   "display_name": "Python 3",
   "language": "python",
   "name": "python3"
  },
  "language_info": {
   "codemirror_mode": {
    "name": "ipython",
    "version": 3
   },
   "file_extension": ".py",
   "mimetype": "text/x-python",
   "name": "python",
   "nbconvert_exporter": "python",
   "pygments_lexer": "ipython3",
   "version": "3.6.4"
  }
 },
 "nbformat": 4,
 "nbformat_minor": 2
}
