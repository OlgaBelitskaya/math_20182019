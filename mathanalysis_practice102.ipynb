{
 "cells": [
  {
   "cell_type": "code",
   "execution_count": 1,
   "metadata": {},
   "outputs": [
    {
     "data": {
      "text/html": [
       "<style>\n",
       "@import url('https://fonts.googleapis.com/css?family=Roboto&effect=3d|brick-sign|');\n",
       "span {font-family:Roboto; color:black; text-shadow:4px 4px 4px #aaa;}  \n",
       "h1,h2 {font-family:Roboto; color:slategray; text-shadow:4px 4px 4px #aaa;} \n",
       "div.output_subarea, div.output_area pre{font-family:Roboto; font_size:120%; color:darkblue;}\n",
       "</style> "
      ],
      "text/plain": [
       "<IPython.core.display.HTML object>"
      ]
     },
     "metadata": {},
     "output_type": "display_data"
    }
   ],
   "source": [
    "%%html\n",
    "<style>\n",
    "@import url('https://fonts.googleapis.com/css?family=Roboto&effect=3d|brick-sign|');\n",
    "span {font-family:Roboto; color:black; text-shadow:4px 4px 4px #aaa;}  \n",
    "h1,h2 {font-family:Roboto; color:slategray; text-shadow:4px 4px 4px #aaa;} \n",
    "div.output_subarea, div.output_area pre{font-family:Roboto; font_size:120%; color:darkblue;}\n",
    "</style> "
   ]
  },
  {
   "cell_type": "markdown",
   "metadata": {},
   "source": [
    "# Задачи / Problems\n",
    "[Сборник задач по математике для втузов. В 4-х частях. Под ред. Ефимова А.В., Поспелова А.С. (Часть 2)](https://drive.google.com/file/d/1qUN5t1IQdWvlRf0gdVYZ87MznWUaHq2x/view)"
   ]
  },
  {
   "cell_type": "code",
   "execution_count": 2,
   "metadata": {},
   "outputs": [],
   "source": [
    "import math, sympy\n",
    "from sympy import *\n",
    "sympy.init_printing(use_unicode=True)\n",
    "import pylab as plt\n",
    "%matplotlib inline"
   ]
  },
  {
   "cell_type": "code",
   "execution_count": 3,
   "metadata": {},
   "outputs": [
    {
     "name": "stdout",
     "output_type": "stream",
     "text": [
      "x 1 =  2\n",
      "x 2 =  0\n",
      "x 3 =  6\n",
      "x 4 =  0\n",
      "x 5 =  10\n"
     ]
    }
   ],
   "source": [
    "# 5.214 \n",
    "# Напишите первые пять членов последовательности / Write the first five terms of the sequence\n",
    "def x(n): return n * (1 -  (-1) ** n)\n",
    "for n in range(1,6):  print ('x',n,'= ',x(n))"
   ]
  },
  {
   "cell_type": "code",
   "execution_count": 4,
   "metadata": {},
   "outputs": [
    {
     "name": "stdout",
     "output_type": "stream",
     "text": [
      "x 1 =  0\n",
      "x 2 =  2\n",
      "x 3 =  0\n",
      "x 4 =  2\n",
      "x 5 =  0\n"
     ]
    }
   ],
   "source": [
    "# 5.218\n",
    "# Напишите формулу общего члена последовательности / Write the formula for the general term of the sequence\n",
    "def x(n): return 1 -  (-1) **( n + 1)\n",
    "for n in range(1,6):  print ('x',n,'= ',x(n))"
   ]
  },
  {
   "cell_type": "code",
   "execution_count": 5,
   "metadata": {},
   "outputs": [
    {
     "data": {
      "text/latex": [
       "$x_{n} = 1 - (-1)^{n + 1}$"
      ],
      "text/plain": [
       "<IPython.core.display.Latex object>"
      ]
     },
     "metadata": {},
     "output_type": "display_data"
    }
   ],
   "source": [
    "%%latex\n",
    "$x_{n} = 1 - (-1)^{n + 1}$"
   ]
  },
  {
   "cell_type": "code",
   "execution_count": 6,
   "metadata": {},
   "outputs": [
    {
     "name": "stdout",
     "output_type": "stream",
     "text": [
      "x 1 =  2.0\n",
      "x 2 =  1.3333333333333333\n",
      "x 3 =  1.2\n",
      "x 4 =  1.1428571428571428\n",
      "x 5 =  1.1111111111111112\n"
     ]
    }
   ],
   "source": [
    "# 5.219\n",
    "# Напишите формулу общего члена последовательности / Write the formula for the general term of the sequence\n",
    "def x(n): return 2 * n / (1 + 2 * (n - 1))\n",
    "for n in range(1,6):  print ('x',n,'= ',x(n))"
   ]
  },
  {
   "cell_type": "code",
   "execution_count": 7,
   "metadata": {},
   "outputs": [
    {
     "data": {
      "text/latex": [
       "$x_{n} = \\frac{2 * n} {1 + 2 * (n - 1)}$"
      ],
      "text/plain": [
       "<IPython.core.display.Latex object>"
      ]
     },
     "metadata": {},
     "output_type": "display_data"
    }
   ],
   "source": [
    "%%latex\n",
    "$x_{n} = \\frac{2 * n} {1 + 2 * (n - 1)}$"
   ]
  },
  {
   "cell_type": "code",
   "execution_count": 8,
   "metadata": {},
   "outputs": [
    {
     "name": "stdout",
     "output_type": "stream",
     "text": [
      "True\n",
      "True\n",
      "True\n",
      "True\n",
      "True\n"
     ]
    }
   ],
   "source": [
    "xn = [2, 4/3, 6/5, 8/7, 10/9]\n",
    "for n in range(1,6):  print (xn[n-1] == x(n))"
   ]
  },
  {
   "cell_type": "code",
   "execution_count": 9,
   "metadata": {},
   "outputs": [
    {
     "name": "stdout",
     "output_type": "stream",
     "text": [
      "x 1 =  2.0\n",
      "x 2 =  1.3333333333333333\n",
      "x 3 =  1.2\n",
      "x 4 =  1.1428571428571428\n",
      "x 5 =  1.1111111111111112\n"
     ]
    }
   ],
   "source": [
    "def x(n): return 2 * n / (2 * n - 1)\n",
    "for n in range(1,6):  print ('x',n,'= ',x(n))"
   ]
  },
  {
   "cell_type": "code",
   "execution_count": 10,
   "metadata": {},
   "outputs": [
    {
     "data": {
      "text/latex": [
       "$x_{n} = \\frac{2 * n} {2 * n - 1}$"
      ],
      "text/plain": [
       "<IPython.core.display.Latex object>"
      ]
     },
     "metadata": {},
     "output_type": "display_data"
    }
   ],
   "source": [
    "%%latex\n",
    "$x_{n} = \\frac{2 * n} {2 * n - 1}$"
   ]
  },
  {
   "cell_type": "code",
   "execution_count": 11,
   "metadata": {},
   "outputs": [
    {
     "name": "stdout",
     "output_type": "stream",
     "text": [
      "x 1 =  1\n",
      "x 2 =  0\n",
      "x 3 =  -3\n",
      "x 4 =  0\n",
      "x 5 =  5\n"
     ]
    }
   ],
   "source": [
    "# 5.220\n",
    "# Напишите формулу общего члена последовательности / Write the formula for the general term of the sequence\n",
    "def x(n): return  int(n  * math.sin(math.pi * n/2 ))\n",
    "for n in range(1,6):  print ('x',n,'= ',x(n))"
   ]
  },
  {
   "cell_type": "code",
   "execution_count": 12,
   "metadata": {},
   "outputs": [
    {
     "data": {
      "text/latex": [
       "$x_{n} = n * sin(\\frac{\\pi * n} {2 })$"
      ],
      "text/plain": [
       "<IPython.core.display.Latex object>"
      ]
     },
     "metadata": {},
     "output_type": "display_data"
    }
   ],
   "source": [
    "%%latex\n",
    "$x_{n} = n * sin(\\frac{\\pi * n} {2 })$"
   ]
  },
  {
   "cell_type": "markdown",
   "metadata": {},
   "source": [
    "#### # 5.225\n",
    "Найдите наибольший (или наименьший) член ограниченной сверху (или снизу) последовательности.\n",
    "\n",
    "Find the largest (or smallest) term in a sequence bounded above (or below)."
   ]
  },
  {
   "cell_type": "code",
   "execution_count": 13,
   "metadata": {},
   "outputs": [
    {
     "data": {
      "image/png": "[encoded data removed]",
      "text/plain": [
       "<Figure size 432x288 with 1 Axes>"
      ]
     },
     "metadata": {},
     "output_type": "display_data"
    }
   ],
   "source": [
    "def x(n): return  math.sqrt(n)/ (9 + n)\n",
    "n = range(100)\n",
    "x = [x(i) for i in n]\n",
    "plt.axhline(1/6, c='r', ls='--')\n",
    "plt.plot(n,x); plt.grid();"
   ]
  },
  {
   "cell_type": "code",
   "execution_count": 14,
   "metadata": {},
   "outputs": [],
   "source": [
    "n = symbols('n')\n",
    "x = sqrt(n)/ (9 + n)"
   ]
  },
  {
   "cell_type": "code",
   "execution_count": 15,
   "metadata": {},
   "outputs": [
    {
     "data": {
      "image/png": "[encoded data removed]",
      "text/latex": [
       "$$- \\frac{\\sqrt{n}}{\\left(n + 9\\right)^{2}} + \\frac{1}{2 \\sqrt{n} \\left(n + 9\\right)}$$"
      ],
      "text/plain": [
       "     √n           1      \n",
       "- ──────── + ────────────\n",
       "         2   2⋅√n⋅(n + 9)\n",
       "  (n + 9)                "
      ]
     },
     "execution_count": 15,
     "metadata": {},
     "output_type": "execute_result"
    }
   ],
   "source": [
    "diff(x,n) "
   ]
  },
  {
   "cell_type": "code",
   "execution_count": 16,
   "metadata": {},
   "outputs": [
    {
     "data": {
      "image/png": "[encoded data removed]",
      "text/latex": [
       "$$\\left [ 9\\right ]$$"
      ],
      "text/plain": [
       "[9]"
      ]
     },
     "execution_count": 16,
     "metadata": {},
     "output_type": "execute_result"
    }
   ],
   "source": [
    "solve(diff(x,n) ,n)"
   ]
  },
  {
   "cell_type": "code",
   "execution_count": 17,
   "metadata": {},
   "outputs": [
    {
     "data": {
      "image/png": "[encoded data removed]",
      "text/latex": [
       "$$\\frac{1}{6}$$"
      ],
      "text/plain": [
       "1/6"
      ]
     },
     "execution_count": 17,
     "metadata": {},
     "output_type": "execute_result"
    }
   ],
   "source": [
    "x.subs(n,9)"
   ]
  },
  {
   "cell_type": "code",
   "execution_count": 18,
   "metadata": {},
   "outputs": [
    {
     "data": {
      "text/latex": [
       "$x_9 = \\frac{1}{6}$"
      ],
      "text/plain": [
       "<IPython.core.display.Latex object>"
      ]
     },
     "metadata": {},
     "output_type": "display_data"
    }
   ],
   "source": [
    "%%latex\n",
    "$x_9 = \\frac{1}{6}$"
   ]
  },
  {
   "cell_type": "markdown",
   "metadata": {},
   "source": [
    "#### # 5.229 (б)\n",
    "\n",
    "Последовательность монотонно возрастает / The sequence increases monotonically\n",
    "\n",
    "$ \\forall n \\in \\mathbb{N} \\ (x_n < x_{n + 1}) $\n",
    "\n",
    "Отрицание логического высказывания / Negation of a logical statement\n",
    "\n",
    "$ \\exists n \\in \\mathbb{N} \\ (x_n \\geq x_{n + 1}) $\n",
    "\n",
    "#### # 5.229 (г)\n",
    "\n",
    "Последовательность $ (x_n)_{n \\in \\mathbb{N}}$ бесконечно большая / The sequence $ (x_n)_{n  \\in \\mathbb {N}} $ is infinitely large\n",
    "\n",
    "$ \\forall E > 0 \\ \\exists N \\in \\mathbb{N} \\ \\forall n \\in \\mathbb{N} \\ (n > N \\implies |x_n| > E) $ \n",
    "\n",
    "Отрицание логического высказывания / Negation of a logical statement\n",
    "\n",
    "$ \\exists E > 0 \\ \\forall N \\in \\mathbb{N} \\ \\exists n \\in \\mathbb{N} \\ (n > N \\land |x_n| \\leq E) $ "
   ]
  },
  {
   "cell_type": "markdown",
   "metadata": {},
   "source": [
    "#### # 5.230\n",
    "\n",
    "Найдите / Find \n",
    "\n",
    "$a: \\displaystyle{a = \\lim_{x \\to \\infty} x_n} \\ \\& \\ N(\\varepsilon): |x_n - a| < \\varepsilon , \\ \\forall n > N(\\varepsilon)$"
   ]
  },
  {
   "cell_type": "code",
   "execution_count": 19,
   "metadata": {},
   "outputs": [
    {
     "data": {
      "image/png": "[encoded data removed]",
      "text/latex": [
       "$$1$$"
      ],
      "text/plain": [
       "1"
      ]
     },
     "execution_count": 19,
     "metadata": {},
     "output_type": "execute_result"
    }
   ],
   "source": [
    "# 5.230(б)\n",
    "from sympy.abc import n\n",
    "limit_seq(sqrt(n ** 2 + 1) / n)"
   ]
  },
  {
   "cell_type": "code",
   "execution_count": 20,
   "metadata": {},
   "outputs": [
    {
     "data": {
      "text/latex": [
       "$\\large{| \\frac{\\sqrt{n ^ 2 + 1}}{n}  - 1 | }$$ < 0.005$"
      ],
      "text/plain": [
       "<IPython.core.display.Latex object>"
      ]
     },
     "metadata": {},
     "output_type": "display_data"
    }
   ],
   "source": [
    "%%latex\n",
    "$\\large{| \\frac{\\sqrt{n ^ 2 + 1}}{n}  - 1 | }$$ < 0.005$"
   ]
  },
  {
   "cell_type": "code",
   "execution_count": 21,
   "metadata": {},
   "outputs": [
    {
     "data": {
      "image/png": "[encoded data removed]",
      "text/latex": [
       "$$0.00615390423749074$$"
      ],
      "text/plain": [
       "0.00615390423749074"
      ]
     },
     "execution_count": 21,
     "metadata": {},
     "output_type": "execute_result"
    }
   ],
   "source": [
    "f = abs(sqrt(n ** 2 + 1) / n - 1)\n",
    "N(f.subs(n,9))"
   ]
  },
  {
   "cell_type": "code",
   "execution_count": 22,
   "metadata": {},
   "outputs": [
    {
     "data": {
      "image/png": "[encoded data removed]",
      "text/latex": [
       "$$0.00498756211208903$$"
      ],
      "text/plain": [
       "0.00498756211208903"
      ]
     },
     "execution_count": 22,
     "metadata": {},
     "output_type": "execute_result"
    }
   ],
   "source": [
    "N(f.subs(n,10))"
   ]
  },
  {
   "cell_type": "code",
   "execution_count": 23,
   "metadata": {},
   "outputs": [],
   "source": [
    "# N = 10"
   ]
  },
  {
   "cell_type": "code",
   "execution_count": 24,
   "metadata": {},
   "outputs": [
    {
     "data": {
      "image/png": "[encoded data removed]",
      "text/latex": [
       "$$\\frac{5}{7}$$"
      ],
      "text/plain": [
       "5/7"
      ]
     },
     "execution_count": 24,
     "metadata": {},
     "output_type": "execute_result"
    }
   ],
   "source": [
    "# 5.230(г)\n",
    "from sympy.abc import n\n",
    "limit_seq((5 * n ** 2 + 1) / (7 * n ** 2 - 3))"
   ]
  },
  {
   "cell_type": "code",
   "execution_count": 25,
   "metadata": {},
   "outputs": [
    {
     "data": {
      "text/latex": [
       "$\\large {| \\frac{5 * n ^ 2 + 1}{7 * n^2 - 3}  - \\frac{5}{7} | }$$< 0.005$"
      ],
      "text/plain": [
       "<IPython.core.display.Latex object>"
      ]
     },
     "metadata": {},
     "output_type": "display_data"
    }
   ],
   "source": [
    "%%latex\n",
    "$\\large {| \\frac{5 * n ^ 2 + 1}{7 * n^2 - 3}  - \\frac{5}{7} | }$$< 0.005$"
   ]
  },
  {
   "cell_type": "code",
   "execution_count": 26,
   "metadata": {},
   "outputs": [
    {
     "data": {
      "image/png": "[encoded data removed]",
      "text/latex": [
       "$$0.00557244174265448$$"
      ],
      "text/plain": [
       "0.00557244174265448"
      ]
     },
     "execution_count": 26,
     "metadata": {},
     "output_type": "execute_result"
    }
   ],
   "source": [
    "g= abs((5 * n ** 2 + 1) / (7 * n ** 2 - 3) -  5/7)\n",
    "N(g.subs(n,9))"
   ]
  },
  {
   "cell_type": "code",
   "execution_count": 27,
   "metadata": {},
   "outputs": [
    {
     "data": {
      "image/png": "[encoded data removed]",
      "text/latex": [
       "$$0.00450912072145926$$"
      ],
      "text/plain": [
       "0.00450912072145926"
      ]
     },
     "execution_count": 27,
     "metadata": {},
     "output_type": "execute_result"
    }
   ],
   "source": [
    "N(g.subs(n,10))"
   ]
  },
  {
   "cell_type": "code",
   "execution_count": 28,
   "metadata": {},
   "outputs": [],
   "source": [
    " # N = 10"
   ]
  },
  {
   "cell_type": "markdown",
   "metadata": {},
   "source": [
    "#### # 5.249\n",
    "\n",
    "$x_n = n * sin(\\frac{\\pi n}{2})$\n",
    "\n",
    "$ \\exists E > 0 \\ \\forall N \\in \\mathbb{N} \\ \\exists n \\in \\mathbb{N} \\ (n > N \\land |x_n| \\leq E) $ \n",
    "\n",
    "не является бесконечно большой / is not infinitely large"
   ]
  },
  {
   "cell_type": "code",
   "execution_count": 51,
   "metadata": {},
   "outputs": [
    {
     "data": {
      "image/png": "[encoded data removed]",
      "text/plain": [
       "<Figure size 432x288 with 1 Axes>"
      ]
     },
     "metadata": {},
     "output_type": "display_data"
    }
   ],
   "source": [
    "a = range(100)\n",
    "b = [i * math.sin(math.pi * i / 2) for i in a]\n",
    "plt.axhline(50, c='r', ls='--'); plt.text(20,55, '  E', color='r')\n",
    "plt.axhline(-50, c='r', ls='--'); plt.text(20,-60, '- E', color='r') \n",
    "plt.plot(a,b,c='b');"
   ]
  },
  {
   "cell_type": "markdown",
   "metadata": {},
   "source": [
    "#### # 5.250\n",
    "\n",
    "$x_n = \\lg(\\lg{n}), \\ n \\geq 2$\n",
    "\n",
    "$ \\forall E > 0 \\ \\exists N \\in \\mathbb{N} \\ \\forall n \\in \\mathbb{N} \\ (n > N \\implies |x_n| > E) $\n",
    "\n",
    "является бесконечно большой / is infinitely large"
   ]
  },
  {
   "cell_type": "code",
   "execution_count": 52,
   "metadata": {},
   "outputs": [
    {
     "data": {
      "image/png": "[encoded data removed]",
      "text/plain": [
       "<Figure size 432x288 with 1 Axes>"
      ]
     },
     "metadata": {},
     "output_type": "display_data"
    }
   ],
   "source": [
    "a = range(2,500)\n",
    "b = [math.log2(math.log2(i)) for i in a]\n",
    "plt.axhline(3, c='r', ls='--'); plt.text(50,2.7, ' E', color='r')\n",
    "plt.plot(a,b,c='b'); plt.text(30,1.8, 'lg(lg n)', color='b');"
   ]
  },
  {
   "cell_type": "code",
   "execution_count": null,
   "metadata": {},
   "outputs": [],
   "source": []
  }
 ],
 "metadata": {
  "kernelspec": {
   "display_name": "Python 3",
   "language": "python",
   "name": "python3"
  },
  "language_info": {
   "codemirror_mode": {
    "name": "ipython",
    "version": 3
   },
   "file_extension": ".py",
   "mimetype": "text/x-python",
   "name": "python",
   "nbconvert_exporter": "python",
   "pygments_lexer": "ipython3",
   "version": "3.6.4"
  }
 },
 "nbformat": 4,
 "nbformat_minor": 2
}
