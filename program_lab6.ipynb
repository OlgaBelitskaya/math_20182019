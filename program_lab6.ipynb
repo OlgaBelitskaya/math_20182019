{
 "cells": [
  {
   "cell_type": "markdown",
   "metadata": {},
   "source": [
    "# Спецификация к Лабораторной работе №6 \n",
    "\n",
    "# \"Поиск экстремума с двумя условиями. Нисходящая разработка\"\n",
    "\n",
    "# (Вариант 22)\n",
    "\n",
    "## Абстракция А0\n",
    "### 1. Постановка задачи.\n",
    "#### Задание: \n",
    "Написать программу обработки одномерного массива в соответствии с условием.\n",
    "\n",
    "#### Условие: \n",
    "Для заданного целочисленного массива $\\{A_1, A_2, …, A_n\\}$ определить \n",
    "\n",
    "номер первого максимального значения среди элементов, \n",
    "\n",
    "- меньших A1 и \n",
    "\n",
    "- расположенных правее последнего элемента, кратного девяти. "
   ]
  },
  {
   "cell_type": "markdown",
   "metadata": {},
   "source": [
    "### 2. Уточненная постановка задачи.\n",
    "Дан одномерный целочисленный массив A из n элементов.\n",
    "\n",
    "Обозначим индекс $k: (A_k \\in A) \\land (A_k \\vdots 9) \\land \\neg (A_i \\vdots 9), \\forall i > k$. \n",
    "\n",
    "Найти $\\displaystyle{j: A_j = \\max_i \\{A_i: A_i < A_1, \\forall i > k\\} }$."
   ]
  },
  {
   "cell_type": "markdown",
   "metadata": {},
   "source": [
    "### 3. Пример с иллюстрацией."
   ]
  },
  {
   "cell_type": "code",
   "execution_count": 18,
   "metadata": {},
   "outputs": [
    {
     "data": {
      "text/plain": [
       "array([ 38, -89,  18, -73, -44,  80, -35,  83,  44,  56,  19, -78,   9,\n",
       "         6,  63,  42, -21,  97,   8,  48,  81,  44, -56, -59,  59,  69,\n",
       "       -72, -26,  74, -36,  -7,  25,  11, -84, -83, -81,  60,  -1, -23,\n",
       "        -6,  91, -54,  35,  13, -58,  32, -18,  87, -35, -65])"
      ]
     },
     "execution_count": 18,
     "metadata": {},
     "output_type": "execute_result"
    }
   ],
   "source": [
    "A1 = numpy.random.randint(-100,100, size=50)\n",
    "numpy.savetxt('A_Lab6_1.txt', A1, fmt='%5.0f')\n",
    "A1"
   ]
  },
  {
   "cell_type": "code",
   "execution_count": 50,
   "metadata": {},
   "outputs": [
    {
     "name": "stdout",
     "output_type": "stream",
     "text": [
      "                    Лаб.6\n",
      "==========================================================================================\n",
      "Текстовый файл с элементами массива A: A_Lab6_1.txt\n",
      "Текстовый файл с элементами массива A и индексом максимального значения: Aj_Lab6_1.txt\n",
      "==========================================================================================\n",
      "Массив A: \n",
      "\n",
      "38\n",
      "-89\n",
      "18\n",
      "-73\n",
      "-44\n",
      "80\n",
      "-35\n",
      "83\n",
      "44\n",
      "56\n",
      "19\n",
      "-78\n",
      "9\n",
      "6\n",
      "63\n",
      "42\n",
      "-21\n",
      "97\n",
      "8\n",
      "48\n",
      "81\n",
      "44\n",
      "-56\n",
      "-59\n",
      "59\n",
      "69\n",
      "-72\n",
      "-26\n",
      "74\n",
      "-36\n",
      "-7\n",
      "25\n",
      "11\n",
      "-84\n",
      "-83\n",
      "-81\n",
      "60\n",
      "-1\n",
      "-23\n",
      "-6\n",
      "91\n",
      "-54\n",
      "35\n",
      "13\n",
      "-58\n",
      "32\n",
      "-18\n",
      "87\n",
      "-35\n",
      "-65\n",
      "==========================================================================================\n",
      "Индекс максимального значения выбранных элементов массива A: 49\n"
     ]
    }
   ],
   "source": [
    "import pylab \n",
    "import numpy\n",
    "%matplotlib inline\n",
    "pylab.style.use('seaborn-whitegrid')\n",
    "\n",
    "# A_Lab6_1.txt, A_Lab6_2.txt, A_Lab6_3.txt, A_Lab6_4.txt, A_Lab6_5.txt\n",
    "# Aj_Lab6_1.txt, Aj_Lab6_2.txt, Aj_Lab6_3.txt, Aj_Lab6_4.txt, Aj_Lab6_5.txt\n",
    "\n",
    "print(20*' ' + 'Лаб.6\\n' + 90*'=')\n",
    "\n",
    "fin = str(input('Текстовый файл с элементами массива A: '))\n",
    "fout = str(input('Текстовый файл с элементами массива A и индексом максимального значения: '))\n",
    "\n",
    "with open(fin, 'r') as f:\n",
    "    A = numpy.array([int(x) for x in f.readlines()])\n",
    "    \n",
    "print(90*'=' + '\\n' + 'Массив A: \\n')\n",
    "for i in range(len(A)):\n",
    "    print(A[i])    \n",
    "\n",
    "k = numpy.max(numpy.where(A % 9 == 0))\n",
    "j = numpy.argmax(numpy.where(A1[k + 1:] < A[0])) + k + 2\n",
    "\n",
    "print(90*'=' + '\\n' + 'Индекс максимального значения выбранных элементов массива A:', j)\n",
    "\n",
    "with open(fout, 'w') as f:\n",
    "    for i in range(len(A)):\n",
    "        f.write(\"{}\\n\".format(A[i]))\n",
    "    f.write(\"{}\".format(j))"
   ]
  },
  {
   "cell_type": "code",
   "execution_count": 51,
   "metadata": {},
   "outputs": [
    {
     "data": {
      "text/plain": [
       "(47, 2, array([ 87, -35, -65]), 49)"
      ]
     },
     "execution_count": 51,
     "metadata": {},
     "output_type": "execute_result"
    }
   ],
   "source": [
    "k+1, j+1, A[k+1:], j+k+2"
   ]
  },
  {
   "cell_type": "code",
   "execution_count": 52,
   "metadata": {},
   "outputs": [
    {
     "data": {
      "image/png": "[encoded data removed]",
      "text/plain": [
       "<Figure size 720x720 with 1 Axes>"
      ]
     },
     "metadata": {},
     "output_type": "display_data"
    }
   ],
   "source": [
    "pylab.figure(figsize=(10,10))\n",
    "pylab.scatter(range(len(A)), A)\n",
    "pylab.scatter(range(k+1, len(A)), A[k+1:], c='r')\n",
    "pylab.scatter(k+1+j, A[k+1:][j], s=150, \n",
    "              facecolors='none', edgecolors='r')\n",
    "pylab.axhline(A[0], c='darkred', ls='--', label=r'$A_1$')\n",
    "pylab.axvline(k, c='darkorange', ls='--', label=r'$k$')\n",
    "\n",
    "pylab.xlabel('i', fontsize=15) \n",
    "pylab.ylabel('A[i]', fontsize=15)\n",
    "pylab.xticks(range(-1, len(A)+1), range(len(A)+2));\n",
    "pylab.legend(fontsize=15, shadow=True, bbox_to_anchor=(1.2,0.4));"
   ]
  },
  {
   "cell_type": "markdown",
   "metadata": {},
   "source": [
    "### 4. Таблица данных \n",
    "\n",
    "| Класс | Имя | Описание (смысл, диапазон, точность) | Тип | Структура | Формат в/в |\n",
    "| :-: | :-: | :-: | :-: | :-: | :-: |\n",
    "| входные данные | fin | название текстового файла с элементами массива А | символ | строка | \"+X.txt\" |\n",
    "| входные данные | fout | название текстового файла с элементами массива А | символ | строка | \"+X.txt\" |\n",
    "| входные данные | A | вводимые из текстового файла числа | цел | одномерный массив (20) | +XX.XX+ (:5:6) |\n",
    "| выходные данные | j | выводимый в текстовый файл индекс максимального значения среди выбранных элементов | цел | простая переменная | XX (:2) |\n",
    "| промежуточные данные | k | индекс последнего кратного 9 элемента из $A$ | цел | простая переменная | --- |\n",
    "| промежуточные данные | i | индекс текущего элемента, 1≤i≤50 | цел | простая переменная | --- |\n",
    "\n",
    "_! в Delphi выход из цикла с 1 до 20 с шагом +1 происходит при значении 21, из цикла с 20 до 1 – при 0_"
   ]
  },
  {
   "cell_type": "code",
   "execution_count": null,
   "metadata": {},
   "outputs": [],
   "source": []
  }
 ],
 "metadata": {
  "kernelspec": {
   "display_name": "Python 3",
   "language": "python",
   "name": "python3"
  },
  "language_info": {
   "codemirror_mode": {
    "name": "ipython",
    "version": 3
   },
   "file_extension": ".py",
   "mimetype": "text/x-python",
   "name": "python",
   "nbconvert_exporter": "python",
   "pygments_lexer": "ipython3",
   "version": "3.6.4"
  }
 },
 "nbformat": 4,
 "nbformat_minor": 2
}
