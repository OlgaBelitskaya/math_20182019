{
 "cells": [
  {
   "cell_type": "markdown",
   "metadata": {},
   "source": [
    "# Спецификация к Лабораторной работе №6 \n",
    "\n",
    "# Поиск экстремума с двумя условиями. \n",
    "\n",
    "# Нисходящая разработка.\n",
    "\n",
    "# (Вариант 22)\n",
    "\n",
    "## Абстракция А0\n",
    "### 1. Постановка задачи.\n",
    "#### Задание: \n",
    "Написать программу обработки одномерного массива в соответствии с условием.\n",
    "\n",
    "#### Условие: \n",
    "Для заданного целочисленного массива $\\{A_1, A_2, …, A_n\\}$ определить \n",
    "\n",
    "номер первого максимального значения среди элементов, \n",
    "\n",
    "- меньших A1 и \n",
    "\n",
    "- расположенных правее последнего элемента, кратного девяти. "
   ]
  },
  {
   "cell_type": "markdown",
   "metadata": {},
   "source": [
    "### 2. Уточненная постановка задачи.\n",
    "Дан одномерный целочисленный массив A из n элементов.\n",
    "\n",
    "Обозначим индекс $k: (A_k \\in A) \\land (A_k \\vdots 9) \\land \\neg (A_i \\vdots 9), \\forall i > k$. \n",
    "\n",
    "Найти $\\displaystyle{j: A_j = \\max_i \\{A_i: A_i < A_1, \\forall i > k\\} }$."
   ]
  },
  {
   "cell_type": "markdown",
   "metadata": {},
   "source": [
    "### 3. Пример с иллюстрацией."
   ]
  },
  {
   "cell_type": "code",
   "execution_count": 1,
   "metadata": {},
   "outputs": [],
   "source": [
    "import numpy\n",
    "import pylab \n",
    "%matplotlib inline\n",
    "pylab.style.use('seaborn-whitegrid')"
   ]
  },
  {
   "cell_type": "code",
   "execution_count": 4,
   "metadata": {},
   "outputs": [
    {
     "data": {
      "text/plain": [
       "array([ 30, -40, -22,  68,  46,  12, -94, -14, -75,  87, -47,  83,  51,\n",
       "        -9, -30,  19,  21,  -2, -35,  37,  71,  77,  62,  70, -46,  81,\n",
       "       -65, -85, -79,  49,  82,  92,  53,  13, -48, -80,  26, -32,   3,\n",
       "       -69,  16, -42,  51, -51, -53,  82,  17, -55,  -7,  30])"
      ]
     },
     "execution_count": 4,
     "metadata": {},
     "output_type": "execute_result"
    }
   ],
   "source": [
    "A1 = numpy.random.randint(-100, 100, size=50)\n",
    "numpy.savetxt('A_Lab6_1.txt', A1, fmt='%5.0f')\n",
    "A1"
   ]
  },
  {
   "cell_type": "code",
   "execution_count": 74,
   "metadata": {},
   "outputs": [
    {
     "data": {
      "text/plain": [
       "array([1, 2, 2, 1, 2, 2, 1, 1, 2, 2])"
      ]
     },
     "execution_count": 74,
     "metadata": {},
     "output_type": "execute_result"
    }
   ],
   "source": [
    "A2 = numpy.random.randint(1, 3, size=10)\n",
    "numpy.savetxt('A_Lab6_2.txt', A2, fmt='%5.0f')\n",
    "A2"
   ]
  },
  {
   "cell_type": "code",
   "execution_count": 79,
   "metadata": {},
   "outputs": [
    {
     "data": {
      "text/plain": [
       "(0, 0)"
      ]
     },
     "execution_count": 79,
     "metadata": {},
     "output_type": "execute_result"
    }
   ],
   "source": [
    "len(numpy.where(A2 < A2[0])[0]), len(numpy.where(A2 % 9 == 0)[0])"
   ]
  },
  {
   "cell_type": "code",
   "execution_count": 135,
   "metadata": {},
   "outputs": [
    {
     "data": {
      "text/plain": [
       "array([8, 8, 9, 7, 7, 8, 5, 8, 5, 9, 6, 7, 6, 5, 6, 6, 7, 9, 6, 7, 7, 6,\n",
       "       7, 8, 7, 6, 5, 8, 9, 6, 6, 5, 5, 9, 8, 6, 8, 5, 5, 7, 9, 8, 9, 9,\n",
       "       6, 6, 7, 8, 8, 7])"
      ]
     },
     "execution_count": 135,
     "metadata": {},
     "output_type": "execute_result"
    }
   ],
   "source": [
    "A3 = numpy.random.randint(5, 10, size=50)\n",
    "numpy.savetxt('A_Lab6_3.txt', A3, fmt='%5.0f')\n",
    "A3"
   ]
  },
  {
   "cell_type": "code",
   "execution_count": 138,
   "metadata": {},
   "outputs": [
    {
     "data": {
      "text/plain": [
       "array([ 4,  5,  7,  2,  8,  1,  5,  7,  7, -3,  7,  9,  3, -7,  4, -7, -7,\n",
       "       -4, -4,  1])"
      ]
     },
     "execution_count": 138,
     "metadata": {},
     "output_type": "execute_result"
    }
   ],
   "source": [
    "A4 = numpy.random.randint(-10, 10, size=20)\n",
    "numpy.savetxt('A_Lab6_4.txt', A4, fmt='%5.0f')\n",
    "A4"
   ]
  },
  {
   "cell_type": "code",
   "execution_count": 141,
   "metadata": {},
   "outputs": [
    {
     "data": {
      "text/plain": [
       "array([ -6,  -1,  -7,  -8,  -1,  -1,  -9,  -2,  -5,  -1,  -5, -10,  -5,\n",
       "        -9,  -4,  -8,  -4, -10,  -7,  -2])"
      ]
     },
     "execution_count": 141,
     "metadata": {},
     "output_type": "execute_result"
    }
   ],
   "source": [
    "A5 = numpy.random.randint(-10, 0, size=20)\n",
    "numpy.savetxt('A_Lab6_5.txt', A5, fmt='%5.0f')\n",
    "A5"
   ]
  },
  {
   "cell_type": "code",
   "execution_count": 145,
   "metadata": {},
   "outputs": [
    {
     "name": "stdout",
     "output_type": "stream",
     "text": [
      "                    Лаб.6\n",
      "==========================================================================================\n",
      "Текстовый файл с элементами массива A: A_Lab6_1.txt\n",
      "Текстовый файл с элементами массива A и индексом максимального значения: Aj_Lab6_1.txt\n",
      "==========================================================================================\n",
      "Массив A: \n",
      "\n",
      "[ 30 -40 -22  68  46  12 -94 -14 -75  87 -47  83  51  -9 -30  19  21  -2\n",
      " -35  37  71  77  62  70 -46  81 -65 -85 -79  49  82  92  53  13 -48 -80\n",
      "  26 -32   3 -69  16 -42  51 -51 -53  82  17 -55  -7  30]\n",
      "==========================================================================================\n",
      "Индекс максимального значения выбранных элементов массива A: 37\n"
     ]
    }
   ],
   "source": [
    "# A_Lab6_1.txt, A_Lab6_2.txt, A_Lab6_3.txt, A_Lab6_4.txt, A_Lab6_5.txt\n",
    "# Aj_Lab6_1.txt, Aj_Lab6_2.txt, Aj_Lab6_3.txt, Aj_Lab6_4.txt, Aj_Lab6_5.txt\n",
    "\n",
    "print(20*' ' + 'Лаб.6\\n' + 90*'=')\n",
    "\n",
    "fin = str(input('Текстовый файл с элементами массива A: '))\n",
    "fout = str(input('Текстовый файл с элементами массива A и индексом максимального значения: '))\n",
    "\n",
    "with open(fin, 'r') as f:\n",
    "    A = numpy.array([int(x) for x in f.readlines()])\n",
    "    \n",
    "print(90*'=' + '\\n' + 'Массив A: \\n')\n",
    "print(A)   \n",
    "\n",
    "if (len(numpy.where(A % 9 == 0)[0]) == 0) or (len(numpy.where(A < A[0])[0]) == 0):\n",
    "    print(90*'=' + '\\n' + 'Нет таких элементов')\n",
    "    j = 0    \n",
    "else:\n",
    "    k = numpy.max(numpy.where(A % 9 == 0)) + 1\n",
    "    if (k == len(A)) or (len(numpy.where(A[k:] < A[0])[0]) == 0):\n",
    "        print(90*'=' + '\\n' + 'Нет таких элементов')\n",
    "        j = 0\n",
    "    else:\n",
    "        j = numpy.argwhere(A[k:] == max(A[k:][A[k:] < A[0]]))[0][0] + k + 1\n",
    "\n",
    "        print(90*'=' + '\\n' + 'Индекс максимального значения выбранных элементов массива A:', j)\n",
    "\n",
    "with open(fout, 'w') as f:\n",
    "    for i in range(len(A)):\n",
    "        f.write(\"{}\\n\".format(A[i]))\n",
    "    f.write(\"{}\".format(j))"
   ]
  },
  {
   "cell_type": "code",
   "execution_count": 162,
   "metadata": {},
   "outputs": [
    {
     "name": "stdout",
     "output_type": "stream",
     "text": [
      "                    Лаб.6\n",
      "==============================================================================================================\n",
      "Текстовый файл с элементами массива A: A_Lab6_1.txt\n",
      "Текстовый файл с элементами массива A и индексом максимального значения: Aj_Lab6_1.txt\n",
      "==============================================================================================================\n",
      "Массив A: \n",
      "\n",
      "[30, -40, -22, 68, 46, 12, -94, -14, -75, 87, -47, 83, 51, -9, -30, 19, 21, -2, -35, 37, 71, 77, 62, 70, -46, 81, -65, -85, -79, 49, 82, 92, 53, 13, -48, -80, 26, -32, 3, -69, 16, -42, 51, -51, -53, 82, 17, -55, -7, 30]\n",
      "==============================================================================================================\n",
      "Индекс максимального значения выбранных элементов массива A: 37\n"
     ]
    }
   ],
   "source": [
    "# python only\n",
    "print(20*' ' + 'Лаб.6\\n' + 110*'=')\n",
    "\n",
    "fin = str(input('Текстовый файл с элементами массива A: '))\n",
    "fout = str(input('Текстовый файл с элементами массива A и индексом максимального значения: '))\n",
    "\n",
    "with open(fin, 'r') as f:\n",
    "    A = [int(x) for x in f.readlines()]\n",
    "    \n",
    "print(110*'=' + '\\n' + 'Массив A: \\n')\n",
    "print(A)\n",
    "\n",
    "j, k, MAX = 0, 0, -1000000\n",
    "for i in range(len(A)):\n",
    "    if A[i] % 9 == 0: \n",
    "        k = i + 1\n",
    "for i in range(k + 1, len(A)):\n",
    "    if (A[i] < A[0]): \n",
    "        if (A[i] > MAX):\n",
    "            MAX, j = A[i], i + 1\n",
    "if k == 0 or j == 0:\n",
    "    print(110*'=' + '\\n' + 'Нет таких элементов')\n",
    "else:\n",
    "    print(110*'=' + '\\n' + 'Индекс максимального значения выбранных элементов массива A:', j)\n",
    "\n",
    "with open(fout, 'w') as f:\n",
    "    for i in range(len(A)):\n",
    "        f.write(\"{}\\n\".format(A[i]))\n",
    "    f.write(\"{}\".format(j))"
   ]
  },
  {
   "cell_type": "code",
   "execution_count": 155,
   "metadata": {},
   "outputs": [
    {
     "data": {
      "image/png": "[encoded data removed]",
      "text/plain": [
       "<Figure size 720x720 with 1 Axes>"
      ]
     },
     "metadata": {},
     "output_type": "display_data"
    }
   ],
   "source": [
    "pylab.figure(figsize=(10,10))\n",
    "pylab.scatter(range(len(A)), A)\n",
    "pylab.scatter(range(k, len(A)), A[k:], c='r')\n",
    "pylab.scatter(j-1, A[j-1], s=150, label=r'$A[j]$',\n",
    "              facecolors='none', edgecolors='purple')\n",
    "pylab.axhline(A[0], c='darkred', ls='--', label=r'$A_1$')\n",
    "pylab.axvline(k-1, c='darkblue', ls='--', label=r'$k$')\n",
    "pylab.axvline(j-1, c='purple', ls='--', label=r'$j$')\n",
    "\n",
    "pylab.xlabel('i', fontsize=15) \n",
    "pylab.ylabel('A[i]', fontsize=15)\n",
    "pylab.xticks(range(-1, len(A)+1), range(len(A)+2));\n",
    "pylab.legend(fontsize=15, shadow=True, bbox_to_anchor=(1.2,0.4));"
   ]
  },
  {
   "cell_type": "markdown",
   "metadata": {},
   "source": [
    "### 4. Таблица данных \n",
    "\n",
    "| Класс | Имя | Описание (смысл, диапазон, точность) | Тип | Структура | Формат в/в |\n",
    "| :-: | :-: | :-: | :-: | :-: | :-: |\n",
    "| входные данные | fin | название текстового файла с элементами массива А | символ | строка | \"+X.txt\" |\n",
    "| входные данные | fout | название текстового файла с элементами массива А | символ | строка | \"+X.txt\" |\n",
    "| входные данные | A | вводимые из текстового файла числа | цел | одномерный массив | +XX (:5) |\n",
    "| выходные данные | j | выводимый в текстовый файл индекс максимального значения среди выбранных элементов | цел | простая переменная | XX (:2) |\n",
    "| промежуточные данные | k | индекс последнего кратного 9 элемента из $A$ | цел | простая переменная | --- |\n",
    "| промежуточные данные | i | индекс текущего элемента, 1≤i≤50 | цел | простая переменная | --- |\n",
    "| промежуточные данные | MAX | максимальное значение среди выбранных элементов | цел | простая переменная | --- |\n",
    "\n",
    "_! в Delphi выход из цикла с 1 до 20 с шагом +1 происходит при значении 21, из цикла с 20 до 1 – при 0_"
   ]
  },
  {
   "cell_type": "markdown",
   "metadata": {},
   "source": [
    "### 5. Входная форма\n",
    "- обр 1.1 Текстовый файл с элементами массива A: $<fin>$       \n",
    "- обр 1.2 Текстовый файл с элементами массива A и индексом максимального значения: $<fout>$\n",
    "- обр 2.1 Массив A:\n",
    "- обр 2.2 $ < A[1] > < A[2] >  … < A[n] > $\n",
    "\n",
    "### 6. Выходная форма\n",
    "\n",
    "- обр 3 Лаб. 6\n",
    "- обр 4.1 Текстовый файл с элементами массива A: $<fin>$       \n",
    "- обр 4.2 Текстовый файл с элементами массива A и индексом максимального значения: $<fout>$\n",
    "- обр 5.1 Массив A:\n",
    "- обр 5.2 $ < A[1] > < A[2] > … < A[n] > $\n",
    "\n",
    "- обр 6.1 Индекс максимального значения выбранных элементов массива A: $< j >$\n",
    "- обр 6.2 Нет таких элементов\n",
    "\n",
    "### 7. Аномалии\n",
    "\n",
    "-"
   ]
  },
  {
   "cell_type": "markdown",
   "metadata": {},
   "source": [
    "### 8. Функциональные тесты\n",
    "\n",
    "| Исходные данные | - | - |Результаты | - | Тест |\n",
    "| :-: | :-: | :-: | :-: | :-: | :-: |\n",
    "| fin | fout | A | j | Сообщение |№ |\n",
    "| A_Lab6_1.txt | Aj_Lab6_1.txt | `[30 -40 -22 68 46 12 -94 -14 -75 87 -47 83 51 -9 -30 19 21 -2 -35 37 71 77 62 70 -46 81 -65 -85 -79 49 82 92 53 13 -48 -80 26 -32 3 -69 16 -42 51 -51 -53 82 17 -55 -7 30]` | `37` | - | 1 | \n",
    "| - | - | - | - | - | - |\n",
    "| A_Lab6_2.txt | Aj_Lab6_2.txt | `[1 2 2 1 2 2 1 1 2 2]` | `0` | `Нет таких элементов` | 2 |\n",
    "| - | - | - | - | - | - |\n",
    "| A_Lab6_3.txt | Aj_Lab6_3.txt | `[8 8 9 7 7 8 5 8 5 9 6 7 6 5 6 6 7 9 6 7 7 6 7 8 7 6 5 8 9 6 6 5 5 9 8 6 8 5 5 7 9 8 9 9 6 6 7 8 8 7]` | `47` | - | 3 |\n",
    "| - | - | - | - | - | - |\n",
    "| A_Lab6_4.txt | Aj_Lab6_4.txt | `[4 5 7 2 8 1 5 7 7 -3 7 9 3 -7 4 -7 -7 -4 -4 1]` | `13` | - | 4 |\n",
    "| - | - | - | - | - | - |\n",
    "| A_Lab6_5.txt | Aj_Lab6_5.txt | `[-6 -1 -7 -8 -1 -1 -9 -2 -5 -1 -5 -10 -5 -9 -4 -8 -4 -10 -7 -2]` | `19` | - | 5 |"
   ]
  },
  {
   "cell_type": "markdown",
   "metadata": {},
   "source": [
    "| № теста | Входные  данные | - | - | Ожидаемый результат | - | Смысл теста |\n",
    "| :-: | :-: | :-: | :-: | :-: | :-: | :-: |\n",
    "| - | - | - | - | - | - | - |\n",
    "| 1 | fin = 'A_Lab6_1.txt' | fout = 'Aj_Lab6_1.txt' |  A = `[30 -40 -22 68 46 12 -94 -14 -75 87 -47 83 51 -9 -30 19 21 -2 -35 37 71 77 62 70 -46 81 -65 -85 -79 49 82 92 53 13 -48 -80 26 -32 3 -69 16 -42 51 -51 -53 82 17 -55 -7 30]` | j = `37` | - | Подтвердить правильность расчетов в случае широкого спектра положительных и отрицательных чисел |\n",
    "| - | - | - | - | - | - | - |\n",
    "| 2 | fin = 'A_Lab6_2.txt' | fout = 'Aj_Lab6_2.txt' |  A = `[1 2 2 1 2 2 1 1 2 2]` | j = `0` | Сообщение = 'Нет таких элементов' | Протестировать простейший случай |\n",
    "| - | - | - | - | - | - | - |\n",
    "| 3 | fin = 'A_Lab6_3.txt' | fout = 'Aj_Lab6_3.txt' |  A = `[8 8 9 7 7 8 5 8 5 9 6 7 6 5 6 6 7 9 6 7 7 6 7 8 7 6 5 8 9 6 6 5 5 9 8 6 8 5 5 7 9 8 9 9 6 6 7 8 8 7]` | j = `47` | - | Протестировать массив в узком диапазоне положительных чисел |\n",
    "| - | - | - | - | - | - | - |\n",
    "| 4 | fin = 'A_Lab6_4.txt' | fout = 'Aj_Lab6_4.txt' |  A = `[4 5 7 2 8 1 5 7 7 -3 7 9 3 -7 4 -7 -7 -4 -4 1]` | j = `13` | - | Протестировать массив в узком диапазоне положительных и отрицательныхчисел |\n",
    "| - | - | - | - | - | - | - |\n",
    "| 5 | fin = 'A_Lab6_5.txt' | fout = 'Aj_Lab6_5.txt' |  A = `[-6 -1 -7 -8 -1 -1 -9 -2 -5 -1 -5 -10 -5 -9 -4 -8 -4 -10 -7 -2]` | j = `19` | - | Подтвердить правильность расчетов в случае отрицательных чисел |"
   ]
  },
  {
   "cell_type": "markdown",
   "metadata": {},
   "source": [
    "| - | Результаты | № теста |\n",
    "| :-: | :-: | :-: |\n",
    "| - | - | - |\n",
    "| j | Максимальная вычислительная нагрузка = 50 (проверка делимости) + 24 (проверка меньше ли первого элемента) + 17 (поиск максимума) | 1 |\n",
    "| - | Соответствует ожидаемым числовым значениям | - |\n",
    "| j | 0 | 2 |\n",
    "| - | Отсутствие элементов, соответствующих условиям | 2 |\n",
    "| j | Максимальная вычислительная нагрузка = 50 (проверка делимости) + 6 (проверка меньше ли первого элемента) + 4 (поиск максимума) | 3 |\n",
    "| - | Соответствует ожидаемым числовым значениям и легко подтверждается визуально | - |\n",
    "| j | Максимальная вычислительная нагрузка = 20 (проверка делимости) + 8 (проверка меньше ли первого элемента) + 7 (поиск максимума) | 4 |\n",
    "| - | Соответствует ожидаемым числовым значениям | - |\n",
    "| j | Максимальная вычислительная нагрузка = 20 (проверка делимости) + 6 (проверка меньше ли первого элемента) + 3 (поиск максимума)| 5 |\n",
    "| - | Соответствует ожидаемым числовым значениям | - |\n",
    "| - | - | - |\n",
    "| Сообщение | - | 1 |\n",
    "| Сообщение | Нет таких элементов | 2 |\n",
    "| Сообщение | - | 3 |\n",
    "| Сообщение | - | 4 |\n",
    "| Сообщение | - | 5 |"
   ]
  },
  {
   "cell_type": "markdown",
   "metadata": {},
   "source": [
    "### 9. Метод\n",
    "Отделим ввод-вывод от обработки данных и разделим задачу на три подзадачи:\n",
    "\n",
    "1.\t_Подзадача А 0.1._ Запросить названия текстовых файлов ввода-вывода, считать из текстового файла ввода исходные данные (обр.1-2), затем вывести их на экран (обр.3-6) для визуального подтверждения.\n",
    "2.\t_Подзадача А 0.2._ Решение поставленной задачи: на основе введенных исходных данных (`A`) определить номер первого максимального значения среди элементов,\n",
    "\n",
    "    - меньших A1 и\n",
    "\n",
    "    - расположенных правее последнего элемента, кратного девяти.\n",
    "    \n",
    "3.\t_Подзадача А 0.3._ Ввести полученные результаты (`j`) на экран (обр.6) и записать в файл вывода исходный массив и полученный результат.\n",
    "\n",
    "Ввод-вывод тривиален и представляет собой чисто техническую задачу. \n",
    "\n",
    "Для осуществления процесса ввода-вывода и обработки массива потребуются промежуточные переменные: \n",
    "\n",
    "- `i` – индекс текущего элемента массива, \n",
    "\n",
    "- `k` - индекс последнего кратного 9 элемента в массиве,\n",
    "\n",
    "- `MAX` - максимальное значение среди выбранных согласно условиям элементов массива.\n",
    "\n",
    "Их следует добавить в таблицу данных. \n",
    "\n",
    "Алгоритм необходим только для обработка входных данных и расчета результата. "
   ]
  },
  {
   "cell_type": "markdown",
   "metadata": {},
   "source": [
    "### 10. Алгоритм\n",
    "\n",
    "[Sample diagrams](http://blockdiag.com/en/blockdiag/examples.html#sample-diagrams)"
   ]
  },
  {
   "cell_type": "code",
   "execution_count": 175,
   "metadata": {},
   "outputs": [
    {
     "name": "stdout",
     "output_type": "stream",
     "text": [
      "Overwriting block_diagram\n"
     ]
    }
   ],
   "source": [
    "%%file block_diagram\n",
    "\n",
    "blockdiag {\n",
    "    orientation = portrait;\n",
    "    class start_end [shape = ellipse, fontsize = 15, color = lightskyblue];\n",
    "    class input_out [shape = flowchart.input, fontsize = 15, width = 750, color = lightcyan];\n",
    "    class main_box [shape = box, width = 500, height = 150, fontsize = 18];\n",
    "    \n",
    "    Начало -> \n",
    "    \"Вывод заголовка по обр.3 на экран\" -> \n",
    "    \"Ввод имени файла по обр.1.1\" -> \"Ввод имени файла по обр.1.2\" ->\n",
    "    \"Ввод пояснения по обр.2.1\" -> \"Ввод А из файла по обр.2.2\" ->\n",
    "    \"Вывод имени файла по обр.4.1 на экран\" -> \"Вывод имени файла по обр.4.2 на экран\" ->\n",
    "    \"Вывод пояснения по обр.5.1 на экран\" -> \"Вывод А на экран и в файл по обр.5.2\" ->\n",
    "    \"Определение индекса \\nмаксимального значения \\nвыбранных элементов массива A \\n(j)\" ->\n",
    "    \"Вывод j или сообщения на экран и в файл по обр.6\" ->\n",
    "    Конец;\n",
    "\n",
    "    Начало, Конец [class = \"start_end\"];\n",
    "    \"Ввод имени файла по обр.1.1\", \"Ввод имени файла по обр.1.2\" [class = \"input_out\"];\n",
    "    \"Ввод пояснения по обр.2.1\", \"Ввод А из файла по обр.2.2\" [class = \"input_out\"];\n",
    "    \"Вывод имени файла по обр.4.1 на экран\", \"Вывод имени файла по обр.4.2 на экран\" [class = \"input_out\"];\n",
    "    \"Вывод пояснения по обр.5.1 на экран\", \"Вывод А на экран и в файл по обр.5.2\" [class = \"input_out\"]; \n",
    "    \"Вывод заголовка по обр.3 на экран\", \"Вывод j или сообщения на экран и в файл по обр.6\" [class = \"input_out\"];\n",
    "    \"Определение индекса \\nмаксимального значения \\nвыбранных элементов массива A \\n(j)\" [class = \"main_box\"];\n",
    "    \n",
    "    \"Вывод А на экран и в файл по обр.5.2\" -> \n",
    "    \"Определение индекса \\nмаксимального значения \\nвыбранных элементов массива A \\n(j)\" [label = 'Вх. А', fontsize = 18];\n",
    "    \"Определение индекса \\nмаксимального значения \\nвыбранных элементов массива A \\n(j)\" ->\n",
    "    \"Вывод j или сообщения на экран и в файл по обр.6\" [label = 'Вых. j', fontsize = 18];\n",
    "}"
   ]
  },
  {
   "cell_type": "code",
   "execution_count": 176,
   "metadata": {},
   "outputs": [],
   "source": [
    "!blockdiag block_diagram"
   ]
  },
  {
   "cell_type": "code",
   "execution_count": 177,
   "metadata": {},
   "outputs": [
    {
     "data": {
      "image/png": "[encoded data removed]",
      "text/plain": [
       "<IPython.core.display.Image object>"
      ]
     },
     "execution_count": 177,
     "metadata": {},
     "output_type": "execute_result"
    }
   ],
   "source": [
    "from IPython.display import Image\n",
    "Image(\"block_diagram.png\")"
   ]
  },
  {
   "cell_type": "markdown",
   "metadata": {},
   "source": [
    "### 11. Программа на <i>Delphi</i>. \n",
    "\n",
    "__Диалоговый вариант {ввод названий файлов и данных из текстового файла, вывод на экран и в текстовый файл}__\n",
    "\n",
    "Синтаксис:\n",
    "\n",
    "[Pascal Tutorial](https://www.tutorialspoint.com/pascal/index.htm)\n",
    "\n",
    "Проверить программу онлайн без установки программной среды:\n",
    "\n",
    "[Compile and Execute Pascal Online](http://www.compileonline.com/compile_pascal_online.php)"
   ]
  },
  {
   "cell_type": "code",
   "execution_count": null,
   "metadata": {},
   "outputs": [],
   "source": [
    "program Lab6; //сохранить как lab6.dpr (DPR – Delphi PRoject)  \n",
    "{$APPTYPE CONSOLE}\n",
    "Uses Windows; // для русификации (сделать комментарием в онлайн-компиляторе!)\n",
    "\n",
    "    var\n",
    "        i, j k: integer;\n",
    "        MAX: integer;\n",
    "        fin, fout: string;\n",
    "        tfin, tfout: TextFile;\n",
    "        A: array of integer; \n",
    "\n",
    "    begin\n",
    "        setConsoleCP(1251); // для ввода  русификация и (сделать строку комментарием в онлайн-компиляторе!)\n",
    "        setConsoleOutputCP(1251); // для вывода (сделать строку комментарием в онлайн-компиляторе!)\n",
    "\n",
    "        {A0.1, A0.3 - ввод-вывод входных данных}\n",
    "        writeln('Лаб.6' :40); {вывод заголовка c переходом на следующую строку по обр.3}\n",
    "        \n",
    "        {ввод-вывод строковой переменной - имени файла с входными данными по обр.1.1, 4.1}\n",
    "        writeln('Текстовый файл с элементами массива A:  '); \n",
    "        readln(fin);\n",
    "        writeln(fin);\n",
    "\n",
    "        {ввод-вывод строковой переменной - имени файла с входными данными по обр.1.2, 4.2}\n",
    "        writeln('Текстовый файл с элементами массива A и индексом максимального значения: '); \n",
    "        readln(fout); \n",
    "        writeln(fout);\n",
    "        \n",
    "        {ввод-вывод исходного массивa A по обр.2.1, 2.2, 5.1, 5.2}\n",
    "        writeln('Массив A: '); {вывод пояснения с переходом на следующую строку}\n",
    "        \n",
    "        AssignFile(tfin, fin); reset(tfin); {открыть файл для чтения} \n",
    "        AssignFile(tfout, fout); rewrite(tfout); {открыть файл для записи}\n",
    "                \n",
    "        j := 0; k := 0;            \n",
    "        MAX := -10000000000;\n",
    "            \n",
    "        i := 1;\n",
    "                \n",
    "        while not eof(tfin) do \n",
    "\n",
    "        begin\n",
    "            SetLength(A,i);\n",
    "            readln(tfin, A[i]); {ввод элемента и переход на следующую строку} \n",
    "            writeln(A[i]:5); {вывод элемента и переход на следующую строку на экране}\n",
    "            writeln(tfout, A[i]:5); {вывод элемента и переход на следующую строку в файле}\n",
    "            \n",
    "            k := 26; j := 37; MAX := 26 {заглушка для теста 1}\n",
    "            // k := 0; j := 0; MAX := -10000000000; \n",
    "            // writeln('Нет таких элементов'); {заглушка для теста 2}\n",
    "            // k := 44; j := 47; MAX := 7; {заглушка для теста 3}\n",
    "            // k := 12; j := 13; MAX := 3; {заглушка для теста 4}\n",
    "            // k := 14; j := 19; MAX := -7; {заглушка для теста 5}\n",
    "            \n",
    "            i := i + 1;\n",
    "        end;\n",
    "            \n",
    "        CloseFile(tfin); {закрыть файл для чтения} \n",
    "   \n",
    "        for i:=1 to 80 do \n",
    "            write('='); {отделим визуально чертой и строкой введенные и выводимые значения}\n",
    "        writeln; \n",
    "                    \n",
    "        writeln('Индекс максимального значения выбранных элементов массива A:', j:2);\n",
    "        {вывод переменной и переход на следующую строку на экране по обр.6}             \n",
    "        writeln(tfout, j:2); \n",
    "        {вывод MIN и переход на следующую строку в файле по обр.6}\n",
    "        \n",
    "        CloseFile(tfout); {закрыть файл для записи}\n",
    "        \n",
    "    end."
   ]
  },
  {
   "cell_type": "markdown",
   "metadata": {},
   "source": [
    "## Раскрытие абстракции А0.2\n",
    "_Поскольку условие всей задачи совпадает (за исключением необходимости ввода-вывода) с условием выделенной подзадачи,_\n",
    "\n",
    "_вместо полной спецификации с пунктами 1-11 выполнено просто дополнение к пунктам 9-11._\n",
    "\n",
    "### 9. Метод\n",
    "Пусть\n",
    "\n",
    "- $i$ – номер текущий точки,\n",
    "\n",
    "- $A[i]$ – соответствующий элемент исходного массива A,\n",
    "\n",
    "- $k$ - индекс последнего кратного 9 элемента из A,\n",
    "\n",
    "- $MAX$ - первое максимальное значение среди элементов,\n",
    "\n",
    "  - меньших $A[1]$ и\n",
    "\n",
    "  - расположенных правее последнего элемента, кратного девяти.\n",
    "  \n",
    "- $j$ - номер этого первого максимального значения.\n",
    "  \n",
    "Присвоим переменным начальные значения: $MAX = -10000000000, j = 0, k = 0$.\n",
    "\n",
    "Поиск индекса последнего кратного 9 элемента из A осуществляется с помощью цикла.\n",
    "\n",
    "На каждом этапе определяется, делится элемент на 9 или нет.\n",
    "\n",
    "Если делится, то значение индекса $k$ обновляется.\n",
    "\n",
    "Следующий цикл запускается для элементов с индексом, большим $k$.\n",
    "\n",
    "В нем определяется индекс $j$ элемента, максимального в этом ряду, но меньше $A[1]$.\n",
    "\n",
    "Используется вспомогательная переменная $MAX$.\n",
    "\n",
    "Если в цикле удается найти новый элемент, больше предыдущего максимального значения, но меньше $A[1]$,\n",
    "\n",
    "то значения $j, MAX$ обновляются."
   ]
  },
  {
   "cell_type": "code",
   "execution_count": null,
   "metadata": {},
   "outputs": [],
   "source": []
  }
 ],
 "metadata": {
  "kernelspec": {
   "display_name": "Python 3",
   "language": "python",
   "name": "python3"
  },
  "language_info": {
   "codemirror_mode": {
    "name": "ipython",
    "version": 3
   },
   "file_extension": ".py",
   "mimetype": "text/x-python",
   "name": "python",
   "nbconvert_exporter": "python",
   "pygments_lexer": "ipython3",
   "version": "3.6.4"
  }
 },
 "nbformat": 4,
 "nbformat_minor": 2
}
