{
 "cells": [
  {
   "cell_type": "markdown",
   "metadata": {},
   "source": [
    "# Спецификация к Лабораторной работе №6 \n",
    "\n",
    "# \"Поиск экстремума с двумя условиями. Нисходящая разработка\"\n",
    "\n",
    "# (Вариант 22)\n",
    "\n",
    "## Абстракция А0\n",
    "### 1. Постановка задачи.\n",
    "#### Задание: \n",
    "Написать программу обработки одномерного массива в соответствии с условием.\n",
    "\n",
    "#### Условие: \n",
    "Для заданного целочисленного массива $\\{A_1, A_2, …, A_n\\}$ определить \n",
    "\n",
    "номер первого максимального значения среди элементов, \n",
    "\n",
    "- меньших A1 и \n",
    "\n",
    "- расположенных правее последнего элемента, кратного девяти. "
   ]
  },
  {
   "cell_type": "markdown",
   "metadata": {},
   "source": [
    "### 2. Уточненная постановка задачи.\n",
    "Дан одномерный целочисленный массив A из n элементов.\n",
    "\n",
    "Обозначим индекс $k: (A_k \\in A) \\land (A_k \\vdots 9) \\land \\neg (A_i \\vdots 9), \\forall i > k$. \n",
    "\n",
    "Найти $\\displaystyle{j: A_j = \\max_i \\{A_i: A_i < A_1, \\forall i > k\\} }$."
   ]
  },
  {
   "cell_type": "markdown",
   "metadata": {},
   "source": [
    "### 3. Пример с иллюстрацией."
   ]
  },
  {
   "cell_type": "code",
   "execution_count": 91,
   "metadata": {},
   "outputs": [
    {
     "data": {
      "text/plain": [
       "array([ 63,  58,  60,  -4,   9,  80, -19, -43, -40, -47,  33, -61,  81,\n",
       "       -89,  90,  66,  16, -77,  33,  40,  -9, -68, -18, -74, -83, -27,\n",
       "        -9, -33,  -6,  60,  87, -98,  21,  60, -55,  98,  48,  12, -50,\n",
       "       -49,  44,  17,  59,  77, -41, -56, -18, -44,  41, -96])"
      ]
     },
     "execution_count": 91,
     "metadata": {},
     "output_type": "execute_result"
    }
   ],
   "source": [
    "import numpy\n",
    "A1 = numpy.random.randint(-100,100, size=50)\n",
    "numpy.savetxt('A_Lab6_1.txt', A1, fmt='%5.0f')\n",
    "A1"
   ]
  },
  {
   "cell_type": "code",
   "execution_count": 97,
   "metadata": {},
   "outputs": [
    {
     "name": "stdout",
     "output_type": "stream",
     "text": [
      "                    Лаб.6\n",
      "==========================================================================================\n",
      "Текстовый файл с элементами массива A: A_Lab6_1.txt\n",
      "Текстовый файл с элементами массива A и индексом максимального значения: Aj_Lab6_1.txt\n",
      "==========================================================================================\n",
      "Массив A: \n",
      "\n",
      "[ 63  58  60  -4   9  80 -19 -43 -40 -47  33 -61  81 -89  90  66  16 -77\n",
      "  33  40  -9 -68 -18 -74 -83 -27  -9 -33  -6  60  87 -98  21  60 -55  98\n",
      "  48  12 -50 -49  44  17  59  77 -41 -56 -18 -44  41 -96]\n",
      "==========================================================================================\n",
      "Индекс максимального значения выбранных элементов массива A: 49\n"
     ]
    }
   ],
   "source": [
    "import pylab \n",
    "%matplotlib inline\n",
    "pylab.style.use('seaborn-whitegrid')\n",
    "\n",
    "# A_Lab6_1.txt, A_Lab6_2.txt, A_Lab6_3.txt, A_Lab6_4.txt, A_Lab6_5.txt\n",
    "# Aj_Lab6_1.txt, Aj_Lab6_2.txt, Aj_Lab6_3.txt, Aj_Lab6_4.txt, Aj_Lab6_5.txt\n",
    "\n",
    "print(20*' ' + 'Лаб.6\\n' + 90*'=')\n",
    "\n",
    "fin = str(input('Текстовый файл с элементами массива A: '))\n",
    "fout = str(input('Текстовый файл с элементами массива A и индексом максимального значения: '))\n",
    "\n",
    "with open(fin, 'r') as f:\n",
    "    A = numpy.array([int(x) for x in f.readlines()])\n",
    "    \n",
    "print(90*'=' + '\\n' + 'Массив A: \\n')\n",
    "print(A)   \n",
    "\n",
    "k = numpy.max(numpy.where(A % 9 == 0))\n",
    "if len(numpy.where(A[k + 1:] < A[0])[0]) == 0:\n",
    "    print('Нет таких элементов')\n",
    "else:\n",
    "    j = numpy.argmax(numpy.where(A[k + 1:] < A[0])) + k + 1\n",
    "\n",
    "    print(90*'=' + '\\n' + 'Индекс максимального значения выбранных элементов массива A:', j)\n",
    "\n",
    "    with open(fout, 'w') as f:\n",
    "        for i in range(len(A)):\n",
    "            f.write(\"{}\\n\".format(A[i]))\n",
    "        f.write(\"{}\".format(j))"
   ]
  },
  {
   "cell_type": "code",
   "execution_count": 98,
   "metadata": {},
   "outputs": [
    {
     "data": {
      "text/plain": [
       "(47, 49, array([-44,  41, -96]), 49)"
      ]
     },
     "execution_count": 98,
     "metadata": {},
     "output_type": "execute_result"
    }
   ],
   "source": [
    "k+1, j, A[k+1:], j"
   ]
  },
  {
   "cell_type": "code",
   "execution_count": 99,
   "metadata": {},
   "outputs": [
    {
     "data": {
      "image/png": "[encoded data removed]",
      "text/plain": [
       "<Figure size 720x720 with 1 Axes>"
      ]
     },
     "metadata": {},
     "output_type": "display_data"
    }
   ],
   "source": [
    "pylab.figure(figsize=(10,10))\n",
    "pylab.scatter(range(len(A)), A)\n",
    "pylab.scatter(range(k+1, len(A)), A[k+1:], c='r')\n",
    "pylab.scatter(j-1, A[j-1], s=150, \n",
    "              facecolors='none', edgecolors='r')\n",
    "pylab.axhline(A[0], c='darkred', ls='--', label=r'$A_1$')\n",
    "pylab.axvline(k, c='darkorange', ls='--', label=r'$k$')\n",
    "\n",
    "pylab.xlabel('i', fontsize=15) \n",
    "pylab.ylabel('A[i]', fontsize=15)\n",
    "pylab.xticks(range(-1, len(A)+1), range(len(A)+2));\n",
    "pylab.legend(fontsize=15, shadow=True, bbox_to_anchor=(1.2,0.4));"
   ]
  },
  {
   "cell_type": "markdown",
   "metadata": {},
   "source": [
    "### 4. Таблица данных \n",
    "\n",
    "| Класс | Имя | Описание (смысл, диапазон, точность) | Тип | Структура | Формат в/в |\n",
    "| :-: | :-: | :-: | :-: | :-: | :-: |\n",
    "| входные данные | fin | название текстового файла с элементами массива А | символ | строка | \"+X.txt\" |\n",
    "| входные данные | fout | название текстового файла с элементами массива А | символ | строка | \"+X.txt\" |\n",
    "| входные данные | A | вводимые из текстового файла числа | цел | одномерный массив | +XX (:5) |\n",
    "| выходные данные | j | выводимый в текстовый файл индекс максимального значения среди выбранных элементов | цел | простая переменная | XX (:2) |\n",
    "| промежуточные данные | k | индекс последнего кратного 9 элемента из $A$ | цел | простая переменная | --- |\n",
    "| промежуточные данные | i | индекс текущего элемента, 1≤i≤50 | цел | простая переменная | --- |\n",
    "\n",
    "_! в Delphi выход из цикла с 1 до 20 с шагом +1 происходит при значении 21, из цикла с 20 до 1 – при 0_"
   ]
  },
  {
   "cell_type": "markdown",
   "metadata": {},
   "source": [
    "### 5. Входная форма\n",
    "- обр 1.1 Текстовый файл с элементами массива A: $<fin>$       \n",
    "- обр 1.2 Текстовый файл с элементами массива A и индексом максимального значения: $<fout>$\n",
    "- обр 2.1 Массив A:\n",
    "- обр 2.2 $ < A[1] > < A[2] >  … < A[n] > $\n",
    "\n",
    "### 6. Выходная форма\n",
    "\n",
    "- обр 3 Лаб. 6\n",
    "- обр 4.1 Текстовый файл с элементами массива A: $<fin>$       \n",
    "- обр 4.2 Текстовый файл с элементами массива A и индексом максимального значения: $<fout>$\n",
    "- обр 5.1 Массив A:\n",
    "- обр 5.2 $ < A[1] > < A[2] > … < A[n] > $\n",
    "\n",
    "- обр 6 Индекс максимального значения выбранных элементов массива A: $< j >$\n",
    "\n",
    "### 7. Аномалии\n",
    "\n",
    "-"
   ]
  },
  {
   "cell_type": "code",
   "execution_count": null,
   "metadata": {},
   "outputs": [],
   "source": []
  }
 ],
 "metadata": {
  "kernelspec": {
   "display_name": "Python 3",
   "language": "python",
   "name": "python3"
  },
  "language_info": {
   "codemirror_mode": {
    "name": "ipython",
    "version": 3
   },
   "file_extension": ".py",
   "mimetype": "text/x-python",
   "name": "python",
   "nbconvert_exporter": "python",
   "pygments_lexer": "ipython3",
   "version": "3.6.4"
  }
 },
 "nbformat": 4,
 "nbformat_minor": 2
}
