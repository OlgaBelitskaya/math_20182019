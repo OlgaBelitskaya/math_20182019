{
 "cells": [
  {
   "cell_type": "code",
   "execution_count": 1,
   "metadata": {},
   "outputs": [
    {
     "data": {
      "text/html": [
       "<style>\n",
       "@import url('https://fonts.googleapis.com/css?family=Roboto&effect=3d|brick-sign|');\n",
       "span {font-family:Roboto; color:black; text-shadow:4px 4px 4px #aaa;}  \n",
       "h1,h2 {font-family:Roboto; color:slategray; text-shadow:4px 4px 4px #aaa;} \n",
       "div.output_subarea, div.output_area pre{font-family:Roboto; font_size:120%; color:darkblue;}\n",
       "</style>"
      ],
      "text/plain": [
       "<IPython.core.display.HTML object>"
      ]
     },
     "metadata": {},
     "output_type": "display_data"
    }
   ],
   "source": [
    "%%html\n",
    "<style>\n",
    "@import url('https://fonts.googleapis.com/css?family=Roboto&effect=3d|brick-sign|');\n",
    "span {font-family:Roboto; color:black; text-shadow:4px 4px 4px #aaa;}  \n",
    "h1,h2 {font-family:Roboto; color:slategray; text-shadow:4px 4px 4px #aaa;} \n",
    "div.output_subarea, div.output_area pre{font-family:Roboto; font_size:120%; color:darkblue;}\n",
    "</style>"
   ]
  },
  {
   "cell_type": "code",
   "execution_count": 2,
   "metadata": {},
   "outputs": [],
   "source": [
    "import math, sympy, numpy\n",
    "sympy.init_printing(use_unicode=True)\n",
    "from sympy import *\n",
    "import pylab as plt\n",
    "%matplotlib inline"
   ]
  },
  {
   "cell_type": "markdown",
   "metadata": {},
   "source": [
    "[GeoGebra](https://www.geogebra.org/graphing?lang=en)\n",
    "\n",
    "[LaTeX/Mathematics](https://en.wikibooks.org/wiki/LaTeX/Mathematics)\n",
    "\n",
    "[SymPy Tutorial. Calculus](https://docs.sympy.org/latest/tutorial/calculus.html)\n",
    "\n",
    "[ SymPy Modules Reference. Calculus](https://docs.sympy.org/latest/modules/calculus/index.html)"
   ]
  },
  {
   "cell_type": "markdown",
   "metadata": {},
   "source": [
    "# Вариант 22"
   ]
  },
  {
   "cell_type": "markdown",
   "metadata": {},
   "source": [
    "## Типовой расчет №1"
   ]
  },
  {
   "cell_type": "markdown",
   "metadata": {},
   "source": [
    "Доказать, что $\\large{\\displaystyle{\\lim_{n \\to \\infty} \\frac { 5n }{8n + 3}  = \\frac{5}{8} }}$"
   ]
  },
  {
   "cell_type": "markdown",
   "metadata": {},
   "source": [
    "Решение.\n",
    "\n",
    "По определению, предел последовательности $\\large{\\displaystyle{ a_n = \\frac{5n}{8n + 3} }}$ при $n \\to \\infty$ равен $\\large{\\frac{5}{8}}$, если\n",
    "\n",
    "для любого $\\varepsilon > 0$ существует такой номер $N(\\varepsilon)$, что для всех номеров $n > N$ выполняется неравенство \n",
    "\n",
    "$ \\large{\\displaystyle{\\bigg| \\frac{5n}{8n + 3} - \\frac{5}{8} \\bigg| < \\varepsilon }}$ (1), т.е.\n",
    "\n",
    "$ \\large{\\displaystyle{\\forall \\varepsilon > 0 \\ \\exists N = N(\\varepsilon) \\in \\mathbb{N}: \\forall n > N \\implies \\bigg| \\frac{5n}{8n + 3} - \\frac{5}{8}}} \\bigg| < \\varepsilon$.\n",
    "\n",
    "Зафиксируем произвольное  $\\varepsilon > 0$ и найдем номер  $N(\\varepsilon)$, для которого выполняется неравенство (1).\n",
    "\n",
    "$ \\large{\\displaystyle{\\bigg| \\frac{5n}{8n + 3} - \\frac{5}{8} \\bigg|  = \\bigg| \\frac{40n - 40n -15}{8 * (8n + 3)} \\bigg| =   \\bigg| \\frac{ -15}{64n + 24} \\bigg|  = \\bigg| \\frac{ 15}{64n + 24} \\bigg| = \\frac{ 15}{64n + 24} }}$, т.к. $n \\in \\mathbb{N}$.\n",
    "\n",
    "Неравенство (1) примет вид:\n",
    "\n",
    "$ \\large{\\displaystyle{\\frac{ 15}{64n + 24} < \\varepsilon \\iff 64n + 24 > \\frac{15}{\\varepsilon}  \\iff n >  \\frac{15}{64\\varepsilon} - \\frac{3}{8} \\iff n >  \\frac{15 - 24\\varepsilon}{64\\varepsilon} (2) }}$\n",
    "\n",
    "Для выполнения неравенства (1) достаточно подобрать такое $N = N(\\varepsilon) \\in \\mathbb{N}$, что (2) будет выполнено для всех $n > N$.\n",
    "\n",
    "Функция $\\large{\\displaystyle{\\frac{15 -24\\varepsilon}{64\\varepsilon} }}$ определена для любого $\\varepsilon > 0$, \n",
    "\n",
    "следовательно $N = N(\\varepsilon) \\in \\mathbb{N}$, при которых будет выполнено (2) для всех $n > N$, можно найти всегда.\n",
    "\n",
    "Например, при \n",
    "\n",
    "$\\large{\\displaystyle{\\varepsilon = \\frac {15}{88} :  n >  \\frac{15 * 88 - 24 * 15}{64 * 15} }}\\iff n > 1 \\implies N = 1$;\n",
    "\n",
    "$\\large{\\displaystyle{\\varepsilon = 0.125 :  n >  \\frac{15 - 24 * 0.125}{64 * 0.125} }}\\iff n > 1.5 \\implies N = 2$ и т.д.\n",
    "\n",
    "В качестве  $N = N(\\varepsilon) \\in \\mathbb{N}$ можно взять любое натуральное число, превышающее $\\large{\\displaystyle{\\frac{15 -24\\varepsilon}{64\\varepsilon} : n > N > \\frac{15 -24\\varepsilon}{64\\varepsilon} }}$ .\n",
    "\n",
    "Таким образом, $ \\large{\\displaystyle{N = \n",
    "\\begin {cases}\n",
    "1 , \\varepsilon \\geq \\frac{15}{88} \\\\\n",
    "\\bigg[ \\frac{15 -24\\varepsilon}{64\\varepsilon} \\bigg]  + 1, \\varepsilon < \\frac{15}{88}\n",
    "\\end{cases} }}$."
   ]
  },
  {
   "cell_type": "code",
   "execution_count": 3,
   "metadata": {},
   "outputs": [
    {
     "data": {
      "image/png": "[encoded data removed]",
      "text/plain": [
       "<Figure size 432x432 with 1 Axes>"
      ]
     },
     "metadata": {},
     "output_type": "display_data"
    }
   ],
   "source": [
    "def N(e): return (15 - 24 * e) / (64 * e)\n",
    "f = plt.figure(figsize=(6,6))\n",
    "ax = f.add_subplot(111)\n",
    "ax.grid(c='steelblue', ls='--', lw=1)\n",
    "e = numpy.linspace(0.1,1)\n",
    "n = [N(el) for el in e]\n",
    "ax.plot(e, n, c='darkblue', lw=2)\n",
    "ax.axvline(15/88, 0.05, 0.95, c='darkred',ls='--')\n",
    "plt.xlabel('ε', fontsize=15); plt.ylabel('N(ε)', fontsize=15);"
   ]
  },
  {
   "cell_type": "code",
   "execution_count": 4,
   "metadata": {},
   "outputs": [
    {
     "data": {
      "image/png": "[encoded data removed]",
      "text/latex": [
       "$$\\frac{5}{8}$$"
      ],
      "text/plain": [
       "5/8"
      ]
     },
     "execution_count": 4,
     "metadata": {},
     "output_type": "execute_result"
    }
   ],
   "source": [
    "n = symbols('n')\n",
    "limit( 5 * n / (8 * n + 3), n, oo)"
   ]
  },
  {
   "cell_type": "markdown",
   "metadata": {},
   "source": [
    "## Типовой расчет №2"
   ]
  },
  {
   "cell_type": "markdown",
   "metadata": {},
   "source": [
    "Вычислить предел последовательности  $\\large{\\displaystyle{\\lim_{n \\to \\infty} \\frac{n^2 \\sqrt[5]{13n + 1} + \\sqrt{81n^6 -13} }{(2n - 5 \\sqrt[3]{n}) \\sqrt{4n^4 + 7n + 8}} }}$"
   ]
  },
  {
   "cell_type": "markdown",
   "metadata": {},
   "source": [
    "Решение.\n",
    "\n",
    "Числитель и знаменатель дроби являются бесконечно большими последовательностями, \n",
    "\n",
    "значит при вычислении предела имеется неопределенность вида $\\large{[\\frac {\\infty}{\\infty}]}$.\n",
    "\n",
    "Для ее раскрытия преобразуем формулу общего члена исходной последовательности.\n",
    "\n",
    "Заметим, что $\\large{n^2 \\sqrt[5]{13n + 1} + \\sqrt{81n^6 -13} \\sim n^2 \\sqrt[5]{13n} + \\sqrt{81n^6} \\sim  n^2 \\sqrt[5]{n} + \\sqrt{n^6} \\sim n^3} $ при $n \\to \\infty$.\n",
    "\n",
    "Числитель исходной последовательности подобен $n^3$, поэтому разделим и числитель, и знаменатель на $n^3$.\n",
    "\n",
    "$\\large{\\displaystyle{a_n = \\frac{(n^2 \\sqrt[5]{13n + 1} + \\sqrt{81n^6 -13} ) / n^3 }{(2n - 5 \\sqrt[3]{n}) \\sqrt{4n^4 + 7n + 8} / n^3}  = }}$\n",
    "\n",
    "$\\large{\\displaystyle{= \\frac{\\sqrt[5]{\\frac{13}{n^4} + \\frac{1}{n^5}} + \\sqrt{81 - \\frac{13}{n^6}}  }{(2 - \\frac{5}{\\sqrt[3]{n^2}}) \\sqrt{4 + \\frac{7}{n^3} + \\frac{8}{n^4}}} }}$\n",
    "\n",
    "Последовательности $\\large{\\displaystyle{ \\left\\{ \\frac{13}{n^4} \\right\\} , \\left\\{ \\frac{1}{n^5} \\right\\}, ...}}$ являются бесконечно малыми  при $n \\to \\infty$.\n",
    "\n",
    " Применяя арифметические свойства пределов последовательности, получим:\n",
    " \n",
    " $\\large{\\displaystyle{\\lim_{n \\to \\infty} \\frac{\\sqrt[5]{\\frac{13}{n^4} + \\frac{1}{n^5}} + \\sqrt{81 - \\frac{13}{n^6}}  }{(2 - \\frac{5}{\\sqrt[3]{n^2}}) \\sqrt{4 + \\frac{7}{n^3} + \\frac{8}{n^4}}} }} = \\frac{\\sqrt{81}}{2 * \\sqrt{4}} = 2.25$"
   ]
  },
  {
   "cell_type": "code",
   "execution_count": 5,
   "metadata": {},
   "outputs": [
    {
     "data": {
      "image/png": "[encoded data removed]",
      "text/latex": [
       "$$2.25$$"
      ],
      "text/plain": [
       "2.25000000000000"
      ]
     },
     "execution_count": 5,
     "metadata": {},
     "output_type": "execute_result"
    }
   ],
   "source": [
    "n = symbols('n')\n",
    "limit((n**2*(13*n + 1)**0.2 + (81*n**6 - 13)**0.5)/((2*n - 5*n**(1/3))*(4*n**4 + 7*n + 8)**0.5), n, oo)"
   ]
  },
  {
   "cell_type": "markdown",
   "metadata": {},
   "source": [
    "## Типовой расчет №3\n",
    "\n",
    "Вычислить предел последовательности  $\\large{\\displaystyle{\\lim_{n \\to \\infty} \\sqrt{n^5} (\\sqrt{6 + n^5} - \\sqrt{4 + n ^5}) }}$"
   ]
  },
  {
   "cell_type": "markdown",
   "metadata": {},
   "source": [
    "Решение.\n",
    "\n",
    "$\\large{\\displaystyle{ \\sqrt{n^5}\\sqrt{6 + n^5} ,   \\sqrt{n^5}\\sqrt{4 + n ^5}  \\sim  \\sqrt{n^5} \\sqrt{n ^5}}}  \\sim n^5 $ при $n \\to \\infty$. \n",
    "\n",
    "Значит, требуется раскрыть необределенность вида $[\\infty - \\infty]$.\n",
    "\n",
    "Применим умножение на сопряженное выражение.\n",
    "\n",
    " $\\large{\\displaystyle{ \\sqrt{n^5} (\\sqrt{6 + n^5} - \\sqrt{4 + n ^5}) = \\frac{\\sqrt{n^5} (\\sqrt{6 + n^5} - \\sqrt{4 + n ^5})(\\sqrt{6 + n^5} + \\sqrt{4 + n ^5})}{\\sqrt{6 + n^5}  + \\sqrt{4 + n ^5}} = }}$\n",
    " \n",
    " $\\large{\\displaystyle{ = \\frac{\\sqrt{n^5} (6 + n^5 - 4  - n ^5)}{\\sqrt{6 + n^5}  + \\sqrt{4 + n ^5}} = \\frac{2\\sqrt{n^5}}{\\sqrt{6 + n^5}  + \\sqrt{4 + n ^5}} = }}$\n",
    " \n",
    " $\\large{\\displaystyle{ = \\frac{ 2 \\sqrt{n^5} \\sqrt{n^{-5}} }{ \\sqrt{n^{-5}} (\\sqrt{6 + n^5}  + \\sqrt{4 + n ^5}) } = \\frac{ 2 }{ \\sqrt{n^{-5}} (\\sqrt{6 + n^5}  + \\sqrt{4 + n ^5}) } = }} $\n",
    " \n",
    " $\\large{\\displaystyle{ = \\frac{ 2 }{ \\sqrt{\\frac{6}{n^5} + 1}  + \\sqrt{\\frac{4}{n^5} + 1} }  }} $\n",
    " \n",
    " Последовательности $\\large{\\displaystyle{ \\left\\{ \\frac{6}{n^5} \\right\\} , \\left\\{ \\frac{4}{n^5} \\right\\} }}$ являются бесконечно малыми  при $n \\to \\infty$.\n",
    " \n",
    " Применяя арифметические свойства пределов последовательности, получим:\n",
    "\n",
    "$\\large{\\displaystyle{\\lim_{n \\to \\infty} \\frac{2}{\\sqrt{\\frac{6}{n^5} + 1}  + \\sqrt{\\frac{4}{n^5} + 1}} =  \\frac{2}{1 + 1} = 1}}$"
   ]
  },
  {
   "cell_type": "code",
   "execution_count": 6,
   "metadata": {},
   "outputs": [
    {
     "data": {
      "image/png": "[encoded data removed]",
      "text/latex": [
       "$$1.0$$"
      ],
      "text/plain": [
       "1.00000000000000"
      ]
     },
     "execution_count": 6,
     "metadata": {},
     "output_type": "execute_result"
    }
   ],
   "source": [
    "n = symbols('n')\n",
    "limit(n ** 2.5 * ((6 + n ** 5) ** 0.5 - (4 + n ** 5) ** 0.5), n, oo)"
   ]
  },
  {
   "cell_type": "markdown",
   "metadata": {},
   "source": [
    "## Типовой расчет №4\n",
    "Вычислить предел последовательности  $\\large{\\displaystyle{\\lim_{n \\to \\infty} \\frac{4 + 8 + 12 + ... + 4n}{\\sqrt[3]{n^2 + 5} + \\sqrt{4n^4 + 6}}  }}$"
   ]
  },
  {
   "cell_type": "markdown",
   "metadata": {},
   "source": [
    "Решение.\n",
    "\n",
    "Применим формулу суммы арифметической прогрессии и преобразуем числитель дроби:\n",
    "\n",
    "$\\large{\\displaystyle{\\frac{4 + 8 + 12 + ... + 4n}{\\sqrt[3]{n^2 + 5} + \\sqrt{4n^4 + 6}}  =  \\frac{(2 * 4 + 4 *(n - 1)) * n / 2 }{\\sqrt[3]{n^2 + 5} + \\sqrt{4n^4 + 6}} =  \\frac{2 n^2 + 2n }{\\sqrt[3]{n^2 + 5} + \\sqrt{4n^4 + 6}} }}$\n",
    "\n",
    "Числитель и знаменатель дроби являются бесконечно большими последовательностями.\n",
    "\n",
    "При вычислении предела раскроем неопределенность вида $\\large{[\\frac {\\infty}{\\infty}]}$.\n",
    "\n",
    "Числитель подобен $n^2$ при $n \\to \\infty$, значит необходимо поделить и числитель, и знаменатель на $n^2$.\n",
    "\n",
    "$\\large{\\displaystyle{\\frac{(2 n^2 + 2n) / n^2}{\\bigg(\\sqrt[3]{n^2 + 5} + \\sqrt{4n^4 + 6}\\bigg) / n^2} = \\frac{2 + \\frac{2}{n}}{\\sqrt[3]{\\frac{1}{n^4} + \\frac{5}{n^6}} + \\sqrt{4 + \\frac{6}{n^4}}} }}$.\n",
    "\n",
    "Последовательности $\\large{\\displaystyle{ \\left\\{ \\frac{2}{n} \\right\\} , \\left\\{ \\frac{1}{n^4} \\right\\}, ...}}$ являются бесконечно малыми  при $n \\to \\infty$.\n",
    "\n",
    " Применяя арифметические свойства пределов последовательности, получим:\n",
    " \n",
    " $\\large{\\displaystyle{\\lim_{n \\to \\infty} \\frac{2 + \\frac{2}{n}}{\\sqrt[3]{\\frac{1}{n^4} + \\frac{5}{n^6}} + \\sqrt{4 + \\frac{6}{n^4}}} = \\frac {2 + 0} {\\sqrt[3]{0 + 0} + \\sqrt{4 + 0}} = 1}}$."
   ]
  },
  {
   "cell_type": "code",
   "execution_count": 7,
   "metadata": {},
   "outputs": [
    {
     "data": {
      "image/png": "[encoded data removed]",
      "text/latex": [
       "$$1.0$$"
      ],
      "text/plain": [
       "1.00000000000000"
      ]
     },
     "execution_count": 7,
     "metadata": {},
     "output_type": "execute_result"
    }
   ],
   "source": [
    "n = symbols('n')\n",
    "limit((2 * n ** 2 + 2 * n) / ((n ** 2 + 5 ) ** (1/3) + (4 * n ** 4 + 6) ** 0.5), n, oo)"
   ]
  },
  {
   "cell_type": "markdown",
   "metadata": {},
   "source": [
    "## Типовой расчет №5\n",
    "Вычислить предел последовательности  $\\large{\\displaystyle{\\lim_{n \\to \\infty} \\Bigg( \\frac{n^2 + 4n - 3}{n^2 - n + 6} \\Bigg)^{3n}  }}$."
   ]
  },
  {
   "cell_type": "markdown",
   "metadata": {},
   "source": [
    "Решение.\n",
    "\n",
    "1) Докажем, что $\\large{\\displaystyle{\\lim_{n \\to \\infty}  \\frac{n^2 + 4n - 3}{n^2 - n + 6} = 1}}$.\n",
    "\n",
    "Числитель и знаменатель дроби являются бесконечно большими последовательностями.\n",
    "\n",
    "При вычислении предела необходимо раскрыть неопределенность вида $\\large{[\\frac {\\infty}{\\infty}]}$.\n",
    "\n",
    "Числитель подобен $n^2$ при $n \\to \\infty$, значит нужно поделить и числитель, и знаменатель на $n^2$.\n",
    "\n",
    "$\\large{\\displaystyle{ \\frac{n^2 + 4n - 3}{n^2 - n + 6}  =  \\frac{(n^2 + 4n - 3)  / n^2}{(n^2 - n + 6) / n^2}  =  \\frac{1 + \\frac{4}{n} - \\frac{3}{n^2}}{1 - \\frac{1}{n} + \\frac{6}{ n^2}} }}$\n",
    "\n",
    "Последовательности $\\large{\\displaystyle{ \\left\\{ \\frac{4}{n} \\right\\} , \\left\\{ \\frac{-3}{n^2} \\right\\}, ...}}$ являются бесконечно малыми  при $n \\to \\infty$.\n",
    "\n",
    "$\\large{\\displaystyle{\\lim_{n \\to \\infty}  \\frac{n^2 + 4n - 3}{n^2 - n + 6} = \\frac {1 + 0 - 0}{1 - 0 + 0} = 1}}$"
   ]
  },
  {
   "cell_type": "markdown",
   "metadata": {},
   "source": [
    "2) $\\large{\\displaystyle{3n \\to \\infty}}$  при $\\large{\\displaystyle{n \\to \\infty}}$. \n",
    "\n",
    "Значит, исходная последовательность под знаком предела является неопределенным выражением вида  $\\large{\\displaystyle{1^{\\infty} }}$.\n",
    "\n",
    "Воспользуемся формулой второго замечательного предела: \n",
    "\n",
    "### $\\large{\\displaystyle{\\lim_{n \\to \\infty}  \\Bigg( 1 + \\alpha_n \\Bigg) ^ {\\frac{1}{\\alpha_n}} = e }}$,\n",
    "\n",
    "где $\\large{\\displaystyle{ \\{ \\alpha_n \\} }}$ - бесконечно малая последовательность.\n",
    "\n",
    "$\\large{\\displaystyle{\\Bigg( \\frac{n^2 + 4n - 3}{n^2 - n + 6} \\Bigg)^{3n}  = \\Bigg( 1 + \\frac{5n - 9}{n^2 - n + 6} \\Bigg)^{3n} =  \\Bigg[ \\bigg( 1 + \\frac{5n - 9}{n^2 - n + 6} \\bigg)^ \\frac{n^2 - n + 6}{5n - 9} \\Bigg] ^ {\\frac{3n * (5n - 9)}{n^2 - n + 6}} }}$.\n",
    "\n",
    " Последовательность $\\large{\\displaystyle{\\left\\{ \\alpha_n = \\frac{5n - 9}{n^2 - n + 6} \\right\\} }}$ является бесконечно малой при $\\large{\\displaystyle{n \\to \\infty}}$.\n",
    " \n",
    " $\\large{\\displaystyle{\\lim_{n \\to \\infty}  \\bigg( 1 + \\frac{5n - 9}{n^2 - n + 6} \\bigg) ^ \\frac{n^2 - n + 6}{5n - 9} = e }}$."
   ]
  },
  {
   "cell_type": "markdown",
   "metadata": {},
   "source": [
    "3) Вычислим $\\large{\\displaystyle{\\lim_{n \\to \\infty}  \\frac{3n * (5n - 9)}{n^2 - n + 6} }}$.\n",
    "\n",
    "$\\large{\\displaystyle{\\frac{3n * (5n - 9)}{n^2 - n + 6} = \\frac{15n^2 - 27n}{n^2 - n + 6} = \\frac{(15n^2 - 27n) / n^2}{(n^2 - n + 6) / n^2} = \\frac{15 - \\frac{27}{n} }{1 - \\frac{1}{n} + \\frac{6}{ n^2} } }}$\n",
    "\n",
    "$\\large{\\displaystyle{\\lim_{n \\to \\infty}  \\frac{15 - \\frac{27}{n} }{1 - \\frac{1}{n} + \\frac{6}{ n^2} } = \\frac{15 - 0}{1 - 0 + 0} = 15 \\implies }}$\n",
    "\n",
    "$\\large{\\displaystyle{\\lim_{n \\to \\infty} \\Bigg[ \\bigg( 1 + \\frac{5n - 9}{n^2 - n + 6} \\bigg)^ \\frac{n^2 - n + 6}{5n - 9} \\Bigg] ^ {\\frac{3n * (5n - 9)}{n^2 - n + 6}} = e^{15} \\approx 3 \\ 269 \\ 017}}$."
   ]
  },
  {
   "cell_type": "code",
   "execution_count": 4,
   "metadata": {},
   "outputs": [
    {
     "data": {
      "image/png": "[encoded data removed]",
      "text/latex": [
       "$$e^{15}$$"
      ],
      "text/plain": [
       " 15\n",
       "ℯ  "
      ]
     },
     "execution_count": 4,
     "metadata": {},
     "output_type": "execute_result"
    }
   ],
   "source": [
    "n = symbols('n')\n",
    "limit(((n ** 2 + 4 * n - 3) / (n ** 2 - n + 6) ) ** (3 * n), n, oo)"
   ]
  },
  {
   "cell_type": "code",
   "execution_count": 5,
   "metadata": {},
   "outputs": [
    {
     "data": {
      "image/png": "[encoded data removed]",
      "text/latex": [
       "$$3269017.372472108$$"
      ],
      "text/plain": [
       "3269017.372472108"
      ]
     },
     "execution_count": 5,
     "metadata": {},
     "output_type": "execute_result"
    }
   ],
   "source": [
    "math.e ** 15"
   ]
  },
  {
   "cell_type": "markdown",
   "metadata": {},
   "source": [
    "## Типовой расчет №6\n",
    "\n",
    "Используя определение предела функции по Коши, доказать равенство ( найти $\\delta (\\varepsilon) $ ): \n",
    "\n",
    "$\\large{\\displaystyle{\\lim_{x \\to 3} ( -2x^2 - 4 ) =  -22 }}$."
   ]
  },
  {
   "cell_type": "markdown",
   "metadata": {},
   "source": [
    "Решение.\n",
    "\n",
    "Запишем определение по Коши для данного случая.\n",
    "\n",
    "Число $-22$ является пределом функции $f(x) = -2x^2 - 4$ при $x \\to 3$, если\n",
    "\n",
    "для любого $\\varepsilon > 0$ существует такое число $\\delta(\\varepsilon) > 0$, \n",
    "\n",
    "что для всех  $x$, удовлетворяющих условию $0 < |x - 3| < \\delta \\ (1)$ \n",
    "\n",
    "выполняется неравенство $|(-2x^2 - 4) - (-22) | < \\varepsilon \\iff |-2x^2 + 18 | < \\varepsilon \\ (2)$, т.е.\n",
    "\n",
    "$ \\large{\\displaystyle{\\forall \\varepsilon > 0 \\ \\exists \\delta = \\delta(\\varepsilon) >0: \\{ \\forall x: 0 < \\mid x - 3 \\mid < \\delta  \\implies \\mid -2x^2 + 18 \\mid < \\varepsilon \\} }}$.\n",
    "\n",
    "Зафиксируем произвольное число $\\varepsilon > 0$ и найдем такое $\\delta(\\varepsilon) > 0$, \n",
    "\n",
    "что для всех  $x$, удовлетворяющих условию  (1), выполнялось неравенство (2)."
   ]
  },
  {
   "cell_type": "markdown",
   "metadata": {},
   "source": [
    "***I способ.***\n",
    "\n",
    "$\\large{\\displaystyle{ 0 < |x - 3| < \\delta \\iff -\\delta < x - 3 < \\delta, x \\neq 3 \\ (1*) }}$\n",
    "\n",
    "$\\large{\\displaystyle{|-2x^2 + 18 | < \\varepsilon \\iff |x^2 - 9 | < \\frac{\\varepsilon}{2} \\iff 9 - \\frac{\\varepsilon}{2} < x ^2 < 9 + \\frac{\\varepsilon}{2} \\iff}}$\n",
    "\n",
    "$\\large{\\displaystyle{ \\iff \n",
    "\\begin {cases}\n",
    "\\sqrt{9 - \\frac{\\varepsilon}{2}} < x < \\sqrt{9 + \\frac{\\varepsilon}{2}}, \\forall \\varepsilon \\leq 18 \\\\\n",
    "-\\sqrt{9 + \\frac{\\varepsilon}{2}} < x < \\sqrt{9 + \\frac{\\varepsilon}{2}}, \\forall \\varepsilon > 18\n",
    "\\end{cases} \\iff }}$\n",
    "\n",
    "$\\large{\\displaystyle{ \\iff \n",
    "\\begin {cases}\n",
    "\\sqrt{9 - \\frac{\\varepsilon}{2}} - 3 < x - 3 < \\sqrt{9 + \\frac{\\varepsilon}{2}} - 3, \\forall \\varepsilon \\leq 18 \\\\\n",
    "-\\sqrt{9 + \\frac{\\varepsilon}{2}} - 3 < x - 3 < \\sqrt{9 + \\frac{\\varepsilon}{2}} - 3, \\forall \\varepsilon > 18\n",
    "\\end{cases} \\iff }}$\n",
    "\n",
    "$\\large{\\displaystyle{ \\iff \n",
    "\\begin {cases}\n",
    "-(3 - \\sqrt{9 - \\frac{\\varepsilon}{2}}) < x - 3 < \\sqrt{9 + \\frac{\\varepsilon}{2}} - 3, \\forall \\varepsilon \\leq 18 \\\\\n",
    "-(\\sqrt{9 + \\frac{\\varepsilon}{2}} + 3) < x - 3 < \\sqrt{9 + \\frac{\\varepsilon}{2}} - 3, \\forall \\varepsilon > 18\n",
    "\\end{cases} \\ (2*) }}$"
   ]
  },
  {
   "cell_type": "markdown",
   "metadata": {},
   "source": [
    "При $0 < \\varepsilon \\leq 18$ выберем $\\delta =\\min \\{ 3 - \\sqrt{9 - \\frac{\\varepsilon}{2}}, \\sqrt{9 + \\frac{\\varepsilon}{2}} - 3 \\}$.\n",
    "\n",
    "Сравним эти числа.\n",
    "\n",
    " $\\large{\\displaystyle{ \\frac{ 3 - \\sqrt{9 - \\frac{\\varepsilon}{2}} } {\\sqrt{9 + \\frac{\\varepsilon}{2}} - 3} =  }} $\n",
    " \n",
    " $ \\large{\\displaystyle{= \\frac{ 3 - \\sqrt{9 - \\frac{\\varepsilon}{2}} } {\\sqrt{9 + \\frac{\\varepsilon}{2}} - 3} * \\frac{3 + \\sqrt{9 - \\frac{\\varepsilon}{2}}} {3 + \\sqrt{9 - \\frac{\\varepsilon}{2}}} * \\frac{\\sqrt{9 + \\frac{\\varepsilon}{2}} + 3} {\\sqrt{9 + \\frac{\\varepsilon}{2}} + 3}  = }}$\n",
    " \n",
    " $\\large{\\displaystyle{ = \\frac{\\sqrt{9 + \\frac{\\varepsilon}{2}} + 3} {3 + \\sqrt{9 - \\frac{\\varepsilon}{2}}} * \\frac{\\varepsilon}{2} * \\frac{2}{\\varepsilon} =  }} $\n",
    " \n",
    " $\\large{\\displaystyle{ = \\frac{\\sqrt{9 + \\frac{\\varepsilon}{2}} + 3} {\\sqrt{9 - \\frac{\\varepsilon}{2}} + 3} > 1 \\implies }} $\n",
    " \n",
    " $\\delta =\\sqrt{9 + \\frac{\\varepsilon}{2}} - 3,  \\forall \\varepsilon: 0 < \\varepsilon \\leq 18$.\n",
    " \n",
    " При $\\varepsilon > 18$ выберем $\\delta =\\min \\{ \\sqrt{9 + \\frac{\\varepsilon}{2}} + 3, \\sqrt{9 + \\frac{\\varepsilon}{2}} - 3 \\} = \\sqrt{9 + \\frac{\\varepsilon}{2}} - 3$.\n",
    " \n",
    " Выражение полностью идентично предыдущему случаю $\\implies \\delta = \\sqrt{9 + \\frac{\\varepsilon}{2}} - 3,  \\forall \\varepsilon > 0$."
   ]
  },
  {
   "cell_type": "markdown",
   "metadata": {},
   "source": [
    "***II способ.***\n",
    "\n",
    "$\\large{\\displaystyle{ 0 < |x - 3| < \\delta \\ (1*) }}$.\n",
    "\n",
    "$\\large{\\displaystyle{| -2x^2 + 18 | = 2 * | x^2 - 9 | = 2 * |x - 3| * |x + 3| = 2 * |x - 3| * |x - 3 + 6| \\ (2*) }}$.\n",
    "\n",
    "$\\large{\\displaystyle{ (1*), (2*) \\implies  | -2x^2 + 18 | < 2 * \\delta * (\\delta + 6) = 2\\delta^2 + 12\\delta}}$.\n",
    "\n",
    "Неравенство $(2)$ выполняется при $2\\delta^2 + 12\\delta \\leq \\varepsilon$.\n",
    "\n",
    "Решим это неравенство при фиксированном $\\varepsilon > 0$ относительно $\\delta > 0$:\n",
    "\n",
    "$2\\delta^2 + 12\\delta \\leq \\varepsilon \\iff \\delta ^2 + 6\\delta - \\frac{\\varepsilon}{2} \\leq 0$\n",
    "\n",
    "$D = 6^2 - 4 * (- \\frac{\\varepsilon}{2}) = 36 + 2\\varepsilon$\n",
    "\n",
    "$\\implies \\delta = \\sqrt{9 + \\frac{\\varepsilon}{2}} - 3,  \\forall \\varepsilon > 0$."
   ]
  },
  {
   "cell_type": "code",
   "execution_count": 3,
   "metadata": {},
   "outputs": [
    {
     "data": {
      "image/png": "[encoded data removed]",
      "text/latex": [
       "$$-22$$"
      ],
      "text/plain": [
       "-22"
      ]
     },
     "execution_count": 3,
     "metadata": {},
     "output_type": "execute_result"
    }
   ],
   "source": [
    "x = symbols('x')\n",
    "limit(-2 * x ** 2 - 4, x, 3)"
   ]
  },
  {
   "cell_type": "markdown",
   "metadata": {},
   "source": [
    "## Типовой расчет №7\n",
    "\n",
    "Вычислить предел функции \n",
    "\n",
    "$\\large{\\displaystyle{\\lim_{x \\to -1} \\frac{x^3 + 5 x^2 + 8 x + 4}{x^3 + 7 x^2 + 16 x + 10} }}$."
   ]
  },
  {
   "cell_type": "markdown",
   "metadata": {},
   "source": [
    "Решение.\n",
    "\n",
    "Числитель и знаменатель дроби стремятся к 0 при $x \\to -1$, \n",
    "\n",
    "значит дробь является неопределенным выражением вида $\\big[\\frac{0}{0}\\big]$ при $x \\to -1$.\n",
    "\n",
    "Для раскрытия неопределенности разложим числитель и знаменатель на множители и\n",
    "\n",
    "выполним тождественные преобразования при условии $x \\neq -1$:\n",
    "\n",
    "$\\large{\\displaystyle{ \\frac{x^3 + 5 x^2 + 8 x + 4}{x^3 + 7 x^2 + 16 x + 10} = \\frac{x^2 * (x + 1) + 4 x^2 + 8 x + 4}{x^2 * (x + 1) + 6 x^2 + 16 x + 10} = }}$\n",
    "\n",
    "$\\large{\\displaystyle{= \\frac{x^2 * (x + 1) + 4 x * (x + 1) + 4 * (x + 1)}{x^2 * (x + 1) + 6 x * (x + 1) + 10 * (x + 1)} = \\frac{(x + 1) * (x^2 + 4 x + 4) }{(x + 1) * (x^2 + 6 x + 10)} = }}$\n",
    "\n",
    "$\\large{\\displaystyle{ = \\frac{ x^2 + 4 x + 4}{x^2 + 6 x + 10} }}$.\n",
    "\n",
    "Используя арифметические свойства пределов функций, получим:\n",
    "\n",
    "$\\large{\\displaystyle{ \\lim_{x \\to -1} \\frac{ x^2 + 4 x + 4}{x^2 + 6 x + 10} = \\frac{(-1)^2 + 4 * (-1) + 4}{(-1)^2 + 6 * (-1) + 10} = 0.2}}$."
   ]
  },
  {
   "cell_type": "code",
   "execution_count": 4,
   "metadata": {},
   "outputs": [
    {
     "data": {
      "image/png": "[encoded data removed]",
      "text/latex": [
       "$$\\frac{1}{5}$$"
      ],
      "text/plain": [
       "1/5"
      ]
     },
     "execution_count": 4,
     "metadata": {},
     "output_type": "execute_result"
    }
   ],
   "source": [
    "x = symbols('x')\n",
    "limit((x ** 3 + 5 * x ** 2 + 8 * x + 4) / (x ** 3 + 7 * x ** 2 + 16 * x + 10), x, -1)"
   ]
  },
  {
   "cell_type": "markdown",
   "metadata": {},
   "source": [
    "## Типовой расчет №8\n",
    "\n",
    "Вычислить предел функции \n",
    "\n",
    "$\\large{\\displaystyle{\\lim_{x \\to 0} \\frac{\\sqrt{2 + x} - \\sqrt{2 - x}}{\\sqrt[3]{2 + x} - \\sqrt[3]{2 - x}} }}$."
   ]
  },
  {
   "cell_type": "markdown",
   "metadata": {},
   "source": [
    "Решение.\n",
    "\n",
    "Числитель и знаменатель дроби стремятся к 0 при $x \\to 0$, \n",
    "\n",
    "значит дробь является неопределенным выражением вида $\\big[\\frac{0}{0}\\big]$ при $x \\to 0$.\n",
    "\n",
    "Для раскрытия неопределенности \n",
    "\n",
    "- домножим числитель и знаменатель дроби на выражения, соответствующие формулам разности квадратов и кубов,\n",
    "\n",
    "- и выполним тождественные преобразования при условии $x \\neq 0$:\n",
    "\n",
    "$\\large{\\displaystyle{ \\frac{\\sqrt{2 + x} - \\sqrt{2 - x}}{\\sqrt[3]{2 + x} - \\sqrt[3]{2 - x}}  = \\frac{(\\sqrt{2 + x} - \\sqrt{2 - x}) * (\\sqrt{2 + x} + \\sqrt{2 - x})} {(\\sqrt[3]{2 + x} - \\sqrt[3]{2 - x})  * (\\sqrt{2 + x} + \\sqrt{2 - x})} = }}$\n",
    "\n",
    "$\\large{\\displaystyle{ \\frac{2x}{(\\sqrt[3]{2 + x} - \\sqrt[3]{2 - x})  * (\\sqrt{2 + x} + \\sqrt{2 - x})}  = }}$\n",
    "\n",
    "$\\large{\\displaystyle{ \\frac{2x * (\\sqrt[3]{(2 + x)^2} + \\sqrt[3]{4 - x^2} + \\sqrt[3]{(2 - x)^2})}{(\\sqrt[3]{2 + x} - \\sqrt[3]{2 - x}) * (\\sqrt[3]{(2 + x)^2} + \\sqrt[3]{4 - x^2} + \\sqrt[3]{(2 - x)^2}) * (\\sqrt{2 + x} + \\sqrt{2 - x})} = }}$\n",
    "\n",
    "$\\large{\\displaystyle{ \\frac{2x * (\\sqrt[3]{(2 + x)^2} + \\sqrt[3]{4 - x^2} + \\sqrt[3]{(2 - x)^2})}{2x * (\\sqrt{2 + x} + \\sqrt{2 - x})} = \\frac{\\sqrt[3]{(2 + x)^2} + \\sqrt[3]{4 - x^2} + \\sqrt[3]{(2 - x)^2}} {\\sqrt{2 + x} + \\sqrt{2 - x}} }}$\n",
    "\n",
    "$\\large{\\displaystyle{ \\lim_{x \\to 0} \\frac{\\sqrt[3]{(2 + x)^2} + \\sqrt[3]{4 - x^2} + \\sqrt[3]{(2 - x)^2}} {\\sqrt{2 + x} + \\sqrt{2 - x}} =  \\frac{\\sqrt[3]{(2 + 0)^2} + \\sqrt[3]{4 - 0} + \\sqrt[3]{(2 - 0)^2}} {\\sqrt{2 + 0} + \\sqrt{2 - 0}} = }}$\n",
    "\n",
    "$\\large{\\displaystyle{= \\frac{3 * 2^{\\frac{2}{3}}} {2^{\\frac{3}{2}}} = 3 * 2^{\\frac{2}{3} - \\frac{3}{2}} = \\frac {3}{\\sqrt[6]{32}} }}$"
   ]
  },
  {
   "cell_type": "code",
   "execution_count": 7,
   "metadata": {},
   "outputs": [
    {
     "data": {
      "image/png": "[encoded data removed]",
      "text/latex": [
       "$$1.68369307246406$$"
      ],
      "text/plain": [
       "1.68369307246406"
      ]
     },
     "execution_count": 7,
     "metadata": {},
     "output_type": "execute_result"
    }
   ],
   "source": [
    "x = symbols('x')\n",
    "limit(((2 + x) ** 0.5 - (2 - x) ** 0.5) / ((2 + x) ** (1/3) - (2 - x) ** (1/3)), x, 0)"
   ]
  },
  {
   "cell_type": "code",
   "execution_count": 10,
   "metadata": {},
   "outputs": [
    {
     "data": {
      "image/png": "[encoded data removed]",
      "text/latex": [
       "$$1.6836930724640595$$"
      ],
      "text/plain": [
       "1.6836930724640595"
      ]
     },
     "execution_count": 10,
     "metadata": {},
     "output_type": "execute_result"
    }
   ],
   "source": [
    "3 * 32 ** (-1/6)"
   ]
  },
  {
   "cell_type": "markdown",
   "metadata": {},
   "source": [
    "## Типовой расчет №9\n",
    "\n",
    "Вычислить предел функции \n",
    "\n",
    "$\\large{\\displaystyle{\\lim_{x \\to 0} \\frac{sin^2{x} - tg^2{x}} {x^4} }}$."
   ]
  },
  {
   "cell_type": "markdown",
   "metadata": {},
   "source": [
    "Решение.\n",
    "\n",
    "Числитель и знаменатель дроби стремятся к 0 при $x \\to 0$, \n",
    "\n",
    "значит дробь является неопределенным выражением вида $\\big[\\frac{0}{0}\\big]$ при $x \\to 0$.\n",
    "\n",
    "Для раскрытия неопределенности преобразуем функцию, используя тригонометрические формулы:\n",
    "    \n",
    "$\\large{\\displaystyle{ \\frac{sin^2{x} - tg^2{x}} {x^4} = \\frac{sin^2{x} - \\frac{sin^2{x}}{cos^2{x}}} {x^2 * x^2} = \\frac{sin^2{x}} {x^2} * \\frac{1 - \\frac{1}{cos^2{x}}} {x^2}  = }}$ \n",
    "\n",
    "$\\large{\\displaystyle{= - \\frac{sin^2{x}} {x^2} * \\frac{1 - cos^2{x}}{cos^2{x} * x^2} = - \\frac{sin^2{x}} {x^2} * \\frac{sin^2{x}}{cos^2{x} * x^2} = -  \\frac{sin^2{x}} {x^2} * \\frac{tg^2{x}}{x^2} }}$.\n",
    "\n",
    "Используем арифметические свойства пределов функций, \n",
    "\n",
    "а также формулы первого замечательного предела и его следствий:\n",
    "\n",
    "$\\large{\\displaystyle{\\lim_{x \\to 0}( -  \\frac{sin^2{x}} {x^2} * \\frac{tg^2{x}}{x^2}) = - \\lim_{x \\to 0}\\frac{sin^2{x}} {x^2} * \\lim_{x \\to 0} \\frac{tg^2{x}}{x^2} = }}$\n",
    "\n",
    "$\\large{\\displaystyle{= - \\Big(\\lim_{x \\to 0} \\frac{sin{x}} {x}\\Big)^2 * \\Big(\\lim_{x \\to 0} \\frac{tg{x}} {x}\\Big)^2 = - 1^2 * 1^2 = -1}}$"
   ]
  },
  {
   "cell_type": "code",
   "execution_count": 5,
   "metadata": {},
   "outputs": [
    {
     "data": {
      "image/png": "[encoded data removed]",
      "text/latex": [
       "$$-1$$"
      ],
      "text/plain": [
       "-1"
      ]
     },
     "execution_count": 5,
     "metadata": {},
     "output_type": "execute_result"
    }
   ],
   "source": [
    "x = symbols('x')\n",
    "limit(((sin(x)) ** 2 - (tan(x)) ** 2) / (x ** 4), x, 0)"
   ]
  }
 ],
 "metadata": {
  "kernelspec": {
   "display_name": "Python 3",
   "language": "python",
   "name": "python3"
  },
  "language_info": {
   "codemirror_mode": {
    "name": "ipython",
    "version": 3
   },
   "file_extension": ".py",
   "mimetype": "text/x-python",
   "name": "python",
   "nbconvert_exporter": "python",
   "pygments_lexer": "ipython3",
   "version": "3.6.4"
  }
 },
 "nbformat": 4,
 "nbformat_minor": 2
}
