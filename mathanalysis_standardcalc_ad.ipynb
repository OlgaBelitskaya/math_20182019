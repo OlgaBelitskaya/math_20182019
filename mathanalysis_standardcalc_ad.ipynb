{
 "cells": [
  {
   "cell_type": "code",
   "execution_count": 1,
   "metadata": {},
   "outputs": [
    {
     "data": {
      "text/html": [
       "<style>\n",
       "@import url('https://fonts.googleapis.com/css?family=Roboto&effect=3d|brick-sign|');\n",
       "span {font-family:Roboto; color:black; text-shadow:4px 4px 4px #aaa;}  \n",
       "h1,h2 {font-family:Roboto; color:slategray; text-shadow:4px 4px 4px #aaa;} \n",
       "div.output_subarea, div.output_area pre{font-family:Roboto; font_size:120%; color:darkblue;}\n",
       "</style> "
      ],
      "text/plain": [
       "<IPython.core.display.HTML object>"
      ]
     },
     "metadata": {},
     "output_type": "display_data"
    }
   ],
   "source": [
    "%%html\n",
    "<style>\n",
    "@import url('https://fonts.googleapis.com/css?family=Roboto&effect=3d|brick-sign|');\n",
    "span {font-family:Roboto; color:black; text-shadow:4px 4px 4px #aaa;}  \n",
    "h1,h2 {font-family:Roboto; color:slategray; text-shadow:4px 4px 4px #aaa;} \n",
    "div.output_subarea, div.output_area pre{font-family:Roboto; font_size:120%; color:darkblue;}\n",
    "</style> "
   ]
  },
  {
   "cell_type": "code",
   "execution_count": 2,
   "metadata": {},
   "outputs": [],
   "source": [
    "import math, sympy\n",
    "from sympy import *\n",
    "sympy.init_printing(use_unicode=True)\n",
    "import pylab as plt\n",
    "%matplotlib inline"
   ]
  },
  {
   "cell_type": "markdown",
   "metadata": {},
   "source": [
    "[GeoGebra](https://www.geogebra.org/graphing?lang=en)\n",
    "\n",
    "[LaTeX/Mathematics](https://en.wikibooks.org/wiki/LaTeX/Mathematics)\n",
    "\n",
    "[Math24.ru. Ряды Тейлора и Маклорена](http://www.math24.ru/%D1%80%D1%8F%D0%B4%D1%8B-%D1%82%D0%B5%D0%B9%D0%BB%D0%BE%D1%80%D0%B0-%D0%B8-%D0%BC%D0%B0%D0%BA%D0%BB%D0%BE%D1%80%D0%B5%D0%BD%D0%B0.html)\n",
    "\n",
    "[Math24.ru. Бесконечно малые функции](http://www.math24.ru/%D0%B1%D0%B5%D1%81%D0%BA%D0%BE%D0%BD%D0%B5%D1%87%D0%BD%D0%BE-%D0%BC%D0%B0%D0%BB%D1%8B%D0%B5-%D1%84%D1%83%D0%BD%D0%BA%D1%86%D0%B8%D0%B8.html)\n",
    "\n",
    "[ SymPy Modules Reference. Calculus](https://docs.sympy.org/latest/modules/calculus/index.html)"
   ]
  },
  {
   "cell_type": "markdown",
   "metadata": {},
   "source": [
    "# SC 10 V 19\n",
    "\n",
    "Вычислить предел функции $\\large{\\displaystyle{\\lim_{x \\to 0} \\frac { a^{2 + x} + a^{2 - x}  - 2 a^2 }{x ^ 2} }}$."
   ]
  },
  {
   "cell_type": "markdown",
   "metadata": {},
   "source": [
    "Числитель и знаменатель дроби стремятся к 0 при $x \\to 0$, \n",
    "\n",
    "значит дробь является неопределенным выражением вида $\\big[\\frac{0}{0}\\big]$ при $x \\to 0$.\n",
    "\n",
    "Используя арифметические свойства пределов, выполним элементарные преобразования:\n",
    "\n",
    "$\\large{\\displaystyle{\\lim_{x \\to 0} \\frac { a^{2 + x} + a^{2 - x}  - 2 a^2 }{x ^ 2} = \\lim_{x \\to 0} \\frac { a^2 *( a^ x + a^{- x}  - 2) }{x ^ 2} = }}$\n",
    "\n",
    "$\\large{\\displaystyle{ = a^2 * \\lim_{x \\to 0} \\frac { a^x + a^{- x} - 2}{x ^ 2} = a^2 * \\lim_{x \\to 0} \\frac {a^ x - 2 a^{\\frac{x}{2}} a^{-\\frac{x}{2}} + a^{- x}}{x ^ 2} = }}$\n",
    "\n",
    "$\\large{\\displaystyle{ = a^2 * \\lim_{x \\to 0} \\frac { (a^{\\frac{x}{2}})^2 - 2 a^{\\frac{x}{2}} a^{-\\frac{x}{2}} + (a^{-\\frac{x}{2}})^2}{x ^ 2}  = a^2 * \\lim_{x \\to 0} \\Bigg(\\frac {a^{\\frac{x}{2}} - a^{- \\frac{x}{2}}}{x}\\Bigg)^2 =}}$\n",
    "\n",
    "$\\large{\\displaystyle{ = a^2 * \\lim_{x \\to 0} \\Bigg(\\frac {a^{\\frac{x}{2}} - 1 - (a^{- \\frac{x}{2}} - 1)}{x}\\Bigg)^2 = \\frac{a^2}{4} *  \\lim_{x \\to 0} \\Bigg(\\frac {a^{\\frac{x}{2}} - 1 - (a^{- \\frac{x}{2}} - 1)}{\\frac{x}{2}}\\Bigg)^2 = }}$\n",
    "\n",
    "$\\large{\\displaystyle{ = \\frac{a^2}{4} * \\Bigg(\\lim_{x \\to 0} \\frac {a^{\\frac{x}{2}} - 1 - (a^{- \\frac{x}{2}} - 1)}{\\frac{x}{2}}\\Bigg)^2 = \\frac{a^2}{4} * \\Bigg(\\lim_{x \\to 0} \\frac {a^{\\frac{x}{2}} - 1}{\\frac{x}{2}} + \\lim_{x \\to 0} \\frac{a^{- \\frac{x}{2}} - 1}{-\\frac{x}{2}}\\Bigg)^2}} (*)$\n",
    "\n",
    "Очевидно, что $\\frac{x}{2} \\to 0, -\\frac{x}{2} \\to 0$ при $x \\to 0$\n",
    "\n",
    "Применим асимптотическое равенство:\n",
    "\n",
    "$\\large{\\displaystyle{ (a^t - 1) \\sim t \\ln a \\iff \\frac{a^t - 1}{t} \\sim \\ln a }}$\n",
    "\n",
    "$\\large{\\displaystyle{ t = \\frac {x}{2} \\implies \\lim_{x \\to 0} \\frac {a^{\\frac{x}{2}} - 1}{\\frac{x}{2}} = \\ln a}}$\n",
    "\n",
    "$\\large{\\displaystyle{ t = -\\frac {x}{2} \\implies \\lim_{x \\to 0} \\frac {a^{-\\frac{x}{2}} - 1}{-\\frac{x}{2}} = \\ln a}}$\n",
    "\n",
    "$\\large{\\displaystyle{ \\implies (*) = \\frac{a^2}{4} * \\Big(\\ln a + \\ln a \\Big)^2 = \\frac{a^2}{4} * 4 \\ln^2 a = a^2 \\ln^2 a}}$"
   ]
  },
  {
   "cell_type": "code",
   "execution_count": 3,
   "metadata": {},
   "outputs": [
    {
     "data": {
      "image/png": "[encoded data removed]",
      "text/latex": [
       "$$a^{2} \\log^{2}{\\left (a \\right )}$$"
      ],
      "text/plain": [
       " 2    2   \n",
       "a ⋅log (a)"
      ]
     },
     "execution_count": 3,
     "metadata": {},
     "output_type": "execute_result"
    }
   ],
   "source": [
    "x, a = symbols('x a')\n",
    "limit((a ** (2 + x) + a ** (2 - x) - 2 * a ** 2) / x ** 2, x, 0)"
   ]
  }
 ],
 "metadata": {
  "kernelspec": {
   "display_name": "Python 3",
   "language": "python",
   "name": "python3"
  },
  "language_info": {
   "codemirror_mode": {
    "name": "ipython",
    "version": 3
   },
   "file_extension": ".py",
   "mimetype": "text/x-python",
   "name": "python",
   "nbconvert_exporter": "python",
   "pygments_lexer": "ipython3",
   "version": "3.6.4"
  }
 },
 "nbformat": 4,
 "nbformat_minor": 2
}
