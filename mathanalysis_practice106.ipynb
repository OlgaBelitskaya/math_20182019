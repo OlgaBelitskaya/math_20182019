{
 "cells": [
  {
   "cell_type": "code",
   "execution_count": 1,
   "metadata": {},
   "outputs": [
    {
     "data": {
      "text/html": [
       "<style>\n",
       "@import url('https://fonts.googleapis.com/css?family=Roboto&effect=3d|brick-sign|');\n",
       "span {font-family:Roboto; color:black; text-shadow:4px 4px 4px #aaa;}  \n",
       "h1,h2 {font-family:Roboto; color:slategray; text-shadow:4px 4px 4px #aaa;} \n",
       "div.output_subarea, div.output_area pre{font-family:Roboto; font_size:120%; color:darkblue;}\n",
       "</style> "
      ],
      "text/plain": [
       "<IPython.core.display.HTML object>"
      ]
     },
     "metadata": {},
     "output_type": "display_data"
    }
   ],
   "source": [
    "%%html\n",
    "<style>\n",
    "@import url('https://fonts.googleapis.com/css?family=Roboto&effect=3d|brick-sign|');\n",
    "span {font-family:Roboto; color:black; text-shadow:4px 4px 4px #aaa;}  \n",
    "h1,h2 {font-family:Roboto; color:slategray; text-shadow:4px 4px 4px #aaa;} \n",
    "div.output_subarea, div.output_area pre{font-family:Roboto; font_size:120%; color:darkblue;}\n",
    "</style> "
   ]
  },
  {
   "cell_type": "markdown",
   "metadata": {},
   "source": [
    "# Ссылки / Links\n",
    "[Математический анализ. Первый семестр.](http://lectoriy.mipt.ru/course/Maths-Basic_Analysis/lectures)\n",
    "\n",
    "[Непрерывность](https://ru.coursera.org/lecture/matematika-dlya-vseh/opriedielieniie-priediela-1-xzyQ8)\n",
    "\n",
    "[Непрерывность функции. Основные элементарные функции. Замечательные пределы.](https://www.youtube.com/watch?v=0J4Wm_4YKdw&t=57s)\n",
    "\n",
    "[Пределы (презентация)](https://en.ppt-online.org/101123)\n",
    "\n",
    "[Примеры решения задач](http://ru.solverbook.com/primery-reshenij/)\n",
    "\n",
    "[Примеры решения с помощью замечательных пределов](http://ru.solverbook.com/primery-reshenij/primery-resheniya-s-pomoshhyu-zamechatelnyx-predelov/)\n",
    "\n",
    "[Примеры решения: второй замечательный предел](http://ru.solverbook.com/primery-reshenij/primery-resheniya-vtoroj-zamechatelnyj-predel/)\n",
    "\n",
    "---\n",
    "\n",
    "[Limits and continuity](https://www.khanacademy.org/math/ap-calculus-ab/ab-limits-new)\n",
    "\n",
    "[SymPy Calculus](https://docs.sympy.org/latest/tutorial/calculus.html)"
   ]
  },
  {
   "cell_type": "markdown",
   "metadata": {},
   "source": [
    "# Задачи / Problems\n",
    "[Сборник задач по математике для втузов. В 4-х частях. Под ред. Ефимова А.В., Поспелова А.С. (Часть 2)](https://drive.google.com/file/d/1qUN5t1IQdWvlRf0gdVYZ87MznWUaHq2x/view)\n",
    "\n",
    "![](math_images/ma106_01.png)"
   ]
  },
  {
   "cell_type": "code",
   "execution_count": 2,
   "metadata": {},
   "outputs": [],
   "source": [
    "import math, sympy\n",
    "from sympy import *\n",
    "sympy.init_printing(use_unicode=True)\n",
    "import pylab as plt\n",
    "%matplotlib inline"
   ]
  },
  {
   "cell_type": "markdown",
   "metadata": {},
   "source": [
    "#### # 5.305\n",
    "\n",
    "$\\large{\\displaystyle{\\lim_{x \\to 0} x \\ ctg \\ \\pi x}}$"
   ]
  },
  {
   "cell_type": "code",
   "execution_count": 4,
   "metadata": {},
   "outputs": [
    {
     "data": {
      "image/png": "[encoded data removed]",
      "text/latex": [
       "$$\\frac{1}{\\pi}$$"
      ],
      "text/plain": [
       "1\n",
       "─\n",
       "π"
      ]
     },
     "execution_count": 4,
     "metadata": {},
     "output_type": "execute_result"
    }
   ],
   "source": [
    "x = symbols('x')\n",
    "limit( x * cot(pi * x) , x, 0)"
   ]
  },
  {
   "cell_type": "markdown",
   "metadata": {},
   "source": [
    "#### # 5.308\n",
    "\n",
    "$\\large{\\displaystyle{\\lim_{x \\to 0} \\frac {\\cos \\alpha x - \\cos \\beta x}{x^2}, \\alpha \\neq \\beta}}$"
   ]
  },
  {
   "cell_type": "code",
   "execution_count": 6,
   "metadata": {},
   "outputs": [
    {
     "data": {
      "image/png": "[encoded data removed]",
      "text/latex": [
       "$$- \\frac{a^{2}}{2} + \\frac{b^{2}}{2}$$"
      ],
      "text/plain": [
       "   2    2\n",
       "  a    b \n",
       "- ── + ──\n",
       "  2    2 "
      ]
     },
     "execution_count": 6,
     "metadata": {},
     "output_type": "execute_result"
    }
   ],
   "source": [
    "x, a, b = symbols('x a b')\n",
    "limit( (cos(a * x) - cos(b * x)) / x ** 2 , x, 0)"
   ]
  },
  {
   "cell_type": "code",
   "execution_count": null,
   "metadata": {},
   "outputs": [],
   "source": [
    "# 5.309"
   ]
  },
  {
   "cell_type": "code",
   "execution_count": null,
   "metadata": {},
   "outputs": [],
   "source": [
    "# 5.321"
   ]
  },
  {
   "cell_type": "code",
   "execution_count": null,
   "metadata": {},
   "outputs": [],
   "source": [
    "# 5.325"
   ]
  },
  {
   "cell_type": "code",
   "execution_count": null,
   "metadata": {},
   "outputs": [],
   "source": [
    "# 5.326"
   ]
  },
  {
   "cell_type": "code",
   "execution_count": null,
   "metadata": {},
   "outputs": [],
   "source": [
    "# 5.327"
   ]
  },
  {
   "cell_type": "code",
   "execution_count": null,
   "metadata": {},
   "outputs": [],
   "source": [
    "# 5.328"
   ]
  },
  {
   "cell_type": "code",
   "execution_count": null,
   "metadata": {},
   "outputs": [],
   "source": [
    "# 5.333"
   ]
  },
  {
   "cell_type": "code",
   "execution_count": null,
   "metadata": {},
   "outputs": [],
   "source": [
    "# 5.339"
   ]
  },
  {
   "cell_type": "code",
   "execution_count": null,
   "metadata": {},
   "outputs": [],
   "source": [
    "# 5.340"
   ]
  }
 ],
 "metadata": {
  "kernelspec": {
   "display_name": "Python 3",
   "language": "python",
   "name": "python3"
  },
  "language_info": {
   "codemirror_mode": {
    "name": "ipython",
    "version": 3
   },
   "file_extension": ".py",
   "mimetype": "text/x-python",
   "name": "python",
   "nbconvert_exporter": "python",
   "pygments_lexer": "ipython3",
   "version": "3.6.4"
  }
 },
 "nbformat": 4,
 "nbformat_minor": 2
}
