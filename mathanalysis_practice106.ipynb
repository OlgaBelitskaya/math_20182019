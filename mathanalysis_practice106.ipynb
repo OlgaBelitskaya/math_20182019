{
 "cells": [
  {
   "cell_type": "code",
   "execution_count": 1,
   "metadata": {},
   "outputs": [
    {
     "data": {
      "text/html": [
       "<style>\n",
       "@import url('https://fonts.googleapis.com/css?family=Roboto&effect=3d|brick-sign|');\n",
       "span {font-family:Roboto; color:black; text-shadow:4px 4px 4px #aaa;}  \n",
       "h1,h2 {font-family:Roboto; color:slategray; text-shadow:4px 4px 4px #aaa;} \n",
       "div.output_subarea, div.output_area pre{font-family:Roboto; font_size:120%; color:darkblue;}\n",
       "</style> "
      ],
      "text/plain": [
       "<IPython.core.display.HTML object>"
      ]
     },
     "metadata": {},
     "output_type": "display_data"
    }
   ],
   "source": [
    "%%html\n",
    "<style>\n",
    "@import url('https://fonts.googleapis.com/css?family=Roboto&effect=3d|brick-sign|');\n",
    "span {font-family:Roboto; color:black; text-shadow:4px 4px 4px #aaa;}  \n",
    "h1,h2 {font-family:Roboto; color:slategray; text-shadow:4px 4px 4px #aaa;} \n",
    "div.output_subarea, div.output_area pre{font-family:Roboto; font_size:120%; color:darkblue;}\n",
    "</style> "
   ]
  },
  {
   "cell_type": "markdown",
   "metadata": {},
   "source": [
    "# Ссылки / Links\n",
    "[Математический анализ. Первый семестр.](http://lectoriy.mipt.ru/course/Maths-Basic_Analysis/lectures)\n",
    "\n",
    "[Непрерывность](https://ru.coursera.org/lecture/matematika-dlya-vseh/opriedielieniie-priediela-1-xzyQ8)\n",
    "\n",
    "[Непрерывность функции. Основные элементарные функции. Замечательные пределы.](https://www.youtube.com/watch?v=0J4Wm_4YKdw&t=57s)\n",
    "\n",
    "[Пределы (презентация)](https://en.ppt-online.org/101123)\n",
    "\n",
    "[Примеры решения задач](http://ru.solverbook.com/primery-reshenij/)\n",
    "\n",
    "[Примеры решения с помощью замечательных пределов](http://ru.solverbook.com/primery-reshenij/primery-resheniya-s-pomoshhyu-zamechatelnyx-predelov/)\n",
    "\n",
    "[Примеры решения: второй замечательный предел](http://ru.solverbook.com/primery-reshenij/primery-resheniya-vtoroj-zamechatelnyj-predel/)\n",
    "\n",
    "---\n",
    "\n",
    "[Limits and continuity](https://www.khanacademy.org/math/ap-calculus-ab/ab-limits-new)\n",
    "\n",
    "[SymPy Calculus](https://docs.sympy.org/latest/tutorial/calculus.html)"
   ]
  },
  {
   "cell_type": "markdown",
   "metadata": {},
   "source": [
    "# Задачи / Problems\n",
    "[Сборник задач по математике для втузов. В 4-х частях. Под ред. Ефимова А.В., Поспелова А.С. (Часть 2)](https://drive.google.com/file/d/1qUN5t1IQdWvlRf0gdVYZ87MznWUaHq2x/view)\n",
    "\n",
    "![](math_images/ma106_01.png)"
   ]
  },
  {
   "cell_type": "code",
   "execution_count": 2,
   "metadata": {},
   "outputs": [],
   "source": [
    "import math, sympy\n",
    "from sympy import *\n",
    "sympy.init_printing(use_unicode=True)\n",
    "import pylab as plt\n",
    "%matplotlib inline"
   ]
  },
  {
   "cell_type": "markdown",
   "metadata": {},
   "source": [
    "#### # 5.305\n",
    "\n",
    "$\\large{\\displaystyle{\\lim_{x \\to 0} x \\ ctg \\ \\pi x}}$"
   ]
  },
  {
   "cell_type": "code",
   "execution_count": 4,
   "metadata": {},
   "outputs": [
    {
     "data": {
      "image/png": "[encoded data removed]",
      "text/latex": [
       "$$\\frac{1}{\\pi}$$"
      ],
      "text/plain": [
       "1\n",
       "─\n",
       "π"
      ]
     },
     "execution_count": 4,
     "metadata": {},
     "output_type": "execute_result"
    }
   ],
   "source": [
    "x = symbols('x')\n",
    "limit( x * cot(pi * x), x, 0)"
   ]
  },
  {
   "cell_type": "markdown",
   "metadata": {},
   "source": [
    "#### # 5.308\n",
    "\n",
    "$\\large{\\displaystyle{\\lim_{x \\to 0} \\frac {\\cos \\alpha x - \\cos \\beta x}{x^2}, \\alpha \\neq \\beta}}$"
   ]
  },
  {
   "cell_type": "code",
   "execution_count": 24,
   "metadata": {},
   "outputs": [
    {
     "data": {
      "image/png": "[encoded data removed]",
      "text/latex": [
       "$$- \\frac{a^{2}}{2} + \\frac{b^{2}}{2}$$"
      ],
      "text/plain": [
       "   2    2\n",
       "  a    b \n",
       "- ── + ──\n",
       "  2    2 "
      ]
     },
     "execution_count": 24,
     "metadata": {},
     "output_type": "execute_result"
    }
   ],
   "source": [
    "x, a, b = symbols('x a b')\n",
    "limit( (cos(a * x) - cos(b * x)) / (x ** 2), x, 0)"
   ]
  },
  {
   "cell_type": "markdown",
   "metadata": {},
   "source": [
    "#### # 5.309\n",
    "\n",
    "$\\large{\\displaystyle{\\lim_{x \\to 0} (\\frac {1}{\\sin x} -  ctg \\ x)}}$"
   ]
  },
  {
   "cell_type": "code",
   "execution_count": 8,
   "metadata": {},
   "outputs": [
    {
     "data": {
      "image/png": "[encoded data removed]",
      "text/latex": [
       "$$0$$"
      ],
      "text/plain": [
       "0"
      ]
     },
     "execution_count": 8,
     "metadata": {},
     "output_type": "execute_result"
    }
   ],
   "source": [
    "x = symbols('x')\n",
    "limit( 1 / sin(x) - cot(x), x, 0)"
   ]
  },
  {
   "cell_type": "markdown",
   "metadata": {},
   "source": [
    "#### # 5.321\n",
    "\n",
    "$\\large{\\displaystyle{\\lim_{x \\to \\infty} \\bigg( \\frac {x^2 + 5}{x^2 - 5} \\bigg) ^ {x^2}}}$"
   ]
  },
  {
   "cell_type": "code",
   "execution_count": 25,
   "metadata": {},
   "outputs": [
    {
     "data": {
      "image/png": "[encoded data removed]",
      "text/latex": [
       "$$e^{10}$$"
      ],
      "text/plain": [
       " 10\n",
       "ℯ  "
      ]
     },
     "execution_count": 25,
     "metadata": {},
     "output_type": "execute_result"
    }
   ],
   "source": [
    "x = symbols('x')\n",
    "limit( ((x ** 2 + 5) / (x ** 2 - 5)) ** (x **2), x, oo)"
   ]
  },
  {
   "cell_type": "markdown",
   "metadata": {},
   "source": [
    "#### # 5.325\n",
    "\n",
    "$\\large{\\displaystyle{\\lim_{x \\to 0} \\frac {1}{x} \\ln{\\sqrt{\\frac{1 + x}{1 - x}}}}}$"
   ]
  },
  {
   "cell_type": "code",
   "execution_count": 26,
   "metadata": {},
   "outputs": [
    {
     "data": {
      "image/png": "[encoded data removed]",
      "text/latex": [
       "$$1.0$$"
      ],
      "text/plain": [
       "1.00000000000000"
      ]
     },
     "execution_count": 26,
     "metadata": {},
     "output_type": "execute_result"
    }
   ],
   "source": [
    "x = symbols('x')\n",
    "limit( ln(((1 + x) / (1 - x)) ** 0.5) / x, x, 0)"
   ]
  },
  {
   "cell_type": "markdown",
   "metadata": {},
   "source": [
    "#### # 5.326\n",
    "\n",
    "$\\large{\\displaystyle{\\lim_{x \\to \\infty} x (a ^ {\\frac{1}{x}} - 1)}}$"
   ]
  },
  {
   "cell_type": "code",
   "execution_count": 14,
   "metadata": {},
   "outputs": [
    {
     "data": {
      "image/png": "[encoded data removed]",
      "text/latex": [
       "$$\\log{\\left (a \\right )}$$"
      ],
      "text/plain": [
       "log(a)"
      ]
     },
     "execution_count": 14,
     "metadata": {},
     "output_type": "execute_result"
    }
   ],
   "source": [
    "x, a = symbols('x a')\n",
    "limit(x * (a ** (1 / x) - 1), x, oo)"
   ]
  },
  {
   "cell_type": "markdown",
   "metadata": {},
   "source": [
    "#### # 5.327\n",
    "\n",
    "$\\large{\\displaystyle{\\lim_{x \\to 1} \\frac{a ^ x - a}{x - 1}}}$"
   ]
  },
  {
   "cell_type": "code",
   "execution_count": 15,
   "metadata": {},
   "outputs": [
    {
     "data": {
      "image/png": "[encoded data removed]",
      "text/latex": [
       "$$a \\log{\\left (a \\right )}$$"
      ],
      "text/plain": [
       "a⋅log(a)"
      ]
     },
     "execution_count": 15,
     "metadata": {},
     "output_type": "execute_result"
    }
   ],
   "source": [
    "x, a = symbols('x a')\n",
    "limit((a ** x - a) / (x - 1), x, 1)"
   ]
  },
  {
   "cell_type": "markdown",
   "metadata": {},
   "source": [
    "#### # 5.328\n",
    "\n",
    "$\\large{\\displaystyle{\\lim_{x \\to a} \\frac{\\log_a{x} - 1}{x - a}}}$"
   ]
  },
  {
   "cell_type": "code",
   "execution_count": 16,
   "metadata": {},
   "outputs": [
    {
     "data": {
      "image/png": "[encoded data removed]",
      "text/latex": [
       "$$\\frac{1}{a \\log{\\left (a \\right )}}$$"
      ],
      "text/plain": [
       "   1    \n",
       "────────\n",
       "a⋅log(a)"
      ]
     },
     "execution_count": 16,
     "metadata": {},
     "output_type": "execute_result"
    }
   ],
   "source": [
    "x, a = symbols('x a')\n",
    "limit((log(x, a) - 1) / (x - a), x, a)"
   ]
  },
  {
   "cell_type": "markdown",
   "metadata": {},
   "source": [
    "#### # 5.333\n",
    "\n",
    "$\\large{\\displaystyle{\\lim_{x \\to 0} \\bigg( \\frac{\\sin x}{x} \\bigg) ^ {\\frac{\\sin x}{x - \\sin x}}}}$"
   ]
  },
  {
   "cell_type": "code",
   "execution_count": 17,
   "metadata": {},
   "outputs": [
    {
     "data": {
      "image/png": "[encoded data removed]",
      "text/latex": [
       "$$e^{-1}$$"
      ],
      "text/plain": [
       " -1\n",
       "ℯ  "
      ]
     },
     "execution_count": 17,
     "metadata": {},
     "output_type": "execute_result"
    }
   ],
   "source": [
    "x = symbols('x')\n",
    "limit( (sin(x) / x) ** (sin(x) / (x - sin(x))), x, 0)"
   ]
  },
  {
   "cell_type": "markdown",
   "metadata": {},
   "source": [
    "#### # 5.339\n",
    "\n",
    "$\\large{\\displaystyle{\\lim_{x \\to 2\\pm 0} \\frac { 2 + x }{4 - x ^ 2} }}$"
   ]
  },
  {
   "cell_type": "code",
   "execution_count": 20,
   "metadata": {},
   "outputs": [
    {
     "data": {
      "image/png": "[encoded data removed]",
      "text/latex": [
       "$$-\\infty$$"
      ],
      "text/plain": [
       "-∞"
      ]
     },
     "execution_count": 20,
     "metadata": {},
     "output_type": "execute_result"
    }
   ],
   "source": [
    "x = symbols('x')\n",
    "limit( (2 + x) / (4 - x ** 2), x, 2, '+')"
   ]
  },
  {
   "cell_type": "code",
   "execution_count": 21,
   "metadata": {},
   "outputs": [
    {
     "data": {
      "image/png": "[encoded data removed]",
      "text/latex": [
       "$$\\infty$$"
      ],
      "text/plain": [
       "∞"
      ]
     },
     "execution_count": 21,
     "metadata": {},
     "output_type": "execute_result"
    }
   ],
   "source": [
    "limit( (2 + x) / (4 - x ** 2), x, 2, '-')"
   ]
  },
  {
   "cell_type": "markdown",
   "metadata": {},
   "source": [
    "#### # 5.340\n",
    "\n",
    "$\\large{\\displaystyle{\\lim_{x \\to \\pm 0} (2 + x ) ^ \\frac{1}{x} }}$"
   ]
  },
  {
   "cell_type": "code",
   "execution_count": 22,
   "metadata": {},
   "outputs": [
    {
     "data": {
      "image/png": "[encoded data removed]",
      "text/latex": [
       "$$\\infty$$"
      ],
      "text/plain": [
       "∞"
      ]
     },
     "execution_count": 22,
     "metadata": {},
     "output_type": "execute_result"
    }
   ],
   "source": [
    "x = symbols('x')\n",
    "limit( (2 + x) ** (1 / x), x, 0, '+')"
   ]
  },
  {
   "cell_type": "code",
   "execution_count": 23,
   "metadata": {},
   "outputs": [
    {
     "data": {
      "image/png": "[encoded data removed]",
      "text/latex": [
       "$$0$$"
      ],
      "text/plain": [
       "0"
      ]
     },
     "execution_count": 23,
     "metadata": {},
     "output_type": "execute_result"
    }
   ],
   "source": [
    "limit( (2 + x) ** (1 / x), x, 0, '-')"
   ]
  }
 ],
 "metadata": {
  "kernelspec": {
   "display_name": "Python 3",
   "language": "python",
   "name": "python3"
  },
  "language_info": {
   "codemirror_mode": {
    "name": "ipython",
    "version": 3
   },
   "file_extension": ".py",
   "mimetype": "text/x-python",
   "name": "python",
   "nbconvert_exporter": "python",
   "pygments_lexer": "ipython3",
   "version": "3.6.4"
  }
 },
 "nbformat": 4,
 "nbformat_minor": 2
}
