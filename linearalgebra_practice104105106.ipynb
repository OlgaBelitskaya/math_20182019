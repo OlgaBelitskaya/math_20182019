{
 "cells": [
  {
   "cell_type": "code",
   "execution_count": 1,
   "metadata": {},
   "outputs": [
    {
     "data": {
      "text/html": [
       "<style>\n",
       "@import url('https://fonts.googleapis.com/css?family=Roboto&effect=3d|brick-sign|');\n",
       "span {font-family:Roboto; color:black; text-shadow:4px 4px 4px #aaa;}  \n",
       "h1,h2 {font-family:Roboto; color:slategray; text-shadow:4px 4px 4px #aaa;} \n",
       "div.output_subarea, div.output_area pre{font-family:Roboto; font_size:120%; color:darkblue;}\n",
       "</style> "
      ],
      "text/plain": [
       "<IPython.core.display.HTML object>"
      ]
     },
     "metadata": {},
     "output_type": "display_data"
    }
   ],
   "source": [
    "%%html\n",
    "<style>\n",
    "@import url('https://fonts.googleapis.com/css?family=Roboto&effect=3d|brick-sign|');\n",
    "span {font-family:Roboto; color:black; text-shadow:4px 4px 4px #aaa;}  \n",
    "h1,h2 {font-family:Roboto; color:slategray; text-shadow:4px 4px 4px #aaa;} \n",
    "div.output_subarea, div.output_area pre{font-family:Roboto; font_size:120%; color:darkblue;}\n",
    "</style> "
   ]
  },
  {
   "cell_type": "code",
   "execution_count": 2,
   "metadata": {},
   "outputs": [],
   "source": [
    "import math, sympy, numpy\n",
    "sympy.init_printing(use_unicode=True)\n",
    "from sympy import *\n",
    "import pylab as plt\n",
    "%matplotlib inline"
   ]
  },
  {
   "cell_type": "markdown",
   "metadata": {},
   "source": [
    "[Computer Algebra I: Mathematica, SymPy, Sage, Maxima](http://hyperpolyglot.org/computer-algebra2)\n",
    "\n",
    "[Sympy. Matrices](https://docs.sympy.org/latest/tutorial/matrices.html)\n",
    "\n",
    "[LaTeX/Mathematics](https://en.wikibooks.org/wiki/LaTeX/Mathematics)\n",
    "\n",
    "[МЦНМО. Свободно распространяемые издания](https://www.mccme.ru/free-books/)"
   ]
  },
  {
   "cell_type": "markdown",
   "metadata": {},
   "source": [
    "# Типовой расчет 4 / Standard Calculation 4"
   ]
  },
  {
   "cell_type": "markdown",
   "metadata": {},
   "source": [
    "## Постановка  задачи / Formulation of the problem:\n",
    "Найти ранг данной матрицы методом Гаусса\n",
    "\n",
    "$\\begin{pmatrix}\n",
    "-1 & -1 & 2 & -3 & -1 & 1 \\\\\n",
    "1 & -2 & -1 & -3 & 1 & -1 \\\\\n",
    "-2 & -1 & -2 & -1 & -3 & 1 \\\\\n",
    "-3 & -1 & -1 & 1 & -1 & 1 \\\\\n",
    "-3 & -3 & -3 & -3 & -1 & 1\n",
    "\\end{pmatrix}$"
   ]
  },
  {
   "cell_type": "code",
   "execution_count": 46,
   "metadata": {},
   "outputs": [
    {
     "data": {
      "image/png": "[encoded data removed]",
      "text/latex": [
       "$$\\left[\\begin{matrix}-1 & -1 & 2 & -3 & -1 & 1\\\\1 & -2 & -1 & -3 & 1 & -1\\\\-2 & -1 & -2 & -1 & -3 & 1\\\\-3 & -1 & -1 & 1 & -1 & 1\\\\-3 & -3 & -3 & -3 & -1 & 1\\end{matrix}\\right]$$"
      ],
      "text/plain": [
       "⎡-1  -1  2   -3  -1  1 ⎤\n",
       "⎢                      ⎥\n",
       "⎢1   -2  -1  -3  1   -1⎥\n",
       "⎢                      ⎥\n",
       "⎢-2  -1  -2  -1  -3  1 ⎥\n",
       "⎢                      ⎥\n",
       "⎢-3  -1  -1  1   -1  1 ⎥\n",
       "⎢                      ⎥\n",
       "⎣-3  -3  -3  -3  -1  1 ⎦"
      ]
     },
     "execution_count": 46,
     "metadata": {},
     "output_type": "execute_result"
    }
   ],
   "source": [
    "A = sympy.Matrix([[-1,-1, 2,-3 ,-1,1],[1,-2,-1,-3,1,-1],[-2,-1,-2,-1,-3,1],[-3,-1,-1,1,-1,1],[-3 ,-3 ,-3,-3,-1,1]])\n",
    "A"
   ]
  },
  {
   "cell_type": "markdown",
   "metadata": {},
   "source": [
    "## Решение / Decision\n",
    "\n",
    "Приводим матрицу к ступенчатому виду.\n",
    "  \n",
    "Ко 2-ой, 3-ей, 4-ой и 5-ой строке прибавим 1-ую, умноженную на 1,-1, -1, -1 соответственно:\n",
    " \n",
    "$\\begin{pmatrix}\n",
    "-1 & -1 & 2 & -3 & -1 & 1 \\\\\n",
    "1 & -2 & -1 & -3 & 1 & -1 \\\\  \n",
    " -2 & -1 & -2 & -1 & -3 & 1 \\\\\n",
    " -3 & -1 & -1 & 1 & -1 & 1 \\\\\n",
    " -3 & -3 & -3 & -3 & -1 & 1\n",
    "\\end{pmatrix} = \n",
    "\\begin{pmatrix}\n",
    "-1 & -1 & 2 & -3 & -1 & 1 \\\\\n",
    "0 & -3 & 1 & -6 & 0 & 0 \\\\\n",
    "-1 & 0 & -4 & 2 & -2 & 0 \\\\ \n",
    "-2 & 0 & -3 & 4 & 0 & 0 \\\\\n",
    "-2 & -2 & -5 & 0 & 0 & 0\n",
    "\\end{pmatrix}$"
   ]
  },
  {
   "cell_type": "code",
   "execution_count": 48,
   "metadata": {},
   "outputs": [
    {
     "data": {
      "image/png": "[encoded data removed]",
      "text/latex": [
       "$$\\left ( \\left[\\begin{matrix}0 & -3 & 1 & -6 & 0 & 0\\end{matrix}\\right], \\quad \\left[\\begin{matrix}-1 & 0 & -4 & 2 & -2 & 0\\end{matrix}\\right], \\quad \\left[\\begin{matrix}-2 & 0 & -3 & 4 & 0 & 0\\end{matrix}\\right], \\quad \\left[\\begin{matrix}-2 & -2 & -5 & 0 & 0 & 0\\end{matrix}\\right]\\right )$$"
      ],
      "text/plain": [
       "([0  -3  1  -6  0  0], [-1  0  -4  2  -2  0], [-2  0  -3  4  0  0], [-2  -2  -\n",
       "5  0  0  0])"
      ]
     },
     "execution_count": 48,
     "metadata": {},
     "output_type": "execute_result"
    }
   ],
   "source": [
    "sympy.Matrix(1, 6, [1,-2,-1,-3,1,-1])+sympy.Matrix(1, 6, [-1,-1, 2,-3 ,-1,1]), \\\n",
    "sympy.Matrix(1, 6, [-2,-1,-2,-1,-3,1])-sympy.Matrix(1, 6, [-1,-1, 2,-3 ,-1,1]), \\\n",
    "sympy.Matrix(1, 6, [-3,-1,-1,1,-1,1])-sympy.Matrix(1, 6, [-1,-1, 2,-3 ,-1,1]), \\\n",
    "sympy.Matrix(1, 6, [-3 ,-3 ,-3,-3,-1,1])-sympy.Matrix(1, 6, [-1,-1, 2,-3 ,-1,1])"
   ]
  },
  {
   "cell_type": "markdown",
   "metadata": {},
   "source": [
    "Поменяем 2-ую и 3-ю строки местами, \n",
    "\n",
    "первую строчку умножим на -2 и сложим со 2-ой,\n",
    "\n",
    "умножим получившуюся 3-ю строку на 2 и сложим с 4-ой, умноженной на 3:\n",
    "\n",
    "$\\begin{pmatrix}\n",
    "1 & 2 & -8 & 8 & 0 & -2 \\\\\n",
    "-1 & 0 & -4 & 2 & -2 & 0 \\\\ \n",
    "0 & -3 & 1 & -6 & 0 & 0 \\\\\n",
    "-2 & 0 & -3 & 4 & 0 & 0 \\\\\n",
    "-2 & -2 & -5 & 0 & 0 & 0\n",
    "\\end{pmatrix} = \n",
    "\\begin{pmatrix}\n",
    "1 & 2 & -8 & 8 & 0 & -2 \\\\\n",
    "-1 & 0 & -4 & 2 & -2 & 0 \\\\ \n",
    "-6 & -6 & -7 & 0 & 0 & 0 \\\\\n",
    "-2 & 0 & -3 & 4 & 0 & 0 \\\\\n",
    "-2 & -2 & -5 & 0 & 0 & 0\n",
    "\\end{pmatrix}$"
   ]
  },
  {
   "cell_type": "code",
   "execution_count": 52,
   "metadata": {},
   "outputs": [
    {
     "data": {
      "image/png": "[encoded data removed]",
      "text/latex": [
       "$$\\left ( \\left[\\begin{matrix}1 & 2 & -8 & 8 & 0 & -2\\end{matrix}\\right], \\quad \\left[\\begin{matrix}-6 & -6 & -7 & 0 & 0 & 0\\end{matrix}\\right]\\right )$$"
      ],
      "text/plain": [
       "([1  2  -8  8  0  -2], [-6  -6  -7  0  0  0])"
      ]
     },
     "execution_count": 52,
     "metadata": {},
     "output_type": "execute_result"
    }
   ],
   "source": [
    "sympy.Matrix(1, 6, [-1,0,-4,2,-2,0])+sympy.Matrix(1, 6, [-1,-1, 2,-3 ,-1,1]) * (-2), \\\n",
    "sympy.Matrix(1, 6, [0,-3,1,-6,0,0])*2+sympy.Matrix(1, 6, [-2,0,-3,4,0,0])*3"
   ]
  },
  {
   "cell_type": "markdown",
   "metadata": {},
   "source": [
    "2-ую строку умножим на -2 и сложим с 4-ой, \n",
    "\n",
    "4-ую умножим на -2 и сложим с 1-ой,\n",
    "\n",
    "переставим 3-ю и 4-ую строки местами:\n",
    "\n",
    "$\\begin{pmatrix}\n",
    "5 & 2 & -2 & 0 & 0 & -2 \\\\\n",
    "0 & 0 & 5 & 0 & 4 & 0 \\\\ \n",
    "-6 & -6 & -7 & 0 & 0 & 0 \\\\\n",
    "-2 & 0 & -3 & 4 & 0 & 0 \\\\\n",
    "-2 & -2 & -5 & 0 & 0 & 0\n",
    "\\end{pmatrix} = \n",
    "\\begin{pmatrix}\n",
    "5 & 2 & -2 & 0 & 0 & -2 \\\\\n",
    "0 & 0 & 5 & 0 & 4 & 0 \\\\ \n",
    "-2 & 0 & -3 & 4 & 0 & 0 \\\\\n",
    "-6 & -6 & -7 & 0 & 0 & 0 \\\\\n",
    "-2 & -2 & -5 & 0 & 0 & 0\n",
    "\\end{pmatrix}$"
   ]
  },
  {
   "cell_type": "code",
   "execution_count": 54,
   "metadata": {},
   "outputs": [
    {
     "data": {
      "image/png": "[encoded data removed]",
      "text/latex": [
       "$$\\left ( \\left[\\begin{matrix}0 & 0 & 5 & 0 & 4 & 0\\end{matrix}\\right], \\quad \\left[\\begin{matrix}5 & 2 & -2 & 0 & 0 & -2\\end{matrix}\\right]\\right )$$"
      ],
      "text/plain": [
       "([0  0  5  0  4  0], [5  2  -2  0  0  -2])"
      ]
     },
     "execution_count": 54,
     "metadata": {},
     "output_type": "execute_result"
    }
   ],
   "source": [
    "sympy.Matrix(1, 6, [-1,0,-4,2,-2,0])*(-2)+sympy.Matrix(1, 6, [-2,0,-3,4,0,0]), \\\n",
    "sympy.Matrix(1, 6, [1,2,-8,8,0,-2])+sympy.Matrix(1, 6, [-2,0,-3,4,0,0])*(-2)"
   ]
  },
  {
   "cell_type": "markdown",
   "metadata": {},
   "source": [
    "К 4-ой строке прибавим 5-ую, умноженную на -1,\n",
    "\n",
    "разделим получившуюся 4-ую строку на -2:\n",
    "\n",
    "$\\begin{pmatrix}\n",
    "5 & 2 & -2 & 0 & 0 & -2 \\\\\n",
    "0 & 0 & 5 & 0 & 4 & 0 \\\\ \n",
    "-2 & 0 & -3 & 4 & 0 & 0 \\\\\n",
    "-4 & -4 & -2 & 0 & 0 & 0 \\\\\n",
    "-2 & -2 & -5 & 0 & 0 & 0\n",
    "\\end{pmatrix} = \n",
    "\\begin{pmatrix}\n",
    "5 & 2 & -2 & 0 & 0 & -2 \\\\\n",
    "0 & 0 & 5 & 0 & 4 & 0 \\\\ \n",
    "-2 & 0 & -3 & 4 & 0 & 0 \\\\\n",
    "2 & 2 & 1 & 0 & 0 & 0 \\\\\n",
    "-2 & -2 & -5 & 0 & 0 & 0\n",
    "\\end{pmatrix}$"
   ]
  },
  {
   "cell_type": "code",
   "execution_count": 57,
   "metadata": {},
   "outputs": [
    {
     "data": {
      "image/png": "[encoded data removed]",
      "text/latex": [
       "$$\\left[\\begin{matrix}2 & 2 & 1 & 0 & 0 & 0\\end{matrix}\\right]$$"
      ],
      "text/plain": [
       "[2  2  1  0  0  0]"
      ]
     },
     "execution_count": 57,
     "metadata": {},
     "output_type": "execute_result"
    }
   ],
   "source": [
    "(sympy.Matrix(1, 6, [-6,-6,-7,0,0,0])-sympy.Matrix(1, 6, [-2,-2,-5,0,0,0]))/(-2)"
   ]
  },
  {
   "cell_type": "markdown",
   "metadata": {},
   "source": [
    "Умножим 4-ую строку на 2, -5, 3, 5 соответственно и сложим с 1-ой, 2-ой, 3-ей и 5-ой строками,\n",
    "\n",
    "разделим 2-ую и 3-ю строку на 2, 5-ую строку на 8\n",
    "\n",
    "$\\begin{pmatrix}\n",
    "9 & 6 & 0 & 0 & 0 & -2 \\\\\n",
    "-10 & -10 & 0 & 0 & 4 & 0 \\\\ \n",
    "4 & 6 & 0 & 4 & 0 & 0 \\\\\n",
    "2 & 2 & 1 & 0 & 0 & 0 \\\\\n",
    "8 & 8 & 0 & 0 & 0 & 0\n",
    "\\end{pmatrix} = \n",
    "\\begin{pmatrix}\n",
    "9 & 6 & 0 & 0 & 0 & -2 \\\\\n",
    "- 5 & -5 & 0 & 0 & 2 & 0 \\\\ \n",
    "2 & 3 & 0 & 2 & 0 & 0 \\\\\n",
    "2 & 2 & 1 & 0 & 0 & 0 \\\\\n",
    "1 & 1 & 0 & 0 & 0 & 0\n",
    "\\end{pmatrix}$"
   ]
  },
  {
   "cell_type": "code",
   "execution_count": 61,
   "metadata": {},
   "outputs": [
    {
     "data": {
      "image/png": "[encoded data removed]",
      "text/latex": [
       "$$\\left ( \\left[\\begin{matrix}9 & 6 & 0 & 0 & 0 & -2\\end{matrix}\\right], \\quad \\left[\\begin{matrix}-5 & -5 & 0 & 0 & 2 & 0\\end{matrix}\\right], \\quad \\left[\\begin{matrix}2 & 3 & 0 & 2 & 0 & 0\\end{matrix}\\right], \\quad \\left[\\begin{matrix}1 & 1 & 0 & 0 & 0 & 0\\end{matrix}\\right]\\right )$$"
      ],
      "text/plain": [
       "([9  6  0  0  0  -2], [-5  -5  0  0  2  0], [2  3  0  2  0  0], [1  1  0  0  0\n",
       "  0])"
      ]
     },
     "execution_count": 61,
     "metadata": {},
     "output_type": "execute_result"
    }
   ],
   "source": [
    "sympy.Matrix(1, 6, [5,2,-2,0,0,-2])+sympy.Matrix(1, 6, [2,2,1,0,0,0])*2, \\\n",
    "(sympy.Matrix(1, 6, [0,0,5,0,4,0])+sympy.Matrix(1, 6, [2,2,1,0,0,0])*(-5))/2, \\\n",
    "(sympy.Matrix(1, 6, [-2,0,-3,4,0,0])+sympy.Matrix(1, 6, [2,2,1,0,0,0])*3)/2, \\\n",
    "(sympy.Matrix(1, 6, [-2,-2,-5,0,0,0])+sympy.Matrix(1, 6, [2,2,1,0,0,0])*5)/8"
   ]
  },
  {
   "cell_type": "markdown",
   "metadata": {},
   "source": [
    "Сложим 5-ую строку, умноженную соответственно на -6, 5, -3, -2 на 1-ую, 2-ую, 3-ю и 4-ую строки,\n",
    "\n",
    "разделим 1-ую, 2-ую, 3-ю строки на -2, 2 и 2 соответственно:\n",
    "\n",
    "$\\begin{pmatrix}\n",
    "3 & 0 & 0 & 0 & 0 & -2 \\\\\n",
    "0 & 0 & 0 & 0 & 2 & 0 \\\\ \n",
    "-1 &  0 & 0 & 2 & 0 & 0 \\\\\n",
    "0 & 0 & 1 & 0 & 0 & 0 \\\\\n",
    "1 & 1 & 0 & 0 & 0 & 0\n",
    "\\end{pmatrix} = \n",
    "\\begin{pmatrix}\n",
    "-3/2 & 0 & 0 & 0 & 0 & 1 \\\\\n",
    "0 & 0 & 0 & 0 & 1 & 0 \\\\ \n",
    "-1/2 & 0 & 0 & 1 & 0 & 0 \\\\\n",
    "0 & 0 & 1 & 0 & 0 & 0 \\\\\n",
    "1 & 1 & 0 & 0 & 0 & 0\n",
    "\\end{pmatrix}$\n",
    "\n",
    "В матрице 5 линейно независимых строк. $\\implies$ Ранг матрицы равен 5."
   ]
  },
  {
   "cell_type": "code",
   "execution_count": 70,
   "metadata": {},
   "outputs": [
    {
     "data": {
      "image/png": "[encoded data removed]",
      "text/latex": [
       "$$\\left ( \\left[\\begin{matrix}- \\frac{3}{2} & 0 & 0 & 0 & 0 & 1\\end{matrix}\\right], \\quad \\left[\\begin{matrix}0 & 0 & 0 & 0 & 1 & 0\\end{matrix}\\right], \\quad \\left[\\begin{matrix}- \\frac{1}{2} & 0 & 0 & 1 & 0 & 0\\end{matrix}\\right], \\quad \\left[\\begin{matrix}0 & 0 & 1 & 0 & 0 & 0\\end{matrix}\\right]\\right )$$"
      ],
      "text/plain": [
       "([-3/2  0  0  0  0  1], [0  0  0  0  1  0], [-1/2  0  0  1  0  0], [0  0  1  0\n",
       "  0  0])"
      ]
     },
     "execution_count": 70,
     "metadata": {},
     "output_type": "execute_result"
    }
   ],
   "source": [
    "(sympy.Matrix(1, 6, [9,6,0,0,0,-2])+sympy.Matrix(1, 6, [1,1,0,0,0,0])*(-6))/(-2), \\\n",
    "(sympy.Matrix(1, 6, [-5,-5,0,0,2,0])+sympy.Matrix(1, 6, [1,1,0,0,0,0])*5)/2, \\\n",
    "(sympy.Matrix(1, 6, [2,3,0,2,0,0])+sympy.Matrix(1, 6, [1,1,0,0,0,0])*(-3))/2, \\\n",
    "sympy.Matrix(1, 6, [2,2,1,0,0,0])+sympy.Matrix(1, 6, [1,1,0,0,0,0])*(-2)"
   ]
  },
  {
   "cell_type": "markdown",
   "metadata": {},
   "source": [
    "Приведем матрицу к ступенчатому виду другим способом.\n",
    "  \n",
    "Ко 2-ой, 3-ей, 4-ой и 5-ой строке прибавим 1-ую, умноженную на 1,-2, -3, -3 соответственно:\n",
    " \n",
    "$\\begin{pmatrix}\n",
    "-1 & -1 & 2 & -3 & -1 & 1 \\\\\n",
    "1 & -2 & -1 & -3 & 1 & -1 \\\\  \n",
    " -2 & -1 & -2 & -1 & -3 & 1 \\\\\n",
    " -3 & -1 & -1 & 1 & -1 & 1 \\\\\n",
    " -3 & -3 & -3 & -3 & -1 & 1\n",
    "\\end{pmatrix} = \n",
    "\\begin{pmatrix}\n",
    "-1 & -1 & 2 & -3 & -1 & 1 \\\\\n",
    "0 & -3 & 1 & -6 & 0 & 0 \\\\\n",
    "0 & 1 & -6 & 5 & -1 & -1 \\\\ \n",
    "0 & 2 & -7 & 10 & 2 & -2 \\\\\n",
    "0 & 0 & -9 & 6 & 2 & -2\n",
    "\\end{pmatrix}$"
   ]
  },
  {
   "cell_type": "code",
   "execution_count": 72,
   "metadata": {},
   "outputs": [
    {
     "data": {
      "image/png": "[encoded data removed]",
      "text/latex": [
       "$$\\left ( \\left[\\begin{matrix}0 & -3 & 1 & -6 & 0 & 0\\end{matrix}\\right], \\quad \\left[\\begin{matrix}0 & 1 & -6 & 5 & -1 & -1\\end{matrix}\\right], \\quad \\left[\\begin{matrix}0 & 2 & -7 & 10 & 2 & -2\\end{matrix}\\right], \\quad \\left[\\begin{matrix}0 & 0 & -9 & 6 & 2 & -2\\end{matrix}\\right]\\right )$$"
      ],
      "text/plain": [
       "([0  -3  1  -6  0  0], [0  1  -6  5  -1  -1], [0  2  -7  10  2  -2], [0  0  -9\n",
       "  6  2  -2])"
      ]
     },
     "execution_count": 72,
     "metadata": {},
     "output_type": "execute_result"
    }
   ],
   "source": [
    "sympy.Matrix(1, 6, [1,-2,-1,-3,1,-1])+sympy.Matrix(1, 6, [-1,-1, 2,-3 ,-1,1]), \\\n",
    "sympy.Matrix(1, 6, [-2,-1,-2,-1,-3,1])-2*sympy.Matrix(1, 6, [-1,-1, 2,-3 ,-1,1]), \\\n",
    "sympy.Matrix(1, 6, [-3,-1,-1,1,-1,1])-3*sympy.Matrix(1, 6, [-1,-1, 2,-3 ,-1,1]), \\\n",
    "sympy.Matrix(1, 6, [-3 ,-3 ,-3,-3,-1,1])-3*sympy.Matrix(1, 6, [-1,-1, 2,-3 ,-1,1])"
   ]
  },
  {
   "cell_type": "markdown",
   "metadata": {},
   "source": [
    "К 1-ой строке прибавим 3-ю, из 4-ой вычтем 5-ую,\n",
    "\n",
    "разделим 4-ую строку на 2:\n",
    "\n",
    "$\\begin{pmatrix}\n",
    "-1 & 0 & -4 & 2 & -2 & 0 \\\\\n",
    "0 & -3 & 1 & -6 & 0 & 0 \\\\\n",
    "0 & 1 & -6 & 5 & -1 & -1 \\\\ \n",
    "0 & 2 & 2 & 4 & 0 & 0 \\\\\n",
    "0 & 0 & -9 & 6 & 2 & -2\n",
    "\\end{pmatrix} = \n",
    "\\begin{pmatrix}\n",
    "-1 & 0 & -4 & 2 & -2 & 0 \\\\\n",
    "0 & -3 & 1 & -6 & 0 & 0 \\\\\n",
    "0 & 1 & -6 & 5 & -1 & -1 \\\\ \n",
    "0 & 1 & 1 & 2 & 0 & 0 \\\\\n",
    "0 & 0 & -9 & 6 & 2 & -2\n",
    "\\end{pmatrix}$"
   ]
  },
  {
   "cell_type": "code",
   "execution_count": 77,
   "metadata": {},
   "outputs": [
    {
     "data": {
      "image/png": "[encoded data removed]",
      "text/latex": [
       "$$\\left ( \\left[\\begin{matrix}-1 & 0 & -4 & 2 & -2 & 0\\end{matrix}\\right], \\quad \\left[\\begin{matrix}0 & 1 & 1 & 2 & 0 & 0\\end{matrix}\\right]\\right )$$"
      ],
      "text/plain": [
       "([-1  0  -4  2  -2  0], [0  1  1  2  0  0])"
      ]
     },
     "execution_count": 77,
     "metadata": {},
     "output_type": "execute_result"
    }
   ],
   "source": [
    "sympy.Matrix(1, 6, [-1,-1,2,-3,-1,1])+sympy.Matrix(1, 6, [0,1,-6,5,-1,-1]), \\\n",
    "(sympy.Matrix(1, 6, [0,2,-7,10,2,-2])-sympy.Matrix(1, 6, [0,0,-9,6,2,-2])) / 2"
   ]
  },
  {
   "cell_type": "markdown",
   "metadata": {},
   "source": [
    "4-ую строку умножим на 3 и на -1 соответственно и сложим со 2-ой и 3-ей строками,\n",
    "\n",
    "поделим 2-ую строку на 4, переместим 4-ую строку на 2-ую: \n",
    "\n",
    "$\\begin{pmatrix}\n",
    "-1 & 0 & -4 & 2 & -2 & 0 \\\\\n",
    "0 & 0 & 4 & 0 & 0 & 0 \\\\\n",
    "0 & 0 & -7 & 3 & -1 & -1 \\\\ \n",
    "0 & 1 & 1 & 2 & 0 & 0 \\\\\n",
    "0 & 0 & -9 & 6 & 2 & -2\n",
    "\\end{pmatrix} = \n",
    "\\begin{pmatrix}\n",
    "-1 & 0 & -4 & 2 & -2 & 0 \\\\\n",
    "0 & 1 & 1 & 2 & 0 & 0 \\\\\n",
    "0 & 0 & 1 & 0 & 0 & 0 \\\\\n",
    "0 & 0 & -7 & 3 & -1 & -1 \\\\ \n",
    "0 & 0 & -9 & 6 & 2 & -2\n",
    "\\end{pmatrix}$"
   ]
  },
  {
   "cell_type": "code",
   "execution_count": 80,
   "metadata": {},
   "outputs": [
    {
     "data": {
      "image/png": "[encoded data removed]",
      "text/latex": [
       "$$\\left ( \\left[\\begin{matrix}0 & 0 & 1 & 0 & 0 & 0\\end{matrix}\\right], \\quad \\left[\\begin{matrix}0 & 0 & -7 & 3 & -1 & -1\\end{matrix}\\right]\\right )$$"
      ],
      "text/plain": [
       "([0  0  1  0  0  0], [0  0  -7  3  -1  -1])"
      ]
     },
     "execution_count": 80,
     "metadata": {},
     "output_type": "execute_result"
    }
   ],
   "source": [
    "(sympy.Matrix(1, 6, [0,-3,1,-6,0,0])+sympy.Matrix(1, 6, [0,1,1,2,0,0])*3)/4, \\\n",
    "(sympy.Matrix(1, 6, [0,1,-6,5,-1,-1])-sympy.Matrix(1, 6, [0,1,1,2,0,0])) "
   ]
  },
  {
   "cell_type": "markdown",
   "metadata": {},
   "source": [
    "3-ю строку умножим на 4, -1, 7, 9 соответственно и сложим с 1-ой, 2-ой, 4-ой и 5-ой,\n",
    "\n",
    "разделим 1-ую строку на -1, 5-ую на 2:\n",
    "\n",
    "$\\begin{pmatrix}\n",
    "-1 & 0 & 0 & 2 & -2 & 0 \\\\\n",
    "0 & 1 & 0 & 2 & 0 & 0 \\\\\n",
    "0 & 0 & 1 & 0 & 0 & 0 \\\\\n",
    "0 & 0 & 0 & 3 & -1 & -1 \\\\ \n",
    "0 & 0 & 0 & 6 & 2 & -2\n",
    "\\end{pmatrix} = \n",
    "\\begin{pmatrix}\n",
    "1 & 0 & 0 & -2 & 2 & 0 \\\\\n",
    "0 & 1 & 0 & 2 & 0 & 0 \\\\\n",
    "0 & 0 & 1 & 0 & 0 & 0 \\\\\n",
    "0 & 0 & 0 & 3 & -1 & -1 \\\\ \n",
    "0 & 0 & 0 & 3 & 1 & -1\n",
    "\\end{pmatrix}$\n",
    "\n",
    "4-ую строку умножим  -1 и сложим 5-ой строкой,\n",
    "\n",
    "1-ую, 2-ую строки умножим на 3 и -3 соответственно и сложим с 4-ой, умноженной на 2,\n",
    "\n",
    "поделим 5-ую строку на 2:\n",
    "\n",
    "$\\begin{pmatrix}\n",
    "3 & 0 & 0 & 0 & 4 & -2 \\\\\n",
    "0 & -3 & 0 & 0 & 0 & -2 \\\\\n",
    "0 & 0 & 1 & 0 & 0 & 0 \\\\\n",
    "0 & 0 & 0 & 3 & -1 & -1 \\\\ \n",
    "0 & 0 & 0 & 0 & 2 & 0\n",
    "\\end{pmatrix} = \n",
    "\\begin{pmatrix}\n",
    "3 & 0 & 0 & 0 & 4 & -2 \\\\\n",
    "0 & -3 & 0 & 0 & 0 & -2 \\\\\n",
    "0 & 0 & 1 & 0 & 0 & 0 \\\\\n",
    "0 & 0 & 0 & 3 & -1 & -1 \\\\ \n",
    "0 & 0 & 0 & 0 & 1 & 0\n",
    "\\end{pmatrix}$\n",
    "\n",
    "Умножим 5-ую строку на -4 и 1 соответственно и сложим с 1-ой и 4-ой строкой,\n",
    "\n",
    "разделим на 3, -3 и 3 соответственно 1-ую, 2-ую и 4-ую строки:\n",
    "\n",
    "$\\begin{pmatrix}\n",
    "3 & 0 & 0 & 0 & 0 & -2 \\\\\n",
    "0 & -3 & 0 & 0 & 0 & -2 \\\\\n",
    "0 & 0 & 1 & 0 & 0 & 0 \\\\\n",
    "0 & 0 & 0 & 3 & 0 & -1 \\\\ \n",
    "0 & 0 & 0 & 0 & 1 & 0\n",
    "\\end{pmatrix} = \n",
    "\\begin{pmatrix}\n",
    "1 & 0 & 0 & 0 & 0 & -2/3 \\\\\n",
    "0 & 1 & 0 & 0 & 0 & 2/3 \\\\\n",
    "0 & 0 & 1 & 0 & 0 & 0 \\\\\n",
    "0 & 0 & 0 & 1 & 0 & -1/3 \\\\ \n",
    "0 & 0 & 0 & 0 & 1 & 0\n",
    "\\end{pmatrix}$\n",
    "\n",
    "В матрице 5 линейно независимых строк. $\\implies$ Ранг матрицы равен 5."
   ]
  },
  {
   "cell_type": "code",
   "execution_count": 47,
   "metadata": {},
   "outputs": [
    {
     "data": {
      "image/png": "[encoded data removed]",
      "text/latex": [
       "$$\\left ( \\left[\\begin{matrix}1 & 0 & 0 & 0 & 0 & - \\frac{2}{3}\\\\0 & 1 & 0 & 0 & 0 & \\frac{2}{3}\\\\0 & 0 & 1 & 0 & 0 & 0\\\\0 & 0 & 0 & 1 & 0 & - \\frac{1}{3}\\\\0 & 0 & 0 & 0 & 1 & 0\\end{matrix}\\right], \\quad \\left ( 0, \\quad 1, \\quad 2, \\quad 3, \\quad 4\\right )\\right )$$"
      ],
      "text/plain": [
       "⎛⎡1  0  0  0  0  -2/3⎤                 ⎞\n",
       "⎜⎢                   ⎥                 ⎟\n",
       "⎜⎢0  1  0  0  0  2/3 ⎥                 ⎟\n",
       "⎜⎢                   ⎥                 ⎟\n",
       "⎜⎢0  0  1  0  0   0  ⎥, (0, 1, 2, 3, 4)⎟\n",
       "⎜⎢                   ⎥                 ⎟\n",
       "⎜⎢0  0  0  1  0  -1/3⎥                 ⎟\n",
       "⎜⎢                   ⎥                 ⎟\n",
       "⎝⎣0  0  0  0  1   0  ⎦                 ⎠"
      ]
     },
     "execution_count": 47,
     "metadata": {},
     "output_type": "execute_result"
    }
   ],
   "source": [
    "A.rref()"
   ]
  },
  {
   "cell_type": "code",
   "execution_count": 11,
   "metadata": {},
   "outputs": [
    {
     "data": {
      "image/png": "[encoded data removed]",
      "text/latex": [
       "$$5$$"
      ],
      "text/plain": [
       "5"
      ]
     },
     "execution_count": 11,
     "metadata": {},
     "output_type": "execute_result"
    }
   ],
   "source": [
    "A.rank()"
   ]
  },
  {
   "cell_type": "code",
   "execution_count": 14,
   "metadata": {},
   "outputs": [
    {
     "name": "stdout",
     "output_type": "stream",
     "text": [
      "[[-1 -1  2 -3 -1  1]\n",
      " [ 1 -2 -1 -3  1 -1]\n",
      " [-2 -1 -2 -1 -3  1]\n",
      " [-3 -1 -1  1 -1  1]\n",
      " [-3 -3 -3 -3 -1  1]]\n"
     ]
    }
   ],
   "source": [
    "a = numpy.matrix([[-1,-1, 2,-3 ,-1,1],[1,-2,-1,-3,1,-1],[-2,-1,-2,-1,-3,1],[-3,-1,-1,1,-1,1],[-3 ,-3 ,-3,-3,-1,1]])\n",
    "print (a)"
   ]
  },
  {
   "cell_type": "code",
   "execution_count": 16,
   "metadata": {},
   "outputs": [
    {
     "data": {
      "text/plain": [
       "5"
      ]
     },
     "execution_count": 16,
     "metadata": {},
     "output_type": "execute_result"
    }
   ],
   "source": [
    "numpy.linalg.matrix_rank(a)"
   ]
  },
  {
   "cell_type": "markdown",
   "metadata": {},
   "source": [
    "# Типовой расчет 5 / Standard Calculation 5"
   ]
  },
  {
   "cell_type": "markdown",
   "metadata": {},
   "source": [
    "Решить систему линейных алгебраических уравнений методом Гаусса\n",
    "\n",
    "$\\begin{cases}\n",
    "2x_1 + 3x_2 + 2x_3 - 3x_4 - 9x_5 - 9x_6 = 0 \\\\\n",
    "2x_1 - 2x_2 - 3x_3 - 3x_4 + x_5 + 6x_6 = 0 \\\\\n",
    "-x_1 + 2x_2 + x_3 + 3x_4 - x_5 - 3x_6 = 0 \\\\\n",
    "6x_1 - 3x_2 - 3x_3 - 12x_4 - 6x_5 + 3x_6 = 0 \\\\\n",
    "\\end{cases}$"
   ]
  },
  {
   "cell_type": "markdown",
   "metadata": {},
   "source": [
    "## Решение / Decision\n",
    "\n",
    "Число уравнений *меньше* числа неизвестных переменных, \n",
    "\n",
    "значит система *совместна* и имеет *бесконечное множество решений*.\n",
    "\n",
    "Матричный вид записи: $Ax = b$, где\n",
    "    \n",
    "$ A = \\begin{bmatrix}\n",
    "2 & 3 & 2 & -3 & -9 & -9  \\\\\n",
    "2 & -2 & -3 & -3 & 1 & 6 \\\\\n",
    "-1 & 2 & 1 & 3 & -1 & -3 \\\\\n",
    "6 & -3 & -3 & -12 & -6 & 3 \\end{bmatrix}, \\ \n",
    "b = \\begin{bmatrix}\n",
    "0 \\\\ 0 \\\\ 0 \\\\ 0\n",
    " \\end{bmatrix}$.\n",
    "\n",
    "Все коэффициенты $b_1 = b_2 = b_3 = b_4 = 0$, значит система является *однородной*."
   ]
  },
  {
   "cell_type": "markdown",
   "metadata": {},
   "source": [
    "В матрице $A$ выполним элементарные преобразования.\n",
    "\n",
    "Поделим 4-ую строку на 3.\n",
    "\n",
    "$ \\begin{bmatrix}\n",
    "2 & 3 & 2 & -3 & -9 & -9  \\\\\n",
    "2 & -2 & -3 & -3 & 1 & 6 \\\\\n",
    "-1 & 2 & 1 & 3 & -1 & -3 \\\\\n",
    "2 & -1 & -1 & -4 & -2 & 1\n",
    " \\end{bmatrix}$."
   ]
  },
  {
   "cell_type": "code",
   "execution_count": 22,
   "metadata": {},
   "outputs": [
    {
     "data": {
      "image/png": "[encoded data removed]",
      "text/latex": [
       "$$\\left[\\begin{matrix}2 & -1 & -1 & -4 & -2 & 1\\end{matrix}\\right]$$"
      ],
      "text/plain": [
       "[2  -1  -1  -4  -2  1]"
      ]
     },
     "execution_count": 22,
     "metadata": {},
     "output_type": "execute_result"
    }
   ],
   "source": [
    "sympy.Matrix(1, 6, [6,-3,-3,-12,-6,3])/3"
   ]
  },
  {
   "cell_type": "markdown",
   "metadata": {},
   "source": [
    "Выберем в качестве разрешающего элемента 1-ый в 1-ой строке.\n",
    "\n",
    "К 2-ой, 3-ой, 4-ей строкам, умноженным соответственно на -1, 2, -1, прибавим 1-ую:\n",
    "    \n",
    "$ \\begin{bmatrix}\n",
    "2 & 3 & 2 & -3 & -9 & -9  \\\\\n",
    "0 & 5 & 5 & 0 & -10 & -15 \\\\\n",
    "0 & 7 & 4 & 3 & -11 & -15 \\\\\n",
    "0 & 4 & 3 & 1 & -7 & -10\n",
    " \\end{bmatrix}$."
   ]
  },
  {
   "cell_type": "code",
   "execution_count": 28,
   "metadata": {},
   "outputs": [
    {
     "data": {
      "image/png": "[encoded data removed]",
      "text/latex": [
       "$$\\left ( \\left[\\begin{matrix}0 & 5 & 5 & 0 & -10 & -15\\end{matrix}\\right], \\quad \\left[\\begin{matrix}0 & 7 & 4 & 3 & -11 & -15\\end{matrix}\\right], \\quad \\left[\\begin{matrix}0 & 4 & 3 & 1 & -7 & -10\\end{matrix}\\right]\\right )$$"
      ],
      "text/plain": [
       "([0  5  5  0  -10  -15], [0  7  4  3  -11  -15], [0  4  3  1  -7  -10])"
      ]
     },
     "execution_count": 28,
     "metadata": {},
     "output_type": "execute_result"
    }
   ],
   "source": [
    "sympy.Matrix(1, 6, [2,-2,-3,-3,1,6])*(-1)+sympy.Matrix(1, 6, [2,3,2,-3,-9,-9]), \\\n",
    "sympy.Matrix(1, 6, [-1,2,1,3,-1,-3])*2+sympy.Matrix(1, 6, [2,3,2,-3,-9,-9]), \\\n",
    "sympy.Matrix(1, 6, [2,-1,-1,-4,-2,1])*(-1)+sympy.Matrix(1, 6, [2,3,2,-3,-9,-9])"
   ]
  },
  {
   "cell_type": "markdown",
   "metadata": {},
   "source": [
    "Поделим 2-ую строку на 5.\n",
    "\n",
    "$ \\begin{bmatrix}\n",
    "2 & 3 & 2 & -3 & -9 & -9  \\\\\n",
    "0 & 1 & 1 & 0 & -2 & -3 \\\\\n",
    "0 & 7 & 4 & 3 & -11 & -15 \\\\\n",
    "0 & 4 & 3 & 1 & -7 & -10\n",
    " \\end{bmatrix}$.\n",
    "    \n",
    "Выберем в качестве разрешающего элемента 2-ой во 2-ой строке.\n",
    "\n",
    "К 1-ой, 3-ой, 4-ей строке прибавим 2-ую, умноженную на -3, -7, -4 соответственно:\n",
    "\n",
    "$ \\begin{bmatrix}\n",
    "2 & 0 & -1& -3 & -3 & 0  \\\\\n",
    "0 & 1 & 1 & 0 & -2 & -3 \\\\\n",
    "0 & 0 & -3 & 3 & 3 & 6 \\\\\n",
    "0 & 0 & -1 & 1 & 1 & 2\n",
    " \\end{bmatrix}$."
   ]
  },
  {
   "cell_type": "code",
   "execution_count": 30,
   "metadata": {},
   "outputs": [
    {
     "data": {
      "image/png": "[encoded data removed]",
      "text/latex": [
       "$$\\left ( \\left[\\begin{matrix}2 & 0 & -1 & -3 & -3 & 0\\end{matrix}\\right], \\quad \\left[\\begin{matrix}0 & 0 & -3 & 3 & 3 & 6\\end{matrix}\\right], \\quad \\left[\\begin{matrix}0 & 0 & -1 & 1 & 1 & 2\\end{matrix}\\right]\\right )$$"
      ],
      "text/plain": [
       "([2  0  -1  -3  -3  0], [0  0  -3  3  3  6], [0  0  -1  1  1  2])"
      ]
     },
     "execution_count": 30,
     "metadata": {},
     "output_type": "execute_result"
    }
   ],
   "source": [
    "sympy.Matrix(1, 6, [0,1,1,0,-2,-3])*(-3)+sympy.Matrix(1, 6, [2,3,2,-3,-9,-9]), \\\n",
    "sympy.Matrix(1, 6, [0,1,1,0,-2,-3])*(-7)+sympy.Matrix(1, 6, [0,7,4,3,-11,-15]), \\\n",
    "sympy.Matrix(1, 6, [0,1,1,0,-2,-3])*(-4)+sympy.Matrix(1, 6, [0,4,3,1,-7,-10])"
   ]
  },
  {
   "cell_type": "markdown",
   "metadata": {},
   "source": [
    "Поделим 3-ю строку на -3.\n",
    "\n",
    "$ \\begin{bmatrix}\n",
    "2 & 0 & -1& -3 & -3 & 0  \\\\\n",
    "0 & 1 & 1 & 0 & -2 & -3 \\\\\n",
    "0 & 0 & 1 & -1 & -1 & -2 \\\\\n",
    "0 & 0 & -1 & 1 & 1 & 2\n",
    " \\end{bmatrix}$.\n",
    " \n",
    "Выберем в качестве разрешающего элемента 3-ий во 3-ой строке.\n",
    "\n",
    "К 1-ой, 2-ой, 4-ей строке прибавим 3-ую, умноженную на 1, -1, 1 соответственно:\n",
    "\n",
    "$ \\begin{bmatrix}\n",
    "2 & 0 & 0 & -4 & -4 & -2  \\\\\n",
    "0 & 1 & 0 & 1 & -1 & -1 \\\\\n",
    "0 & 0 & 1 & -1 & -1 & -2 \\\\\n",
    "0 & 0 & 0 & 0 & 0 & 0\n",
    " \\end{bmatrix}$."
   ]
  },
  {
   "cell_type": "code",
   "execution_count": 35,
   "metadata": {},
   "outputs": [
    {
     "data": {
      "image/png": "[encoded data removed]",
      "text/latex": [
       "$$\\left ( \\left[\\begin{matrix}2 & 0 & 0 & -4 & -4 & -2\\end{matrix}\\right], \\quad \\left[\\begin{matrix}0 & 1 & 0 & 1 & -1 & -1\\end{matrix}\\right], \\quad \\left[\\begin{matrix}0 & 0 & 0 & 0 & 0 & 0\\end{matrix}\\right]\\right )$$"
      ],
      "text/plain": [
       "([2  0  0  -4  -4  -2], [0  1  0  1  -1  -1], [0  0  0  0  0  0])"
      ]
     },
     "execution_count": 35,
     "metadata": {},
     "output_type": "execute_result"
    }
   ],
   "source": [
    "sympy.Matrix(1, 6, [0,0,1,-1,-1,-2])+sympy.Matrix(1, 6, [2,0,-1,-3,-3,0]), \\\n",
    "sympy.Matrix(1, 6, [0,0,1,-1,-1,-2])*(-1)+sympy.Matrix(1, 6, [0,1,1,0,-2,-3]), \\\n",
    "sympy.Matrix(1, 6, [0,0,1,-1,-1,-2])+sympy.Matrix(1, 6, [0,0,-1,1,1,2])"
   ]
  },
  {
   "cell_type": "markdown",
   "metadata": {},
   "source": [
    "Поделим 1-ю строку на 2 и удалим строку с нулевыми коэффициентами.\n",
    "\n",
    "$ \\begin{bmatrix}\n",
    "1 & 0 & 0 & -2 & -2 & -1  \\\\\n",
    "0 & 1 & 0 & 1 & -1 & -1 \\\\\n",
    "0 & 0 & 1 & -1 & -1 & -2 \\\\\n",
    " \\end{bmatrix}$.\n",
    " \n",
    " Система уравнений примет вид:\n",
    "\n",
    "$\\begin{cases}\n",
    "x_1 - 2x_4 - 2x_5 - x_6 = 0 \\\\\n",
    "x_2 + x_4 - x_5 - x_6 = 0 \\\\\n",
    "x_3 - x_4 - x_5 - 2x_6 = 0 \\\\\n",
    "\\end{cases} \\iff\n",
    "\\begin{cases}\n",
    "x_1 = 2x_4 + 2x_5 + x_6 \\\\\n",
    "x_2 = -x_4 + x_5 + x_6 \\\\\n",
    "x_3 = x_4 + x_5 + 2x_6 \\\\\n",
    "\\end{cases}$.\n",
    "\n",
    "Решение системы уравнений:\n",
    "\n",
    "$\\big(2x_4 + 2x_5 + x_6, \\ -x_4 + x_5 + x_6, \\ x_4 + x_5 + 2x_6, \\ x_4, \\ x_5, \\ x_6\\big)$, где \n",
    "\n",
    "$x_4, x_5, x_6$ - произвольные числа."
   ]
  },
  {
   "cell_type": "code",
   "execution_count": 36,
   "metadata": {},
   "outputs": [
    {
     "data": {
      "image/png": "[encoded data removed]",
      "text/latex": [
       "$$\\left \\{ x_{1} : 2 x_{4} + 2 x_{5} + x_{6}, \\quad x_{2} : - x_{4} + x_{5} + x_{6}, \\quad x_{3} : x_{4} + x_{5} + 2 x_{6}\\right \\}$$"
      ],
      "text/plain": [
       "{x₁: 2⋅x₄ + 2⋅x₅ + x₆, x₂: -x₄ + x₅ + x₆, x₃: x₄ + x₅ + 2⋅x₆}"
      ]
     },
     "execution_count": 36,
     "metadata": {},
     "output_type": "execute_result"
    }
   ],
   "source": [
    "x1,x2,x3,x4,x5,x6 = sympy.symbols('x1,x2,x3,x4,x5,x6')\n",
    "system = sympy.Matrix([ [2,3,2,-3,-9,-9,0], [2,-2,-3,-3,1,6,0], [-1,2,1,3,-1,-3,0], [6,-3,-3,-12,-6,3,0] ])\n",
    "sympy.solve_linear_system(system, x1,x2,x3,x4,x5,x6)"
   ]
  },
  {
   "cell_type": "markdown",
   "metadata": {},
   "source": [
    "# Типовой расчет 6 / Standard Calculation 6"
   ]
  },
  {
   "cell_type": "markdown",
   "metadata": {},
   "source": [
    "## Постановка  задачи / Formulation of the problem:\n",
    "Найти общее решение системы линейных алгебраических уравнений \n",
    "\n",
    "$\\begin{cases}\n",
    "x_1 + 3x_2 + x_3 - 3x_5 - 6x_6 = 47 \\\\\n",
    "x_1  + x_2 + 3x_3 - 4x_4 - 3x_5 - 8x_6 = 55 \\\\\n",
    "-x_1 + x_2 - 3x_3 + 6x_4 + x_5 + 6x_6 = -33 \\\\\n",
    "x_1 - x_2 + 3x_3 - 6x_4 - x_5 - 6x_6 = 33 \\\\\n",
    "\\end{cases}$"
   ]
  },
  {
   "cell_type": "markdown",
   "metadata": {},
   "source": [
    "## Решение / Decision\n",
    "\n",
    "Число уравнений *меньше* числа неизвестных переменных, \n",
    "\n",
    "значит система *совместна* и имеет *бесконечное множество решений*. \n",
    "\n",
    "Матричный вид записи: $Ax = b$, где\n",
    "    \n",
    "$ A = \n",
    "\\begin{bmatrix}\n",
    "1 & 3 & 1 & 0 & -3 & -6  \\\\\n",
    "1 & 1 & 3 & -4 & -3 & -8 \\\\\n",
    "-1 & 1 & -3 & 6 & 1 & 6 \\\\\n",
    "1 & -1 & 3 & -6 & -1 & -6\n",
    " \\end{bmatrix}, \\ \n",
    "b = \n",
    "\\begin{bmatrix}\n",
    "47 \\\\ 55 \\\\ -33 \\\\ 33\n",
    " \\end{bmatrix}\n",
    "$.\n",
    "\n",
    "Система является *неоднородной*.\n",
    "\n",
    "Заметим, что 3-я и 4-ая строки *линейно зависимы*  \n",
    "\n",
    "(при умножении на -1 из 3-его уравнения получается 4-ое) \n",
    "\n",
    "$\\implies$ 4-ую строку можно исключить."
   ]
  },
  {
   "cell_type": "markdown",
   "metadata": {},
   "source": [
    "Применим метод Гаусса и преобразуем расширенную матрицу:\n",
    "    \n",
    "$ \\left(\\begin{array}{cccccc|c}\n",
    "1 & 3 & 1 & 0 & -3 & -6 & 47 \\\\\n",
    "1 & 1 & 3 & -4 & -3 & -8 & 55 \\\\\n",
    "-1 & 1 & -3 & 6 & 1 & 6 & -33 \\\\\n",
    " \\end{array}\\right)$\n",
    " \n",
    "Выберем в качестве разрешающего элемента 1-ый в 1-ой строке.\n",
    " \n",
    "К 2-ой и 3-ей строке прибавим 1-ю, умноженную на -1, 1 соответственно:\n",
    " \n",
    "$ \\left(\\begin{array}{cccccc|c}\n",
    "1 & 3 & 1 & 0 & -3 & -6 & 47 \\\\\n",
    "0 & -2 & 2 & -4 & 0 & -2 & 8\\\\\n",
    "0 & 4 & -2 & 6 & -2 & 0 & 14 \\\\\n",
    "\\end{array}\\right)$\n",
    " \n",
    "Разделим 2-ую и 4-ую строки на -2 и 2 соответственно.\n",
    " \n",
    "$ \\left(\\begin{array}{cccccc|c}\n",
    "1 & 3 & 1 & 0 & -3 & -6 & 47 \\\\\n",
    "0 & 1 & -1 & 2 & 0 & 1& -4 \\\\\n",
    "0 & 2 & -1 & 3& -1 & 0 & 7 \\\\\n",
    "\\end{array}\\right)$"
   ]
  },
  {
   "cell_type": "code",
   "execution_count": 39,
   "metadata": {},
   "outputs": [
    {
     "data": {
      "image/png": "[encoded data removed]",
      "text/latex": [
       "$$\\left ( \\left[\\begin{matrix}0 & -2 & 2 & -4 & 0 & -2 & 8\\end{matrix}\\right], \\quad \\left[\\begin{matrix}0 & 4 & -2 & 6 & -2 & 0 & 14\\end{matrix}\\right]\\right )$$"
      ],
      "text/plain": [
       "([0  -2  2  -4  0  -2  8], [0  4  -2  6  -2  0  14])"
      ]
     },
     "execution_count": 39,
     "metadata": {},
     "output_type": "execute_result"
    }
   ],
   "source": [
    "sympy.Matrix(1, 7, [1,1,3,-4,-3,-8,55])+sympy.Matrix(1, 7, [1,3,1,0,-3,-6,47])*(-1), \\\n",
    "sympy.Matrix(1, 7, [-1,1,-3,6,1,6,-33])+sympy.Matrix(1, 7, [1,3,1,0,-3,-6,47])"
   ]
  },
  {
   "cell_type": "markdown",
   "metadata": {},
   "source": [
    "Выберем в качестве разрешающего элемента 2-ой в 2-ой строке.\n",
    " \n",
    " К 1-ой и 3-ей строке прибавим 2-ую, умноженную на -3 и -2 соответственно:\n",
    " \n",
    " $ \\left(\\begin{array}{cccccc|c}\n",
    "1 & 0 & 4 & -6 & -3 & -9 & 59 \\\\\n",
    "0 & 1 & -1 & 2 & 0 & 1 & -4 \\\\\n",
    "0 & 0 & 1 & -1 & -1 & -2 & 15 \\\\\n",
    "\\end{array}\\right)$"
   ]
  },
  {
   "cell_type": "code",
   "execution_count": 42,
   "metadata": {},
   "outputs": [
    {
     "data": {
      "image/png": "[encoded data removed]",
      "text/latex": [
       "$$\\left ( \\left[\\begin{matrix}1 & 0 & 4 & -6 & -3 & -9 & 59\\end{matrix}\\right], \\quad \\left[\\begin{matrix}0 & 0 & 1 & -1 & -1 & -2 & 15\\end{matrix}\\right]\\right )$$"
      ],
      "text/plain": [
       "([1  0  4  -6  -3  -9  59], [0  0  1  -1  -1  -2  15])"
      ]
     },
     "execution_count": 42,
     "metadata": {},
     "output_type": "execute_result"
    }
   ],
   "source": [
    "sympy.Matrix(1, 7, [1,3,1,0,-3,-6,47])+sympy.Matrix(1, 7, [0,1,-1,2,0,1,-4])*(-3), \\\n",
    "sympy.Matrix(1, 7, [0,2,-1,3,-1,0,7])+sympy.Matrix(1, 7, [0,1,-1,2,0,1,-4])*(-2)"
   ]
  },
  {
   "cell_type": "markdown",
   "metadata": {},
   "source": [
    "Выберем в качестве разрешающего элемента 3-ий в 3-ей строке.\n",
    " \n",
    " К 1-ой и 2-ой строке прибавим 3-ю, умноженную на -4 и 1 соответственно:\n",
    " \n",
    "$ \\left(\\begin{array}{cccccc|c}\n",
    "1 & 0 & 0 & -2 & 1 & -1 & -1 \\\\\n",
    "0 & 1 & 0 & 1 & -1 & -1 & 11 \\\\\n",
    "0 & 0 & 1 & -1 & -1 & -2 & 15 \\\\\n",
    "\\end{array}\\right)$"
   ]
  },
  {
   "cell_type": "code",
   "execution_count": 44,
   "metadata": {},
   "outputs": [
    {
     "data": {
      "image/png": "[encoded data removed]",
      "text/latex": [
       "$$\\left ( \\left[\\begin{matrix}1 & 0 & 0 & -2 & 1 & -1 & -1\\end{matrix}\\right], \\quad \\left[\\begin{matrix}0 & 1 & 0 & 1 & -1 & -1 & 11\\end{matrix}\\right]\\right )$$"
      ],
      "text/plain": [
       "([1  0  0  -2  1  -1  -1], [0  1  0  1  -1  -1  11])"
      ]
     },
     "execution_count": 44,
     "metadata": {},
     "output_type": "execute_result"
    }
   ],
   "source": [
    "sympy.Matrix(1, 7, [1,0,4,-6,-3,-9,59])+sympy.Matrix(1, 7, [0,0,1,-1,-1,-2,15])*(-4), \\\n",
    "sympy.Matrix(1, 7, [0,1,-1,2,0,1,-4])+sympy.Matrix(1, 7, [0,0,1,-1,-1,-2,15])"
   ]
  },
  {
   "cell_type": "markdown",
   "metadata": {},
   "source": [
    "Система уравнений примет вид:\n",
    "\n",
    "$\\begin{cases}\n",
    "x_1 - 2x_4 + x_5 - x_6 = -1 \\\\\n",
    "x_2 + x_4 - x_5 - x_6 = 11 \\\\\n",
    "x_3 - x_4 - x_5 - 2x_6 = 15 \\\\\n",
    "\\end{cases} \\iff\n",
    "\\begin{cases}\n",
    "x_1 = 2x_4 - x_5 + x_6 - 1 \\\\\n",
    "x_2 = -x_4 + x_5 + x_6 + 11 \\\\\n",
    "x_3 = x_4 + x_5 + 2x_6 + 15\\\\\n",
    "\\end{cases}$.\n",
    "\n",
    "Решение системы уравнений:\n",
    "\n",
    "$\\big(2x_4 - x_5 + x_6 - 1, \\ -x_4 + x_5 + x_6 + 11, \\ x_4 + x_5 + 2x_6 + 15, \\ x_4, \\ x_5, \\ x_6\\big)$, \n",
    "\n",
    "где $x_4, x_5, x_6$ - произвольные числа."
   ]
  },
  {
   "cell_type": "code",
   "execution_count": 45,
   "metadata": {},
   "outputs": [
    {
     "data": {
      "image/png": "[encoded data removed]",
      "text/latex": [
       "$$\\left \\{ x_{1} : 2 x_{4} - x_{5} + x_{6} - 1, \\quad x_{2} : - x_{4} + x_{5} + x_{6} + 11, \\quad x_{3} : x_{4} + x_{5} + 2 x_{6} + 15\\right \\}$$"
      ],
      "text/plain": [
       "{x₁: 2⋅x₄ - x₅ + x₆ - 1, x₂: -x₄ + x₅ + x₆ + 11, x₃: x₄ + x₅ + 2⋅x₆ + 15}"
      ]
     },
     "execution_count": 45,
     "metadata": {},
     "output_type": "execute_result"
    }
   ],
   "source": [
    "x1,x2,x3,x4,x5,x6 = sympy.symbols('x1,x2,x3,x4,x5,x6')\n",
    "system = sympy.Matrix([ [1,3,1,0,-3,-6,47] , [1,1,3 ,-4,-3,-8,55], [-1,1,-3,6,1,6,-33], [1,-1,3,-6,-1,-6,33] ])\n",
    "sympy.solve_linear_system(system, x1,x2,x3,x4,x5,x6)"
   ]
  }
 ],
 "metadata": {
  "kernelspec": {
   "display_name": "Python 3",
   "language": "python",
   "name": "python3"
  },
  "language_info": {
   "codemirror_mode": {
    "name": "ipython",
    "version": 3
   },
   "file_extension": ".py",
   "mimetype": "text/x-python",
   "name": "python",
   "nbconvert_exporter": "python",
   "pygments_lexer": "ipython3",
   "version": "3.6.4"
  }
 },
 "nbformat": 4,
 "nbformat_minor": 2
}
