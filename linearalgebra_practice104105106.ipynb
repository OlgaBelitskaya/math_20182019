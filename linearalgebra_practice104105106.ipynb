{
 "cells": [
  {
   "cell_type": "code",
   "execution_count": 1,
   "metadata": {},
   "outputs": [
    {
     "data": {
      "text/html": [
       "<style>\n",
       "@import url('https://fonts.googleapis.com/css?family=Roboto&effect=3d|brick-sign|');\n",
       "span {font-family:Roboto; color:black; text-shadow:4px 4px 4px #aaa;}  \n",
       "h1,h2 {font-family:Roboto; color:slategray; text-shadow:4px 4px 4px #aaa;} \n",
       "div.output_subarea, div.output_area pre{font-family:Roboto; font_size:120%; color:darkblue;}\n",
       "</style> "
      ],
      "text/plain": [
       "<IPython.core.display.HTML object>"
      ]
     },
     "metadata": {},
     "output_type": "display_data"
    }
   ],
   "source": [
    "%%html\n",
    "<style>\n",
    "@import url('https://fonts.googleapis.com/css?family=Roboto&effect=3d|brick-sign|');\n",
    "span {font-family:Roboto; color:black; text-shadow:4px 4px 4px #aaa;}  \n",
    "h1,h2 {font-family:Roboto; color:slategray; text-shadow:4px 4px 4px #aaa;} \n",
    "div.output_subarea, div.output_area pre{font-family:Roboto; font_size:120%; color:darkblue;}\n",
    "</style> "
   ]
  },
  {
   "cell_type": "code",
   "execution_count": 2,
   "metadata": {},
   "outputs": [],
   "source": [
    "import math, sympy, numpy\n",
    "sympy.init_printing(use_unicode=True)\n",
    "from sympy import *\n",
    "import pylab as plt\n",
    "%matplotlib inline"
   ]
  },
  {
   "cell_type": "markdown",
   "metadata": {},
   "source": [
    "[Computer Algebra I: Mathematica, SymPy, Sage, Maxima](http://hyperpolyglot.org/computer-algebra2)\n",
    "\n",
    "[Sympy. Matrices](https://docs.sympy.org/latest/tutorial/matrices.html)\n",
    "\n",
    "[LaTeX/Mathematics](https://en.wikibooks.org/wiki/LaTeX/Mathematics)\n",
    "\n",
    "[МЦНМО. Свободно распространяемые издания](https://www.mccme.ru/free-books/)"
   ]
  },
  {
   "cell_type": "markdown",
   "metadata": {},
   "source": [
    "# Типовой расчет 4 / Standard Calculation 4"
   ]
  },
  {
   "cell_type": "markdown",
   "metadata": {},
   "source": [
    "## Постановка  задачи / Formulation of the problem:\n",
    "Найти ранг данной матрицы методом Гаусса\n",
    "\n",
    "$\\begin{pmatrix}\n",
    "-1 & -1 & 2 & -3 & -1 & 1 \\\\\n",
    "1 & -2 & -1 & -3 & 1 & -1 \\\\\n",
    "-2 & -1 & -2 & -1 & -3 & 1 \\\\\n",
    "-3 & -1 & -1 & 1 & -1 & 1 \\\\\n",
    "-3 & -3 & -3 & -3 & -1 & 1\n",
    "\\end{pmatrix}$"
   ]
  },
  {
   "cell_type": "code",
   "execution_count": 5,
   "metadata": {},
   "outputs": [
    {
     "data": {
      "image/png": "[encoded data removed]",
      "text/latex": [
       "$$\\left[\\begin{matrix}-1 & -1 & 2 & -3 & -1 & 1\\\\1 & -2 & -1 & -3 & 1 & -1\\\\-2 & -1 & -2 & -1 & -3 & 1\\\\-3 & -1 & -1 & 1 & -1 & 1\\\\-3 & -3 & -3 & -3 & -1 & 1\\end{matrix}\\right]$$"
      ],
      "text/plain": [
       "⎡-1  -1  2   -3  -1  1 ⎤\n",
       "⎢                      ⎥\n",
       "⎢1   -2  -1  -3  1   -1⎥\n",
       "⎢                      ⎥\n",
       "⎢-2  -1  -2  -1  -3  1 ⎥\n",
       "⎢                      ⎥\n",
       "⎢-3  -1  -1  1   -1  1 ⎥\n",
       "⎢                      ⎥\n",
       "⎣-3  -3  -3  -3  -1  1 ⎦"
      ]
     },
     "execution_count": 5,
     "metadata": {},
     "output_type": "execute_result"
    }
   ],
   "source": [
    "A = sympy.Matrix([[-1,-1, 2,-3 ,-1,1],[1,-2,-1,-3,1,-1],[-2,-1,-2,-1,-3,1],[-3,-1,-1,1,-1,1],[-3 ,-3 ,-3,-3,-1,1]])\n",
    "A"
   ]
  },
  {
   "cell_type": "markdown",
   "metadata": {},
   "source": [
    "## Решение / Decision\n",
    "\n",
    "Приводим матрицу к ступенчатому виду.\n",
    "  \n",
    "Ко 2-ой строке прибавим 1-ую, из 3-ей, 4-ой и 5-ой вычтем 1-ую:\n",
    " \n",
    "$\\begin{pmatrix}\n",
    "-1 & -1 & 2 & -3 & -1 & 1 \\\\\n",
    "1 & -2 & -1 & -3 & 1 & -1 \\\\  \n",
    " -2 & -1 & -2 & -1 & -3 & 1 \\\\\n",
    " -3 & -1 & -1 & 1 & -1 & 1 \\\\\n",
    " -3 & -3 & -3 & -3 & -1 & 1\n",
    "\\end{pmatrix} = \n",
    "\\begin{pmatrix}\n",
    "-1 & -1 & 2 & -3 & -1 & 1 \\\\\n",
    "0 & -3 & 1 & -6 & 0 & 0 \\\\\n",
    " -1 & 0 & -4 & 2 & -2 & 0 \\\\\n",
    " -4 & 0 & -3 & 4 & 0 & 0 \\\\\n",
    " -2 & -2 & -5 & 0 & 0 & 0\n",
    "\\end{pmatrix}$\n",
    "\n",
    "Из 1-ого столбца вычтем 2-ой, к 4-му столбцу прибавим 5-ый:\n",
    "\n",
    "$\\begin{pmatrix}\n",
    "-1 & -1 & 2 & -3 & -1 & 1 \\\\\n",
    "0 & -3 & 1 & -6 & 0 & 0 \\\\\n",
    " -1 & 0 & -4 & 2 & -2 & 0 \\\\\n",
    " -4 & 0 & -3 & 4 & 0 & 0 \\\\\n",
    " -2 & -2 & -5 & 0 & 0 & 0\n",
    "\\end{pmatrix} = \n",
    "\\begin{pmatrix}\n",
    "0 & -1 & 2 & -4 & -1 & 1 \\\\\n",
    "3 & -3 & 1 & -6 & 0 & 0 \\\\\n",
    " -1 & 0 & -4 & 0 & -2 & 0 \\\\\n",
    " -4 & 0 & -3 & 4 & 0 & 0 \\\\\n",
    " 0 & -2 & -5 & 0 & 0 & 0\n",
    "\\end{pmatrix}$\n",
    "\n",
    "Ко 2 и 5-му столбцу прибавим 6-ой, разделим 4-ый на 2 и прибавим к 3-му:\n",
    "\n",
    "$\\begin{pmatrix}\n",
    "0 & -1 & 2 & -4 & -1 & 1 \\\\\n",
    "3 & -3 & 1 & -6 & 0 & 0 \\\\\n",
    " -1 & 0 & -4 & 0 & -2 & 0 \\\\\n",
    " -4 & 0 & -3 & 4 & 0 & 0 \\\\\n",
    " 0 & -2 & -5 & 0 & 0 & 0\n",
    "\\end{pmatrix} = \n",
    "\\begin{pmatrix}\n",
    "0 & 0 & 0 & -4 & 0 & 1 \\\\\n",
    "3 & -3 & -2 & -6 & 0 & 0 \\\\\n",
    " -1 & 0 & -4 & 0 & -2 & 0 \\\\\n",
    " -4 & 0 & -1 & 4 & 0 & 0 \\\\\n",
    " 0 & -2 & -5 & 0 & 0 & 0\n",
    "\\end{pmatrix}$\n",
    "\n",
    "Умножим 6-й столбец на 4 и прибавим к 4-му, \n",
    "\n",
    "умножим 5-й столбец на 2 и вычтем из 3-его,\n",
    "\n",
    "умножим 1-ый столбец на -2 и сложим с 5-ым:\n",
    "\n",
    "$\\begin{pmatrix}\n",
    "0 & 0 & 0 & -4 & 0 & 1 \\\\\n",
    "3 & -3 & -2 & -6 & 0 & 0 \\\\\n",
    " -1 & 0 & -4 & 0 & -2 & 0 \\\\\n",
    " -4 & 0 & -1 & 4 & 0 & 0 \\\\\n",
    " 0 & -2 & -5 & 0 & 0 & 0\n",
    "\\end{pmatrix} = \n",
    "\\begin{pmatrix}\n",
    "0 & 0 & 0 & 0 & 0 & 1 \\\\\n",
    "-6 & -3 & -2 & -6 & 0 & 0 \\\\\n",
    " 0 & 0 & 0 & 0 & -2 & 0 \\\\\n",
    " 8 & 0 & -1 & 4 & 0 & 0 \\\\\n",
    " 0 & -2 & -5 & 0 & 0 & 0\n",
    "\\end{pmatrix}$"
   ]
  },
  {
   "cell_type": "markdown",
   "metadata": {},
   "source": [
    "Из 1-ого стоблца вычтем 4-ый, \n",
    "\n",
    "2-й столбец умножим на 2  и вычтем из 3-его, умноженного на 3:\n",
    "\n",
    "$\\begin{pmatrix}\n",
    "0 & 0 & 0 & 0 & 0 & 1 \\\\\n",
    "-6 & -3 & -2 & -6 & 0 & 0 \\\\\n",
    " 0 & 0 & 0 & 0 & -2 & 0 \\\\\n",
    " 8 & 0 & -1 & 4 & 0 & 0 \\\\\n",
    " 0 & -2 & -5 & 0 & 0 & 0\n",
    "\\end{pmatrix} = \n",
    "\\begin{pmatrix}\n",
    "0 & 0 & 0 & 0 & 0 & 1 \\\\\n",
    "0 & -6 & 0 & -6 & 0 & 0 \\\\\n",
    " 0 & 0 & 0 & 0 & -2 & 0 \\\\\n",
    " 4 & 0 & -3 & 4 & 0 & 0 \\\\\n",
    " 0 & -4 & -11 & 0 & 0 & 0\n",
    "\\end{pmatrix}$\n",
    "\n",
    "Из 4-ого столбца вычтем 1-ый, \n",
    "\n",
    "1-ый умножим на -3, 3-й умножим на 4 и сложим:\n",
    "\n",
    "$\\begin{pmatrix}\n",
    "0 & 0 & 0 & 0 & 0 & 1 \\\\\n",
    "0 & -6 & 0 & -6 & 0 & 0 \\\\\n",
    " 0 & 0 & 0 & 0 & -2 & 0 \\\\\n",
    " 4 & 0 & -3 & 4 & 0 & 0 \\\\\n",
    " 0 & -4 & -11 & 0 & 0 & 0\n",
    "\\end{pmatrix} = \n",
    "\\begin{pmatrix}\n",
    "0 & 0 & 0 & 0 & 0 & 1 \\\\\n",
    "0 & -6 & 0 & -6 & 0 & 0 \\\\\n",
    " 0 & 0 & 0 & 0 & -2 & 0 \\\\\n",
    "12 & 0 & 0 & 0 & 0 & 0 \\\\\n",
    " 0 & -4 & -44 & 0 & 0 & 0\n",
    "\\end{pmatrix}$\n",
    "\n",
    "Поделим 3-й столбец на 11 и вычтем из 2-ого:\n",
    "\n",
    "$\\begin{pmatrix}\n",
    "0 & 0 & 0 & 0 & 0 & 1 \\\\\n",
    "0 & -6 & 0 & -6 & 0 & 0 \\\\\n",
    " 0 & 0 & 0 & 0 & -2 & 0 \\\\\n",
    " 4 & 0 & -3 & 4 & 0 & 0 \\\\\n",
    " 0 & -4 & -11 & 0 & 0 & 0\n",
    "\\end{pmatrix} = \n",
    "\\begin{pmatrix}\n",
    "0 & 0 & 0 & 0 & 0 & 1 \\\\\n",
    "0 & -6 & 0 & -6 & 0 & 0 \\\\\n",
    " 0 & 0 & 0 & 0 & -2 & 0 \\\\\n",
    "12 & 0 & 0 & 0 & 0 & 0 \\\\\n",
    " 0 & 0 & -44 & 0 & 0 & 0\n",
    "\\end{pmatrix}$\n",
    "\n",
    "2-й и 4-й столбцы линейно зависимы, 1-й, 2-й, 3-й, 5-й и 6-й - линейно независимы.\n",
    "\n",
    "Ранг матрицы равен 5."
   ]
  },
  {
   "cell_type": "code",
   "execution_count": 11,
   "metadata": {},
   "outputs": [
    {
     "data": {
      "image/png": "[encoded data removed]",
      "text/latex": [
       "$$5$$"
      ],
      "text/plain": [
       "5"
      ]
     },
     "execution_count": 11,
     "metadata": {},
     "output_type": "execute_result"
    }
   ],
   "source": [
    "A.rank()"
   ]
  },
  {
   "cell_type": "code",
   "execution_count": 14,
   "metadata": {},
   "outputs": [
    {
     "name": "stdout",
     "output_type": "stream",
     "text": [
      "[[-1 -1  2 -3 -1  1]\n",
      " [ 1 -2 -1 -3  1 -1]\n",
      " [-2 -1 -2 -1 -3  1]\n",
      " [-3 -1 -1  1 -1  1]\n",
      " [-3 -3 -3 -3 -1  1]]\n"
     ]
    }
   ],
   "source": [
    "a = numpy.matrix([[-1,-1, 2,-3 ,-1,1],[1,-2,-1,-3,1,-1],[-2,-1,-2,-1,-3,1],[-3,-1,-1,1,-1,1],[-3 ,-3 ,-3,-3,-1,1]])\n",
    "print (a)"
   ]
  },
  {
   "cell_type": "code",
   "execution_count": 16,
   "metadata": {},
   "outputs": [
    {
     "data": {
      "text/plain": [
       "5"
      ]
     },
     "execution_count": 16,
     "metadata": {},
     "output_type": "execute_result"
    }
   ],
   "source": [
    "numpy.linalg.matrix_rank(a)"
   ]
  },
  {
   "cell_type": "markdown",
   "metadata": {},
   "source": [
    "# Типовой расчет 5 / Standard Calculation 5"
   ]
  },
  {
   "cell_type": "markdown",
   "metadata": {},
   "source": [
    "Решить систему линейных алгебраических уравнений методом Гаусса\n",
    "\n",
    "$\n",
    "\\begin{cases}\n",
    "2x_1 + 3x_2 + 2x_3 - 3x_4 - 9x_5 - 9x_6 = 0 \\\\\n",
    "2x_1 - 2x_2 - 3x_3 - 3x_4 + x_5 + 6x_6 = 0 \\\\\n",
    "-x_1 + 2x_2 + x_3 + 3x_4 - x_5 - 3x_6 = 0 \\\\\n",
    "6x_1 - 3x_2 - 3x_3 - 12x_4 - 6x_5 + 3x_6 = 0 \\\\\n",
    "\\end{cases}\n",
    "$."
   ]
  },
  {
   "cell_type": "markdown",
   "metadata": {},
   "source": [
    "## Решение / Decision\n",
    "\n",
    "Число уравнений *меньше* числа неизвестных переменных, \n",
    "\n",
    "значит система *совместна* и имеет *бесконечное множество решений*.\n",
    "\n",
    "Матричный вид записи: $Ax = b$, где\n",
    "    \n",
    "$ A = \n",
    "\\begin{bmatrix}\n",
    "2 & 3 & 2 & -3 & -9 & -9  \\\\\n",
    "2 & -2 & -3 & -3 & 1 & 6 \\\\\n",
    "-1 & 2 & 1 & 3 & -1 & -3 \\\\\n",
    "6 & -3 & -3 & -12 & -6 & 3\n",
    " \\end{bmatrix}, \\ \n",
    "b = \n",
    "\\begin{bmatrix}\n",
    "0 \\\\ 0 \\\\ 0 \\\\ 0\n",
    " \\end{bmatrix}\n",
    "$.\n",
    "\n",
    "Все коэффициенты $b_1 = b_2 = b_3 = b_4 = 0$, \n",
    "\n",
    "значит система является *однородной*."
   ]
  },
  {
   "cell_type": "markdown",
   "metadata": {},
   "source": [
    "Выполним элементарные преобразования матрицы $A$\n",
    "\n",
    "$ \n",
    "\\begin{bmatrix}\n",
    "2 & 3 & 2 & -3 & -9 & -9  \\\\\n",
    "2 & -2 & -3 & -3 & 1 & 6 \\\\\n",
    "-1 & 2 & 1 & 3 & -1 & -3 \\\\\n",
    "6 & -3 & -3 & -12 & -6 & 3\n",
    " \\end{bmatrix}\n",
    "$.\n",
    "\n",
    "К 3-ей строке прибавим 2-ую, к 4-ой - 1-ую:\n",
    "\n",
    "$ \n",
    "\\begin{bmatrix}\n",
    "2 & 3 & 2 & -3 & -9 & -9  \\\\\n",
    "2 & -2 & -3 & -3 & 1 & 6 \\\\\n",
    "1 & 0 & -2 & 0 & 0 & 3 \\\\\n",
    "8 & 0 & -1 & -15 & -15 & -6\n",
    " \\end{bmatrix}\n",
    "$.\n",
    "\n",
    "Из 1-ой строки вычтем 2-ую, \n",
    "\n",
    "к 4-ой строке прибавим 3-ую, умноженную на 2:\n",
    "\n",
    "$ \n",
    "\\begin{bmatrix}\n",
    "0 & 5 & 5 & 0 & -10 & -15  \\\\\n",
    "2 & -2 & -3 & -3 & 1 & 6 \\\\\n",
    "1 & 0 & -2 & 0 & 0 & 3 \\\\\n",
    "10 & 0 & -5 & -15 & -15 &  0\n",
    " \\end{bmatrix}\n",
    "$.\n",
    "\n",
    "Разделим 1-ую и 4-ую строки на 5,\n",
    "\n",
    "из 2-ой строки вычтем 3-ю, умноженную на 2:\n",
    "\n",
    "$ \n",
    "\\begin{bmatrix}\n",
    "0 & 1 & 1 & 0 & -2 & -3  \\\\\n",
    "0 & -2 & 1 & -3 & 1 & 0 \\\\\n",
    "1 & 0 & -2 & 0 & 0 & 3 \\\\\n",
    "2 & 0 & -1 & -3 & -3 &  0\n",
    " \\end{bmatrix}\n",
    "$."
   ]
  },
  {
   "cell_type": "markdown",
   "metadata": {},
   "source": [
    "Из 1-ой строки вычтем 2-ую,\n",
    "\n",
    "из 4-ой вычтем 3-ю, умноженную на 2:\n",
    "\n",
    "$ \n",
    "\\begin{bmatrix}\n",
    "0 & 3 & 0 & 3 & -3 & -3  \\\\\n",
    "0 & -2 & 1 & -3 & 1 & 0 \\\\\n",
    "1 & 0 & -2 & 0 & 0 & 3 \\\\\n",
    "0 & 0 & 3 & -3 & -3 &  -6\n",
    " \\end{bmatrix}\n",
    "$.\n",
    "\n",
    "Разделим 1-ую и 4-ую строки на 3:\n",
    "\n",
    "$ \n",
    "\\begin{bmatrix}\n",
    "0 & 1 & 0 & 1 & -1 & -1  \\\\\n",
    "0 & -2 & 1 & -3 & 1 & 0 \\\\\n",
    "1 & 0 & -2 & 0 & 0 & 3 \\\\\n",
    "0 & 0 & 1 & -1 & -1 &  -2\n",
    " \\end{bmatrix}\n",
    "$.\n",
    "\n",
    "Из 2-ой строки вычтем 4-ую,\n",
    "\n",
    "к 3-ей строке прибавим 4-ую, умноженную на 2:\n",
    "\n",
    "$ \n",
    "\\begin{bmatrix}\n",
    "0 & 1 & 0 & 1 & -1 & -1  \\\\\n",
    "0 & -2 & 0 & -2 & 2 & 2 \\\\\n",
    "1 & 0 & 0 & -2 & -2 & -1 \\\\\n",
    "0 & 0 & 1 & -1 & -1 &  -2\n",
    " \\end{bmatrix}\n",
    "$.\n",
    "\n",
    "1-ая и 2-ая строка линейно зависимы, \n",
    "\n",
    "значит 2-ую строку можно исключить:\n",
    "\n",
    "$ \n",
    "\\begin{bmatrix}\n",
    "0 & 1 & 0 & 1 & -1 & -1  \\\\\n",
    "1 & 0 & 0 & -2 & -2 & -1 \\\\\n",
    "0 & 0 & 1 & -1 & -1 &  -2\n",
    " \\end{bmatrix}\n",
    "$."
   ]
  },
  {
   "cell_type": "markdown",
   "metadata": {},
   "source": [
    "Система уравнений примет вид:\n",
    "\n",
    "$\n",
    "\\begin{cases}\n",
    "x_2 + x_4 - x_5 - x_6 = 0 \\\\\n",
    "x_1 - 2x_4 - 2x_5 - x_6 = 0 \\\\\n",
    "x_3 - x_4 - x_5 - 2x_6 = 0 \\\\\n",
    "\\end{cases} \\iff\n",
    "\\begin{cases}\n",
    "x_1 = 2x_4 + 2x_5 + x_6 \\\\\n",
    "x_2 = -x_4 + x_5 + x_6 \\\\\n",
    "x_3 = x_4 + x_5 + 2x_6 \\\\\n",
    "\\end{cases}\n",
    "$.\n",
    "\n",
    "Решение системы уравнений:\n",
    "\n",
    "$\\big(2x_4 + 2x_5 + x_6, \\ -x_4 + x_5 + x_6, \\ x_4 + x_5 + 2x_6, \\ x_4, \\ x_5, \\ x_6\\big)$, где \n",
    "\n",
    "$x_4, x_5, x_6$ - произвольные числа."
   ]
  },
  {
   "cell_type": "code",
   "execution_count": 4,
   "metadata": {},
   "outputs": [
    {
     "data": {
      "image/png": "[encoded data removed]",
      "text/latex": [
       "$$\\left \\{ a : 2 d + 2 e + f, \\quad b : - d + e + f, \\quad c : d + e + 2 f\\right \\}$$"
      ],
      "text/plain": [
       "{a: 2⋅d + 2⋅e + f, b: -d + e + f, c: d + e + 2⋅f}"
      ]
     },
     "execution_count": 4,
     "metadata": {},
     "output_type": "execute_result"
    }
   ],
   "source": [
    "from sympy.abc import a,b,c,d,e,f\n",
    "system = sympy.Matrix([ [2,3,2,-3,-9,-9,0], [2,-2,-3,-3,1,6,0], [-1,2,1,3,-1,-3,0], [6,-3,-3,-12,-6,3,0] ])\n",
    "sympy.solve_linear_system(system, a,b,c,d,e,f)"
   ]
  },
  {
   "cell_type": "markdown",
   "metadata": {},
   "source": [
    "# Типовой расчет 6 / Standard Calculation 6"
   ]
  },
  {
   "cell_type": "markdown",
   "metadata": {},
   "source": [
    "## Постановка  задачи / Formulation of the problem:\n",
    "Найти общее решение системы линейных алгебраических уравнений \n",
    "\n",
    "$\n",
    "\\begin{cases}\n",
    "x_1 + 3x_2 + x_3 - 3x_5 - 6x_6 = 47 \\\\\n",
    "x_1  + x_2 + 3x_3 - 4x_4 - 3x_5 - 8x_6 = 55 \\\\\n",
    "-x_1 + x_2 - 3x_3 + 6x_4 + x_5 + 6x_6 = -33 \\\\\n",
    "x_1 - x_2 + 3x_3 - 6x_4 - x_5 - 6x_6 = 33 \\\\\n",
    "\\end{cases}\n",
    "$."
   ]
  },
  {
   "cell_type": "markdown",
   "metadata": {},
   "source": [
    "## Решение / Decision\n",
    "\n",
    "Число уравнений *меньше* числа неизвестных переменных, \n",
    "\n",
    "значит система *совместна* и имеет *бесконечное множество решений*. \n",
    "\n",
    "Матричный вид записи: $Ax = b$, где\n",
    "    \n",
    "$ A = \n",
    "\\begin{bmatrix}\n",
    "1 & 3 & 1 & 0 & -3 & -6  \\\\\n",
    "1 & 1 & 3 & -4 & -3 & -8 \\\\\n",
    "-1 & 1 & -3 & 6 & 1 & 6 \\\\\n",
    "1 & -1 & 3 & -6 & -1 & -6\n",
    " \\end{bmatrix}, \\ \n",
    "b = \n",
    "\\begin{bmatrix}\n",
    "47 \\\\ 55 \\\\ -33 \\\\ 33\n",
    " \\end{bmatrix}\n",
    "$.\n",
    "\n",
    "Система является *неоднородной*.\n",
    "\n",
    "Заметим, что 3-я и 4-ая строки *линейно зависимы*  \n",
    "\n",
    "(при умножении на -1 из 3-его уравнения получается 4-ое) \n",
    "\n",
    "$\\implies$ 4-ую строку можно исключить."
   ]
  },
  {
   "cell_type": "markdown",
   "metadata": {},
   "source": [
    "Применим метод Гаусса и преобразуем расширенную матрицу:\n",
    "    \n",
    "$\n",
    " \\left(\\begin{array}{cccccc|c}\n",
    "1 & 3 & 1 & 0 & -3 & -6 & 47 \\\\\n",
    "1 & 1 & 3 & -4 & -3 & -8 & 55 \\\\\n",
    "-1 & 1 & -3 & 6 & 1 & 6 & -33 \\\\\n",
    " \\end{array}\\right)\n",
    " $\n",
    " \n",
    " К 1-ой и 2-ой строке прибавим 3-ю:\n",
    " \n",
    " $\n",
    " \\left(\\begin{array}{cccccc|c}\n",
    "0 & 4 & -2 & 6 & -2 & 0 & 14 \\\\\n",
    "0 & 2 & 0 & 2 & -2 & -2 & 22 \\\\\n",
    "-1 & 1 & -3 & 6 & 1 & 6 & -33 \\\\\n",
    " \\end{array}\\right)\n",
    " $\n",
    " \n",
    " Разделим 2-ую строку на 2:\n",
    " \n",
    " $\n",
    " \\left(\\begin{array}{cccccc|c}\n",
    "0 & 4 & -2 & 6 & -2 & 0 & 14 \\\\\n",
    "0 & 1 & 0 & 1 & -1 & -1 & 11 \\\\\n",
    "-1 & 1 & -3 & 6 & 1 & 6 & -33 \\\\\n",
    " \\end{array}\\right)\n",
    " $\n",
    " \n",
    " Из 1-ой строки вычтем 2-ую, умноженную на 4,\n",
    " \n",
    " из 3-ей строки вычтем 2-ую:\n",
    " \n",
    " $\n",
    " \\left(\\begin{array}{cccccc|c}\n",
    "0 & 0 & -2 & 2 & 2 & 4 & -30 \\\\\n",
    "0 & 1 & 0 & 1 & -1 & -1 & 11 \\\\\n",
    "-1 & 0 & -3 & 5 & 2 & 7 & -44 \\\\\n",
    " \\end{array}\\right)\n",
    " $\n",
    " \n",
    " Разделим 1-ую строку на -2, а 3-ю - на -1:\n",
    " \n",
    " $\n",
    " \\left(\\begin{array}{cccccc|c}\n",
    "0 & 0 & 1 & -1 & -1 & -2 & 15 \\\\\n",
    "0 & 1 & 0 & 1 & -1 & -1 & 11 \\\\\n",
    "1 & 0 & 3 & -5 & -2 & -7 & 44 \\\\\n",
    " \\end{array}\\right)\n",
    " $\n",
    " \n",
    " Из 3-ей строки вычтем 1-ую, умноженную на 3:\n",
    " \n",
    " $\n",
    " \\left(\\begin{array}{cccccc|c}\n",
    "0 & 0 & 1 & -1 & -1 & -2 & 15 \\\\\n",
    "0 & 1 & 0 & 1 & -1 & -1 & 11 \\\\\n",
    "1 & 0 & 0 & -2 & 1 & -1 & -1 \\\\\n",
    " \\end{array}\\right)\n",
    " $"
   ]
  },
  {
   "cell_type": "markdown",
   "metadata": {},
   "source": [
    "Система уравнений примет вид:\n",
    "\n",
    "$\n",
    "\\begin{cases}\n",
    "x_3 - x_4 - x_5 - 2x_6 = 15 \\\\\n",
    "x_2 + x_4 - x_5 - x_6 = 11 \\\\\n",
    "x_1 - 2x_4 + x_5 - x_6 = -1 \\\\\n",
    "\\end{cases} \\iff\n",
    "\\begin{cases}\n",
    "x_1 = 2x_4 - x_5 + x_6 - 1 \\\\\n",
    "x_2 = -x_4 + x_5 + x_6 + 11 \\\\\n",
    "x_3 = x_4 + x_5 + 2x_6 + 15\\\\\n",
    "\\end{cases}\n",
    "$.\n",
    "\n",
    "Решение системы уравнений:\n",
    "\n",
    "$\\big(2x_4 - x_5 + x_6 - 1, \\ -x_4 + x_5 + x_6 + 11, \\ x_4 + x_5 + 2x_6 + 15, \\ x_4, \\ x_5, \\ x_6\\big)$, \n",
    "\n",
    "где $x_4, x_5, x_6$ - произвольные числа."
   ]
  },
  {
   "cell_type": "code",
   "execution_count": 5,
   "metadata": {},
   "outputs": [
    {
     "data": {
      "image/png": "[encoded data removed]",
      "text/latex": [
       "$$\\left \\{ a : 2 d - e + f - 1, \\quad b : - d + e + f + 11, \\quad c : d + e + 2 f + 15\\right \\}$$"
      ],
      "text/plain": [
       "{a: 2⋅d - e + f - 1, b: -d + e + f + 11, c: d + e + 2⋅f + 15}"
      ]
     },
     "execution_count": 5,
     "metadata": {},
     "output_type": "execute_result"
    }
   ],
   "source": [
    "from sympy.abc import a,b,c,d,e,f\n",
    "system = sympy.Matrix([ [1,3,1,0,-3,-6,47] , [1,1,3 ,-4,-3,-8,55], [-1,1,-3,6,1,6,-33], [1,-1,3,-6,-1,-6,33] ])\n",
    "sympy.solve_linear_system(system, a,b,c,d,e,f)"
   ]
  }
 ],
 "metadata": {
  "kernelspec": {
   "display_name": "Python 3",
   "language": "python",
   "name": "python3"
  },
  "language_info": {
   "codemirror_mode": {
    "name": "ipython",
    "version": 3
   },
   "file_extension": ".py",
   "mimetype": "text/x-python",
   "name": "python",
   "nbconvert_exporter": "python",
   "pygments_lexer": "ipython3",
   "version": "3.6.4"
  }
 },
 "nbformat": 4,
 "nbformat_minor": 2
}
