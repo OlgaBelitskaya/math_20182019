{
 "cells": [
  {
   "cell_type": "markdown",
   "metadata": {},
   "source": [
    "# Спецификация к Лабораторной работе №9 \n",
    "\n",
    "# Поиск строки или столбца матрицы по условию. \n",
    "# Обработка исключений.\n",
    "\n",
    "# (Вариант 22)\n",
    "\n",
    "## Абстракция А0\n",
    "### 1. Постановка задачи.\n",
    "#### Задание: \n",
    "Написать программу обработки матрицы в соответствии с условием. \n",
    "\n",
    "#### Условие: \n",
    "Проанализировать матрицу. \n",
    "\n",
    "Проверить, все ли столбцы матрицы упорядочены по неубыванию.\n",
    "\n",
    "Если не все, сообщить номер последнего неупорядоченного."
   ]
  },
  {
   "cell_type": "markdown",
   "metadata": {},
   "source": [
    "### 2. Уточненная постановка задачи.\n",
    "Дана матрица $A$, состоящая из n строк и m столбцов. \n",
    "\n",
    "Проанализировать столбцы с номерами $i \\in \\{1, ..., m\\}$,\n",
    "\n",
    "выполняется ли условие $A_{1i} \\leq A_{2i} \\leq  ... \\leq A_{ni} (*)$\n",
    "\n",
    "Если не для всех, сообщить наибольший номер $N$ столбца, \n",
    "\n",
    "для которого $(*)$ не выполняется."
   ]
  },
  {
   "cell_type": "markdown",
   "metadata": {},
   "source": [
    "### 3. Пример с иллюстрацией."
   ]
  },
  {
   "cell_type": "code",
   "execution_count": 6,
   "metadata": {},
   "outputs": [],
   "source": [
    "from IPython.display import Image\n",
    "import numpy\n",
    "import pylab \n",
    "%matplotlib inline\n",
    "pylab.style.use('seaborn-whitegrid')"
   ]
  },
  {
   "cell_type": "code",
   "execution_count": 2,
   "metadata": {},
   "outputs": [
    {
     "name": "stdout",
     "output_type": "stream",
     "text": [
      "[[ 84  73 -20 -62 -47]\n",
      " [ 13  40 -96  16 -47]\n",
      " [ 51 -31  66 -43  39]\n",
      " [-94  70 -12 -13 -15]]\n"
     ]
    }
   ],
   "source": [
    "A1 = numpy.random.randint(-100, 100, size=(4,5))\n",
    "numpy.savetxt('A_Lab9_1.txt', A1, fmt='%5.0f')\n",
    "print(A1)"
   ]
  },
  {
   "cell_type": "code",
   "execution_count": 3,
   "metadata": {},
   "outputs": [
    {
     "name": "stdout",
     "output_type": "stream",
     "text": [
      "[[1 1 0 1 1]\n",
      " [0 0 0 0 0]\n",
      " [1 0 1 0 0]] \n",
      "\n",
      " (3, 5)\n"
     ]
    }
   ],
   "source": [
    "A2 = numpy.random.randint(0, 2, size=(3,5))\n",
    "numpy.savetxt('A_Lab9_2.txt', A2, fmt='%5.0f')\n",
    "print(A2, '\\n\\n', A2.shape)"
   ]
  },
  {
   "cell_type": "code",
   "execution_count": 4,
   "metadata": {},
   "outputs": [
    {
     "data": {
      "text/plain": [
       "array([[False, False,  True, False, False],\n",
       "       [False,  True,  True,  True,  True],\n",
       "       [ True, False,  True, False, False]])"
      ]
     },
     "execution_count": 4,
     "metadata": {},
     "output_type": "execute_result"
    }
   ],
   "source": [
    "A2 == numpy.sort(A2, axis=0)"
   ]
  },
  {
   "cell_type": "code",
   "execution_count": 5,
   "metadata": {},
   "outputs": [
    {
     "data": {
      "text/plain": [
       "array([1, 1, 3, 1, 1])"
      ]
     },
     "execution_count": 5,
     "metadata": {},
     "output_type": "execute_result"
    }
   ],
   "source": [
    "numpy.sum(A2 == numpy.sort(A2, axis=0), axis=0)"
   ]
  },
  {
   "cell_type": "code",
   "execution_count": 6,
   "metadata": {},
   "outputs": [
    {
     "data": {
      "text/plain": [
       "array([ True,  True, False,  True,  True])"
      ]
     },
     "execution_count": 6,
     "metadata": {},
     "output_type": "execute_result"
    }
   ],
   "source": [
    "numpy.sum(A2 == numpy.sort(A2, axis=0), axis=0) < A2.shape[0]"
   ]
  },
  {
   "cell_type": "code",
   "execution_count": 7,
   "metadata": {},
   "outputs": [
    {
     "data": {
      "text/plain": [
       "True"
      ]
     },
     "execution_count": 7,
     "metadata": {},
     "output_type": "execute_result"
    }
   ],
   "source": [
    "sum(numpy.sum(A2 == numpy.sort(A2, axis=0), axis=0) < A2.shape[0]) != 0 "
   ]
  },
  {
   "cell_type": "code",
   "execution_count": 8,
   "metadata": {},
   "outputs": [
    {
     "data": {
      "text/plain": [
       "5"
      ]
     },
     "execution_count": 8,
     "metadata": {},
     "output_type": "execute_result"
    }
   ],
   "source": [
    "numpy.nonzero(numpy.sum(A2 == numpy.sort(A2, axis=0), axis=0) < A2.shape[0])[0][-1] + 1"
   ]
  },
  {
   "cell_type": "code",
   "execution_count": 13,
   "metadata": {},
   "outputs": [
    {
     "name": "stdout",
     "output_type": "stream",
     "text": [
      "[[0 0]\n",
      " [0 2]\n",
      " [2 4]] \n",
      "\n",
      " (3, 2)\n"
     ]
    }
   ],
   "source": [
    "A3 = numpy.random.randint(0, 5, size=(3,2))\n",
    "numpy.savetxt('A_Lab9_3.txt', A3, fmt='%5.0f')\n",
    "print(A3, '\\n\\n', A3.shape)"
   ]
  },
  {
   "cell_type": "code",
   "execution_count": 13,
   "metadata": {},
   "outputs": [
    {
     "name": "stdout",
     "output_type": "stream",
     "text": [
      "[[-4 -9 -3 -9 -6 -8 -6]\n",
      " [-4 -1 -1 -6 -1 -8 -7]\n",
      " [-8 -8 -8 -1 -8 -2 -6]] \n",
      "\n",
      " (3, 7)\n"
     ]
    }
   ],
   "source": [
    "A4 = numpy.random.randint(-10, 0, size=(3,7))\n",
    "numpy.savetxt('A_Lab9_4.txt', A4, fmt='%5.0f')\n",
    "print(A4, '\\n\\n', A4.shape)"
   ]
  },
  {
   "cell_type": "code",
   "execution_count": 43,
   "metadata": {},
   "outputs": [
    {
     "name": "stdout",
     "output_type": "stream",
     "text": [
      "[[ 4.65686407  4.04533509 -3.30944422  3.04703298 -2.82836498 -1.33122366\n",
      "  -3.73740085 -3.81033447 -1.26949406  4.76996665]\n",
      " [ 1.7333839  -1.78020585  3.62076868 -1.8891421   2.21228912  3.43417954\n",
      "   2.83782822  1.70289398 -1.8955828   3.05625326]\n",
      " [ 2.75286188 -4.36364877 -3.17314753  0.3313719   3.52666878 -4.240443\n",
      "  -3.88176302  4.44243148  0.30038683  1.13223991]] \n",
      "\n",
      " (3, 10)\n"
     ]
    }
   ],
   "source": [
    "A5 = numpy.random.uniform(-5, 5, size=(3,10))\n",
    "numpy.savetxt('A_Lab9_5.txt', A5, fmt='%1.6f')\n",
    "print(A5, '\\n\\n', A5.shape)"
   ]
  },
  {
   "cell_type": "code",
   "execution_count": 4,
   "metadata": {},
   "outputs": [
    {
     "name": "stdout",
     "output_type": "stream",
     "text": [
      "                    Лаб.9\n",
      "==========================================================================================\n",
      "Текстовый файл с элементами матрицы A: A_Lab9_5.txt\n",
      "Текстовый файл с элементами матрицы A и номером столбца N: AN_Lab9_5.txt\n",
      "==========================================================================================\n",
      "Исходная матрица A: \n",
      "\n",
      "[[ 4.656864  4.045335 -3.309444  3.047033 -2.828365 -1.331224 -3.737401\n",
      "  -3.810334 -1.269494  4.769967]\n",
      " [ 1.733384 -1.780206  3.620769 -1.889142  2.212289  3.43418   2.837828\n",
      "   1.702894 -1.895583  3.056253]\n",
      " [ 2.752862 -4.363649 -3.173148  0.331372  3.526669 -4.240443 -3.881763\n",
      "   4.442431  0.300387  1.13224 ]]\n",
      "==========================================================================================\n",
      "Наибольший номер неупорядоченного столбца N (по неубыванию): \n",
      "\n",
      "10\n"
     ]
    }
   ],
   "source": [
    "print(20*' ' + 'Лаб.9\\n' + 90*'=')\n",
    "\n",
    "fin = str(input('Текстовый файл с элементами матрицы A: '))\n",
    "fout = str(input('Текстовый файл с элементами матрицы A и номером столбца N: '))\n",
    "\n",
    "print(90*'=' + '\\n' + 'Исходная матрица A: \\n')\n",
    "A = numpy.loadtxt(fin, dtype='float')\n",
    "print(A)\n",
    "\n",
    "if sum(numpy.sum(A == numpy.sort(A, axis=0), axis=0) < A.shape[0]) != 0:\n",
    "    N = numpy.nonzero(numpy.sum(A == numpy.sort(A, axis=0), axis=0) < A.shape[0])[0][-1] + 1\n",
    "\n",
    "    print(90*'=' + '\\n' + 'Наибольший номер неупорядоченного столбца N (по неубыванию): \\n')\n",
    "    print(N)\n",
    "else:\n",
    "    N = 0\n",
    "    print(90*'=' + '\\n' + 'Все столбцы матрицы сортированы по неубыванию')\n",
    "    \n",
    "with open(fout, 'w') as f:\n",
    "    for i in range(len(A)):\n",
    "        f.write(\"{}\\n\".format(A[i]))\n",
    "    f.write(\"{}\\n\".format(N))"
   ]
  },
  {
   "cell_type": "code",
   "execution_count": 41,
   "metadata": {},
   "outputs": [
    {
     "name": "stdout",
     "output_type": "stream",
     "text": [
      "                    Лаб.9\n",
      "==========================================================================================\n",
      "Текстовый файл с элементами матрицы A: A_Lab9_5.txt\n",
      "Текстовый файл с элементами матрицы A и номером столбца N: AN_Lab9_5.txt\n",
      "==========================================================================================\n",
      "Исходная матрица A: \n",
      "\n",
      "[0.656864, 4.045335, -3.309444, 3.047033, -2.828365, -1.331224, -3.737401, -3.810334, -1.269494, 4.769967]\n",
      "[0.733384, -1.780206, 3.620769, -1.889142, 2.212289, 3.43418, 2.837828, 1.702894, -1.895583, 3.056253]\n",
      "[0.752862, -4.363649, -3.173148, 0.331372, 3.526669, -4.240443, -3.881763, 4.442431, 0.300387, 1.13224]\n",
      "==========================================================================================\n",
      "Наибольший номер неупорядоченного столбца N (по неубыванию): \n",
      "\n",
      "10\n"
     ]
    }
   ],
   "source": [
    "# python only\n",
    "print(20*' ' + 'Лаб.9\\n' + 90*'=')\n",
    "\n",
    "fin = str(input('Текстовый файл с элементами матрицы A: '))\n",
    "fout = str(input('Текстовый файл с элементами матрицы A и номером столбца N: '))\n",
    "\n",
    "print(90*'=' + '\\n' + 'Исходная матрица A: \\n')\n",
    "\n",
    "with open(fin, 'r') as f:\n",
    "    A = f.readlines()\n",
    "A = [x[1:-1].split() for x in A]\n",
    "A = [[float(x) for x in A[i]] for i in range(len(A))]\n",
    "[print(A[i]) for i in range(len(A))]\n",
    "\n",
    "N = 0\n",
    "\n",
    "for j in range(len(A[0])):\n",
    "    for i in range(len(A)-1):\n",
    "        if A[i][j] > A[i+1][j]:\n",
    "            N = j + 1\n",
    "if N == 0:\n",
    "    print(90*'=' + '\\n' + 'Все столбцы матрицы сортированы по неубыванию')\n",
    "    \n",
    "print(90*'=' + '\\n' + 'Наибольший номер неупорядоченного столбца N (по неубыванию): \\n')\n",
    "print(N)    \n",
    "    \n",
    "with open(fout, 'w') as f:\n",
    "    for i in range(len(A)):\n",
    "        f.write(\"{}\\n\".format(A[i]))\n",
    "    f.write(\"{}\\n\".format(N))"
   ]
  },
  {
   "cell_type": "code",
   "execution_count": 42,
   "metadata": {},
   "outputs": [
    {
     "data": {
      "image/png": "[encoded data removed]",
      "text/plain": [
       "<Figure size 720x360 with 1 Axes>"
      ]
     },
     "metadata": {},
     "output_type": "display_data"
    }
   ],
   "source": [
    "pylab.figure(figsize=(10,5))\n",
    "col = ['steelblue', 'darkred']\n",
    "s = numpy.sum(A == numpy.sort(A, axis=0), axis=0) < len(A)\n",
    "for j in range(len(A[0])):\n",
    "    pylab.plot(range(len(A)), [A[i][j] for i in range(len(A))], \n",
    "               '-o', c=col[int(s[j])], \n",
    "               label='j = ' + str(j+1))\n",
    "\n",
    "pylab.suptitle('N = ' + str(N), fontsize=15)\n",
    "pylab.xlabel('i', fontsize=15) \n",
    "pylab.ylabel(r'$A_{ij}$', fontsize=15)\n",
    "pylab.xticks(range(-1, len(A)+1), range(len(A)+2));\n",
    "pylab.legend(title='Столбцы матрицы A', \n",
    "             fontsize=15, shadow=True, \n",
    "             bbox_to_anchor=(1.5,1.0));"
   ]
  },
  {
   "cell_type": "markdown",
   "metadata": {},
   "source": [
    "### 4. Таблица данных \n",
    "\n",
    "| Класс | Имя | Описание (смысл, диапазон, точность) | Тип | Структура | Формат в/в |\n",
    "| :-: | :-: | :-: | :-: | :-: | :-: |\n",
    "| входные данные | fin | название текстового файла с элементами матрицы А | символ | строка | \"+XX.txt\" |\n",
    "| входные данные | fout | название текстового файла с элементами матрицы А | символ | строка | \"+XX.txt\" |\n",
    "| входные данные | A | вводимые из текстового файла числа исходной матрицы | вещ | двумерный массив | +XX (:5:6) |\n",
    "| выходные данные | N | выводимый в текстовый файл наибольший номер неупорядоченного столбца | цел | простая переменная | +XX (:5) |\n",
    "| промежуточные данные | i | индекс текущего элемента, 1≤i≤50 | цел | простая переменная | --- |\n",
    "| промежуточные данные | j | индекс текущего элемента, 1≤j≤50 | цел | простая переменная | --- |\n",
    "| промежуточные данные | m | массив максимальных значений для каждого столбца | вещ | одномерный массив | --- |\n",
    "| промежуточные данные | c | массив для учета количества элементов, нарушающих порядок неубывания | цел | одномерный массив | --- |\n",
    "\n",
    "_! в Delphi выход из цикла с 1 до 20 с шагом +1 происходит при значении 21, из цикла с 20 до 1 – при 0_"
   ]
  },
  {
   "cell_type": "markdown",
   "metadata": {},
   "source": [
    "### 5. Входная форма\n",
    "- обр 1.1 Текстовый файл с элементами матрицы A: $<fin>$       \n",
    "- обр 1.2 Текстовый файл с элементами матрицы A и номером столбца N: $<fout>$\n",
    "- обр 2.1 Исходная матрица A:\n",
    "- обр 2.2 $ < A[11] >  < A[12] >  …  < A[1m] > \\\\ ... \\\\ < A[n1] >  < A[n2] >  …  < A[nm] >$\n",
    "\n",
    "\n",
    "### 6. Выходная форма\n",
    "\n",
    "- обр 3 Лаб. 9\n",
    "- обр 4.1 Текстовый файл с элементами матрицы A: $<fin>$       \n",
    "- обр 4.2 Текстовый файл с элементами матрицы A и номером столбца N:: $<fout>$\n",
    "- обр 5.1 Исходная матрица A:\n",
    "- обр 5.2 $ < A[11] >  < A[12] >  …  < A[1m] > \\\\ ... \\\\ < A[n1] >  < A[n2] >  …  < A[nm] >$\n",
    "- обр 6.1 Наибольший номер неупорядоченного столбца N (по неубыванию): $ < N > $\n",
    "- обр 6.2 Все столбцы матрицы сортированы по неубыванию\n",
    "\n",
    "### 7. Аномалии\n",
    "\n",
    "-"
   ]
  },
  {
   "cell_type": "markdown",
   "metadata": {},
   "source": [
    "### 8. Функциональные тесты\n",
    "\n",
    "| Исходные данные | - | - |Результаты | - | Тест |\n",
    "| :-: | :-: | :-: | :-: | :-: | :-: |\n",
    "| fin | fout | A | N | Сообщение |№ |\n",
    "| A_Lab9_1.txt | AN_Lab9_1.txt | `[[ 84  73 -20 -62 -47] [ 13  40 -96  16 -47] [ 51 -31  66 -43  39] [-94  70 -12 -13 -15]]` | `5` | - | 1 | \n",
    "| - | - | - | - | - | - |\n",
    "| A_Lab9_2.txt | AN_Lab9_2.txt | `[[1 1 0 1 1] [0 0 0 0 0] [1 0 1 0 0]]` | `5` | - | 2 |\n",
    "| - | - | - | - | - | - |\n",
    "| A_Lab9_3.txt | AN_Lab9_3.txt | `[[0 0] [0 2] [2 4]]` | `0` | Все столбцы матрицы сортированы по неубыванию | 3 |\n",
    "| - | - | - | - | - | - |\n",
    "| A_Lab9_4.txt | AN_Lab9_4.txt | `[[-4 -9 -3 -9 -6 -8 -6] [-4 -1 -1 -6 -1 -8 -7] [-8 -8 -8 -1 -8 -2 -6]]` | `7` | - | 4 |\n",
    "| - | - | - | - | - | - |\n",
    "| A_Lab9_5.txt | AN_Lab9_5.txt | `[[ 4.65686407  4.04533509 -3.30944422  3.04703298 -2.82836498 -1.33122366 -3.73740085 -3.81033447 -1.26949406  4.76996665] [ 1.7333839  -1.78020585  3.62076868 -1.8891421   2.21228912  3.43417954 2.83782822  1.70289398 -1.8955828   3.05625326] [ 2.75286188 -4.36364877 -3.17314753  0.3313719   3.52666878 -4.240443 -3.88176302  4.44243148  0.30038683  1.13223991]]` | `10` | - | 5 |"
   ]
  },
  {
   "cell_type": "markdown",
   "metadata": {},
   "source": [
    "| № теста | Входные  данные | - | - | Ожидаемый результат | - | Смысл теста |\n",
    "| :-: | :-: | :-: | :-: | :-: | :-: | :-: |\n",
    "| - | - | - | - | - | - | - |\n",
    "| 1 | fin = 'A_Lab9_1.txt' | fout = 'AN_Lab9_1.txt' |  A = `[[ 84  73 -20 -62 -47] [ 13  40 -96  16 -47] [ 51 -31  66 -43  39] [-94  70 -12 -13 -15]]` | N = `5` | - | Подтвердить правильность расчетов в случае широкого спектра положительных и отрицательных чисел |\n",
    "| - | - | - | - | - | - | - |\n",
    "| 2 | fin = 'A_Lab9_2.txt' | fout = 'AN_Lab9_2.txt' |  A = `[[1 1 0 1 1] [0 0 0 0 0] [1 0 1 0 0]]` | N = `5` | - | Протестировать простейший бинарный случай |\n",
    "| - | - | - | - | - | - | - |\n",
    "| 3 | fin = 'A_Lab9_3.txt' | fout = 'AN_Lab9_3.txt' |  A = `[[0 0] [0 2] [2 4]]` | N = `0` | Все столбцы матрицы сортированы по неубыванию | Протестировать массив в узком диапазоне неотрицательных чисел |\n",
    "| - | - | - | - | - | - | - |\n",
    "| 4 | fin = 'A_Lab9_4.txt' | fout = 'AN_Lab9_4.txt' |  A = `[[-4 -9 -3 -9 -6 -8 -6] [-4 -1 -1 -6 -1 -8 -7] [-8 -8 -8 -1 -8 -2 -6]]` | N = `7` | - | Протестировать массив в узком диапазоне положительных и отрицательных чисел |\n",
    "| - | - | - | - | - | - | - |\n",
    "| 5 | fin = 'A_Lab9_5.txt' | fout = 'AN_Lab9_5.txt' |  A = `[[ 4.65686407  4.04533509 -3.30944422  3.04703298 -2.82836498 -1.33122366 -3.73740085 -3.81033447 -1.26949406  4.76996665] [ 1.7333839  -1.78020585  3.62076868 -1.8891421   2.21228912  3.43417954 2.83782822  1.70289398 -1.8955828   3.05625326] [ 2.75286188 -4.36364877 -3.17314753  0.3313719   3.52666878 -4.240443 -3.88176302  4.44243148  0.30038683  1.13223991]]` | N = `10` | - | Подтвердить правильность расчетов в случае действительных чисел |"
   ]
  },
  {
   "cell_type": "markdown",
   "metadata": {},
   "source": [
    "| - | Результаты | № теста |\n",
    "| :-: | :-: | :-: |\n",
    "| - | - | - |\n",
    "| N | Максимальная вычислительная нагрузка = 15 сравнений | 1 |\n",
    "| - | Соответствует ожидаемым числовым значениям | - |\n",
    "| N | Максимальная вычислительная нагрузка = 10 сравнений | 2 |\n",
    "| - | Соответствует ожидаемым числовым значениям, легко подтверждается визуально | - |\n",
    "| N | Максимальная вычислительная нагрузка = 3 сравнения  | 3 |\n",
    "| - | Нет неупорядоченных столбцов | - |\n",
    "| N | Максимальная вычислительная нагрузка = 14 сравнений | 4 |\n",
    "| - | Соответствует ожидаемым числовым значениям | - |\n",
    "| N | Максимальная вычислительная нагрузка = 20 сравнений | 5 |\n",
    "| - | Соответствует ожидаемым числовым значениям | - |\n",
    "| - | - | - |\n",
    "| Сообщение | - | 1 |\n",
    "| Сообщение | - | 2 |\n",
    "| Сообщение | Все столбцы матрицы сортированы по неубыванию | 3 |\n",
    "| Сообщение | - | 4 |\n",
    "| Сообщение | - | 5 |"
   ]
  },
  {
   "cell_type": "markdown",
   "metadata": {},
   "source": [
    "### 9. Метод\n",
    "Отделим ввод-вывод от обработки данных и разделим задачу на три подзадачи:\n",
    "\n",
    "1. _Подзадача А 0.1._ \n",
    "\n",
    "   Запросить названия текстовых файлов ввода-вывода, \n",
    "   \n",
    "   считать из текстового файла ввода исходные данные (обр.1-2), \n",
    "   \n",
    "   затем вывести их на экран (обр.3-5) для визуального подтверждения.\n",
    "\n",
    "2. _Подзадача А 0.2._ \n",
    "\n",
    "   Решение поставленной задачи: \n",
    "\n",
    "   на основе введенных исходных данных (матрицы `A`) определить \n",
    "   \n",
    "   номер последнего неупорядоченного по неубыванию столбца.\n",
    "    \n",
    "3. _Подзадача А 0.3._ \n",
    "\n",
    "   Ввести полученные результаты (`N`) на экран (обр.6.1, 6.2) и \n",
    "   \n",
    "   записать в файл вывода исходный массив и полученный результат.\n",
    "   \n",
    "---\n",
    "\n",
    "Ввод-вывод тривиален и представляет собой чисто техническую задачу. \n",
    "\n",
    "Для осуществления процесса ввода-вывода и обработки массива потребуются промежуточные переменные: \n",
    "\n",
    "- `i` – индекс текущей строки матрицы, \n",
    "\n",
    "- `j` – индекс текущего столбца матрицы,\n",
    "\n",
    "- `m` - массив максимальный значений для каждого столбца,\n",
    "\n",
    "- `c` - массив для учета количества элементов, нарушающих порядок неубывания\n",
    "\n",
    "Их следует добавить в таблицу данных. \n",
    "\n",
    "Алгоритм необходим только для обработка входных данных и расчета результата. "
   ]
  },
  {
   "cell_type": "markdown",
   "metadata": {},
   "source": [
    "### 10. Алгоритм\n",
    "\n",
    "[Sample diagrams](http://blockdiag.com/en/blockdiag/examples.html#sample-diagrams)"
   ]
  },
  {
   "cell_type": "code",
   "execution_count": 16,
   "metadata": {},
   "outputs": [
    {
     "name": "stdout",
     "output_type": "stream",
     "text": [
      "Overwriting block_diagram\n"
     ]
    }
   ],
   "source": [
    "%%file block_diagram\n",
    "\n",
    "blockdiag {\n",
    "    orientation = portrait;\n",
    "    class start_end [shape = ellipse, fontsize = 15, color = lightskyblue];\n",
    "    class input_out [shape = flowchart.input, fontsize = 15, width = 700, color = lightcyan];\n",
    "    class main_box [shape = box, width = 600, height = 150, fontsize = 18];\n",
    "    \n",
    "    Начало -> \n",
    "    \"Вывод заголовка по обр.3 на экран\" -> \n",
    "    \"Ввод имени файла по обр.1.1\" -> \"Ввод имени файла по обр.1.2\" ->\n",
    "    \"Вывод пояснения по обр.2.1\" -> \"Ввод А из файла по обр.2.2\" ->\n",
    "    \"Вывод имени файла по обр.4.1 на экран\" -> \"Вывод имени файла по обр.4.2 на экран\" ->\n",
    "    \"Вывод пояснения по обр.5.1 на экран\" -> \"Вывод А на экран и в файл по обр.5.2\" ->\n",
    "    \"Определение наибольшего номера\\n неупорядоченного по неубыванию\\n столбца N\" ->\n",
    "    \"Вывод N или сообщения на экран и в файл по обр.6.1,6.2\" ->\n",
    "    Конец;\n",
    "\n",
    "    Начало, Конец [class = \"start_end\"];\n",
    "    \"Ввод имени файла по обр.1.1\", \"Ввод имени файла по обр.1.2\" [class = \"input_out\"];\n",
    "    \"Вывод пояснения по обр.2.1\", \"Ввод А из файла по обр.2.2\" [class = \"input_out\"];\n",
    "    \"Вывод имени файла по обр.4.1 на экран\", \"Вывод имени файла по обр.4.2 на экран\" [class = \"input_out\"];\n",
    "    \"Вывод пояснения по обр.5.1 на экран\", \"Вывод А на экран и в файл по обр.5.2\" [class = \"input_out\"]; \n",
    "    \"Вывод заголовка по обр.3 на экран\", \"Вывод N или сообщения на экран и в файл по обр.6.1,6.2\" [class = \"input_out\"];\n",
    "    \"Определение наибольшего номера\\n неупорядоченного по неубыванию\\n столбца N\" [class = \"main_box\"];\n",
    "    \n",
    "    \"Вывод А на экран и в файл по обр.5.2\" -> \n",
    "    \"Определение наибольшего номера\\n неупорядоченного по неубыванию\\n столбца N\" [label = 'Вх. А', fontsize = 18];\n",
    "    \"Определение наибольшего номера\\n неупорядоченного по неубыванию\\n столбца N\" ->\n",
    "    \"Вывод N или сообщения на экран и в файл по обр.6.1,6.2\" [label = 'Вых. N', fontsize = 18];\n",
    "}"
   ]
  },
  {
   "cell_type": "code",
   "execution_count": 17,
   "metadata": {},
   "outputs": [],
   "source": [
    "!blockdiag block_diagram"
   ]
  },
  {
   "cell_type": "code",
   "execution_count": 18,
   "metadata": {},
   "outputs": [
    {
     "data": {
      "image/png": "[encoded data removed]",
      "text/plain": [
       "<IPython.core.display.Image object>"
      ]
     },
     "execution_count": 18,
     "metadata": {},
     "output_type": "execute_result"
    }
   ],
   "source": [
    "Image(\"block_diagram.png\")"
   ]
  },
  {
   "cell_type": "markdown",
   "metadata": {},
   "source": [
    "### 11. Программа на <i>Delphi</i>. \n",
    "\n",
    "__Диалоговый вариант {ввод названий файлов и данных из текстового файла, вывод на экран и в текстовый файл}__\n",
    "\n",
    "Синтаксис:\n",
    "\n",
    "[Pascal Tutorial](https://www.tutorialspoint.com/pascal/index.htm)"
   ]
  },
  {
   "cell_type": "code",
   "execution_count": null,
   "metadata": {},
   "outputs": [],
   "source": [
    "program Lab9; //сохранить как lab9.dpr (DPR – Delphi PRoject)  \n",
    "{$APPTYPE CONSOLE}\n",
    "Uses Windows; // \n",
    "\n",
    "    var\n",
    "        i, j, N: integer;\n",
    "        fin, fout: string;\n",
    "        tfin, tfout: TextFile;\n",
    "        A: array [0..1000, 0..1000] of real;\n",
    "\n",
    "    begin\n",
    "        setConsoleCP(1251); // \n",
    "        setConsoleOutputCP(1251); // \n",
    "\n",
    "        {A0.1, A0.3 - ввод-вывод входных данных}\n",
    "        writeln('Лаб.9' :40); {вывод заголовка c переходом на следующую строку по обр.3}\n",
    "        \n",
    "        {ввод-вывод строковой переменной - имени файла с входными данными по обр.1.1, 4.1}\n",
    "        writeln('Текстовый файл с элементами матрицы A: '); \n",
    "        readln(fin);\n",
    "        writeln(fin);\n",
    "\n",
    "        {ввод-вывод строковой переменной - имени файла с выходными данными по обр.1.2, 4.2}\n",
    "        writeln('Текстовый файл с элементами матрицы A и номером столбца N: '); \n",
    "        readln(fout); \n",
    "        writeln(fout);\n",
    "        \n",
    "        {ввод-вывод исходного массивa A по обр.2.1, 2.2, 5.1, 5.2}\n",
    "        writeln('Исходная матрица A: '); {вывод пояснения с переходом на следующую строку}\n",
    "        \n",
    "        AssignFile(tfin, fin); reset(tfin); {открыть файл для чтения} \n",
    "        AssignFile(tfout, fout); rewrite(tfout); {открыть файл для записи}\n",
    "            \n",
    "        i :=1;\n",
    "        while not eof(tfin) do\n",
    "        begin\n",
    "            j := 1;\n",
    "            while not eof(tfin) do\n",
    "            begin\n",
    "                read(tfin, A[i,j]);\n",
    "                write(A[i,j], ' '); {вывод элемента на экран}\n",
    "                write(tfout, A[i,j]:5:6); {вывод элемента в файл}\n",
    "                j := j + 1;\n",
    "            end;\n",
    "            readln; writeln;\n",
    "            writeln(tfout);\n",
    "            i := i + 1;\n",
    "        end;\n",
    "            \n",
    "        CloseFile(tfin); {закрыть файл для чтения} \n",
    "   \n",
    "        for i:=1 to 80 do \n",
    "            write('='); {отделим визуально чертой и строкой введенные и выводимые значения}\n",
    "        writeln;\n",
    "        \n",
    "        N := 5; {заглушка для теста 1, 2}             \n",
    "        // N := 0; writeln('Все столбцы матрицы сортированы по неубыванию'); {заглушка для теста 3}\n",
    "        // N := 7; {заглушка для теста 4}\n",
    "        // N := 10; {заглушка для теста 5}    \n",
    "                    \n",
    "        writeln('Наибольший номер неупорядоченного столбца по неубыванию N:', N:2);\n",
    "        {вывод переменной и переход на следующую строку на экране по обр.6.1,6.2}             \n",
    "        writeln(tfout, N:2); \n",
    "        {вывод переменной и переход на следующую строку в файле по обр.6.1,6.2}\n",
    "        \n",
    "        CloseFile(tfout); {закрыть файл для записи}\n",
    "        \n",
    "    end."
   ]
  },
  {
   "cell_type": "markdown",
   "metadata": {},
   "source": [
    "## Раскрытие абстракции А0.2\n",
    "_Поскольку условие всей задачи совпадает (за исключением необходимости ввода-вывода) с условием выделенной подзадачи,_\n",
    "\n",
    "_вместо полной спецификации с пунктами 1-11 выполнено просто дополнение к пунктам 9-11._\n",
    "\n",
    "### 9. Метод\n",
    "Пусть\n",
    "\n",
    "- $i$ – номер текущей строки,\n",
    "\n",
    "- $j$ – номер текущего столбца,\n",
    "\n",
    "- $A[i][j]$ – соответствующий элемент исходной матрицы A,\n",
    "\n",
    "- $N$ - наибольший номер неупорядоченного по неубыванию столбца.\n",
    "  \n",
    "В циклах по каждой $i$-ой строке по каждому $j$-му столбцу выполняются следующие действия:\n",
    "\n",
    "- проверяется выполнение условия: $\\exists i: 0<i<n+1 \\land A_{ij} > A_{i+1j}$;\n",
    "\n",
    "- если выражение верно хотя бы для одного $i$, то \n",
    "\n",
    "  - столбец $j$ не упорядочен по неубыванию и \n",
    "  \n",
    "  - значение номера $N$ необходимо обновить. "
   ]
  },
  {
   "cell_type": "markdown",
   "metadata": {},
   "source": [
    "### 10. Алгоритм"
   ]
  },
  {
   "cell_type": "code",
   "execution_count": 47,
   "metadata": {},
   "outputs": [
    {
     "name": "stdout",
     "output_type": "stream",
     "text": [
      "Overwriting block_diagram2\n"
     ]
    }
   ],
   "source": [
    "%%file block_diagram2\n",
    "\n",
    "blockdiag {\n",
    "    orientation = portrait;\n",
    "    \n",
    "    class yes [thick, label = \"Да\", color = blue, textcolor = blue];\n",
    "    class no [thick, label = \"Нет\", color = red, textcolor = red];\n",
    "    class start_end [shape = ellipse, fontsize = 18, color = lightskyblue];\n",
    "    class input_out [shape = flowchart.input, fontsize = 18, \n",
    "                     width = 400, color = lightcyan];\n",
    "    class loop_in [shape = flowchart.loopin, fontsize = 18, \n",
    "                   width = 200, color = lightsteelblue];\n",
    "    class loop_out [shape = flowchart.loopout, fontsize = 18, \n",
    "                    width = 200, color = lightsteelblue];\n",
    "    class condition [shape = flowchart.condition, fontsize = 18, \n",
    "                     width = 250, height = 100, color = lightsteelblue];\n",
    "    class command_box [shape = roundedbox, fontsize = 18, width = 300];\n",
    "    \n",
    "    Начало -> \"N := 0\" -> \"i := 1; +1; n\" -> \n",
    "    \"j := 1; +1; n\" -> \"i = 1\" -> \"m[j] := A[1,j]; c[j] := 0\" -> \"j = n\";\n",
    "    \"i = 1\" -> \"A[i,j] >= m[j]\" -> \"m[j] := A[i,j]\" -> \"c[j] > 0\" ->\n",
    "    \"j = n\" -> \"i = n\" -> Конец; \n",
    "    \"A[i,j] >= m[j]\" -> \"c[j] := c[j] + 1\" -> \n",
    "    \"c[j] > 0\" -> \"N := j\" -> \"j = n\";\n",
    "    \n",
    "    Начало, Конец [class = \"start_end\"];\n",
    "    \"i := 1; +1; n\", \"j := 1; +1; n\" [class = \"loop_in\"];\n",
    "    \"i = n\", \"j = n\" [class = \"loop_out\"];\n",
    "    \"i = 1\", \"A[i,j] >= m[j]\", \"c[j] > 0\" [class = \"condition\"];\n",
    "    \"m[j] := A[1,j]; c[j] := 0\", \"m[j] := A[i,j]\" [class = \"command_box\"];\n",
    "    \"N := 0\", \"c[j] := c[j] + 1\", \"N := j\" [class = \"command_box\"];\n",
    "    \n",
    "    \"i = 1\" -> \"m[j] := A[1,j]; c[j] := 0\"  [class = 'yes'];\n",
    "    \"i = 1\" -> \"A[i,j] >= m[j]\" [class = 'no'];\n",
    "    \"A[i,j] >= m[j]\" -> \"m[j] := A[i,j]\"  [class = 'yes'];\n",
    "    \"A[i,j] >= m[j]\" -> \"c[j] := c[j] + 1\" [class = 'no'];\n",
    "    \"c[j] > 0\" -> \"N := j\" [class = 'yes'];\n",
    "    \"c[j] > 0\" -> \"j = n\" [class = 'no'];\n",
    "}"
   ]
  },
  {
   "cell_type": "code",
   "execution_count": 48,
   "metadata": {},
   "outputs": [],
   "source": [
    "!blockdiag block_diagram2"
   ]
  },
  {
   "cell_type": "code",
   "execution_count": 49,
   "metadata": {},
   "outputs": [
    {
     "data": {
      "image/png": "[encoded data removed]",
      "text/plain": [
       "<IPython.core.display.Image object>"
      ]
     },
     "execution_count": 49,
     "metadata": {},
     "output_type": "execute_result"
    }
   ],
   "source": [
    "Image(\"block_diagram2.png\")"
   ]
  },
  {
   "cell_type": "markdown",
   "metadata": {},
   "source": [
    "### 11. Программа на <i>Delphi</i>.\n",
    "#### Программный код раскрытия абстракции."
   ]
  },
  {
   "cell_type": "code",
   "execution_count": null,
   "metadata": {},
   "outputs": [],
   "source": [
    "i := 1; N := 0;\n",
    "            \n",
    "while not eof(tfin) do\n",
    "begin\n",
    "    j := 1; \n",
    "    while not eof(tfin) do\n",
    "    begin\n",
    "        read(tfin, A[i,j]);\n",
    "        write(A[i,j]:5:6, ' ');\n",
    "        write(tfout, A[i,j]:5:6);\n",
    "        \n",
    "        if i = 1 then \n",
    "        begin\n",
    "            m[j] := A[1,j];\n",
    "            c[j] := 0;\n",
    "        end\n",
    "        else \n",
    "            if A[i,j] >= m[j] then\n",
    "                m[j] := A[i,j]\n",
    "            else c[j] := c[j] + 1; \n",
    "                \n",
    "        if c[j] > 0 then N := j;\n",
    "        j := j + 1;\n",
    "        end;\n",
    "        \n",
    "    readln; writeln; writeln(tfout);\n",
    "    i := i + 1;\n",
    "end;"
   ]
  },
  {
   "cell_type": "markdown",
   "metadata": {},
   "source": [
    "#### Вариант программы для чтения и записи текстовых файлов."
   ]
  },
  {
   "cell_type": "code",
   "execution_count": null,
   "metadata": {},
   "outputs": [],
   "source": [
    "program Lab9; //сохранить как lab9.dpr (DPR – Delphi PRoject)  \n",
    "{$APPTYPE CONSOLE}\n",
    "Uses Windows; // для русификации \n",
    "\n",
    "    var\n",
    "    i, j: integer;\n",
    "    N: integer;\n",
    "    fin, fout: string;\n",
    "    tfin, tfout: TextFile;    \n",
    "    A: array [0..1000, 0..1000] of real;    \n",
    "    m: array [0..1000] of real; \n",
    "    c: array [0..1000] of integer; \n",
    "            \n",
    "    begin\n",
    "        setConsoleCP(1251); // для ввода  русификация и \n",
    "        setConsoleOutputCP(1251); // для вывода \n",
    "\n",
    "        {A0.1, A0.3 - ввод-вывод входных данных}\n",
    "        writeln('Лаб.9' :40); {вывод заголовка c переходом на следующую строку по обр.3}\n",
    "        writeln;\n",
    "        \n",
    "        {ввод-вывод строковой переменной - имени файла с входными данными по обр.1.1, 4.1}\n",
    "        writeln('Текстовый файл с элементами матрицы A: '); \n",
    "        readln(fin);\n",
    "        writeln(fin);\n",
    "\n",
    "        {ввод-вывод строковой переменной - имени файла с выходными данными по обр.1.2, 4.2}\n",
    "        writeln('Текстовый файл с элементами матрицы A и номером столбца N: '); \n",
    "        readln(fout); \n",
    "        writeln(fout);\n",
    "        \n",
    "        AssignFile(tfin, fin); reset(tfin); {открыть файл для чтения} \n",
    "        AssignFile(tfout, fout); rewrite(tfout); {открыть файл для записи}\n",
    "    \n",
    "        writeln;\n",
    "        {ввод-вывод исходной матрицы A по обр.2.1, 2.2, 5.1, 5.2}    \n",
    "        writeln('Исходная матрица A: '); \n",
    "        {вывод пояснения с переходом на следующую строку}\n",
    "            \n",
    "        i := 1; N := 0;\n",
    "            \n",
    "        while not eof(tfin) do\n",
    "        begin\n",
    "            j := 1; \n",
    "            while not eof(tfin) do\n",
    "            begin\n",
    "                read(tfin, A[i,j]);\n",
    "                write(A[i,j]:5:6, ' ');\n",
    "                write(tfout, A[i,j]:5:6);\n",
    "            \n",
    "                if i = 1 then \n",
    "                begin\n",
    "                    m[j] := A[1,j];\n",
    "                    c[j] := 0;\n",
    "                end\n",
    "                else \n",
    "                    if A[i,j] >= m[j] then\n",
    "                        m[j] := A[i,j]\n",
    "                    else c[j] := c[j] + 1; \n",
    "                \n",
    "                if c[j] > 0 then N := j;\n",
    "                j := j + 1;\n",
    "            end;\n",
    "        \n",
    "            readln; writeln; writeln(tfout);                \n",
    "            i := i + 1;\n",
    "        end;\n",
    "\n",
    "        writeln; writeln(tfout);\n",
    "    \n",
    "        {вывод пояснения с переходом на следующую строку}\n",
    "        if N = 0 then writeln('Все столбцы матрицы сортированы по неубыванию');            \n",
    "        writeln('Наибольший номер неупорядоченного столбца по неубыванию N:', N:2);\n",
    "        {вывод переменной и переход на следующую строку на экране по обр.6.1,6.2}             \n",
    "        writeln(tfout, N:2); \n",
    "        {вывод переменной и переход на следующую строку в файле по обр.6.1,6.2}\n",
    "    end."
   ]
  },
  {
   "cell_type": "markdown",
   "metadata": {},
   "source": [
    "#### Вариант программы с именами файлов, заданными в качестве параметров."
   ]
  },
  {
   "cell_type": "code",
   "execution_count": null,
   "metadata": {},
   "outputs": [],
   "source": [
    "program Lab9; //сохранить как lab9.dpr (DPR – Delphi PRoject)  \n",
    "{$APPTYPE CONSOLE}\n",
    "Uses Windows; // для русификации \n",
    "\n",
    "    var\n",
    "    i, j: integer;\n",
    "    N: integer;\n",
    "    A: array [0..1000, 0..1000] of real;    \n",
    "    m: array [0..1000] of real; \n",
    "    c: array [0..1000] of integer; \n",
    "            \n",
    "    begin\n",
    "        setConsoleCP(1251); // для ввода  русификация и \n",
    "        setConsoleOutputCP(1251); // для вывода \n",
    "\n",
    "        {A0.1, A0.3 - ввод-вывод входных данных}\n",
    "        writeln('Лаб.9' :40); {вывод заголовка c переходом на следующую строку по обр.3}\n",
    "        writeln;\n",
    "        \n",
    "        if (ParamCount<2) then \n",
    "        begin \n",
    "        writeln('CritError: Не заданы параметры программы’);\n",
    "        readln: exit;\n",
    "        end;\n",
    "        \n",
    "        AssignFile(tfin, ParamStr(1)); reset(tfin); {открыть файл для чтения} \n",
    "        AssignFile(tfout, ParamStr(2)); rewrite(tfout); {открыть файл для записи}\n",
    "    \n",
    "        writeln;\n",
    "        {ввод-вывод исходной матрицы A по обр.2.1, 2.2, 5.1, 5.2}    \n",
    "        writeln('Исходная матрица A: '); \n",
    "        {вывод пояснения с переходом на следующую строку}\n",
    "            \n",
    "        i := 1; N := 0;\n",
    "            \n",
    "        while not eof(tfin) do\n",
    "        begin\n",
    "            j := 1; \n",
    "            while not eof(tfin) do\n",
    "            begin\n",
    "                read(tfin, A[i,j]);\n",
    "                write(A[i,j]:5:6, ' ');\n",
    "                write(tfout, A[i,j]:5:6);\n",
    "            \n",
    "                if i = 1 then \n",
    "                begin\n",
    "                    m[j] := A[1,j];\n",
    "                    c[j] := 0;\n",
    "                end\n",
    "                else \n",
    "                    if A[i,j] >= m[j] then\n",
    "                        m[j] := A[i,j]\n",
    "                    else c[j] := c[j] + 1; \n",
    "                \n",
    "                if c[j] > 0 then N := j;\n",
    "                j := j + 1;\n",
    "            end;\n",
    "        \n",
    "            readln; writeln; writeln(tfout);                \n",
    "            i := i + 1;\n",
    "        end;\n",
    "\n",
    "        writeln; writeln(tfout);\n",
    "                \n",
    "        {вывод пояснения с переходом на следующую строку}\n",
    "        if N = 0 then writeln('Все столбцы матрицы сортированы по неубыванию');            \n",
    "        writeln('Наибольший номер неупорядоченного столбца по неубыванию N:', N:2);\n",
    "        {вывод переменной и переход на следующую строку на экране по обр.6.1,6.2}             \n",
    "        writeln(tfout, N:2); \n",
    "        {вывод переменной и переход на следующую строку в файле по обр.6.1,6.2}          \n",
    "    \n",
    "    end."
   ]
  },
  {
   "cell_type": "markdown",
   "metadata": {},
   "source": [
    "#### Вариант программы для онлайн-компилятора.\n",
    "[Compile and Execute Pascal Online](http://www.compileonline.com/compile_pascal_online.php)"
   ]
  },
  {
   "cell_type": "code",
   "execution_count": null,
   "metadata": {},
   "outputs": [],
   "source": [
    "// main.pas\n",
    "Program Lab9;\n",
    "\n",
    "var\n",
    "    i, j: integer;\n",
    "    N: integer;\n",
    "    A: array [0..1000, 0..1000] of real;    \n",
    "    m: array [0..1000] of real; \n",
    "    c: array [0..1000] of integer;\n",
    "        \n",
    "begin\n",
    "\n",
    "    {A0.1, A0.3 - ввод-вывод входных данных}\n",
    "    writeln('Лаб.9' :40); {вывод заголовка c переходом на следующую строку по обр.3}\n",
    "    \n",
    "    writeln;\n",
    "    {ввод-вывод исходной матрицы A по обр.2.1, 2.2, 5.1, 5.2}    \n",
    "    writeln('Исходная матрица A: '); \n",
    "    {вывод пояснения с переходом на следующую строку}\n",
    "            \n",
    "    i := 1; N := 0;\n",
    "            \n",
    "    while not eoln do\n",
    "    begin\n",
    "        j := 1; \n",
    "        while not eoln do\n",
    "        begin\n",
    "            read(A[i,j]);\n",
    "            write(A[i,j]:5:6, ' ');\n",
    "            \n",
    "            if i = 1 then \n",
    "            begin\n",
    "                m[j] := A[1,j];\n",
    "                c[j] := 0;\n",
    "            end\n",
    "            else \n",
    "                if A[i,j] >= m[j] then\n",
    "                    m[j] := A[i,j]\n",
    "                else c[j] := c[j] + 1; \n",
    "                \n",
    "            if c[j] > 0 then N := j;\n",
    "            j := j + 1;\n",
    "        end;\n",
    "        \n",
    "        readln; writeln;\n",
    "        i := i + 1;\n",
    "    end;\n",
    "\n",
    "    writeln;\n",
    "    \n",
    "    {вывод пояснения с переходом на следующую строку}\n",
    "    if N = 0 then writeln('Все столбцы матрицы сортированы по неубыванию');            \n",
    "    writeln('Наибольший номер неупорядоченного столбца по неубыванию N:', N:2);\n",
    "    {вывод переменной и переход на следующую строку на экране по обр.6.1,6.2}             \n",
    "    \n",
    "end."
   ]
  },
  {
   "cell_type": "code",
   "execution_count": null,
   "metadata": {},
   "outputs": [],
   "source": [
    "// STDIN\n",
    "-4 -9 -3 -9 -6 -8 -6\n",
    "-4 -1 -1 -6 -1 -8 -7\n",
    "-8 -8 -8 -1 -8 -2 -6\n"
   ]
  }
 ],
 "metadata": {
  "kernelspec": {
   "display_name": "Python 3",
   "language": "python",
   "name": "python3"
  },
  "language_info": {
   "codemirror_mode": {
    "name": "ipython",
    "version": 3
   },
   "file_extension": ".py",
   "mimetype": "text/x-python",
   "name": "python",
   "nbconvert_exporter": "python",
   "pygments_lexer": "ipython3",
   "version": "3.6.4"
  }
 },
 "nbformat": 4,
 "nbformat_minor": 2
}
