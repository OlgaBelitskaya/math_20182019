{
 "cells": [
  {
   "cell_type": "markdown",
   "metadata": {},
   "source": [
    "# Спецификация к Лабораторной работе №9 \n",
    "\n",
    "# Поиск строки или столбца матрицы по условию. \n",
    "# Обработка исключений.\n",
    "\n",
    "# (Вариант 22)\n",
    "\n",
    "## Абстракция А0\n",
    "### 1. Постановка задачи.\n",
    "#### Задание: \n",
    "Написать программу обработки матрицы в соответствии с условием. \n",
    "\n",
    "#### Условие: \n",
    "Проанализировать матрицу. \n",
    "\n",
    "Проверить, все ли столбцы матрицы упорядочены по неубыванию.\n",
    "\n",
    "Если не все, сообщить номер последнего неупорядоченного."
   ]
  },
  {
   "cell_type": "markdown",
   "metadata": {},
   "source": [
    "### 2. Уточненная постановка задачи.\n",
    "Дана матрица $A$, состоящая из n строк и m столбцов. \n",
    "\n",
    "Проанализировать столбцы с номерами $i \\in \\{1, ..., m\\}$,\n",
    "\n",
    "выполняется ли условие $A_{1i} \\leq A_{2i} \\leq  ... \\leq A_{ni} (*)$\n",
    "\n",
    "Если не для всех, сообщить наибольший номер $N$ столбца, \n",
    "\n",
    "для которого $(*)$ не выполняется."
   ]
  },
  {
   "cell_type": "markdown",
   "metadata": {},
   "source": [
    "### 3. Пример с иллюстрацией."
   ]
  },
  {
   "cell_type": "code",
   "execution_count": 1,
   "metadata": {},
   "outputs": [],
   "source": [
    "import numpy\n",
    "import pylab \n",
    "%matplotlib inline\n",
    "pylab.style.use('seaborn-whitegrid')"
   ]
  },
  {
   "cell_type": "code",
   "execution_count": 57,
   "metadata": {},
   "outputs": [
    {
     "name": "stdout",
     "output_type": "stream",
     "text": [
      "[[ 96 -88  31 -33  95]\n",
      " [ 24 -36  73  23 -92]\n",
      " [ 24 -32  33 -77  42]\n",
      " [ 18 -38  63  42  15]]\n"
     ]
    }
   ],
   "source": [
    "A1 = numpy.random.randint(-100, 100, size=(4,5))\n",
    "numpy.savetxt('A_Lab9_1.txt', A1, fmt='%5.0f')\n",
    "print(A1)"
   ]
  },
  {
   "cell_type": "code",
   "execution_count": 58,
   "metadata": {},
   "outputs": [
    {
     "name": "stdout",
     "output_type": "stream",
     "text": [
      "[[1 0 0 1 1]\n",
      " [0 0 1 1 0]\n",
      " [0 0 0 0 0]] \n",
      "\n",
      " (3, 5)\n"
     ]
    }
   ],
   "source": [
    "A2 = numpy.random.randint(0, 2, size=(3,5))\n",
    "numpy.savetxt('A_Lab9_2.txt', A2, fmt='%5.0f')\n",
    "print(A2, '\\n\\n', A2.shape)"
   ]
  },
  {
   "cell_type": "code",
   "execution_count": 59,
   "metadata": {},
   "outputs": [
    {
     "data": {
      "text/plain": [
       "array([[False,  True,  True, False, False],\n",
       "       [ True,  True, False,  True,  True],\n",
       "       [False,  True, False, False, False]])"
      ]
     },
     "execution_count": 59,
     "metadata": {},
     "output_type": "execute_result"
    }
   ],
   "source": [
    "A2 == numpy.sort(A2, axis=0)"
   ]
  },
  {
   "cell_type": "code",
   "execution_count": 60,
   "metadata": {},
   "outputs": [
    {
     "data": {
      "text/plain": [
       "array([1, 3, 1, 1, 1])"
      ]
     },
     "execution_count": 60,
     "metadata": {},
     "output_type": "execute_result"
    }
   ],
   "source": [
    "numpy.sum(A2 == numpy.sort(A2, axis=0), axis=0)"
   ]
  },
  {
   "cell_type": "code",
   "execution_count": 61,
   "metadata": {},
   "outputs": [
    {
     "data": {
      "text/plain": [
       "array([ True, False,  True,  True,  True])"
      ]
     },
     "execution_count": 61,
     "metadata": {},
     "output_type": "execute_result"
    }
   ],
   "source": [
    "numpy.sum(A2 == numpy.sort(A2, axis=0), axis=0) < A2.shape[0]"
   ]
  },
  {
   "cell_type": "code",
   "execution_count": 62,
   "metadata": {},
   "outputs": [
    {
     "data": {
      "text/plain": [
       "True"
      ]
     },
     "execution_count": 62,
     "metadata": {},
     "output_type": "execute_result"
    }
   ],
   "source": [
    "sum(numpy.sum(A2 == numpy.sort(A2, axis=0), axis=0) < A2.shape[0]) != 0 "
   ]
  },
  {
   "cell_type": "code",
   "execution_count": 63,
   "metadata": {},
   "outputs": [
    {
     "data": {
      "text/plain": [
       "5"
      ]
     },
     "execution_count": 63,
     "metadata": {},
     "output_type": "execute_result"
    }
   ],
   "source": [
    "numpy.nonzero(numpy.sum(A2 == numpy.sort(A2, axis=0), axis=0) < A2.shape[0])[0][-1] + 1"
   ]
  },
  {
   "cell_type": "code",
   "execution_count": 64,
   "metadata": {},
   "outputs": [
    {
     "name": "stdout",
     "output_type": "stream",
     "text": [
      "[[4 0 2 2 3]\n",
      " [0 3 1 3 4]\n",
      " [0 2 1 4 3]] \n",
      "\n",
      " (3, 5)\n"
     ]
    }
   ],
   "source": [
    "A3 = numpy.random.randint(0, 5, size=(3,5))\n",
    "numpy.savetxt('A_Lab9_3.txt', A3, fmt='%5.0f')\n",
    "print(A3, '\\n\\n', A3.shape)"
   ]
  },
  {
   "cell_type": "code",
   "execution_count": 65,
   "metadata": {},
   "outputs": [
    {
     "name": "stdout",
     "output_type": "stream",
     "text": [
      "                    Лаб.9\n",
      "==========================================================================================\n",
      "==========================================================================================\n",
      "Исходная матрица A: \n",
      "\n",
      "[[ 96 -88  31 -33  95]\n",
      " [ 24 -36  73  23 -92]\n",
      " [ 24 -32  33 -77  42]\n",
      " [ 18 -38  63  42  15]]\n",
      "==========================================================================================\n",
      "Наибольший номер неупорядоченного столбца N (по неубыванию): \n",
      "\n",
      "5\n"
     ]
    }
   ],
   "source": [
    "print(20*' ' + 'Лаб.9\\n' + 90*'=')\n",
    "\n",
    "# fin = str(input('Текстовый файл с элементами матрицы A: '))\n",
    "# fout = str(input('Текстовый файл с элементами матрицы A и номером столбца N: '))\n",
    "\n",
    "print(90*'=' + '\\n' + 'Исходная матрица A: \\n')\n",
    "A = numpy.loadtxt('A_Lab9_1.txt', dtype='int')\n",
    "print(A)\n",
    "\n",
    "if sum(numpy.sum(A == numpy.sort(A, axis=0), axis=0) < A.shape[0]) != 0:\n",
    "    N = numpy.nonzero(numpy.sum(A == numpy.sort(A, axis=0), axis=0) < A.shape[0])[0][-1] + 1\n",
    "\n",
    "    print(90*'=' + '\\n' + 'Наибольший номер неупорядоченного столбца N (по неубыванию): \\n')\n",
    "    print(N)\n",
    "else:\n",
    "    print(90*'=' + '\\n' + 'Все столбцы матрицы сортированы по неубыванию)')"
   ]
  },
  {
   "cell_type": "code",
   "execution_count": null,
   "metadata": {},
   "outputs": [],
   "source": []
  }
 ],
 "metadata": {
  "kernelspec": {
   "display_name": "Python 3",
   "language": "python",
   "name": "python3"
  },
  "language_info": {
   "codemirror_mode": {
    "name": "ipython",
    "version": 3
   },
   "file_extension": ".py",
   "mimetype": "text/x-python",
   "name": "python",
   "nbconvert_exporter": "python",
   "pygments_lexer": "ipython3",
   "version": "3.6.4"
  }
 },
 "nbformat": 4,
 "nbformat_minor": 2
}
