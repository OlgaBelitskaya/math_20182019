{
 "cells": [
  {
   "cell_type": "markdown",
   "metadata": {},
   "source": [
    "# Спецификация к Лабораторной работе №9 \n",
    "\n",
    "# Поиск строки или столбца матрицы по условию. \n",
    "# Обработка исключений.\n",
    "\n",
    "# (Вариант 22)\n",
    "\n",
    "## Абстракция А0\n",
    "### 1. Постановка задачи.\n",
    "#### Задание: \n",
    "Написать программу обработки матрицы в соответствии с условием. \n",
    "\n",
    "#### Условие: \n",
    "Проанализировать матрицу. \n",
    "\n",
    "Проверить, все ли столбцы матрицы упорядочены по неубыванию.\n",
    "\n",
    "Если не все, сообщить номер последнего неупорядоченного."
   ]
  },
  {
   "cell_type": "markdown",
   "metadata": {},
   "source": [
    "### 2. Уточненная постановка задачи.\n",
    "Дана матрица $A$, состоящая из n строк и m столбцов. \n",
    "\n",
    "Проанализировать столбцы с номерами $i \\in \\{1, ..., m\\}$,\n",
    "\n",
    "выполняется ли условие $A_{1i} \\leq A_{2i} \\leq  ... \\leq A_{ni} (*)$\n",
    "\n",
    "Если не для всех, сообщить наибольший номер $N$ столбца, \n",
    "\n",
    "для которого $(*)$ не выполняется."
   ]
  },
  {
   "cell_type": "markdown",
   "metadata": {},
   "source": [
    "### 3. Пример с иллюстрацией."
   ]
  },
  {
   "cell_type": "code",
   "execution_count": 1,
   "metadata": {},
   "outputs": [],
   "source": [
    "import numpy\n",
    "import pylab \n",
    "%matplotlib inline\n",
    "pylab.style.use('seaborn-whitegrid')"
   ]
  },
  {
   "cell_type": "code",
   "execution_count": 2,
   "metadata": {},
   "outputs": [
    {
     "name": "stdout",
     "output_type": "stream",
     "text": [
      "[[ 84  73 -20 -62 -47]\n",
      " [ 13  40 -96  16 -47]\n",
      " [ 51 -31  66 -43  39]\n",
      " [-94  70 -12 -13 -15]]\n"
     ]
    }
   ],
   "source": [
    "A1 = numpy.random.randint(-100, 100, size=(4,5))\n",
    "numpy.savetxt('A_Lab9_1.txt', A1, fmt='%5.0f')\n",
    "print(A1)"
   ]
  },
  {
   "cell_type": "code",
   "execution_count": 3,
   "metadata": {},
   "outputs": [
    {
     "name": "stdout",
     "output_type": "stream",
     "text": [
      "[[1 1 0 1 1]\n",
      " [0 0 0 0 0]\n",
      " [1 0 1 0 0]] \n",
      "\n",
      " (3, 5)\n"
     ]
    }
   ],
   "source": [
    "A2 = numpy.random.randint(0, 2, size=(3,5))\n",
    "numpy.savetxt('A_Lab9_2.txt', A2, fmt='%5.0f')\n",
    "print(A2, '\\n\\n', A2.shape)"
   ]
  },
  {
   "cell_type": "code",
   "execution_count": 4,
   "metadata": {},
   "outputs": [
    {
     "data": {
      "text/plain": [
       "array([[False, False,  True, False, False],\n",
       "       [False,  True,  True,  True,  True],\n",
       "       [ True, False,  True, False, False]])"
      ]
     },
     "execution_count": 4,
     "metadata": {},
     "output_type": "execute_result"
    }
   ],
   "source": [
    "A2 == numpy.sort(A2, axis=0)"
   ]
  },
  {
   "cell_type": "code",
   "execution_count": 5,
   "metadata": {},
   "outputs": [
    {
     "data": {
      "text/plain": [
       "array([1, 1, 3, 1, 1])"
      ]
     },
     "execution_count": 5,
     "metadata": {},
     "output_type": "execute_result"
    }
   ],
   "source": [
    "numpy.sum(A2 == numpy.sort(A2, axis=0), axis=0)"
   ]
  },
  {
   "cell_type": "code",
   "execution_count": 6,
   "metadata": {},
   "outputs": [
    {
     "data": {
      "text/plain": [
       "array([ True,  True, False,  True,  True])"
      ]
     },
     "execution_count": 6,
     "metadata": {},
     "output_type": "execute_result"
    }
   ],
   "source": [
    "numpy.sum(A2 == numpy.sort(A2, axis=0), axis=0) < A2.shape[0]"
   ]
  },
  {
   "cell_type": "code",
   "execution_count": 7,
   "metadata": {},
   "outputs": [
    {
     "data": {
      "text/plain": [
       "True"
      ]
     },
     "execution_count": 7,
     "metadata": {},
     "output_type": "execute_result"
    }
   ],
   "source": [
    "sum(numpy.sum(A2 == numpy.sort(A2, axis=0), axis=0) < A2.shape[0]) != 0 "
   ]
  },
  {
   "cell_type": "code",
   "execution_count": 8,
   "metadata": {},
   "outputs": [
    {
     "data": {
      "text/plain": [
       "5"
      ]
     },
     "execution_count": 8,
     "metadata": {},
     "output_type": "execute_result"
    }
   ],
   "source": [
    "numpy.nonzero(numpy.sum(A2 == numpy.sort(A2, axis=0), axis=0) < A2.shape[0])[0][-1] + 1"
   ]
  },
  {
   "cell_type": "code",
   "execution_count": 9,
   "metadata": {},
   "outputs": [
    {
     "name": "stdout",
     "output_type": "stream",
     "text": [
      "[[4 0 4 2 4]\n",
      " [3 3 3 2 3]\n",
      " [1 4 2 4 3]] \n",
      "\n",
      " (3, 5)\n"
     ]
    }
   ],
   "source": [
    "A3 = numpy.random.randint(0, 5, size=(3,5))\n",
    "numpy.savetxt('A_Lab9_3.txt', A3, fmt='%5.0f')\n",
    "print(A3, '\\n\\n', A3.shape)"
   ]
  },
  {
   "cell_type": "code",
   "execution_count": 13,
   "metadata": {},
   "outputs": [
    {
     "name": "stdout",
     "output_type": "stream",
     "text": [
      "[[-4 -9 -3 -9 -6 -8 -6]\n",
      " [-4 -1 -1 -6 -1 -8 -7]\n",
      " [-8 -8 -8 -1 -8 -2 -6]] \n",
      "\n",
      " (3, 7)\n"
     ]
    }
   ],
   "source": [
    "A4 = numpy.random.randint(-10, 0, size=(3,7))\n",
    "numpy.savetxt('A_Lab9_4.txt', A4, fmt='%5.0f')\n",
    "print(A4, '\\n\\n', A4.shape)"
   ]
  },
  {
   "cell_type": "code",
   "execution_count": 43,
   "metadata": {},
   "outputs": [
    {
     "name": "stdout",
     "output_type": "stream",
     "text": [
      "[[ 4.65686407  4.04533509 -3.30944422  3.04703298 -2.82836498 -1.33122366\n",
      "  -3.73740085 -3.81033447 -1.26949406  4.76996665]\n",
      " [ 1.7333839  -1.78020585  3.62076868 -1.8891421   2.21228912  3.43417954\n",
      "   2.83782822  1.70289398 -1.8955828   3.05625326]\n",
      " [ 2.75286188 -4.36364877 -3.17314753  0.3313719   3.52666878 -4.240443\n",
      "  -3.88176302  4.44243148  0.30038683  1.13223991]] \n",
      "\n",
      " (3, 10)\n"
     ]
    }
   ],
   "source": [
    "A5 = numpy.random.uniform(-5, 5, size=(3,10))\n",
    "numpy.savetxt('A_Lab9_5.txt', A5, fmt='%1.6f')\n",
    "print(A5, '\\n\\n', A5.shape)"
   ]
  },
  {
   "cell_type": "code",
   "execution_count": 44,
   "metadata": {},
   "outputs": [
    {
     "name": "stdout",
     "output_type": "stream",
     "text": [
      "                    Лаб.9\n",
      "==========================================================================================\n",
      "Текстовый файл с элементами матрицы A: A_Lab9_5.txt\n",
      "Текстовый файл с элементами матрицы A и номером столбца N: AN_Lab9_5.txt\n",
      "==========================================================================================\n",
      "Исходная матрица A: \n",
      "\n",
      "[[ 4.656864  4.045335 -3.309444  3.047033 -2.828365 -1.331224 -3.737401\n",
      "  -3.810334 -1.269494  4.769967]\n",
      " [ 1.733384 -1.780206  3.620769 -1.889142  2.212289  3.43418   2.837828\n",
      "   1.702894 -1.895583  3.056253]\n",
      " [ 2.752862 -4.363649 -3.173148  0.331372  3.526669 -4.240443 -3.881763\n",
      "   4.442431  0.300387  1.13224 ]]\n",
      "==========================================================================================\n",
      "Наибольший номер неупорядоченного столбца N (по неубыванию): \n",
      "\n",
      "10\n"
     ]
    }
   ],
   "source": [
    "print(20*' ' + 'Лаб.9\\n' + 90*'=')\n",
    "\n",
    "fin = str(input('Текстовый файл с элементами матрицы A: '))\n",
    "fout = str(input('Текстовый файл с элементами матрицы A и номером столбца N: '))\n",
    "\n",
    "print(90*'=' + '\\n' + 'Исходная матрица A: \\n')\n",
    "A = numpy.loadtxt(fin, dtype='float')\n",
    "print(A)\n",
    "\n",
    "if sum(numpy.sum(A == numpy.sort(A, axis=0), axis=0) < A.shape[0]) != 0:\n",
    "    N = numpy.nonzero(numpy.sum(A == numpy.sort(A, axis=0), axis=0) < A.shape[0])[0][-1] + 1\n",
    "\n",
    "    print(90*'=' + '\\n' + 'Наибольший номер неупорядоченного столбца N (по неубыванию): \\n')\n",
    "    print(N)\n",
    "else:\n",
    "    N = 0\n",
    "    print(90*'=' + '\\n' + 'Все столбцы матрицы сортированы по неубыванию)')\n",
    "    \n",
    "with open(fout, 'w') as f:\n",
    "    for i in range(len(A)):\n",
    "        f.write(\"{}\\n\".format(A[i]))\n",
    "    f.write(\"{}\\n\".format(N))"
   ]
  },
  {
   "cell_type": "code",
   "execution_count": 28,
   "metadata": {},
   "outputs": [
    {
     "data": {
      "text/plain": [
       "array([1, 1, 1, 1, 1, 1, 1, 1, 1, 1])"
      ]
     },
     "execution_count": 28,
     "metadata": {},
     "output_type": "execute_result"
    }
   ],
   "source": [
    "numpy.sum(A == numpy.sort(A, axis=0)[i], axis=0)"
   ]
  },
  {
   "cell_type": "code",
   "execution_count": 33,
   "metadata": {},
   "outputs": [
    {
     "data": {
      "text/plain": [
       "array([  0.710768, -17.353336])"
      ]
     },
     "execution_count": 33,
     "metadata": {},
     "output_type": "execute_result"
    }
   ],
   "source": [
    "A[:,1]"
   ]
  },
  {
   "cell_type": "code",
   "execution_count": 48,
   "metadata": {},
   "outputs": [
    {
     "data": {
      "image/png": "[encoded data removed]",
      "text/plain": [
       "<Figure size 720x360 with 1 Axes>"
      ]
     },
     "metadata": {},
     "output_type": "display_data"
    }
   ],
   "source": [
    "pylab.figure(figsize=(10,5))\n",
    "col = ['steelblue', 'darkred']\n",
    "s = numpy.sum(A == numpy.sort(A, axis=0), axis=0) < A.shape[0]\n",
    "for i in range(A.shape[1]):\n",
    "    pylab.plot(range(A.shape[0]), A[:,i], \n",
    "               '-o', c=col[int(s[i])], \n",
    "               label='j = ' + str(i+1))\n",
    "\n",
    "pylab.suptitle('N = ' + str(N), fontsize=15)\n",
    "pylab.xlabel('i', fontsize=15) \n",
    "pylab.ylabel(r'$A_{ij}$', fontsize=15)\n",
    "pylab.xticks(range(-1, A.shape[0]+1), range(A.shape[0]+2));\n",
    "pylab.legend(title='Строки матрицы A', \n",
    "             fontsize=15, shadow=True, \n",
    "             bbox_to_anchor=(1.5,1.0));"
   ]
  },
  {
   "cell_type": "code",
   "execution_count": null,
   "metadata": {},
   "outputs": [],
   "source": []
  },
  {
   "cell_type": "code",
   "execution_count": null,
   "metadata": {},
   "outputs": [],
   "source": []
  }
 ],
 "metadata": {
  "kernelspec": {
   "display_name": "Python 3",
   "language": "python",
   "name": "python3"
  },
  "language_info": {
   "codemirror_mode": {
    "name": "ipython",
    "version": 3
   },
   "file_extension": ".py",
   "mimetype": "text/x-python",
   "name": "python",
   "nbconvert_exporter": "python",
   "pygments_lexer": "ipython3",
   "version": "3.6.4"
  }
 },
 "nbformat": 4,
 "nbformat_minor": 2
}
