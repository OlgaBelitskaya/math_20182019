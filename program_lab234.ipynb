{
 "cells": [
  {
   "cell_type": "markdown",
   "metadata": {},
   "source": [
    "# Спецификация к Лабораторным работам №2-4 \n",
    "# (Вариант 22)\n",
    "## Абстракция А0\n",
    "### 1. Постановка задачи (ПЗ).\n",
    "#### Задание: \n",
    "Написать программу обработки одномерного массива в соответствии с условием.\n",
    "\n",
    "#### Условие: \n",
    "При заданных $X_1, X_2, …, X_n$ сформировать массив элементов $Y_1, Y_2, …, Y_n$ по правилу: \n",
    "\n",
    "$ Y_i = \n",
    "\\begin{cases}\n",
    "1 - sin \\ X_i \\ | \\ X_i > 0 \\\\\n",
    "1 - cos \\ X_i \\ | \\ X_i \\leq 0\n",
    "\\end{cases} $. При этом подсчитать число неотрицательных $ X_i $.\n"
   ]
  },
  {
   "cell_type": "code",
   "execution_count": 4,
   "metadata": {},
   "outputs": [
    {
     "data": {
      "text/latex": [
       "$\n",
       "Y_i = \n",
       "\\begin{cases}\n",
       "1 - sin \\ X_i \\ | \\ X_i > 0 \\\\\n",
       "1 - cos \\ X_i \\ | \\ X_i \\leq 0\n",
       "\\end{cases}\n",
       "( 1 ) $"
      ],
      "text/plain": [
       "<IPython.core.display.Latex object>"
      ]
     },
     "metadata": {},
     "output_type": "display_data"
    }
   ],
   "source": [
    "%%latex\n",
    "$ \n",
    "Y_i = \n",
    "\\begin{cases}\n",
    "1 - sin \\ X_i \\ | \\ X_i > 0 \\\\\n",
    "1 - cos \\ X_i \\ | \\ X_i \\leq 0\n",
    "\\end{cases}\n",
    "( 1 )\n",
    "$"
   ]
  },
  {
   "cell_type": "markdown",
   "metadata": {},
   "source": [
    "### 2. Уточненная постановка задачи.\n",
    "Дан одномерный вещественный массив X из n (0 < n ≤ 20) элементов.\n",
    "\n",
    "Найти\n",
    "- Y – одномерный вещественный массив, элементы которого подсчитаны по правилу (1);\n",
    "- c – количество неотрицательных элементов массива X."
   ]
  },
  {
   "cell_type": "markdown",
   "metadata": {},
   "source": [
    "### 3. Пример с иллюстрацией."
   ]
  },
  {
   "cell_type": "code",
   "execution_count": 10,
   "metadata": {},
   "outputs": [
    {
     "name": "stdout",
     "output_type": "stream",
     "text": [
      "                    Лаб.2\n",
      "Количество элементов массива X (n): 4\n",
      "Массив X:\n",
      "0\n",
      "-10\n",
      "-100\n",
      "-1000\n",
      "=============================================\n",
      "Массив Y:\n",
      "0.0\n",
      "0.015192\n",
      "1.173648\n",
      "0.826352\n",
      "\n",
      "Количество неотрицательных элементов массива X (с): 1\n"
     ]
    },
    {
     "data": {
      "image/png": "[encoded data removed]",
      "text/plain": [
       "<Figure size 720x360 with 1 Axes>"
      ]
     },
     "metadata": {},
     "output_type": "display_data"
    }
   ],
   "source": [
    "import pylab as plt\n",
    "import numpy\n",
    "%matplotlib inline\n",
    "\n",
    "plt.style.use('seaborn-whitegrid')\n",
    "\n",
    "def f(x):\n",
    "    if x > 0:\n",
    "        return 1 - numpy.sin(x * numpy.pi / 180.)\n",
    "    else:\n",
    "        return 1 - numpy.cos(x * numpy.pi / 180.)\n",
    "\n",
    "\n",
    "print(20*' '+'Лаб.2')\n",
    "X = []\n",
    "n = int(input('Количество элементов массива X (n): ')) \n",
    "\n",
    "if (n < 1 or n > 20): \n",
    "    if n < 1:\n",
    "        print('Некорректное n: n<1')\n",
    "    else:\n",
    "        print('Некорректное n: n>20')   \n",
    "else:\n",
    "    print('Массив X:')\n",
    "    for i in range(n):\n",
    "        X.append(float(input()))\n",
    "        \n",
    "    X = numpy.array(X)\n",
    "    print(45*'=')\n",
    "\n",
    "    Y = numpy.array([f(x) for x in X])\n",
    "    c = numpy.where(X>=0)[0].shape[0]\n",
    "    colors = numpy.where(X>=0, '#ff3636', '#3636ff')\n",
    "    \n",
    "    print('Массив Y:')\n",
    "    for i in range(n): print(round(Y[i], 6))\n",
    "    print('\\nКоличество неотрицательных элементов массива X (с):', c)\n",
    "    \n",
    "    plt.figure(figsize=(10,5))\n",
    "    plt.scatter(X, Y, c=colors)\n",
    "    plt.xlabel('X', fontsize=15); plt.ylabel('Y', fontsize=15);"
   ]
  },
  {
   "cell_type": "markdown",
   "metadata": {},
   "source": [
    "### 4. Таблица данных \n",
    "\n",
    "| Класс | Имя | Описание (смысл, диапазон, точность) | Тип | Структура | Формат в/в |\n",
    "| :-: | :-: | :-: | :-: | :-: | :-: |\n",
    "| входные данные | n | число элементов массива, 0<n≤20 | цел | простая переменная | XX (:2) |\n",
    "| входные данные | X | вводимые с клавиатуры числа | вещ | одномерный массив (20) | +XX.XX+ (:5:6) |\n",
    "| выходные данные | Y | числа, подсчитанные по правилу (1) | вещ | одномерный массив (20) | X.XX+ (:1:6) |\n",
    "| входные данные | c | число неотрицательных элементов массива, 0<c≤20 | цел | простая переменная | XX (:2) |\n",
    "| промежуточные данные | i | индекс текущего элемента, 0≤i≤21 | цел | простая переменная | --- |\n",
    "\n",
    "_ ! в Delphi выход из цикла с 1 до 20 с шагом +1 происходит при значении 21, из цикла с 20 до 1 – при 0_"
   ]
  },
  {
   "cell_type": "markdown",
   "metadata": {},
   "source": [
    "### 5. Входная форма\n",
    "\n",
    "- обр 1.1 Количество элементов массива X (n):\n",
    "- обр 1.2 <n>\n",
    "- обр 2.1 Массив X:\n",
    "- обр 2.2 $ < X[1] > \\\\ < X[2] > \\\\ … \\\\ < X[n] > $\n",
    "\n",
    "### 6. Выходная форма\n",
    "\n",
    "- обр 3 Лаб. 2\n",
    "- обр 4 Количество элементов массива X (n): $< n >$\n",
    "- обр 5.1 Массив X:\n",
    "- обр 5.2 $ < X[1] > \\\\ < X[2] > \\\\ … \\\\ < X[n] > $\n",
    "\n",
    "- обр 6.1 Массив Y:\n",
    "- обр 6.2 $ < Y[1] > \\\\ < Y[2] > \\\\ … \\\\ < Y[n] > $\n",
    "\n",
    "- обр 7 Количество неотрицательных элементов массива X (с): $< c >$"
   ]
  },
  {
   "cell_type": "markdown",
   "metadata": {},
   "source": [
    "### 7. Аномалии\n",
    "| № | Описание | Условие возникновения | Реакция на аномалию |\n",
    "| :-: | :-: | :-: | :-: |\n",
    "| 1 | n меньше минимально допустимого значения | n<1 | Сообщение: «Некорректное n: n<1» (обр.А1) |\n",
    "| | | | Действие: Завершение работы программы |\n",
    "| 2 | n больше максимально допустимого значения | n>20 | Сообщение: «Некорректное n: n>20» (обр.А1) |\n",
    "| | | | Действие: Завершение работы программы |"
   ]
  },
  {
   "cell_type": "markdown",
   "metadata": {},
   "source": [
    "### 8. Функциональные тесты\n",
    "\n",
    "| | Исходные данные | | | Результаты | Тест № |\n",
    "| :-: | :-: | :-: | :-: | :-: | :-: |\n",
    "| n | X | Y | c | Сообщения | |\n",
    "| 10 | `[59.6,88.305,0.101,-84.55,-13.22,`| `[0.137486,0.000438,0.998237,0.905023,0.026501,`| 6 | - | 1 |\n",
    "| | `107.19,53.7,-4.2,-8.447,304]` | `0.04467,0.194072,0.002686,0.010848,1.829038]` | | | |\n",
    "| 1 | `[90]` | `[0.0]` | 1 | - | 2 |\n",
    "| 4 | `[0,-10,-100,-1000]` | `[0.0,0.015192,1.173648,0.826352]` | 1 | - | 3 |\n",
    "| 22 | - | - | - | `Некорректное n: n>20` | 4 |\n",
    "| 0 | - | - | - | `Некорректное n: n<1` | 5 |"
   ]
  },
  {
   "cell_type": "markdown",
   "metadata": {},
   "source": [
    "| № теста | Входные  данные | Ожидаемый результат | Смысл теста |\n",
    "| :-: | :-: | :-: | :-: |\n",
    "| | | | |\n",
    "| 1 | n = 10 |  Y = `[0.137486,0.000438,0.998237,` | Подтвердить правильность |\n",
    "| | X = `[59.6,88.305,0.101,` | `0.905023,0.026501,0.04467,0.194072,`| расчетов |\n",
    "| | `84.55,-13.22,107.19,53.7,` | `0.002686, 0.010848,1.829038]` | выходных данных |\n",
    "| | `-4.2,-8.447,304]` | c = 6 | |\n",
    "| | | | |\n",
    "| 2 | n = 1 | Y = `[0.0]` | Протестировать |\n",
    "| | X = `[90]` | c = 1 | простейший случай |\n",
    "| | | | |\n",
    "| 3 | n = 1 | Y = `[0.0,0.015192,1.173648,0.826352]` |Проверить правильность выполнения | \n",
    "| | X = `[0,-10,-100,-1000]` | c = 1 | программы при разделении переменных |\n",
    "| | | | на положительные и неположительные, |\n",
    "| | | | на отрицательные и неотрицательные. |\n",
    "| | | | |\n",
    "| 4 | n = 22 | “Некорректное n: n>20” | Проверить корректность |\n",
    "| | | | определения аномалии (обр.А1) |\n",
    "| | | | |\n",
    "| 5 | n = 0 | “Некорректное n: n<1” | Проверить корректность |\n",
    "| | | | определения аномалии (обр.А1)|\n"
   ]
  },
  {
   "cell_type": "markdown",
   "metadata": {},
   "source": [
    "| | Результаты | № теста |\n",
    "| :-: | :-: | :-: |\n",
    "| | | |\n",
    "| Y | Максимальная вычислительная нагрузка – 10 элементов нового массива. | 1 |\n",
    "| | Соответствует ожидаемым числовым значениям. | |\n",
    "| Y | 0 | 2 |\n",
    "| Y | Максимальная вычислительная нагрузка – 4 элемента нового массива. | 3 |\n",
    "| | Соответствует ожидаемым числовым значениям. | |\n",
    "| Y | Элементы нового массива не вычисляются. | 4 |\n",
    "| Y | Элементы нового массива не вычисляются. | 5 |\n",
    "| | | |\n",
    "| c | Максимальная вычислительная нагрузка – подсчет количества неотрицательных элементов массива входных данных. | 1 |\n",
    "| | Соответствует ожидаемым числовым значениям. | |\n",
    "| c | 1 | 2 |\n",
    "| c | Правильно определены положительные и неотрицательные элементы массива входных данных. | 3 |\n",
    "| c | Обработка входного массива не производится. | 4 |\n",
    "| c | Обработка входного массива не производится. | 5 |\n",
    "| | | |\n",
    "| Сообщения | Вывод на экран входных и выходных данных. | 1 | \n",
    "| Сообщения | Вывод на экран входных и выходных данных. | 2 |\n",
    "| Сообщения | Вывод на экран входных и выходных данных. | 3 |\n",
    "| Сообщения | Аномалия определена верно. | 4 |\n",
    "| Сообщения | Аномалия определена верно. | 5 |\n"
   ]
  },
  {
   "cell_type": "markdown",
   "metadata": {},
   "source": [
    "### 9. Метод\n",
    "Отделим ввод-вывод от обработки данных и разделим задачу на три подзадачи:\n",
    "\n",
    "1.\t_Подзадача А0.1._ Ввести исходные данные (обр.1,2) и вывести их на экран (обр.3-5) для визуального подтверждения.\n",
    "2.\t_Подзадача А0.2._ Решение поставленной задачи: на основе введенных исходных данных (n, X) \n",
    "   - подсчитать элементы нового массива Y по правилу (1) и \n",
    "   - количество неотрицательных элементов исходного массива c.\n",
    "3.\t_Подзадача А0.3._ Ввести вывести полученные результаты (Y,c) на экран (обр.6,7).\n",
    "\n",
    "Ввод-вывод тривиален и представляет собой чисто техническую задачу. Для осуществления процесса ввода-вывода массивов потребуется промежуточная переменная i – индекс текущего элемента массива, которую следует добавить в таблицу данных. \n",
    "\n",
    "Алгоритм необходим только для обработка входных данных и расчета элементов нового массива. "
   ]
  },
  {
   "cell_type": "markdown",
   "metadata": {},
   "source": [
    "### 10. Алгоритм\n",
    "\n",
    "[Sample diagrams](http://blockdiag.com/en/blockdiag/examples.html#sample-diagrams)"
   ]
  },
  {
   "cell_type": "code",
   "execution_count": 23,
   "metadata": {},
   "outputs": [
    {
     "name": "stdout",
     "output_type": "stream",
     "text": [
      "Overwriting block_diagram\n"
     ]
    }
   ],
   "source": [
    "%%file block_diagram\n",
    "\n",
    "blockdiag {\n",
    "    orientation = portrait;\n",
    "    class start_end [shape = ellipse, fontsize = 15, color = lightsteelblue];\n",
    "    class input_out [shape = flowchart.input, fontsize = 18, width = 450, color = lightcyan];\n",
    "    class condition [shape = flowchart.condition, fontsize = 18, width = 300, color = lightsteelblue];\n",
    "    class main_box [shape = box, width = 500, height = 150, fontsize = 18];\n",
    "    \n",
    "    Начало -> \n",
    "    \"Вывод по обр.3\" -> \"Ввод n по обр.1\" -> \"n<1 или n>20\" ->\n",
    "    \"Вывод сообщения по обр.A1\", \"Вывод n по обр.4\";\n",
    "    \n",
    "    \"Вывод n по обр.4\" -> \"Ввод X по обр.2\" -> \"Вывод X по обр.5\" ->\n",
    "    \"Обработка: \\nподсчет неотрицательных \\nэлементов X и \\nвычисление элементов Y\" ->\n",
    "    \"Вывод Y по обр.6\" -> \"Вывод c по обр.7\" ->\n",
    "    Конец;\n",
    "\n",
    "    Начало, Конец [class = \"start_end\"];\n",
    "    \"n<1 или n>20\" [class = \"condition\"];\n",
    "    \"Вывод по обр.3\", \"Вывод сообщения по обр.A1\" [class = \"input_out\"];\n",
    "    \"Ввод n по обр.1\", \"Ввод X по обр.2\" [class = \"input_out\"];\n",
    "    \"Вывод n по обр.4\", \"Вывод X по обр.5\" [class = \"input_out\"];\n",
    "    \"Вывод Y по обр.6\", \"Вывод c по обр.7\" [class = \"input_out\"];\n",
    "    \"Обработка: \\nподсчет неотрицательных \\nэлементов X и \\nвычисление элементов Y\" [class = \"main_box\"];\n",
    "}"
   ]
  },
  {
   "cell_type": "code",
   "execution_count": 24,
   "metadata": {},
   "outputs": [],
   "source": [
    "!blockdiag block_diagram"
   ]
  },
  {
   "cell_type": "code",
   "execution_count": 25,
   "metadata": {},
   "outputs": [
    {
     "data": {
      "image/png": "[encoded data removed]",
      "text/plain": [
       "<IPython.core.display.Image object>"
      ]
     },
     "execution_count": 25,
     "metadata": {},
     "output_type": "execute_result"
    }
   ],
   "source": [
    "from IPython.display import Image\n",
    "Image(\"block_diagram.png\")"
   ]
  },
  {
   "cell_type": "markdown",
   "metadata": {},
   "source": [
    "### 11. Программа на _Delphi_. Диалоговый вариант {ввод с клавиатуры, вывод на экран}\n",
    "\n",
    "Синтаксис:\n",
    "\n",
    "[Pascal Tutorial](https://www.tutorialspoint.com/pascal/index.htm)\n",
    "\n",
    "Проверить программу онлайн без установки программной среды:\n",
    "\n",
    "[Compile and Execute Pascal Online](http://www.compileonline.com/compile_pascal_online.php)"
   ]
  },
  {
   "cell_type": "code",
   "execution_count": null,
   "metadata": {},
   "outputs": [],
   "source": [
    "program Lab2; //сохранить как lab2.dpr (DPR – Delphi PRoject)  \n",
    "{$APPTYPE CONSOLE}\n",
    "Uses Windows; // для русификации (сделать комментарием в онлайн-компиляторе!)\n",
    "    const\n",
    "        Nmax=20; {верх. граница индексов массива}\n",
    "    var\n",
    "        n, i, c: integer;\n",
    "        X, Y: array [1..Nmax] of real; \n",
    "\n",
    "    begin\n",
    "        setConsoleCP(1251); // для ввода  русификация и (сделать строку комментарием в онлайн-компиляторе!)\n",
    "        setConsoleOutputCP(1251); // для вывода (сделать строку комментарием в онлайн-компиляторе!)\n",
    "\n",
    "        {A0.1 - ввод-вывод входных данных}\n",
    "        writeln('Лаб.2' :40); {вывод заголовка c переходом на следующую строку по обр.3}\n",
    "\n",
    "        writeln('Количество элементов n:'); readln(n); {ввод-вывод цел. переменной - количество элементов по обр.1,4}\n",
    "            \n",
    "        if(n<1) or (n>20) then\n",
    "            if (n<1) then \n",
    "                write('Некорректное n: n<1')\n",
    "            else \n",
    "                write('Некорректное n: n>20')\n",
    "        else\n",
    "\n",
    "        begin\n",
    "            {ввод-вывод исходного массивa X по обр.2,5}\n",
    "            writeln('Массив X: '); {вывод пояснения с переходом на следующую строку} \n",
    "            for i:=1 to n do \n",
    "            begin\n",
    "                readln(X[i]); {ввод элемента и переход на следующую строку}\n",
    "                writeln(X[i]:5:6);{вывод элемента и переход на следующую строку}\n",
    "            end;\n",
    "            for i:=1 to 80 do \n",
    "                write('='); {отделим визуально чертой и строкой введенные и выводимые значения}\n",
    "            writeln;  \n",
    "            \n",
    "        {А0.2 - обработка, А0.3 - вывод результатов}\n",
    "            c := 0;\n",
    "            {вывод элементов массива Y по обр.6}\n",
    "            writeln('Массив Y: '); {вычисление и вывод элементов массива}\n",
    "            for i:=1 to n do\n",
    "            begin\n",
    "                if (X[i] > 0) then\n",
    "                begin\n",
    "                    Y[i] := 1 - sin(X[i]);\n",
    "                    writeln(Y[i]:1:6);\n",
    "                    c := c + 1;\n",
    "                end\n",
    "                else\n",
    "                begin\n",
    "                    if (X[i] = 0) then c := c + 1;\n",
    "                    Y[i] := 1 - cos(X[i]);\n",
    "                    writeln(Y[i]:1:6); \n",
    "                end;\n",
    "            end;\n",
    "\n",
    "            writeln('Количество неотрицательных элементов X:', c){вывод переменной по обр.7}; \n",
    "\n",
    "            write('Press Enter…'); readln; {задерживаем экран до нажатия ENTER}\n",
    "        end;\n",
    "    end. "
   ]
  },
  {
   "cell_type": "markdown",
   "metadata": {},
   "source": [
    "# Раскрытие абстракции А0.2-A0.3\n",
    "_Поскольку условие всей задачи совпадает (за исключением необходимости ввода) с условием выделенной подзадачи, вместо полной спецификации с пунктами 1-11 выполнено просто дополнение к пунктам 9-11._ "
   ]
  },
  {
   "cell_type": "markdown",
   "metadata": {},
   "source": [
    "### 9. Метод\n",
    "Пусть\n",
    "\n",
    "- i – номер текущий точки,\n",
    "- X[i] – соответствующий элемент исходного массива X,\n",
    "- Y[i] – полученный по правилу (1) элемент массива Y,\n",
    "- c - количество неотрицательных элементов массива X.\n",
    "\n",
    "Присвоим переменной c начальное значение: c = 0.\n",
    "\n",
    "При X[i] > 0 получим Y[i] = 1 - sin(X[i]). Переменная c при этом увеличивается на 1.\n",
    "\n",
    "При X[i] ≤ 0 получим Y[i] = 1 - cos(X[i]). Переменная c при этом увеличивается на 1 только при X[i] = 0.\n"
   ]
  },
  {
   "cell_type": "markdown",
   "metadata": {},
   "source": [
    "### 10. Алгоритм"
   ]
  },
  {
   "cell_type": "code",
   "execution_count": null,
   "metadata": {},
   "outputs": [],
   "source": []
  }
 ],
 "metadata": {
  "kernelspec": {
   "display_name": "Python 3",
   "language": "python",
   "name": "python3"
  },
  "language_info": {
   "codemirror_mode": {
    "name": "ipython",
    "version": 3
   },
   "file_extension": ".py",
   "mimetype": "text/x-python",
   "name": "python",
   "nbconvert_exporter": "python",
   "pygments_lexer": "ipython3",
   "version": "3.6.4"
  }
 },
 "nbformat": 4,
 "nbformat_minor": 2
}
