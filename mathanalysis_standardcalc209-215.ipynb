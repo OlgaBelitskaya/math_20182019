{
 "cells": [
  {
   "cell_type": "code",
   "execution_count": 1,
   "metadata": {},
   "outputs": [
    {
     "data": {
      "text/html": [
       "<style>\n",
       "@import url('https://fonts.googleapis.com/css?family=Roboto&effect=3d|brick-sign|');\n",
       "span {font-family:Roboto; color:black; text-shadow:4px 4px 4px #aaa;}  \n",
       "h1,h2 {font-family:Roboto; color:slategray; text-shadow:4px 4px 4px #aaa;} \n",
       "div.output_subarea, div.output_area pre{font-family:Roboto; font_size:120%; color:darkblue;}\n",
       "</style> "
      ],
      "text/plain": [
       "<IPython.core.display.HTML object>"
      ]
     },
     "metadata": {},
     "output_type": "display_data"
    }
   ],
   "source": [
    "%%html\n",
    "<style>\n",
    "@import url('https://fonts.googleapis.com/css?family=Roboto&effect=3d|brick-sign|');\n",
    "span {font-family:Roboto; color:black; text-shadow:4px 4px 4px #aaa;}  \n",
    "h1,h2 {font-family:Roboto; color:slategray; text-shadow:4px 4px 4px #aaa;} \n",
    "div.output_subarea, div.output_area pre{font-family:Roboto; font_size:120%; color:darkblue;}\n",
    "</style> "
   ]
  },
  {
   "cell_type": "code",
   "execution_count": 2,
   "metadata": {},
   "outputs": [],
   "source": [
    "import math, sympy, numpy\n",
    "from sympy import *\n",
    "sympy.init_printing(use_unicode=True)\n",
    "import pylab as plt\n",
    "%matplotlib inline"
   ]
  },
  {
   "cell_type": "markdown",
   "metadata": {},
   "source": [
    "[GeoGebra](https://www.geogebra.org/graphing?lang=en)\n",
    "\n",
    "[LaTeX/Mathematics](https://en.wikibooks.org/wiki/LaTeX/Mathematics)\n",
    "\n",
    "[ SymPy Modules Reference. Calculus](https://docs.sympy.org/latest/modules/calculus/index.html)\n",
    "\n",
    "[Sympy : Symbolic Mathematics in Python](https://www.scipy-lectures.org/advanced/sympy.html)\n",
    "\n",
    "[Math24.ru. Ряды Тейлора и Маклорена](http://www.math24.ru/%D1%80%D1%8F%D0%B4%D1%8B-%D1%82%D0%B5%D0%B9%D0%BB%D0%BE%D1%80%D0%B0-%D0%B8-%D0%BC%D0%B0%D0%BA%D0%BB%D0%BE%D1%80%D0%B5%D0%BD%D0%B0.html)\n",
    "\n",
    "[Math24.ru. Бесконечно малые функции](http://www.math24.ru/%D0%B1%D0%B5%D1%81%D0%BA%D0%BE%D0%BD%D0%B5%D1%87%D0%BD%D0%BE-%D0%BC%D0%B0%D0%BB%D1%8B%D0%B5-%D1%84%D1%83%D0%BD%D0%BA%D1%86%D0%B8%D0%B8.html)\n"
   ]
  },
  {
   "cell_type": "markdown",
   "metadata": {},
   "source": [
    "# Вариант 22\n",
    "\n",
    "# Дифференцирование и приложения"
   ]
  },
  {
   "cell_type": "markdown",
   "metadata": {},
   "source": [
    "## Типовой расчет №9\n",
    "\n",
    "Найти производную $n$-ого порядка.\n",
    "\n",
    "$\\large{\\displaystyle{y = \\frac{2x - 4}{8x + 3} }}$"
   ]
  },
  {
   "cell_type": "markdown",
   "metadata": {},
   "source": [
    "## Решение\n",
    "\n",
    "$\\large{\\displaystyle{y ' = \\Bigg(\\frac{2x - 4}{8x + 3}\\Bigg) ' = \\frac{(2x - 4) ' (8x + 3) - (2x - 4) (8x + 3) '}{(8x + 3)^2} = }}$ \n",
    "\n",
    "\n",
    "$\\large{\\displaystyle{ = \\frac{2 (8x + 3) - 8(2x - 4)}{(8x + 3)^2} = \\frac{16x + 6 - 16x + 32}{(8x + 3)^2} = 38 * (8x + 3)^{-2} }}$ \n",
    "\n",
    "\n",
    "$\\large{\\displaystyle{y '' = \\Bigg(38 * (8x + 3)^{-2} \\Bigg) ' =  38 * (-2) * 8 * (8x + 3)^{-3} }}$\n",
    "\n",
    "\n",
    "$\\large{\\displaystyle{y ''' = \\Bigg(38 * (-2) * 8 * (8x + 3)^{-3} \\Bigg) ' =  38 * 6 * 8^2 * (8x + 3)^{-4} }}$\n",
    "\n",
    "$...$\n",
    "\n",
    "$\\large{\\displaystyle{y ^{(n)} = 38 * (-1)^{n-1} * n! * 8^{n - 1} *(8x + 3)^{-n - 1}   }}$"
   ]
  },
  {
   "cell_type": "markdown",
   "metadata": {},
   "source": [
    "## Ответ\n",
    "\n",
    "$\\large{\\displaystyle{y ^{(n)} = 38 * (-1)^{n-1} * n! * 8^{n - 1} *(8x + 3)^{-n - 1}   }}$"
   ]
  },
  {
   "cell_type": "code",
   "execution_count": 5,
   "metadata": {},
   "outputs": [],
   "source": [
    "x = Symbol('x')\n",
    "y = (2 * x - 4) / (8 * x + 3)"
   ]
  },
  {
   "cell_type": "code",
   "execution_count": 6,
   "metadata": {},
   "outputs": [
    {
     "data": {
      "image/png": "[encoded data removed]",
      "text/latex": [
       "$$\\left ( - \\frac{8 \\left(2 x - 4\\right)}{\\left(8 x + 3\\right)^{2}} + \\frac{2}{8 x + 3}, \\quad \\frac{128 \\left(2 x - 4\\right)}{\\left(8 x + 3\\right)^{3}} - \\frac{32}{\\left(8 x + 3\\right)^{2}}, \\quad - \\frac{3072 \\left(2 x - 4\\right)}{\\left(8 x + 3\\right)^{4}} + \\frac{768}{\\left(8 x + 3\\right)^{3}}\\right )$$"
      ],
      "text/plain": [
       "⎛  8⋅(2⋅x - 4)      2     128⋅(2⋅x - 4)       32        3072⋅(2⋅x - 4)      76\n",
       "⎜- ─────────── + ───────, ───────────── - ──────────, - ────────────── + ─────\n",
       "⎜            2   8⋅x + 3             3             2               4          \n",
       "⎝   (8⋅x + 3)               (8⋅x + 3)     (8⋅x + 3)       (8⋅x + 3)      (8⋅x \n",
       "\n",
       "8    ⎞\n",
       "─────⎟\n",
       "    3⎟\n",
       "+ 3) ⎠"
      ]
     },
     "execution_count": 6,
     "metadata": {},
     "output_type": "execute_result"
    }
   ],
   "source": [
    "diff(y, x), diff(diff(y, x), x), diff(diff(diff(y, x), x), x)"
   ]
  },
  {
   "cell_type": "code",
   "execution_count": 18,
   "metadata": {},
   "outputs": [
    {
     "data": {
      "image/png": "[encoded data removed]",
      "text/plain": [
       "<Figure size 432x288 with 1 Axes>"
      ]
     },
     "metadata": {},
     "output_type": "display_data"
    }
   ],
   "source": [
    "plot(diff(y, x), 38 * (8 * x + 3) ** (-2), \n",
    "     diff(diff(y, x), x), 38 * (-2) * 8 * (8 * x + 3) ** (-3),\n",
    "     diff(diff(diff(y, x), x), x), 38 * 6 * 8 ** 2 * (8 * x + 3) ** (-4), \n",
    "     (x,0,1));"
   ]
  },
  {
   "cell_type": "markdown",
   "metadata": {},
   "source": [
    "## Типовой расчет №10\n",
    "\n",
    "Вычислить предел функции.\n",
    "\n",
    "$\\large{\\displaystyle{ \\lim_{ x \\to 0}  \\frac{4 \\ tg \\ 3 x - 3 \\ tg \\ 4x}{7x - sin \\ 7x} }}$"
   ]
  },
  {
   "cell_type": "markdown",
   "metadata": {},
   "source": [
    "## Решение\n",
    "\n",
    "Числитель и знаменатель дроби стремятся к 0 при $x \\to 0$, \n",
    "\n",
    "значит дробь является неопределенным выражением вида $\\big[\\frac{0}{0}\\big]$ при $x \\to 0$.\n",
    "\n",
    "Заменить знаменатель на эквивалентную бесконечно малую функцию нельзя, поскольку:\n",
    "\n",
    "$7x - sin \\ 7x = 7x - 7x - \\overline{o}(7x) =  - \\overline{o}(7x)$ при $x \\to 0$.\n",
    "\n",
    "То же самое верно и в отношении числителя."
   ]
  },
  {
   "cell_type": "markdown",
   "metadata": {},
   "source": [
    "Для раскрытия неопределенности $\\big[\\frac{0}{0}\\big]$ при $x \\to 0$ преобразуем функцию, \n",
    "\n",
    "используя разложение в ряды Маклорена:\n",
    "\n",
    "$\\large{\\displaystyle{ tg \\ 3x = 3x +  \\frac{(3x)^3}{3} + \\overline{o_1(x^3)} }}$\n",
    "\n",
    "$\\large{\\displaystyle{ tg \\ 4x = 4x +  \\frac{(4x)^3}{3} + \\overline{o_2(x^3)} }}$\n",
    "\n",
    "$\\large{\\displaystyle{sin \\ 7x = 7x - \\frac{(7x)^3}{3!} + \\overline{o_3(x^3)} }}$\n",
    "\n",
    "$\\large{\\displaystyle{ 4 \\ tg \\ 3x - 3 \\ tg\\ 4x = 12 x +  36 x^3 + 4 \\overline{o_1(x^3)} - 12 x - 64 x^3 - 3 \\overline{o_2(x^3)} = }}$\n",
    "\n",
    "$\\large{\\displaystyle{ = -28x^3 + 4 \\overline{o_1(x^3)} - 3 \\overline{o_2(x^3)} }}$\n",
    "\n",
    "$\\large{\\displaystyle{7x - sin \\ 7x = 7x - 7x + \\frac{(7x)^3}{3!} - \\overline{o_3(x^3)} = \\frac{343}{6} x^3 - \\overline{o_3(x^3)} }}$\n",
    "\n",
    "Учитывая, что $4 \\overline{o_1(x^3)}  - 3 \\overline{o_2(x^3)}, \\overline{o_3(x^3)}$ - бесконечно малые величины более высокого порядка, чем $x^3$:\n",
    "\n",
    "$\\large{\\displaystyle{ \\lim_{ x \\to 0}  \\frac{4 \\ tg \\ 3 x - 3 \\ tg \\ 4x}{7x - sin \\ 7x}  = \\lim_{ x \\to 0}  \\frac{-28 x^3}{343 x^3 / 6 } = -\\frac{24}{49} }}$"
   ]
  },
  {
   "cell_type": "markdown",
   "metadata": {},
   "source": [
    "## Ответ\n",
    "\n",
    "$\\large{\\displaystyle{ \\lim_{ x \\to 0}  \\frac{4 \\ tg \\ 3 x - 3 \\ tg \\ 4x}{7x - sin \\ 7x} = -\\frac{24}{49} }}$"
   ]
  },
  {
   "cell_type": "code",
   "execution_count": 60,
   "metadata": {},
   "outputs": [],
   "source": [
    "x = Symbol('x')\n",
    "y = (4 * tan(3 * x) - 3 * tan(4 * x)) / (7 * x - sin (7 * x))"
   ]
  },
  {
   "cell_type": "code",
   "execution_count": 61,
   "metadata": {},
   "outputs": [
    {
     "data": {
      "image/png": "[encoded data removed]",
      "text/latex": [
       "$$- \\frac{24}{49}$$"
      ],
      "text/plain": [
       "-24 \n",
       "────\n",
       " 49 "
      ]
     },
     "execution_count": 61,
     "metadata": {},
     "output_type": "execute_result"
    }
   ],
   "source": [
    "limit(y, x, 0)"
   ]
  },
  {
   "cell_type": "code",
   "execution_count": 69,
   "metadata": {},
   "outputs": [
    {
     "data": {
      "image/png": "[encoded data removed]",
      "text/plain": [
       "<Figure size 432x288 with 1 Axes>"
      ]
     },
     "metadata": {},
     "output_type": "display_data"
    }
   ],
   "source": [
    "plot(y, -24/49, (x, -0.06, -0.01));"
   ]
  },
  {
   "cell_type": "markdown",
   "metadata": {},
   "source": [
    "## Типовой расчет №11\n",
    "\n",
    "Вычислить предел функции.\n",
    "\n",
    "$\\large{\\displaystyle{ \\lim_{ x \\to -1}  \\frac{x^4 + x^3 - 3x^2 - 5x - 2}{x^4 + 2x^3 - 2x - 1} }}$"
   ]
  },
  {
   "cell_type": "markdown",
   "metadata": {},
   "source": [
    "## Решение\n",
    "\n",
    "Числитель и знаменатель дроби стремятся к 0 при $x \\to 0$, \n",
    "\n",
    "значит дробь является неопределенным выражением вида $\\big[\\frac{0}{0}\\big]$ при $x \\to 0$.\n",
    "\n",
    "### I Способ\n",
    "\n",
    "Заменим переменную $t = x + 1, x \\to -1 \\implies x = t - 1, t \\to 0$.\n",
    "\n",
    "$\\large{\\displaystyle{ \\lim_{ x \\to -1}  \\frac{x^4 + x^3 - 3 x^2 - 5 x - 2}{x^4 + 2 x^3 - 2 x - 1} = \\lim_{ t \\to 0}  \\frac{(t - 1)^4 + (t - 1)^3 - 3 (t - 1)^2 - 5(t - 1) - 2}{(t - 1)^4 + 2 (t - 1)^3 - 2 (t - 1) - 1} = }}$\n",
    "\n",
    "$\\large{\\displaystyle{ = \\lim_{ t \\to 0}  \\frac{t^4  - 4 t^3 + 6 t^2 - 4 t + 1 + t^3 - 3 t^2 + 3t - 1 - 3 (t^2 - 2 t + 1) - 5 t + 3}{t^4  - 4 t^3 + 6 t^2 - 4 t + 1 + 2 (t^3 - 3 t^2 + 3t - 1) - 2 t  + 1} = }}$\n",
    "\n",
    "$\\large{\\displaystyle{ = \\lim_{ t \\to 0}  \\frac{t^4  - 3 t^3}{t^4  - 2 t^3} =  \\lim_{ t \\to 0}  \\frac{t - 3}{t - 2} = \\frac{-3}{-2} = 1.5}}$\n",
    "\n",
    "### II Способ\n",
    "\n",
    "Разложим на множители числитель и знаменатель дроби \n",
    "\n",
    "и поделим несколько раз на $x + 1 \\neq 0$ при $ x \\to - 1$:\n",
    "\n",
    "$\\large{\\displaystyle{ \\lim_{ x \\to -1}  \\frac{x^4 + x^3 - 3 x^2 - 5 x - 2}{x^4 + 2 x^3 - 2 x - 1} = \\lim_{  x \\to -1}  \\frac{(x + 1)(x^3 - 3 x^2 - 2)}{(x + 1)(x^3 + x^2 - x - 1)} = }}$\n",
    "\n",
    "$\\large{\\displaystyle{ = \\lim_{  x \\to -1}  \\frac{x^3 - 3 x^2 - 2}{x^3 + x^2 - x - 1} = \\lim_{  x \\to -1}  \\frac{(x + 1)(x^2 - x - 2)}{(x + 1)(x^2 - 1)} = }}$\n",
    "\n",
    "$\\large{\\displaystyle{ = \\lim_{  x \\to -1}  \\frac{x^2 - x - 2}{x^2 - 1} = \\lim_{  x \\to -1}  \\frac{(x + 1)(x - 2)}{(x + 1)(x - 1)} = }}$\n",
    "\n",
    "$\\large{\\displaystyle{ = \\lim_{  x \\to -1}  \\frac{x - 2}{x - 1} =  \\frac{-1 - 2}{-1 - 1} = 1.5}}$"
   ]
  },
  {
   "cell_type": "markdown",
   "metadata": {},
   "source": [
    "## Ответ\n",
    "\n",
    "$\\large{\\displaystyle{ \\lim_{ x \\to -1}  \\frac{x^4 + x^3 - 3x^2 - 5x - 2}{x^4 + 2x^3 - 2x - 1} = 1.5}}$"
   ]
  },
  {
   "cell_type": "code",
   "execution_count": 6,
   "metadata": {},
   "outputs": [
    {
     "data": {
      "image/png": "[encoded data removed]",
      "text/latex": [
       "$$\\left ( t^{4} - 3 t^{3}, \\quad t^{4} - 2 t^{3}\\right )$$"
      ],
      "text/plain": [
       "⎛ 4      3   4      3⎞\n",
       "⎝t  - 3⋅t , t  - 2⋅t ⎠"
      ]
     },
     "execution_count": 6,
     "metadata": {},
     "output_type": "execute_result"
    }
   ],
   "source": [
    "t = Symbol('t')\n",
    "expand((t - 1)**4 + (t - 1)**3 - 3 * (t - 1)**2 - 5 * (t - 1) - 2), expand((t - 1)**4 + 2 * (t - 1)**3 - 2 * (t - 1) - 1)"
   ]
  },
  {
   "cell_type": "code",
   "execution_count": 12,
   "metadata": {},
   "outputs": [
    {
     "data": {
      "image/png": "[encoded data removed]",
      "text/latex": [
       "$$\\frac{3}{2}$$"
      ],
      "text/plain": [
       "3/2"
      ]
     },
     "execution_count": 12,
     "metadata": {},
     "output_type": "execute_result"
    }
   ],
   "source": [
    "limit((t ** 4 - 3 * t ** 3)/( t** 4 - 2 * t ** 3), t, 0)"
   ]
  },
  {
   "cell_type": "code",
   "execution_count": 17,
   "metadata": {},
   "outputs": [],
   "source": [
    "x = Symbol('x')\n",
    "y = (x ** 4 + x ** 3 - 3 * x ** 2 - 5 * x - 2) / (x ** 4 + 2 * x ** 3 - 2 * x - 1)"
   ]
  },
  {
   "cell_type": "code",
   "execution_count": 18,
   "metadata": {},
   "outputs": [
    {
     "data": {
      "image/png": "[encoded data removed]",
      "text/latex": [
       "$$\\left ( \\left(x - 2\\right) \\left(x + 1\\right)^{3}, \\quad \\left(x - 1\\right) \\left(x + 1\\right)^{3}\\right )$$"
      ],
      "text/plain": [
       "⎛               3                 3⎞\n",
       "⎝(x - 2)⋅(x + 1) , (x - 1)⋅(x + 1) ⎠"
      ]
     },
     "execution_count": 18,
     "metadata": {},
     "output_type": "execute_result"
    }
   ],
   "source": [
    "factor(x ** 4 + x ** 3 - 3 * x ** 2 - 5 * x - 2), factor(x ** 4 + 2 * x ** 3 - 2 * x - 1)"
   ]
  },
  {
   "cell_type": "code",
   "execution_count": 31,
   "metadata": {},
   "outputs": [
    {
     "data": {
      "image/png": "[encoded data removed]",
      "text/latex": [
       "$$\\left ( x^{3} - 3 x - 2, \\quad x^{3} + x^{2} - x - 1\\right )$$"
      ],
      "text/plain": [
       "⎛ 3             3    2        ⎞\n",
       "⎝x  - 3⋅x - 2, x  + x  - x - 1⎠"
      ]
     },
     "execution_count": 31,
     "metadata": {},
     "output_type": "execute_result"
    }
   ],
   "source": [
    "simplify((x ** 4 + x ** 3 - 3 * x ** 2 - 5 * x - 2) / (x + 1)), simplify((x ** 4 + 2 * x ** 3 - 2 * x - 1) / (x + 1))"
   ]
  },
  {
   "cell_type": "code",
   "execution_count": 32,
   "metadata": {},
   "outputs": [
    {
     "data": {
      "image/png": "[encoded data removed]",
      "text/latex": [
       "$$\\left ( x^{2} - x - 2, \\quad x^{2} - 1\\right )$$"
      ],
      "text/plain": [
       "⎛ 2           2    ⎞\n",
       "⎝x  - x - 2, x  - 1⎠"
      ]
     },
     "execution_count": 32,
     "metadata": {},
     "output_type": "execute_result"
    }
   ],
   "source": [
    "simplify((x ** 3 - 3 * x - 2) / (x + 1)), simplify((x ** 3 +  x ** 2 - x - 1) / (x + 1))"
   ]
  },
  {
   "cell_type": "code",
   "execution_count": 19,
   "metadata": {},
   "outputs": [
    {
     "data": {
      "image/png": "[encoded data removed]",
      "text/latex": [
       "$$\\frac{3}{2}$$"
      ],
      "text/plain": [
       "3/2"
      ]
     },
     "execution_count": 19,
     "metadata": {},
     "output_type": "execute_result"
    }
   ],
   "source": [
    "limit(y, x, -1)"
   ]
  },
  {
   "cell_type": "code",
   "execution_count": 27,
   "metadata": {},
   "outputs": [
    {
     "data": {
      "image/png": "[encoded data removed]",
      "text/plain": [
       "<Figure size 432x288 with 1 Axes>"
      ]
     },
     "metadata": {},
     "output_type": "display_data"
    }
   ],
   "source": [
    "plot(y, 1.5, (x, -1.5, -0.5));"
   ]
  },
  {
   "cell_type": "markdown",
   "metadata": {},
   "source": [
    "## Типовой расчет №12\n",
    "\n",
    "Составить уравнение нормали и касательной к кривой, заданной параметрически, \n",
    "\n",
    "в точке, соответствующей значению параметра $t_0$.\n",
    "\n",
    "$\\large{\\displaystyle{\\begin {cases}\n",
    "x = \\ln tg \\ t, \\\\\n",
    "y = \\frac{1}{sin^2 t},\n",
    "\\end {cases}, \\ t_0 = \\frac{\\pi}{4} }}$"
   ]
  },
  {
   "cell_type": "markdown",
   "metadata": {},
   "source": [
    "## Решение"
   ]
  },
  {
   "cell_type": "code",
   "execution_count": null,
   "metadata": {},
   "outputs": [],
   "source": []
  },
  {
   "cell_type": "code",
   "execution_count": 41,
   "metadata": {},
   "outputs": [],
   "source": [
    "t = Symbol('t')\n",
    "x = log(tan(t))\n",
    "y = 1 / sin(t) ** 2"
   ]
  },
  {
   "cell_type": "code",
   "execution_count": 45,
   "metadata": {},
   "outputs": [
    {
     "data": {
      "image/png": "[encoded data removed]",
      "text/plain": [
       "<Figure size 432x288 with 1 Axes>"
      ]
     },
     "metadata": {},
     "output_type": "display_data"
    }
   ],
   "source": [
    "plot(x,y, (t, 0.1,0.9)); "
   ]
  },
  {
   "cell_type": "markdown",
   "metadata": {},
   "source": [
    "## Типовой расчет №13\n",
    "\n",
    "Найти наибольшее и наименьшее значения функции на заданном отрезке.\n",
    "\n",
    "$\\large{\\displaystyle{ y = \\frac{x - 1}{1 + x}, \\ x \\in \\big[0; 4\\big] }}$"
   ]
  },
  {
   "cell_type": "markdown",
   "metadata": {},
   "source": [
    "## Решение"
   ]
  },
  {
   "cell_type": "code",
   "execution_count": null,
   "metadata": {},
   "outputs": [],
   "source": []
  },
  {
   "cell_type": "code",
   "execution_count": 29,
   "metadata": {},
   "outputs": [],
   "source": [
    "x = Symbol('x')\n",
    "y = (x - 1) / (1 + x)"
   ]
  },
  {
   "cell_type": "code",
   "execution_count": 31,
   "metadata": {},
   "outputs": [
    {
     "data": {
      "image/png": "[encoded data removed]",
      "text/latex": [
       "$$- \\frac{x - 1}{\\left(x + 1\\right)^{2}} + \\frac{1}{x + 1}$$"
      ],
      "text/plain": [
       "   x - 1       1  \n",
       "- ──────── + ─────\n",
       "         2   x + 1\n",
       "  (x + 1)         "
      ]
     },
     "execution_count": 31,
     "metadata": {},
     "output_type": "execute_result"
    }
   ],
   "source": [
    "diff(y, x)"
   ]
  },
  {
   "cell_type": "code",
   "execution_count": 32,
   "metadata": {},
   "outputs": [
    {
     "data": {
      "image/png": "[encoded data removed]",
      "text/latex": [
       "$$\\left [ \\right ]$$"
      ],
      "text/plain": [
       "[]"
      ]
     },
     "execution_count": 32,
     "metadata": {},
     "output_type": "execute_result"
    }
   ],
   "source": [
    "solve(diff(y, x), 0)"
   ]
  },
  {
   "cell_type": "code",
   "execution_count": 30,
   "metadata": {},
   "outputs": [
    {
     "data": {
      "image/png": "[encoded data removed]",
      "text/plain": [
       "<Figure size 432x288 with 1 Axes>"
      ]
     },
     "metadata": {},
     "output_type": "display_data"
    }
   ],
   "source": [
    "plot(y, (x, 0, 4));"
   ]
  },
  {
   "cell_type": "markdown",
   "metadata": {},
   "source": [
    "## Типовой расчет №14\n",
    "\n",
    "Провести полное исследование функции и построить ее график.\n",
    "\n",
    "$\\large{\\displaystyle{ y = \\frac{4}{x^2 + 2 x - 3} }}$"
   ]
  },
  {
   "cell_type": "markdown",
   "metadata": {},
   "source": [
    "## Решение"
   ]
  },
  {
   "cell_type": "code",
   "execution_count": null,
   "metadata": {},
   "outputs": [],
   "source": []
  },
  {
   "cell_type": "code",
   "execution_count": 33,
   "metadata": {},
   "outputs": [],
   "source": [
    "x = Symbol('x')\n",
    "y = 4 / (x ** 2 + 2 * x - 3)"
   ]
  },
  {
   "cell_type": "code",
   "execution_count": 36,
   "metadata": {},
   "outputs": [
    {
     "data": {
      "image/png": "[encoded data removed]",
      "text/plain": [
       "<Figure size 432x288 with 1 Axes>"
      ]
     },
     "metadata": {},
     "output_type": "display_data"
    }
   ],
   "source": [
    "plot(y, (x, -0.9, 0.9));"
   ]
  },
  {
   "cell_type": "markdown",
   "metadata": {},
   "source": [
    "## Типовой расчет №15\n",
    "\n",
    "Провести полное исследование функции и построить ее график.\n",
    "\n",
    "$\\large{\\displaystyle{ y = (2 + x) e^{x - 4} }}$"
   ]
  },
  {
   "cell_type": "markdown",
   "metadata": {},
   "source": [
    "## Решение"
   ]
  },
  {
   "cell_type": "code",
   "execution_count": null,
   "metadata": {},
   "outputs": [],
   "source": []
  },
  {
   "cell_type": "code",
   "execution_count": 37,
   "metadata": {},
   "outputs": [],
   "source": [
    "x = Symbol('x')\n",
    "y = (2 + x) * E ** (x - 4)"
   ]
  },
  {
   "cell_type": "code",
   "execution_count": 40,
   "metadata": {},
   "outputs": [
    {
     "data": {
      "image/png": "[encoded data removed]",
      "text/plain": [
       "<Figure size 432x288 with 1 Axes>"
      ]
     },
     "metadata": {},
     "output_type": "display_data"
    }
   ],
   "source": [
    "plot(y, (x, -3, 3));"
   ]
  }
 ],
 "metadata": {
  "kernelspec": {
   "display_name": "Python 3",
   "language": "python",
   "name": "python3"
  },
  "language_info": {
   "codemirror_mode": {
    "name": "ipython",
    "version": 3
   },
   "file_extension": ".py",
   "mimetype": "text/x-python",
   "name": "python",
   "nbconvert_exporter": "python",
   "pygments_lexer": "ipython3",
   "version": "3.6.4"
  }
 },
 "nbformat": 4,
 "nbformat_minor": 2
}
