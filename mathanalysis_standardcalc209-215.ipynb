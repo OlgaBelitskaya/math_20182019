{
 "cells": [
  {
   "cell_type": "code",
   "execution_count": 3,
   "metadata": {},
   "outputs": [
    {
     "data": {
      "text/html": [
       "<style>\n",
       "@import url('https://fonts.googleapis.com/css?family=Roboto&effect=3d|brick-sign|');\n",
       "span {font-family:Roboto; color:black; text-shadow:4px 4px 4px #aaa;}  \n",
       "h1,h2 {font-family:Roboto; color:slategray; text-shadow:4px 4px 4px #aaa;} \n",
       "div.output_subarea, div.output_area pre{font-family:Roboto; font_size:120%; color:darkblue;}\n",
       "</style> "
      ],
      "text/plain": [
       "<IPython.core.display.HTML object>"
      ]
     },
     "metadata": {},
     "output_type": "display_data"
    }
   ],
   "source": [
    "%%html\n",
    "<style>\n",
    "@import url('https://fonts.googleapis.com/css?family=Roboto&effect=3d|brick-sign|');\n",
    "span {font-family:Roboto; color:black; text-shadow:4px 4px 4px #aaa;}  \n",
    "h1,h2 {font-family:Roboto; color:slategray; text-shadow:4px 4px 4px #aaa;} \n",
    "div.output_subarea, div.output_area pre{font-family:Roboto; font_size:120%; color:darkblue;}\n",
    "</style> "
   ]
  },
  {
   "cell_type": "code",
   "execution_count": 4,
   "metadata": {},
   "outputs": [],
   "source": [
    "import math, sympy, numpy\n",
    "from sympy import *\n",
    "sympy.init_printing(use_unicode=True)\n",
    "import pylab as plt\n",
    "%matplotlib inline"
   ]
  },
  {
   "cell_type": "markdown",
   "metadata": {},
   "source": [
    "[GeoGebra](https://www.geogebra.org/graphing?lang=en)\n",
    "\n",
    "[LaTeX/Mathematics](https://en.wikibooks.org/wiki/LaTeX/Mathematics)\n",
    "\n",
    "[ SymPy Modules Reference. Calculus](https://docs.sympy.org/latest/modules/calculus/index.html)\n",
    "\n",
    "[Sympy : Symbolic Mathematics in Python](https://www.scipy-lectures.org/advanced/sympy.html)"
   ]
  },
  {
   "cell_type": "markdown",
   "metadata": {},
   "source": [
    "# Вариант 22\n",
    "\n",
    "# Дифференцирование и приложения"
   ]
  },
  {
   "cell_type": "markdown",
   "metadata": {},
   "source": [
    "## Типовой расчет №9\n",
    "\n",
    "Найти производную $n$-ого порядка.\n",
    "\n",
    "$\\large{\\displaystyle{y = \\frac{2x - 4}{8x + 3} }}$"
   ]
  },
  {
   "cell_type": "markdown",
   "metadata": {},
   "source": [
    "## Решение\n",
    "\n",
    "$\\large{\\displaystyle{y ' = \\Bigg(\\frac{2x - 4}{8x + 3}\\Bigg) ' = \\frac{(2x - 4) ' (8x + 3) - (2x - 4) (8x + 3) '}{(8x + 3)^2} = }}$ \n",
    "\n",
    "\n",
    "$\\large{\\displaystyle{ = \\frac{2 (8x + 3) - 8(2x - 4)}{(8x + 3)^2} = \\frac{16x + 6 - 16x + 32}{(8x + 3)^2} = 38 * (8x + 3)^{-2} }}$ \n",
    "\n",
    "\n",
    "$\\large{\\displaystyle{y '' = \\Bigg(38 * (8x + 3)^{-2} \\Bigg) ' =  38 * (-2) * 8 * (8x + 3)^{-3} }}$\n",
    "\n",
    "\n",
    "$\\large{\\displaystyle{y ''' = \\Bigg(38 * (-2) * 8 * (8x + 3)^{-3} \\Bigg) ' =  38 * 6 * 8^2 * (8x + 3)^{-4} }}$\n",
    "\n",
    "$...$\n",
    "\n",
    "$\\large{\\displaystyle{y ^{(n)} = 38 * (-1)^{n-1} * n! * 8^{n - 1} *(8x + 3)^{-n - 1}   }}$"
   ]
  },
  {
   "cell_type": "markdown",
   "metadata": {},
   "source": [
    "## Ответ\n",
    "\n",
    "$\\large{\\displaystyle{y ^{(n)} = 38 * (-1)^{n-1} * n! * 8^{n - 1} *(8x + 3)^{-n - 1}   }}$"
   ]
  },
  {
   "cell_type": "code",
   "execution_count": 5,
   "metadata": {},
   "outputs": [],
   "source": [
    "x = Symbol('x')\n",
    "y = (2 * x - 4) / (8 * x + 3)"
   ]
  },
  {
   "cell_type": "code",
   "execution_count": 6,
   "metadata": {},
   "outputs": [
    {
     "data": {
      "image/png": "[encoded data removed]",
      "text/latex": [
       "$$\\left ( - \\frac{8 \\left(2 x - 4\\right)}{\\left(8 x + 3\\right)^{2}} + \\frac{2}{8 x + 3}, \\quad \\frac{128 \\left(2 x - 4\\right)}{\\left(8 x + 3\\right)^{3}} - \\frac{32}{\\left(8 x + 3\\right)^{2}}, \\quad - \\frac{3072 \\left(2 x - 4\\right)}{\\left(8 x + 3\\right)^{4}} + \\frac{768}{\\left(8 x + 3\\right)^{3}}\\right )$$"
      ],
      "text/plain": [
       "⎛  8⋅(2⋅x - 4)      2     128⋅(2⋅x - 4)       32        3072⋅(2⋅x - 4)      76\n",
       "⎜- ─────────── + ───────, ───────────── - ──────────, - ────────────── + ─────\n",
       "⎜            2   8⋅x + 3             3             2               4          \n",
       "⎝   (8⋅x + 3)               (8⋅x + 3)     (8⋅x + 3)       (8⋅x + 3)      (8⋅x \n",
       "\n",
       "8    ⎞\n",
       "─────⎟\n",
       "    3⎟\n",
       "+ 3) ⎠"
      ]
     },
     "execution_count": 6,
     "metadata": {},
     "output_type": "execute_result"
    }
   ],
   "source": [
    "diff(y, x), diff(diff(y, x), x), diff(diff(diff(y, x), x), x)"
   ]
  },
  {
   "cell_type": "code",
   "execution_count": 18,
   "metadata": {},
   "outputs": [
    {
     "data": {
      "image/png": "[encoded data removed]",
      "text/plain": [
       "<Figure size 432x288 with 1 Axes>"
      ]
     },
     "metadata": {},
     "output_type": "display_data"
    }
   ],
   "source": [
    "plot(diff(y, x), 38 * (8 * x + 3) ** (-2), \n",
    "     diff(diff(y, x), x), 38 * (-2) * 8 * (8 * x + 3) ** (-3),\n",
    "     diff(diff(diff(y, x), x), x), 38 * 6 * 8 ** 2 * (8 * x + 3) ** (-4), \n",
    "     (x,0,1));"
   ]
  },
  {
   "cell_type": "markdown",
   "metadata": {},
   "source": [
    "## Типовой расчет №10\n",
    "\n",
    "Вычислить предел функции.\n",
    "\n",
    "$\\large{\\displaystyle{ \\lim_{ x \\to 0}  \\frac{4 \\ tg \\ 3 x - 3 \\ tg \\ 4x}{7x - sin \\ 7x} }}$"
   ]
  },
  {
   "cell_type": "code",
   "execution_count": null,
   "metadata": {},
   "outputs": [],
   "source": []
  },
  {
   "cell_type": "code",
   "execution_count": null,
   "metadata": {},
   "outputs": [],
   "source": []
  },
  {
   "cell_type": "code",
   "execution_count": null,
   "metadata": {},
   "outputs": [],
   "source": []
  },
  {
   "cell_type": "markdown",
   "metadata": {},
   "source": [
    "## Типовой расчет №11\n",
    "\n",
    "Вычислить предел функции.\n",
    "\n",
    "$\\large{\\displaystyle{ \\lim_{ x \\to 0}  \\frac{x^4 + x^3 - 3x^2 - 5x - 2}{x^4 + 2x^3 - 2x - 1} }}$"
   ]
  },
  {
   "cell_type": "code",
   "execution_count": null,
   "metadata": {},
   "outputs": [],
   "source": []
  },
  {
   "cell_type": "code",
   "execution_count": null,
   "metadata": {},
   "outputs": [],
   "source": []
  },
  {
   "cell_type": "code",
   "execution_count": null,
   "metadata": {},
   "outputs": [],
   "source": []
  }
 ],
 "metadata": {
  "kernelspec": {
   "display_name": "Python 3",
   "language": "python",
   "name": "python3"
  },
  "language_info": {
   "codemirror_mode": {
    "name": "ipython",
    "version": 3
   },
   "file_extension": ".py",
   "mimetype": "text/x-python",
   "name": "python",
   "nbconvert_exporter": "python",
   "pygments_lexer": "ipython3",
   "version": "3.6.4"
  }
 },
 "nbformat": 4,
 "nbformat_minor": 2
}
