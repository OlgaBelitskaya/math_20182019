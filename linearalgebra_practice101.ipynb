{
 "cells": [
  {
   "cell_type": "markdown",
   "metadata": {},
   "source": [
    "# Типовой расчет 1 / Standard Calculation 1"
   ]
  },
  {
   "cell_type": "code",
   "execution_count": 1,
   "metadata": {},
   "outputs": [
    {
     "data": {
      "text/html": [
       "<style>\n",
       "@import url('https://fonts.googleapis.com/css?family=Roboto&effect=3d|brick-sign|');\n",
       "span {font-family:Roboto; color:black; text-shadow:4px 4px 4px #aaa;}  \n",
       "h1,h2 {font-family:Roboto; color:slategray; text-shadow:4px 4px 4px #aaa;} \n",
       "div.output_subarea, div.output_area pre{font-family:Roboto; font_size:120%; color:darkblue;}\n",
       "</style> "
      ],
      "text/plain": [
       "<IPython.core.display.HTML object>"
      ]
     },
     "metadata": {},
     "output_type": "display_data"
    }
   ],
   "source": [
    "%%html\n",
    "<style>\n",
    "@import url('https://fonts.googleapis.com/css?family=Roboto&effect=3d|brick-sign|');\n",
    "span {font-family:Roboto; color:black; text-shadow:4px 4px 4px #aaa;}  \n",
    "h1,h2 {font-family:Roboto; color:slategray; text-shadow:4px 4px 4px #aaa;} \n",
    "div.output_subarea, div.output_area pre{font-family:Roboto; font_size:120%; color:darkblue;}\n",
    "</style> "
   ]
  },
  {
   "cell_type": "markdown",
   "metadata": {},
   "source": [
    "## Постановка  задачи / Formulation of the problem:"
   ]
  },
  {
   "cell_type": "code",
   "execution_count": 8,
   "metadata": {},
   "outputs": [
    {
     "data": {
      "text/latex": [
       "$ \n",
       "G = \\alpha * A * B^T \\ + \\ \\beta * C * D; \\\\\n",
       "\\\\\n",
       "\\alpha = 2, \\ \\beta = -5, \\\\ \n",
       "\n",
       "A_{(2,3)} = \n",
       " \\begin{pmatrix}\n",
       "-3 & -3 & -6 \\\\\n",
       "-4 & -7 & 8 \\\\\n",
       " \\end{pmatrix}, \\ \n",
       "\n",
       "B_{(4,3)} = \n",
       " \\begin{pmatrix}\n",
       "2 & 8 & 7 \\\\\n",
       "-5 & -6 & -2 \\\\\n",
       "-8 & 4 & -8 \\\\\n",
       "7 & 4 & -6 \\\\\n",
       " \\end{pmatrix}, \\ \n",
       "\n",
       "C_{(2,2)} = \n",
       " \\begin{pmatrix}\n",
       "-2 & -4 \\\\\n",
       "3 & -5 \\\\\n",
       " \\end{pmatrix}, \\ \n",
       "\n",
       "D_{(2,4)} = \n",
       " \\begin{pmatrix}\n",
       "-2 & -3 & -1 & 3 \\\\\n",
       "-2 & -9 & 8 & 9 \\\\\n",
       " \\end{pmatrix}.\n",
       "$"
      ],
      "text/plain": [
       "<IPython.core.display.Latex object>"
      ]
     },
     "metadata": {},
     "output_type": "display_data"
    }
   ],
   "source": [
    "%%latex\n",
    "$ \n",
    "G = \\alpha * A * B^T \\ + \\ \\beta * C * D; \\\\\n",
    "\\\\\n",
    "\\alpha = 2, \\ \\beta = -5, \\\\ \n",
    "\n",
    "A_{(2,3)} = \n",
    " \\begin{pmatrix}\n",
    "-3 & -3 & -6 \\\\\n",
    "-4 & -7 & 8 \\\\\n",
    " \\end{pmatrix}, \\ \n",
    "\n",
    "B_{(4,3)} = \n",
    " \\begin{pmatrix}\n",
    "2 & 8 & 7 \\\\\n",
    "-5 & -6 & -2 \\\\\n",
    "-8 & 4 & -8 \\\\\n",
    "7 & 4 & -6 \\\\\n",
    " \\end{pmatrix}, \\ \n",
    "\n",
    "C_{(2,2)} = \n",
    " \\begin{pmatrix}\n",
    "-2 & -4 \\\\\n",
    "3 & -5 \\\\\n",
    " \\end{pmatrix}, \\ \n",
    "\n",
    "D_{(2,4)} = \n",
    " \\begin{pmatrix}\n",
    "-2 & -3 & -1 & 3 \\\\\n",
    "-2 & -9 & 8 & 9 \\\\\n",
    " \\end{pmatrix}.\n",
    "$"
   ]
  },
  {
   "cell_type": "markdown",
   "metadata": {},
   "source": [
    "## Решение / Decisions:"
   ]
  },
  {
   "cell_type": "code",
   "execution_count": 9,
   "metadata": {},
   "outputs": [],
   "source": [
    "import sympy\n",
    "sympy.init_printing(use_unicode=True)"
   ]
  },
  {
   "cell_type": "code",
   "execution_count": 10,
   "metadata": {},
   "outputs": [],
   "source": [
    "α, β = 2, -5\n",
    "A = sympy.Matrix([[-3, -3, -6], [-4, -7, 8]])\n",
    "B = sympy.Matrix([[2, 8, 7], [-5, -6, -2], [-8, 4, -8], [7, 4, -6]])\n",
    "C = sympy.Matrix([[-2, -4], [3, -5]])\n",
    "D = sympy.Matrix([[-2, -3, -1, 3], [-2, -9, 8, 9]])"
   ]
  },
  {
   "cell_type": "code",
   "execution_count": 11,
   "metadata": {},
   "outputs": [
    {
     "data": {
      "image/png": "[encoded data removed]",
      "text/latex": [
       "$$\\left[\\begin{matrix}2 & -5 & -8 & 7\\\\8 & -6 & 4 & 4\\\\7 & -2 & -8 & -6\\end{matrix}\\right]$$"
      ],
      "text/plain": [
       "⎡2  -5  -8  7 ⎤\n",
       "⎢             ⎥\n",
       "⎢8  -6  4   4 ⎥\n",
       "⎢             ⎥\n",
       "⎣7  -2  -8  -6⎦"
      ]
     },
     "execution_count": 11,
     "metadata": {},
     "output_type": "execute_result"
    }
   ],
   "source": [
    "B.transpose()"
   ]
  },
  {
   "cell_type": "code",
   "execution_count": 12,
   "metadata": {},
   "outputs": [
    {
     "data": {
      "image/png": "[encoded data removed]",
      "text/latex": [
       "$$\\left[\\begin{matrix}-72 & 45 & 60 & 3\\\\-8 & 46 & -60 & -104\\end{matrix}\\right]$$"
      ],
      "text/plain": [
       "⎡-72  45  60    3  ⎤\n",
       "⎢                  ⎥\n",
       "⎣-8   46  -60  -104⎦"
      ]
     },
     "execution_count": 12,
     "metadata": {},
     "output_type": "execute_result"
    }
   ],
   "source": [
    "A * B.transpose()"
   ]
  },
  {
   "cell_type": "code",
   "execution_count": 13,
   "metadata": {},
   "outputs": [
    {
     "data": {
      "image/png": "[encoded data removed]",
      "text/latex": [
       "$$\\left[\\begin{matrix}-144 & 90 & 120 & 6\\\\-16 & 92 & -120 & -208\\end{matrix}\\right]$$"
      ],
      "text/plain": [
       "⎡-144  90  120    6  ⎤\n",
       "⎢                    ⎥\n",
       "⎣-16   92  -120  -208⎦"
      ]
     },
     "execution_count": 13,
     "metadata": {},
     "output_type": "execute_result"
    }
   ],
   "source": [
    "α * A * B.transpose()"
   ]
  },
  {
   "cell_type": "code",
   "execution_count": 14,
   "metadata": {},
   "outputs": [
    {
     "data": {
      "image/png": "[encoded data removed]",
      "text/latex": [
       "$$\\left[\\begin{matrix}12 & 42 & -30 & -42\\\\4 & 36 & -43 & -36\\end{matrix}\\right]$$"
      ],
      "text/plain": [
       "⎡12  42  -30  -42⎤\n",
       "⎢                ⎥\n",
       "⎣4   36  -43  -36⎦"
      ]
     },
     "execution_count": 14,
     "metadata": {},
     "output_type": "execute_result"
    }
   ],
   "source": [
    "C * D"
   ]
  },
  {
   "cell_type": "code",
   "execution_count": 15,
   "metadata": {},
   "outputs": [
    {
     "data": {
      "image/png": "[encoded data removed]",
      "text/latex": [
       "$$\\left[\\begin{matrix}-60 & -210 & 150 & 210\\\\-20 & -180 & 215 & 180\\end{matrix}\\right]$$"
      ],
      "text/plain": [
       "⎡-60  -210  150  210⎤\n",
       "⎢                   ⎥\n",
       "⎣-20  -180  215  180⎦"
      ]
     },
     "execution_count": 15,
     "metadata": {},
     "output_type": "execute_result"
    }
   ],
   "source": [
    "β * C * D"
   ]
  },
  {
   "cell_type": "code",
   "execution_count": 16,
   "metadata": {},
   "outputs": [
    {
     "data": {
      "image/png": "[encoded data removed]",
      "text/latex": [
       "$$\\left[\\begin{matrix}-204 & -120 & 270 & 216\\\\-36 & -88 & 95 & -28\\end{matrix}\\right]$$"
      ],
      "text/plain": [
       "⎡-204  -120  270  216⎤\n",
       "⎢                    ⎥\n",
       "⎣-36   -88   95   -28⎦"
      ]
     },
     "execution_count": 16,
     "metadata": {},
     "output_type": "execute_result"
    }
   ],
   "source": [
    "G = α * A * B.transpose() + β * C * D\n",
    "G"
   ]
  }
 ],
 "metadata": {
  "kernelspec": {
   "display_name": "Python 3",
   "language": "python",
   "name": "python3"
  },
  "language_info": {
   "codemirror_mode": {
    "name": "ipython",
    "version": 3
   },
   "file_extension": ".py",
   "mimetype": "text/x-python",
   "name": "python",
   "nbconvert_exporter": "python",
   "pygments_lexer": "ipython3",
   "version": "3.6.4"
  }
 },
 "nbformat": 4,
 "nbformat_minor": 2
}
