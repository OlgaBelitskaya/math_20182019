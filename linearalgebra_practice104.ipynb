{
 "cells": [
  {
   "cell_type": "code",
   "execution_count": 1,
   "metadata": {},
   "outputs": [
    {
     "data": {
      "text/html": [
       "<style>\n",
       "@import url('https://fonts.googleapis.com/css?family=Roboto&effect=3d|brick-sign|');\n",
       "span {font-family:Roboto; color:black; text-shadow:4px 4px 4px #aaa;}  \n",
       "h1,h2 {font-family:Roboto; color:slategray; text-shadow:4px 4px 4px #aaa;} \n",
       "div.output_subarea, div.output_area pre{font-family:Roboto; font_size:120%; color:darkblue;}\n",
       "</style> "
      ],
      "text/plain": [
       "<IPython.core.display.HTML object>"
      ]
     },
     "metadata": {},
     "output_type": "display_data"
    }
   ],
   "source": [
    "%%html\n",
    "<style>\n",
    "@import url('https://fonts.googleapis.com/css?family=Roboto&effect=3d|brick-sign|');\n",
    "span {font-family:Roboto; color:black; text-shadow:4px 4px 4px #aaa;}  \n",
    "h1,h2 {font-family:Roboto; color:slategray; text-shadow:4px 4px 4px #aaa;} \n",
    "div.output_subarea, div.output_area pre{font-family:Roboto; font_size:120%; color:darkblue;}\n",
    "</style> "
   ]
  },
  {
   "cell_type": "code",
   "execution_count": 2,
   "metadata": {},
   "outputs": [],
   "source": [
    "import math, sympy, numpy\n",
    "sympy.init_printing(use_unicode=True)\n",
    "from sympy import *\n",
    "import pylab as plt\n",
    "%matplotlib inline"
   ]
  },
  {
   "cell_type": "markdown",
   "metadata": {},
   "source": [
    "[Computer Algebra I: Mathematica, SymPy, Sage, Maxima](http://hyperpolyglot.org/computer-algebra2)\n",
    "\n",
    "[Sympy. Matrices](https://docs.sympy.org/latest/tutorial/matrices.html)"
   ]
  },
  {
   "cell_type": "markdown",
   "metadata": {},
   "source": [
    "# Типовой расчет 4 / Standard Calculation 4"
   ]
  },
  {
   "cell_type": "markdown",
   "metadata": {},
   "source": [
    "## Постановка  задачи / Formulation of the problem:\n",
    "Найти ранг данной матрицы методом Гаусса\n",
    "\n",
    "$\\begin{pmatrix}\n",
    "-1 & -1 & 2 & -3 & -1 & 1 \\\\\n",
    "1 & -2 & -1 & -3 & 1 & -1 \\\\\n",
    "-2 & -1 & -2 & -1 & -3 & 1 \\\\\n",
    "-3 & -1 & -1 & 1 & -1 & 1 \\\\\n",
    "-3 & -3 & -3 & -3 & -1 & 1\n",
    "\\end{pmatrix}$"
   ]
  },
  {
   "cell_type": "markdown",
   "metadata": {},
   "source": [
    "Решение.\n",
    "\n",
    "Приводим матрицу к ступенчатому виду.\n",
    "  \n",
    "Ко 2-ой стоке прибавим 1-ую, из 3-ей, 4-ой и 5-ой вычтем 1-ую:\n",
    " \n",
    "$\\begin{pmatrix}\n",
    "-1 & -1 & 2 & -3 & -1 & 1 \\\\\n",
    "1 & -2 & -1 & -3 & 1 & -1 \\\\  \n",
    " -2 & -1 & -2 & -1 & -3 & 1 \\\\\n",
    " -3 & -1 & -1 & 1 & -1 & 1 \\\\\n",
    " -3 & -3 & -3 & -3 & -1 & 1\n",
    "\\end{pmatrix} = \n",
    "\\begin{pmatrix}\n",
    "-1 & -1 & 2 & -3 & -1 & 1 \\\\\n",
    "0 & -3 & 1 & -6 & 0 & 0 \\\\\n",
    " -1 & 0 & -4 & 2 & -2 & 0 \\\\\n",
    " -4 & 0 & -3 & 4 & 0 & 0 \\\\\n",
    " -2 & -2 & -5 & 0 & 0 & 0\n",
    "\\end{pmatrix}$\n",
    "\n",
    "Из 1-ого столбца вычтем 2-ой, к 4-му столбцу прибавим 5-ый:\n",
    "\n",
    "$\\begin{pmatrix}\n",
    "-1 & -1 & 2 & -3 & -1 & 1 \\\\\n",
    "0 & -3 & 1 & -6 & 0 & 0 \\\\\n",
    " -1 & 0 & -4 & 2 & -2 & 0 \\\\\n",
    " -4 & 0 & -3 & 4 & 0 & 0 \\\\\n",
    " -2 & -2 & -5 & 0 & 0 & 0\n",
    "\\end{pmatrix} = \n",
    "\\begin{pmatrix}\n",
    "0 & -1 & 2 & -4 & -1 & 1 \\\\\n",
    "3 & -3 & 1 & -6 & 0 & 0 \\\\\n",
    " -1 & 0 & -4 & 0 & -2 & 0 \\\\\n",
    " -4 & 0 & -3 & 4 & 0 & 0 \\\\\n",
    " 0 & -2 & -5 & 0 & 0 & 0\n",
    "\\end{pmatrix}$\n",
    "\n",
    "Ко 2 и 5-му столбцу прибавим 6-ой, разделим 4-ый на 2 и прибавим к 3-му:\n",
    "\n",
    "$\\begin{pmatrix}\n",
    "0 & -1 & 2 & -4 & -1 & 1 \\\\\n",
    "3 & -3 & 1 & -6 & 0 & 0 \\\\\n",
    " -1 & 0 & -4 & 0 & -2 & 0 \\\\\n",
    " -4 & 0 & -3 & 4 & 0 & 0 \\\\\n",
    " 0 & -2 & -5 & 0 & 0 & 0\n",
    "\\end{pmatrix} = \n",
    "\\begin{pmatrix}\n",
    "0 & 0 & 0 & -4 & 0 & 1 \\\\\n",
    "3 & -3 & -2 & -6 & 0 & 0 \\\\\n",
    " -1 & 0 & -4 & 0 & -2 & 0 \\\\\n",
    " -4 & 0 & -1 & 4 & 0 & 0 \\\\\n",
    " 0 & -2 & -5 & 0 & 0 & 0\n",
    "\\end{pmatrix}$\n",
    "\n",
    "Умножим 6-й столбец на 4 и прибавим к 4-му, \n",
    "\n",
    "умножим 5-й столбец на 2 и вычтем из 3-его,\n",
    "\n",
    "умножим 1-ый столбец на -2 и сложим с 5-ым:\n",
    "\n",
    "$\\begin{pmatrix}\n",
    "0 & 0 & 0 & -4 & 0 & 1 \\\\\n",
    "3 & -3 & -2 & -6 & 0 & 0 \\\\\n",
    " -1 & 0 & -4 & 0 & -2 & 0 \\\\\n",
    " -4 & 0 & -1 & 4 & 0 & 0 \\\\\n",
    " 0 & -2 & -5 & 0 & 0 & 0\n",
    "\\end{pmatrix} = \n",
    "\\begin{pmatrix}\n",
    "0 & 0 & 0 & 0 & 0 & 1 \\\\\n",
    "-6 & -3 & -2 & -6 & 0 & 0 \\\\\n",
    " 0 & 0 & 0 & 0 & -2 & 0 \\\\\n",
    " 8 & 0 & -1 & 4 & 0 & 0 \\\\\n",
    " 0 & -2 & -5 & 0 & 0 & 0\n",
    "\\end{pmatrix}$\n",
    "\n",
    "Из 1-ого стоблца вычтем 4-ый, \n",
    "\n",
    "2-й столбец умножим на 2  и вычтем из 3-его, умноженного на 3:\n",
    "\n",
    "$\\begin{pmatrix}\n",
    "0 & 0 & 0 & 0 & 0 & 1 \\\\\n",
    "-6 & -3 & -2 & -6 & 0 & 0 \\\\\n",
    " 0 & 0 & 0 & 0 & -2 & 0 \\\\\n",
    " 8 & 0 & -1 & 4 & 0 & 0 \\\\\n",
    " 0 & -2 & -5 & 0 & 0 & 0\n",
    "\\end{pmatrix} = \n",
    "\\begin{pmatrix}\n",
    "0 & 0 & 0 & 0 & 0 & 1 \\\\\n",
    "0 & -6 & 0 & -6 & 0 & 0 \\\\\n",
    " 0 & 0 & 0 & 0 & -2 & 0 \\\\\n",
    " 4 & 0 & -3 & 4 & 0 & 0 \\\\\n",
    " 0 & -4 & -11 & 0 & 0 & 0\n",
    "\\end{pmatrix}$\n",
    "\n",
    "Из 4-ого столбца вычтем 1-ый, \n",
    "\n",
    "1-ый умножим на -3, 3-й умножим на 4 и сложим:\n",
    "\n",
    "$\\begin{pmatrix}\n",
    "0 & 0 & 0 & 0 & 0 & 1 \\\\\n",
    "0 & -6 & 0 & -6 & 0 & 0 \\\\\n",
    " 0 & 0 & 0 & 0 & -2 & 0 \\\\\n",
    " 4 & 0 & -3 & 4 & 0 & 0 \\\\\n",
    " 0 & -4 & -11 & 0 & 0 & 0\n",
    "\\end{pmatrix} = \n",
    "\\begin{pmatrix}\n",
    "0 & 0 & 0 & 0 & 0 & 1 \\\\\n",
    "0 & -6 & 0 & -6 & 0 & 0 \\\\\n",
    " 0 & 0 & 0 & 0 & -2 & 0 \\\\\n",
    "12 & 0 & 0 & 0 & 0 & 0 \\\\\n",
    " 0 & -4 & -44 & 0 & 0 & 0\n",
    "\\end{pmatrix}$\n",
    "\n",
    "Поделим 3-й столбец на 11 и вычтем из 2-ого:\n",
    "\n",
    "$\\begin{pmatrix}\n",
    "0 & 0 & 0 & 0 & 0 & 1 \\\\\n",
    "0 & -6 & 0 & -6 & 0 & 0 \\\\\n",
    " 0 & 0 & 0 & 0 & -2 & 0 \\\\\n",
    " 4 & 0 & -3 & 4 & 0 & 0 \\\\\n",
    " 0 & -4 & -11 & 0 & 0 & 0\n",
    "\\end{pmatrix} = \n",
    "\\begin{pmatrix}\n",
    "0 & 0 & 0 & 0 & 0 & 1 \\\\\n",
    "0 & -6 & 0 & -6 & 0 & 0 \\\\\n",
    " 0 & 0 & 0 & 0 & -2 & 0 \\\\\n",
    "12 & 0 & 0 & 0 & 0 & 0 \\\\\n",
    " 0 & 0 & -44 & 0 & 0 & 0\n",
    "\\end{pmatrix}$\n",
    "\n",
    "2-й и 4-й столбцы линейно зависимы, 1-й, 2-й, 3-й, 5-й и 6-й - линейно независимы.\n",
    "\n",
    "Ранг матрицы равен 5."
   ]
  },
  {
   "cell_type": "code",
   "execution_count": 5,
   "metadata": {},
   "outputs": [
    {
     "data": {
      "image/png": "[encoded data removed]",
      "text/latex": [
       "$$\\left[\\begin{matrix}-1 & -1 & 2 & -3 & -1 & 1\\\\1 & -2 & -1 & -3 & 1 & -1\\\\-2 & -1 & -2 & -1 & -3 & 1\\\\-3 & -1 & -1 & 1 & -1 & 1\\\\-3 & -3 & -3 & -3 & -1 & 1\\end{matrix}\\right]$$"
      ],
      "text/plain": [
       "⎡-1  -1  2   -3  -1  1 ⎤\n",
       "⎢                      ⎥\n",
       "⎢1   -2  -1  -3  1   -1⎥\n",
       "⎢                      ⎥\n",
       "⎢-2  -1  -2  -1  -3  1 ⎥\n",
       "⎢                      ⎥\n",
       "⎢-3  -1  -1  1   -1  1 ⎥\n",
       "⎢                      ⎥\n",
       "⎣-3  -3  -3  -3  -1  1 ⎦"
      ]
     },
     "execution_count": 5,
     "metadata": {},
     "output_type": "execute_result"
    }
   ],
   "source": [
    "A = sympy.Matrix([[-1,-1, 2,-3 ,-1,1],[1,-2,-1,-3,1,-1],[-2,-1,-2,-1,-3,1],[-3,-1,-1,1,-1,1],[-3 ,-3 ,-3,-3,-1,1]])\n",
    "A"
   ]
  },
  {
   "cell_type": "code",
   "execution_count": 11,
   "metadata": {},
   "outputs": [
    {
     "data": {
      "image/png": "[encoded data removed]",
      "text/latex": [
       "$$5$$"
      ],
      "text/plain": [
       "5"
      ]
     },
     "execution_count": 11,
     "metadata": {},
     "output_type": "execute_result"
    }
   ],
   "source": [
    "A.rank()"
   ]
  },
  {
   "cell_type": "code",
   "execution_count": 14,
   "metadata": {},
   "outputs": [
    {
     "name": "stdout",
     "output_type": "stream",
     "text": [
      "[[-1 -1  2 -3 -1  1]\n",
      " [ 1 -2 -1 -3  1 -1]\n",
      " [-2 -1 -2 -1 -3  1]\n",
      " [-3 -1 -1  1 -1  1]\n",
      " [-3 -3 -3 -3 -1  1]]\n"
     ]
    }
   ],
   "source": [
    "a = numpy.matrix([[-1,-1, 2,-3 ,-1,1],[1,-2,-1,-3,1,-1],[-2,-1,-2,-1,-3,1],[-3,-1,-1,1,-1,1],[-3 ,-3 ,-3,-3,-1,1]])\n",
    "print (a)"
   ]
  },
  {
   "cell_type": "code",
   "execution_count": 16,
   "metadata": {},
   "outputs": [
    {
     "data": {
      "text/plain": [
       "5"
      ]
     },
     "execution_count": 16,
     "metadata": {},
     "output_type": "execute_result"
    }
   ],
   "source": [
    "numpy.linalg.matrix_rank(a)"
   ]
  }
 ],
 "metadata": {
  "kernelspec": {
   "display_name": "Python 3",
   "language": "python",
   "name": "python3"
  },
  "language_info": {
   "codemirror_mode": {
    "name": "ipython",
    "version": 3
   },
   "file_extension": ".py",
   "mimetype": "text/x-python",
   "name": "python",
   "nbconvert_exporter": "python",
   "pygments_lexer": "ipython3",
   "version": "3.6.4"
  }
 },
 "nbformat": 4,
 "nbformat_minor": 2
}
