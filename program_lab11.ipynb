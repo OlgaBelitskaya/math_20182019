{
 "cells": [
  {
   "cell_type": "markdown",
   "metadata": {},
   "source": [
    "# Спецификация к Лабораторной работе №11 \n",
    "\n",
    "# Процедуры и функции. \n",
    "# Поиск экстремума среди трех значений\n",
    "# (Вариант 22)\n",
    "\n",
    "## Абстракция А0\n",
    "### 1. Постановка задачи.\n",
    "#### Задание: \n",
    "Написать две программы обработки трех двухмерных массивов.\n",
    "\n",
    "В первой версии программы использовать только процедуры общего вида. \n",
    "\n",
    "Во второй версии программы должна быть хотя бы одна функция. \n",
    "\n",
    "#### Условие: \n",
    "Найти сумму элементов для каждой из трех матриц.\n",
    "\n",
    "Для каждой из матриц сформировать одномерный массив, \n",
    "\n",
    "авный по длине количеству строк матрицы и содержащий значения 0 или 1:\n",
    "\n",
    "- 1, если в соответствующей строке элемент на главной диагонали больше других элементов этой строки;\n",
    "\n",
    "- 0, если это условие для данной строки не выполняется.\n",
    "\n",
    "Определить матрицу с максимальной суммой элементов."
   ]
  },
  {
   "cell_type": "markdown",
   "metadata": {},
   "source": [
    "### 2. Уточненная постановка задачи.\n",
    "Даны матрицы $A, B, C$ с размерностями $n_A \\times n_A, \\ n_B \\times n_B, \\ n_C \\times n_C$ .\n",
    "\n",
    "Получить три массива $\\{X_1, X_2, ..., X_{n_A}\\}, \\{X_1, X_2, ..., X_{n_B}\\}, \\{X_1, X_2, ..., X_{n_C}\\}$ по правилу:\n",
    "    \n",
    "$\\large{\\displaystyle{X_i = \\begin{cases}\n",
    "1, \\ Y_{ii} > Y_{ij}, \\ \\forall j: 0<j<n_Y+1 \\land j \\neq i\\\\\n",
    "0, \\ Y_{ii} \\leq Y_{ij}, \\ \\forall j: 0<j<n_Y+1 \\land j \\neq i\\\\\n",
    "\\end{cases}, \\ \\forall i: 0<i<n_Y+1, \\ \\forall Y \\in \\{A, B, C\\} }}$\n",
    "\n",
    "Найти $\\large{\\displaystyle{S_Y = \\sum_{\\substack{0<i<n_Y+1 \\\\ 0<j<n_Y+1}} Y_{ij}, \\ \\forall Y \\in \\{A, B, C\\} }}$"
   ]
  },
  {
   "cell_type": "markdown",
   "metadata": {},
   "source": [
    "### 3. Пример с иллюстрацией."
   ]
  },
  {
   "cell_type": "code",
   "execution_count": 3,
   "metadata": {},
   "outputs": [],
   "source": [
    "import numpy\n",
    "import pylab \n",
    "%matplotlib inline\n",
    "pylab.style.use('seaborn-whitegrid')"
   ]
  },
  {
   "cell_type": "code",
   "execution_count": 34,
   "metadata": {},
   "outputs": [],
   "source": [
    "def write_txt(file_name, A, B, C):\n",
    "    with open(file_name, 'w') as f:\n",
    "        for Y in [A, B, C]:\n",
    "            f.write(\"{}\\n\".format(Y.shape[0]))\n",
    "            for i in range(Y.shape[0]):\n",
    "                f.write(\"{}\\n\".format(Y[i]))\n",
    "                \n",
    "def read_txt(file_name):\n",
    "    with open(file_name, 'r') as f:\n",
    "        Y = f.readlines()\n",
    "    NA = int(Y[0]); NB = int(Y[NA+1]); NC = int(Y[NA+NB+2])\n",
    "    A = [x[1:-2].split() for x in Y[1:NA+1]]\n",
    "    A = [[int(x) for x in A[i]] for i in range(NA)]\n",
    "    B = [x[1:-2].split() for x in Y[NA+2:NA+NB+2]]\n",
    "    B = [[int(x) for x in B[i]] for i in range(NB)]\n",
    "    C = [x[1:-2].split() for x in Y[NA+NB+3:]]\n",
    "    C = [[int(x) for x in C[i]] for i in range(NC)]\n",
    "    return (NA, NB, NC, A, B, C)"
   ]
  },
  {
   "cell_type": "code",
   "execution_count": 35,
   "metadata": {},
   "outputs": [
    {
     "name": "stdout",
     "output_type": "stream",
     "text": [
      "\n",
      " [[ -66   29   -2    6  -99]\n",
      " [  92   43 -100   97   -5]\n",
      " [  72  -52  -65   33  -26]\n",
      " [  82  -49  -79  -55  -14]\n",
      " [ -44   53  -19  -29   42]] \n",
      "\n",
      " [[-34  -9 -97  48]\n",
      " [-63 -21  47   0]\n",
      " [ 20  92  18  18]\n",
      " [-80 -76 -26  25]] \n",
      "\n",
      " [[ 50  47 -25  34 -15]\n",
      " [-50  57 -20  71  70]\n",
      " [ -7  96  66 -89 -46]\n",
      " [ 93 -39   1  64  27]\n",
      " [ 51  45 -95 -55  80]]\n"
     ]
    }
   ],
   "source": [
    "A1 = numpy.random.randint(-100, 100, size=(5,5))\n",
    "B1 = numpy.random.randint(-100, 100, size=(4,4))\n",
    "C1 = numpy.random.randint(-100, 100, size=(5,5))\n",
    "print('\\n', A1, '\\n\\n', B1, '\\n\\n', C1)\n",
    "write_txt('ABC_Lab11_1.txt', A1, B1, C1)"
   ]
  },
  {
   "cell_type": "code",
   "execution_count": 36,
   "metadata": {},
   "outputs": [
    {
     "name": "stdout",
     "output_type": "stream",
     "text": [
      "5 4 5 \n",
      "\n",
      " [[-66, 29, -2, 6, -99], [92, 43, -100, 97, -5], [72, -52, -65, 33, -26], [82, -49, -79, -55, -14], [-44, 53, -19, -29, 42]] \n",
      "\n",
      " [[-34, -9, -97, 48], [-63, -21, 47, 0], [20, 92, 18, 18], [-80, -76, -26, 25]] \n",
      "\n",
      " [[50, 47, -25, 34, -15], [-50, 57, -20, 71, 70], [-7, 96, 66, -89, -46], [93, -39, 1, 64, 27], [51, 45, -95, -55, 80]]\n"
     ]
    }
   ],
   "source": [
    "NA, NB, NC, A, B, C = read_txt('ABC_Lab11_1.txt')\n",
    "print(NA, NB, NC, '\\n\\n', A, '\\n\\n', B, '\\n\\n', C)"
   ]
  },
  {
   "cell_type": "code",
   "execution_count": null,
   "metadata": {},
   "outputs": [],
   "source": []
  }
 ],
 "metadata": {
  "kernelspec": {
   "display_name": "Python 3",
   "language": "python",
   "name": "python3"
  },
  "language_info": {
   "codemirror_mode": {
    "name": "ipython",
    "version": 3
   },
   "file_extension": ".py",
   "mimetype": "text/x-python",
   "name": "python",
   "nbconvert_exporter": "python",
   "pygments_lexer": "ipython3",
   "version": "3.6.4"
  }
 },
 "nbformat": 4,
 "nbformat_minor": 2
}
