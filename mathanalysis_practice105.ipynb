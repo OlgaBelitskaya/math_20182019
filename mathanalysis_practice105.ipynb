{
 "cells": [
  {
   "cell_type": "code",
   "execution_count": 1,
   "metadata": {},
   "outputs": [
    {
     "data": {
      "text/html": [
       "<style>\n",
       "@import url('https://fonts.googleapis.com/css?family=Roboto&effect=3d|brick-sign|');\n",
       "span {font-family:Roboto; color:black; text-shadow:4px 4px 4px #aaa;}  \n",
       "h1,h2 {font-family:Roboto; color:slategray; text-shadow:4px 4px 4px #aaa;} \n",
       "div.output_subarea, div.output_area pre{font-family:Roboto; font_size:120%; color:darkblue;}\n",
       "</style> "
      ],
      "text/plain": [
       "<IPython.core.display.HTML object>"
      ]
     },
     "metadata": {},
     "output_type": "display_data"
    }
   ],
   "source": [
    "%%html\n",
    "<style>\n",
    "@import url('https://fonts.googleapis.com/css?family=Roboto&effect=3d|brick-sign|');\n",
    "span {font-family:Roboto; color:black; text-shadow:4px 4px 4px #aaa;}  \n",
    "h1,h2 {font-family:Roboto; color:slategray; text-shadow:4px 4px 4px #aaa;} \n",
    "div.output_subarea, div.output_area pre{font-family:Roboto; font_size:120%; color:darkblue;}\n",
    "</style> "
   ]
  },
  {
   "cell_type": "markdown",
   "metadata": {},
   "source": [
    "# Задачи / Problems\n",
    "[Сборник задач по математике для втузов. В 4-х частях. Под ред. Ефимова А.В., Поспелова А.С. (Часть 2)](https://drive.google.com/file/d/1qUN5t1IQdWvlRf0gdVYZ87MznWUaHq2x/view)"
   ]
  },
  {
   "cell_type": "code",
   "execution_count": 2,
   "metadata": {},
   "outputs": [],
   "source": [
    "import math, sympy, numpy\n",
    "from sympy import *\n",
    "sympy.init_printing(use_unicode=True)\n",
    "import pylab as plt\n",
    "%matplotlib inline"
   ]
  },
  {
   "cell_type": "markdown",
   "metadata": {},
   "source": [
    "#### # 5.262\n",
    "\n",
    "$\\large{\\displaystyle{\\lim_{x \\to 1} \\frac{1} {x} = 1}}$\n",
    "\n",
    "$ f(x) = 1/x \\implies D(f) = (-\\infty,0) \\cup (0, +\\infty)$\n",
    "\n",
    "$ \\forall \\varepsilon > 0 \\ \\exists \\delta(\\varepsilon) > 0: 0 < | x - x_0 | < \\delta(\\varepsilon) \\implies | f(x) - a | < \\varepsilon, \\ \\forall x  $\n",
    "\n",
    "$ 0 < | x - 1 | < \\delta(\\varepsilon) \\implies | \\frac{1}{x} - 1 | < \\varepsilon, \\ \\forall x  $\n",
    "\n",
    "$ -\\varepsilon < \\frac{1}{x} -1 < \\varepsilon \\iff  1 - \\varepsilon < \\frac{1}{x}  < 1 + \\varepsilon \\iff \n",
    "\\frac{1}{1 - \\varepsilon} > x > \\frac{1}{1 + \\varepsilon} \\\\\n",
    "\\iff \\frac{1}{1 + \\varepsilon} - 1 < x - 1 < \\frac{1}{1 - \\varepsilon} - 1 \\\\\n",
    "\\iff \\frac{-\\varepsilon}{1 + \\varepsilon} < x - 1 < \\frac{\\varepsilon}{1 - \\varepsilon} \n",
    "\\iff \\frac{-\\varepsilon}{1 - \\varepsilon} < x - 1 < \\frac{\\varepsilon}{1 - \\varepsilon} \\\\\n",
    "\\iff | x - 1 |< \\frac{\\varepsilon}{1 - \\varepsilon} \\implies \\delta(\\varepsilon) = \\frac{\\varepsilon}{1 - \\varepsilon}\n",
    "$"
   ]
  },
  {
   "cell_type": "code",
   "execution_count": 3,
   "metadata": {},
   "outputs": [
    {
     "data": {
      "text/plain": [
       "(-0.09090909090909091, -0.11111111111111112, True)"
      ]
     },
     "execution_count": 3,
     "metadata": {},
     "output_type": "execute_result"
    }
   ],
   "source": [
    "-0.1/(1 + 0.1), -0.1/(1-0.1), -0.1/(1 + 0.1) > -0.1/(1-0.1)"
   ]
  },
  {
   "cell_type": "code",
   "execution_count": 4,
   "metadata": {},
   "outputs": [
    {
     "name": "stdout",
     "output_type": "stream",
     "text": [
      "ε = 0.1 ; δ(ε) = 0.111111\n",
      "ε = 0.01 ; δ(ε) = 0.010101\n",
      "ε = 0.001 ; δ(ε) = 0.001001\n"
     ]
    }
   ],
   "source": [
    "e = [0.1, 0.01, 0.001]\n",
    "for el in e:\n",
    "    print ('ε =', el, '; δ(ε) =', round(el/(1-el),6))"
   ]
  },
  {
   "cell_type": "code",
   "execution_count": 5,
   "metadata": {},
   "outputs": [
    {
     "data": {
      "image/png": "[encoded data removed]",
      "text/plain": [
       "<Figure size 432x288 with 1 Axes>"
      ]
     },
     "metadata": {},
     "output_type": "display_data"
    }
   ],
   "source": [
    "def f(x): return 1/x\n",
    "x = numpy.arange(0.8, 1.2,0.01)\n",
    "y = [f(e) for e in x]\n",
    "plt.axhline(1+0.1, c='r', ls='--'); plt.axvline(1+0.1/(1-0.1), c='r', ls='--')\n",
    "plt.text(1.01,1.11,' ε', color='r',fontsize=15)\n",
    "plt.text(1+0.1/(1-0.1),1.15,' δ(ε)', color='r',fontsize=15)\n",
    "plt.axhline(1, ls='dotted', label='y = 1', c='b'); plt.axvline(1, ls='dotted', label='x = 1', c='g');\n",
    "plt.axhline(1-0.1, c='r', ls='--'); plt.axvline(1-0.1/(1-0.1), c='r', ls='--')\n",
    "plt.text(1.01,0.87,'-ε', color='r',fontsize=15) \n",
    "plt.text(1-0.1/(1-0.1),1.15,' -δ(ε)', color='r',fontsize=15)\n",
    "plt.plot(x,y,label='y = f(x)'); plt.legend(loc=3);"
   ]
  },
  {
   "cell_type": "markdown",
   "metadata": {},
   "source": [
    "#### # 5.265\n",
    "\n",
    "$\\large{\\displaystyle{\\lim_{x \\to 1-0} f(x) = - \\infty}}$\n",
    "\n",
    "$ \\forall E > 0 \\ \\exists \\delta > 0 \\ | \\ \\forall x : - \\delta < x - 1 < 0 \\implies f(x) < - E $"
   ]
  },
  {
   "cell_type": "markdown",
   "metadata": {},
   "source": [
    "#### # 5.267\n",
    "\n",
    "$\\large{\\displaystyle{\\lim_{x \\to +\\infty} f(x) = + \\infty}}$\n",
    "\n",
    "$ \\forall E > 0 \\ \\exists \\Delta > 0 \\ | \\ \\forall x : x > \\Delta \\implies f(x) > E $"
   ]
  },
  {
   "cell_type": "markdown",
   "metadata": {},
   "source": [
    "#### # 5.269\n",
    "\n",
    "$\\large{\\displaystyle{\\lim_{x \\to \\infty} f(x) = 2}}$\n",
    "\n",
    "$ \\forall \\varepsilon > 0 \\ \\exists \\Delta > 0 \\ | \\ \\forall x : |x| > \\Delta \\implies \\mid f(x) - 2 \\mid <  \\varepsilon $"
   ]
  },
  {
   "cell_type": "markdown",
   "metadata": {},
   "source": [
    "#### # 5.271\n",
    "$\\large{\\displaystyle{\\lim_{x \\to -\\infty} f(x) = \\infty}}$\n",
    "\n",
    "$ \\forall E > 0 \\ \\exists \\Delta > 0 \\ | \\ \\forall x : - \\Delta < x < 0 \\implies \\mid f(x)\\mid > E $"
   ]
  },
  {
   "cell_type": "markdown",
   "metadata": {},
   "source": [
    "#### # 5.272\n",
    "$\\large{\\displaystyle{\\lim_{x \\to 0} \\frac{x^2 - 2} {3x^2 - 5x + 1} }} = \\frac {0^2 - 2}{3 * 0^2 - 5 * 0 + 1} = -2$"
   ]
  },
  {
   "cell_type": "code",
   "execution_count": 6,
   "metadata": {},
   "outputs": [
    {
     "data": {
      "image/png": "[encoded data removed]",
      "text/latex": [
       "$$-2$$"
      ],
      "text/plain": [
       "-2"
      ]
     },
     "execution_count": 6,
     "metadata": {},
     "output_type": "execute_result"
    }
   ],
   "source": [
    "from sympy.abc import x\n",
    "sympy.limit((x ** 2 - 2) / (3 * x ** 2 - 5 * x + 1), x, 0)"
   ]
  },
  {
   "cell_type": "code",
   "execution_count": 7,
   "metadata": {},
   "outputs": [
    {
     "data": {
      "image/png": "[encoded data removed]",
      "text/latex": [
       "$$-2.0$$"
      ],
      "text/plain": [
       "-2.0"
      ]
     },
     "execution_count": 7,
     "metadata": {},
     "output_type": "execute_result"
    }
   ],
   "source": [
    "def f(x): return (x ** 2 - 2) / (3 * x ** 2 - 5 * x + 1)\n",
    "f(0)"
   ]
  },
  {
   "cell_type": "markdown",
   "metadata": {},
   "source": [
    "#### # 5.280\n",
    "$\\large{\\displaystyle{\\lim_{x \\to \\frac{1}{2}} \\frac{8 * x^3 - 1} {6 * x^2 - 5 * x + 1}}}$"
   ]
  },
  {
   "cell_type": "code",
   "execution_count": 8,
   "metadata": {},
   "outputs": [
    {
     "data": {
      "image/png": "[encoded data removed]",
      "text/latex": [
       "$$6.0$$"
      ],
      "text/plain": [
       "6.00000000000000"
      ]
     },
     "execution_count": 8,
     "metadata": {},
     "output_type": "execute_result"
    }
   ],
   "source": [
    "x = symbols('x')\n",
    "sympy.limit((8 * x ** 3 - 1)/(6 * x ** 2 - 5 * x + 1), x, 0.5 )"
   ]
  },
  {
   "cell_type": "markdown",
   "metadata": {},
   "source": [
    "### $\\frac{(2 * x - 1) * ( 4 * x^2 + 2 * x + 1)} {(2 * x - 1) * ( 3 * x - 1)} = \\frac{( 4 * x^2 + 2 * x + 1)} {( 3 * x - 1)}$"
   ]
  },
  {
   "cell_type": "code",
   "execution_count": 9,
   "metadata": {},
   "outputs": [
    {
     "data": {
      "image/png": "[encoded data removed]",
      "text/latex": [
       "$$6.0$$"
      ],
      "text/plain": [
       "6.0"
      ]
     },
     "execution_count": 9,
     "metadata": {},
     "output_type": "execute_result"
    }
   ],
   "source": [
    "def f(x): return (4 * x ** 2 + 2 * x + 1) / (3 * x - 1)\n",
    "f(1/2)"
   ]
  },
  {
   "cell_type": "markdown",
   "metadata": {},
   "source": [
    "#### # 5.282\n",
    "$\\large{\\displaystyle{\\lim_{x \\to \\infty} (\\frac{x^3 } {2 x^2 - 1} - \\frac{x^2 } {2 x + 1})}}$\n",
    "\n",
    "### $\\frac{x^3 ( 2x + 1) - x^2 (2 x^2 - 1)} {(2 x^2 - 1) ( 2x + 1)} = \\frac{x^3 + x^2} {4 x^3 + 2 x^2 - 2x - 1}$\n",
    "\n",
    "$\\large{\\displaystyle{\\lim_{x \\to \\infty} \\frac{x^3 + x^2} {4 x^3 + 2 x^2 - 2x - 1} = \\frac{1}{4}}}$"
   ]
  },
  {
   "cell_type": "code",
   "execution_count": 11,
   "metadata": {},
   "outputs": [
    {
     "data": {
      "image/png": "[encoded data removed]",
      "text/latex": [
       "$$\\frac{1}{4}$$"
      ],
      "text/plain": [
       "1/4"
      ]
     },
     "execution_count": 11,
     "metadata": {},
     "output_type": "execute_result"
    }
   ],
   "source": [
    "x = symbols('x')\n",
    "sympy.limit((x ** 3 / (2 * x ** 2 - 1) - x ** 2 / (2 * x + 1)), x, oo )"
   ]
  },
  {
   "cell_type": "markdown",
   "metadata": {},
   "source": [
    "#### # 5.285\n",
    "$\\large{\\displaystyle{\\lim_{x \\to 1} \\bigg(\\frac{x + 2 } {x^2 - 5x + 4} + \\frac{x - 4} {3(x^2 - 3x + 2)}\\bigg)}}$\n",
    "\n",
    "### $\\frac{x + 2 } {x^2 - 5x + 4} + \\frac{x - 4} {3(x^2 - 3x + 2)} = \\frac{x + 2 } {(x - 1)(x - 4)} + \\frac{x - 4} {3(x - 1)(x - 2)} = $\n",
    "### $ = \\frac{3(x + 2)(x - 2)  + (x - 4)^2} {3(x - 1)(x - 2)(x - 4)} = \\frac{3x^2 - 12  + x^2 - 8x + 16} {3(x - 1)(x - 2)(x - 4)} = $\n",
    "### $ = \\frac{4x^2 - 8x + 4} {3(x - 1)(x - 2)(x - 4)} = \\frac{4(x^2 - 2x + 1)} {3(x - 1)(x - 2)(x - 4)} = $\n",
    "### $ = \\frac{4(x - 1)^2} {3(x - 1)(x - 2)(x - 4)} = \\frac{4(x - 1)} {3(x - 2)(x - 4)} $\n",
    "\n",
    "$\\large{\\displaystyle{\\lim_{x \\to 1} \\frac{4(x - 1)} {3(x - 2)(x - 4)} = \\frac{4(1 - 1)} {3(1 - 2)(1 - 4)} = 0}}$"
   ]
  },
  {
   "cell_type": "code",
   "execution_count": 12,
   "metadata": {},
   "outputs": [
    {
     "data": {
      "image/png": "[encoded data removed]",
      "text/latex": [
       "$$0$$"
      ],
      "text/plain": [
       "0"
      ]
     },
     "execution_count": 12,
     "metadata": {},
     "output_type": "execute_result"
    }
   ],
   "source": [
    "x = symbols('x')\n",
    "sympy.limit(((x + 2) / (x ** 2 - 5 * x + 4) + (x - 4) / (3 * (x ** 2 - 3 * x + 2))), x, 1 )"
   ]
  },
  {
   "cell_type": "code",
   "execution_count": null,
   "metadata": {},
   "outputs": [],
   "source": [
    "# 5.291\n"
   ]
  },
  {
   "cell_type": "code",
   "execution_count": null,
   "metadata": {},
   "outputs": [],
   "source": [
    "# 5.297\n"
   ]
  },
  {
   "cell_type": "code",
   "execution_count": null,
   "metadata": {},
   "outputs": [],
   "source": [
    "# 5.299\n"
   ]
  },
  {
   "cell_type": "code",
   "execution_count": null,
   "metadata": {},
   "outputs": [],
   "source": [
    "# 5.301\n"
   ]
  },
  {
   "cell_type": "code",
   "execution_count": null,
   "metadata": {},
   "outputs": [],
   "source": [
    "# 5.302\n"
   ]
  }
 ],
 "metadata": {
  "kernelspec": {
   "display_name": "Python 3",
   "language": "python",
   "name": "python3"
  },
  "language_info": {
   "codemirror_mode": {
    "name": "ipython",
    "version": 3
   },
   "file_extension": ".py",
   "mimetype": "text/x-python",
   "name": "python",
   "nbconvert_exporter": "python",
   "pygments_lexer": "ipython3",
   "version": "3.6.4"
  }
 },
 "nbformat": 4,
 "nbformat_minor": 2
}
