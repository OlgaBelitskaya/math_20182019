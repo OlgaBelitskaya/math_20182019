{
 "cells": [
  {
   "cell_type": "code",
   "execution_count": 2,
   "metadata": {},
   "outputs": [
    {
     "data": {
      "text/html": [
       "<style>\n",
       "@import url('https://fonts.googleapis.com/css?family=Roboto&effect=3d|brick-sign|');\n",
       "span {font-family:Roboto; color:black; text-shadow:4px 4px 4px #aaa;}  \n",
       "h1,h2 {font-family:Roboto; color:slategray; text-shadow:4px 4px 4px #aaa;} \n",
       "div.output_subarea, div.output_area pre{font-family:Roboto; font_size:120%; color:darkblue;}\n",
       "</style>"
      ],
      "text/plain": [
       "<IPython.core.display.HTML object>"
      ]
     },
     "metadata": {},
     "output_type": "display_data"
    }
   ],
   "source": [
    "%%html\n",
    "<style>\n",
    "@import url('https://fonts.googleapis.com/css?family=Roboto&effect=3d|brick-sign|');\n",
    "span {font-family:Roboto; color:black; text-shadow:4px 4px 4px #aaa;}  \n",
    "h1,h2 {font-family:Roboto; color:slategray; text-shadow:4px 4px 4px #aaa;} \n",
    "div.output_subarea, div.output_area pre{font-family:Roboto; font_size:120%; color:darkblue;}\n",
    "</style>"
   ]
  },
  {
   "cell_type": "code",
   "execution_count": 2,
   "metadata": {},
   "outputs": [],
   "source": [
    "import math, sympy\n",
    "sympy.init_printing(use_unicode=True)\n",
    "from sympy import *\n",
    "import pylab as plt\n",
    "%matplotlib inline"
   ]
  },
  {
   "cell_type": "markdown",
   "metadata": {},
   "source": [
    "# Вариант 22"
   ]
  },
  {
   "cell_type": "markdown",
   "metadata": {},
   "source": [
    "## Типовой расчет №1"
   ]
  },
  {
   "cell_type": "markdown",
   "metadata": {},
   "source": [
    "Доказать, что $\\large{\\displaystyle{\\lim_{n \\to \\infty} \\frac { 5n }{8n + 3}  = \\frac{5}{8} }}$"
   ]
  },
  {
   "cell_type": "code",
   "execution_count": null,
   "metadata": {},
   "outputs": [],
   "source": []
  },
  {
   "cell_type": "code",
   "execution_count": 3,
   "metadata": {},
   "outputs": [
    {
     "data": {
      "image/png": "[encoded data removed]",
      "text/latex": [
       "$$\\frac{5}{8}$$"
      ],
      "text/plain": [
       "5/8"
      ]
     },
     "execution_count": 3,
     "metadata": {},
     "output_type": "execute_result"
    }
   ],
   "source": [
    "n = symbols('n')\n",
    "limit( 5 * n / (8 * n + 3), n, oo)"
   ]
  },
  {
   "cell_type": "markdown",
   "metadata": {},
   "source": [
    "## Типовой расчет №2"
   ]
  },
  {
   "cell_type": "markdown",
   "metadata": {},
   "source": [
    "Вычислить предел последовательности  $\\large{\\displaystyle{\\lim_{n \\to \\infty} \\frac{n^2 \\sqrt[5]{13n + 1} + \\sqrt{81n^6 -13} }{(2n - 5 \\sqrt[3]{n}) \\sqrt{4n^4 + 7n + 8}} }}$"
   ]
  },
  {
   "cell_type": "markdown",
   "metadata": {},
   "source": [
    "Решение.\n",
    "\n",
    "Числитель и знаменатель дроби являются бесконечно большими последовательностями, значит при вычислении предела имеется неопределенность вида $\\large{[\\frac {\\infty}{\\infty}]}$.\n",
    "\n",
    "Для ее раскрытия преобразуем формулу общего члена исходной последовательности.\n",
    "\n",
    "Заметим, что $\\large{n^2 \\sqrt[5]{13n + 1} + \\sqrt{81n^6 -13} \\sim n^2 \\sqrt[5]{13n} + \\sqrt{81n^6} \\sim  n^2 \\sqrt[5]{n} + \\sqrt{n^6} \\sim n^3 \\ при \\ n \\to \\infty}$.\n",
    "\n",
    "Числитель исходной последовательности подобен $n^3$, поэтому разделим и числитель, и знаменатель на $n^3$.\n",
    "\n",
    "$\\large{\\displaystyle{a_n = \\frac{(n^2 \\sqrt[5]{13n + 1} + \\sqrt{81n^6 -13} ) / n^3 }{(2n - 5 \\sqrt[3]{n}) \\sqrt{4n^4 + 7n + 8} / n^3}  = }}$\n",
    "\n",
    "$\\large{\\displaystyle{= \\frac{\\sqrt[5]{\\frac{13}{n^4} + \\frac{1}{n^5}} + \\sqrt{81 - \\frac{13}{n^6}}  }{(2 - \\frac{5}{\\sqrt[3]{n^2}}) \\sqrt{4 + \\frac{7}{n^3} + \\frac{8}{n^4}}} }}$\n",
    "\n",
    "Последовательности $\\large{\\displaystyle{ \\left\\{ \\frac{13}{n^4} \\right\\} , \\left\\{ \\frac{1}{n^5} \\right\\}, ...}}$ являются бесконечно малыми  при $n \\to \\infty$.\n",
    "\n",
    " Применяя арифметические свойства пределов последовательности, получим:\n",
    " \n",
    " $\\large{\\displaystyle{\\lim_{n \\to \\infty} \\frac{\\sqrt[5]{\\frac{13}{n^4} + \\frac{1}{n^5}} + \\sqrt{81 - \\frac{13}{n^6}}  }{(2 - \\frac{5}{\\sqrt[3]{n^2}}) \\sqrt{4 + \\frac{7}{n^3} + \\frac{8}{n^4}}} }} = \\frac{\\sqrt{81}}{2 * \\sqrt{4}} = 2.25$"
   ]
  },
  {
   "cell_type": "code",
   "execution_count": 4,
   "metadata": {},
   "outputs": [
    {
     "data": {
      "image/png": "[encoded data removed]",
      "text/latex": [
       "$$2.25$$"
      ],
      "text/plain": [
       "2.25000000000000"
      ]
     },
     "execution_count": 4,
     "metadata": {},
     "output_type": "execute_result"
    }
   ],
   "source": [
    "n = symbols('n')\n",
    "limit( (n ** 2 * (13 * n + 1) ** 0.2 + (81 * n ** 6 - 13) ** 0.5) / ((2 * n - 5 * n ** (1/3)) *  (4 * n ** 4 + 7 * n + 8) ** 0.5) , n, oo)"
   ]
  },
  {
   "cell_type": "markdown",
   "metadata": {},
   "source": [
    "## Типовой расчет №3\n",
    "\n",
    "Вычислить предел последовательности  $\\large{\\displaystyle{\\lim_{n \\to \\infty} \\sqrt{n^5} (\\sqrt{6 + n^5} - \\sqrt{4 + n ^5}) }}$"
   ]
  },
  {
   "cell_type": "markdown",
   "metadata": {},
   "source": [
    "Решение.\n",
    "\n",
    "$\\large{\\displaystyle{ \\sqrt{n^5}\\sqrt{6 + n^5} ,   \\sqrt{n^5}\\sqrt{4 + n ^5}  \\sim  \\sqrt{n^5} \\sqrt{n ^5}}}  \\sim n^5 $ при $n \\to \\infty$. \n",
    "\n",
    "Значит, требуется раскрыть необределенность вида $[\\infty - \\infty]$.\n",
    "\n",
    "Применим умножение на сопряженное выражение.\n",
    "\n",
    " $\\large{\\displaystyle{ \\sqrt{n^5} (\\sqrt{6 + n^5} - \\sqrt{4 + n ^5}) = \\frac{\\sqrt{n^5} (\\sqrt{6 + n^5} - \\sqrt{4 + n ^5})(\\sqrt{6 + n^5} + \\sqrt{4 + n ^5})}{\\sqrt{6 + n^5}  + \\sqrt{4 + n ^5}} = }}$\n",
    " \n",
    " $\\large{\\displaystyle{ = \\frac{\\sqrt{n^5} (6 + n^5 - 4  - n ^5)}{\\sqrt{6 + n^5}  + \\sqrt{4 + n ^5}} = \\frac{2\\sqrt{n^5}}{\\sqrt{6 + n^5}  + \\sqrt{4 + n ^5}} = }}$\n",
    " \n",
    " $\\large{\\displaystyle{ = \\frac{ 2 \\sqrt{n^5} \\sqrt{n^{-5}} }{ \\sqrt{n^{-5}} (\\sqrt{6 + n^5}  + \\sqrt{4 + n ^5}) } = \\frac{ 2 }{ \\sqrt{n^{-5}} (\\sqrt{6 + n^5}  + \\sqrt{4 + n ^5}) } = }} $\n",
    " \n",
    " $\\large{\\displaystyle{ = \\frac{ 2 }{ \\sqrt{\\frac{6}{n^5} + 1}  + \\sqrt{\\frac{4}{n^5} + 1} }  }} $\n",
    " \n",
    " Последовательности $\\large{\\displaystyle{ \\left\\{ \\frac{6}{n^5} \\right\\} , \\left\\{ \\frac{4}{n^5} \\right\\} }}$ являются бесконечно малыми  при $n \\to \\infty$.\n",
    " \n",
    " Применяя арифметические свойства пределов последовательности, получим:\n",
    "\n",
    "$\\large{\\displaystyle{\\lim_{n \\to \\infty} \\frac{2}{\\sqrt{\\frac{6}{n^5} + 1}  + \\sqrt{\\frac{4}{n^5} + 1}} =  \\frac{2}{1 + 1} = 1}}$"
   ]
  },
  {
   "cell_type": "code",
   "execution_count": 5,
   "metadata": {},
   "outputs": [
    {
     "data": {
      "image/png": "[encoded data removed]",
      "text/latex": [
       "$$1.0$$"
      ],
      "text/plain": [
       "1.00000000000000"
      ]
     },
     "execution_count": 5,
     "metadata": {},
     "output_type": "execute_result"
    }
   ],
   "source": [
    "n = symbols('n')\n",
    "limit( n ** 2.5 * ((6 + n ** 5) ** 0.5 - (4 + n ** 5) ** 0.5), n, oo)"
   ]
  },
  {
   "cell_type": "markdown",
   "metadata": {},
   "source": [
    "## Типовой расчет №4"
   ]
  },
  {
   "cell_type": "code",
   "execution_count": null,
   "metadata": {},
   "outputs": [],
   "source": []
  }
 ],
 "metadata": {
  "kernelspec": {
   "display_name": "Python 3",
   "language": "python",
   "name": "python3"
  },
  "language_info": {
   "codemirror_mode": {
    "name": "ipython",
    "version": 3
   },
   "file_extension": ".py",
   "mimetype": "text/x-python",
   "name": "python",
   "nbconvert_exporter": "python",
   "pygments_lexer": "ipython3",
   "version": "3.6.4"
  }
 },
 "nbformat": 4,
 "nbformat_minor": 2
}
