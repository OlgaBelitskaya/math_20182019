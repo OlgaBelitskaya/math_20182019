{
 "cells": [
  {
   "cell_type": "markdown",
   "metadata": {},
   "source": [
    "# Спецификация к Лабораторной работе №5 \"Экстремум\" \n",
    "# (Вариант 22)\n",
    "## Абстракция А0\n",
    "### 1. Постановка задачи.\n",
    "#### Задание: \n",
    "Написать программу обработки одномерного массива в соответствии с условием.\n",
    "\n",
    "#### Условие: \n",
    "Для заданного массива $\\{A_1, A_2, …, A_n\\}$ определить наименьшее значение сумм $A_i + A_{i-1}$. "
   ]
  },
  {
   "cell_type": "markdown",
   "metadata": {},
   "source": [
    "### 2. Уточненная постановка задачи.\n",
    "Дан одномерный вещественный массив A из n элементов.\n",
    "\n",
    "Найти $\\displaystyle{\\min_i(A_i + A_{i-1}), \\ i \\in \\{2, ..., n\\} }$."
   ]
  },
  {
   "cell_type": "markdown",
   "metadata": {},
   "source": [
    "### 3. Пример с иллюстрацией."
   ]
  },
  {
   "cell_type": "code",
   "execution_count": 117,
   "metadata": {},
   "outputs": [
    {
     "name": "stdout",
     "output_type": "stream",
     "text": [
      "                    Лаб.5\n",
      "==========================================================================================\n",
      "Текстовый файл с элементами массива A: A_Lab5_4.txt\n",
      "Текстовый файл с элементами массива A и минимальной суммой соседних элементов: AMIN_Lab5_4.txt\n",
      "==========================================================================================\n",
      "Массив A: \n",
      " 101.5\n",
      "212.6\n",
      "-3.08\n",
      "-15.876\n",
      "-104.2\n",
      "12.81\n",
      "33.17\n",
      "1.9\n",
      "-564.22\n",
      "371.4\n",
      "178.23\n",
      "-468.11\n",
      "982.36\n",
      "19.2\n",
      "-908.1\n",
      "-45.5\n",
      "-22.345\n",
      "342.6\n",
      "825.33\n",
      "-567.4\n",
      "==========================================================================================\n",
      "Минимальная сумма соседних элементов массива A: -953.6\n"
     ]
    },
    {
     "data": {
      "image/png": "[encoded data removed]",
      "text/plain": [
       "<Figure size 720x720 with 1 Axes>"
      ]
     },
     "metadata": {},
     "output_type": "display_data"
    }
   ],
   "source": [
    "import pylab \n",
    "import numpy\n",
    "%matplotlib inline\n",
    "pylab.style.use('seaborn-whitegrid')\n",
    "\n",
    "# A_Lab5_1.txt, A_Lab5_2.txt, A_Lab5_3.txt, A_Lab5_4.txt, A_Lab5_5.txt\n",
    "# AMIN_Lab5_1.txt, AMIN_Lab5_2.txt, AMIN_Lab5_3.txt, AMIN_Lab5_4.txt, AMIN_Lab5_5.txt\n",
    "\n",
    "print(20*' ' + 'Лаб.5\\n' + 90*'=')\n",
    "\n",
    "fin = str(input('Текстовый файл с элементами массива A: '))\n",
    "fout = str(input('Текстовый файл с элементами массива A и минимальной суммой соседних элементов: '))\n",
    "\n",
    "with open(fin, 'r') as f:\n",
    "    A = [float(x) for x in f.readlines()]\n",
    "n = len(A)\n",
    "MIN = 10**10\n",
    "MIN_ID = 10**5\n",
    "\n",
    "print(90*'=' + '\\n' + 'Массив A: \\n', A[0])\n",
    "for i in range(1, n):\n",
    "    print(A[i])\n",
    "    if (A[i] + A[i-1] < MIN):\n",
    "        MIN = A[i] + A[i-1]\n",
    "        MIN_ID = i\n",
    "               \n",
    "print(90*'=' + '\\n' + 'Минимальная сумма соседних элементов массива A:', MIN)\n",
    "\n",
    "with open(fout, 'w') as f:\n",
    "    for i in range(0, n):\n",
    "        f.write(\"{}\\n\".format(A[i]))\n",
    "    f.write(\"{}\".format(MIN))\n",
    "    \n",
    "pylab.figure(figsize=(10,10))\n",
    "pylab.scatter(range(n), A)\n",
    "pylab.scatter([MIN_ID - 1, MIN_ID], [A[MIN_ID - 1], A[MIN_ID]],\n",
    "             s=150, facecolors='none', edgecolors='r')\n",
    "\n",
    "pylab.xlabel('i', fontsize=15) \n",
    "pylab.ylabel('A[i]', fontsize=15)\n",
    "pylab.xticks(range(-1, n+1), range(n+2));"
   ]
  },
  {
   "cell_type": "code",
   "execution_count": 118,
   "metadata": {},
   "outputs": [
    {
     "name": "stdout",
     "output_type": "stream",
     "text": [
      "[101.5, 212.6, -3.08, -15.876, -104.2, 12.81, 33.17, 1.9, -564.22, 371.4, 178.23, -468.11, 982.36, 19.2, -908.1, -45.5, -22.345, 342.6, 825.33, -567.4]\n"
     ]
    }
   ],
   "source": [
    "print(A)"
   ]
  },
  {
   "cell_type": "code",
   "execution_count": 119,
   "metadata": {},
   "outputs": [
    {
     "data": {
      "text/plain": [
       "20"
      ]
     },
     "execution_count": 119,
     "metadata": {},
     "output_type": "execute_result"
    }
   ],
   "source": [
    "n"
   ]
  },
  {
   "cell_type": "code",
   "execution_count": 120,
   "metadata": {},
   "outputs": [
    {
     "data": {
      "text/plain": [
       "-953.6"
      ]
     },
     "execution_count": 120,
     "metadata": {},
     "output_type": "execute_result"
    }
   ],
   "source": [
    "MIN"
   ]
  },
  {
   "cell_type": "markdown",
   "metadata": {},
   "source": [
    "### 4. Таблица данных \n",
    "\n",
    "| Класс | Имя | Описание (смысл, диапазон, точность) | Тип | Структура | Формат в/в |\n",
    "| :-: | :-: | :-: | :-: | :-: | :-: |\n",
    "| входные данные | fin | название текстового файла с элементами массива А | символ | строка | \"+X.txt\" |\n",
    "| входные данные | fout | название текстового файла с элементами массива А | символ | строка | \"+X.txt\" |\n",
    "| входные данные | A | вводимые из текстового файла числа | вещ | одномерный массив (20) | +XX.XX+ (:5:6) |\n",
    "| выходные данные | MIN | выводимая в текстовый файл минимальная сумма соседних элементов массива | вещ | простая переменная | +XX.XX+ (:5:6) |\n",
    "| промежуточные данные | PRE | предыдущий элемент для $A[i]$ | вещ | простая переменная |  +XX.XX+ (:5:6) |\n",
    "| промежуточные данные | i | индекс текущего элемента, 1≤i≤21 | цел | простая переменная | --- |\n",
    "\n",
    "_! в Delphi выход из цикла с 1 до 20 с шагом +1 происходит при значении 21, из цикла с 20 до 1 – при 0_"
   ]
  },
  {
   "cell_type": "markdown",
   "metadata": {},
   "source": [
    "### 5. Входная форма\n",
    "- обр 1.1 Текстовый файл с элементами массива A: $<fin>$       \n",
    "- обр 1.2 Текстовый файл с элементами массива A и минимальной суммой соседних элементов: $<fout>$\n",
    "- обр 2.1 Массив A:\n",
    "- обр 2.2 $ < A[1] > \\\\ < A[2] > \\\\ … \\\\ < A[n] > $\n",
    "\n",
    "### 6. Выходная форма\n",
    "\n",
    "- обр 3 Лаб. 5\n",
    "- обр 4.1 Текстовый файл с элементами массива A: $<fin>$       \n",
    "- обр 4.2 Текстовый файл с элементами массива A и минимальной суммой соседних элементов: $<fout>$\n",
    "- обр 5.1 Массив A:\n",
    "- обр 5.2 $ < A[1] > \\\\ < A[2] > \\\\ … \\\\ < A[n] > $\n",
    "\n",
    "- обр 6 Минимальная сумма соседних элементов массива A: $< MIN >$\n",
    "\n",
    "### 7. Аномалии\n",
    "\n",
    "-"
   ]
  },
  {
   "cell_type": "markdown",
   "metadata": {},
   "source": [
    "### 8. Функциональные тесты\n",
    "\n",
    "| Исходные данные | - | - |Результаты | Тест |\n",
    "| :-: | :-: | :-: | :-: | :-: | \n",
    "| fin | fout | A | MIN | № |\n",
    "| A_Lab5_1.txt | AMIN_Lab5_1.txt | `[11, 20, -35, 100, -56, -71, -89, 90, 33, 25, 16, 67, 112, -107, 64, 38, 22, 45, -93]` | `-160` | 1 | \n",
    "| - | - | - | - | - |\n",
    "| A_Lab5_2.txt | AMIN_Lab5_2.txt | `[0, 0, 0, -1, -1, 0, 0, 0]` | `-2` | 2 |\n",
    "| - | - | - | - | - |\n",
    "| A_Lab5_3.txt | AMIN_Lab5_3.txt | `[10, 8, 6, 4, 2, 0, -1, -3, -5, -7, -9]` | `-16` | 3 |\n",
    "| - | - | - | - | - |\n",
    "| A_Lab5_4.txt | AMIN_Lab5_4.txt | `[101.5, 212.6, -3.08, -15.876, -104.2, 12.81, 33.17, 1.9, -564.22,` | `-953.6` | 4 |\n",
    "| - | - | `371.4, 178.23, -468.11, 982.36, 19.2, -908.1, -45.5, -22.345, 342.6, 825.33, -567.4]`| - | - |\n",
    "| - | - | - | - | - |\n",
    "| A_Lab5_5.txt | AMIN_Lab5_5.txt | `[1000.0, 2000.0, 3000.0, 4000.0, 5000.0, -5000.0, -4000.0, -3000.0, -2000.0, -1000.0]` | `-9000.0` | 5 |\n",
    "\n",
    "| № теста | Входные  данные | - | - | Ожидаемый результат | Смысл теста |\n",
    "| :-: | :-: | :-: | :-: | :-: | :-: |\n",
    "| - | - | - | - | - | - |\n",
    "| 1 | fin = 'A_Lab5_1.txt' | fout = 'AMIN_Lab5_1.txt' |  A = `[11, 20, -35, 100, -56, -71, -89, 90, 33, 25, 16, 67, 112, -107, 64, 38, 22, 45, -93]` | MIN = `-160` | Подтвердить правильность расчетов в случае целочисленного массива |\n",
    "| - | - | - | - | - | - |\n",
    "| 2 | fin = 'A_Lab5_2.txt' | fout = 'AMIN_Lab5_2.txt' |  A = `[0, 0, 0, -1, -1, 0, 0, 0]` | MIN = `-2` | Протестировать простейший случай |\n",
    "| - | - | - | - | - | - |\n",
    "| 3 | fin = 'A_Lab5_3.txt' | fout = 'AMIN_Lab5_3.txt' |  A = `[10, 8, 6, 4, 2, 0, -1, -3, -5, -7, -9]` | MIN = `-16` | Протестировать убывающую последовательность |\n",
    "| - | - | - | - | - | - |\n",
    "| 4 | fin = 'A_Lab5_4.txt' | fout = 'AMIN_Lab5_4.txt' |  A = `[101.5, 212.6, -3.08, -15.876, -104.2, 12.81, 33.17, 1.9, -564.22,` | MIN = `-953.6` | Подтвердить правильность расчетов в случае вещественного массива |\n",
    "| - | - | - | `371.4, 178.23, -468.11, 982.36, 19.2, -908.1, -45.5, -22.345, 342.6, 825.33, -567.4]` | - | - |\n",
    "| - | - | - | - | - | - |\n",
    "| 5 | fin = 'A_Lab5_5.txt' | fout = 'AMIN_Lab5_5.txt' |  A = `[1000.0, 2000.0, 3000.0, 4000.0, 5000.0, -5000.0, -4000.0, -3000.0, -2000.0, -1000.0]` | MIN = `-9000.0` | Протестировать последовательность, состоящую из двух возрастающих |\n",
    "\n",
    "| - | Результаты | № теста |\n",
    "| :-: | :-: | :-: |\n",
    "| - | - | - |\n",
    "| MIN | Максимальная вычислительная нагрузка – 18 сумм соседних элементов. | 1 |\n",
    "| - | Соответствует ожидаемым числовым значениям. | - |\n",
    "| MIN | -2 | 2 |\n",
    "| MIN | Максимальная вычислительная нагрузка – 7 сумм соседних элементов. | 3 |\n",
    "| - | Равно сумме последней пары. | - |\n",
    "| MIN | Максимальная вычислительная нагрузка – 19 сумм соседних элементов. | 4 |\n",
    "| - | Соответствует ожидаемым числовым значениям. | - |\n",
    "| MIN | Максимальная вычислительная нагрузка – 9 сумм соседних элементов.| 5 |\n",
    "| - | Соответствует ожидаемым числовым значениям. | - |"
   ]
  },
  {
   "cell_type": "markdown",
   "metadata": {},
   "source": [
    "### 9. Метод\n",
    "Отделим ввод-вывод от обработки данных и разделим задачу на три подзадачи:\n",
    "\n",
    "1.\t_Подзадача А 0.1._ Запросить названия текстовых файлов ввода-вывода, считать из текстового файла ввода исходные данные (обр.1-2), затем вывести их на экран (обр.3-5) для визуального подтверждения.\n",
    "2.\t_Подзадача А 0.2._ Решение поставленной задачи: на основе введенных исходных данных (`A`) подсчитать минимальную сумму соседних элементов этого массива.\n",
    "3.\t_Подзадача А 0.3._ Ввести полученные результаты (`MIN`) на экран (обр.6) и записать в файл вывода исходный массив и полученный результат.\n",
    "\n",
    "Ввод-вывод тривиален и представляет собой чисто техническую задачу. \n",
    "\n",
    "Для осуществления процесса ввода-вывода массива потребуется промежуточная переменная `i` – индекс текущего элемента массива и предыдущий элемент `PRE` для значения `А[i]`, их следует добавить в таблицу данных. \n",
    "\n",
    "Алгоритм необходим только для обработка входных данных и расчета результата. "
   ]
  },
  {
   "cell_type": "markdown",
   "metadata": {},
   "source": [
    "### 10. Алгоритм\n",
    "\n",
    "[Sample diagrams](http://blockdiag.com/en/blockdiag/examples.html#sample-diagrams)"
   ]
  },
  {
   "cell_type": "code",
   "execution_count": 85,
   "metadata": {},
   "outputs": [
    {
     "name": "stdout",
     "output_type": "stream",
     "text": [
      "Overwriting block_diagram\n"
     ]
    }
   ],
   "source": [
    "%%file block_diagram\n",
    "\n",
    "blockdiag {\n",
    "    orientation = portrait;\n",
    "    class start_end [shape = ellipse, fontsize = 15, color = lightskyblue];\n",
    "    class input_out [shape = flowchart.input, fontsize = 18, width = 650, color = lightcyan];\n",
    "    class main_box [shape = box, width = 500, height = 150, fontsize = 18];\n",
    "    \n",
    "    Начало -> \n",
    "    \"Вывод заголовка по обр.3 на экран\" -> \n",
    "    \"Ввод имени файла по обр.1.1\" -> \"Ввод имени файла по обр.1.2\" ->\n",
    "    \"Ввод пояснения по обр.2.1\" -> \"Ввод А из файла по обр.2.2\" ->\n",
    "    \"Вывод имени файла по обр.4.1 на экран\" -> \"Вывод имени файла по обр.4.2 на экран\" ->\n",
    "    \"Вывод пояснения по обр.5.1 на экран\" -> \"Вывод А на экран и в файл по обр.5.2\" ->\n",
    "    \"Подсчет минимальной суммы \\nсоседних элементов массива A \\n(MIN)\" ->\n",
    "    \"Вывод MIN на экран и в файл по обр.6\" ->\n",
    "    Конец;\n",
    "\n",
    "    Начало, Конец [class = \"start_end\"];\n",
    "    \"Ввод имени файла по обр.1.1\", \"Ввод имени файла по обр.1.2\" [class = \"input_out\"];\n",
    "    \"Ввод пояснения по обр.2.1\", \"Ввод А из файла по обр.2.2\" [class = \"input_out\"];\n",
    "    \"Вывод имени файла по обр.4.1 на экран\", \"Вывод имени файла по обр.4.2 на экран\" [class = \"input_out\"];\n",
    "    \"Вывод пояснения по обр.5.1 на экран\", \"Вывод А на экран и в файл по обр.5.2\" [class = \"input_out\"]; \n",
    "    \"Вывод заголовка по обр.3 на экран\", \"Вывод MIN на экран и в файл по обр.6\" [class = \"input_out\"];\n",
    "    \"Подсчет минимальной суммы \\nсоседних элементов массива A \\n(MIN)\" [class = \"main_box\"];\n",
    "    \n",
    "    \"Вывод А на экран и в файл по обр.5.2\" -> \n",
    "    \"Подсчет минимальной суммы \\nсоседних элементов массива A \\n(MIN)\" [label = 'Вх. А', fontsize = 18];\n",
    "    \"Подсчет минимальной суммы \\nсоседних элементов массива A \\n(MIN)\" ->\n",
    "    \"Вывод MIN на экран и в файл по обр.6\" [label = 'Вых. MIN', fontsize = 18];\n",
    "}"
   ]
  },
  {
   "cell_type": "code",
   "execution_count": 86,
   "metadata": {},
   "outputs": [],
   "source": [
    "!blockdiag block_diagram"
   ]
  },
  {
   "cell_type": "code",
   "execution_count": 87,
   "metadata": {},
   "outputs": [
    {
     "data": {
      "image/png": "[encoded data removed]",
      "text/plain": [
       "<IPython.core.display.Image object>"
      ]
     },
     "execution_count": 87,
     "metadata": {},
     "output_type": "execute_result"
    }
   ],
   "source": [
    "from IPython.display import Image\n",
    "Image(\"block_diagram.png\")"
   ]
  },
  {
   "cell_type": "markdown",
   "metadata": {},
   "source": [
    "### 11. Программа на <i>Delphi</i>. \n",
    "\n",
    "__Диалоговый вариант {ввод названий файлов и данных из текстового файла, вывод на экран и в текстовый файл}__\n",
    "\n",
    "Синтаксис:\n",
    "\n",
    "[Pascal Tutorial](https://www.tutorialspoint.com/pascal/index.htm)\n",
    "\n",
    "Проверить программу онлайн без установки программной среды:\n",
    "\n",
    "[Compile and Execute Pascal Online](http://www.compileonline.com/compile_pascal_online.php)"
   ]
  },
  {
   "cell_type": "code",
   "execution_count": null,
   "metadata": {},
   "outputs": [],
   "source": [
    "program Lab5; //сохранить как lab5.dpr (DPR – Delphi PRoject)  \n",
    "{$APPTYPE CONSOLE}\n",
    "Uses Windows; // для русификации (сделать комментарием в онлайн-компиляторе!)\n",
    "\n",
    "    var\n",
    "        i: integer;\n",
    "        PRE, MIN: real;\n",
    "        fin, fout: string;\n",
    "        tfin, tfout: TextFile;\n",
    "        A: array of real; \n",
    "\n",
    "    begin\n",
    "        setConsoleCP(1251); // для ввода  русификация и (сделать строку комментарием в онлайн-компиляторе!)\n",
    "        setConsoleOutputCP(1251); // для вывода (сделать строку комментарием в онлайн-компиляторе!)\n",
    "\n",
    "        {A0.1, A0.3 - ввод-вывод входных данных}\n",
    "        writeln('Лаб.5' :40); {вывод заголовка c переходом на следующую строку по обр.3}\n",
    "        \n",
    "        {ввод-вывод строковой переменной - имени файла с входными данными по обр.1.1, 4.1}\n",
    "        writeln('Текстовый файл с элементами массива A:  '); \n",
    "        readln(fin);\n",
    "        writeln(fin);\n",
    "\n",
    "        {ввод-вывод строковой переменной - имени файла с входными данными по обр.1.2, 4.2}\n",
    "        writeln('Текстовый файл с элементами массива A и минимальной суммой соседних элементов: '); \n",
    "        readln(fout); \n",
    "        writeln(fout);\n",
    "        \n",
    "        {ввод-вывод исходного массивa A по обр.2.1, 2.2, 5.1, 5.2}\n",
    "        writeln('Массив A: '); {вывод пояснения с переходом на следующую строку}\n",
    "        \n",
    "        AssignFile(tfin, fin); reset(tfin); {открыть файл для чтения} \n",
    "        AssignFile(tfout, fout); rewrite(tfout); {открыть файл для записи}\n",
    "                \n",
    "        i := 1;             \n",
    "        MIN := 10000000000;\n",
    "                \n",
    "        while not eof(tfin) do \n",
    "\n",
    "        begin\n",
    "            SetLength(A,i);\n",
    "            readln(tfin, A[i]); {ввод элемента и переход на следующую строку} \n",
    "            writeln(A[i]:5:6); {вывод элемента и переход на следующую строку на экране}\n",
    "            writeln(tfout, A[i]:5:6); {вывод элемента и переход на следующую строку в файле}\n",
    "            \n",
    "            MIN := -160; {заглушка для теста 1}\n",
    "            // MIN := -2; {заглушка для теста 2}\n",
    "            // MIN := -16; {заглушка для теста 3}\n",
    "            // MIN := -953.6; {заглушка для теста 4}\n",
    "            // MIN := -9000.0; {заглушка для теста 5}\n",
    "\n",
    "            \n",
    "            i := i + 1;\n",
    "        end;\n",
    "            \n",
    "        CloseFile(tfin); {закрыть файл для чтения} \n",
    "    \n",
    "        for i:=1 to 80 do \n",
    "            write('='); {отделим визуально чертой и строкой введенные и выводимые значения}\n",
    "        writeln; \n",
    "                    \n",
    "        writeln('Минимальная сумма соседних элементов массива A:', MIN:5:6);\n",
    "        {вывод переменной и переход на следующую строку на экране по обр.6}             \n",
    "        writeln(tfout, MIN:5:6); \n",
    "        {вывод MIN и переход на следующую строку в файле по обр.6}\n",
    "        \n",
    "        CloseFile(tfout); {закрыть файл для записи}\n",
    "        \n",
    "    end."
   ]
  },
  {
   "cell_type": "markdown",
   "metadata": {},
   "source": [
    "## Раскрытие абстракции А0.2\n",
    "_Поскольку условие всей задачи совпадает (за исключением необходимости ввода-вывода) с условием выделенной подзадачи,_ \n",
    "\n",
    "_вместо полной спецификации с пунктами 1-11 выполнено просто дополнение к пунктам 9-11._ "
   ]
  },
  {
   "cell_type": "markdown",
   "metadata": {},
   "source": [
    "### 9. Метод\n",
    "Пусть\n",
    "\n",
    "- `i` – номер текущий точки,\n",
    "- `A[i]` – соответствующий элемент исходного массива A,\n",
    "- `PRE` - предыдущий элемент для `A[i]`,\n",
    "- `MIN` - минимальная сумма соседних элементов массива A.\n",
    "\n",
    "Присвоим переменной `MIN` начальное значение: `MIN = 10000000000`.\n",
    "\n",
    "Поиск минимальной суммы осуществляется с помощью цикла.\n",
    "\n",
    "На каждом этапе сумма соседних элементов сравнивается с текущим значением переменной MIN.\n",
    "\n",
    "Для каждого элемента, начиная со второго, предыдущий элемент сохраняется в качестве вспомогательной переменной `PRE`.\n",
    "\n",
    "Если `A[i] + PRE < MIN`, то значение переменной `MIN` заменяется: `MIN = A[i] + PRE`."
   ]
  },
  {
   "cell_type": "markdown",
   "metadata": {},
   "source": [
    "### 10. Алгоритм"
   ]
  },
  {
   "cell_type": "code",
   "execution_count": 124,
   "metadata": {},
   "outputs": [
    {
     "name": "stdout",
     "output_type": "stream",
     "text": [
      "Overwriting block_diagram2\n"
     ]
    }
   ],
   "source": [
    "%%file block_diagram2\n",
    "\n",
    "blockdiag {\n",
    "    orientation = portrait;\n",
    "    \n",
    "    class yes [thick, label = \"Да\", color = blue, textcolor = blue];\n",
    "    class no [thick, label = \"Нет\", color = red, textcolor = red];\n",
    "    class start_end [shape = ellipse, fontsize = 18, color = lightskyblue];\n",
    "    class input_out [shape = flowchart.input, fontsize = 18, width = 400, color = lightcyan];\n",
    "    class loop_in [shape = flowchart.loopin, fontsize = 18, width = 300, color = lightsteelblue];\n",
    "    class loop_out [shape = flowchart.loopout, fontsize = 18, width = 300, color = lightsteelblue];\n",
    "    class condition [shape = flowchart.condition, fontsize = 18, width = 400, color = lightsteelblue];\n",
    "    class command_box [shape = roundedbox, fontsize = 18, width = 300];\n",
    "    \n",
    "    Начало -> \"MIN := 10000000000\" -> \"i := 2; +1; n\" -> \n",
    "    \"A[i] + PRE < MIN\" -> \"MIN := A[i] + PRE\" -> \n",
    "    \"PRE = A[i]\" -> \"i = n\" -> Конец;\n",
    "    \"A[i] + PRE < MIN\" -> \"PRE = A[i]\" -> \"i = n\" -> Конец;\n",
    "    \n",
    "    Начало, Конец [class = \"start_end\"];\n",
    "    \"i := 2; +1; n\" [class = \"loop_in\"];\n",
    "    \"i = n\" [class = \"loop_out\"];\n",
    "    \"A[i] + PRE < MIN\" [class = \"condition\"];\n",
    "    \"MIN := 10000000000\", \"MIN := A[i] + PRE\", \"PRE = A[i]\" [class = \"command_box\"];\n",
    "    \n",
    "    \"A[i] + PRE < MIN\" -> \"MIN := A[i] + PRE\" [class = 'yes'];\n",
    "    \"A[i] + PRE < MIN\" -> \"PRE = A[i]\" [class = 'no'];\n",
    "}"
   ]
  },
  {
   "cell_type": "code",
   "execution_count": 125,
   "metadata": {},
   "outputs": [],
   "source": [
    "!blockdiag block_diagram2"
   ]
  },
  {
   "cell_type": "code",
   "execution_count": 126,
   "metadata": {},
   "outputs": [
    {
     "data": {
      "image/png": "[encoded data removed]",
      "text/plain": [
       "<IPython.core.display.Image object>"
      ]
     },
     "execution_count": 126,
     "metadata": {},
     "output_type": "execute_result"
    }
   ],
   "source": [
    "Image(\"block_diagram2.png\")"
   ]
  },
  {
   "cell_type": "markdown",
   "metadata": {},
   "source": [
    "### 11. Программный код"
   ]
  },
  {
   "cell_type": "code",
   "execution_count": null,
   "metadata": {},
   "outputs": [],
   "source": [
    "MIN := 10000000000;\n",
    "        \n",
    "if i > 2 then\n",
    "begin\n",
    "    if (A[i] + PRE < MIN) then MIN := A[i] + PRE;\n",
    "    PRE: = A[i];\n",
    "end;"
   ]
  },
  {
   "cell_type": "markdown",
   "metadata": {},
   "source": [
    "## Получившаяся программа"
   ]
  },
  {
   "cell_type": "code",
   "execution_count": null,
   "metadata": {},
   "outputs": [],
   "source": [
    "program Lab5; //сохранить как lab5.dpr (DPR – Delphi PRoject)  \n",
    "{$APPTYPE CONSOLE}\n",
    "Uses Windows; // для русификации (сделать комментарием в онлайн-компиляторе!)\n",
    "\n",
    "    var\n",
    "        i: integer;\n",
    "        PRE, MIN: real;\n",
    "        fin, fout: string;\n",
    "        tfin, tfout: TextFile;\n",
    "        A: array of real; \n",
    "\n",
    "    begin\n",
    "        setConsoleCP(1251); // для ввода  русификация и (сделать строку комментарием в онлайн-компиляторе!)\n",
    "        setConsoleOutputCP(1251); // для вывода (сделать строку комментарием в онлайн-компиляторе!)\n",
    "\n",
    "        {A0.1, A0.2, A0.3 - ввод-вывод входных данных}\n",
    "        writeln('Лаб.5' :40); {вывод заголовка c переходом на следующую строку по обр.3}\n",
    "        \n",
    "        {ввод-вывод строковой переменной - имени файла с входными данными по обр.1.1, 4.1}\n",
    "        writeln('Текстовый файл с элементами массива A:  '); \n",
    "        readln(fin);\n",
    "        writeln(fin);\n",
    "\n",
    "        {ввод-вывод строковой переменной - имени файла с входными данными по обр.1.2, 4.2}\n",
    "        writeln('Текстовый файл с элементами массива A и минимальной суммой соседних элементов: '); \n",
    "        readln(fout); \n",
    "        writeln(fout);\n",
    "        \n",
    "        {ввод-вывод исходного массивa A по обр.2.1, 2.2, 5.1, 5.2}\n",
    "        writeln('Массив A: '); {вывод пояснения с переходом на следующую строку}\n",
    "        \n",
    "        AssignFile(tfin, fin); reset(tfin); {открыть файл для чтения} \n",
    "        AssignFile(tfout, fout); rewrite(tfout); {открыть файл для записи}\n",
    "                \n",
    "        i := 1;             \n",
    "        MIN := 10000000000;\n",
    "                \n",
    "        while not eof(tfin) do \n",
    "\n",
    "        begin\n",
    "            SetLength(A,i);\n",
    "            readln(tfin, A[i]); {ввод элемента и переход на следующую строку} \n",
    "            writeln(A[i]:5:6); {вывод элемента и переход на следующую строку на экране}\n",
    "            writeln(tfout, A[i]:5:6); {вывод элемента и переход на следующую строку в файле}\n",
    "            \n",
    "            if i > 1 then\n",
    "            begin\n",
    "                if (A[i] + PRE < MIN) then MIN := A[i] + PRE;\n",
    "                PRE: = A[i];\n",
    "            end;\n",
    "            \n",
    "            i := i + 1;\n",
    "        end;\n",
    "            \n",
    "        CloseFile(tfin); {закрыть файл для чтения} \n",
    "    \n",
    "        for i:=1 to 80 do \n",
    "            write('='); {отделим визуально чертой и строкой введенные и выводимые значения}\n",
    "        writeln; \n",
    "        \n",
    "        writeln('Минимальная сумма соседних элементов массива A:', MIN:5:6);\n",
    "        {вывод переменной и переход на следующую строку на экране по обр.6}             \n",
    "        writeln(tfout, MIN:5:6); \n",
    "        {вывод MIN и переход на следующую строку в файле по обр.6}\n",
    "        \n",
    "        CloseFile(tfout); {закрыть файл для записи}\n",
    "        \n",
    "    end."
   ]
  }
 ],
 "metadata": {
  "kernelspec": {
   "display_name": "Python 3",
   "language": "python",
   "name": "python3"
  },
  "language_info": {
   "codemirror_mode": {
    "name": "ipython",
    "version": 3
   },
   "file_extension": ".py",
   "mimetype": "text/x-python",
   "name": "python",
   "nbconvert_exporter": "python",
   "pygments_lexer": "ipython3",
   "version": "3.6.4"
  }
 },
 "nbformat": 4,
 "nbformat_minor": 2
}
