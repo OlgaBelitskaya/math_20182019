{
 "cells": [
  {
   "cell_type": "markdown",
   "metadata": {},
   "source": [
    "# Спецификация к Лабораторной работе №5 \"Экстремум\" \n",
    "# (Вариант 22)\n",
    "## Абстракция А0\n",
    "### 1. Постановка задачи.\n",
    "#### Задание: \n",
    "Написать программу обработки одномерного массива в соответствии с условием.\n",
    "\n",
    "#### Условие: \n",
    "Для заданного массива $\\{A_1, A_2, …, A_n\\}$ определить наименьшее значение сумм $A_i + A_{i-1}$. "
   ]
  },
  {
   "cell_type": "markdown",
   "metadata": {},
   "source": [
    "### 2. Уточненная постановка задачи.\n",
    "Дан одномерный вещественный массив A из n элементов.\n",
    "\n",
    "Найти $\\displaystyle{\\min_i(A_i + A_{i-1}), \\ i \\in \\{2, ..., n\\} }$."
   ]
  },
  {
   "cell_type": "markdown",
   "metadata": {},
   "source": [
    "### 3. Пример с иллюстрацией."
   ]
  },
  {
   "cell_type": "code",
   "execution_count": 32,
   "metadata": {},
   "outputs": [
    {
     "name": "stdout",
     "output_type": "stream",
     "text": [
      "                    Лаб.5\n",
      "=============================================\n",
      "Массив A: \n",
      " 11\n",
      "20\n",
      "-35\n",
      "100\n",
      "-56\n",
      "-71\n",
      "-89\n",
      "90\n",
      "33\n",
      "25\n",
      "16\n",
      "-67\n",
      "112\n",
      "-107\n",
      "64\n",
      "38\n",
      "22\n",
      "45\n",
      "-93\n",
      "=============================================\n",
      "Минимальная сумма соседних элементов массива A: -160\n"
     ]
    },
    {
     "data": {
      "image/png": "[encoded data removed]",
      "text/plain": [
       "<Figure size 720x720 with 1 Axes>"
      ]
     },
     "metadata": {},
     "output_type": "display_data"
    }
   ],
   "source": [
    "import pylab \n",
    "import numpy\n",
    "%matplotlib inline\n",
    "pylab.style.use('seaborn-whitegrid')\n",
    "\n",
    "print(20*' ' + 'Лаб.5\\n' + 45*'=')\n",
    "\n",
    "with open('A_Lab5_1.txt', 'r') as f:\n",
    "    A = [int(x) for x in f.readlines()]\n",
    "n = len(A)\n",
    "MIN = 10**10\n",
    "MIN_ID = 10**5\n",
    "\n",
    "print('Массив A: \\n', A[0])\n",
    "for i in range(1, n):\n",
    "    print(A[i])\n",
    "    if (A[i] + A[i-1] < MIN):\n",
    "        MIN = A[i] + A[i-1]\n",
    "        MIN_ID = i\n",
    "               \n",
    "print(45*'=' + '\\n' + 'Минимальная сумма соседних элементов массива A:', MIN)\n",
    "\n",
    "with open('AMIN_Lab5_1.txt', 'w') as f:\n",
    "    for i in range(0, n):\n",
    "        f.write(\"{}\\n\".format(A[i]))\n",
    "    f.write(\"{}\".format(MIN))\n",
    "    \n",
    "pylab.figure(figsize=(10,10))\n",
    "pylab.scatter(range(n), A)\n",
    "pylab.scatter([MIN_ID - 1, MIN_ID], [A[MIN_ID - 1], A[MIN_ID]],\n",
    "             s=150, facecolors='none', edgecolors='r')\n",
    "\n",
    "pylab.xlabel('i', fontsize=15) \n",
    "pylab.ylabel('A[i]', fontsize=15)\n",
    "pylab.xticks(range(-1, n+1), range(n+2));"
   ]
  },
  {
   "cell_type": "code",
   "execution_count": 33,
   "metadata": {},
   "outputs": [
    {
     "name": "stdout",
     "output_type": "stream",
     "text": [
      "[11, 20, -35, 100, -56, -71, -89, 90, 33, 25, 16, -67, 112, -107, 64, 38, 22, 45, -93]\n"
     ]
    }
   ],
   "source": [
    "print(A)"
   ]
  },
  {
   "cell_type": "code",
   "execution_count": 34,
   "metadata": {},
   "outputs": [
    {
     "data": {
      "text/plain": [
       "-160"
      ]
     },
     "execution_count": 34,
     "metadata": {},
     "output_type": "execute_result"
    }
   ],
   "source": [
    "MIN"
   ]
  },
  {
   "cell_type": "markdown",
   "metadata": {},
   "source": [
    "### 4. Таблица данных \n",
    "\n",
    "| Класс | Имя | Описание (смысл, диапазон, точность) | Тип | Структура | Формат в/в |\n",
    "| :-: | :-: | :-: | :-: | :-: | :-: |\n",
    "| входные данные | A | вводимые из текстового файла числа | вещ | одномерный массив (20) | +XX.XX+ (:5:6) |\n",
    "| выходные данные | MIN | выводимая в текстовый файл минимальная сумма соседних элементов массива | вещ | простая переменная | +XX.XX+ (:5:6) |\n",
    "| промежуточные данные | n | число элементов массива, 0<n≤20 | цел | простая переменная | XX (:2) |\n",
    "| промежуточные данные | i | индекс текущего элемента, 1≤i≤21 | цел | простая переменная | --- |\n",
    "\n",
    "_! в Delphi выход из цикла с 1 до 20 с шагом +1 происходит при значении 21, из цикла с 20 до 1 – при 0_"
   ]
  },
  {
   "cell_type": "markdown",
   "metadata": {},
   "source": [
    "### 5. Входная форма\n",
    "\n",
    "- обр 1.1 Массив A:\n",
    "- обр 1.2 $ < A[1] > \\\\ < A[2] > \\\\ … \\\\ < A[n] > $\n",
    "\n",
    "### 6. Выходная форма\n",
    "\n",
    "- обр 2 Лаб. 5\n",
    "- обр 3.1 Массив A:\n",
    "- обр 3.2 $ < A[1] > \\\\ < A[2] > \\\\ … \\\\ < A[n] > $\n",
    "\n",
    "- обр 4 Минимальная сумма соседних элементов массива A: $< MIN >$\n",
    "\n",
    "### 7. Аномалии\n",
    "\n",
    "-"
   ]
  },
  {
   "cell_type": "markdown",
   "metadata": {},
   "source": [
    "### 8. Функциональные тесты\n",
    "\n",
    "| Исходные данные | Результаты | Тест № |\n",
    "| :-: | :-: | :-: | \n",
    "| `[11, 20, -35, 100, -56, -71, -89,` | `-160` | 1 | \n",
    "| `90, 33, 25, 16, -67, 112, -107,` | - | - |\n",
    "| `64, 38, 22, 45, -93]`  | - | - |\n",
    "| - | - | - |"
   ]
  },
  {
   "cell_type": "code",
   "execution_count": null,
   "metadata": {},
   "outputs": [],
   "source": []
  }
 ],
 "metadata": {
  "kernelspec": {
   "display_name": "Python 3",
   "language": "python",
   "name": "python3"
  },
  "language_info": {
   "codemirror_mode": {
    "name": "ipython",
    "version": 3
   },
   "file_extension": ".py",
   "mimetype": "text/x-python",
   "name": "python",
   "nbconvert_exporter": "python",
   "pygments_lexer": "ipython3",
   "version": "3.6.4"
  }
 },
 "nbformat": 4,
 "nbformat_minor": 2
}
