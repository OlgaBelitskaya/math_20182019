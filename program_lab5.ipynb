{
 "cells": [
  {
   "cell_type": "markdown",
   "metadata": {},
   "source": [
    "# Спецификация к Лабораторной работе №5 \"Экстремум\" \n",
    "# (Вариант 22)\n",
    "## Абстракция А0\n",
    "### 1. Постановка задачи.\n",
    "#### Задание: \n",
    "Написать программу обработки одномерного массива в соответствии с условием.\n",
    "\n",
    "#### Условие: \n",
    "Для заданного массива $\\{A_1, A_2, …, A_n\\}$ определить наименьшее значение сумм $A_i + A_{i-1}$. "
   ]
  },
  {
   "cell_type": "markdown",
   "metadata": {},
   "source": [
    "### 2. Уточненная постановка задачи.\n",
    "Дан одномерный вещественный массив A из n элементов.\n",
    "\n",
    "Найти $\\displaystyle{\\min_i(A_i + A_{i-1}), \\ i \\in \\{2, ..., n\\} }$."
   ]
  },
  {
   "cell_type": "markdown",
   "metadata": {},
   "source": [
    "### 3. Пример с иллюстрацией."
   ]
  },
  {
   "cell_type": "code",
   "execution_count": 57,
   "metadata": {},
   "outputs": [
    {
     "name": "stdout",
     "output_type": "stream",
     "text": [
      "                    Лаб.5\n",
      "==========================================================================================\n",
      "Текстовый файл с элементами массива A: A_Lab5_5.txt\n",
      "Текстовый файл с элементами массива A и минимальной суммой соседних элементов: AMIN_Lab5_5.txt\n",
      "==========================================================================================\n",
      "Массив A: \n",
      " 1000.0\n",
      "2000.0\n",
      "3000.0\n",
      "4000.0\n",
      "5000.0\n",
      "-5000.0\n",
      "-4000.0\n",
      "-3000.0\n",
      "-2000.0\n",
      "-1000.0\n",
      "==========================================================================================\n",
      "Минимальная сумма соседних элементов массива A: -9000.0\n"
     ]
    },
    {
     "data": {
      "image/png": "[encoded data removed]",
      "text/plain": [
       "<Figure size 720x720 with 1 Axes>"
      ]
     },
     "metadata": {},
     "output_type": "display_data"
    }
   ],
   "source": [
    "import pylab \n",
    "import numpy\n",
    "%matplotlib inline\n",
    "pylab.style.use('seaborn-whitegrid')\n",
    "\n",
    "# A_Lab5_1.txt, A_Lab5_2.txt, A_Lab5_3.txt, A_Lab5_4.txt, A_Lab5_5.txt\n",
    "# AMIN_Lab5_1.txt, AMIN_Lab5_2.txt, AMIN_Lab5_3.txt, AMIN_Lab5_4.txt, AMIN_Lab5_5.txt\n",
    "\n",
    "print(20*' ' + 'Лаб.5\\n' + 90*'=')\n",
    "\n",
    "fin = str(input('Текстовый файл с элементами массива A: '))\n",
    "fout = str(input('Текстовый файл с элементами массива A и минимальной суммой соседних элементов: '))\n",
    "\n",
    "with open(fin, 'r') as f:\n",
    "    A = [float(x) for x in f.readlines()]\n",
    "n = len(A)\n",
    "MIN = 10**10\n",
    "MIN_ID = 10**5\n",
    "\n",
    "print(90*'=' + '\\n' + 'Массив A: \\n', A[0])\n",
    "for i in range(1, n):\n",
    "    print(A[i])\n",
    "    if (A[i] + A[i-1] < MIN):\n",
    "        MIN = A[i] + A[i-1]\n",
    "        MIN_ID = i\n",
    "               \n",
    "print(90*'=' + '\\n' + 'Минимальная сумма соседних элементов массива A:', MIN)\n",
    "\n",
    "with open(fout, 'w') as f:\n",
    "    for i in range(0, n):\n",
    "        f.write(\"{}\\n\".format(A[i]))\n",
    "    f.write(\"{}\".format(MIN))\n",
    "    \n",
    "pylab.figure(figsize=(10,10))\n",
    "pylab.scatter(range(n), A)\n",
    "pylab.scatter([MIN_ID - 1, MIN_ID], [A[MIN_ID - 1], A[MIN_ID]],\n",
    "             s=150, facecolors='none', edgecolors='r')\n",
    "\n",
    "pylab.xlabel('i', fontsize=15) \n",
    "pylab.ylabel('A[i]', fontsize=15)\n",
    "pylab.xticks(range(-1, n+1), range(n+2));"
   ]
  },
  {
   "cell_type": "code",
   "execution_count": 58,
   "metadata": {},
   "outputs": [
    {
     "name": "stdout",
     "output_type": "stream",
     "text": [
      "[1000.0, 2000.0, 3000.0, 4000.0, 5000.0, -5000.0, -4000.0, -3000.0, -2000.0, -1000.0]\n"
     ]
    }
   ],
   "source": [
    "print(A)"
   ]
  },
  {
   "cell_type": "code",
   "execution_count": 59,
   "metadata": {},
   "outputs": [
    {
     "data": {
      "text/plain": [
       "-9000.0"
      ]
     },
     "execution_count": 59,
     "metadata": {},
     "output_type": "execute_result"
    }
   ],
   "source": [
    "MIN"
   ]
  },
  {
   "cell_type": "markdown",
   "metadata": {},
   "source": [
    "### 4. Таблица данных \n",
    "\n",
    "| Класс | Имя | Описание (смысл, диапазон, точность) | Тип | Структура | Формат в/в |\n",
    "| :-: | :-: | :-: | :-: | :-: | :-: |\n",
    "| входные данные | fin | название текстового файла с элементами массива А | символ | строка | \"X+.txt\" |\n",
    "| входные данные | fout | название текстового файла с элементами массива А | символ | строка | \"X+.txt\" |\n",
    "| входные данные | A | вводимые из текстового файла числа | вещ | одномерный массив (20) | +XX.XX+ (:5:6) |\n",
    "| выходные данные | MIN | выводимая в текстовый файл минимальная сумма соседних элементов массива | вещ | простая переменная | +XX.XX+ (:5:6) |\n",
    "| промежуточные данные | n | число элементов массива, 0<n≤20 | цел | простая переменная | XX (:2) |\n",
    "| промежуточные данные | i | индекс текущего элемента, 1≤i≤21 | цел | простая переменная | --- |\n",
    "\n",
    "_! в Delphi выход из цикла с 1 до 20 с шагом +1 происходит при значении 21, из цикла с 20 до 1 – при 0_"
   ]
  },
  {
   "cell_type": "markdown",
   "metadata": {},
   "source": [
    "### 5. Входная форма\n",
    "- обр 1.1 Текстовый файл с элементами массива A: $<fin>$       \n",
    "- обр 1.2 Текстовый файл с элементами массива A и минимальной суммой соседних элементов: $<fout>$\n",
    "- обр 2.1 Массив A:\n",
    "- обр 2.2 $ < A[1] > \\\\ < A[2] > \\\\ … \\\\ < A[n] > $\n",
    "\n",
    "### 6. Выходная форма\n",
    "\n",
    "- обр 3 Лаб. 5\n",
    "- обр 4.1 Текстовый файл с элементами массива A: $<fin>$       \n",
    "- обр 4.2 Текстовый файл с элементами массива A и минимальной суммой соседних элементов: $<fout>$\n",
    "- обр 5.1 Массив A:\n",
    "- обр 5.2 $ < A[1] > \\\\ < A[2] > \\\\ … \\\\ < A[n] > $\n",
    "\n",
    "- обр 6 Минимальная сумма соседних элементов массива A: $< MIN >$\n",
    "\n",
    "### 7. Аномалии\n",
    "\n",
    "-"
   ]
  },
  {
   "cell_type": "markdown",
   "metadata": {},
   "source": [
    "### 8. Функциональные тесты\n",
    "\n",
    "| Исходные данные | - | - |Результаты | Тест |\n",
    "| :-: | :-: | :-: | :-: | :-: | \n",
    "| fin | fout | A | MIN | № |\n",
    "| A_Lab5_1.txt | AMIN_Lab5_1.txt | `[11, 20, -35, 100, -56, -71, -89, 90, 33, 25, 16, 67, 112, -107, 64, 38, 22, 45, -93]` | `-160` | 1 | \n",
    "| - | - | - | - | - |\n",
    "| A_Lab5_2.txt | AMIN_Lab5_2.txt | `[0, 0, 0, -1, -1, 0, 0, 0]` | `-2` | 2 |\n",
    "| - | - | - | - | - |\n",
    "| A_Lab5_3.txt | AMIN_Lab5_3.txt | `[10, 8, 6, 4, 2, 0, -1, -3, -5, -7, -9]` | `-16` | 3 |\n",
    "| - | - | - | - | - |\n",
    "| A_Lab5_4.txt | AMIN_Lab5_4.txt | `[101.5, 212.6, -3.08, -15.876, -104.2, 12.81, 33.17, 1.9, -564.22,` | `-953.6` | 4 |\n",
    "| - | - | `371.4, 178.23, -468.11, 982.36, 19.2, -908.1, -45.5, -22.345, 342.6, 825.33, -567.4]`| - | - |\n",
    "| - | - | - | - | - |\n",
    "| A_Lab5_5.txt | AMIN_Lab5_5.txt | `[1000.0, 2000.0, 3000.0, 4000.0, 5000.0, -5000.0, -4000.0, -3000.0, -2000.0, -1000.0]` | `-9000.0` | 5 |"
   ]
  },
  {
   "cell_type": "markdown",
   "metadata": {},
   "source": [
    "### 9. Метод\n",
    "Отделим ввод-вывод от обработки данных и разделим задачу на три подзадачи:\n",
    "\n",
    "1.\t_Подзадача А 0.1._ Запросить названия текстовых файлов ввода-вывода, считать из текстового файла ввода исходные данные (обр.1-2), зате вывести их на экран (обр.3-5) для визуального подтверждения.\n",
    "2.\t_Подзадача А 0.2._ Решение поставленной задачи: на основе введенных исходных данных (A) подсчитать минимальную сумму соседних элементов этого массива.\n",
    "3.\t_Подзадача А 0.3._ Ввести полученные результаты (MIN) на экран (обр.6) и записать в файл вывода исходный массив и полученный результат.\n",
    "\n",
    "Ввод-вывод тривиален и представляет собой чисто техническую задачу. Для осуществления процесса ввода-вывода массива потребуется промежуточная переменная i – индекс текущего элемента массива и количество элементов n массива А, их следует добавить в таблицу данных. \n",
    "\n",
    "Алгоритм необходим только для обработка входных данных и расчета результата. "
   ]
  },
  {
   "cell_type": "markdown",
   "metadata": {},
   "source": [
    "### 10. Алгоритм\n",
    "\n",
    "[Sample diagrams](http://blockdiag.com/en/blockdiag/examples.html#sample-diagrams)"
   ]
  },
  {
   "cell_type": "code",
   "execution_count": null,
   "metadata": {},
   "outputs": [],
   "source": []
  }
 ],
 "metadata": {
  "kernelspec": {
   "display_name": "Python 3",
   "language": "python",
   "name": "python3"
  },
  "language_info": {
   "codemirror_mode": {
    "name": "ipython",
    "version": 3
   },
   "file_extension": ".py",
   "mimetype": "text/x-python",
   "name": "python",
   "nbconvert_exporter": "python",
   "pygments_lexer": "ipython3",
   "version": "3.6.4"
  }
 },
 "nbformat": 4,
 "nbformat_minor": 2
}
