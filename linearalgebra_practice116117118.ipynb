{
 "cells": [
  {
   "cell_type": "code",
   "execution_count": 1,
   "metadata": {},
   "outputs": [
    {
     "data": {
      "text/html": [
       "<style>\n",
       "@import url('https://fonts.googleapis.com/css?family=Roboto&effect=3d|brick-sign|');\n",
       "span {font-family:Roboto; color:black; text-shadow:4px 4px 4px #aaa;}  \n",
       "h1,h2 {font-family:Roboto; color:slategray; text-shadow:4px 4px 4px #aaa;} \n",
       "div.output_subarea, div.output_area pre{font-family:Roboto; font_size:120%; color:darkblue;}\n",
       "</style> "
      ],
      "text/plain": [
       "<IPython.core.display.HTML object>"
      ]
     },
     "metadata": {},
     "output_type": "display_data"
    }
   ],
   "source": [
    "%%html\n",
    "<style>\n",
    "@import url('https://fonts.googleapis.com/css?family=Roboto&effect=3d|brick-sign|');\n",
    "span {font-family:Roboto; color:black; text-shadow:4px 4px 4px #aaa;}  \n",
    "h1,h2 {font-family:Roboto; color:slategray; text-shadow:4px 4px 4px #aaa;} \n",
    "div.output_subarea, div.output_area pre{font-family:Roboto; font_size:120%; color:darkblue;}\n",
    "</style> "
   ]
  },
  {
   "cell_type": "code",
   "execution_count": 2,
   "metadata": {},
   "outputs": [],
   "source": [
    "import math, sympy, numpy\n",
    "sympy.init_printing(use_unicode=True)\n",
    "from sympy import *\n",
    "from mpmath import *\n",
    "from sympy.physics.vector import *\n",
    "\n",
    "from mpl_toolkits.mplot3d import Axes3D\n",
    "from mpl_toolkits.mplot3d.art3d import Poly3DCollection, Line3DCollection\n",
    "\n",
    "import pylab as plt\n",
    "import matplotlib\n",
    "%matplotlib inline"
   ]
  },
  {
   "cell_type": "markdown",
   "metadata": {},
   "source": [
    "[Computer Algebra I: Mathematica, SymPy, Sage, Maxima](http://hyperpolyglot.org/computer-algebra2)\n",
    "\n",
    "[LaTeX/Mathematics](https://en.wikibooks.org/wiki/LaTeX/Mathematics)\n",
    "\n",
    "[МЦНМО. Свободно распространяемые издания](https://www.mccme.ru/free-books/)"
   ]
  },
  {
   "cell_type": "markdown",
   "metadata": {},
   "source": [
    "# Типовой расчет 16 / Standard Calculation 16"
   ]
  },
  {
   "cell_type": "markdown",
   "metadata": {},
   "source": [
    "## Постановка  задачи / Formulation of the problem:\n",
    "\n",
    "Дана матрица $A$ линейного оператора  в базисе $\\{e_1, \\ e_2, \\ e_3\\}$.\n",
    "\n",
    "Найти матрицу этого оператора  в базисе $\\{f_1, \\ f_2, \\ f_3\\}$, если \n",
    "\n",
    "$\\begin{cases}\n",
    "f_1 = c_{11} e_1+ c_{12} e_2 + c_{13} e_3 \\\\\n",
    "f_2 = c_{21} e_1+ c_{22} e_2 + c_{23} e_3 \\\\\n",
    "f_3 = c_{31} e_1+ c_{32} e_2 + c_{33} e_3 \n",
    "\\end{cases}$.\n",
    "\n",
    "МАТРИЦА ОПЕРАТОРА\n",
    "\n",
    "$A = \\begin{pmatrix}\n",
    "-3 & -4 & -1 \\\\\n",
    "4 & -3 & -3 \\\\\n",
    "-3 & 2 & -6\n",
    "\\end{pmatrix}$\n",
    "\n",
    "НОВЫЙ БАЗИС\n",
    "\n",
    "$\\begin{cases}\n",
    "f_1 = e_1+ e_2 + e_3 \\\\\n",
    "f_2 = 2 e_1+ 3 e_2 + 4 e_3 \\\\\n",
    "f_3 = 3 e_1+ 5 e_2 + 8 e_3 \n",
    "\\end{cases}$."
   ]
  },
  {
   "cell_type": "markdown",
   "metadata": {},
   "source": [
    "## Решение / Decision"
   ]
  },
  {
   "cell_type": "code",
   "execution_count": null,
   "metadata": {},
   "outputs": [],
   "source": []
  },
  {
   "cell_type": "markdown",
   "metadata": {},
   "source": [
    "# Типовой расчет 17 / Standard Calculation 17"
   ]
  },
  {
   "cell_type": "markdown",
   "metadata": {},
   "source": [
    "## Постановка  задачи / Formulation of the problem:\n",
    "\n",
    "Линейный оператор переводит векторы $\\mathfrak{e_1, \\ e_2, \\ e_3}$ в векторы $\\mathfrak{f_1, \\ f_2, \\ f_3}$.\n",
    "\n",
    "Найти в какой вектор $\\mathfrak{f}$ оператор переводит данный вектор $\\mathfrak{e}$.\n",
    "\n",
    "$\\mathfrak{e_1} = (3; -2; 2) \\to \\mathfrak{f_1} = (4; -3; 3)\\\\ \n",
    "\\mathfrak{e_2} = (-2; -3; -3) \\to \\mathfrak{f_2} = (4; 3; -1)\\\\ \n",
    "\\mathfrak{e_3} = (2; 3; -3) \\to \\mathfrak{f_3} = (1; 1; 2)$\n",
    "\n",
    "$\\mathfrak{e} = (-4; 7; 11)$"
   ]
  },
  {
   "cell_type": "markdown",
   "metadata": {},
   "source": [
    "## Решение / Decision"
   ]
  },
  {
   "cell_type": "code",
   "execution_count": null,
   "metadata": {},
   "outputs": [],
   "source": []
  },
  {
   "cell_type": "markdown",
   "metadata": {},
   "source": [
    "# Типовой расчет 18 / Standard Calculation 18"
   ]
  },
  {
   "cell_type": "markdown",
   "metadata": {},
   "source": [
    "## Постановка  задачи / Formulation of the problem:\n",
    "\n",
    "Найти собственные значения и собственные векторы линейного оператора,\n",
    "\n",
    "заданного в некотором базисе данной матрицей, при условии,\n",
    "\n",
    "что модуль одного из собственных значений равен 1.\n",
    "\n",
    "$A = \\begin{pmatrix}\n",
    "-4 & -3 & -5 \\\\\n",
    "5 & 4 & 5 \\\\\n",
    "-7 & -7 & -6\n",
    "\\end{pmatrix}$"
   ]
  },
  {
   "cell_type": "markdown",
   "metadata": {},
   "source": [
    "## Решение / Decision\n",
    "\n",
    "1) Обозначим неизвестный собственный вектор матрицы $A: \\overline{u} = (x, y, z)$,\n",
    "\n",
    "а соответствующее ему собственное значение - $\\lambda$.\n",
    "\n",
    "В данном случае выполняется следующее равенство: \n",
    "\n",
    "$A \\overline{u} = \\lambda \\overline{u} \\iff \n",
    "\\begin{pmatrix} -4 & -3 & -5 \\\\ 5 & 4 & 5 \\\\ -7 & -7 & -6 \\end{pmatrix} * \\begin{pmatrix} x \\\\ y \\\\ z \\end{pmatrix} = \\begin{pmatrix} \\lambda x \\\\ \\lambda y \\\\ \\lambda z \\end{pmatrix} \\iff $\n",
    "\n",
    "$\\iff \\begin{pmatrix} -4 - \\lambda & -3 & -5 \\\\ 5 & 4 - \\lambda & 5 \\\\ -7 & -7 & -6 - \\lambda \\end{pmatrix} * \\begin{pmatrix} x \\\\ y \\\\ z \\end{pmatrix} = \\begin{pmatrix} 0 \\\\ 0 \\\\ 0 \\end{pmatrix} $ \n",
    "\n",
    "По определению,  собственный вектор $\\overline{u} = (x, y, z) \\neq (0, 0, 0) \\implies$ \n",
    "\n",
    "$\\iff \\begin{vmatrix} -4 - \\lambda & -3 & -5 \\\\ 5 & 4 - \\lambda & 5 \\\\ -7 & -7 & -6 - \\lambda \\end{vmatrix} = 0$ "
   ]
  },
  {
   "cell_type": "markdown",
   "metadata": {},
   "source": [
    "Ко 1-й строке прибавим 2-ую:\n",
    "\n",
    "$\\begin{vmatrix} 1 - \\lambda & 1 - \\lambda & 0 \\\\ 5 & 4 - \\lambda & 5 \\\\ -7 & -7 & -6 - \\lambda \\end{vmatrix} = 0$ \n",
    "\n",
    "Из 2-ого столбца вычтем 1-ый:\n",
    "\n",
    "$\\begin{vmatrix} 1 - \\lambda & 0 & 0 \\\\ 5 & -1 - \\lambda & 5 \\\\ -7 & 0 & -6 - \\lambda \\end{vmatrix} = 0$ \n",
    "\n",
    "Раскроем определитель по 2-му столбцу:\n",
    "\n",
    "$( -1 - \\lambda) \\begin{vmatrix} 1 - \\lambda & 0 \\\\  -7 & -6 - \\lambda \\end{vmatrix} = 0$\n",
    "\n",
    "$( -1 - \\lambda) * (1 - \\lambda) * (-6 - \\lambda) = 0$\n",
    "\n",
    "$(\\lambda + 1) * (\\lambda - 1) * (\\lambda + 6) = 0$\n",
    "\n",
    "$\\lambda_1 = -6 \\lor \\lambda_2 = -1\\lor \\lambda_3 = 1$"
   ]
  },
  {
   "cell_type": "code",
   "execution_count": 9,
   "metadata": {},
   "outputs": [
    {
     "data": {
      "image/png": "[encoded data removed]",
      "text/latex": [
       "$$\\left[\\begin{matrix}- t - 4 & -3 & -5\\\\5 & - t + 4 & 5\\\\-7 & -7 & - t - 6\\end{matrix}\\right]$$"
      ],
      "text/plain": [
       "⎡-t - 4    -3      -5  ⎤\n",
       "⎢                      ⎥\n",
       "⎢  5     -t + 4    5   ⎥\n",
       "⎢                      ⎥\n",
       "⎣  -7      -7    -t - 6⎦"
      ]
     },
     "execution_count": 9,
     "metadata": {},
     "output_type": "execute_result"
    }
   ],
   "source": [
    "from sympy.abc import t\n",
    "A = sympy.Matrix([[-4-t, -3, -5], [5, 4-t, 5], [-7, -7, -6-t]])\n",
    "A"
   ]
  },
  {
   "cell_type": "code",
   "execution_count": 10,
   "metadata": {},
   "outputs": [
    {
     "data": {
      "image/png": "[encoded data removed]",
      "text/latex": [
       "$$- 15 t + \\left(- t - 6\\right) \\left(- t - 4\\right) \\left(- t + 4\\right) - 90$$"
      ],
      "text/plain": [
       "-15⋅t + (-t - 6)⋅(-t - 4)⋅(-t + 4) - 90"
      ]
     },
     "execution_count": 10,
     "metadata": {},
     "output_type": "execute_result"
    }
   ],
   "source": [
    "A.det()"
   ]
  },
  {
   "cell_type": "code",
   "execution_count": 11,
   "metadata": {},
   "outputs": [
    {
     "data": {
      "image/png": "[encoded data removed]",
      "text/latex": [
       "$$\\left [ -6, \\quad -1, \\quad 1\\right ]$$"
      ],
      "text/plain": [
       "[-6, -1, 1]"
      ]
     },
     "execution_count": 11,
     "metadata": {},
     "output_type": "execute_result"
    }
   ],
   "source": [
    "solve(A.det(), t)"
   ]
  },
  {
   "cell_type": "markdown",
   "metadata": {},
   "source": [
    "2) Найдем собственные векторы для каждого собственного значения.\n",
    "\n",
    "$A \\overline{u_1} = \\lambda_1 \\overline{u_1} \\iff$\n",
    "\n",
    "$\\iff \\begin{pmatrix} -4 - (-6) & -3 & -5 \\\\ 5 & 4 - (-6) & 5 \\\\ -7 & -7 & -6 - (-6) \\end{pmatrix} * \\begin{pmatrix} x_1 \\\\ y_1 \\\\ z_1 \\end{pmatrix} = \\begin{pmatrix} 0 \\\\ 0 \\\\ 0 \\end{pmatrix} $\n",
    "\n",
    "$\\iff \\begin{pmatrix} 2 & -3 & -5 \\\\ 5 & 10 & 5 \\\\ -7 & -7 & 0 \\end{pmatrix} * \\begin{pmatrix} x_1 \\\\ y_1 \\\\ z_1 \\end{pmatrix} = \\begin{pmatrix} 0 \\\\ 0 \\\\ 0 \\end{pmatrix} $\n",
    "\n",
    "Выполним тождественные преобразования.\n",
    "\n",
    "$\\iff \\begin{pmatrix} 7 & 7 & 0 \\\\ 5 & 10 & 5 \\\\ -7 & -7 & 0 \\end{pmatrix} * \\begin{pmatrix} x_1 \\\\ y_1 \\\\ z_1 \\end{pmatrix} = \\begin{pmatrix} 0 \\\\ 0 \\\\ 0 \\end{pmatrix} $ \n",
    "\n",
    "$\\iff \\begin{pmatrix} 1 & 1 & 0 \\\\ 1 & 2 & 1 \\end{pmatrix} * \\begin{pmatrix} x_1 \\\\ y_1 \\\\ z_1 \\end{pmatrix} = \\begin{pmatrix} 0 \\\\ 0 \\end{pmatrix} $ \n",
    "\n",
    "$\\iff \\begin{pmatrix} 1 & 1 & 0 \\\\ 0 & 1 & 1 \\end{pmatrix} * \\begin{pmatrix} x_1 \\\\ y_1 \\\\ z_1 \\end{pmatrix} = \\begin{pmatrix} 0 \\\\ 0 \\end{pmatrix} $ \n",
    "\n",
    "$x_1 + y_1 = 0 \\ \\& \\ y_1 + z_1 = 0 \\iff x_1 = - y_1= z_1$ \n",
    "\n",
    "Выберем произвольное значение $x_1 = 1$. \n",
    "\n",
    "Тогда собственный вектор для $\\lambda_1 = - 6$ будет иметь вид: $\\overline{u_1} = (1; -1; 1)  $"
   ]
  },
  {
   "cell_type": "markdown",
   "metadata": {},
   "source": [
    "$A \\overline{u_2} = \\lambda_2 \\overline{u_2} \\iff$\n",
    "\n",
    "$\\iff \\begin{pmatrix} -4 - (-1) & -3 & -5 \\\\ 5 & 4 - (-1) & 5 \\\\ -7 & -7 & -6 - (-1) \\end{pmatrix} * \\begin{pmatrix} x_2 \\\\ y_2 \\\\ z_2 \\end{pmatrix} = \\begin{pmatrix} 0 \\\\ 0 \\\\ 0 \\end{pmatrix} $\n",
    "\n",
    "$\\iff \\begin{pmatrix} -3 & -3 & -5 \\\\ 5 & 5 & 5 \\\\ -7 & -7 & -5 \\end{pmatrix} * \\begin{pmatrix} x_2 \\\\ y_2 \\\\ z_2 \\end{pmatrix} = \\begin{pmatrix} 0 \\\\ 0 \\\\ 0 \\end{pmatrix} $\n",
    "\n",
    "Выполним тождественные преобразования.\n",
    "\n",
    "$\\iff \\begin{pmatrix} 2 & 2 & 0 \\\\ 5 & 5 & 5 \\\\ -2 & -2 & 0 \\end{pmatrix} * \\begin{pmatrix} x_2 \\\\ y_2 \\\\ z_2 \\end{pmatrix} = \\begin{pmatrix} 0 \\\\ 0 \\\\ 0 \\end{pmatrix} $ \n",
    "\n",
    "$\\iff \\begin{pmatrix} 1 & 1 & 0 \\\\ 1 & 1 & 1 \\end{pmatrix} * \\begin{pmatrix} x_2 \\\\ y_2 \\\\ z_2 \\end{pmatrix} = \\begin{pmatrix} 0 \\\\ 0 \\end{pmatrix} $ \n",
    "\n",
    "$\\iff \\begin{pmatrix} 1 & 1 & 0 \\\\ 0 & 0 & 1 \\end{pmatrix} * \\begin{pmatrix} x_2 \\\\ y_2 \\\\ z_2 \\end{pmatrix} = \\begin{pmatrix} 0 \\\\ 0 \\end{pmatrix} $ \n",
    "\n",
    "$x_2 + y_2 = 0 \\ \\& \\ z_2 = 0 \\iff x_2 = - y_2 \\ \\& \\ z_2 = 0$ \n",
    "\n",
    "Выберем произвольное значение $y_2 = 1$. \n",
    "\n",
    "Тогда собственный вектор для $\\lambda_2 = - 1$ будет иметь вид: $\\overline{u_2} = (-1; 1; 0)  $"
   ]
  },
  {
   "cell_type": "markdown",
   "metadata": {},
   "source": [
    "$A \\overline{u_3} = \\lambda_3 \\overline{u_3} \\iff$\n",
    "\n",
    "$\\iff \\begin{pmatrix} -4 - 1 & -3 & -5 \\\\ 5 & 4 - 1& 5 \\\\ -7 & -7 & -6 - 1 \\end{pmatrix} * \\begin{pmatrix} x_3 \\\\ y_3 \\\\ z_3 \\end{pmatrix} = \\begin{pmatrix} 0 \\\\ 0 \\\\ 0 \\end{pmatrix} $\n",
    "\n",
    "$\\iff \\begin{pmatrix} -5 & -3 & -5 \\\\ 5 & 3 & 5 \\\\ -7 & -7 & -7 \\end{pmatrix} * \\begin{pmatrix} x_3 \\\\ y_3 \\\\ z_3 \\end{pmatrix} = \\begin{pmatrix} 0 \\\\ 0 \\\\ 0 \\end{pmatrix} $\n",
    "\n",
    "Выполним тождественные преобразования.\n",
    "\n",
    "$\\iff \\begin{pmatrix} 5 & 3 & 5 \\\\1 & 1 & 1 \\end{pmatrix} * \\begin{pmatrix} x_3 \\\\ y_3 \\\\ z_3 \\end{pmatrix} = \\begin{pmatrix} 0 \\\\ 0 \\\\ 0 \\end{pmatrix} $ \n",
    "\n",
    "$\\iff \\begin{pmatrix} 0 & -2 & 0 \\\\ 1 & 1 & 1 \\end{pmatrix} * \\begin{pmatrix} x_3 \\\\ y_3 \\\\ z_3 \\end{pmatrix} = \\begin{pmatrix} 0 \\\\ 0 \\end{pmatrix} $ \n",
    "\n",
    "$\\iff \\begin{pmatrix} 0 & 1 & 0 \\\\ 1 & 1 & 1 \\end{pmatrix} * \\begin{pmatrix} x_3 \\\\ y_3 \\\\ z_3 \\end{pmatrix} = \\begin{pmatrix} 0 \\\\ 0 \\end{pmatrix} $ \n",
    "\n",
    "$\\iff \\begin{pmatrix} 0 & 1 & 0 \\\\ 1 & 0 & 1 \\end{pmatrix} * \\begin{pmatrix} x_3 \\\\ y_3 \\\\ z_3 \\end{pmatrix} = \\begin{pmatrix} 0 \\\\ 0 \\end{pmatrix} $ \n",
    "\n",
    "$x_3 + z_3 = 0 \\ \\& \\ y_3 = 0 \\iff x_3 = - z_3 \\ \\& \\ y_3 = 0$ \n",
    "\n",
    "Выберем произвольное значение $z_3 = 1$. \n",
    "\n",
    "Тогда собственный вектор для $\\lambda_3 = 1$ будет иметь вид: $\\overline{u_3} = (-1; 0; 1)  $"
   ]
  },
  {
   "cell_type": "code",
   "execution_count": 12,
   "metadata": {},
   "outputs": [
    {
     "data": {
      "image/png": "[encoded data removed]",
      "text/latex": [
       "$$\\left[\\begin{matrix}-4 & -3 & -5\\\\5 & 4 & 5\\\\-7 & -7 & -6\\end{matrix}\\right]$$"
      ],
      "text/plain": [
       "⎡-4  -3  -5⎤\n",
       "⎢          ⎥\n",
       "⎢5   4   5 ⎥\n",
       "⎢          ⎥\n",
       "⎣-7  -7  -6⎦"
      ]
     },
     "execution_count": 12,
     "metadata": {},
     "output_type": "execute_result"
    }
   ],
   "source": [
    "A = sympy.Matrix([[-4, -3, -5], [5, 4, 5], [-7, -7, -6]])\n",
    "A"
   ]
  },
  {
   "cell_type": "code",
   "execution_count": 13,
   "metadata": {},
   "outputs": [
    {
     "data": {
      "image/png": "[encoded data removed]",
      "text/latex": [
       "$$\\left \\{ -6 : 1, \\quad -1 : 1, \\quad 1 : 1\\right \\}$$"
      ],
      "text/plain": [
       "{-6: 1, -1: 1, 1: 1}"
      ]
     },
     "execution_count": 13,
     "metadata": {},
     "output_type": "execute_result"
    }
   ],
   "source": [
    "A.eigenvals()"
   ]
  },
  {
   "cell_type": "code",
   "execution_count": 14,
   "metadata": {},
   "outputs": [
    {
     "data": {
      "image/png": "[encoded data removed]",
      "text/latex": [
       "$$\\left [ \\left ( -6, \\quad 1, \\quad \\left [ \\left[\\begin{matrix}1\\\\-1\\\\1\\end{matrix}\\right]\\right ]\\right ), \\quad \\left ( -1, \\quad 1, \\quad \\left [ \\left[\\begin{matrix}-1\\\\1\\\\0\\end{matrix}\\right]\\right ]\\right ), \\quad \\left ( 1, \\quad 1, \\quad \\left [ \\left[\\begin{matrix}-1\\\\0\\\\1\\end{matrix}\\right]\\right ]\\right )\\right ]$$"
      ],
      "text/plain": [
       "⎡⎛       ⎡⎡1 ⎤⎤⎞  ⎛       ⎡⎡-1⎤⎤⎞  ⎛      ⎡⎡-1⎤⎤⎞⎤\n",
       "⎢⎜       ⎢⎢  ⎥⎥⎟  ⎜       ⎢⎢  ⎥⎥⎟  ⎜      ⎢⎢  ⎥⎥⎟⎥\n",
       "⎢⎜-6, 1, ⎢⎢-1⎥⎥⎟, ⎜-1, 1, ⎢⎢1 ⎥⎥⎟, ⎜1, 1, ⎢⎢0 ⎥⎥⎟⎥\n",
       "⎢⎜       ⎢⎢  ⎥⎥⎟  ⎜       ⎢⎢  ⎥⎥⎟  ⎜      ⎢⎢  ⎥⎥⎟⎥\n",
       "⎣⎝       ⎣⎣1 ⎦⎦⎠  ⎝       ⎣⎣0 ⎦⎦⎠  ⎝      ⎣⎣1 ⎦⎦⎠⎦"
      ]
     },
     "execution_count": 14,
     "metadata": {},
     "output_type": "execute_result"
    }
   ],
   "source": [
    "A.eigenvects()"
   ]
  }
 ],
 "metadata": {
  "kernelspec": {
   "display_name": "Python 3",
   "language": "python",
   "name": "python3"
  },
  "language_info": {
   "codemirror_mode": {
    "name": "ipython",
    "version": 3
   },
   "file_extension": ".py",
   "mimetype": "text/x-python",
   "name": "python",
   "nbconvert_exporter": "python",
   "pygments_lexer": "ipython3",
   "version": "3.6.4"
  }
 },
 "nbformat": 4,
 "nbformat_minor": 2
}
