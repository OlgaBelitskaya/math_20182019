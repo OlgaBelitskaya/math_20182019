{
 "cells": [
  {
   "cell_type": "code",
   "execution_count": 1,
   "metadata": {},
   "outputs": [
    {
     "data": {
      "text/html": [
       "<style>\n",
       "@import url('https://fonts.googleapis.com/css?family=Roboto&effect=3d|brick-sign|');\n",
       "span {font-family:Roboto; color:black; text-shadow:4px 4px 4px #aaa;}  \n",
       "h1,h2 {font-family:Roboto; color:slategray; text-shadow:4px 4px 4px #aaa;} \n",
       "div.output_subarea, div.output_area pre{font-family:Roboto; font_size:120%; color:darkblue;}\n",
       "</style> "
      ],
      "text/plain": [
       "<IPython.core.display.HTML object>"
      ]
     },
     "metadata": {},
     "output_type": "display_data"
    }
   ],
   "source": [
    "%%html\n",
    "<style>\n",
    "@import url('https://fonts.googleapis.com/css?family=Roboto&effect=3d|brick-sign|');\n",
    "span {font-family:Roboto; color:black; text-shadow:4px 4px 4px #aaa;}  \n",
    "h1,h2 {font-family:Roboto; color:slategray; text-shadow:4px 4px 4px #aaa;} \n",
    "div.output_subarea, div.output_area pre{font-family:Roboto; font_size:120%; color:darkblue;}\n",
    "</style> "
   ]
  },
  {
   "cell_type": "code",
   "execution_count": 2,
   "metadata": {},
   "outputs": [],
   "source": [
    "import math, sympy, numpy\n",
    "sympy.init_printing(use_unicode=True)\n",
    "from sympy import *\n",
    "from mpmath import *\n",
    "from sympy.physics.vector import *\n",
    "\n",
    "from mpl_toolkits.mplot3d import Axes3D\n",
    "from mpl_toolkits.mplot3d.art3d import Poly3DCollection, Line3DCollection\n",
    "\n",
    "import pylab as plt\n",
    "import matplotlib\n",
    "%matplotlib inline"
   ]
  },
  {
   "cell_type": "markdown",
   "metadata": {},
   "source": [
    "[Computer Algebra I: Mathematica, SymPy, Sage, Maxima](http://hyperpolyglot.org/computer-algebra2)\n",
    "\n",
    "[LaTeX/Mathematics](https://en.wikibooks.org/wiki/LaTeX/Mathematics)\n",
    "\n",
    "[SymPy. Matrices](https://docs.sympy.org/latest/tutorial/matrices.html#eigenvalues-eigenvectors-and-diagonalization)\n",
    "\n",
    "[Wolfram MathWorld. Linear Transformation](http://mathworld.wolfram.com/LinearTransformation.html)\n",
    "\n",
    "[МЦНМО. Свободно распространяемые издания](https://www.mccme.ru/free-books/)\n",
    "\n",
    "[ПРЕОБРАЗОВАНИЕ КООРДИНАТ ВЕКТОРА ПРИ ИЗМЕНЕНИИ БАЗИСА](http://twt.mpei.ac.ru/math/LARB/Linsp/LA_02090000e.html)"
   ]
  },
  {
   "cell_type": "markdown",
   "metadata": {},
   "source": [
    "# Типовой расчет 16 / Standard Calculation 16"
   ]
  },
  {
   "cell_type": "markdown",
   "metadata": {},
   "source": [
    "## Постановка  задачи / Formulation of the problem:\n",
    "\n",
    "Дана матрица $A$ линейного оператора  в базисе $\\{e_1, \\ e_2, \\ e_3\\}$.\n",
    "\n",
    "Найти матрицу этого оператора  в базисе $\\{f_1, \\ f_2, \\ f_3\\}$, если \n",
    "\n",
    "$\\begin{cases}\n",
    "f_1 = c_{11} e_1+ c_{12} e_2 + c_{13} e_3 \\\\\n",
    "f_2 = c_{21} e_1+ c_{22} e_2 + c_{23} e_3 \\\\\n",
    "f_3 = c_{31} e_1+ c_{32} e_2 + c_{33} e_3 \n",
    "\\end{cases}$.\n",
    "\n",
    "МАТРИЦА ОПЕРАТОРА\n",
    "\n",
    "$A = \\begin{pmatrix}\n",
    "-3 & -4 & -1 \\\\\n",
    "4 & -3 & -3 \\\\\n",
    "-3 & 2 & -6\n",
    "\\end{pmatrix}$\n",
    "\n",
    "НОВЫЙ БАЗИС\n",
    "\n",
    "$\\begin{cases}\n",
    "f_1 = e_1+ e_2 + e_3 \\\\\n",
    "f_2 = 2 e_1+ 3 e_2 + 4 e_3 \\\\\n",
    "f_3 = 3 e_1+ 5 e_2 + 8 e_3 \n",
    "\\end{cases}$."
   ]
  },
  {
   "cell_type": "code",
   "execution_count": 3,
   "metadata": {},
   "outputs": [
    {
     "data": {
      "image/png": "[encoded data removed]",
      "text/latex": [
       "$$\\left ( \\left[\\begin{matrix}-3 & -4 & -1\\\\4 & -3 & -3\\\\-3 & 2 & -6\\end{matrix}\\right], \\quad \\left[\\begin{matrix}1 & 2 & 3\\\\1 & 3 & 5\\\\1 & 4 & 8\\end{matrix}\\right]\\right )$$"
      ],
      "text/plain": [
       "⎛⎡-3  -4  -1⎤  ⎡1  2  3⎤⎞\n",
       "⎜⎢          ⎥  ⎢       ⎥⎟\n",
       "⎜⎢4   -3  -3⎥, ⎢1  3  5⎥⎟\n",
       "⎜⎢          ⎥  ⎢       ⎥⎟\n",
       "⎝⎣-3  2   -6⎦  ⎣1  4  8⎦⎠"
      ]
     },
     "execution_count": 3,
     "metadata": {},
     "output_type": "execute_result"
    }
   ],
   "source": [
    "A = sympy.Matrix([[-3,-4,-1],[4,-3,-3],[-3,2,-6]])\n",
    "B = sympy.Matrix([[1,2,3],[1,3,5],[1,4,8]])\n",
    "A, B"
   ]
  },
  {
   "cell_type": "markdown",
   "metadata": {},
   "source": [
    "## Решение / Decision"
   ]
  },
  {
   "cell_type": "markdown",
   "metadata": {},
   "source": [
    "1) Запишем матрицу $B$ перехода от базиса $\\{e_1, \\ e_2, \\ e_3\\}$ к базису $\\{f_1, \\ f_2, \\ f_3\\}$.\n",
    "\n",
    "$B = \\begin{pmatrix}\n",
    "1 & 2 & 3 \\\\\n",
    "1 & 3 & 5 \\\\\n",
    "1 & 4 & 8\n",
    "\\end{pmatrix}$\n",
    "\n",
    "Вычислим определитель матрицы $B$.\n",
    "\n",
    "Вычтем из 2-й и 3-й строки 1-ую:\n",
    "\n",
    "$B = \\begin{pmatrix}\n",
    "1 & 1 & 1 \\\\\n",
    "0 & 1 & 2 \\\\\n",
    "0 & 2 & 5\n",
    "\\end{pmatrix}$\n",
    "\n",
    "Разложим по 1-му столбцу:\n",
    "\n",
    "$\\Delta_B = 1 * \\begin{vmatrix} 1 & 2 \\\\ 2 & 5 \\end{vmatrix} = 1 * 5 - 2 * 2 = 1$"
   ]
  },
  {
   "cell_type": "code",
   "execution_count": 4,
   "metadata": {},
   "outputs": [
    {
     "data": {
      "image/png": "[encoded data removed]",
      "text/latex": [
       "$$1$$"
      ],
      "text/plain": [
       "1"
      ]
     },
     "execution_count": 4,
     "metadata": {},
     "output_type": "execute_result"
    }
   ],
   "source": [
    "B.det()"
   ]
  },
  {
   "cell_type": "markdown",
   "metadata": {},
   "source": [
    "Вычислим матрицу алгебраических дополнений:\n",
    "    \n",
    "$B_S = \\begin{pmatrix}\n",
    "3 * 8 - 5 * 4 & -(1 * 8 - 1 * 5) & 1 * 4 - 1 * 3\\\\\n",
    "-(2 * 8 - 3 * 4) & 1 * 8 - 1 * 3 & -(1 * 4 - 1 * 2) \\\\\n",
    "2 * 5 - 3 * 3 & -(1 * 5 - 1 * 3) & 1 * 3 - 1 * 2\n",
    "\\end{pmatrix} = \\begin{pmatrix}\n",
    "4 & -3 & 1 \\\\\n",
    "-4 & 5 & -2 \\\\\n",
    "1 & -2 & 1\n",
    "\\end{pmatrix}$"
   ]
  },
  {
   "cell_type": "code",
   "execution_count": 7,
   "metadata": {},
   "outputs": [
    {
     "data": {
      "image/png": "[encoded data removed]",
      "text/latex": [
       "$$\\left[\\begin{matrix}4 & -3 & 1\\\\-4 & 5 & -2\\\\1 & -2 & 1\\end{matrix}\\right]$$"
      ],
      "text/plain": [
       "⎡4   -3  1 ⎤\n",
       "⎢          ⎥\n",
       "⎢-4  5   -2⎥\n",
       "⎢          ⎥\n",
       "⎣1   -2  1 ⎦"
      ]
     },
     "execution_count": 7,
     "metadata": {},
     "output_type": "execute_result"
    }
   ],
   "source": [
    "B.adjugate().T"
   ]
  },
  {
   "cell_type": "markdown",
   "metadata": {},
   "source": [
    "Запишем транспонированную матрицу алгебраических дополнений:\n",
    "    \n",
    "$B_S^T = \\begin{pmatrix}\n",
    "4 & -4 & 1 \\\\\n",
    "-3 & 5 & -2 \\\\\n",
    "1 & -2 & 1\n",
    "\\end{pmatrix}$"
   ]
  },
  {
   "cell_type": "code",
   "execution_count": 8,
   "metadata": {},
   "outputs": [
    {
     "data": {
      "image/png": "[encoded data removed]",
      "text/latex": [
       "$$\\left[\\begin{matrix}4 & -4 & 1\\\\-3 & 5 & -2\\\\1 & -2 & 1\\end{matrix}\\right]$$"
      ],
      "text/plain": [
       "⎡4   -4  1 ⎤\n",
       "⎢          ⎥\n",
       "⎢-3  5   -2⎥\n",
       "⎢          ⎥\n",
       "⎣1   -2  1 ⎦"
      ]
     },
     "execution_count": 8,
     "metadata": {},
     "output_type": "execute_result"
    }
   ],
   "source": [
    "B.adjugate()"
   ]
  },
  {
   "cell_type": "markdown",
   "metadata": {},
   "source": [
    "Вычислим обратную матрицу $B^{-1}$:\n",
    "\n",
    "$B^{-1} = \\frac{B_S^T}{\\Delta_B} = \\begin{pmatrix}\n",
    "4 & -4 & 1 \\\\\n",
    "-3 & 5 & -2 \\\\\n",
    "1 & -2 & 1\n",
    "\\end{pmatrix} / 1 = \\begin{pmatrix}\n",
    "4 & -4 & 1 \\\\\n",
    "-3 & 5 & -2 \\\\\n",
    "1 & -2 & 1\n",
    "\\end{pmatrix}$"
   ]
  },
  {
   "cell_type": "code",
   "execution_count": 9,
   "metadata": {},
   "outputs": [
    {
     "data": {
      "image/png": "[encoded data removed]",
      "text/latex": [
       "$$\\left[\\begin{matrix}4 & -4 & 1\\\\-3 & 5 & -2\\\\1 & -2 & 1\\end{matrix}\\right]$$"
      ],
      "text/plain": [
       "⎡4   -4  1 ⎤\n",
       "⎢          ⎥\n",
       "⎢-3  5   -2⎥\n",
       "⎢          ⎥\n",
       "⎣1   -2  1 ⎦"
      ]
     },
     "execution_count": 9,
     "metadata": {},
     "output_type": "execute_result"
    }
   ],
   "source": [
    "B.inv()"
   ]
  },
  {
   "cell_type": "markdown",
   "metadata": {},
   "source": [
    "2) Найдем матрицу линейного оператора в новом базисе по формуле:\n",
    "    \n",
    "$\\overline{A} = B * A * B^{-1}$.\n",
    "\n",
    "$B * A = $\n",
    "\n",
    "$= \\begin{pmatrix}\n",
    "1 * (-3)  + 2 * 4 + 3 * (-3) & 1 * (-4)  + 2 * (-3) + 3 * 2 & 1 * (-1)  + 2 * (-3) + 3 * (-6) \\\\\n",
    "1 * (-3)  + 3 * 4 + 5 * (-3) & 1 * (-4)  + 3 * (-3) + 5 * 2 & 1 * (-1)  + 3 * (-3) + 5 * (-6) \\\\ \n",
    "1 * (-3)  + 4 * 4 + 8 * (-3) & 1 * (-4)  + 4 * (-3) + 8 * 2 & 1 * (-1)  + 4 * (-3) + 8 * (-6) \\\\\n",
    "\\end{pmatrix} =  $\n",
    "\n",
    "$= \\begin{pmatrix}\n",
    "-4 & -4 & -25 \\\\\n",
    "-6 & -3 & -40 \\\\ \n",
    "-11 & 0 & -61 \\\\\n",
    "\\end{pmatrix} $"
   ]
  },
  {
   "cell_type": "code",
   "execution_count": 13,
   "metadata": {},
   "outputs": [
    {
     "data": {
      "image/png": "[encoded data removed]",
      "text/latex": [
       "$$\\left ( -4, \\quad -4, \\quad -25\\right )$$"
      ],
      "text/plain": [
       "(-4, -4, -25)"
      ]
     },
     "execution_count": 13,
     "metadata": {},
     "output_type": "execute_result"
    }
   ],
   "source": [
    "1 * (-3)  + 2 * 4 + 3 * (-3), 1 * (-4)  + 2 * (-3) + 3 * 2, 1 * (-1)  + 2 * (-3) + 3 * (-6)"
   ]
  },
  {
   "cell_type": "code",
   "execution_count": 14,
   "metadata": {},
   "outputs": [
    {
     "data": {
      "image/png": "[encoded data removed]",
      "text/latex": [
       "$$\\left ( -6, \\quad -3, \\quad -40\\right )$$"
      ],
      "text/plain": [
       "(-6, -3, -40)"
      ]
     },
     "execution_count": 14,
     "metadata": {},
     "output_type": "execute_result"
    }
   ],
   "source": [
    "1 * (-3)  + 3 * 4 + 5 * (-3), 1 * (-4)  + 3 * (-3) + 5 * 2, 1 * (-1)  + 3 * (-3) + 5 * (-6)"
   ]
  },
  {
   "cell_type": "code",
   "execution_count": 15,
   "metadata": {},
   "outputs": [
    {
     "data": {
      "image/png": "[encoded data removed]",
      "text/latex": [
       "$$\\left ( -11, \\quad 0, \\quad -61\\right )$$"
      ],
      "text/plain": [
       "(-11, 0, -61)"
      ]
     },
     "execution_count": 15,
     "metadata": {},
     "output_type": "execute_result"
    }
   ],
   "source": [
    "1 * (-3)  + 4 * 4 + 8 * (-3), 1 * (-4)  + 4 * (-3) + 8 * 2, 1 * (-1)  + 4 * (-3) + 8 * (-6)"
   ]
  },
  {
   "cell_type": "code",
   "execution_count": 24,
   "metadata": {},
   "outputs": [
    {
     "data": {
      "image/png": "[encoded data removed]",
      "text/latex": [
       "$$\\left[\\begin{matrix}-4 & -4 & -25\\\\-6 & -3 & -40\\\\-11 & 0 & -61\\end{matrix}\\right]$$"
      ],
      "text/plain": [
       "⎡-4   -4  -25⎤\n",
       "⎢            ⎥\n",
       "⎢-6   -3  -40⎥\n",
       "⎢            ⎥\n",
       "⎣-11  0   -61⎦"
      ]
     },
     "execution_count": 24,
     "metadata": {},
     "output_type": "execute_result"
    }
   ],
   "source": [
    "B * A"
   ]
  },
  {
   "cell_type": "markdown",
   "metadata": {},
   "source": [
    "Теперь $B * A$ умножим на матрицу $B^{-1}$:\n",
    "\n",
    "$\\overline{A} = \\begin{pmatrix}\n",
    "-4 * 4 - 4 * (-3) - 25 * 1 & -4 * (-4) - 4 * 5 - 25 * (-2) & -4 * 1 - 4 * (-2) - 25 * 1 \\\\\n",
    "-6 * 4 - 3 * (-3) - 40 * 1 & -6 * (-4) - 3 * 5 - 40 * (-2) & -6 * 1 - 3 * (-2) - 40 * 1 \\\\ \n",
    "-11 * 4 + 0 * (-3) - 61 * 1 & -11 * (-4) + 0 * 5 - 61 * (-2) & -11 * 1 + 0 * (-2) - 61 * 1 \\\\\n",
    "\\end{pmatrix} $\n",
    "\n",
    "$\\overline{A} = \\begin{pmatrix}\n",
    "-29 & 46 & -21 \\\\\n",
    "-55 & 89 & -34 \\\\ \n",
    "-105 & 166 & -72 \\\\\n",
    "\\end{pmatrix} $"
   ]
  },
  {
   "cell_type": "code",
   "execution_count": 18,
   "metadata": {},
   "outputs": [
    {
     "data": {
      "image/png": "[encoded data removed]",
      "text/latex": [
       "$$\\left ( -29, \\quad 46, \\quad -21\\right )$$"
      ],
      "text/plain": [
       "(-29, 46, -21)"
      ]
     },
     "execution_count": 18,
     "metadata": {},
     "output_type": "execute_result"
    }
   ],
   "source": [
    "-4 * 4 - 4 * (-3) - 25 * 1, -4 * (-4) - 4 * 5 - 25 * (-2), -4 * 1 - 4 * (-2) - 25 * 1"
   ]
  },
  {
   "cell_type": "code",
   "execution_count": 23,
   "metadata": {},
   "outputs": [
    {
     "data": {
      "image/png": "[encoded data removed]",
      "text/latex": [
       "$$\\left ( -55, \\quad 89, \\quad -40\\right )$$"
      ],
      "text/plain": [
       "(-55, 89, -40)"
      ]
     },
     "execution_count": 23,
     "metadata": {},
     "output_type": "execute_result"
    }
   ],
   "source": [
    "-6 * 4 - 3 * (-3) - 40 * 1, -6 * (-4) - 3 * 5 - 40 * (-2), -6 * 1 - 3 * (-2) - 40 * 1"
   ]
  },
  {
   "cell_type": "code",
   "execution_count": 21,
   "metadata": {},
   "outputs": [
    {
     "data": {
      "image/png": "[encoded data removed]",
      "text/latex": [
       "$$\\left ( -105, \\quad 166, \\quad -72\\right )$$"
      ],
      "text/plain": [
       "(-105, 166, -72)"
      ]
     },
     "execution_count": 21,
     "metadata": {},
     "output_type": "execute_result"
    }
   ],
   "source": [
    "-11 * 4 + 0 * (-3) - 61 * 1, -11 * (-4) + 0 * 5 - 61 * (-2), -11 * 1 + 0 * (-2) - 61 * 1"
   ]
  },
  {
   "cell_type": "code",
   "execution_count": 22,
   "metadata": {},
   "outputs": [
    {
     "data": {
      "image/png": "[encoded data removed]",
      "text/latex": [
       "$$\\left[\\begin{matrix}-29 & 46 & -21\\\\-55 & 89 & -40\\\\-105 & 166 & -72\\end{matrix}\\right]$$"
      ],
      "text/plain": [
       "⎡-29   46   -21⎤\n",
       "⎢              ⎥\n",
       "⎢-55   89   -40⎥\n",
       "⎢              ⎥\n",
       "⎣-105  166  -72⎦"
      ]
     },
     "execution_count": 22,
     "metadata": {},
     "output_type": "execute_result"
    }
   ],
   "source": [
    "B * A * B.inv()"
   ]
  },
  {
   "cell_type": "markdown",
   "metadata": {},
   "source": [
    "# Типовой расчет 17 / Standard Calculation 17"
   ]
  },
  {
   "cell_type": "markdown",
   "metadata": {},
   "source": [
    "## Постановка  задачи / Formulation of the problem:\n",
    "\n",
    "Линейный оператор переводит векторы $\\mathfrak{e_1, \\ e_2, \\ e_3}$ в векторы $\\mathfrak{f_1, \\ f_2, \\ f_3}$.\n",
    "\n",
    "Найти, в какой вектор $\\mathfrak{f}$ оператор переводит данный вектор $\\mathfrak{e}$.\n",
    "\n",
    "$\\mathfrak{e_1} = (1; 3; 3) \\to \\mathfrak{f_1} = (1; 4; -2)\\\\ \n",
    "\\mathfrak{e_2} = (-3; -3; -2) \\to \\mathfrak{f_2} = (-2; -1; 2)\\\\ \n",
    "\\mathfrak{e_3} = (-2; 2; 3) \\to \\mathfrak{f_3} = (4; 1; -2)$\n",
    "\n",
    "$\\mathfrak{e} = (-19; 7; 16)$"
   ]
  },
  {
   "cell_type": "markdown",
   "metadata": {},
   "source": [
    "## Решение / Decision\n",
    "\n",
    "1) Обозначим $A$ - матрицу линейного оператора, и запишем систему уравнений:\n",
    "\n",
    "$\\begin{cases}\n",
    "A \\mathfrak{e_1} = \\mathfrak{f_1} \\\\\n",
    "A \\mathfrak{e_2} = \\mathfrak{f_2} \\\\\n",
    "A \\mathfrak{e_3} = \\mathfrak{f_3} \n",
    "\\end{cases} \\iff \\begin{cases}\n",
    "A_{11} e_{11} + A_{12} e_{12} + A_{13} e_{13} = f_{11} \\\\\n",
    "A_{21} e_{11} + A_{22} e_{12} + A_{23} e_{13} = f_{12} \\\\\n",
    "A_{31} e_{11} + A_{32} e_{12} + A_{33} e_{13} = f_{13} \\\\\n",
    "A_{11} e_{21} + A_{12} e_{22} + A_{13} e_{23} = f_{21} \\\\\n",
    "A_{21} e_{21} + A_{22} e_{22} + A_{23} e_{23} = f_{22} \\\\\n",
    "A_{31} e_{21} + A_{32} e_{22} + A_{33} e_{23} = f_{23} \\\\\n",
    "A_{11} e_{31} + A_{12} e_{32} + A_{13} e_{33} = f_{31} \\\\\n",
    "A_{21} e_{31} + A_{22} e_{32} + A_{23} e_{33} = f_{32} \\\\\n",
    "A_{31} e_{31} + A_{32} e_{32} + A_{33} e_{33} = f_{33} \\\\\n",
    "\\end{cases}$"
   ]
  },
  {
   "cell_type": "code",
   "execution_count": 42,
   "metadata": {},
   "outputs": [
    {
     "data": {
      "image/png": "[encoded data removed]",
      "text/latex": [
       "$$\\left ( \\left[\\begin{matrix}A_{0, 0} & A_{0, 1} & A_{0, 2}\\\\A_{1, 0} & A_{1, 1} & A_{1, 2}\\\\A_{2, 0} & A_{2, 1} & A_{2, 2}\\end{matrix}\\right], \\quad \\left[\\begin{matrix}1 & -3 & -2\\\\3 & -3 & 2\\\\3 & -2 & 3\\end{matrix}\\right], \\quad \\left[\\begin{matrix}1 & -2 & 4\\\\4 & -1 & 1\\\\-2 & 2 & -2\\end{matrix}\\right]\\right )$$"
      ],
      "text/plain": [
       "⎛⎡A₀₀  A₀₁  A₀₂⎤  ⎡1  -3  -2⎤  ⎡1   -2  4 ⎤⎞\n",
       "⎜⎢             ⎥  ⎢         ⎥  ⎢          ⎥⎟\n",
       "⎜⎢A₁₀  A₁₁  A₁₂⎥, ⎢3  -3  2 ⎥, ⎢4   -1  1 ⎥⎟\n",
       "⎜⎢             ⎥  ⎢         ⎥  ⎢          ⎥⎟\n",
       "⎝⎣A₂₀  A₂₁  A₂₂⎦  ⎣3  -2  3 ⎦  ⎣-2  2   -2⎦⎠"
      ]
     },
     "execution_count": 42,
     "metadata": {},
     "output_type": "execute_result"
    }
   ],
   "source": [
    "E = sympy.Matrix([[1,-3,-2], [3,-3,2], [3,-2,3]])\n",
    "F =  sympy.Matrix([[1,-2,4], [4,-1,1], [-2,2,-2]])\n",
    "A = sympy.MatrixSymbol('A', 3, 3)\n",
    "A.as_explicit(), E, F"
   ]
  },
  {
   "cell_type": "code",
   "execution_count": 44,
   "metadata": {},
   "outputs": [
    {
     "data": {
      "image/png": "[encoded data removed]",
      "text/latex": [
       "$$\\left ( \\left[\\begin{matrix}A_{0, 0} + 3 A_{0, 1} + 3 A_{0, 2}\\\\A_{1, 0} + 3 A_{1, 1} + 3 A_{1, 2}\\\\A_{2, 0} + 3 A_{2, 1} + 3 A_{2, 2}\\end{matrix}\\right], \\quad \\left[\\begin{matrix}1\\\\4\\\\-2\\end{matrix}\\right]\\right )$$"
      ],
      "text/plain": [
       "⎛⎡A₀₀ + 3⋅A₀₁ + 3⋅A₀₂⎤  ⎡1 ⎤⎞\n",
       "⎜⎢                   ⎥  ⎢  ⎥⎟\n",
       "⎜⎢A₁₀ + 3⋅A₁₁ + 3⋅A₁₂⎥, ⎢4 ⎥⎟\n",
       "⎜⎢                   ⎥  ⎢  ⎥⎟\n",
       "⎝⎣A₂₀ + 3⋅A₂₁ + 3⋅A₂₂⎦  ⎣-2⎦⎠"
      ]
     },
     "execution_count": 44,
     "metadata": {},
     "output_type": "execute_result"
    }
   ],
   "source": [
    "e1 = sympy.Matrix([1,3,3])\n",
    "f1 = sympy.Matrix([1,4,-2])\n",
    "(A * e1).as_explicit(), f1"
   ]
  },
  {
   "cell_type": "code",
   "execution_count": 45,
   "metadata": {},
   "outputs": [
    {
     "data": {
      "image/png": "[encoded data removed]",
      "text/latex": [
       "$$\\left ( \\left[\\begin{matrix}A_{0, 0} + 3 A_{0, 1} + 3 A_{0, 2} & - 3 A_{0, 0} - 3 A_{0, 1} - 2 A_{0, 2} & - 2 A_{0, 0} + 2 A_{0, 1} + 3 A_{0, 2}\\\\A_{1, 0} + 3 A_{1, 1} + 3 A_{1, 2} & - 3 A_{1, 0} - 3 A_{1, 1} - 2 A_{1, 2} & - 2 A_{1, 0} + 2 A_{1, 1} + 3 A_{1, 2}\\\\A_{2, 0} + 3 A_{2, 1} + 3 A_{2, 2} & - 3 A_{2, 0} - 3 A_{2, 1} - 2 A_{2, 2} & - 2 A_{2, 0} + 2 A_{2, 1} + 3 A_{2, 2}\\end{matrix}\\right], \\quad \\left[\\begin{matrix}1 & -2 & 4\\\\4 & -1 & 1\\\\-2 & 2 & -2\\end{matrix}\\right]\\right )$$"
      ],
      "text/plain": [
       "⎛⎡A₀₀ + 3⋅A₀₁ + 3⋅A₀₂  -3⋅A₀₀ - 3⋅A₀₁ - 2⋅A₀₂  -2⋅A₀₀ + 2⋅A₀₁ + 3⋅A₀₂⎤  ⎡1   -\n",
       "⎜⎢                                                                   ⎥  ⎢     \n",
       "⎜⎢A₁₀ + 3⋅A₁₁ + 3⋅A₁₂  -3⋅A₁₀ - 3⋅A₁₁ - 2⋅A₁₂  -2⋅A₁₀ + 2⋅A₁₁ + 3⋅A₁₂⎥, ⎢4   -\n",
       "⎜⎢                                                                   ⎥  ⎢     \n",
       "⎝⎣A₂₀ + 3⋅A₂₁ + 3⋅A₂₂  -3⋅A₂₀ - 3⋅A₂₁ - 2⋅A₂₂  -2⋅A₂₀ + 2⋅A₂₁ + 3⋅A₂₂⎦  ⎣-2  2\n",
       "\n",
       "2  4 ⎤⎞\n",
       "     ⎥⎟\n",
       "1  1 ⎥⎟\n",
       "     ⎥⎟\n",
       "   -2⎦⎠"
      ]
     },
     "execution_count": 45,
     "metadata": {},
     "output_type": "execute_result"
    }
   ],
   "source": [
    "(A * E).as_explicit(), F"
   ]
  },
  {
   "cell_type": "markdown",
   "metadata": {},
   "source": [
    "2) Найдем элементы матрицы $A$ .\n",
    "\n",
    "Расширенная матрица для переменных 1-ой строки $A$ имеет вид:\n",
    "    \n",
    "$\\left ( \\begin{array} {ccc | c} \n",
    "1 & 3 & 3 & 1 \\\\\n",
    "-3 & -3 & -2 & -2 \\\\\n",
    "-2 & 2 & 3 & 4\n",
    "\\end{array} \\right )$\n",
    "\n",
    "Выполним элементарные преобразования:\n",
    "\n",
    "$\\left ( \\begin{array} {ccc | c} \n",
    "1 & 3 & 3 & 1 \\\\\n",
    "0 & 6 & 7 & 1 \\\\\n",
    "0 & 8 & 9 & 6\n",
    "\\end{array} \\right ) \\iff\n",
    "\\left ( \\begin{array} {ccc | c} \n",
    "1 & 3 & 3 & 1 \\\\\n",
    "0 & 6 & 7 & 1 \\\\\n",
    "0 & 2 & 2 & 5\n",
    "\\end{array} \\right ) \\iff$\n",
    "\n",
    "$\\iff \\left ( \\begin{array} {ccc | c} \n",
    "-2 & 0 & 1 & -1 \\\\\n",
    "0 & 6 & 7 & 1 \\\\\n",
    "0 & 0 & 1 & -14\n",
    "\\end{array} \\right ) \\iff\n",
    "\\left ( \\begin{array} {ccc | c} \n",
    "-2 & 0 & 0 & 13 \\\\\n",
    "0 & 6 & 0 & 99 \\\\\n",
    "0 & 0 & 1 & -14\n",
    "\\end{array} \\right ) \\iff$\n",
    "\n",
    "$\\iff \\left ( \\begin{array} {ccc | c} \n",
    "1 & 0 & 0 &  -6.5 \\\\\n",
    "0 & 1 & 0 & 16.5 \\\\\n",
    "0 & 0 & 1 & -14\n",
    "\\end{array} \\right ) \\iff\n",
    "(A_{11}; A_{12} ; A_{13}) = (-6.5; 16.5; -14)$"
   ]
  },
  {
   "cell_type": "code",
   "execution_count": 35,
   "metadata": {},
   "outputs": [
    {
     "data": {
      "image/png": "[encoded data removed]",
      "text/latex": [
       "$$\\left \\{ a : - \\frac{13}{2}, \\quad b : \\frac{33}{2}, \\quad c : -14\\right \\}$$"
      ],
      "text/plain": [
       "{a: -13/2, b: 33/2, c: -14}"
      ]
     },
     "execution_count": 35,
     "metadata": {},
     "output_type": "execute_result"
    }
   ],
   "source": [
    "from sympy.abc import a,b,c\n",
    "system = sympy.Matrix([ [1,3,3,1], [-3,-3,-2,-2], [-2,2,3,4] ])\n",
    "sympy.solve_linear_system(system, a,b,c)"
   ]
  },
  {
   "cell_type": "markdown",
   "metadata": {},
   "source": [
    "Расширенная матрица для переменных 2-ой строки $A$ имеет вид:\n",
    "    \n",
    "$\\left ( \\begin{array} {ccc | c} \n",
    "1 & 3 & 3 & 4 \\\\\n",
    "-3 & -3 & -2 & -1 \\\\\n",
    "-2 & 2 & 3 & 1\n",
    "\\end{array} \\right )$\n",
    "\n",
    "Выполним элементарные преобразования:\n",
    "\n",
    "$\\left ( \\begin{array} {ccc | c} \n",
    "1 & 3 & 3 & 4 \\\\\n",
    "0 & 6 & 7 & 11 \\\\\n",
    "0 & 8 & 9 & 9\n",
    "\\end{array} \\right ) \\iff\n",
    "\\left ( \\begin{array} {ccc | c} \n",
    "1 & 3 & 3 & 4 \\\\\n",
    "0 & 6 & 7 & 11 \\\\\n",
    "0 & 2 & 2 & -2\n",
    "\\end{array} \\right ) \\iff$\n",
    "\n",
    "$\\iff \\left ( \\begin{array} {ccc | c} \n",
    "-2 & 0 & 1 & 3 \\\\\n",
    "0 & 6 & 7 & 11 \\\\\n",
    "0 & 0 & 1 & 17\n",
    "\\end{array} \\right ) \\iff\n",
    "\\left ( \\begin{array} {ccc | c} \n",
    "-2 & 0 & 0 & -14 \\\\\n",
    "0 & 6 & 0 & -108 \\\\\n",
    "0 & 0 & 1 & 17\n",
    "\\end{array} \\right ) \\iff$\n",
    "\n",
    "$\\iff \\left ( \\begin{array} {ccc | c} \n",
    "1 & 0 & 0 &  7 \\\\\n",
    "0 & 1 & 0 & -18\\\\\n",
    "0 & 0 & 1 & 17\n",
    "\\end{array} \\right ) \\iff\n",
    "(A_{21}; A_{22} ; A_{23}) = (7; -18; 17)$"
   ]
  },
  {
   "cell_type": "code",
   "execution_count": 47,
   "metadata": {},
   "outputs": [
    {
     "data": {
      "image/png": "[encoded data removed]",
      "text/latex": [
       "$$\\left \\{ d : 7, \\quad e : -18, \\quad f : 17\\right \\}$$"
      ],
      "text/plain": [
       "{d: 7, e: -18, f: 17}"
      ]
     },
     "execution_count": 47,
     "metadata": {},
     "output_type": "execute_result"
    }
   ],
   "source": [
    "from sympy.abc import d,e,f\n",
    "system = sympy.Matrix([ [1,3,3,4], [-3,-3,-2,-1], [-2,2,3,1] ])\n",
    "sympy.solve_linear_system(system, d,e,f)"
   ]
  },
  {
   "cell_type": "markdown",
   "metadata": {},
   "source": [
    "Расширенная матрица для переменных 3-й строки $A$ имеет вид:\n",
    "    \n",
    "$\\left ( \\begin{array} {ccc | c} \n",
    "1 & 3 & 3 & -2 \\\\\n",
    "-3 & -3 & -2 & 2 \\\\\n",
    "-2 & 2 & 3 & -2\n",
    "\\end{array} \\right )$\n",
    "\n",
    "Выполним элементарные преобразования:\n",
    "\n",
    "$\\left ( \\begin{array} {ccc | c} \n",
    "1 & 3 & 3 & -2 \\\\\n",
    "0 & 6 & 7 & -4 \\\\\n",
    "0 & 8 & 9 & -6\n",
    "\\end{array} \\right ) \\iff\n",
    "\\left ( \\begin{array} {ccc | c} \n",
    "1 & 3 & 3 & -2 \\\\\n",
    "0 & 6 & 7 & -4 \\\\\n",
    "0 & 2 & 2 & -2\n",
    "\\end{array} \\right ) \\iff$\n",
    "\n",
    "$\\iff \\left ( \\begin{array} {ccc | c} \n",
    "-2 & 0 & 1 & 0 \\\\\n",
    "0 & 6 & 7 & -4 \\\\\n",
    "0 & 0 & 1 & 2\n",
    "\\end{array} \\right ) \\iff\n",
    "\\left ( \\begin{array} {ccc | c} \n",
    "-2 & 0 & 0 & -2 \\\\\n",
    "0 & 6 & 0 & -18 \\\\\n",
    "0 & 0 & 1 & 2\n",
    "\\end{array} \\right ) \\iff$\n",
    "\n",
    "$\\iff \\left ( \\begin{array} {ccc | c} \n",
    "1 & 0 & 0 &  1 \\\\\n",
    "0 & 1 & 0 & -3\\\\\n",
    "0 & 0 & 1 & 2\n",
    "\\end{array} \\right ) \\iff\n",
    "(A_{31}; A_{32} ; A_{33}) = (1; -3; 2)$"
   ]
  },
  {
   "cell_type": "code",
   "execution_count": 48,
   "metadata": {},
   "outputs": [
    {
     "data": {
      "image/png": "[encoded data removed]",
      "text/latex": [
       "$$\\left \\{ g : 1, \\quad h : -3, \\quad i : 2\\right \\}$$"
      ],
      "text/plain": [
       "{g: 1, h: -3, i: 2}"
      ]
     },
     "execution_count": 48,
     "metadata": {},
     "output_type": "execute_result"
    }
   ],
   "source": [
    "from sympy.abc import g,h,i\n",
    "system = sympy.Matrix([ [1,3,3,-2], [-3,-3,-2,2], [-2,2,3,-2] ])\n",
    "sympy.solve_linear_system(system, g,h,i)"
   ]
  },
  {
   "cell_type": "markdown",
   "metadata": {},
   "source": [
    "3) Применим линейный оператор к вектору $\\mathfrak{e}$.\n",
    "\n",
    "$A \\mathfrak{e} = \\mathfrak{f} \\iff \\begin{cases}\n",
    "A_{11} e_{1} + A_{12} e_{2} + A_{13} e_{3} = f_{1} \\\\\n",
    "A_{21} e_{1} + A_{22} e_{2} + A_{23} e_{3} = f_{2} \\\\\n",
    "A_{31} e_{1} + A_{32} e_{2} + A_{33} e_{3} = f_{3} \\\\\n",
    "\\end{cases}$\n",
    "\n",
    "$\\begin{cases}\n",
    "-6.5 * (-19) + 16.5 * 7 - 14 * 16 = 15 \\\\\n",
    "7 * (-19) - 18 * 7 + 17 * 16 = 13 \\\\\n",
    "1 * (-19) - 3 * 7 + 2 * 16 = -8 \\\\\n",
    "\\end{cases}$\n",
    "\n",
    "$\\mathfrak{f} = (15; 13; -8)$"
   ]
  },
  {
   "cell_type": "code",
   "execution_count": 54,
   "metadata": {},
   "outputs": [
    {
     "data": {
      "image/png": "[encoded data removed]",
      "text/latex": [
       "$$\\left[\\begin{matrix}15.0\\\\13\\\\-8\\end{matrix}\\right]$$"
      ],
      "text/plain": [
       "⎡15.0⎤\n",
       "⎢    ⎥\n",
       "⎢ 13 ⎥\n",
       "⎢    ⎥\n",
       "⎣ -8 ⎦"
      ]
     },
     "execution_count": 54,
     "metadata": {},
     "output_type": "execute_result"
    }
   ],
   "source": [
    "e = sympy.Matrix([-19,7,16])\n",
    "A =  sympy.Matrix([[-6.5,16.5,-14], [7,-18,17], [1,-3,2]])\n",
    "f = A * e\n",
    "f"
   ]
  },
  {
   "cell_type": "markdown",
   "metadata": {},
   "source": [
    "# Типовой расчет 18 / Standard Calculation 18"
   ]
  },
  {
   "cell_type": "markdown",
   "metadata": {},
   "source": [
    "## Постановка  задачи / Formulation of the problem:\n",
    "\n",
    "Найти собственные значения и собственные векторы линейного оператора,\n",
    "\n",
    "заданного в некотором базисе данной матрицей, при условии,\n",
    "\n",
    "что модуль одного из собственных значений равен 1.\n",
    "\n",
    "$A = \\begin{pmatrix}\n",
    "-4 & -3 & -5 \\\\\n",
    "5 & 4 & 5 \\\\\n",
    "-7 & -7 & -6\n",
    "\\end{pmatrix}$"
   ]
  },
  {
   "cell_type": "markdown",
   "metadata": {},
   "source": [
    "## Решение / Decision\n",
    "\n",
    "1) Обозначим неизвестный собственный вектор матрицы $A: \\overline{u} = (x, y, z)$,\n",
    "\n",
    "а соответствующее ему собственное значение - $\\lambda$.\n",
    "\n",
    "В данном случае выполняется следующее равенство: \n",
    "\n",
    "$A \\overline{u} = \\lambda \\overline{u} \\iff \n",
    "\\begin{pmatrix} -4 & -3 & -5 \\\\ 5 & 4 & 5 \\\\ -7 & -7 & -6 \\end{pmatrix} * \\begin{pmatrix} x \\\\ y \\\\ z \\end{pmatrix} = \\begin{pmatrix} \\lambda x \\\\ \\lambda y \\\\ \\lambda z \\end{pmatrix} \\iff $\n",
    "\n",
    "$\\iff \\begin{pmatrix} -4 - \\lambda & -3 & -5 \\\\ 5 & 4 - \\lambda & 5 \\\\ -7 & -7 & -6 - \\lambda \\end{pmatrix} * \\begin{pmatrix} x \\\\ y \\\\ z \\end{pmatrix} = \\begin{pmatrix} 0 \\\\ 0 \\\\ 0 \\end{pmatrix} $ \n",
    "\n",
    "По определению,  собственный вектор $\\overline{u} = (x, y, z) \\neq (0, 0, 0) \\implies$ \n",
    "\n",
    "$\\iff \\begin{vmatrix} -4 - \\lambda & -3 & -5 \\\\ 5 & 4 - \\lambda & 5 \\\\ -7 & -7 & -6 - \\lambda \\end{vmatrix} = 0$ "
   ]
  },
  {
   "cell_type": "markdown",
   "metadata": {},
   "source": [
    "Ко 1-й строке прибавим 2-ую:\n",
    "\n",
    "$\\begin{vmatrix} 1 - \\lambda & 1 - \\lambda & 0 \\\\ 5 & 4 - \\lambda & 5 \\\\ -7 & -7 & -6 - \\lambda \\end{vmatrix} = 0$ \n",
    "\n",
    "Из 2-ого столбца вычтем 1-ый:\n",
    "\n",
    "$\\begin{vmatrix} 1 - \\lambda & 0 & 0 \\\\ 5 & -1 - \\lambda & 5 \\\\ -7 & 0 & -6 - \\lambda \\end{vmatrix} = 0$ \n",
    "\n",
    "Раскроем определитель по 2-му столбцу:\n",
    "\n",
    "$( -1 - \\lambda) \\begin{vmatrix} 1 - \\lambda & 0 \\\\  -7 & -6 - \\lambda \\end{vmatrix} = 0$\n",
    "\n",
    "$( -1 - \\lambda) * (1 - \\lambda) * (-6 - \\lambda) = 0$\n",
    "\n",
    "$(\\lambda + 1) * (\\lambda - 1) * (\\lambda + 6) = 0$\n",
    "\n",
    "$\\lambda_1 = -6 \\lor \\lambda_2 = -1\\lor \\lambda_3 = 1$"
   ]
  },
  {
   "cell_type": "code",
   "execution_count": 9,
   "metadata": {},
   "outputs": [
    {
     "data": {
      "image/png": "[encoded data removed]",
      "text/latex": [
       "$$\\left[\\begin{matrix}- t - 4 & -3 & -5\\\\5 & - t + 4 & 5\\\\-7 & -7 & - t - 6\\end{matrix}\\right]$$"
      ],
      "text/plain": [
       "⎡-t - 4    -3      -5  ⎤\n",
       "⎢                      ⎥\n",
       "⎢  5     -t + 4    5   ⎥\n",
       "⎢                      ⎥\n",
       "⎣  -7      -7    -t - 6⎦"
      ]
     },
     "execution_count": 9,
     "metadata": {},
     "output_type": "execute_result"
    }
   ],
   "source": [
    "from sympy.abc import t\n",
    "A = sympy.Matrix([[-4-t, -3, -5], [5, 4-t, 5], [-7, -7, -6-t]])\n",
    "A"
   ]
  },
  {
   "cell_type": "code",
   "execution_count": 10,
   "metadata": {},
   "outputs": [
    {
     "data": {
      "image/png": "[encoded data removed]",
      "text/latex": [
       "$$- 15 t + \\left(- t - 6\\right) \\left(- t - 4\\right) \\left(- t + 4\\right) - 90$$"
      ],
      "text/plain": [
       "-15⋅t + (-t - 6)⋅(-t - 4)⋅(-t + 4) - 90"
      ]
     },
     "execution_count": 10,
     "metadata": {},
     "output_type": "execute_result"
    }
   ],
   "source": [
    "A.det()"
   ]
  },
  {
   "cell_type": "code",
   "execution_count": 11,
   "metadata": {},
   "outputs": [
    {
     "data": {
      "image/png": "[encoded data removed]",
      "text/latex": [
       "$$\\left [ -6, \\quad -1, \\quad 1\\right ]$$"
      ],
      "text/plain": [
       "[-6, -1, 1]"
      ]
     },
     "execution_count": 11,
     "metadata": {},
     "output_type": "execute_result"
    }
   ],
   "source": [
    "solve(A.det(), t)"
   ]
  },
  {
   "cell_type": "markdown",
   "metadata": {},
   "source": [
    "2) Найдем собственные векторы для каждого собственного значения.\n",
    "\n",
    "$A \\overline{u_1} = \\lambda_1 \\overline{u_1} \\iff$\n",
    "\n",
    "$\\iff \\begin{pmatrix} -4 - (-6) & -3 & -5 \\\\ 5 & 4 - (-6) & 5 \\\\ -7 & -7 & -6 - (-6) \\end{pmatrix} * \\begin{pmatrix} x_1 \\\\ y_1 \\\\ z_1 \\end{pmatrix} = \\begin{pmatrix} 0 \\\\ 0 \\\\ 0 \\end{pmatrix} $\n",
    "\n",
    "$\\iff \\begin{pmatrix} 2 & -3 & -5 \\\\ 5 & 10 & 5 \\\\ -7 & -7 & 0 \\end{pmatrix} * \\begin{pmatrix} x_1 \\\\ y_1 \\\\ z_1 \\end{pmatrix} = \\begin{pmatrix} 0 \\\\ 0 \\\\ 0 \\end{pmatrix} $\n",
    "\n",
    "Выполним тождественные преобразования.\n",
    "\n",
    "$\\iff \\begin{pmatrix} 7 & 7 & 0 \\\\ 5 & 10 & 5 \\\\ -7 & -7 & 0 \\end{pmatrix} * \\begin{pmatrix} x_1 \\\\ y_1 \\\\ z_1 \\end{pmatrix} = \\begin{pmatrix} 0 \\\\ 0 \\\\ 0 \\end{pmatrix} $ \n",
    "\n",
    "$\\iff \\begin{pmatrix} 1 & 1 & 0 \\\\ 1 & 2 & 1 \\end{pmatrix} * \\begin{pmatrix} x_1 \\\\ y_1 \\\\ z_1 \\end{pmatrix} = \\begin{pmatrix} 0 \\\\ 0 \\end{pmatrix} $ \n",
    "\n",
    "$\\iff \\begin{pmatrix} 1 & 1 & 0 \\\\ 0 & 1 & 1 \\end{pmatrix} * \\begin{pmatrix} x_1 \\\\ y_1 \\\\ z_1 \\end{pmatrix} = \\begin{pmatrix} 0 \\\\ 0 \\end{pmatrix} $ \n",
    "\n",
    "$x_1 + y_1 = 0 \\ \\& \\ y_1 + z_1 = 0 \\iff x_1 = - y_1= z_1$ \n",
    "\n",
    "Выберем произвольное значение $x_1 = 1$. \n",
    "\n",
    "Тогда собственный вектор для $\\lambda_1 = - 6$ будет иметь вид: $\\overline{u_1} = (1; -1; 1)  $"
   ]
  },
  {
   "cell_type": "markdown",
   "metadata": {},
   "source": [
    "$A \\overline{u_2} = \\lambda_2 \\overline{u_2} \\iff$\n",
    "\n",
    "$\\iff \\begin{pmatrix} -4 - (-1) & -3 & -5 \\\\ 5 & 4 - (-1) & 5 \\\\ -7 & -7 & -6 - (-1) \\end{pmatrix} * \\begin{pmatrix} x_2 \\\\ y_2 \\\\ z_2 \\end{pmatrix} = \\begin{pmatrix} 0 \\\\ 0 \\\\ 0 \\end{pmatrix} $\n",
    "\n",
    "$\\iff \\begin{pmatrix} -3 & -3 & -5 \\\\ 5 & 5 & 5 \\\\ -7 & -7 & -5 \\end{pmatrix} * \\begin{pmatrix} x_2 \\\\ y_2 \\\\ z_2 \\end{pmatrix} = \\begin{pmatrix} 0 \\\\ 0 \\\\ 0 \\end{pmatrix} $\n",
    "\n",
    "Выполним тождественные преобразования.\n",
    "\n",
    "$\\iff \\begin{pmatrix} 2 & 2 & 0 \\\\ 5 & 5 & 5 \\\\ -2 & -2 & 0 \\end{pmatrix} * \\begin{pmatrix} x_2 \\\\ y_2 \\\\ z_2 \\end{pmatrix} = \\begin{pmatrix} 0 \\\\ 0 \\\\ 0 \\end{pmatrix} $ \n",
    "\n",
    "$\\iff \\begin{pmatrix} 1 & 1 & 0 \\\\ 1 & 1 & 1 \\end{pmatrix} * \\begin{pmatrix} x_2 \\\\ y_2 \\\\ z_2 \\end{pmatrix} = \\begin{pmatrix} 0 \\\\ 0 \\end{pmatrix} $ \n",
    "\n",
    "$\\iff \\begin{pmatrix} 1 & 1 & 0 \\\\ 0 & 0 & 1 \\end{pmatrix} * \\begin{pmatrix} x_2 \\\\ y_2 \\\\ z_2 \\end{pmatrix} = \\begin{pmatrix} 0 \\\\ 0 \\end{pmatrix} $ \n",
    "\n",
    "$x_2 + y_2 = 0 \\ \\& \\ z_2 = 0 \\iff x_2 = - y_2 \\ \\& \\ z_2 = 0$ \n",
    "\n",
    "Выберем произвольное значение $y_2 = 1$. \n",
    "\n",
    "Тогда собственный вектор для $\\lambda_2 = - 1$ будет иметь вид: $\\overline{u_2} = (-1; 1; 0)  $"
   ]
  },
  {
   "cell_type": "markdown",
   "metadata": {},
   "source": [
    "$A \\overline{u_3} = \\lambda_3 \\overline{u_3} \\iff$\n",
    "\n",
    "$\\iff \\begin{pmatrix} -4 - 1 & -3 & -5 \\\\ 5 & 4 - 1& 5 \\\\ -7 & -7 & -6 - 1 \\end{pmatrix} * \\begin{pmatrix} x_3 \\\\ y_3 \\\\ z_3 \\end{pmatrix} = \\begin{pmatrix} 0 \\\\ 0 \\\\ 0 \\end{pmatrix} $\n",
    "\n",
    "$\\iff \\begin{pmatrix} -5 & -3 & -5 \\\\ 5 & 3 & 5 \\\\ -7 & -7 & -7 \\end{pmatrix} * \\begin{pmatrix} x_3 \\\\ y_3 \\\\ z_3 \\end{pmatrix} = \\begin{pmatrix} 0 \\\\ 0 \\\\ 0 \\end{pmatrix} $\n",
    "\n",
    "Выполним тождественные преобразования.\n",
    "\n",
    "$\\iff \\begin{pmatrix} 5 & 3 & 5 \\\\1 & 1 & 1 \\end{pmatrix} * \\begin{pmatrix} x_3 \\\\ y_3 \\\\ z_3 \\end{pmatrix} = \\begin{pmatrix} 0 \\\\ 0 \\\\ 0 \\end{pmatrix} $ \n",
    "\n",
    "$\\iff \\begin{pmatrix} 0 & -2 & 0 \\\\ 1 & 1 & 1 \\end{pmatrix} * \\begin{pmatrix} x_3 \\\\ y_3 \\\\ z_3 \\end{pmatrix} = \\begin{pmatrix} 0 \\\\ 0 \\end{pmatrix} $ \n",
    "\n",
    "$\\iff \\begin{pmatrix} 0 & 1 & 0 \\\\ 1 & 1 & 1 \\end{pmatrix} * \\begin{pmatrix} x_3 \\\\ y_3 \\\\ z_3 \\end{pmatrix} = \\begin{pmatrix} 0 \\\\ 0 \\end{pmatrix} $ \n",
    "\n",
    "$\\iff \\begin{pmatrix} 0 & 1 & 0 \\\\ 1 & 0 & 1 \\end{pmatrix} * \\begin{pmatrix} x_3 \\\\ y_3 \\\\ z_3 \\end{pmatrix} = \\begin{pmatrix} 0 \\\\ 0 \\end{pmatrix} $ \n",
    "\n",
    "$x_3 + z_3 = 0 \\ \\& \\ y_3 = 0 \\iff x_3 = - z_3 \\ \\& \\ y_3 = 0$ \n",
    "\n",
    "Выберем произвольное значение $z_3 = 1$. \n",
    "\n",
    "Тогда собственный вектор для $\\lambda_3 = 1$ будет иметь вид: $\\overline{u_3} = (-1; 0; 1)  $"
   ]
  },
  {
   "cell_type": "code",
   "execution_count": 12,
   "metadata": {},
   "outputs": [
    {
     "data": {
      "image/png": "[encoded data removed]",
      "text/latex": [
       "$$\\left[\\begin{matrix}-4 & -3 & -5\\\\5 & 4 & 5\\\\-7 & -7 & -6\\end{matrix}\\right]$$"
      ],
      "text/plain": [
       "⎡-4  -3  -5⎤\n",
       "⎢          ⎥\n",
       "⎢5   4   5 ⎥\n",
       "⎢          ⎥\n",
       "⎣-7  -7  -6⎦"
      ]
     },
     "execution_count": 12,
     "metadata": {},
     "output_type": "execute_result"
    }
   ],
   "source": [
    "A = sympy.Matrix([[-4, -3, -5], [5, 4, 5], [-7, -7, -6]])\n",
    "A"
   ]
  },
  {
   "cell_type": "code",
   "execution_count": 13,
   "metadata": {},
   "outputs": [
    {
     "data": {
      "image/png": "[encoded data removed]",
      "text/latex": [
       "$$\\left \\{ -6 : 1, \\quad -1 : 1, \\quad 1 : 1\\right \\}$$"
      ],
      "text/plain": [
       "{-6: 1, -1: 1, 1: 1}"
      ]
     },
     "execution_count": 13,
     "metadata": {},
     "output_type": "execute_result"
    }
   ],
   "source": [
    "A.eigenvals()"
   ]
  },
  {
   "cell_type": "code",
   "execution_count": 14,
   "metadata": {},
   "outputs": [
    {
     "data": {
      "image/png": "[encoded data removed]",
      "text/latex": [
       "$$\\left [ \\left ( -6, \\quad 1, \\quad \\left [ \\left[\\begin{matrix}1\\\\-1\\\\1\\end{matrix}\\right]\\right ]\\right ), \\quad \\left ( -1, \\quad 1, \\quad \\left [ \\left[\\begin{matrix}-1\\\\1\\\\0\\end{matrix}\\right]\\right ]\\right ), \\quad \\left ( 1, \\quad 1, \\quad \\left [ \\left[\\begin{matrix}-1\\\\0\\\\1\\end{matrix}\\right]\\right ]\\right )\\right ]$$"
      ],
      "text/plain": [
       "⎡⎛       ⎡⎡1 ⎤⎤⎞  ⎛       ⎡⎡-1⎤⎤⎞  ⎛      ⎡⎡-1⎤⎤⎞⎤\n",
       "⎢⎜       ⎢⎢  ⎥⎥⎟  ⎜       ⎢⎢  ⎥⎥⎟  ⎜      ⎢⎢  ⎥⎥⎟⎥\n",
       "⎢⎜-6, 1, ⎢⎢-1⎥⎥⎟, ⎜-1, 1, ⎢⎢1 ⎥⎥⎟, ⎜1, 1, ⎢⎢0 ⎥⎥⎟⎥\n",
       "⎢⎜       ⎢⎢  ⎥⎥⎟  ⎜       ⎢⎢  ⎥⎥⎟  ⎜      ⎢⎢  ⎥⎥⎟⎥\n",
       "⎣⎝       ⎣⎣1 ⎦⎦⎠  ⎝       ⎣⎣0 ⎦⎦⎠  ⎝      ⎣⎣1 ⎦⎦⎠⎦"
      ]
     },
     "execution_count": 14,
     "metadata": {},
     "output_type": "execute_result"
    }
   ],
   "source": [
    "A.eigenvects()"
   ]
  }
 ],
 "metadata": {
  "kernelspec": {
   "display_name": "Python 3",
   "language": "python",
   "name": "python3"
  },
  "language_info": {
   "codemirror_mode": {
    "name": "ipython",
    "version": 3
   },
   "file_extension": ".py",
   "mimetype": "text/x-python",
   "name": "python",
   "nbconvert_exporter": "python",
   "pygments_lexer": "ipython3",
   "version": "3.6.4"
  }
 },
 "nbformat": 4,
 "nbformat_minor": 2
}
