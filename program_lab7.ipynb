{
 "cells": [
  {
   "cell_type": "markdown",
   "metadata": {},
   "source": [
    "# Спецификация к Лабораторной работе №7 \n",
    "\n",
    "# Упорядочение массива методами простого выбора и «пузырька».\n",
    "\n",
    "# (Вариант 22)\n",
    "\n",
    "## Абстракция А0\n",
    "### 1. Постановка задачи.\n",
    "#### Задание: \n",
    "Написать программы упорядочения одномерного массива двумя методами: \n",
    "    \n",
    "- методом простого выбора и \n",
    "\n",
    "- методом «пузырька».\n",
    "\n",
    "#### Условие: \n",
    "Заданный целочисленный массив $\\{A_1, A_2, …, A_n\\}$ отсортировать в порядке убывания (минимум - в конец). \n",
    "\n",
    "Порядок элементов выводить на экран после каждого прохода по массиву."
   ]
  },
  {
   "cell_type": "markdown",
   "metadata": {},
   "source": [
    "### 2. Уточненная постановка задачи.\n",
    "Дан одномерный целочисленный массив A из n элементов.\n",
    "\n",
    "1) Выполнить сортировку методом простого выбора: \n",
    "\n",
    "на каждом i-ом этапе сортировки поменять местами \n",
    "\n",
    "- минимальный элемент массива $\\{A_1, A_2, …, A_{n - i + 1}\\}$ с индексом k и \n",
    "\n",
    "- элемент с индексом (n - i + 1).\n",
    "\n",
    "2) Выполнить сортировку методом \"пузырька\": \n",
    "\n",
    "- на очередном этапе сравниваются все соседние элементы, \n",
    "\n",
    "- в каждой паре элементы меняются местами, если первый элемент меньше второго,\n",
    "\n",
    "- последний элемент полученного массива исключается из анализа на следующем этапе."
   ]
  },
  {
   "cell_type": "markdown",
   "metadata": {},
   "source": [
    "### 3. Пример с иллюстрацией."
   ]
  },
  {
   "cell_type": "code",
   "execution_count": 1,
   "metadata": {},
   "outputs": [],
   "source": [
    "import numpy\n",
    "import pylab \n",
    "%matplotlib inline\n",
    "pylab.style.use('seaborn-whitegrid')"
   ]
  },
  {
   "cell_type": "code",
   "execution_count": 2,
   "metadata": {},
   "outputs": [
    {
     "data": {
      "text/plain": [
       "('[-78, 26, -3, 32, -48, -97, -80, 49, 86, -32, 91, 58, 82, 19, 98, -65, -93, 40, 6, -47]',\n",
       " '[98, 91, 86, 82, 58, 49, 40, 32, 26, 19, 6, -3, -32, -47, -48, -65, -78, -80, -93, -97]')"
      ]
     },
     "execution_count": 2,
     "metadata": {},
     "output_type": "execute_result"
    }
   ],
   "source": [
    "A1 = numpy.random.randint(-100,100, size=20)\n",
    "numpy.savetxt('A_Lab7_1.txt', A1, fmt='%5.0f')\n",
    "B1 = numpy.sort(A1)[::-1]\n",
    "str(list(A1)), str(list(B1))"
   ]
  },
  {
   "cell_type": "code",
   "execution_count": 3,
   "metadata": {},
   "outputs": [
    {
     "name": "stdout",
     "output_type": "stream",
     "text": [
      "                    Лаб.7\n",
      "==========================================================================================\n",
      "Текстовый файл с элементами массива A: A_Lab7_1.txt\n",
      "Текстовый файл с элементами массива A и элементами сортированного массива A: As_Lab7_1.txt\n",
      "Выберете метод сортировки массива A (simple или bubble): bubble\n",
      "==========================================================================================\n",
      "Сортировка массива A: \n",
      "\n",
      "[-78  26  -3  32 -48 -97 -80  49  86 -32  91  58  82  19  98 -65 -93  40\n",
      "   6 -47]\n",
      "[ 26  -3  32 -48 -78 -80  49  86 -32  91  58  82  19  98 -65 -93  40   6\n",
      " -47 -97]\n",
      "[ 26  32  -3 -48 -78  49  86 -32  91  58  82  19  98 -65 -80  40   6 -47\n",
      " -93 -97]\n",
      "[ 32  26  -3 -48  49  86 -32  91  58  82  19  98 -65 -78  40   6 -47 -80\n",
      " -93 -97]\n",
      "[ 32  26  -3  49  86 -32  91  58  82  19  98 -48 -65  40   6 -47 -78 -80\n",
      " -93 -97]\n",
      "[ 32  26  49  86  -3  91  58  82  19  98 -32 -48  40   6 -47 -65 -78 -80\n",
      " -93 -97]\n",
      "[ 32  49  86  26  91  58  82  19  98  -3 -32  40   6 -47 -48 -65 -78 -80\n",
      " -93 -97]\n",
      "[ 49  86  32  91  58  82  26  98  19  -3  40   6 -32 -47 -48 -65 -78 -80\n",
      " -93 -97]\n",
      "[ 86  49  91  58  82  32  98  26  19  40   6  -3 -32 -47 -48 -65 -78 -80\n",
      " -93 -97]\n",
      "[ 86  91  58  82  49  98  32  26  40  19   6  -3 -32 -47 -48 -65 -78 -80\n",
      " -93 -97]\n",
      "[ 91  86  82  58  98  49  32  40  26  19   6  -3 -32 -47 -48 -65 -78 -80\n",
      " -93 -97]\n",
      "[ 91  86  82  98  58  49  40  32  26  19   6  -3 -32 -47 -48 -65 -78 -80\n",
      " -93 -97]\n",
      "[ 91  86  98  82  58  49  40  32  26  19   6  -3 -32 -47 -48 -65 -78 -80\n",
      " -93 -97]\n",
      "[ 91  98  86  82  58  49  40  32  26  19   6  -3 -32 -47 -48 -65 -78 -80\n",
      " -93 -97]\n",
      "[ 98  91  86  82  58  49  40  32  26  19   6  -3 -32 -47 -48 -65 -78 -80\n",
      " -93 -97]\n"
     ]
    }
   ],
   "source": [
    "# A_Lab7_1.txt, A_Lab7_2.txt, A_Lab7_3.txt, A_Lab7_4.txt, A_Lab7_5.txt\n",
    "# As_Lab7_1.txt, As_Lab7_2.txt, As_Lab7_3.txt, As_Lab7_4.txt, As_Lab7_5.txt\n",
    "\n",
    "print(20*' ' + 'Лаб.7\\n' + 90*'=')\n",
    "\n",
    "fin = str(input('Текстовый файл с элементами массива A: '))\n",
    "fout = str(input('Текстовый файл с элементами массива A и элементами сортированного массива A: '))\n",
    "\n",
    "with open(fin, 'r') as f:\n",
    "    A = numpy.array([int(x) for x in f.readlines()])\n",
    "    \n",
    "with open(fout, 'w') as f:\n",
    "    f.write(\"{}\\n\".format(A))\n",
    "    \n",
    "method = str(input('Выберете метод сортировки массива A (simple или bubble): '))\n",
    "    \n",
    "print(90*'=' + '\\n' + 'Сортировка массива A: \\n')\n",
    "\n",
    "def simple_sort(A):\n",
    "    for j in range(len(A)-1):\n",
    "        print(j)\n",
    "        print(A)\n",
    "        MIN, k = A[len(A)-j-1], -1\n",
    "        for i in range(len(A)-j-2, -1, -1):\n",
    "            if MIN > A[i]: \n",
    "                MIN = A[i]\n",
    "                k = i\n",
    "        if k > -1:\n",
    "            A[k] = A[len(A)-j-1]\n",
    "            A[len(A)-j-1] = MIN\n",
    "\n",
    "def bubble_sort(A):\n",
    "    for j in range(len(A)-1):\n",
    "        print(A)\n",
    "        c = 0\n",
    "        for i in range(len(A)-j-1):\n",
    "            if A[i] < A[i+1]: \n",
    "                MIN = A[i]\n",
    "                A[i] = A[i+1]\n",
    "                A[i+1] = MIN\n",
    "                c += 1\n",
    "        if c < 1:  break\n",
    "            \n",
    "if method == 'simple': \n",
    "    simple_sort(A)  \n",
    "elif method == 'bubble': \n",
    "    bubble_sort(A)   \n",
    "else: \n",
    "    print('Неправильный ввод названия метода сортировки')\n",
    "\n",
    "with open(fout, 'w') as f:\n",
    "    f.write(\"{}\".format(A))"
   ]
  },
  {
   "cell_type": "code",
   "execution_count": 4,
   "metadata": {},
   "outputs": [
    {
     "data": {
      "image/png": "[encoded data removed]",
      "text/plain": [
       "<Figure size 720x720 with 1 Axes>"
      ]
     },
     "metadata": {},
     "output_type": "display_data"
    }
   ],
   "source": [
    "pylab.figure(figsize=(10,10))\n",
    "pylab.scatter(range(len(A1)), A1, c='b', label='original')\n",
    "pylab.scatter(range(len(A1)), B1, c='r', label='sorted')\n",
    "\n",
    "pylab.xlabel('i', fontsize=15) \n",
    "pylab.ylabel('A[i]', fontsize=15)\n",
    "pylab.xticks(range(-1, len(A)+1), range(len(A)+2));\n",
    "pylab.legend(fontsize=15, shadow=True, bbox_to_anchor=(1.2,0.4));"
   ]
  },
  {
   "cell_type": "markdown",
   "metadata": {},
   "source": [
    "### 4. Таблица данных \n",
    "\n",
    "| Класс | Имя | Описание (смысл, диапазон, точность) | Тип | Структура | Формат в/в |\n",
    "| :-: | :-: | :-: | :-: | :-: | :-: |\n",
    "| входные данные | fin | название текстового файла с элементами массива А | символ | строка | \"+XX.txt\" |\n",
    "| входные данные | fout | название текстового файла с элементами массива А | символ | строка | \"+XX.txt\" |\n",
    "| входные данные | method | название метода сортировки массива А | символ | строка | \"+XX\" |\n",
    "| входные данные | A | вводимые из текстового файла числа исходного массива | цел | одномерный массив | +XX (:5) |\n",
    "| выходные данные | A | выводимые в текстовый файл числа сортированного массива | цел | одномерный массив | +XX (:5) |\n",
    "| промежуточные данные | MIN | минимальный элемент при сортировке | цел | простая переменная | --- |\n",
    "| промежуточные данные | i | индекс текущего элемента, 1≤i≤50 | цел | простая переменная | --- |\n",
    "| промежуточные данные | j | индекс текущего элемента, 1≤j≤50 | цел | простая переменная | --- |\n",
    "| промежуточные данные | c | подсчет количества перестановок элементов, 0≤c≤49 | цел | простая переменная | --- |\n",
    "\n",
    "_! в Delphi выход из цикла с 1 до 20 с шагом +1 происходит при значении 21, из цикла с 20 до 1 – при 0_"
   ]
  },
  {
   "cell_type": "markdown",
   "metadata": {},
   "source": [
    "### 5. Входная форма\n",
    "- обр 1.1 Текстовый файл с элементами массива A: $<fin>$       \n",
    "- обр 1.2 Текстовый файл с элементами массива A и элементами сортированного массива A: $<fout>$\n",
    "- обр 2 Выберете метод сортировки массива A (simple или bubble): $<method>$\n",
    "- обр 3.1 Сортировка массива A:\n",
    "- обр 3.2 $ < A[1] >  < A[2] >  …  < A[n] > $\n",
    "\n",
    "### 6. Выходная форма\n",
    "\n",
    "- обр 4 Лаб. 7\n",
    "- обр 5.1 Текстовый файл с элементами массива A: $<fin>$       \n",
    "- обр 5.2 Текстовый файл с элементами массива A и элементами сортированного массива A: $<fout>$\n",
    "- обр 6 Выберете метод сортировки массива A (simple или bubble): $<method>$\n",
    "- обр 7.1 Сортировка массива A:\n",
    "- обр 7.2 $ < A[1] > < A[2] > … < A[n] > \\\\ ... \\\\ < A[1] > < A[2] > … < A[n] > $\n",
    "\n",
    "### 7. Аномалии\n",
    "\n",
    "-"
   ]
  },
  {
   "cell_type": "markdown",
   "metadata": {},
   "source": [
    "### 8. Функциональные тесты\n",
    "\n",
    "| Исходные данные | - | - |Результаты | Тест |\n",
    "| :-: | :-: | :-: | :-: | :-: | \n",
    "| fin | fout | A | A | № |\n",
    "| A_Lab7_1.txt | As_Lab7_1.txt | `[-78  26  -3  32 -48 -97 -80  49  86 -32  91  58  82  19  98 -65 -93  40 6 -47]` | `[98  91  86  82  58  49  40  32  26  19   6  -3 -32 -47 -48 -65 -78 -80 -93 -97]` | 1 | \n",
    "| - | - | - | - | - |\n",
    "| A_Lab7_2.txt | As_Lab7_2.txt | `[]` | ` ` | 2 |\n",
    "| - | - | - | - | - |\n",
    "| A_Lab7_3.txt | As_Lab7_3.txt | `[]` | ` ` | 3 |\n",
    "| - | - | - | - | - |\n",
    "| A_Lab7_4.txt | As_Lab7_4.txt | `[]` | ` ` | 4 |\n",
    "| - | - | - | - | - |\n",
    "| A_Lab7_5.txt | As_Lab7_5.txt | `[]` | ` ` | 5 |"
   ]
  },
  {
   "cell_type": "code",
   "execution_count": null,
   "metadata": {},
   "outputs": [],
   "source": []
  }
 ],
 "metadata": {
  "kernelspec": {
   "display_name": "Python 3",
   "language": "python",
   "name": "python3"
  },
  "language_info": {
   "codemirror_mode": {
    "name": "ipython",
    "version": 3
   },
   "file_extension": ".py",
   "mimetype": "text/x-python",
   "name": "python",
   "nbconvert_exporter": "python",
   "pygments_lexer": "ipython3",
   "version": "3.6.4"
  }
 },
 "nbformat": 4,
 "nbformat_minor": 2
}
