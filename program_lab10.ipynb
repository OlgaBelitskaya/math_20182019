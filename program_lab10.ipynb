{
 "cells": [
  {
   "cell_type": "markdown",
   "metadata": {},
   "source": [
    "# Спецификация к Лабораторной работе №10 \n",
    "\n",
    "# Процедуры и параметры. \n",
    "\n",
    "# Поиск экстремума с двумя условиями.\n",
    "\n",
    "# (Вариант 22)\n",
    "\n",
    "## Абстракция А0\n",
    "### 1. Постановка задачи.\n",
    "#### Задание: \n",
    "Написать программу обработки одномерного массива в соответствии с условием, \n",
    "\n",
    "выделив подзадачи проверки условий и поиска экстремума и оформив их в виде процедур.\n",
    "\n",
    "#### Условие: \n",
    "Для заданного целочисленного массива $\\{A_1, A_2, …, A_n\\}$ определить \n",
    "\n",
    "номер первого максимального значения среди элементов, \n",
    "\n",
    "- меньших A1 и \n",
    "\n",
    "- расположенных правее последнего элемента, кратного девяти. "
   ]
  },
  {
   "cell_type": "markdown",
   "metadata": {},
   "source": [
    "### 2. Уточненная постановка задачи.\n",
    "Дан одномерный целочисленный массив A из n элементов.\n",
    "\n",
    "Обозначим индекс $k: (A_k \\in A) \\land (A_k \\vdots 9) \\land \\neg (A_i \\vdots 9), \\forall i > k$. \n",
    "\n",
    "Найти $\\displaystyle{j: A_j = \\max_i \\{A_i: A_i < A_1, \\forall i > k\\} }$."
   ]
  },
  {
   "cell_type": "markdown",
   "metadata": {},
   "source": [
    "### 3. Пример с иллюстрацией."
   ]
  },
  {
   "cell_type": "code",
   "execution_count": 2,
   "metadata": {},
   "outputs": [],
   "source": [
    "import numpy\n",
    "import pylab \n",
    "%matplotlib inline\n",
    "pylab.style.use('seaborn-whitegrid')"
   ]
  },
  {
   "cell_type": "code",
   "execution_count": 7,
   "metadata": {},
   "outputs": [
    {
     "name": "stdout",
     "output_type": "stream",
     "text": [
      "\n",
      " [  31   75   -9   48   27  -44  -21   59   43  -33   45   38  -55  -40\n",
      "  -61   84  -48  -61  -99  -69  -39   -2  -75    4  -93    5  -15   47\n",
      "  -15  -78  -55  -33   86  -48   87   37   17    7    3  -92  -27  -65\n",
      "   26  -77   49  -69   70 -100   57   22] \n",
      "\n",
      " [1 2 2 2 1 1 1 2 1 1] \n",
      "\n",
      " [8 6 6 9 7 5 9 9 9 8 5 5 5 6 9 7 8 9 5 6 5 6 9 5 5 8 9 8 8 9 7 7 6 6 5 8 6\n",
      " 6 5 8 5 6 8 9 7 7 9 6 7 5] \n",
      "\n",
      " [-1 -1  8  1  6  4  5 -6 -4  5  8  2 -8  3 -7 -3 -2  2  9 -8] \n",
      "\n",
      " [-9 -3 -4 -1 -9 -8 -8 -9 -3 -4 -2 -4 -2 -1 -3 -9 -3 -8 -4 -7]\n"
     ]
    }
   ],
   "source": [
    "A1 = numpy.random.randint(-100, 100, size=50)\n",
    "numpy.savetxt('A_Lab10_1.txt', A1, fmt='%5.0f')\n",
    "A2 = numpy.random.randint(1, 3, size=10)\n",
    "numpy.savetxt('A_Lab10_2.txt', A2, fmt='%5.0f')\n",
    "A3 = numpy.random.randint(5, 10, size=50)\n",
    "numpy.savetxt('A_Lab10_3.txt', A3, fmt='%5.0f')\n",
    "A4 = numpy.random.randint(-10, 10, size=20)\n",
    "numpy.savetxt('A_Lab10_4.txt', A4, fmt='%5.0f')\n",
    "A5 = numpy.random.randint(-10, 0, size=20)\n",
    "numpy.savetxt('A_Lab10_5.txt', A5, fmt='%5.0f')\n",
    "\n",
    "print('\\n', A1, '\\n\\n', A2, '\\n\\n', A3, '\\n\\n', A4, '\\n\\n', A5)"
   ]
  },
  {
   "cell_type": "code",
   "execution_count": 14,
   "metadata": {},
   "outputs": [
    {
     "name": "stdout",
     "output_type": "stream",
     "text": [
      "                    Лаб.10\n",
      "==============================================================================================================\n",
      "Текстовый файл с элементами массива A: A_Lab10_1.txt\n",
      "Текстовый файл с элементами массива A и индексом максимального значения: Aj_Lab10_1.txt\n",
      "==============================================================================================================\n",
      "Массив A: \n",
      "\n",
      "[31, 75, -9, 48, 27, -44, -21, 59, 43, -33, 45, 38, -55, -40, -61, 84, -48, -61, -99, -69, -39, -2, -75, 4, -93, 5, -15, 47, -15, -78, -55, -33, 86, -48, 87, 37, 17, 7, 3, -92, -27, -65, 26, -77, 49, -69, 70, -100, 57, 22]\n",
      "==============================================================================================================\n",
      "Индекс максимального значения выбранных элементов массива A: 43\n"
     ]
    }
   ],
   "source": [
    "# python only\n",
    "print(20*' ' + 'Лаб.10\\n' + 110*'=')\n",
    "\n",
    "fin = str(input('Текстовый файл с элементами массива A: '))\n",
    "fout = str(input('Текстовый файл с элементами массива A и индексом максимального значения: '))\n",
    "\n",
    "with open(fin, 'r') as f:\n",
    "    A = [int(x) for x in f.readlines()]\n",
    "    \n",
    "print(110*'=' + '\\n' + 'Массив A: \\n')\n",
    "print(A)\n",
    "\n",
    "def conditions(A):\n",
    "    k = 0\n",
    "    for i in range(len(A)):\n",
    "        if A[i] % 9 == 0: \n",
    "            k = i + 1\n",
    "    ci = []       \n",
    "    for i in range(k, len(A)):\n",
    "        if (A[i] < A[0]): \n",
    "            ci.append(i)    \n",
    "    return ci, k\n",
    "\n",
    "ci, k = conditions(A)\n",
    "\n",
    "def max_condition(A, ci):\n",
    "    j, MAX = 0, -1000000\n",
    "    for i in range(len(A)):\n",
    "        if i in ci:\n",
    "            if (A[i] > MAX):\n",
    "                MAX, j = A[i], i + 1\n",
    "    return j\n",
    "\n",
    "j = max_condition(A, ci)\n",
    "\n",
    "if j == 0:\n",
    "    print(110*'=' + '\\n' + 'Нет таких элементов')\n",
    "else:\n",
    "    print(110*'=' + '\\n' + 'Индекс максимального значения выбранных элементов массива A:', j)\n",
    "\n",
    "with open(fout, 'w') as f:\n",
    "    for i in range(len(A)):\n",
    "        f.write(\"{}\\n\".format(A[i]))\n",
    "    f.write(\"{}\".format(j))"
   ]
  },
  {
   "cell_type": "code",
   "execution_count": 15,
   "metadata": {},
   "outputs": [
    {
     "data": {
      "image/png": "[encoded data removed]",
      "text/plain": [
       "<Figure size 720x720 with 1 Axes>"
      ]
     },
     "metadata": {},
     "output_type": "display_data"
    }
   ],
   "source": [
    "pylab.figure(figsize=(10,10))\n",
    "pylab.scatter(range(len(A)), A)\n",
    "pylab.scatter(range(k, len(A)), A[k:], c='r')\n",
    "#pylab.scatter(j-1, A[j-1], s=150, label=r'$A[j]$',\n",
    "#              facecolors='none', edgecolors='purple')\n",
    "pylab.axhline(A[0], c='darkred', ls='--', label=r'$A_1$')\n",
    "pylab.axvline(k-1, c='darkblue', ls='--', label=r'$k$')\n",
    "pylab.axvline(j-1, c='purple', ls='--', label=r'$j$')\n",
    "\n",
    "pylab.xlabel('i', fontsize=15) \n",
    "pylab.ylabel('A[i]', fontsize=15)\n",
    "pylab.xticks(range(-1, len(A)+1), range(len(A)+2));\n",
    "pylab.legend(fontsize=15, shadow=True, bbox_to_anchor=(1.2,0.4));"
   ]
  },
  {
   "cell_type": "markdown",
   "metadata": {},
   "source": [
    "### 4. Таблица данных \n",
    "\n",
    "| Класс | Имя | Описание (смысл, диапазон, точность) | Тип | Структура | Формат в/в |\n",
    "| :-: | :-: | :-: | :-: | :-: | :-: |\n",
    "| входные данные | fin | название текстового файла с элементами массива А | символ | строка | \"+X.txt\" |\n",
    "| входные данные | fout | название текстового файла с элементами массива А | символ | строка | \"+X.txt\" |\n",
    "| входные данные | A | вводимые из текстового файла числа | цел | одномерный массив | +XX (:5) |\n",
    "| выходные данные | j | выводимый в текстовый файл индекс максимального значения среди выбранных элементов | цел | простая переменная | XX (:2) |\n",
    "| промежуточные данные | k | индекс последнего кратного 9 элемента из $A$ | цел | простая переменная | --- |\n",
    "| промежуточные данные | ci | индексы элементов, удовлетворяющих условиям | цел | одномерный массив | --- |\n",
    "| промежуточные данные | f | значение первого элемента массива | цел | простая переменная | --- |\n",
    "| промежуточные данные | MAX | максимальное значение среди выбранных элементов | цел | простая переменная | --- |\n",
    "\n",
    "_! в Delphi выход из цикла с 1 до 20 с шагом +1 происходит при значении 21, из цикла с 20 до 1 – при 0_"
   ]
  },
  {
   "cell_type": "markdown",
   "metadata": {},
   "source": [
    "### 5. Входная форма\n",
    "- обр 1.1 Текстовый файл с элементами массива A: $<fin>$       \n",
    "- обр 1.2 Текстовый файл с элементами массива A и номером столбца N: $<fout>$\n",
    "- обр 2.1 Массив A:\n",
    "- обр 2.2 $ < A[1] >  < A[2] >  …  < A[n] >$\n",
    "\n",
    "\n",
    "### 6. Выходная форма\n",
    "\n",
    "- обр 3 Лаб. 10\n",
    "- обр 4.1 Текстовый файл с элементами массива A: $<fin>$       \n",
    "- обр 4.2 Текстовый файл с элементами массива A и номером столбца N: $<fout>$\n",
    "- обр 5.1 Массив A:\n",
    "- обр 5.2 $ < A[1] >  < A[2] >  …  < A[n] >$\n",
    "- обр 6.1 Индекс максимального значения выбранных элементов массива A: $ < j > $\n",
    "- обр 6.2 Нет таких элементов\n",
    "\n",
    "### 7. Аномалии\n",
    "\n",
    "-"
   ]
  },
  {
   "cell_type": "markdown",
   "metadata": {},
   "source": [
    "### 8. Функциональные тесты\n",
    "\n",
    "| Исходные данные | - | - |Результаты | - | Тест |\n",
    "| :-: | :-: | :-: | :-: | :-: | :-: |\n",
    "| fin | fout | A | j | Сообщение |№ |\n",
    "| A_Lab10_1.txt | Aj_Lab10_1.txt | `[31, 75, -9, 48, 27, -44, -21, 59, 43, -33, 45, 38, -55, -40, -61, 84, -48, -61, -99, -69, -39, -2, -75, 4, -93, 5, -15, 47, -15, -78, -55, -33, 86, -48, 87, 37, 17, 7, 3, -92, -27, -65, 26, -77, 49, -69, 70, -100, 57, 22]` | `43` | - | 1 | \n",
    "| - | - | - | - | - | - |\n",
    "| A_Lab10_2.txt | Aj_Lab10_2.txt | `[1, 2, 2, 2, 1, 1, 1, 2, 1, 1]` | `0` | `Нет таких элементов` | 2 |\n",
    "| - | - | - | - | - | - |\n",
    "| A_Lab10_3.txt | Aj_Lab10_3.txt | `[8, 6, 6, 9, 7, 5, 9, 9, 9, 8, 5, 5, 5, 6, 9, 7, 8, 9, 5, 6, 5, 6, 9, 5, 5, 8, 9, 8, 8, 9, 7, 7, 6, 6, 5, 8, 6, 6, 5, 8, 5, 6, 8, 9, 7, 7, 9, 6, 7, 5]` | `49` | - | 3 |\n",
    "| - | - | - | - | - | - |\n",
    "| A_Lab10_4.txt | Aj_Lab10_4.txt | `[-1, -1, 8, 1, 6, 4, 5, -6, -4, 5, 8, 2, -8, 3, -7, -3, -2, 2, 9, -8]` | `20` | - | 4 |\n",
    "| - | - | - | - | - | - |\n",
    "| A_Lab10_5.txt | Aj_Lab10_5.txt | `[-9, -3, -4, -1, -9, -8, -8, -9, -3, -4, -2, -4, -2, -1, -3, -9, -3, -8, -4, -7]` | `0` | `Нет таких элементов` | 5 |"
   ]
  },
  {
   "cell_type": "code",
   "execution_count": null,
   "metadata": {},
   "outputs": [],
   "source": []
  }
 ],
 "metadata": {
  "kernelspec": {
   "display_name": "Python 3",
   "language": "python",
   "name": "python3"
  },
  "language_info": {
   "codemirror_mode": {
    "name": "ipython",
    "version": 3
   },
   "file_extension": ".py",
   "mimetype": "text/x-python",
   "name": "python",
   "nbconvert_exporter": "python",
   "pygments_lexer": "ipython3",
   "version": "3.6.4"
  }
 },
 "nbformat": 4,
 "nbformat_minor": 2
}
