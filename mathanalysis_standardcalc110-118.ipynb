{
 "cells": [
  {
   "cell_type": "code",
   "execution_count": 1,
   "metadata": {},
   "outputs": [
    {
     "data": {
      "text/html": [
       "<style>\n",
       "@import url('https://fonts.googleapis.com/css?family=Roboto&effect=3d|brick-sign|');\n",
       "span {font-family:Roboto; color:black; text-shadow:4px 4px 4px #aaa;}  \n",
       "h1,h2 {font-family:Roboto; color:slategray; text-shadow:4px 4px 4px #aaa;} \n",
       "div.output_subarea, div.output_area pre{font-family:Roboto; font_size:120%; color:darkblue;}\n",
       "</style> "
      ],
      "text/plain": [
       "<IPython.core.display.HTML object>"
      ]
     },
     "metadata": {},
     "output_type": "display_data"
    }
   ],
   "source": [
    "%%html\n",
    "<style>\n",
    "@import url('https://fonts.googleapis.com/css?family=Roboto&effect=3d|brick-sign|');\n",
    "span {font-family:Roboto; color:black; text-shadow:4px 4px 4px #aaa;}  \n",
    "h1,h2 {font-family:Roboto; color:slategray; text-shadow:4px 4px 4px #aaa;} \n",
    "div.output_subarea, div.output_area pre{font-family:Roboto; font_size:120%; color:darkblue;}\n",
    "</style> "
   ]
  },
  {
   "cell_type": "code",
   "execution_count": 2,
   "metadata": {},
   "outputs": [],
   "source": [
    "import math, sympy\n",
    "from sympy import *\n",
    "sympy.init_printing(use_unicode=True)\n",
    "import pylab as plt\n",
    "%matplotlib inline"
   ]
  },
  {
   "cell_type": "markdown",
   "metadata": {},
   "source": [
    "[GeoGebra](https://www.geogebra.org/graphing?lang=en)\n",
    "\n",
    "[LaTeX/Mathematics](https://en.wikibooks.org/wiki/LaTeX/Mathematics)\n",
    "\n",
    "[Math24.ru. Ряды Тейлора и Маклорена](http://www.math24.ru/%D1%80%D1%8F%D0%B4%D1%8B-%D1%82%D0%B5%D0%B9%D0%BB%D0%BE%D1%80%D0%B0-%D0%B8-%D0%BC%D0%B0%D0%BA%D0%BB%D0%BE%D1%80%D0%B5%D0%BD%D0%B0.html)\n",
    "\n",
    "[ SymPy Modules Reference. Calculus](https://docs.sympy.org/latest/modules/calculus/index.html)"
   ]
  },
  {
   "cell_type": "markdown",
   "metadata": {},
   "source": [
    "# Вариант 22"
   ]
  },
  {
   "cell_type": "markdown",
   "metadata": {},
   "source": [
    "## Типовой расчет №10\n",
    "\n",
    "Вычислить предел функции $\\large{\\displaystyle{\\lim_{x \\to 0} \\frac { e^x + e^{-x}  - 2 }{sin ^ 2 x} }}$."
   ]
  },
  {
   "cell_type": "markdown",
   "metadata": {},
   "source": [
    "## Решение \n",
    "\n",
    "Числитель и знаменатель дроби стремятся к 0 при $x \\to 0$, \n",
    "\n",
    "значит дробь является неопределенным выражением вида $\\big[\\frac{0}{0}\\big]$ при $x \\to 0$.\n",
    "\n",
    "Для раскрытия неопределенности преобразуем функцию, используя разложение в ряды Маклорена:\n",
    "\n",
    "$\\large{\\displaystyle{ e^x = 1 + x + \\frac{x^2}{2!} + \\frac{x^3}{3!} + \\frac{x^4}{4!} + \\overline{o_1(x^4)} }}$\n",
    "\n",
    "$\\large{\\displaystyle{e^{-x} = 1 - x + \\frac{x^2}{2!} - \\frac{x^3}{3!} + \\frac{x^4}{4!} + \\overline{o_2(x^4)} }}$\n",
    "\n",
    "$\\large{\\displaystyle{ \\sin^2 x = \\frac{1}{2}(1 - \\cos 2x) = \\frac{1}{2}(1 - (1 - \\frac{4x^2}{2!} +  \\frac{16x^4}{4!})) + \\overline{o_3(x^4) }= x^2 - \\frac{x^4}{3} + \\overline{o_3(x^4)} }}$\n",
    "\n",
    "$\\overline{o_1(x^4)}, \\ \\overline{o_2(x^4)}, \\ \\overline{o_3(x^4)} \\to 0$ при $x \\to 0$.\n",
    "\n",
    "$\\large{\\displaystyle{ \\frac { e^x + e^{-x}  - 2 }{sin ^ 2 x} = }}$\n",
    "\n",
    "$\\large{\\displaystyle{=  \\frac { 1 + x + \\frac{x^2}{2!} + \\frac{x^3}{3!} + \\frac{x^4}{4!} + \\overline{o_1(x^4)} + 1 - x + \\frac{x^2}{2!} - \\frac{x^3}{3!} + \\frac{x^4}{4!} + \\overline{o_2(x^4)} - 2 }{x^2 - \\frac{x^4}{3} + \\overline{o_3(x^4)}} = }}$\n",
    "\n",
    "$\\large{\\displaystyle{=  \\frac {(x^2 + \\frac {x^4}{12} + \\overline{o_1(x^4)} + \\overline{o_2(x^4)}) / x^2}{(x^2 - \\frac{x^4}{3} + \\overline{o_3(x^4)}) / x^2} = }}$\n",
    "\n",
    "$\\large{\\displaystyle{= \\frac {1 + \\frac {x^2}{12} + \\frac{\\overline{o_1(x^4)}}{x^2} + \\frac{\\overline{o_2(x^4)}}{x^2}} {1 - \\frac{x^2}{3} + \\frac{\\overline{o_3(x^4)}}{x^2}} }}$\n",
    "\n",
    "Учитывая то, что дроби $\\large{\\displaystyle{\\frac {x^2}{12}, \\frac{x^2}{3}, \\frac{\\overline{o_1(x^4)}}{x^2}, \\frac{\\overline{o_2(x^4)}}{x^2}, \\frac{\\overline{o_3(x^4)}}{x^2} }}$\n",
    "\n",
    "являются бесконечно малыми величинами при $x \\to 0$:\n",
    "\n",
    "$\\large{\\displaystyle{\\lim_{x \\to 0} \\frac {1 + \\frac {x^2}{12} + \\frac{\\overline{o_1(x^4)}}{x^2} + \\frac{\\overline{o_2(x^4)}}{x^2}} {1 - \\frac{x^2}{3} + \\frac{\\overline{o_3(x^4)}}{x^2}} = \\frac{1 + 0 + 0 + 0}{1 - 0 + 0} = 1}}$"
   ]
  },
  {
   "cell_type": "code",
   "execution_count": 11,
   "metadata": {},
   "outputs": [
    {
     "data": {
      "image/png": "[encoded data removed]",
      "text/latex": [
       "$$2.71828182845905$$"
      ],
      "text/plain": [
       "2.71828182845905"
      ]
     },
     "execution_count": 11,
     "metadata": {},
     "output_type": "execute_result"
    }
   ],
   "source": [
    "N(E)"
   ]
  },
  {
   "cell_type": "code",
   "execution_count": 12,
   "metadata": {},
   "outputs": [
    {
     "data": {
      "image/png": "[encoded data removed]",
      "text/latex": [
       "$$1$$"
      ],
      "text/plain": [
       "1"
      ]
     },
     "execution_count": 12,
     "metadata": {},
     "output_type": "execute_result"
    }
   ],
   "source": [
    "x = symbols('x')\n",
    "limit((E ** x + E ** (-x) - 2) / (sin(x)) ** 2, x, 0)"
   ]
  },
  {
   "cell_type": "markdown",
   "metadata": {},
   "source": [
    "## Типовой расчет №11\n",
    "\n",
    "Вычислить предел функции $\\large{\\displaystyle{\\lim_{x \\to \\pi} \\frac {\\ln \\cos 2x}{(x - \\pi)^2} }}$."
   ]
  },
  {
   "cell_type": "markdown",
   "metadata": {},
   "source": [
    "Числитель и знаменатель дроби стремятся к 0 при $x \\to \\pi$, \n",
    "\n",
    "значит дробь является неопределенным выражением вида $\\big[\\frac{0}{0}\\big]$ при $x \\to \\pi$.\n",
    "\n",
    "Для раскрытия неопределенности преобразуем функцию, используя формулы эквивалентности функций.\n",
    "\n",
    "Прежде всего произведем замену переменной $x - \\pi = t \\iff x \\to \\pi \\implies t \\to 0$.\n",
    "\n",
    "$\\large{\\displaystyle{\\lim_{x \\to \\pi} \\frac {\\ln \\cos 2x}{(x - \\pi)^2} = \\lim_{t \\to 0} \\frac {\\ln \\cos (2t + 2\\pi)}{t^2} = \\lim_{t \\to 0} \\frac {\\ln (1 + (\\cos 2t - 1))}{t^2} = \\lim_{t \\to 0} \\frac {\\cos 2t - 1}{t^2}}}$\n",
    "\n",
    "Здесь использована формула эквивалентности $\\ln(1 + a) \\sim a$ при $a \\to 0$. \n",
    "\n",
    "Поскольку $cos2t - 1 \\to 0$ при $t \\to 0$, то  $\\ln (1 + (\\cos 2t - 1)) \\sim cos2t - 1$ при $t \\to 0$.\n",
    "\n",
    "Применим формулу синуса половинного угла $\\sin^2 a = \\frac{1 - cos 2 a}{2}$ и арифметические свойства пределов:\n",
    "\n",
    "$\\large{\\displaystyle{\\lim_{t \\to 0} \\frac {\\cos 2t - 1}{t^2} = \\lim_{t \\to 0} \\frac {-2\\sin^2t}{t^2} = -2 \\Bigg(\\lim_{t \\to 0} \\frac {\\sin t}{t}\\Bigg)^2}}$\n",
    "\n",
    "С учетом первого замечательного предела $\\lim_{a \\to 0} \\frac{\\sin a}{a} = 1$:\n",
    "\n",
    "$\\large{\\displaystyle{-2 \\Bigg(\\lim_{t \\to 0} \\frac {\\sin t}{t}\\Bigg)^2 = -2 * 1^2 = -2}}$"
   ]
  },
  {
   "cell_type": "code",
   "execution_count": 14,
   "metadata": {},
   "outputs": [
    {
     "data": {
      "image/png": "[encoded data removed]",
      "text/latex": [
       "$$3.14159265358979$$"
      ],
      "text/plain": [
       "3.14159265358979"
      ]
     },
     "execution_count": 14,
     "metadata": {},
     "output_type": "execute_result"
    }
   ],
   "source": [
    "N(pi)"
   ]
  },
  {
   "cell_type": "code",
   "execution_count": 15,
   "metadata": {},
   "outputs": [
    {
     "data": {
      "image/png": "[encoded data removed]",
      "text/latex": [
       "$$-2$$"
      ],
      "text/plain": [
       "-2"
      ]
     },
     "execution_count": 15,
     "metadata": {},
     "output_type": "execute_result"
    }
   ],
   "source": [
    "x = symbols('x')\n",
    "limit(ln(cos(2 * x)) / (x - pi) ** 2, x, pi)"
   ]
  },
  {
   "cell_type": "markdown",
   "metadata": {},
   "source": [
    "## Типовой расчет №12"
   ]
  },
  {
   "cell_type": "code",
   "execution_count": null,
   "metadata": {},
   "outputs": [],
   "source": []
  }
 ],
 "metadata": {
  "kernelspec": {
   "display_name": "Python 3",
   "language": "python",
   "name": "python3"
  },
  "language_info": {
   "codemirror_mode": {
    "name": "ipython",
    "version": 3
   },
   "file_extension": ".py",
   "mimetype": "text/x-python",
   "name": "python",
   "nbconvert_exporter": "python",
   "pygments_lexer": "ipython3",
   "version": "3.6.4"
  }
 },
 "nbformat": 4,
 "nbformat_minor": 2
}
