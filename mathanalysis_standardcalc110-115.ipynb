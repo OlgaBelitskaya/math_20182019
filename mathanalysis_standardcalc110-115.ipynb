{
 "cells": [
  {
   "cell_type": "code",
   "execution_count": 15,
   "metadata": {},
   "outputs": [
    {
     "data": {
      "text/html": [
       "<style>\n",
       "@import url('https://fonts.googleapis.com/css?family=Roboto&effect=3d|brick-sign|');\n",
       "span {font-family:Roboto; color:black; text-shadow:4px 4px 4px #aaa;}  \n",
       "h1,h2 {font-family:Roboto; color:slategray; text-shadow:4px 4px 4px #aaa;} \n",
       "div.output_subarea, div.output_area pre{font-family:Roboto; font_size:120%; color:darkblue;}\n",
       "</style> "
      ],
      "text/plain": [
       "<IPython.core.display.HTML object>"
      ]
     },
     "metadata": {},
     "output_type": "display_data"
    }
   ],
   "source": [
    "%%html\n",
    "<style>\n",
    "@import url('https://fonts.googleapis.com/css?family=Roboto&effect=3d|brick-sign|');\n",
    "span {font-family:Roboto; color:black; text-shadow:4px 4px 4px #aaa;}  \n",
    "h1,h2 {font-family:Roboto; color:slategray; text-shadow:4px 4px 4px #aaa;} \n",
    "div.output_subarea, div.output_area pre{font-family:Roboto; font_size:120%; color:darkblue;}\n",
    "</style> "
   ]
  },
  {
   "cell_type": "code",
   "execution_count": 16,
   "metadata": {},
   "outputs": [],
   "source": [
    "import math, sympy\n",
    "from sympy import *\n",
    "sympy.init_printing(use_unicode=True)\n",
    "import pylab as plt\n",
    "%matplotlib inline"
   ]
  },
  {
   "cell_type": "markdown",
   "metadata": {},
   "source": [
    "[GeoGebra](https://www.geogebra.org/graphing?lang=en)\n",
    "\n",
    "[LaTeX/Mathematics](https://en.wikibooks.org/wiki/LaTeX/Mathematics)\n",
    "\n",
    "[Math24.ru. Ряды Тейлора и Маклорена](http://www.math24.ru/%D1%80%D1%8F%D0%B4%D1%8B-%D1%82%D0%B5%D0%B9%D0%BB%D0%BE%D1%80%D0%B0-%D0%B8-%D0%BC%D0%B0%D0%BA%D0%BB%D0%BE%D1%80%D0%B5%D0%BD%D0%B0.html)\n",
    "\n",
    "[Math24.ru. Бесконечно малые функции](http://www.math24.ru/%D0%B1%D0%B5%D1%81%D0%BA%D0%BE%D0%BD%D0%B5%D1%87%D0%BD%D0%BE-%D0%BC%D0%B0%D0%BB%D1%8B%D0%B5-%D1%84%D1%83%D0%BD%D0%BA%D1%86%D0%B8%D0%B8.html)\n",
    "\n",
    "[Math24.ru. Точки разрыва функции](http://www.math24.ru/%D1%82%D0%BE%D1%87%D0%BA%D0%B8-%D1%80%D0%B0%D0%B7%D1%80%D1%8B%D0%B2%D0%B0-%D1%84%D1%83%D0%BD%D0%BA%D1%86%D0%B8%D0%B8.html)\n",
    "\n",
    "[ SymPy Modules Reference. Calculus](https://docs.sympy.org/latest/modules/calculus/index.html)"
   ]
  },
  {
   "cell_type": "markdown",
   "metadata": {},
   "source": [
    "# Вариант 22"
   ]
  },
  {
   "cell_type": "markdown",
   "metadata": {},
   "source": [
    "## Типовой расчет №10\n",
    "\n",
    "Вычислить предел функции $\\large{\\displaystyle{\\lim_{x \\to 0} \\frac { e^x + e^{-x}  - 2 }{\\sin ^ 2 x} }}$."
   ]
  },
  {
   "cell_type": "markdown",
   "metadata": {},
   "source": [
    "## Решение \n",
    "\n",
    "## I Способ\n",
    "\n",
    "Числитель и знаменатель дроби стремятся к 0 при $x \\to 0$, \n",
    "\n",
    "значит дробь является неопределенным выражением вида $\\big[\\frac{0}{0}\\big]$ при $x \\to 0$.\n",
    "\n",
    "Для раскрытия неопределенности преобразуем функцию, используя разложение в ряды Маклорена:\n",
    "\n",
    "$\\large{\\displaystyle{ e^x = 1 + x + \\frac{x^2}{2!} + \\frac{x^3}{3!} + \\frac{x^4}{4!} + \\overline{o_1(x^4)} }}$\n",
    "\n",
    "$\\large{\\displaystyle{e^{-x} = 1 - x + \\frac{x^2}{2!} - \\frac{x^3}{3!} + \\frac{x^4}{4!} + \\overline{o_2(x^4)} }}$\n",
    "\n",
    "$\\large{\\displaystyle{ \\sin^2 x = \\frac{1}{2}(1 - \\cos 2x) = \\frac{1}{2}(1 - (1 - \\frac{4x^2}{2!} +  \\frac{16x^4}{4!})) + \\overline{o_3(x^4) }= x^2 - \\frac{x^4}{3} + \\overline{o_3(x^4)} }}$\n",
    "\n",
    "$\\overline{o_1(x^4)}, \\ \\overline{o_2(x^4)}, \\ \\overline{o_3(x^4)} \\to 0$ при $x \\to 0$.\n",
    "\n",
    "$\\large{\\displaystyle{ \\frac { e^x + e^{-x}  - 2 }{sin ^ 2 x} = }}$\n",
    "\n",
    "$\\large{\\displaystyle{=  \\frac { 1 + x + \\frac{x^2}{2!} + \\frac{x^3}{3!} + \\frac{x^4}{4!} + \\overline{o_1(x^4)} + 1 - x + \\frac{x^2}{2!} - \\frac{x^3}{3!} + \\frac{x^4}{4!} + \\overline{o_2(x^4)} - 2 }{x^2 - \\frac{x^4}{3} + \\overline{o_3(x^4)}} = }}$\n",
    "\n",
    "$\\large{\\displaystyle{=  \\frac {(x^2 + \\frac {x^4}{12} + \\overline{o_1(x^4)} + \\overline{o_2(x^4)}) / x^2}{(x^2 - \\frac{x^4}{3} + \\overline{o_3(x^4)}) / x^2} = }}$\n",
    "\n",
    "$\\large{\\displaystyle{= \\frac {1 + \\frac {x^2}{12} + \\frac{\\overline{o_1(x^4)}}{x^2} + \\frac{\\overline{o_2(x^4)}}{x^2}} {1 - \\frac{x^2}{3} + \\frac{\\overline{o_3(x^4)}}{x^2}} }}$\n",
    "\n",
    "Учитывая то, что дроби $\\large{\\displaystyle{\\frac {x^2}{12}, \\frac{x^2}{3}, \\frac{\\overline{o_1(x^4)}}{x^2}, \\frac{\\overline{o_2(x^4)}}{x^2}, \\frac{\\overline{o_3(x^4)}}{x^2} }}$\n",
    "\n",
    "являются бесконечно малыми величинами при $x \\to 0$:\n",
    "\n",
    "$\\large{\\displaystyle{\\lim_{x \\to 0} \\frac {1 + \\frac {x^2}{12} + \\frac{\\overline{o_1(x^4)}}{x^2} + \\frac{\\overline{o_2(x^4)}}{x^2}} {1 - \\frac{x^2}{3} + \\frac{\\overline{o_3(x^4)}}{x^2}} = \\frac{1 + 0 + 0 + 0}{1 - 0 + 0} = 1}}$"
   ]
  },
  {
   "cell_type": "markdown",
   "metadata": {},
   "source": [
    "## II Способ\n",
    "\n"
   ]
  },
  {
   "cell_type": "markdown",
   "metadata": {},
   "source": [
    "Числитель и знаменатель дроби стремятся к 0 при $x \\to 0$, \n",
    "\n",
    "значит дробь является неопределенным выражением вида $\\big[\\frac{0}{0}\\big]$ при $x \\to 0$.\n",
    "\n",
    "Используя арифметические свойства пределов и свойства тригонометрических и показательных функций, \n",
    "\n",
    "выполним элементарные преобразования:\n",
    "\n",
    "$\\large{\\displaystyle{\\lim_{x \\to 0} \\frac{ e^x + e^{-x}  - 2 }{\\sin ^ 2 x} = a^2 * \\lim_{x \\to 0} \\frac {e^ x - 2 e^{\\frac{x}{2}} e^{-\\frac{x}{2}} + e^{- x}}{\\sin ^ 2 x} = }}$\n",
    "\n",
    "$\\large{\\displaystyle{ = \\lim_{x \\to 0} \\frac {(e^{\\frac{x}{2}})^2 - 2 e^{\\frac{x}{2}} e^{-\\frac{x}{2}} + (e^{-\\frac{x}{2}})^2}{\\sin ^ 2 x}  = \\lim_{x \\to 0} \\Bigg(\\frac { e^{\\frac{x}{2}} - e^{- \\frac{x}{2}} }{\\sin x}\\Bigg)^2 = }}$\n",
    "\n",
    "$\\large{\\displaystyle{ = \\lim_{x \\to 0} \\Bigg(\\frac {e^{\\frac{x}{2}} - 1 - (e^{- \\frac{x}{2}} - 1)}{\\sin x}\\Bigg)^2 = \\lim_{x \\to 0} \\Bigg(\\frac {e^{\\frac{x}{2}} - 1 - (e^{- \\frac{x}{2}} - 1)}{\\sin \\frac{x}{2}} * \\frac{\\sin \\frac{x}{2}}{\\sin x}\\Bigg)^2 = }}$\n",
    "\n",
    "$\\large{\\displaystyle{ = \\Bigg(\\lim_{x \\to 0} \\frac {e^{\\frac{x}{2}} - 1 - (e^{- \\frac{x}{2}} - 1)}{\\sin \\frac{x}{2}}\\Bigg)^2 * \\Bigg(\\lim_{x \\to 0} \\frac{\\sin \\frac{x}{2}}{\\sin x} \\Bigg)^2 = }}$\n",
    "\n",
    "$\\large{\\displaystyle{ = \\Bigg(\\lim_{x \\to 0} \\frac {e^{\\frac{x}{2}} - 1}{\\sin \\frac{x}{2}} + \\lim_{x \\to 0} \\frac{e^{- \\frac{x}{2}} - 1}{\\sin(-\\frac{x}{2})}\\Bigg)^2 * \\Bigg(\\lim_{x \\to 0} \\frac{\\sin \\frac{x}{2}}{\\sin x} \\Bigg)^2 }} (*)$\n",
    "\n",
    "Очевидно, что $\\frac{x}{2} \\to 0, -\\frac{x}{2} \\to 0$ при $x \\to 0$.\n",
    "\n",
    "Применим асимптотические равенства для бесконечно малых функций:\n",
    "\n",
    "$\\large{\\displaystyle{ (e^t - 1) \\sim t , \\sin t \\sim t \\iff \\frac{e^t - 1}{\\sin t} \\sim 1}}$\n",
    "\n",
    "$\\large{\\displaystyle{ t = x \\implies \\lim_{x \\to 0} \\frac {\\sin x}{x} = 1, \\lim_{x \\to 0} \\frac {x}{\\sin x} = 1}}$\n",
    "\n",
    "$\\large{\\displaystyle{ t = \\frac {x}{2} \\implies \\lim_{x \\to 0} \\frac {e^{\\frac{x}{2}} - 1}{\\sin \\frac{x}{2}} = 1, \\ \\lim_{x \\to 0} \\frac {\\sin \\frac{x}{2}}{\\frac{x}{2}} = 1}}$\n",
    "\n",
    "$\\large{\\displaystyle{ t = -\\frac {x}{2} \\implies \\lim_{x \\to 0} \\frac {e^{-\\frac{x}{2}} - 1}{\\sin(-\\frac{x}{2})} = 1 }}$\n",
    "\n",
    "$\\large{\\displaystyle{ \\Bigg( \\lim_{x \\to 0} \\frac{ \\sin \\frac{x}{2} } {\\sin x}\\Bigg)^2 = \\frac{1}{4} * \\Bigg( \\lim_{x \\to 0} \\frac{ \\sin \\frac{x}{2} }{\\sin x} * \\frac{x}{\\frac{x}{2}} \\Bigg)^2 = }}$\n",
    "\n",
    "$\\large{\\displaystyle{ = \\frac{1}{4} * \\Bigg( \\lim_{x \\to 0} \\frac{ \\sin \\frac{x}{2} }{\\frac{x}{2}} \\Bigg)^2 * \\Bigg( \\lim_{x \\to 0} \\frac{ x }{\\sin x} \\Bigg)^2 = \\frac{1}{4} * 1^2 * 1^2 = \\frac{1}{4} }}$\n",
    "\n",
    "$\\large{\\displaystyle{ \\implies (*) = (1 + 1)^2 * \\frac{1}{4} = 1}}$"
   ]
  },
  {
   "cell_type": "code",
   "execution_count": 3,
   "metadata": {},
   "outputs": [
    {
     "data": {
      "image/png": "[encoded data removed]",
      "text/latex": [
       "$$2.71828182845905$$"
      ],
      "text/plain": [
       "2.71828182845905"
      ]
     },
     "execution_count": 3,
     "metadata": {},
     "output_type": "execute_result"
    }
   ],
   "source": [
    "N(E)"
   ]
  },
  {
   "cell_type": "code",
   "execution_count": 4,
   "metadata": {},
   "outputs": [
    {
     "data": {
      "image/png": "[encoded data removed]",
      "text/latex": [
       "$$1$$"
      ],
      "text/plain": [
       "1"
      ]
     },
     "execution_count": 4,
     "metadata": {},
     "output_type": "execute_result"
    }
   ],
   "source": [
    "x = symbols('x')\n",
    "limit((E ** x + E ** (-x) - 2) / (sin(x)) ** 2, x, 0)"
   ]
  },
  {
   "cell_type": "markdown",
   "metadata": {},
   "source": [
    "## Типовой расчет №11\n",
    "\n",
    "Вычислить предел функции $\\large{\\displaystyle{\\lim_{x \\to \\pi} \\frac {\\ln \\cos 2x}{(x - \\pi)^2} }}$."
   ]
  },
  {
   "cell_type": "markdown",
   "metadata": {},
   "source": [
    "## Решение \n",
    "\n",
    "Числитель и знаменатель дроби стремятся к 0 при $x \\to \\pi$, \n",
    "\n",
    "значит дробь является неопределенным выражением вида $\\big[\\frac{0}{0}\\big]$ при $x \\to \\pi$.\n",
    "\n",
    "Для раскрытия неопределенности преобразуем функцию, используя формулы эквивалентности функций.\n",
    "\n",
    "Прежде всего произведем замену переменной $x - \\pi = t \\iff x = t + \\pi; \\ x \\to \\pi \\implies t \\to 0$.\n",
    "\n",
    "$\\large{\\displaystyle{\\lim_{x \\to \\pi} \\frac {\\ln \\cos 2x}{(x - \\pi)^2} = \\lim_{t \\to 0} \\frac {\\ln \\cos (2t + 2\\pi)}{t^2} = \\lim_{t \\to 0} \\frac {\\ln (1 + (\\cos 2t - 1))}{t^2} = \\lim_{t \\to 0} \\frac {\\cos 2t - 1}{t^2}}}$\n",
    "\n",
    "Здесь использована формула эквивалентности $\\ln(1 + a) \\sim a$ при $a \\to 0$. \n",
    "\n",
    "Поскольку $cos2t - 1 \\to 0$ при $t \\to 0$, то  $\\ln (1 + (\\cos 2t - 1)) \\sim cos2t - 1$ при $t \\to 0$.\n",
    "\n",
    "Применим формулу синуса половинного угла $\\sin^2 a = \\frac{1 - cos 2 a}{2}$ и арифметические свойства пределов:\n",
    "\n",
    "$\\large{\\displaystyle{\\lim_{t \\to 0} \\frac {\\cos 2t - 1}{t^2} = \\lim_{t \\to 0} \\frac {-2\\sin^2t}{t^2} = -2 \\Bigg(\\lim_{t \\to 0} \\frac {\\sin t}{t}\\Bigg)^2}}$\n",
    "\n",
    "С учетом первого замечательного предела $\\displaystyle{\\lim_{a \\to 0} \\frac{\\sin a}{a} = 1}$:\n",
    "\n",
    "$\\large{\\displaystyle{-2 \\Bigg(\\lim_{t \\to 0} \\frac {\\sin t}{t}\\Bigg)^2 = -2 * 1^2 = -2}}$"
   ]
  },
  {
   "cell_type": "code",
   "execution_count": 14,
   "metadata": {},
   "outputs": [
    {
     "data": {
      "image/png": "[encoded data removed]",
      "text/latex": [
       "$$3.14159265358979$$"
      ],
      "text/plain": [
       "3.14159265358979"
      ]
     },
     "execution_count": 14,
     "metadata": {},
     "output_type": "execute_result"
    }
   ],
   "source": [
    "N(pi)"
   ]
  },
  {
   "cell_type": "code",
   "execution_count": 15,
   "metadata": {},
   "outputs": [
    {
     "data": {
      "image/png": "[encoded data removed]",
      "text/latex": [
       "$$-2$$"
      ],
      "text/plain": [
       "-2"
      ]
     },
     "execution_count": 15,
     "metadata": {},
     "output_type": "execute_result"
    }
   ],
   "source": [
    "x = symbols('x')\n",
    "limit(ln(cos(2 * x)) / (x - pi) ** 2, x, pi)"
   ]
  },
  {
   "cell_type": "markdown",
   "metadata": {},
   "source": [
    "## Типовой расчет №12\n",
    "\n",
    "Вычислить предел функции $\\large{\\displaystyle{\\lim_{x \\to 0} \\Bigg(\\frac {2x + 9}{x + 9}\\Bigg)^{1/(\\sqrt[3]{x + 8} - 2)} }}$."
   ]
  },
  {
   "cell_type": "markdown",
   "metadata": {},
   "source": [
    "## Решение \n",
    "\n",
    "$\\large{\\displaystyle{\\frac {2x + 9}{x + 9} \\to 1; \\frac{1}{\\sqrt[3]{x + 8} - 2} \\to \\infty}}$ при $x \\to 0$, значит\n",
    "\n",
    "функция является неопределенным выражением вида $\\big[1^{\\infty}\\big]$ при $x \\to 0$.\n",
    "\n",
    "Для раскрытия неопределенности воспользуемся \n",
    "\n",
    "- вторым замечательным пределом и \n",
    "- известной схемой его применения.\n",
    "\n",
    "Пусть $g(x) \\to \\infty, h(x) \\to 0$ при $x \\to 0$.\n",
    "\n",
    "Поскольку показательная функция $e^t, \\ \\forall t \\in \\mathbb{R}$ непрерывна, то справедливы следующие равенства:\n",
    "\n",
    "$\\large{\\displaystyle{\\lim_{x \\to 0}\\bigg(1 + h(x)\\bigg)^{g(x)} =  \\lim_{x \\to 0}\\Bigg[\\bigg(1 + h(x)\\bigg)^{\\frac{1}{h(x)}}\\Bigg]^{h(x)g(x)} =  \\lim_{x \\to 0} e^{h(x)g(x)} }}$"
   ]
  },
  {
   "cell_type": "markdown",
   "metadata": {},
   "source": [
    "Примения эту схему к данному примеру, получим:\n",
    "    \n",
    "$\\large{\\displaystyle{h(x) = 1 - \\frac {2x + 9}{x + 9} = \\frac {x + 9 - 2x - 9}{x + 9} = -\\frac{x}{x+9} \\to 0}}$ при $x \\to 0$\n",
    "\n",
    "$\\large{\\displaystyle{g(x) = \\frac{1}{\\sqrt[3]{x + 8} - 2} \\to \\infty}}$ при $x \\to 0$\n",
    "\n",
    "$\\large{\\displaystyle{\\lim_{x \\to 0} \\Bigg(\\frac {2x + 9}{x + 9}\\Bigg)^{1/(\\sqrt[3]{x + 8} - 2)} =  \\lim_{x \\to 0} e^ {-\\frac{x}{x+9} \\frac{1}{\\sqrt[3]{x + 8} - 2}} = \\lim_{x \\to 0} e^ \\frac{x}{(x + 9)(2 - \\sqrt[3]{x + 8})} }}$"
   ]
  },
  {
   "cell_type": "markdown",
   "metadata": {},
   "source": [
    "Применим тождественные преобразования выражений и арифметические свойства предела:\n",
    "    \n",
    " $\\large{\\displaystyle{ \\frac{x}{(x + 9)(2 - \\sqrt[3]{x + 8})} = \\frac{x}{2x + 18 - x\\sqrt[3]{x + 8} - 9\\sqrt[3]{x + 8}} = }}$\n",
    " \n",
    " $\\large{\\displaystyle{= \\frac{x}{2x + 18 - \\sqrt[3]{x^4 + 8x^3} - \\sqrt[3]{729x + 5832}} }}$\n",
    " \n",
    "$\\large{\\displaystyle{ \\lim_{x \\to 0}\\frac{x}{2x + 18 - \\sqrt[3]{x^4 + 8x^3} - \\sqrt[3]{729x + 5832}} = \\frac{0}{0 + 18 - 0 - \\sqrt[3]{5832}} = 0 \\implies }}$\n",
    "\n",
    "$\\large{\\displaystyle{ \\lim_{x \\to 0} e^ {\\frac{x}{(x + 9)(2 - \\sqrt[3]{x + 8})}} = e^0 = 1}}$"
   ]
  },
  {
   "cell_type": "code",
   "execution_count": 3,
   "metadata": {},
   "outputs": [
    {
     "data": {
      "image/png": "[encoded data removed]",
      "text/latex": [
       "$$1$$"
      ],
      "text/plain": [
       "1"
      ]
     },
     "execution_count": 3,
     "metadata": {},
     "output_type": "execute_result"
    }
   ],
   "source": [
    "x = symbols('x')\n",
    "limit(((2*x + 9) / (x + 9)) ** ((x + 8) ** (1/3) - 2), x, 0)"
   ]
  },
  {
   "cell_type": "markdown",
   "metadata": {},
   "source": [
    "## Типовой расчет №13\n",
    "\n",
    "Вычислить предел функции $\\large{\\displaystyle{\\lim_{x \\to \\infty} \\Bigg(\\frac {x}{x - 1}\\Bigg)^{3 - 2x} }}$."
   ]
  },
  {
   "cell_type": "markdown",
   "metadata": {},
   "source": [
    "## Решение \n",
    "\n",
    "$\\frac {x}{x - 1} \\to 1$; $3 - 2x \\to \\infty$ при $x \\to \\infty$, значит\n",
    "\n",
    "функция является неопределенным выражением вида $\\big[1^{\\infty}\\big]$ при $x \\to \\infty$.\n",
    "\n",
    "Заменим переменную: $ y = \\frac{1}{x} \\iff x = \\frac{1}{y}$, причем $y \\to 0, \\frac{1}{y} \\to \\infty$ при $x \\to \\infty$.\n",
    "\n",
    "$\\large{\\displaystyle{\\lim_{x \\to \\infty} \\Bigg(\\frac {x}{x - 1}\\Bigg)^{3 - 2x} = \\lim_{x \\to \\infty} \\Bigg(\\frac {x - 1}{x}\\Bigg)^{2x - 3} = \\lim_{x \\to \\infty} \\Bigg(1 - \\frac {1}{x}\\Bigg)^{2x - 3} = }}$\n",
    "\n",
    "$\\large{\\displaystyle{= \\lim_{y \\to 0} \\bigg(1 - y\\bigg)^{\\frac{2}{y} - 3}  = \\lim_{y \\to 0} \\bigg(1 - y\\bigg)^{\\frac{2 - 3y}{y}} = \\lim_{y \\to 0} \\Bigg[ \\bigg(1 + (-y) \\bigg)^{\\frac{1}{-y}} \\Bigg] ^{3y - 2} (*) }}$\n",
    "\n",
    "Применяя формулу второго замечательного предела, получим:\n",
    "\n",
    "$\\large{\\displaystyle{-y \\to 0, \\frac{1}{-y} \\to \\infty \\implies \\lim_{y \\to 0} \\bigg(1 + (-y) \\bigg)^{\\frac{1}{-y}} = e \\implies}}$.\n",
    "\n",
    "Поскольку показательная функция $e^t, \\ \\forall t \\in \\mathbb{R}$ непрерывна:\n",
    "\n",
    "$\\large{\\displaystyle{ (*) = \\lim_{y \\to 0} e^{3y -2} = e^{-2} }}$."
   ]
  },
  {
   "cell_type": "code",
   "execution_count": 4,
   "metadata": {},
   "outputs": [
    {
     "data": {
      "image/png": "[encoded data removed]",
      "text/latex": [
       "$$e^{-2}$$"
      ],
      "text/plain": [
       " -2\n",
       "ℯ  "
      ]
     },
     "execution_count": 4,
     "metadata": {},
     "output_type": "execute_result"
    }
   ],
   "source": [
    "x = symbols('x')\n",
    "limit(( x / (x - 1) ) ** (3 - 2 * x), x, oo)"
   ]
  },
  {
   "cell_type": "markdown",
   "metadata": {},
   "source": [
    "## Типовой расчет №14\n",
    "\n",
    "Сравнить бесконечно малые при $x \\to x_0$ функции $\\alpha(x)$ и $\\beta(x)$.\n",
    "\n",
    "$\\alpha(x) = \\sin (3x - 2)^2; \\ \\beta(x) = ch(2 - 3x) - 1; \\ x_0 = \\frac{2}{3}$"
   ]
  },
  {
   "cell_type": "markdown",
   "metadata": {},
   "source": [
    "## Решение \n",
    "\n",
    "Чтобы сравнить заданные функции $\\alpha(x)$ и $\\beta(x)$ при $x \\to x_0$, \n",
    "\n",
    "найдем предел частного $\\large{\\displaystyle{\\lim_{x \\to \\frac {2}{3}} \\frac {\\sin (3x - 2)^2}{ch(2 - 3x) - 1} (*)}}$ \n",
    "\n",
    "Заменим переменную: $ y = 2 - 3x \\iff x = \\frac{2 - y}{3}$, причем $y \\to 0, \\frac{1}{y} \\to \\infty$ при $x \\to \\frac {2}{3}$.\n",
    "\n",
    "и подставим соотвествующее выражение для гиперболического косинуса $ch \\ t = (e^t + e^{-t})/2$.\n",
    "\n",
    "$\\large{\\displaystyle{(*) = \\lim_{y \\to 0} \\frac {\\sin (-y)^2}{ch \\ y - 1} = \\lim_{y \\to 0} \\frac {\\sin (y^2)}{(e^y + e^{-y})/2 - 1} = \\lim_{y \\to 0} \\frac {2\\sin (y^2)}{e^y + e^{-y} - 2} (**) }}$"
   ]
  },
  {
   "cell_type": "markdown",
   "metadata": {},
   "source": [
    "Используем правило Лопиталя\n",
    "\n",
    "$\\large{\\displaystyle{\\lim_{x \\to 0} \\frac { f(x) }{ g(x) } = \\lim_{x \\to 0} \\frac { f'(x) }{ g'(x) } }}$\n",
    "\n",
    "и дважды продифференцируем числитель и знаменатель:\n",
    "                                                                                             \n",
    "$\\large{\\displaystyle{(**) =  \\lim_{y \\to 0} \\frac {(2\\sin (y^2))'}{(e^y + e^{-y} - 2)'} =  \\lim_{y \\to 0} \\frac {4y\\cos (y^2)}{e^y - e^{-y}} = }}$                                                   \n",
    "\n",
    "$\\large{\\displaystyle{=  \\lim_{y \\to 0} \\frac {(4y\\cos (y^2))'}{(e^y - e^{-y})'} = \\lim_{y \\to 0} \\frac {-8 y^2 sin(y^2) + 4\\cos (y^2)}{e^y + e^{-y}} = \\frac{0 + 4}{1 + 1} = 2}}$ "
   ]
  },
  {
   "cell_type": "code",
   "execution_count": 8,
   "metadata": {},
   "outputs": [
    {
     "data": {
      "image/png": "[encoded data removed]",
      "text/latex": [
       "$$4 y \\cos{\\left (y^{2} \\right )}$$"
      ],
      "text/plain": [
       "       ⎛ 2⎞\n",
       "4⋅y⋅cos⎝y ⎠"
      ]
     },
     "execution_count": 8,
     "metadata": {},
     "output_type": "execute_result"
    }
   ],
   "source": [
    "y = symbols('y')\n",
    "diff(2 * sin(y ** 2) , y)"
   ]
  },
  {
   "cell_type": "code",
   "execution_count": 10,
   "metadata": {},
   "outputs": [
    {
     "data": {
      "image/png": "[encoded data removed]",
      "text/latex": [
       "$$e^{y} - e^{- y}$$"
      ],
      "text/plain": [
       " y    -y\n",
       "ℯ  - ℯ  "
      ]
     },
     "execution_count": 10,
     "metadata": {},
     "output_type": "execute_result"
    }
   ],
   "source": [
    "diff(E ** y + E ** (-y) - 2, y)"
   ]
  },
  {
   "cell_type": "code",
   "execution_count": 9,
   "metadata": {},
   "outputs": [
    {
     "data": {
      "image/png": "[encoded data removed]",
      "text/latex": [
       "$$- 8 y^{2} \\sin{\\left (y^{2} \\right )} + 4 \\cos{\\left (y^{2} \\right )}$$"
      ],
      "text/plain": [
       "     2    ⎛ 2⎞        ⎛ 2⎞\n",
       "- 8⋅y ⋅sin⎝y ⎠ + 4⋅cos⎝y ⎠"
      ]
     },
     "execution_count": 9,
     "metadata": {},
     "output_type": "execute_result"
    }
   ],
   "source": [
    "diff(diff(2 * sin(y ** 2) , y),y)"
   ]
  },
  {
   "cell_type": "code",
   "execution_count": 14,
   "metadata": {},
   "outputs": [
    {
     "data": {
      "image/png": "[encoded data removed]",
      "text/latex": [
       "$$e^{y} + e^{- y}$$"
      ],
      "text/plain": [
       " y    -y\n",
       "ℯ  + ℯ  "
      ]
     },
     "execution_count": 14,
     "metadata": {},
     "output_type": "execute_result"
    }
   ],
   "source": [
    "diff(diff(E ** y + E ** (-y) - 2, y), y)"
   ]
  },
  {
   "cell_type": "code",
   "execution_count": 13,
   "metadata": {},
   "outputs": [
    {
     "data": {
      "image/png": "[encoded data removed]",
      "text/latex": [
       "$$2$$"
      ],
      "text/plain": [
       "2"
      ]
     },
     "execution_count": 13,
     "metadata": {},
     "output_type": "execute_result"
    }
   ],
   "source": [
    "x = symbols('x')\n",
    "limit(sin((3 * x - 2) ** 2) / (cosh(2 - 3 * x) - 1), x, 2/3)"
   ]
  },
  {
   "cell_type": "markdown",
   "metadata": {},
   "source": [
    "## Типовой расчет №15\n",
    "\n",
    "Найти точки разрыва функции и установить их характер.\n",
    "\n",
    "$\\large{\\displaystyle{ f(x) = \\frac{1 - \\cos 6x}{4 x^2} }}$"
   ]
  },
  {
   "cell_type": "markdown",
   "metadata": {},
   "source": [
    "## Решение \n",
    "\n",
    "Функция $f(x)$ определена и непрерывна для всех $x \\in \\mathbb{R}$, кроме $x = 0$, т.е.\n",
    "\n",
    "$f(x)$ непрерывна на всей области определения $(-\\infty, 0) \\cup (0, +\\infty)$.\n",
    "\n",
    "В точке $x = 0$ функция $f(x)$ имеет разрыв, т.к. она определена в некоторой проколотой окрестности\n",
    "\n",
    "этой точки, а в самой точке не определена.\n",
    "\n",
    "Для классификации тип разрыва, вычислим односторонние пределы при $x \\to 0$.\n",
    "\n",
    "Учитывая вид неопределенности, при вычислении предела используем правило Лопиталя\n",
    "\n",
    "$\\large{\\displaystyle{\\lim_{x \\to 0} \\frac { f(x) }{ g(x) } = \\lim_{x \\to 0} \\frac { f'(x) }{ g'(x) } }}$\n",
    "\n",
    "и дважды продифференцируем числитель и знаменатель:\n",
    "\n",
    "$\\large{\\displaystyle{\\lim_{x \\to 0 - 0} \\frac{1 - \\cos 6x}{4 x^2} = \\Bigg[ \\frac{0}{0} \\Bigg] = \\lim_{x \\to 0 - 0} \\frac{(1 - \\cos 6x)'}{(4 x^2)'} = }}$\n",
    "\n",
    "$\\large{\\displaystyle{= \\lim_{x \\to 0 - 0} \\frac{6 \\sin 6x}{8x} = \\lim_{x \\to 0 - 0} \\frac{(6 \\sin 6x)'}{(8x)'} = \\lim_{x \\to 0 - 0} \\frac{36 \\cos 6x}{8} = \\frac {36 * 1}{8} = 4.5}}$.\n",
    "\n",
    "Аналогично\n",
    "\n",
    "$\\large{\\displaystyle{\\lim_{x \\to 0 + 0} \\frac{1 - \\cos 6x}{4 x^2} = \\Bigg[ \\frac{0}{0} \\Bigg] = \\lim_{x \\to 0 + 0} \\frac{36 \\cos 6x}{8} = \\frac {36 * 1}{8} = 4.5}}$"
   ]
  },
  {
   "cell_type": "markdown",
   "metadata": {},
   "source": [
    "Левосторонний и правосторонний пределы существуют и конечны, значит\n",
    "\n",
    "$x = 0$ является ***точкой разрыва первого рода***.\n",
    "\n",
    "$\\large{\\displaystyle{\\lim_{x \\to 0 - 0} f(x) = \\lim_{x \\to 0 + 0} f(x) = 4.5}}$\n",
    "                      \n",
    "Левосторонний и правосторонний пределы равны, значит \n",
    "\n",
    "$x = 0$ является ***точкой устранимого разрыва***."
   ]
  },
  {
   "cell_type": "code",
   "execution_count": 18,
   "metadata": {},
   "outputs": [
    {
     "data": {
      "image/png": "[encoded data removed]",
      "text/latex": [
       "$$\\left ( 6 \\sin{\\left (6 x \\right )}, \\quad 36 \\cos{\\left (6 x \\right )}\\right )$$"
      ],
      "text/plain": [
       "(6⋅sin(6⋅x), 36⋅cos(6⋅x))"
      ]
     },
     "execution_count": 18,
     "metadata": {},
     "output_type": "execute_result"
    }
   ],
   "source": [
    "x = symbols('x')\n",
    "diff(1 - cos(6 * x) , x), diff(diff(1 - cos(6 * x) , x), x)"
   ]
  },
  {
   "cell_type": "code",
   "execution_count": 21,
   "metadata": {},
   "outputs": [
    {
     "data": {
      "image/png": "[encoded data removed]",
      "text/latex": [
       "$$\\left ( 8 x, \\quad 8\\right )$$"
      ],
      "text/plain": [
       "(8⋅x, 8)"
      ]
     },
     "execution_count": 21,
     "metadata": {},
     "output_type": "execute_result"
    }
   ],
   "source": [
    "diff(4 * x ** 2, x), diff(diff(4 * x ** 2, x), x)"
   ]
  },
  {
   "cell_type": "code",
   "execution_count": 19,
   "metadata": {},
   "outputs": [
    {
     "data": {
      "image/png": "[encoded data removed]",
      "text/latex": [
       "$$\\frac{9}{2}$$"
      ],
      "text/plain": [
       "9/2"
      ]
     },
     "execution_count": 19,
     "metadata": {},
     "output_type": "execute_result"
    }
   ],
   "source": [
    "limit( (1 - cos(6 * x)) / (4 * x ** 2), x, 0, '+')"
   ]
  },
  {
   "cell_type": "code",
   "execution_count": 20,
   "metadata": {},
   "outputs": [
    {
     "data": {
      "image/png": "[encoded data removed]",
      "text/latex": [
       "$$\\frac{9}{2}$$"
      ],
      "text/plain": [
       "9/2"
      ]
     },
     "execution_count": 20,
     "metadata": {},
     "output_type": "execute_result"
    }
   ],
   "source": [
    "limit( (1 - cos(6 * x)) / (4 * x ** 2), x, 0, '-')"
   ]
  }
 ],
 "metadata": {
  "kernelspec": {
   "display_name": "Python 3",
   "language": "python",
   "name": "python3"
  },
  "language_info": {
   "codemirror_mode": {
    "name": "ipython",
    "version": 3
   },
   "file_extension": ".py",
   "mimetype": "text/x-python",
   "name": "python",
   "nbconvert_exporter": "python",
   "pygments_lexer": "ipython3",
   "version": "3.6.4"
  }
 },
 "nbformat": 4,
 "nbformat_minor": 2
}
