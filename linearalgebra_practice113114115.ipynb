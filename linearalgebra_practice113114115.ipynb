{
 "cells": [
  {
   "cell_type": "code",
   "execution_count": 1,
   "metadata": {},
   "outputs": [
    {
     "data": {
      "text/html": [
       "<style>\n",
       "@import url('https://fonts.googleapis.com/css?family=Roboto&effect=3d|brick-sign|');\n",
       "span {font-family:Roboto; color:black; text-shadow:4px 4px 4px #aaa;}  \n",
       "h1,h2 {font-family:Roboto; color:slategray; text-shadow:4px 4px 4px #aaa;} \n",
       "div.output_subarea, div.output_area pre{font-family:Roboto; font_size:120%; color:darkblue;}\n",
       "</style> "
      ],
      "text/plain": [
       "<IPython.core.display.HTML object>"
      ]
     },
     "metadata": {},
     "output_type": "display_data"
    }
   ],
   "source": [
    "%%html\n",
    "<style>\n",
    "@import url('https://fonts.googleapis.com/css?family=Roboto&effect=3d|brick-sign|');\n",
    "span {font-family:Roboto; color:black; text-shadow:4px 4px 4px #aaa;}  \n",
    "h1,h2 {font-family:Roboto; color:slategray; text-shadow:4px 4px 4px #aaa;} \n",
    "div.output_subarea, div.output_area pre{font-family:Roboto; font_size:120%; color:darkblue;}\n",
    "</style> "
   ]
  },
  {
   "cell_type": "code",
   "execution_count": 2,
   "metadata": {},
   "outputs": [],
   "source": [
    "import math, sympy, numpy\n",
    "sympy.init_printing(use_unicode=True)\n",
    "from sympy import *\n",
    "from mpmath import *\n",
    "from sympy.physics.vector import *\n",
    "\n",
    "from mpl_toolkits.mplot3d import Axes3D\n",
    "from mpl_toolkits.mplot3d.art3d import Poly3DCollection, Line3DCollection\n",
    "\n",
    "import pylab as plt\n",
    "import matplotlib\n",
    "%matplotlib inline"
   ]
  },
  {
   "cell_type": "markdown",
   "metadata": {},
   "source": [
    "[Computer Algebra I: Mathematica, SymPy, Sage, Maxima](http://hyperpolyglot.org/computer-algebra2)\n",
    "\n",
    "[SymPy. Vector & ReferenceFrame](https://docs.sympy.org/latest/modules/physics/vector/vectors.html)\n",
    "\n",
    "[LaTeX/Mathematics](https://en.wikibooks.org/wiki/LaTeX/Mathematics)\n",
    "\n",
    "[МЦНМО. Свободно распространяемые издания](https://www.mccme.ru/free-books/)"
   ]
  },
  {
   "cell_type": "markdown",
   "metadata": {},
   "source": [
    "# Типовой расчет 13 / Standard Calculation 13"
   ]
  },
  {
   "cell_type": "markdown",
   "metadata": {},
   "source": [
    "## Постановка  задачи / Formulation of the problem:\n",
    "\n",
    "По координатам вершин треугольника $ABC$ найти \n",
    "\n",
    "канонические уравения высоты, опущенной из вершины $A$.\n",
    "\n",
    "$A = (9, -2, -6); B = (14, 11, -12); C = (17, -4, 0)$"
   ]
  },
  {
   "cell_type": "code",
   "execution_count": null,
   "metadata": {},
   "outputs": [],
   "source": []
  },
  {
   "cell_type": "markdown",
   "metadata": {},
   "source": [
    "# Типовой расчет 14 / Standard Calculation 14"
   ]
  },
  {
   "cell_type": "markdown",
   "metadata": {},
   "source": [
    "## Постановка  задачи / Formulation of the problem:\n",
    "\n",
    "Через данную прямую $a$ проходят две плоскости.\n",
    "\n",
    "Одна из них проходит через данную точку $A$, другая - через данную точку $B$.\n",
    "\n",
    "Найти уравнения плоскостей, которые делят пополам двугранные углы,\n",
    "\n",
    "образованные этими плоскостями.\n",
    "\n",
    "$a: \\frac{X + 1}{6} = \\frac{Y - 1}{4} = \\frac{Z}{9}; A = (-5, -6, -9); B = (2, 5, 11)$"
   ]
  },
  {
   "cell_type": "code",
   "execution_count": null,
   "metadata": {},
   "outputs": [],
   "source": []
  },
  {
   "cell_type": "markdown",
   "metadata": {},
   "source": [
    "# Типовой расчет 15 / Standard Calculation 15"
   ]
  },
  {
   "cell_type": "markdown",
   "metadata": {},
   "source": [
    "## Постановка  задачи / Formulation of the problem:\n",
    "\n",
    "Луч света идет вдоль прямой $L_1$, заданной как линия пересечения двух плоскостей,\n",
    "\n",
    "и отражается от прямой $L_2$, также заданной как линия пересечения двух плоскостей.\n",
    "\n",
    "Найти направляющий вектор прямой, вдоль которой пойдет отраженный луч.\n",
    "\n",
    "Уравнения прямой $L_1: 2X - 29Y - Z + 135 = 0; X - 20Y - Z + 94 = 0$.\n",
    "    \n",
    "Уравнения прямой $L_2: 10X - 3Y - 5Z - 35 = 0; 5X - 9Y - 10Z + 5 = 0$.    "
   ]
  },
  {
   "cell_type": "code",
   "execution_count": null,
   "metadata": {},
   "outputs": [],
   "source": []
  }
 ],
 "metadata": {
  "kernelspec": {
   "display_name": "Python 3",
   "language": "python",
   "name": "python3"
  },
  "language_info": {
   "codemirror_mode": {
    "name": "ipython",
    "version": 3
   },
   "file_extension": ".py",
   "mimetype": "text/x-python",
   "name": "python",
   "nbconvert_exporter": "python",
   "pygments_lexer": "ipython3",
   "version": "3.6.4"
  }
 },
 "nbformat": 4,
 "nbformat_minor": 2
}
