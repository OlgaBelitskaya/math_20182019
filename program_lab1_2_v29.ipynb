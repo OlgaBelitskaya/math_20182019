{
 "cells": [
  {
   "cell_type": "markdown",
   "metadata": {},
   "source": [
    "# Спецификация к Лабораторной работе №1\n",
    "\n",
    "# Сортировка. Символы. Множества \n",
    "\n",
    "# Вариант 29\n",
    "\n",
    "## Задание\n",
    "Упорядочить символы строки, расположив символы в указанном в нижеследующей таблице порядке (по вариантам) двумя способами: \n",
    "\n",
    "- с созданием своей таблицы символов и \n",
    "- без ее создания (со сложным условием сравнения и множествами). \n",
    "\n",
    "Провести анализ аномалий: строка не пустая и других символов (кроме указанных) нет.\n",
    "\n",
    "При выводе результата в начало строки и в конец добавить символ \" (двойная кавычка) для обозначения начала и конца строки, \n",
    "\n",
    "что особенно актуально для строк из пробелов и других непечатных символов (s:= +<нужный символ>+s+<нужный символ или строка>).\n",
    "\n",
    "- Указание 1. Для проверки и сортировки использовать процедуры, расположенные в отдельном модуле.\n",
    "- Указание 2. Для проверки принадлежности символа к одной из трёх групп использовать множества.\n",
    "- Указание 3. Изменить (упорядочить) заданную строку по указанному в каждом варианте правилу «на месте» без создания дополнительной строки (или массива, файла и т.д.)."
   ]
  },
  {
   "cell_type": "code",
   "execution_count": 160,
   "metadata": {},
   "outputs": [],
   "source": [
    "%display ascii_art"
   ]
  },
  {
   "cell_type": "markdown",
   "metadata": {},
   "source": [
    "## 1. Условие задачи\n",
    "Упорядочить строку, расположив символы в указанном в таблице порядке, убедившись, \n",
    "\n",
    "что строка не пустая и других символов (кроме указанных) нет. \n",
    "\n",
    "| Сначала идут символы | Затем символы| А в конце – символы|\n",
    "|:-:|:-:|:-:|\n",
    "| Гласные буквы кириллицы в исходно заданном порядке, включая Ё и ё | Цифры в исходно заданном порядке | Латиницы в алфавитном порядке (Aa..Zz) |\n",
    "\n",
    "## 2. Уточненное условие задачи\n",
    "Задана строка S. \n",
    "\n",
    "Проверить, что строка S не пустая и состоит только из цифр, гласных букв кириллицы и букв латиницы: \n",
    "\n",
    "- если строка пустая - вывести сообщение «Пустая строка», \n",
    "\n",
    "- если присутствуют иные символы - вывести сообщение «Некорректные символы», \n",
    "\n",
    "- в противном случае, расположить символы строки в указанном в таблице порядке и вывести результат на экран.\n",
    "\n",
    "## 3. Пример\n",
    "Пусть задана строка `оNА3tR7И990kGу`\n",
    "\n",
    "Строка непустая и в ней нет запрещенных символов. \n",
    "\n",
    "После сортировки получаем строку: `оАИу37990GkNRt`"
   ]
  },
  {
   "cell_type": "code",
   "execution_count": 187,
   "metadata": {},
   "outputs": [],
   "source": [
    "import re\n",
    "test_strings = [u'',u'iJщюкQ4',u'01234',u'Ау',u'ЁЖИКВТУМАНЕ',u'StartEnd',u'adressADRESS',\n",
    "                u'358морозИсолнцеДЕНЬчудестный123',u'123FirstSecondThirdОЮИ']\n",
    "symbol_table = u'АаЕеИиОоУуЫыЭэЮюЯяЁё0123456789AaBbCcDdEeFfGgHhIiJjKkLlMmNnOoPpQqRrSsTtUuVvWwXxYyZz'\n",
    "cyrillic_vowels,figures = ur'[А,а,Е,е,И,и,О,о,У,у,Ы,ы,Э,э,Ю,ю,Я,я,Ё,ё]',ur'[0-9]'\n",
    "latin_letters,blatin_letters,slatin_letters = ur'[A-Za-z]',ur'[A-Z]',ur'[a-z]'\n",
    "# combined functions\n",
    "def prov_sort1(s):\n",
    "    s1 = ''.join(re.findall(cyrillic_vowels,s,re.U))\n",
    "    s2 = ''.join(re.findall(figures,s,re.U))\n",
    "    s3 = ''.join(re.findall(latin_letters,s,re.U))\n",
    "    if len(s)==0: return 'Пустая строка'\n",
    "    elif len(s1+s2+s3)!=len(s): return 'Некорректные символы'\n",
    "    else: \n",
    "        s31 = re.findall(blatin_letters,s,re.U)+re.findall(slatin_letters,s,re.U)\n",
    "        s31 = ''.join(sorted(str(s31),key=str.lower))\n",
    "        s3 = ''.join(re.findall(latin_letters,s31,re.U))[:len(s3)]\n",
    "        return '\"'+s1+s2+s3+'\"'\n",
    "    \n",
    "def prov_sort2(s):\n",
    "    s1 = ''.join([s[i] for i in range(len(s)) if s[i] in symbol_table[:20]])\n",
    "    s2 = ''.join([s[i] for i in range(len(s)) if s[i] in symbol_table[20:30]])\n",
    "    s3 = ''.join([s[i] for i in range(len(s)) if s[i] in symbol_table[30:]])\n",
    "    if len(s)==0: return 'Пустая строка'\n",
    "    elif len(s1+s2+s3)!=len(s): return 'Некорректные символы'\n",
    "    else:\n",
    "        m=1; n=len(s3); s3list=list(s3); flag=False\n",
    "        while not (flag or m==n):\n",
    "            flag=True\n",
    "            for i in range(n-m):\n",
    "                if (symbol_table.find(s3[i])>symbol_table.find(s3[i+1])):            \n",
    "                    ch=s3list[i]; s3list[i]=s3list[i+1]; s3list[i+1]=ch; \n",
    "                    s3 = ''.join(s3list); flag=False\n",
    "            m+=1\n",
    "        return '\"'+s1+s2+s3+'\"'\n",
    "\n",
    "# separated functions\n",
    "def prov1(s):\n",
    "    sset = set(re.findall(cyrillic_vowels,s,re.U)+\\\n",
    "               re.findall(figures,s,re.U)+\\\n",
    "               re.findall(latin_letters,s,re.U))\n",
    "    if len(s)==0: return 'Пустая строка'\n",
    "    elif not set(s).issubset(sset): return 'Некорректные символы'\n",
    "    else: return '\"'+sort1(s)+'\"'\n",
    "    \n",
    "def prov2(s):\n",
    "    if len(s)==0: return 'Пустая строка'\n",
    "    elif not set(s).issubset(set(symbol_table)): return 'Некорректные символы'\n",
    "    else: return '\"'+sort2(s)+'\"'\n",
    "    \n",
    "def sort1(s):\n",
    "    s1=''.join(sorted(str(re.findall(blatin_letters,s,re.U)+\\\n",
    "                          re.findall(slatin_letters,s,re.U)),key=str.lower))\n",
    "    return (''.join(re.findall(cyrillic_vowels,s,re.U))+\\\n",
    "            ''.join(re.findall(figures,s,re.U))+\\\n",
    "            ''.join(re.findall(latin_letters,s1,re.U)))[:len(s)]\n",
    "def sort2(s):\n",
    "    s1 = ''.join([s[i] for i in range(len(s)) if s[i] in symbol_table[:20]])\n",
    "    s2 = ''.join([s[i] for i in range(len(s)) if s[i] in symbol_table[20:30]])\n",
    "    s3 = ''.join([s[i] for i in range(len(s)) if s[i] in symbol_table[30:]])    \n",
    "    m=1; n=len(s3); s3list=list(s3); flag=False\n",
    "    while not (flag or m==n):\n",
    "        flag=True\n",
    "        for i in range(n-m):\n",
    "            if symbol_table.find(s3[i])>symbol_table.find(s3[i+1]):            \n",
    "                ch=s3list[i]; s3list[i]=s3list[i+1]; s3list[i+1]=ch; \n",
    "                s3 = ''.join(s3list); flag=False\n",
    "        m+=1\n",
    "    return s1+s2+s3"
   ]
  },
  {
   "cell_type": "code",
   "execution_count": 188,
   "metadata": {},
   "outputs": [
    {
     "data": {
      "text/plain": [
       "[ [ , Пустая строка ], [ iJщюкQ4,\n",
       "\n",
       " Некорректные символы ], [ 01234, \"01234\" ], [ Ау,\n",
       "\n",
       " \"Ау\" ], [ ЁЖИКВТУМАНЕ, Некорректные символы ],\n",
       "\n",
       " [ StartEnd, \"adEnrStt\" ], [ adressADRESS, \"AaDdEeRrSSss\" ],\n",
       "\n",
       " [ 358морозИсолнцеДЕНЬчудестный123,\n",
       "\n",
       " Некорректные символы ], [ 123FirstSecondThirdОЮИ,\n",
       "\n",
       " \"ОЮИ123cddeFhiinorrSsTt\" ] ]"
      ]
     },
     "execution_count": 188,
     "metadata": {},
     "output_type": "execute_result"
    }
   ],
   "source": [
    "[[test_strings[i],prov_sort1(test_strings[i])] for i in range(9)]"
   ]
  },
  {
   "cell_type": "code",
   "execution_count": 189,
   "metadata": {},
   "outputs": [
    {
     "data": {
      "text/plain": [
       "[ [ , Пустая строка ], [ iJщюкQ4,\n",
       "\n",
       " Некорректные символы ], [ 01234, \"01234\" ], [ Ау,\n",
       "\n",
       " \"Ау\" ], [ ЁЖИКВТУМАНЕ, Некорректные символы ],\n",
       "\n",
       " [ StartEnd, \"adEnrStt\" ], [ adressADRESS, \"AaDdEeRrSSss\" ],\n",
       "\n",
       " [ 358морозИсолнцеДЕНЬчудестный123,\n",
       "\n",
       " Некорректные символы ], [ 123FirstSecondThirdОЮИ,\n",
       "\n",
       " \"ОЮИ123cddeFhiinorrSsTt\" ] ]"
      ]
     },
     "execution_count": 189,
     "metadata": {},
     "output_type": "execute_result"
    }
   ],
   "source": [
    "[[test_strings[i],prov1(test_strings[i])] for i in range(9)]"
   ]
  },
  {
   "cell_type": "code",
   "execution_count": 190,
   "metadata": {},
   "outputs": [
    {
     "data": {
      "text/plain": [
       "[ [ , Пустая строка ], [ iJщюкQ4,\n",
       "\n",
       " Некорректные символы ], [ 01234, \"01234\" ], [ Ау,\n",
       "\n",
       " \"Ау\" ], [ ЁЖИКВТУМАНЕ, Некорректные символы ],\n",
       "\n",
       " [ StartEnd, \"adEnrStt\" ], [ adressADRESS, \"AaDdEeRrSSss\" ],\n",
       "\n",
       " [ 358морозИсолнцеДЕНЬчудестный123,\n",
       "\n",
       " Некорректные символы ], [ 123FirstSecondThirdОЮИ,\n",
       "\n",
       " \"ОЮИ123cddeFhiinorrSsTt\" ] ]"
      ]
     },
     "execution_count": 190,
     "metadata": {},
     "output_type": "execute_result"
    }
   ],
   "source": [
    "[[test_strings[i],prov_sort2(test_strings[i])] for i in range(9)]"
   ]
  },
  {
   "cell_type": "code",
   "execution_count": 191,
   "metadata": {},
   "outputs": [
    {
     "data": {
      "text/plain": [
       "[ [ , Пустая строка ], [ iJщюкQ4,\n",
       "\n",
       " Некорректные символы ], [ 01234, \"01234\" ], [ Ау,\n",
       "\n",
       " \"Ау\" ], [ ЁЖИКВТУМАНЕ, Некорректные символы ],\n",
       "\n",
       " [ StartEnd, \"adEnrStt\" ], [ adressADRESS, \"AaDdEeRrSSss\" ],\n",
       "\n",
       " [ 358морозИсолнцеДЕНЬчудестный123,\n",
       "\n",
       " Некорректные символы ], [ 123FirstSecondThirdОЮИ,\n",
       "\n",
       " \"ОЮИ123cddeFhiinorrSsTt\" ] ]"
      ]
     },
     "execution_count": 191,
     "metadata": {},
     "output_type": "execute_result"
    }
   ],
   "source": [
    "[[test_strings[i],prov2(test_strings[i])] for i in range(9)]"
   ]
  },
  {
   "cell_type": "markdown",
   "metadata": {},
   "source": [
    "## 4. Таблица данных\n",
    "| Класс | Имя | Описание (смысл) | Тип | Структура | Формат | \n",
    "|:-:|:-:|:-:|:-:|:-:|:-:|\n",
    "| исходные | S | исходная строка | символьный | строка | - |\n",
    "| выходные | S1 | отсортированная строка без своей таблицы символов | символьный | строка | - |\n",
    "| выходные | S2 | отсортированная строка со своей таблицей символов | символьный | строка | - |\n",
    "| промежуточные | N | номер аномальной ситуации (1 или 2), или 0, если нет аномалий | цел | простая переменная | - |\n",
    "\n",
    "## 5,6. Форма ввода/вывода\n",
    "| Форма ввода | Форма вывода |\n",
    "|:-:|:-:|\n",
    "| Введите строку `<S>` | Строка до сортировки `<S1>` |\n",
    "| - | Отсортированная 1-м способом строка `<S1>` |\n",
    "| - | Строка до сортировки `<S2>` |\n",
    "| - | Отсортированная 2-м способом строка `<S2>` |\n",
    "\n",
    "## 7. Аномалии\n",
    "| № | Описание | Условие | Ожидаемая реакция |\n",
    "|:-:|:-:|:-:|:-:|\n",
    "| 1 | Пустая строка S | `S = ''` | $Пустая \\ строка$ |\n",
    "| 2 | Есть запрещенные символы | Есть символ `S[i]`, для которого НЕ выполняется условие | $Некорректные \\ символы$ |\n",
    "| - | - | `(S[i] in ['А','а','Е','е','И','и','О','о','У','у','Ы','ы','Э','э','Ю','ю','Я','я','Ё','ё'])` | - | \n",
    "| - | - | `or (S[i] in ['0'..'9']) or` | - |\n",
    "| - | - | `(S[i] in ['A'..'z'])` | - |"
   ]
  },
  {
   "cell_type": "markdown",
   "metadata": {},
   "source": [
    "## 8. Функциональные тесты\n",
    "| № | Исходные данные | Ожидаемый результат | Смысл теста |\n",
    "| :-: | :-: | :-: | :-: |\n",
    "| 1 | `S = ''` | $Пустая \\ строка$ | Аномалия 1 Пустая строка |\n",
    "| 2 | `S = 'iJщюкQ4'` | $Некорректные \\ символы$ | Аномалия 2 Есть запрещенные символы |\n",
    "| 3 | `S = '01234'` | `S = '01234'` | Есть только символы второй части, они выводятся в исходном порядке |\n",
    "| 4 | `S = 'Ау'` | `S = 'Ау'` | Есть только символы первой части, они выводятся в исходном порядке  |\n",
    "| 5 | `S = 'ЁЖИКВТУМАНЕ'` | $Некорректные \\ символы$ | Аномалия 2 Есть запрещенные символы |\n",
    "| 6 | `S = 'StartEnd'` | `S = 'adEnrStt'` | Есть только символы третьей части, они выводятся в алфавитном порядке |\n",
    "| 7 | `S = 'adressADRESS'` | `S = 'AaDdEeRrSSss'` | Есть только символы третьей части, они выводятся в алфавитном порядке |\n",
    "| 8 | `S = '358морозИсолнцеДЕНЬчудестный123'` | $Некорректные \\ символы$ | Аномалия 2 Есть запрещенные символы |\n",
    "| 9 | `S = '123FirstSecondThirdОЮИ'` | `S = 'ОЮИ123cddeFhiinorrSsTt'` | Есть символы всех видов, выводятся в заданном порядке |"
   ]
  },
  {
   "cell_type": "markdown",
   "metadata": {},
   "source": [
    "## 9. Метод\n",
    "\n",
    "1. Введем строку (ввод с клавиатуры в режиме диалога), создадим две копии исходной строки – S1 и S2.\n",
    "\n",
    "Для каждого из двух методов выполним пункты 2-4:\n",
    "\n",
    "2. Проверим аномалии. Для проверки аномалий напишем функции Prov1 и Prov2 (без и со своей таблицей символов), возвращающие номер аномальной ситуации N.\n",
    "\n",
    "3. В случае корректной строки – отсортируем ее по указанному правилу с помощью процедур Sort1 и Sort2. Сортировать будем «пузырьком», указав ВСЕ случаи, когда два СОСЕДНИХ элемента стоят в НЕправильном порядке.\n",
    "\n",
    "4. Выведем сообщение или отсортированную строку на экран."
   ]
  },
  {
   "cell_type": "markdown",
   "metadata": {},
   "source": [
    "## 10. Основной алгоритм \n",
    "\n",
    "<div style=\"width:500px; height:750px; overflow:auto;\">\n",
    "    <img src=\"Lab1_2_22_1.png\" width=\"500\" height=\"750\"/>\n",
    "</div> "
   ]
  },
  {
   "cell_type": "markdown",
   "metadata": {},
   "source": [
    "## 11. Программный код"
   ]
  },
  {
   "cell_type": "code",
   "execution_count": null,
   "metadata": {},
   "outputs": [],
   "source": [
    "program Lab1;\n",
    "{$AppType CONSOLE}\n",
    " \n",
    "Uses Windows, UnLAB1;\n",
    " \n",
    "var \n",
    "    S,S1,S2: ANSIString;\n",
    "    N: Byte;\n",
    "        \n",
    "begin\n",
    "    // сменим кодовые страницы  для консольного ввода и вывода\n",
    "    setConsoleCP(1251); // для ввода \n",
    "    setConsoleOutputCP(1251); // для вывода \n",
    " \n",
    "    writeln('Введите строку (смените шрифт на Lucida Console)');\n",
    "    readln(S); // ввод \n",
    " \n",
    "    S1:=copy(S,1,length(S)); S2:=copy(S,1,length(S)); // создание копий дин.строки \n",
    "            \n",
    "    // без своей таблицы символов (со сложным условием обмена)\n",
    "    writeln(#13#10, 'Строка до сортировки'#13#10,S1);\n",
    "    N:= Prov1(s1); // проверка\n",
    "    case N of\n",
    "        1: writeln('Пустая строка');\n",
    "        2: writeln('Некорректные символы');\n",
    "        else\n",
    "        begin // сортировка\n",
    "           Sort1(s1);\n",
    "           writeln('Отсортированная строка 1'#13#10,S1);  // вывод строки S1\n",
    "        end; {else}\n",
    "    end; {case}\n",
    "  \n",
    "    // со своей таблицей символов\n",
    "    writeln(#13#10'Строка до сортировки'#13#10,S2);\n",
    "    N:= Prov2(s2); // проверка\n",
    "    case N of\n",
    "        1: writeln('Пустая строка');\n",
    "        2: writeln('Некорректные символы');\n",
    "        else\n",
    "        begin // сортировка\n",
    "           Sort2(s2);\n",
    "           writeln('Отсортированная строка 2'#13#10, S2);  // вывод строки S2\n",
    "        end; {else}\n",
    "    end; {case}\n",
    " \n",
    "    writeln(#13#10'Press ENTER to exit');\n",
    "    readln\n",
    "end."
   ]
  },
  {
   "cell_type": "markdown",
   "metadata": {},
   "source": [
    "## Исходный код модуля"
   ]
  },
  {
   "cell_type": "code",
   "execution_count": null,
   "metadata": {},
   "outputs": [],
   "source": [
    "Unit UnLAB1;      // имя модуля – меняется при сохранении File → Save As…\n",
    "Interface       // раздел описания межмодульного интерфейса\n",
    " \n",
    "Uses     \n",
    "    SysUtils;\n",
    "    \n",
    "Const\n",
    "    SymbTable = 'АаЕеИиОоУуЫыЭэЮюЯяЁё0123456789AaBbCcDdEeFfGgHhIiJjKkLlMmNnOoPpQqRrSsTtUuVvWwXxYyZz';\n",
    "\n",
    "Const\n",
    "    BukvKirVow: set of char = ['А','а','Е','е','И','и','О','о','У','у',\n",
    "                               'Ы','ы','Э','э','Ю','ю','Я','я','Ё','ё'];    \n",
    "    Cifr: set of '0'..'9' = ['0'..'9'];\n",
    "    BukvLat: set of char = ['A'..'z'];\n",
    "\n",
    "Function Prov1(const s: ANSIString): Byte; // проверка без SymbTable\n",
    "Function Prov2(const s: ANSIString): Byte; // проверка с SymbTable\n",
    "Procedure Sort1(var s: ANSIString);  // сортировка без SymbTable\n",
    "Procedure Sort2(var s: ANSIString);  // сортировка с SymbTable\n",
    " \n",
    "Implementation  // раздел реализации и описания закрытых процедур\n",
    "\n",
    "Function Prov1; // проверка без SymbTable\n",
    "Var\n",
    "    N: byte; // номер аномалии\n",
    "    i,Len: word; // текущий символ и длина строки\n",
    "Begin\n",
    "    N:=0; Len:=Length(S);\n",
    "    if Len=0 then N:=1\n",
    "    else\n",
    "    begin\n",
    "        i:=1;\n",
    "        while (i<=Len) and (N=0) do\n",
    "        begin\n",
    "            if not ((S[i] in Cifr) or (S[i] in BukvKirVow) or (S[i] in BukvLat)) then N:=2;\n",
    "            Inc(i);\n",
    "        end;\n",
    "    end;\n",
    "    Prov1:=N; \n",
    "End;\n",
    "\n",
    "Procedure Sort1;  // сортировка без SymbTable\n",
    "Var \n",
    "    i,z,Len: word; // номер текущего символа, номер итерации (шага), длина строки\n",
    "    flag: boolean; // упорядочено? (нет обменов?)\n",
    "    ch: char; // для обмена\n",
    "Begin\n",
    "    z:=1; Len:=length(s);\n",
    "    repeat // пузырёк\n",
    "        flag:=true;\n",
    "        for i:=1 to Len-z do\n",
    "            if ( (s[i] in BukvLat) and ((s[i+1] in BukvKirVow) or (s[i+1] in Cifr)) ) or // латиница «легче» всех\n",
    "               ( (s[i] in Cifr) and (s[i+1] in BukvKirVow) ) or // цифры «легче» кириллицы – всплывает\n",
    "               ( (s[i] in BukvLat) and (s[i+1] in BukvLat) \n",
    "                 and not (LowCase(s[i])=s[i+1]) and (s[i]>s[i+1]) ) \n",
    "            then\n",
    "            begin // обмен\n",
    "                ch:=s[i]; s[i]:=s[i+1]; s[i+1]:=ch; flag:= false;\n",
    "            end;\n",
    "        inc(z);\n",
    "    until flag or (z=Len);\n",
    "End; \n",
    "\n",
    "Function Prov2; // проверка с SymbTable\n",
    "Var\n",
    "    N: byte; // номер аномалии\n",
    "    i,Len: word; // текущий символ и длина строки\n",
    "Begin\n",
    "    N:=0; Len:=Length(S);\n",
    "    if Len=0 then N:=1\n",
    "    else\n",
    "    begin\n",
    "        i:=1;\n",
    "        while (i<=Len) and (N=0) do\n",
    "        begin\n",
    "            if not (Pos(S[i],SymbTable)>0) then N:=2;\n",
    "            Inc(i);\n",
    "        end;\n",
    "    end;\n",
    "    Prov2:=N; \n",
    "End;\n",
    "\n",
    "Procedure Sort2; // сортировка с SymbTable\n",
    "Var \n",
    "    i,z,Len,P1,P2: word; // номер текущего символа, номер итерации (шага), длина строки, позиции текущих символов\n",
    "    flag: boolean; // упорядочено? (нет обменов?)\n",
    "    ch: char; // для обмена\n",
    "Begin\n",
    "    z:=1;  Len:=length(s);\n",
    "    repeat // пузырёк\n",
    "        flag:=true;\n",
    "        for i:=1 to Len-z do\n",
    "            P1:=Pos(s[i],SymbTable); P2:=Pos(s[i+1],SymbTable);\n",
    "            // неправильный порядок по своей «таблице»\n",
    "            if (P1>30 and P2<31) or (P1>20 and P2<21) or (P1>P2 and P1>30 and P2>30)\n",
    "            then\n",
    "            begin // обмен\n",
    "                ch:=s[i]; s[i]:=s[i+1]; s[i+1]:=ch; flag:=false;\n",
    "            end;\n",
    "        inc(z);\n",
    "    until flag or (z=Len);\n",
    "End; \n",
    "\n",
    "End."
   ]
  },
  {
   "cell_type": "markdown",
   "metadata": {},
   "source": [
    "## 12. Алгоритмы процедур\n",
    "### A0.1. Проверка аномалий\n",
    "![](Lab1_2_22_2.png)"
   ]
  },
  {
   "cell_type": "markdown",
   "metadata": {},
   "source": [
    "По сравнению с вариантом образца, изменится только условие $(*)$\n",
    "\n",
    "$ (*) \\equiv \\neg ((S1[i] \\in ['А','а','Е','е','И','и','О','о','У','у','Ы','ы','Э','э','Ю','ю','Я','я','Ё','ё'])  \\land (S1[i] \\in ['0'..'9'] \\land (S1[i] \\in ['A'..'z']))$"
   ]
  },
  {
   "cell_type": "markdown",
   "metadata": {},
   "source": [
    "### А0.2. Сортировка «пузырьком»\n",
    "![](Lab1_2_22_3.png)"
   ]
  },
  {
   "cell_type": "markdown",
   "metadata": {},
   "source": [
    "По сравнению с вариантом образца, изменится только условие $(**)$\n",
    "\n",
    "$ (**) \\equiv  ((S1[i] \\in ['A'..'z']) \\land (S1[i+1] \\in ['А','а','Е','е','И','и','О','о','У','у','Ы','ы','Э','э','Ю','ю','Я','я','Ё','ё'])  \\lor (S1[i+1] \\in ['0'..'9'])) \\lor \\\\ ((S1[i] \\in ['0'..'9']) \\land (S1[i+1] \\in ['А','а','Е','е','И','и','О','о','У','у','Ы','ы','Э','э','Ю','ю','Я','я','Ё','ё'])) \\lor \\\\ ((S1[i] \\in ['A'..'z']) \\land (S1[i+1] \\in ['A'..'z']) \\land \\neg (LowCase(S1[i])=S1[i+1]) \\land (S1[i]>S1[i+1]))$"
   ]
  },
  {
   "cell_type": "markdown",
   "metadata": {},
   "source": [
    "## Контрольные вопросы\n",
    "1.\tКаким образом можно узнать код символа по своей таблице символов, представляющей собой строку?\n",
    "2.\tМожно ли было для сортировки строки со сложным порядком использовать другие два изученные нами в прошлом семестре способа сортировки? Обладают ли они свойством устойчивости, чтобы оставить исходно заданный порядок нужной части?\n",
    "3.\tВ каком порядке в таблице символов Windows расположены заглавные и строчные символы латиницы? Кириллицы? Цифры?\n",
    "4.\tКак поменять регистр символов латиницы в строке, не меняя символы кириллицы? \n",
    "5.\tКак поменять регистр символов латиницы и кириллицы? \n",
    "6.\tКак создать новый модуль? \n",
    "7.\tКак добавить существующий модуль в проект?\n"
   ]
  }
 ],
 "metadata": {
  "kernelspec": {
   "display_name": "SageMath 8.4",
   "language": "",
   "name": "sagemath"
  },
  "language_info": {
   "codemirror_mode": {
    "name": "ipython",
    "version": 2
   },
   "file_extension": ".py",
   "mimetype": "text/x-python",
   "name": "python",
   "nbconvert_exporter": "python",
   "pygments_lexer": "ipython2",
   "version": "2.7.15"
  }
 },
 "nbformat": 4,
 "nbformat_minor": 2
}
