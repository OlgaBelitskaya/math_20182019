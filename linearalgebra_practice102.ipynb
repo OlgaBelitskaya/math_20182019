{
 "cells": [
  {
   "cell_type": "code",
   "execution_count": 1,
   "metadata": {},
   "outputs": [
    {
     "data": {
      "text/html": [
       "<style>\n",
       "@import url('https://fonts.googleapis.com/css?family=Roboto&effect=3d|brick-sign|');\n",
       "span {font-family:Roboto; color:black; text-shadow:4px 4px 4px #aaa;}  \n",
       "h1,h2 {font-family:Roboto; color:slategray; text-shadow:4px 4px 4px #aaa;} \n",
       "div.output_subarea, div.output_area pre{font-family:Roboto; font_size:120%; color:darkblue;}\n",
       "</style> "
      ],
      "text/plain": [
       "<IPython.core.display.HTML object>"
      ]
     },
     "metadata": {},
     "output_type": "display_data"
    }
   ],
   "source": [
    "%%html\n",
    "<style>\n",
    "@import url('https://fonts.googleapis.com/css?family=Roboto&effect=3d|brick-sign|');\n",
    "span {font-family:Roboto; color:black; text-shadow:4px 4px 4px #aaa;}  \n",
    "h1,h2 {font-family:Roboto; color:slategray; text-shadow:4px 4px 4px #aaa;} \n",
    "div.output_subarea, div.output_area pre{font-family:Roboto; font_size:120%; color:darkblue;}\n",
    "</style> "
   ]
  },
  {
   "cell_type": "code",
   "execution_count": 2,
   "metadata": {},
   "outputs": [],
   "source": [
    "import sympy\n",
    "sympy.init_printing(use_unicode=True)\n",
    "import numpy"
   ]
  },
  {
   "cell_type": "code",
   "execution_count": 3,
   "metadata": {},
   "outputs": [],
   "source": [
    "def minor(m,i,j):\n",
    "    return [row[:j] + row[j+1:] for row in (m[:i] + m[i+1:])]\n",
    "\n",
    "def deternminant(m):\n",
    "    if len(m) == 2:\n",
    "        return m[0][0] * m[1][1] - m[0][1] * m[1][0]\n",
    "\n",
    "    det = 0\n",
    "    for c in range(len(m)):\n",
    "        det += ((-1) ** c) * m[0][c] * deternminant(minor(m,0,c))\n",
    "    return det"
   ]
  },
  {
   "cell_type": "markdown",
   "metadata": {},
   "source": [
    "# Задачи / Problems"
   ]
  },
  {
   "cell_type": "markdown",
   "metadata": {},
   "source": [
    "Матрица знаков для определителя 3-ого порядка / The matrix of signs for the determinant of the 3d order"
   ]
  },
  {
   "cell_type": "code",
   "execution_count": 4,
   "metadata": {},
   "outputs": [
    {
     "data": {
      "text/latex": [
       "$ \n",
       "SIGN_{(3,3)} = \n",
       " \\begin{pmatrix}\n",
       "+ & - & +  \\\\\n",
       "- & + & - \\\\\n",
       "+ & - & +  \\\\\n",
       " \\end{pmatrix}\n",
       "$"
      ],
      "text/plain": [
       "<IPython.core.display.Latex object>"
      ]
     },
     "metadata": {},
     "output_type": "display_data"
    }
   ],
   "source": [
    "%%latex\n",
    "$ \n",
    "SIGN_{(3,3)} = \n",
    " \\begin{pmatrix}\n",
    "+ & - & +  \\\\\n",
    "- & + & - \\\\\n",
    "+ & - & +  \\\\\n",
    " \\end{pmatrix}\n",
    "$"
   ]
  },
  {
   "cell_type": "markdown",
   "metadata": {},
   "source": [
    "Матрица знаков для определителя 4-ого порядка / The matrix of signs for the determinant of the 4th order"
   ]
  },
  {
   "cell_type": "code",
   "execution_count": 5,
   "metadata": {},
   "outputs": [
    {
     "data": {
      "text/latex": [
       "$ \n",
       "SIGN_{(4,4)} = \n",
       " \\begin{pmatrix}\n",
       "+ & - & + & - \\\\\n",
       "- & + & - & + \\\\\n",
       "+ & - & + & - \\\\\n",
       "- & + & - & +\n",
       " \\end{pmatrix}\n",
       "$"
      ],
      "text/plain": [
       "<IPython.core.display.Latex object>"
      ]
     },
     "metadata": {},
     "output_type": "display_data"
    }
   ],
   "source": [
    "%%latex\n",
    "$ \n",
    "SIGN_{(4,4)} = \n",
    " \\begin{pmatrix}\n",
    "+ & - & + & - \\\\\n",
    "- & + & - & + \\\\\n",
    "+ & - & + & - \\\\\n",
    "- & + & - & +\n",
    " \\end{pmatrix}\n",
    "$"
   ]
  },
  {
   "cell_type": "markdown",
   "metadata": {},
   "source": [
    "Пример расчета определителя 4-ого порядка по первому столбцу / Example for calculating the 4th order determinant by the first column"
   ]
  },
  {
   "cell_type": "code",
   "execution_count": 6,
   "metadata": {},
   "outputs": [
    {
     "data": {
      "text/latex": [
       "$\n",
       "A_{(4,4)} = \n",
       " \\begin{pmatrix}\n",
       "a_{11} & a_{12}& a_{13} & a_{14} \\\\\n",
       "a_{21} & a_{22}& a_{23} & a_{24} \\\\\n",
       "a_{31} & a_{32}& a_{33} & a_{34} \\\\\n",
       "a_{41} & a_{42}& a_{43} & a_{44} \n",
       " \\end{pmatrix} \\\\\n",
       "\\Delta = \\\\\n",
       "+ \\ a_{11} * (a_{22} * a_{33} * a_{44}  + a_{23} * a_{34} * a_{42}  + a_{32} * a_{43} * a_{24}  \\\\\n",
       "\\ \\ \\  \\ \\ \\ \\ \\ \\ \\ \\ - a_{42} * a_{33} * a_{24} - a_{32} * a_{23} * a_{44} - a_{43} * a_{34} * a_{22}) \\\\\n",
       "- \\ a_{21} * (a_{12} * a_{33} * a_{44}  + a_{13} * a_{34} * a_{42}  + a_{32} * a_{43} * a_{14}  \\\\\n",
       "\\ \\ \\  \\ \\ \\ \\ \\ \\ \\ \\ - a_{42} * a_{33} * a_{14} - a_{32} * a_{13} * a_{44} - a_{43} * a_{34} * a_{12}) \\\\\n",
       "+ \\ a_{31} *  (a_{12} * a_{23} * a_{44}  + a_{13} * a_{24} * a_{42}  + a_{22} * a_{43} * a_{14}  \\\\\n",
       "\\ \\ \\  \\ \\ \\ \\ \\ \\ \\ \\ - a_{42} * a_{23} * a_{14} - a_{22} * a_{13} * a_{44} - a_{43} * a_{24}* a_{12}) \\\\\n",
       "- \\ a_{41} * (a_{12} * a_{23} * a_{34}  + a_{13} * a_{24} * a_{32}  + a_{22} * a_{33} * a_{14}  \\\\\n",
       "\\ \\ \\  \\ \\ \\ \\ \\ \\ \\ \\ - a_{32} * a_{23} * a_{14} - a_{22} * a_{13} * a_{34} - a_{33} * a_{24}* a_{12})\n",
       "$"
      ],
      "text/plain": [
       "<IPython.core.display.Latex object>"
      ]
     },
     "metadata": {},
     "output_type": "display_data"
    }
   ],
   "source": [
    "%%latex\n",
    "$\n",
    "A_{(4,4)} = \n",
    " \\begin{pmatrix}\n",
    "a_{11} & a_{12}& a_{13} & a_{14} \\\\\n",
    "a_{21} & a_{22}& a_{23} & a_{24} \\\\\n",
    "a_{31} & a_{32}& a_{33} & a_{34} \\\\\n",
    "a_{41} & a_{42}& a_{43} & a_{44} \n",
    " \\end{pmatrix} \\\\\n",
    "\\Delta = \\\\\n",
    "+ \\ a_{11} * (a_{22} * a_{33} * a_{44}  + a_{23} * a_{34} * a_{42}  + a_{32} * a_{43} * a_{24}  \\\\\n",
    "\\ \\ \\  \\ \\ \\ \\ \\ \\ \\ \\ - a_{42} * a_{33} * a_{24} - a_{32} * a_{23} * a_{44} - a_{43} * a_{34} * a_{22}) \\\\\n",
    "- \\ a_{21} * (a_{12} * a_{33} * a_{44}  + a_{13} * a_{34} * a_{42}  + a_{32} * a_{43} * a_{14}  \\\\\n",
    "\\ \\ \\  \\ \\ \\ \\ \\ \\ \\ \\ - a_{42} * a_{33} * a_{14} - a_{32} * a_{13} * a_{44} - a_{43} * a_{34} * a_{12}) \\\\\n",
    "+ \\ a_{31} *  (a_{12} * a_{23} * a_{44}  + a_{13} * a_{24} * a_{42}  + a_{22} * a_{43} * a_{14}  \\\\\n",
    "\\ \\ \\  \\ \\ \\ \\ \\ \\ \\ \\ - a_{42} * a_{23} * a_{14} - a_{22} * a_{13} * a_{44} - a_{43} * a_{24}* a_{12}) \\\\\n",
    "- \\ a_{41} * (a_{12} * a_{23} * a_{34}  + a_{13} * a_{24} * a_{32}  + a_{22} * a_{33} * a_{14}  \\\\\n",
    "\\ \\ \\  \\ \\ \\ \\ \\ \\ \\ \\ - a_{32} * a_{23} * a_{14} - a_{22} * a_{13} * a_{34} - a_{33} * a_{24}* a_{12})\n",
    "$"
   ]
  },
  {
   "cell_type": "markdown",
   "metadata": {},
   "source": [
    "## Иллюстрированные примеры вычисления определителей: /\n",
    "## Illustrated examples of calculating determinants:\n",
    "[Определитель 4-ого порядка](https://www.quora.com/How-do-I-find-the-determinant-of-6x6-matrix-using-C-Programming)\n",
    "![](math_images/la102_01.png)\n",
    "[Определитель 3-его порядка](http://www.sharetechnote.com/html/Handbook_EngMath_Matrix_Determinent.html)\n",
    "![№1](math_images/la102_02.png) ![№2](math_images/la102_03.png)"
   ]
  },
  {
   "cell_type": "markdown",
   "metadata": {},
   "source": [
    "[Проскуряков И.В. Сборник задач по линейной алгебре](http://elibrary.sgu.ru/uch_lit/560.pdf)"
   ]
  },
  {
   "cell_type": "code",
   "execution_count": 7,
   "metadata": {},
   "outputs": [
    {
     "data": {
      "image/png": "[encoded data removed]",
      "text/latex": [
       "$$\\left ( \\left[\\begin{matrix}0 & 1 & 1 & 1\\\\1 & 0 & 1 & 1\\\\1 & 1 & 0 & 1\\\\1 & 1 & 1 & 0\\end{matrix}\\right], \\quad -3\\right )$$"
      ],
      "text/plain": [
       "⎛⎡0  1  1  1⎤    ⎞\n",
       "⎜⎢          ⎥    ⎟\n",
       "⎜⎢1  0  1  1⎥    ⎟\n",
       "⎜⎢          ⎥, -3⎟\n",
       "⎜⎢1  1  0  1⎥    ⎟\n",
       "⎜⎢          ⎥    ⎟\n",
       "⎝⎣1  1  1  0⎦    ⎠"
      ]
     },
     "execution_count": 7,
     "metadata": {},
     "output_type": "execute_result"
    }
   ],
   "source": [
    "# 258\n",
    "A258 = sympy.Matrix([[0,1,1,1], [1,0,1,1],[1,1,0,1],[1,1,1,0]])\n",
    "A258, A258.det()"
   ]
  },
  {
   "cell_type": "code",
   "execution_count": 8,
   "metadata": {},
   "outputs": [
    {
     "data": {
      "image/png": "[encoded data removed]",
      "text/latex": [
       "$$\\left ( \\left[\\begin{matrix}0 & 1 & 1 & 1\\\\1 & -1 & 0 & 0\\\\1 & 0 & -1 & 0\\\\1 & 0 & 0 & -1\\end{matrix}\\right], \\quad -3\\right )$$"
      ],
      "text/plain": [
       "⎛⎡0  1   1   1 ⎤    ⎞\n",
       "⎜⎢             ⎥    ⎟\n",
       "⎜⎢1  -1  0   0 ⎥    ⎟\n",
       "⎜⎢             ⎥, -3⎟\n",
       "⎜⎢1  0   -1  0 ⎥    ⎟\n",
       "⎜⎢             ⎥    ⎟\n",
       "⎝⎣1  0   0   -1⎦    ⎠"
      ]
     },
     "execution_count": 8,
     "metadata": {},
     "output_type": "execute_result"
    }
   ],
   "source": [
    "# Пример устного расчета\n",
    "# Из 2,3,4  столбца вычтем 1-ый\n",
    "A258 = sympy.Matrix([[0,1,1,1], [1,-1,0,0],[1,0,-1,0],[1,0,0,-1]])\n",
    "A258, A258.det()"
   ]
  },
  {
   "cell_type": "code",
   "execution_count": 9,
   "metadata": {},
   "outputs": [
    {
     "data": {
      "image/png": "[encoded data removed]",
      "text/latex": [
       "$$\\left ( \\left[\\begin{matrix}1 & -1 & 0\\\\1 & 0 & -1\\\\1 & 0 & 0\\end{matrix}\\right], \\quad \\left[\\begin{matrix}0 & 1 & 1\\\\1 & -1 & 0\\\\1 & 0 & -1\\end{matrix}\\right], \\quad -3\\right )$$"
      ],
      "text/plain": [
       "⎛⎡1  -1  0 ⎤  ⎡0  1   1 ⎤    ⎞\n",
       "⎜⎢         ⎥  ⎢         ⎥    ⎟\n",
       "⎜⎢1  0   -1⎥, ⎢1  -1  0 ⎥, -3⎟\n",
       "⎜⎢         ⎥  ⎢         ⎥    ⎟\n",
       "⎝⎣1  0   0 ⎦  ⎣1  0   -1⎦    ⎠"
      ]
     },
     "execution_count": 9,
     "metadata": {},
     "output_type": "execute_result"
    }
   ],
   "source": [
    "# Разложим по 4-му столбцу\n",
    "A258_1 = sympy.Matrix([[1,-1,0],[1,0,-1],[1,0,0]])\n",
    "A258_2 = sympy.Matrix([[0,1,1],[1,-1,0],[1,0,-1]])\n",
    "A258_1, A258_2, - 1 * A258_1.det() + (-1) * A258_2.det()"
   ]
  },
  {
   "cell_type": "code",
   "execution_count": 10,
   "metadata": {},
   "outputs": [
    {
     "data": {
      "image/png": "[encoded data removed]",
      "text/latex": [
       "$$\\left ( \\left[\\begin{matrix}-1 & 0\\\\0 & -1\\end{matrix}\\right], \\quad \\left[\\begin{matrix}1 & 0\\\\1 & -1\\end{matrix}\\right], \\quad \\left[\\begin{matrix}1 & -1\\\\1 & 0\\end{matrix}\\right], \\quad -3\\right )$$"
      ],
      "text/plain": [
       "⎛⎡-1  0 ⎤  ⎡1  0 ⎤  ⎡1  -1⎤    ⎞\n",
       "⎜⎢      ⎥, ⎢     ⎥, ⎢     ⎥, -3⎟\n",
       "⎝⎣0   -1⎦  ⎣1  -1⎦  ⎣1  0 ⎦    ⎠"
      ]
     },
     "execution_count": 10,
     "metadata": {},
     "output_type": "execute_result"
    }
   ],
   "source": [
    "# Разложим A258_1, A258_2 по последней строке\n",
    "A258_11 = sympy.Matrix([[-1,0],[0,-1]])\n",
    "A258_21= sympy.Matrix([[1,0],[1,-1]])\n",
    "A258_22= sympy.Matrix([[1,-1],[1,0]])\n",
    "A258_11, A258_21, A258_22, -1 * (1 * A258_11.det() - 1 * A258_21.det() + 1 * A258_22.det())"
   ]
  },
  {
   "cell_type": "code",
   "execution_count": 11,
   "metadata": {},
   "outputs": [
    {
     "data": {
      "image/png": "[encoded data removed]",
      "text/latex": [
       "$$-3$$"
      ],
      "text/plain": [
       "-3"
      ]
     },
     "execution_count": 11,
     "metadata": {},
     "output_type": "execute_result"
    }
   ],
   "source": [
    "-1 * (1 * (-1 * (-1) - 0 * 0) - 1 * (1 * (-1) - 1 * 0) + 1 * (1 * 0 - 1 *  (-1)))"
   ]
  },
  {
   "cell_type": "code",
   "execution_count": 12,
   "metadata": {},
   "outputs": [
    {
     "data": {
      "image/png": "[encoded data removed]",
      "text/latex": [
       "$$-3$$"
      ],
      "text/plain": [
       "-3"
      ]
     },
     "execution_count": 12,
     "metadata": {},
     "output_type": "execute_result"
    }
   ],
   "source": [
    "deternminant([[0,1,1,1], [1,0,1,1],[1,1,0,1],[1,1,1,0]])"
   ]
  },
  {
   "cell_type": "code",
   "execution_count": 13,
   "metadata": {},
   "outputs": [
    {
     "data": {
      "image/png": "[encoded data removed]",
      "text/latex": [
       "$$\\left ( \\left[\\begin{matrix}2 & -5 & 1 & 2\\\\-3 & 7 & -1 & 4\\\\5 & -9 & 2 & 7\\\\4 & -6 & 1 & 2\\end{matrix}\\right], \\quad -9\\right )$$"
      ],
      "text/plain": [
       "⎛⎡2   -5  1   2⎤    ⎞\n",
       "⎜⎢             ⎥    ⎟\n",
       "⎜⎢-3  7   -1  4⎥    ⎟\n",
       "⎜⎢             ⎥, -9⎟\n",
       "⎜⎢5   -9  2   7⎥    ⎟\n",
       "⎜⎢             ⎥    ⎟\n",
       "⎝⎣4   -6  1   2⎦    ⎠"
      ]
     },
     "execution_count": 13,
     "metadata": {},
     "output_type": "execute_result"
    }
   ],
   "source": [
    "# 259\n",
    "A259 = sympy.Matrix([[2,-5,1,2], [-3,7,-1,4],[5,-9,2,7],[4,-6,1,2]])\n",
    "A259, A259.det()"
   ]
  },
  {
   "cell_type": "code",
   "execution_count": 14,
   "metadata": {},
   "outputs": [
    {
     "data": {
      "image/png": "[encoded data removed]",
      "text/latex": [
       "$$\\left ( \\left[\\begin{matrix}-2 & 1 & 0 & 0\\\\1 & 1 & 0 & 6\\\\-3 & 3 & 0 & 3\\\\4 & -6 & 1 & 2\\end{matrix}\\right], \\quad -9\\right )$$"
      ],
      "text/plain": [
       "⎛⎡-2  1   0  0⎤    ⎞\n",
       "⎜⎢            ⎥    ⎟\n",
       "⎜⎢1   1   0  6⎥    ⎟\n",
       "⎜⎢            ⎥, -9⎟\n",
       "⎜⎢-3  3   0  3⎥    ⎟\n",
       "⎜⎢            ⎥    ⎟\n",
       "⎝⎣4   -6  1  2⎦    ⎠"
      ]
     },
     "execution_count": 14,
     "metadata": {},
     "output_type": "execute_result"
    }
   ],
   "source": [
    "# Пример устного расчета\n",
    "# Из 1 строки вычтем 4-ую\n",
    "# Ко 2 строке прибавим 4-ую\n",
    "# Из 3 строки вычтем 4-ую * 2\n",
    "A259 = sympy.Matrix([[-2,1,0,0], [1,1,0,6],[-3,3,0,3],[4,-6,1,2]])\n",
    "A259, A259.det()"
   ]
  },
  {
   "cell_type": "code",
   "execution_count": 15,
   "metadata": {},
   "outputs": [
    {
     "data": {
      "image/png": "[encoded data removed]",
      "text/latex": [
       "$$\\left ( \\left[\\begin{matrix}-2 & 1 & 0\\\\1 & 1 & 6\\\\-3 & 3 & 3\\end{matrix}\\right], \\quad -9\\right )$$"
      ],
      "text/plain": [
       "⎛⎡-2  1  0⎤    ⎞\n",
       "⎜⎢        ⎥    ⎟\n",
       "⎜⎢1   1  6⎥, -9⎟\n",
       "⎜⎢        ⎥    ⎟\n",
       "⎝⎣-3  3  3⎦    ⎠"
      ]
     },
     "execution_count": 15,
     "metadata": {},
     "output_type": "execute_result"
    }
   ],
   "source": [
    "# Разложим по 3-му столбцу\n",
    "A259_1 = sympy.Matrix([[-2,1,0],[1,1,6],[-3,3,3]])\n",
    "A259_1 , - 1 * A259_1.det()"
   ]
  },
  {
   "cell_type": "code",
   "execution_count": 16,
   "metadata": {},
   "outputs": [
    {
     "data": {
      "image/png": "[encoded data removed]",
      "text/latex": [
       "$$\\left ( \\left[\\begin{matrix}-2 & 1 & 0\\\\7 & -5 & 0\\\\-3 & 3 & 3\\end{matrix}\\right], \\quad -9\\right )$$"
      ],
      "text/plain": [
       "⎛⎡-2  1   0⎤    ⎞\n",
       "⎜⎢         ⎥    ⎟\n",
       "⎜⎢7   -5  0⎥, -9⎟\n",
       "⎜⎢         ⎥    ⎟\n",
       "⎝⎣-3  3   3⎦    ⎠"
      ]
     },
     "execution_count": 16,
     "metadata": {},
     "output_type": "execute_result"
    }
   ],
   "source": [
    "# Из 2 строки вычтем 3-ую * 2\n",
    "A259_1 = sympy.Matrix([[-2,1,0],[7,-5,0],[-3,3,3]])\n",
    "A259_1 , - 1 * A259_1.det()"
   ]
  },
  {
   "cell_type": "code",
   "execution_count": 17,
   "metadata": {},
   "outputs": [
    {
     "data": {
      "image/png": "[encoded data removed]",
      "text/latex": [
       "$$\\left ( \\left[\\begin{matrix}-2 & 1\\\\7 & -5\\end{matrix}\\right], \\quad -9\\right )$$"
      ],
      "text/plain": [
       "⎛⎡-2  1 ⎤    ⎞\n",
       "⎜⎢      ⎥, -9⎟\n",
       "⎝⎣7   -5⎦    ⎠"
      ]
     },
     "execution_count": 17,
     "metadata": {},
     "output_type": "execute_result"
    }
   ],
   "source": [
    "A259_11 = sympy.Matrix([[-2,1],[7,-5]])\n",
    "A259_11, -1 * 3 * A259_11.det()"
   ]
  },
  {
   "cell_type": "code",
   "execution_count": 18,
   "metadata": {},
   "outputs": [
    {
     "data": {
      "image/png": "[encoded data removed]",
      "text/latex": [
       "$$-9$$"
      ],
      "text/plain": [
       "-9"
      ]
     },
     "execution_count": 18,
     "metadata": {},
     "output_type": "execute_result"
    }
   ],
   "source": [
    " -1 * 3 * (-2 * (-5) - 1 * 7)"
   ]
  },
  {
   "cell_type": "code",
   "execution_count": 19,
   "metadata": {},
   "outputs": [
    {
     "data": {
      "image/png": "[encoded data removed]",
      "text/latex": [
       "$$-9$$"
      ],
      "text/plain": [
       "-9"
      ]
     },
     "execution_count": 19,
     "metadata": {},
     "output_type": "execute_result"
    }
   ],
   "source": [
    "deternminant([[2,-5,1,2], [-3,7,-1,4],[5,-9,2,7],[4,-6,1,2]])"
   ]
  },
  {
   "cell_type": "code",
   "execution_count": 20,
   "metadata": {},
   "outputs": [
    {
     "data": {
      "image/png": "[encoded data removed]",
      "text/latex": [
       "$$\\left ( \\left[\\begin{matrix}-3 & 9 & 3 & 6\\\\-5 & 8 & 2 & 7\\\\4 & -5 & -3 & -2\\\\7 & -8 & -4 & -5\\end{matrix}\\right], \\quad 18\\right )$$"
      ],
      "text/plain": [
       "⎛⎡-3  9   3   6 ⎤    ⎞\n",
       "⎜⎢              ⎥    ⎟\n",
       "⎜⎢-5  8   2   7 ⎥    ⎟\n",
       "⎜⎢              ⎥, 18⎟\n",
       "⎜⎢4   -5  -3  -2⎥    ⎟\n",
       "⎜⎢              ⎥    ⎟\n",
       "⎝⎣7   -8  -4  -5⎦    ⎠"
      ]
     },
     "execution_count": 20,
     "metadata": {},
     "output_type": "execute_result"
    }
   ],
   "source": [
    "# 260\n",
    "A260 = sympy.Matrix([[-3,9,3,6], [-5,8,2,7],[4,-5,-3,-2],[7,-8,-4,-5]])\n",
    "A260, A260.det()"
   ]
  },
  {
   "cell_type": "code",
   "execution_count": 21,
   "metadata": {},
   "outputs": [
    {
     "data": {
      "image/png": "[encoded data removed]",
      "text/latex": [
       "$$\\left ( \\left[\\begin{matrix}-3 & 0 & 0 & 0\\\\-5 & -7 & -3 & -3\\\\4 & 7 & 1 & 6\\\\7 & 13 & 3 & 9\\end{matrix}\\right], \\quad 18\\right )$$"
      ],
      "text/plain": [
       "⎛⎡-3  0   0   0 ⎤    ⎞\n",
       "⎜⎢              ⎥    ⎟\n",
       "⎜⎢-5  -7  -3  -3⎥    ⎟\n",
       "⎜⎢              ⎥, 18⎟\n",
       "⎜⎢4   7   1   6 ⎥    ⎟\n",
       "⎜⎢              ⎥    ⎟\n",
       "⎝⎣7   13  3   9 ⎦    ⎠"
      ]
     },
     "execution_count": 21,
     "metadata": {},
     "output_type": "execute_result"
    }
   ],
   "source": [
    "# Ко 2 столбцу прибавим 1-ый  * 3\n",
    "# К 3 столбцу прибавим 1-ый \n",
    "# К 4 столбцу прибавим 1-ый  * 2\n",
    "A260 = sympy.Matrix([[-3,0,0,0], [-5,-7,-3,-3],[4,7,1,6],[7,13,3,9]])\n",
    "A260, A260.det()"
   ]
  },
  {
   "cell_type": "code",
   "execution_count": 22,
   "metadata": {},
   "outputs": [
    {
     "data": {
      "image/png": "[encoded data removed]",
      "text/latex": [
       "$$\\left ( \\left[\\begin{matrix}-7 & -3 & -3\\\\7 & 1 & 6\\\\13 & 3 & 9\\end{matrix}\\right], \\quad 18\\right )$$"
      ],
      "text/plain": [
       "⎛⎡-7  -3  -3⎤    ⎞\n",
       "⎜⎢          ⎥    ⎟\n",
       "⎜⎢7   1   6 ⎥, 18⎟\n",
       "⎜⎢          ⎥    ⎟\n",
       "⎝⎣13  3   9 ⎦    ⎠"
      ]
     },
     "execution_count": 22,
     "metadata": {},
     "output_type": "execute_result"
    }
   ],
   "source": [
    "# Разложим по 1-ой строке\n",
    "A260_1 = sympy.Matrix([[-7,-3,-3],[7,1,6],[13,3,9]])\n",
    "A260_1, -3 * A260_1.det()"
   ]
  },
  {
   "cell_type": "code",
   "execution_count": 23,
   "metadata": {},
   "outputs": [
    {
     "data": {
      "image/png": "[encoded data removed]",
      "text/latex": [
       "$$\\left ( \\left[\\begin{matrix}-7 & -3 & -3\\\\-7 & -5 & 0\\\\-8 & -6 & 0\\end{matrix}\\right], \\quad 18\\right )$$"
      ],
      "text/plain": [
       "⎛⎡-7  -3  -3⎤    ⎞\n",
       "⎜⎢          ⎥    ⎟\n",
       "⎜⎢-7  -5  0 ⎥, 18⎟\n",
       "⎜⎢          ⎥    ⎟\n",
       "⎝⎣-8  -6  0 ⎦    ⎠"
      ]
     },
     "execution_count": 23,
     "metadata": {},
     "output_type": "execute_result"
    }
   ],
   "source": [
    "# Ко 2 строке прибавим 1-ую * 2\n",
    "#  К 3 строке прибавим 1-ую * 3\n",
    "A260_1 = sympy.Matrix([[-7,-3,-3],[-7,-5,0],[-8,-6,0]])\n",
    "A260_1, -3 * A260_1.det()"
   ]
  },
  {
   "cell_type": "code",
   "execution_count": 24,
   "metadata": {},
   "outputs": [
    {
     "data": {
      "image/png": "[encoded data removed]",
      "text/latex": [
       "$$\\left ( \\left[\\begin{matrix}-7 & -5\\\\-8 & -6\\end{matrix}\\right], \\quad 18\\right )$$"
      ],
      "text/plain": [
       "⎛⎡-7  -5⎤    ⎞\n",
       "⎜⎢      ⎥, 18⎟\n",
       "⎝⎣-8  -6⎦    ⎠"
      ]
     },
     "execution_count": 24,
     "metadata": {},
     "output_type": "execute_result"
    }
   ],
   "source": [
    "# Разложим по 3-му столбцу\n",
    "A260_11 = sympy.Matrix([[-7,-5],[-8,-6]])\n",
    "A260_11, -3 * (-3) * A260_11.det()"
   ]
  },
  {
   "cell_type": "code",
   "execution_count": 25,
   "metadata": {},
   "outputs": [
    {
     "data": {
      "image/png": "[encoded data removed]",
      "text/latex": [
       "$$18$$"
      ],
      "text/plain": [
       "18"
      ]
     },
     "execution_count": 25,
     "metadata": {},
     "output_type": "execute_result"
    }
   ],
   "source": [
    "-3 * (-3) * (-7 * (-6) - (-5) * (-8))"
   ]
  },
  {
   "cell_type": "code",
   "execution_count": 26,
   "metadata": {},
   "outputs": [
    {
     "data": {
      "image/png": "[encoded data removed]",
      "text/latex": [
       "$$18$$"
      ],
      "text/plain": [
       "18"
      ]
     },
     "execution_count": 26,
     "metadata": {},
     "output_type": "execute_result"
    }
   ],
   "source": [
    "deternminant([[-3,9,3,6],[-5,8,2,7],[4,-5,-3,-2],[7,-8,-4,-5]])"
   ]
  },
  {
   "cell_type": "code",
   "execution_count": 27,
   "metadata": {},
   "outputs": [
    {
     "data": {
      "image/png": "[encoded data removed]",
      "text/latex": [
       "$$\\left ( \\left[\\begin{matrix}3 & -3 & -5 & 8\\\\-3 & 2 & 4 & -6\\\\2 & -5 & -7 & 5\\\\-4 & 3 & 5 & -6\\end{matrix}\\right], \\quad 18\\right )$$"
      ],
      "text/plain": [
       "⎛⎡3   -3  -5  8 ⎤    ⎞\n",
       "⎜⎢              ⎥    ⎟\n",
       "⎜⎢-3  2   4   -6⎥    ⎟\n",
       "⎜⎢              ⎥, 18⎟\n",
       "⎜⎢2   -5  -7  5 ⎥    ⎟\n",
       "⎜⎢              ⎥    ⎟\n",
       "⎝⎣-4  3   5   -6⎦    ⎠"
      ]
     },
     "execution_count": 27,
     "metadata": {},
     "output_type": "execute_result"
    }
   ],
   "source": [
    "# 261\n",
    "A261 = sympy.Matrix([[3,-3,-5,8],[-3,2,4,-6],[2,-5,-7,5],[-4,3,5,-6]])\n",
    "A261, A261.det()"
   ]
  },
  {
   "cell_type": "code",
   "execution_count": 28,
   "metadata": {},
   "outputs": [
    {
     "data": {
      "image/png": "[encoded data removed]",
      "text/latex": [
       "$$\\left ( \\left[\\begin{matrix}3 & -3 & -5 & 8\\\\0 & -1 & -1 & 2\\\\-1 & -2 & -2 & -3\\\\-1 & 0 & 0 & 2\\end{matrix}\\right], \\quad 18\\right )$$"
      ],
      "text/plain": [
       "⎛⎡3   -3  -5  8 ⎤    ⎞\n",
       "⎜⎢              ⎥    ⎟\n",
       "⎜⎢0   -1  -1  2 ⎥    ⎟\n",
       "⎜⎢              ⎥, 18⎟\n",
       "⎜⎢-1  -2  -2  -3⎥    ⎟\n",
       "⎜⎢              ⎥    ⎟\n",
       "⎝⎣-1  0   0   2 ⎦    ⎠"
      ]
     },
     "execution_count": 28,
     "metadata": {},
     "output_type": "execute_result"
    }
   ],
   "source": [
    "# Прибавим ко 2 строке 1-ую\n",
    "# Вычтем из 3 строки 1-ую\n",
    "# Прибавим к 4 строке 1-ую\n",
    "A261 = sympy.Matrix([[3,-3,-5,8],[0,-1,-1,2],[-1,-2,-2,-3],[-1,0,0,2]])\n",
    "A261, A261.det()"
   ]
  },
  {
   "cell_type": "code",
   "execution_count": 29,
   "metadata": {},
   "outputs": [
    {
     "data": {
      "image/png": "[encoded data removed]",
      "text/latex": [
       "$$\\left ( \\left[\\begin{matrix}3 & -3 & -5 & 14\\\\0 & -1 & -1 & 2\\\\-1 & -2 & -2 & -5\\\\-1 & 0 & 0 & 0\\end{matrix}\\right], \\quad 18\\right )$$"
      ],
      "text/plain": [
       "⎛⎡3   -3  -5  14⎤    ⎞\n",
       "⎜⎢              ⎥    ⎟\n",
       "⎜⎢0   -1  -1  2 ⎥    ⎟\n",
       "⎜⎢              ⎥, 18⎟\n",
       "⎜⎢-1  -2  -2  -5⎥    ⎟\n",
       "⎜⎢              ⎥    ⎟\n",
       "⎝⎣-1  0   0   0 ⎦    ⎠"
      ]
     },
     "execution_count": 29,
     "metadata": {},
     "output_type": "execute_result"
    }
   ],
   "source": [
    "# Прибавим к 4 столбцу 1-ый * 2\n",
    "A261 = sympy.Matrix([[3,-3,-5,14],[0,-1,-1,2],[-1,-2,-2,-5],[-1,0,0,0]])\n",
    "A261, A261.det()"
   ]
  },
  {
   "cell_type": "code",
   "execution_count": 30,
   "metadata": {},
   "outputs": [
    {
     "data": {
      "image/png": "[encoded data removed]",
      "text/latex": [
       "$$\\left ( \\left[\\begin{matrix}-3 & -5 & 14\\\\-1 & -1 & 2\\\\-2 & -2 & -5\\end{matrix}\\right], \\quad 18\\right )$$"
      ],
      "text/plain": [
       "⎛⎡-3  -5  14⎤    ⎞\n",
       "⎜⎢          ⎥    ⎟\n",
       "⎜⎢-1  -1  2 ⎥, 18⎟\n",
       "⎜⎢          ⎥    ⎟\n",
       "⎝⎣-2  -2  -5⎦    ⎠"
      ]
     },
     "execution_count": 30,
     "metadata": {},
     "output_type": "execute_result"
    }
   ],
   "source": [
    "# Разложим по 4-ой строке\n",
    "A261_1 = sympy.Matrix([[-3,-5,14],[-1,-1,2],[-2,-2,-5]])\n",
    "A261_1, - (-1) * A261_1.det()"
   ]
  },
  {
   "cell_type": "code",
   "execution_count": 31,
   "metadata": {},
   "outputs": [
    {
     "data": {
      "image/png": "[encoded data removed]",
      "text/latex": [
       "$$\\left ( \\left[\\begin{matrix}0 & -2 & 8\\\\-1 & -1 & 2\\\\0 & 0 & -9\\end{matrix}\\right], \\quad 18\\right )$$"
      ],
      "text/plain": [
       "⎛⎡0   -2  8 ⎤    ⎞\n",
       "⎜⎢          ⎥    ⎟\n",
       "⎜⎢-1  -1  2 ⎥, 18⎟\n",
       "⎜⎢          ⎥    ⎟\n",
       "⎝⎣0   0   -9⎦    ⎠"
      ]
     },
     "execution_count": 31,
     "metadata": {},
     "output_type": "execute_result"
    }
   ],
   "source": [
    "# Вычтем из 1 строке  2-ую * 3\n",
    "# Вычтем из 3 строки 2-ую * 2\n",
    "A261_1 = sympy.Matrix([[0,-2,8],[-1,-1,2],[0,0,-9]])\n",
    "A261_1, - (-1) * A261_1.det()"
   ]
  },
  {
   "cell_type": "code",
   "execution_count": 32,
   "metadata": {},
   "outputs": [
    {
     "data": {
      "image/png": "[encoded data removed]",
      "text/latex": [
       "$$\\left ( \\left[\\begin{matrix}0 & -2\\\\-1 & -1\\end{matrix}\\right], \\quad 18\\right )$$"
      ],
      "text/plain": [
       "⎛⎡0   -2⎤    ⎞\n",
       "⎜⎢      ⎥, 18⎟\n",
       "⎝⎣-1  -1⎦    ⎠"
      ]
     },
     "execution_count": 32,
     "metadata": {},
     "output_type": "execute_result"
    }
   ],
   "source": [
    "# Разложим по 3-й строке\n",
    "A261_11 = sympy.Matrix([[0,-2],[-1,-1]])\n",
    "A261_11, - (-1) * (-9) * A261_11.det()"
   ]
  },
  {
   "cell_type": "code",
   "execution_count": 33,
   "metadata": {},
   "outputs": [
    {
     "data": {
      "image/png": "[encoded data removed]",
      "text/latex": [
       "$$18$$"
      ],
      "text/plain": [
       "18"
      ]
     },
     "execution_count": 33,
     "metadata": {},
     "output_type": "execute_result"
    }
   ],
   "source": [
    "- (-1) * (-9) * (0 * (-1) - (-1) * (-2))"
   ]
  },
  {
   "cell_type": "code",
   "execution_count": 34,
   "metadata": {},
   "outputs": [
    {
     "data": {
      "image/png": "[encoded data removed]",
      "text/latex": [
       "$$18$$"
      ],
      "text/plain": [
       "18"
      ]
     },
     "execution_count": 34,
     "metadata": {},
     "output_type": "execute_result"
    }
   ],
   "source": [
    "deternminant([[3,-3,-5,8],[-3,2,4,-6],[2,-5,-7,5],[-4,3,5,-6]])"
   ]
  },
  {
   "cell_type": "code",
   "execution_count": 35,
   "metadata": {},
   "outputs": [
    {
     "data": {
      "image/png": "[encoded data removed]",
      "text/latex": [
       "$$\\left ( \\left[\\begin{matrix}2 & -5 & 4 & 3\\\\3 & -4 & 7 & 5\\\\4 & -9 & 8 & 5\\\\-3 & 2 & -5 & 3\\end{matrix}\\right], \\quad 4\\right )$$"
      ],
      "text/plain": [
       "⎛⎡2   -5  4   3⎤   ⎞\n",
       "⎜⎢             ⎥   ⎟\n",
       "⎜⎢3   -4  7   5⎥   ⎟\n",
       "⎜⎢             ⎥, 4⎟\n",
       "⎜⎢4   -9  8   5⎥   ⎟\n",
       "⎜⎢             ⎥   ⎟\n",
       "⎝⎣-3  2   -5  3⎦   ⎠"
      ]
     },
     "execution_count": 35,
     "metadata": {},
     "output_type": "execute_result"
    }
   ],
   "source": [
    "# 262\n",
    "A262 = sympy.Matrix([[2,-5,4,3],[3,-4,7,5],[4,-9,8,5],[-3,2,-5,3]])\n",
    "A262, A262.det()"
   ]
  },
  {
   "cell_type": "code",
   "execution_count": 36,
   "metadata": {},
   "outputs": [
    {
     "data": {
      "image/png": "[encoded data removed]",
      "text/latex": [
       "$$\\left ( \\left[\\begin{matrix}2 & -5 & 4 & 3\\\\3 & -4 & 7 & 5\\\\1 & -5 & 1 & 0\\\\-5 & 7 & -9 & 0\\end{matrix}\\right], \\quad 4\\right )$$"
      ],
      "text/plain": [
       "⎛⎡2   -5  4   3⎤   ⎞\n",
       "⎜⎢             ⎥   ⎟\n",
       "⎜⎢3   -4  7   5⎥   ⎟\n",
       "⎜⎢             ⎥, 4⎟\n",
       "⎜⎢1   -5  1   0⎥   ⎟\n",
       "⎜⎢             ⎥   ⎟\n",
       "⎝⎣-5  7   -9  0⎦   ⎠"
      ]
     },
     "execution_count": 36,
     "metadata": {},
     "output_type": "execute_result"
    }
   ],
   "source": [
    "# Вычтем из 4 строке  1-ую \n",
    "# Вычтем из 3 строки 2-ую \n",
    "A262 = sympy.Matrix([[2,-5,4,3],[3,-4,7,5],[1,-5,1,0],[-5,7,-9,0]])\n",
    "A262, A262.det()"
   ]
  },
  {
   "cell_type": "code",
   "execution_count": 37,
   "metadata": {},
   "outputs": [
    {
     "data": {
      "image/png": "[encoded data removed]",
      "text/latex": [
       "$$\\left ( \\left[\\begin{matrix}2 & -5 & 4 & 3\\\\9 & -12 & 21 & 15\\\\1 & -5 & 1 & 0\\\\-5 & 7 & -9 & 0\\end{matrix}\\right], \\quad 4\\right )$$"
      ],
      "text/plain": [
       "⎛⎡2   -5   4   3 ⎤   ⎞\n",
       "⎜⎢               ⎥   ⎟\n",
       "⎜⎢9   -12  21  15⎥   ⎟\n",
       "⎜⎢               ⎥, 4⎟\n",
       "⎜⎢1   -5   1   0 ⎥   ⎟\n",
       "⎜⎢               ⎥   ⎟\n",
       "⎝⎣-5   7   -9  0 ⎦   ⎠"
      ]
     },
     "execution_count": 37,
     "metadata": {},
     "output_type": "execute_result"
    }
   ],
   "source": [
    "# Умножим 2 строку на 3\n",
    "A262 = sympy.Matrix([[2,-5,4,3],[9,-12,21,15],[1,-5,1,0],[-5,7,-9,0]])\n",
    "A262, A262.det()/3"
   ]
  },
  {
   "cell_type": "code",
   "execution_count": 38,
   "metadata": {},
   "outputs": [
    {
     "data": {
      "image/png": "[encoded data removed]",
      "text/latex": [
       "$$\\left ( \\left[\\begin{matrix}2 & -5 & 4 & 3\\\\-1 & 13 & 1 & 0\\\\1 & -5 & 1 & 0\\\\-5 & 7 & -9 & 0\\end{matrix}\\right], \\quad 4\\right )$$"
      ],
      "text/plain": [
       "⎛⎡2   -5  4   3⎤   ⎞\n",
       "⎜⎢             ⎥   ⎟\n",
       "⎜⎢-1  13  1   0⎥   ⎟\n",
       "⎜⎢             ⎥, 4⎟\n",
       "⎜⎢1   -5  1   0⎥   ⎟\n",
       "⎜⎢             ⎥   ⎟\n",
       "⎝⎣-5  7   -9  0⎦   ⎠"
      ]
     },
     "execution_count": 38,
     "metadata": {},
     "output_type": "execute_result"
    }
   ],
   "source": [
    "# Вычтем из 2 строки 1-ую * 5\n",
    "A262 = sympy.Matrix([[2,-5,4,3],[-1,13,1,0],[1,-5,1,0],[-5,7,-9,0]])\n",
    "A262, A262.det()/3"
   ]
  },
  {
   "cell_type": "code",
   "execution_count": 39,
   "metadata": {},
   "outputs": [
    {
     "data": {
      "image/png": "[encoded data removed]",
      "text/latex": [
       "$$\\left ( \\left[\\begin{matrix}-1 & 13 & 1\\\\1 & -5 & 1\\\\-5 & 7 & -9\\end{matrix}\\right], \\quad 4\\right )$$"
      ],
      "text/plain": [
       "⎛⎡-1  13  1 ⎤   ⎞\n",
       "⎜⎢          ⎥   ⎟\n",
       "⎜⎢1   -5  1 ⎥, 4⎟\n",
       "⎜⎢          ⎥   ⎟\n",
       "⎝⎣-5  7   -9⎦   ⎠"
      ]
     },
     "execution_count": 39,
     "metadata": {},
     "output_type": "execute_result"
    }
   ],
   "source": [
    "# Разложим по 4-му столбцу\n",
    "A262_1 = sympy.Matrix([[-1,13,1],[1,-5,1],[-5,7,-9]])\n",
    "A262_1, int( -3 * A262_1.det()/3)"
   ]
  },
  {
   "cell_type": "code",
   "execution_count": 40,
   "metadata": {},
   "outputs": [
    {
     "data": {
      "image/png": "[encoded data removed]",
      "text/latex": [
       "$$\\left ( \\left[\\begin{matrix}0 & 8 & 2\\\\1 & -5 & 1\\\\0 & -18 & -4\\end{matrix}\\right], \\quad 4\\right )$$"
      ],
      "text/plain": [
       "⎛⎡0   8   2 ⎤   ⎞\n",
       "⎜⎢          ⎥   ⎟\n",
       "⎜⎢1  -5   1 ⎥, 4⎟\n",
       "⎜⎢          ⎥   ⎟\n",
       "⎝⎣0  -18  -4⎦   ⎠"
      ]
     },
     "execution_count": 40,
     "metadata": {},
     "output_type": "execute_result"
    }
   ],
   "source": [
    "# Прибавим к 1 строке  2-ую \n",
    "# Прибавим к 3 строке  2-ую * 5\n",
    "A262_1 = sympy.Matrix([[0,8,2],[1,-5,1],[0,-18,-4]])\n",
    "A262_1, int( -3 * A262_1.det()/3)"
   ]
  },
  {
   "cell_type": "code",
   "execution_count": 41,
   "metadata": {},
   "outputs": [
    {
     "data": {
      "image/png": "[encoded data removed]",
      "text/latex": [
       "$$\\left ( \\left[\\begin{matrix}8 & 2\\\\-18 & -4\\end{matrix}\\right], \\quad 4\\right )$$"
      ],
      "text/plain": [
       "⎛⎡ 8   2 ⎤   ⎞\n",
       "⎜⎢       ⎥, 4⎟\n",
       "⎝⎣-18  -4⎦   ⎠"
      ]
     },
     "execution_count": 41,
     "metadata": {},
     "output_type": "execute_result"
    }
   ],
   "source": [
    "# Разложим по 2-й строке\n",
    "A262_11 = sympy.Matrix([[8,2],[-18,-4]])\n",
    "A262_11, int( -1 * (-3 * A262_11.det()/3))"
   ]
  },
  {
   "cell_type": "code",
   "execution_count": 42,
   "metadata": {},
   "outputs": [
    {
     "data": {
      "image/png": "[encoded data removed]",
      "text/latex": [
       "$$4$$"
      ],
      "text/plain": [
       "4"
      ]
     },
     "execution_count": 42,
     "metadata": {},
     "output_type": "execute_result"
    }
   ],
   "source": [
    "int( -1 * (-3 * (8 * (-4) - 2 * (-18))/3))"
   ]
  },
  {
   "cell_type": "code",
   "execution_count": 43,
   "metadata": {},
   "outputs": [
    {
     "data": {
      "image/png": "[encoded data removed]",
      "text/latex": [
       "$$4$$"
      ],
      "text/plain": [
       "4"
      ]
     },
     "execution_count": 43,
     "metadata": {},
     "output_type": "execute_result"
    }
   ],
   "source": [
    "deternminant([[2,-5,4,3],[3,-4,7,5],[4,-9,8,5],[-3,2,-5,3]])"
   ]
  },
  {
   "cell_type": "code",
   "execution_count": 44,
   "metadata": {},
   "outputs": [
    {
     "data": {
      "image/png": "[encoded data removed]",
      "text/latex": [
       "$$\\left ( \\left[\\begin{matrix}3 & -3 & -2 & -5\\\\2 & 5 & 4 & 6\\\\5 & 5 & 8 & 7\\\\4 & 4 & 5 & 6\\end{matrix}\\right], \\quad 90\\right )$$"
      ],
      "text/plain": [
       "⎛⎡3  -3  -2  -5⎤    ⎞\n",
       "⎜⎢             ⎥    ⎟\n",
       "⎜⎢2  5   4   6 ⎥    ⎟\n",
       "⎜⎢             ⎥, 90⎟\n",
       "⎜⎢5  5   8   7 ⎥    ⎟\n",
       "⎜⎢             ⎥    ⎟\n",
       "⎝⎣4  4   5   6 ⎦    ⎠"
      ]
     },
     "execution_count": 44,
     "metadata": {},
     "output_type": "execute_result"
    }
   ],
   "source": [
    "# 263\n",
    "A263 = sympy.Matrix([[3,-3,-2,-5], [2,5,4,6],[5,5,8,7],[4,4,5,6]])\n",
    "A263, A263.det()"
   ]
  },
  {
   "cell_type": "code",
   "execution_count": 45,
   "metadata": {},
   "outputs": [
    {
     "data": {
      "image/png": "[encoded data removed]",
      "text/latex": [
       "$$\\left ( \\left[\\begin{matrix}3 & -6 & -2 & -3\\\\2 & 3 & 4 & 2\\\\5 & 0 & 8 & -1\\\\4 & 0 & 5 & 1\\end{matrix}\\right], \\quad 90\\right )$$"
      ],
      "text/plain": [
       "⎛⎡3  -6  -2  -3⎤    ⎞\n",
       "⎜⎢             ⎥    ⎟\n",
       "⎜⎢2  3   4   2 ⎥    ⎟\n",
       "⎜⎢             ⎥, 90⎟\n",
       "⎜⎢5  0   8   -1⎥    ⎟\n",
       "⎜⎢             ⎥    ⎟\n",
       "⎝⎣4  0   5   1 ⎦    ⎠"
      ]
     },
     "execution_count": 45,
     "metadata": {},
     "output_type": "execute_result"
    }
   ],
   "source": [
    "# Вычтем из 2 столбца 1-ый\n",
    "# Вычтем из 4 столбца 3-й\n",
    "A263 = sympy.Matrix([[3,-6,-2,-3], [2,3,4,2],[5,0,8,-1],[4,0,5,1]])\n",
    "A263, A263.det()"
   ]
  },
  {
   "cell_type": "code",
   "execution_count": 46,
   "metadata": {},
   "outputs": [
    {
     "data": {
      "image/png": "[encoded data removed]",
      "text/latex": [
       "$$\\left ( \\left[\\begin{matrix}7 & 0 & 6 & 1\\\\2 & 3 & 4 & 2\\\\5 & 0 & 8 & -1\\\\4 & 0 & 5 & 1\\end{matrix}\\right], \\quad 90\\right )$$"
      ],
      "text/plain": [
       "⎛⎡7  0  6  1 ⎤    ⎞\n",
       "⎜⎢           ⎥    ⎟\n",
       "⎜⎢2  3  4  2 ⎥    ⎟\n",
       "⎜⎢           ⎥, 90⎟\n",
       "⎜⎢5  0  8  -1⎥    ⎟\n",
       "⎜⎢           ⎥    ⎟\n",
       "⎝⎣4  0  5  1 ⎦    ⎠"
      ]
     },
     "execution_count": 46,
     "metadata": {},
     "output_type": "execute_result"
    }
   ],
   "source": [
    "# Умножим 2 строку на 2 и прибавим к 1-ой\n",
    "A263 = sympy.Matrix([[7,0,6,1], [2,3,4,2],[5,0,8,-1],[4,0,5,1]])\n",
    "A263, A263.det()"
   ]
  },
  {
   "cell_type": "code",
   "execution_count": 47,
   "metadata": {},
   "outputs": [
    {
     "data": {
      "image/png": "[encoded data removed]",
      "text/latex": [
       "$$\\left ( \\left[\\begin{matrix}7 & 6 & 1\\\\5 & 8 & -1\\\\4 & 5 & 1\\end{matrix}\\right], \\quad 90\\right )$$"
      ],
      "text/plain": [
       "⎛⎡7  6  1 ⎤    ⎞\n",
       "⎜⎢        ⎥    ⎟\n",
       "⎜⎢5  8  -1⎥, 90⎟\n",
       "⎜⎢        ⎥    ⎟\n",
       "⎝⎣4  5  1 ⎦    ⎠"
      ]
     },
     "execution_count": 47,
     "metadata": {},
     "output_type": "execute_result"
    }
   ],
   "source": [
    "# Разложим по 2 столбцу\n",
    "A263_1 = sympy.Matrix([[7,6,1],[5,8,-1],[4,5,1]])\n",
    "A263_1, 3 * A263_1.det()"
   ]
  },
  {
   "cell_type": "code",
   "execution_count": 48,
   "metadata": {},
   "outputs": [
    {
     "data": {
      "image/png": "[encoded data removed]",
      "text/latex": [
       "$$\\left ( \\left[\\begin{matrix}12 & 14 & 0\\\\5 & 8 & -1\\\\9 & 13 & 0\\end{matrix}\\right], \\quad 90\\right )$$"
      ],
      "text/plain": [
       "⎛⎡12  14  0 ⎤    ⎞\n",
       "⎜⎢          ⎥    ⎟\n",
       "⎜⎢5   8   -1⎥, 90⎟\n",
       "⎜⎢          ⎥    ⎟\n",
       "⎝⎣9   13  0 ⎦    ⎠"
      ]
     },
     "execution_count": 48,
     "metadata": {},
     "output_type": "execute_result"
    }
   ],
   "source": [
    "# К 1 и 3 строке прибавим 2-ую\n",
    "A263_1 = sympy.Matrix([[12,14,0],[5,8,-1],[9,13,0]])\n",
    "A263_1, 3 * A263_1.det()"
   ]
  },
  {
   "cell_type": "code",
   "execution_count": 49,
   "metadata": {},
   "outputs": [
    {
     "data": {
      "image/png": "[encoded data removed]",
      "text/latex": [
       "$$\\left ( \\left[\\begin{matrix}12 & 14\\\\9 & 13\\end{matrix}\\right], \\quad 90\\right )$$"
      ],
      "text/plain": [
       "⎛⎡12  14⎤    ⎞\n",
       "⎜⎢      ⎥, 90⎟\n",
       "⎝⎣9   13⎦    ⎠"
      ]
     },
     "execution_count": 49,
     "metadata": {},
     "output_type": "execute_result"
    }
   ],
   "source": [
    "# Разложим по 3 столбцу\n",
    "A263_11 = sympy.Matrix([[12,14],[9,13]])\n",
    "A263_11, 3 * (-(-1)) * A263_11.det()"
   ]
  },
  {
   "cell_type": "code",
   "execution_count": 50,
   "metadata": {},
   "outputs": [
    {
     "data": {
      "image/png": "[encoded data removed]",
      "text/latex": [
       "$$90$$"
      ],
      "text/plain": [
       "90"
      ]
     },
     "execution_count": 50,
     "metadata": {},
     "output_type": "execute_result"
    }
   ],
   "source": [
    " 3 * (-(-1)) * (12 * 13 - 9 * 14)"
   ]
  },
  {
   "cell_type": "code",
   "execution_count": 51,
   "metadata": {},
   "outputs": [
    {
     "data": {
      "image/png": "[encoded data removed]",
      "text/latex": [
       "$$90$$"
      ],
      "text/plain": [
       "90"
      ]
     },
     "execution_count": 51,
     "metadata": {},
     "output_type": "execute_result"
    }
   ],
   "source": [
    "deternminant([[3,-3,-2,-5],[2,5,4,6],[5,5,8,7],[4,4,5,6]])"
   ]
  },
  {
   "cell_type": "code",
   "execution_count": 52,
   "metadata": {},
   "outputs": [
    {
     "data": {
      "image/png": "[encoded data removed]",
      "text/latex": [
       "$$\\left ( \\left[\\begin{matrix}3 & -5 & -2 & 2\\\\-4 & 7 & 4 & 4\\\\4 & -9 & -3 & 7\\\\2 & -6 & -3 & 2\\end{matrix}\\right], \\quad 27\\right )$$"
      ],
      "text/plain": [
       "⎛⎡3   -5  -2  2⎤    ⎞\n",
       "⎜⎢             ⎥    ⎟\n",
       "⎜⎢-4  7   4   4⎥    ⎟\n",
       "⎜⎢             ⎥, 27⎟\n",
       "⎜⎢4   -9  -3  7⎥    ⎟\n",
       "⎜⎢             ⎥    ⎟\n",
       "⎝⎣2   -6  -3  2⎦    ⎠"
      ]
     },
     "execution_count": 52,
     "metadata": {},
     "output_type": "execute_result"
    }
   ],
   "source": [
    "# 264\n",
    "A264 = sympy.Matrix([[3,-5,-2,2],[-4,7,4,4],[4,-9,-3,7],[2,-6,-3,2]])\n",
    "A264, A264.det()"
   ]
  },
  {
   "cell_type": "code",
   "execution_count": 53,
   "metadata": {},
   "outputs": [
    {
     "data": {
      "image/png": "[encoded data removed]",
      "text/latex": [
       "$$\\left ( \\left[\\begin{matrix}1 & 1 & 1 & 0\\\\0 & -5 & -2 & 8\\\\0 & 3 & 3 & 3\\\\2 & -6 & -3 & 2\\end{matrix}\\right], \\quad 27\\right )$$"
      ],
      "text/plain": [
       "⎛⎡1  1   1   0⎤    ⎞\n",
       "⎜⎢            ⎥    ⎟\n",
       "⎜⎢0  -5  -2  8⎥    ⎟\n",
       "⎜⎢            ⎥, 27⎟\n",
       "⎜⎢0  3   3   3⎥    ⎟\n",
       "⎜⎢            ⎥    ⎟\n",
       "⎝⎣2  -6  -3  2⎦    ⎠"
      ]
     },
     "execution_count": 53,
     "metadata": {},
     "output_type": "execute_result"
    }
   ],
   "source": [
    "# Из 1 строки вычтем 4-ую\n",
    "#  Ко 2 строке прибавим 4-ую * 2\n",
    "# Из 3 строки вычтем 4-ую * 2\n",
    "A264 = sympy.Matrix([[1,1,1,0],[0,-5,-2,8],[0,3,3,3],[2,-6,-3,2]])\n",
    "A264, A264.det()"
   ]
  },
  {
   "cell_type": "code",
   "execution_count": 54,
   "metadata": {},
   "outputs": [
    {
     "data": {
      "image/png": "[encoded data removed]",
      "text/latex": [
       "$$\\left ( \\left[\\begin{matrix}1 & 1 & 1 & 0\\\\0 & -5 & -2 & 8\\\\0 & 3 & 3 & 3\\\\0 & -8 & -5 & 2\\end{matrix}\\right], \\quad 27\\right )$$"
      ],
      "text/plain": [
       "⎛⎡1  1   1   0⎤    ⎞\n",
       "⎜⎢            ⎥    ⎟\n",
       "⎜⎢0  -5  -2  8⎥    ⎟\n",
       "⎜⎢            ⎥, 27⎟\n",
       "⎜⎢0  3   3   3⎥    ⎟\n",
       "⎜⎢            ⎥    ⎟\n",
       "⎝⎣0  -8  -5  2⎦    ⎠"
      ]
     },
     "execution_count": 54,
     "metadata": {},
     "output_type": "execute_result"
    }
   ],
   "source": [
    "# Из 4 строки вычтем 1-ую * 2\n",
    "A264 = sympy.Matrix([[1,1,1,0],[0,-5,-2,8],[0,3,3,3],[0,-8,-5,2]])\n",
    "A264, A264.det()"
   ]
  },
  {
   "cell_type": "code",
   "execution_count": 55,
   "metadata": {},
   "outputs": [
    {
     "data": {
      "image/png": "[encoded data removed]",
      "text/latex": [
       "$$\\left ( \\left[\\begin{matrix}-5 & -2 & 8\\\\3 & 3 & 3\\\\-8 & -5 & 2\\end{matrix}\\right], \\quad 27\\right )$$"
      ],
      "text/plain": [
       "⎛⎡-5  -2  8⎤    ⎞\n",
       "⎜⎢         ⎥    ⎟\n",
       "⎜⎢3   3   3⎥, 27⎟\n",
       "⎜⎢         ⎥    ⎟\n",
       "⎝⎣-8  -5  2⎦    ⎠"
      ]
     },
     "execution_count": 55,
     "metadata": {},
     "output_type": "execute_result"
    }
   ],
   "source": [
    "# Разложим по 1 столбцу\n",
    "A264_1 = sympy.Matrix([[-5,-2,8],[3,3,3],[-8,-5,2]])\n",
    "A264_1, 1 * A264_1.det()"
   ]
  },
  {
   "cell_type": "code",
   "execution_count": 56,
   "metadata": {},
   "outputs": [
    {
     "data": {
      "image/png": "[encoded data removed]",
      "text/latex": [
       "$$\\left ( \\left[\\begin{matrix}-5 & 3 & 13\\\\3 & 0 & 0\\\\-8 & 3 & 10\\end{matrix}\\right], \\quad 27\\right )$$"
      ],
      "text/plain": [
       "⎛⎡-5  3  13⎤    ⎞\n",
       "⎜⎢         ⎥    ⎟\n",
       "⎜⎢3   0  0 ⎥, 27⎟\n",
       "⎜⎢         ⎥    ⎟\n",
       "⎝⎣-8  3  10⎦    ⎠"
      ]
     },
     "execution_count": 56,
     "metadata": {},
     "output_type": "execute_result"
    }
   ],
   "source": [
    "# Из 2 и 3 столбцов вычтем 1-ый\n",
    "A264_1 = sympy.Matrix([[-5,3,13],[3,0,0],[-8,3,10]])\n",
    "A264_1, 1 * A264_1.det()"
   ]
  },
  {
   "cell_type": "code",
   "execution_count": 57,
   "metadata": {},
   "outputs": [
    {
     "data": {
      "image/png": "[encoded data removed]",
      "text/latex": [
       "$$\\left ( \\left[\\begin{matrix}3 & 13\\\\3 & 10\\end{matrix}\\right], \\quad 27\\right )$$"
      ],
      "text/plain": [
       "⎛⎡3  13⎤    ⎞\n",
       "⎜⎢     ⎥, 27⎟\n",
       "⎝⎣3  10⎦    ⎠"
      ]
     },
     "execution_count": 57,
     "metadata": {},
     "output_type": "execute_result"
    }
   ],
   "source": [
    "# Разложим по 3 строке\n",
    "A264_1 = sympy.Matrix([[3,13],[3,10]])\n",
    "A264_1, 1 * (-3) * A264_1.det()"
   ]
  },
  {
   "cell_type": "code",
   "execution_count": 58,
   "metadata": {},
   "outputs": [
    {
     "data": {
      "image/png": "[encoded data removed]",
      "text/latex": [
       "$$27$$"
      ],
      "text/plain": [
       "27"
      ]
     },
     "execution_count": 58,
     "metadata": {},
     "output_type": "execute_result"
    }
   ],
   "source": [
    "1 * (-3) * (3 * 10 - 3 * 13)"
   ]
  },
  {
   "cell_type": "code",
   "execution_count": 59,
   "metadata": {},
   "outputs": [
    {
     "data": {
      "image/png": "[encoded data removed]",
      "text/latex": [
       "$$27$$"
      ],
      "text/plain": [
       "27"
      ]
     },
     "execution_count": 59,
     "metadata": {},
     "output_type": "execute_result"
    }
   ],
   "source": [
    "deternminant([[3,-5,-2,2], [-4,7,4,4],[4,-9,-3,7],[2,-6,-3,2]])"
   ]
  },
  {
   "cell_type": "code",
   "execution_count": 60,
   "metadata": {},
   "outputs": [
    {
     "data": {
      "image/png": "[encoded data removed]",
      "text/latex": [
       "$$\\left ( \\left[\\begin{matrix}3 & -5 & 2 & -4\\\\-3 & 4 & -5 & 3\\\\-5 & 7 & -7 & 5\\\\8 & -8 & 5 & -6\\end{matrix}\\right], \\quad 17\\right )$$"
      ],
      "text/plain": [
       "⎛⎡3   -5  2   -4⎤    ⎞\n",
       "⎜⎢              ⎥    ⎟\n",
       "⎜⎢-3  4   -5  3 ⎥    ⎟\n",
       "⎜⎢              ⎥, 17⎟\n",
       "⎜⎢-5  7   -7  5 ⎥    ⎟\n",
       "⎜⎢              ⎥    ⎟\n",
       "⎝⎣8   -8  5   -6⎦    ⎠"
      ]
     },
     "execution_count": 60,
     "metadata": {},
     "output_type": "execute_result"
    }
   ],
   "source": [
    "# 265\n",
    "A265 = sympy.Matrix([[3,-5,2,-4],[-3,4,-5,3],[-5,7,-7,5],[8,-8,5,-6]])\n",
    "A265, A265.det()"
   ]
  },
  {
   "cell_type": "code",
   "execution_count": 61,
   "metadata": {},
   "outputs": [
    {
     "data": {
      "image/png": "[encoded data removed]",
      "text/latex": [
       "$$\\left ( \\left[\\begin{matrix}3 & -5 & -3 & -1\\\\-3 & 4 & -1 & 0\\\\-5 & 7 & 0 & 0\\\\8 & -8 & -3 & 2\\end{matrix}\\right], \\quad 17\\right )$$"
      ],
      "text/plain": [
       "⎛⎡3   -5  -3  -1⎤    ⎞\n",
       "⎜⎢              ⎥    ⎟\n",
       "⎜⎢-3  4   -1  0 ⎥    ⎟\n",
       "⎜⎢              ⎥, 17⎟\n",
       "⎜⎢-5  7   0   0 ⎥    ⎟\n",
       "⎜⎢              ⎥    ⎟\n",
       "⎝⎣8   -8  -3  2 ⎦    ⎠"
      ]
     },
     "execution_count": 61,
     "metadata": {},
     "output_type": "execute_result"
    }
   ],
   "source": [
    "# К 3 столбцу прибавим 2-й\n",
    "# К 4 столбцу прибавим 1-й\n",
    "A265 = sympy.Matrix([[3,-5,-3,-1],[-3,4,-1,0],[-5,7,0,0],[8,-8,-3,2]])\n",
    "A265, A265.det()"
   ]
  },
  {
   "cell_type": "code",
   "execution_count": 62,
   "metadata": {},
   "outputs": [
    {
     "data": {
      "image/png": "[encoded data removed]",
      "text/latex": [
       "$$\\left ( \\left[\\begin{matrix}3 & -5 & -3 & -1\\\\-3 & 4 & -1 & 0\\\\-5 & 7 & 0 & 0\\\\14 & -18 & -9 & 0\\end{matrix}\\right], \\quad 17\\right )$$"
      ],
      "text/plain": [
       "⎛⎡3   -5   -3  -1⎤    ⎞\n",
       "⎜⎢               ⎥    ⎟\n",
       "⎜⎢-3   4   -1  0 ⎥    ⎟\n",
       "⎜⎢               ⎥, 17⎟\n",
       "⎜⎢-5   7   0   0 ⎥    ⎟\n",
       "⎜⎢               ⎥    ⎟\n",
       "⎝⎣14  -18  -9  0 ⎦    ⎠"
      ]
     },
     "execution_count": 62,
     "metadata": {},
     "output_type": "execute_result"
    }
   ],
   "source": [
    "# К 4 строке прибавим 1-ую * 2\n",
    "A265 = sympy.Matrix([[3,-5,-3,-1],[-3,4,-1,0],[-5,7,0,0],[14,-18,-9,0]])\n",
    "A265, A265.det()"
   ]
  },
  {
   "cell_type": "code",
   "execution_count": 63,
   "metadata": {},
   "outputs": [
    {
     "data": {
      "image/png": "[encoded data removed]",
      "text/latex": [
       "$$\\left ( \\left[\\begin{matrix}-3 & 4 & -1\\\\-5 & 7 & 0\\\\14 & -18 & -9\\end{matrix}\\right], \\quad 17\\right )$$"
      ],
      "text/plain": [
       "⎛⎡-3   4   -1⎤    ⎞\n",
       "⎜⎢           ⎥    ⎟\n",
       "⎜⎢-5   7   0 ⎥, 17⎟\n",
       "⎜⎢           ⎥    ⎟\n",
       "⎝⎣14  -18  -9⎦    ⎠"
      ]
     },
     "execution_count": 63,
     "metadata": {},
     "output_type": "execute_result"
    }
   ],
   "source": [
    "# Разложим по 4 столбцу\n",
    "A265_1 = sympy.Matrix([[-3,4,-1],[-5,7,0],[14,-18,-9]])\n",
    "A265_1, -(-1) * A265_1.det()"
   ]
  },
  {
   "cell_type": "code",
   "execution_count": 64,
   "metadata": {},
   "outputs": [
    {
     "data": {
      "image/png": "[encoded data removed]",
      "text/latex": [
       "$$\\left ( \\left[\\begin{matrix}-3 & 4 & -1\\\\-5 & 7 & 0\\\\41 & -54 & 0\\end{matrix}\\right], \\quad 17\\right )$$"
      ],
      "text/plain": [
       "⎛⎡-3   4   -1⎤    ⎞\n",
       "⎜⎢           ⎥    ⎟\n",
       "⎜⎢-5   7   0 ⎥, 17⎟\n",
       "⎜⎢           ⎥    ⎟\n",
       "⎝⎣41  -54  0 ⎦    ⎠"
      ]
     },
     "execution_count": 64,
     "metadata": {},
     "output_type": "execute_result"
    }
   ],
   "source": [
    "# Вычтем из 3 строки 1-ую * 9\n",
    "A265_1 = sympy.Matrix([[-3,4,-1],[-5,7,0],[41,-54,0]])\n",
    "A265_1, -(-1) * A265_1.det()"
   ]
  },
  {
   "cell_type": "code",
   "execution_count": 65,
   "metadata": {},
   "outputs": [
    {
     "data": {
      "image/png": "[encoded data removed]",
      "text/latex": [
       "$$\\left ( \\left[\\begin{matrix}-5 & 7\\\\41 & -54\\end{matrix}\\right], \\quad 17\\right )$$"
      ],
      "text/plain": [
       "⎛⎡-5   7 ⎤    ⎞\n",
       "⎜⎢       ⎥, 17⎟\n",
       "⎝⎣41  -54⎦    ⎠"
      ]
     },
     "execution_count": 65,
     "metadata": {},
     "output_type": "execute_result"
    }
   ],
   "source": [
    "# Разложим по 3 столбцу\n",
    "A265_11 = sympy.Matrix([[-5,7],[41,-54]])\n",
    "A265_11, -(-1) * (-1) * A265_11.det()"
   ]
  },
  {
   "cell_type": "code",
   "execution_count": 66,
   "metadata": {},
   "outputs": [
    {
     "data": {
      "image/png": "[encoded data removed]",
      "text/latex": [
       "$$17$$"
      ],
      "text/plain": [
       "17"
      ]
     },
     "execution_count": 66,
     "metadata": {},
     "output_type": "execute_result"
    }
   ],
   "source": [
    " -(-1) * (-1) * (-5 * (-54) - 7 * 41)"
   ]
  },
  {
   "cell_type": "code",
   "execution_count": 67,
   "metadata": {},
   "outputs": [
    {
     "data": {
      "image/png": "[encoded data removed]",
      "text/latex": [
       "$$17$$"
      ],
      "text/plain": [
       "17"
      ]
     },
     "execution_count": 67,
     "metadata": {},
     "output_type": "execute_result"
    }
   ],
   "source": [
    "deternminant([[3,-5,2,-4],[-3,4,-5,3],[-5,7,-7,5],[8,-8,5,-6]])"
   ]
  },
  {
   "cell_type": "code",
   "execution_count": 68,
   "metadata": {},
   "outputs": [
    {
     "data": {
      "image/png": "[encoded data removed]",
      "text/latex": [
       "$$\\left ( \\left[\\begin{matrix}3 & 2 & 2 & 2\\\\9 & -8 & 5 & 10\\\\5 & -8 & 5 & 8\\\\6 & -5 & 4 & 7\\end{matrix}\\right], \\quad -6\\right )$$"
      ],
      "text/plain": [
       "⎛⎡3  2   2  2 ⎤    ⎞\n",
       "⎜⎢            ⎥    ⎟\n",
       "⎜⎢9  -8  5  10⎥    ⎟\n",
       "⎜⎢            ⎥, -6⎟\n",
       "⎜⎢5  -8  5  8 ⎥    ⎟\n",
       "⎜⎢            ⎥    ⎟\n",
       "⎝⎣6  -5  4  7 ⎦    ⎠"
      ]
     },
     "execution_count": 68,
     "metadata": {},
     "output_type": "execute_result"
    }
   ],
   "source": [
    "# 266\n",
    "A266 = sympy.Matrix([[3,2,2,2],[9,-8,5,10],[5,-8,5,8],[6,-5,4,7]])\n",
    "A266, A266.det()"
   ]
  },
  {
   "cell_type": "code",
   "execution_count": 69,
   "metadata": {},
   "outputs": [
    {
     "data": {
      "image/png": "[encoded data removed]",
      "text/latex": [
       "$$\\left ( \\left[\\begin{matrix}3 & 2 & 2 & 2\\\\4 & 0 & 0 & 2\\\\5 & -8 & 5 & 8\\\\6 & -5 & 4 & 7\\end{matrix}\\right], \\quad -6\\right )$$"
      ],
      "text/plain": [
       "⎛⎡3  2   2  2⎤    ⎞\n",
       "⎜⎢           ⎥    ⎟\n",
       "⎜⎢4  0   0  2⎥    ⎟\n",
       "⎜⎢           ⎥, -6⎟\n",
       "⎜⎢5  -8  5  8⎥    ⎟\n",
       "⎜⎢           ⎥    ⎟\n",
       "⎝⎣6  -5  4  7⎦    ⎠"
      ]
     },
     "execution_count": 69,
     "metadata": {},
     "output_type": "execute_result"
    }
   ],
   "source": [
    "# Вычтем из 2 строки 3-ю\n",
    "A266 = sympy.Matrix([[3,2,2,2],[4,0,0,2],[5,-8,5,8],[6,-5,4,7]])\n",
    "A266, A266.det()"
   ]
  },
  {
   "cell_type": "code",
   "execution_count": 70,
   "metadata": {},
   "outputs": [
    {
     "data": {
      "image/png": "[encoded data removed]",
      "text/latex": [
       "$$\\left ( \\left[\\begin{matrix}-1 & 2 & 2 & 2\\\\0 & 0 & 0 & 2\\\\-11 & -8 & 5 & 8\\\\-8 & -5 & 4 & 7\\end{matrix}\\right], \\quad -6\\right )$$"
      ],
      "text/plain": [
       "⎛⎡-1   2   2  2⎤    ⎞\n",
       "⎜⎢             ⎥    ⎟\n",
       "⎜⎢ 0   0   0  2⎥    ⎟\n",
       "⎜⎢             ⎥, -6⎟\n",
       "⎜⎢-11  -8  5  8⎥    ⎟\n",
       "⎜⎢             ⎥    ⎟\n",
       "⎝⎣-8   -5  4  7⎦    ⎠"
      ]
     },
     "execution_count": 70,
     "metadata": {},
     "output_type": "execute_result"
    }
   ],
   "source": [
    "# 4 столбец умножим на -2 и сложим с 1-ым\n",
    "A266 = sympy.Matrix([[-1,2,2,2],[0,0,0,2],[-11,-8,5,8],[-8,-5,4,7]])\n",
    "A266, A266.det()"
   ]
  },
  {
   "cell_type": "code",
   "execution_count": 71,
   "metadata": {},
   "outputs": [
    {
     "data": {
      "image/png": "[encoded data removed]",
      "text/latex": [
       "$$\\left ( \\left[\\begin{matrix}-1 & 2 & 2\\\\-11 & -8 & 5\\\\-8 & -5 & 4\\end{matrix}\\right], \\quad -6\\right )$$"
      ],
      "text/plain": [
       "⎛⎡-1   2   2⎤    ⎞\n",
       "⎜⎢          ⎥    ⎟\n",
       "⎜⎢-11  -8  5⎥, -6⎟\n",
       "⎜⎢          ⎥    ⎟\n",
       "⎝⎣-8   -5  4⎦    ⎠"
      ]
     },
     "execution_count": 71,
     "metadata": {},
     "output_type": "execute_result"
    }
   ],
   "source": [
    "# Разложим по 2 строке\n",
    "A266_1 = sympy.Matrix([[-1,2,2],[-11,-8,5],[-8,-5,4]])\n",
    "A266_1, 2 * A266_1.det()"
   ]
  },
  {
   "cell_type": "code",
   "execution_count": 72,
   "metadata": {},
   "outputs": [
    {
     "data": {
      "image/png": "[encoded data removed]",
      "text/latex": [
       "$$\\left ( \\left[\\begin{matrix}-1 & 0 & 0\\\\-11 & -30 & -17\\\\-8 & -21 & -12\\end{matrix}\\right], \\quad -6\\right )$$"
      ],
      "text/plain": [
       "⎛⎡-1    0    0 ⎤    ⎞\n",
       "⎜⎢             ⎥    ⎟\n",
       "⎜⎢-11  -30  -17⎥, -6⎟\n",
       "⎜⎢             ⎥    ⎟\n",
       "⎝⎣-8   -21  -12⎦    ⎠"
      ]
     },
     "execution_count": 72,
     "metadata": {},
     "output_type": "execute_result"
    }
   ],
   "source": [
    "# Сложим 2 столбец с 1-м * 2\n",
    "# Сложим 3 столбец с 1-м * 2\n",
    "A266_1 = sympy.Matrix([[-1,0,0],[-11,-30,-17],[-8,-21,-12]])\n",
    "A266_1, 2 * A266_1.det()"
   ]
  },
  {
   "cell_type": "code",
   "execution_count": 73,
   "metadata": {},
   "outputs": [
    {
     "data": {
      "image/png": "[encoded data removed]",
      "text/latex": [
       "$$\\left ( \\left[\\begin{matrix}-30 & -17\\\\-21 & -12\\end{matrix}\\right], \\quad -6\\right )$$"
      ],
      "text/plain": [
       "⎛⎡-30  -17⎤    ⎞\n",
       "⎜⎢        ⎥, -6⎟\n",
       "⎝⎣-21  -12⎦    ⎠"
      ]
     },
     "execution_count": 73,
     "metadata": {},
     "output_type": "execute_result"
    }
   ],
   "source": [
    "# Разложим по 1 строке\n",
    "A266_11 = sympy.Matrix([[-30,-17],[-21,-12]])\n",
    "A266_11, 2 * (-1) * A266_11.det()"
   ]
  },
  {
   "cell_type": "code",
   "execution_count": 74,
   "metadata": {},
   "outputs": [
    {
     "data": {
      "image/png": "[encoded data removed]",
      "text/latex": [
       "$$-6$$"
      ],
      "text/plain": [
       "-6"
      ]
     },
     "execution_count": 74,
     "metadata": {},
     "output_type": "execute_result"
    }
   ],
   "source": [
    "2 * (-1) * (-30 * (-12) - (-21) * (-17))"
   ]
  },
  {
   "cell_type": "code",
   "execution_count": 75,
   "metadata": {},
   "outputs": [
    {
     "data": {
      "image/png": "[encoded data removed]",
      "text/latex": [
       "$$-6$$"
      ],
      "text/plain": [
       "-6"
      ]
     },
     "execution_count": 75,
     "metadata": {},
     "output_type": "execute_result"
    }
   ],
   "source": [
    "deternminant([[3,2,2,2], [9,-8,5,10],[5,-8,5,8],[6,-5,4,7]])"
   ]
  },
  {
   "cell_type": "code",
   "execution_count": 76,
   "metadata": {},
   "outputs": [
    {
     "data": {
      "image/png": "[encoded data removed]",
      "text/latex": [
       "$$\\left ( \\left[\\begin{matrix}7 & 6 & 3 & 7\\\\3 & 5 & 7 & 2\\\\5 & 4 & 3 & 5\\\\5 & 6 & 5 & 4\\end{matrix}\\right], \\quad -10\\right )$$"
      ],
      "text/plain": [
       "⎛⎡7  6  3  7⎤     ⎞\n",
       "⎜⎢          ⎥     ⎟\n",
       "⎜⎢3  5  7  2⎥     ⎟\n",
       "⎜⎢          ⎥, -10⎟\n",
       "⎜⎢5  4  3  5⎥     ⎟\n",
       "⎜⎢          ⎥     ⎟\n",
       "⎝⎣5  6  5  4⎦     ⎠"
      ]
     },
     "execution_count": 76,
     "metadata": {},
     "output_type": "execute_result"
    }
   ],
   "source": [
    "# 267\n",
    "A267 = sympy.Matrix([[7,6,3,7], [3,5,7,2],[5,4,3,5],[5,6,5,4]])\n",
    "A267, A267.det()"
   ]
  },
  {
   "cell_type": "code",
   "execution_count": 77,
   "metadata": {},
   "outputs": [
    {
     "data": {
      "image/png": "[encoded data removed]",
      "text/latex": [
       "$$\\left ( \\left[\\begin{matrix}7 & -1 & -4 & 0\\\\3 & 2 & 4 & -1\\\\5 & -1 & -2 & 0\\\\5 & 1 & 0 & -1\\end{matrix}\\right], \\quad -10\\right )$$"
      ],
      "text/plain": [
       "⎛⎡7  -1  -4  0 ⎤     ⎞\n",
       "⎜⎢             ⎥     ⎟\n",
       "⎜⎢3  2   4   -1⎥     ⎟\n",
       "⎜⎢             ⎥, -10⎟\n",
       "⎜⎢5  -1  -2  0 ⎥     ⎟\n",
       "⎜⎢             ⎥     ⎟\n",
       "⎝⎣5  1   0   -1⎦     ⎠"
      ]
     },
     "execution_count": 77,
     "metadata": {},
     "output_type": "execute_result"
    }
   ],
   "source": [
    "# Из 2, 3, 4 столбцов вычтем 1-ый\n",
    "A267 = sympy.Matrix([[7,-1,-4,0], [3,2,4,-1],[5,-1,-2,0],[5,1,0,-1]])\n",
    "A267, A267.det()"
   ]
  },
  {
   "cell_type": "code",
   "execution_count": 78,
   "metadata": {},
   "outputs": [
    {
     "data": {
      "image/png": "[encoded data removed]",
      "text/latex": [
       "$$\\left ( \\left[\\begin{matrix}7 & -1 & -4 & 0\\\\-2 & 1 & 4 & 0\\\\5 & -1 & -2 & 0\\\\5 & 1 & 0 & -1\\end{matrix}\\right], \\quad -10\\right )$$"
      ],
      "text/plain": [
       "⎛⎡7   -1  -4  0 ⎤     ⎞\n",
       "⎜⎢              ⎥     ⎟\n",
       "⎜⎢-2  1   4   0 ⎥     ⎟\n",
       "⎜⎢              ⎥, -10⎟\n",
       "⎜⎢5   -1  -2  0 ⎥     ⎟\n",
       "⎜⎢              ⎥     ⎟\n",
       "⎝⎣5   1   0   -1⎦     ⎠"
      ]
     },
     "execution_count": 78,
     "metadata": {},
     "output_type": "execute_result"
    }
   ],
   "source": [
    "# Из 2 строки вычтем  4-ую\n",
    "A267 = sympy.Matrix([[7,-1,-4,0], [-2,1,4,0],[5,-1,-2,0],[5,1,0,-1]])\n",
    "A267, A267.det()"
   ]
  },
  {
   "cell_type": "code",
   "execution_count": 79,
   "metadata": {},
   "outputs": [
    {
     "data": {
      "image/png": "[encoded data removed]",
      "text/latex": [
       "$$\\left ( \\left[\\begin{matrix}7 & -1 & -4\\\\-2 & 1 & 4\\\\5 & -1 & -2\\end{matrix}\\right], \\quad -10\\right )$$"
      ],
      "text/plain": [
       "⎛⎡7   -1  -4⎤     ⎞\n",
       "⎜⎢          ⎥     ⎟\n",
       "⎜⎢-2  1   4 ⎥, -10⎟\n",
       "⎜⎢          ⎥     ⎟\n",
       "⎝⎣5   -1  -2⎦     ⎠"
      ]
     },
     "execution_count": 79,
     "metadata": {},
     "output_type": "execute_result"
    }
   ],
   "source": [
    "# Разложим по 4-му столбцу\n",
    "A267_1 = sympy.Matrix([[7,-1,-4], [-2,1,4],[5,-1,-2]])\n",
    "A267_1, -1 * A267_1.det()"
   ]
  },
  {
   "cell_type": "code",
   "execution_count": 80,
   "metadata": {},
   "outputs": [
    {
     "data": {
      "image/png": "[encoded data removed]",
      "text/latex": [
       "$$\\left ( \\left[\\begin{matrix}5 & 0 & 0\\\\-2 & 1 & 4\\\\5 & -1 & -2\\end{matrix}\\right], \\quad -10\\right )$$"
      ],
      "text/plain": [
       "⎛⎡5   0   0 ⎤     ⎞\n",
       "⎜⎢          ⎥     ⎟\n",
       "⎜⎢-2  1   4 ⎥, -10⎟\n",
       "⎜⎢          ⎥     ⎟\n",
       "⎝⎣5   -1  -2⎦     ⎠"
      ]
     },
     "execution_count": 80,
     "metadata": {},
     "output_type": "execute_result"
    }
   ],
   "source": [
    "# Прибавим к 1 строке  2-ую \n",
    "A267_1 = sympy.Matrix([[5,0,0], [-2,1,4],[5,-1,-2]])\n",
    "A267_1, -1 * A267_1.det()"
   ]
  },
  {
   "cell_type": "code",
   "execution_count": 81,
   "metadata": {},
   "outputs": [
    {
     "data": {
      "image/png": "[encoded data removed]",
      "text/latex": [
       "$$\\left ( \\left[\\begin{matrix}1 & 4\\\\-1 & -2\\end{matrix}\\right], \\quad -10\\right )$$"
      ],
      "text/plain": [
       "⎛⎡1   4 ⎤     ⎞\n",
       "⎜⎢      ⎥, -10⎟\n",
       "⎝⎣-1  -2⎦     ⎠"
      ]
     },
     "execution_count": 81,
     "metadata": {},
     "output_type": "execute_result"
    }
   ],
   "source": [
    "# Разложим по 1-й строке\n",
    "A267_11 = sympy.Matrix([[1,4],[-1,-2]])\n",
    "A267_11, -1 * 5 * A267_11.det()"
   ]
  },
  {
   "cell_type": "code",
   "execution_count": 82,
   "metadata": {},
   "outputs": [
    {
     "data": {
      "image/png": "[encoded data removed]",
      "text/latex": [
       "$$-10$$"
      ],
      "text/plain": [
       "-10"
      ]
     },
     "execution_count": 82,
     "metadata": {},
     "output_type": "execute_result"
    }
   ],
   "source": [
    "-1 * 5 * ( 1 * (-2) - (-1) * 4)"
   ]
  },
  {
   "cell_type": "code",
   "execution_count": 83,
   "metadata": {},
   "outputs": [
    {
     "data": {
      "image/png": "[encoded data removed]",
      "text/latex": [
       "$$-10$$"
      ],
      "text/plain": [
       "-10"
      ]
     },
     "execution_count": 83,
     "metadata": {},
     "output_type": "execute_result"
    }
   ],
   "source": [
    "deternminant([[7,6,3,7], [3,5,7,2],[5,4,3,5],[5,6,5,4]])"
   ]
  },
  {
   "cell_type": "code",
   "execution_count": 84,
   "metadata": {},
   "outputs": [
    {
     "data": {
      "image/png": "[encoded data removed]",
      "text/latex": [
       "$$\\left ( \\left[\\begin{matrix}6 & -5 & 8 & 4\\\\9 & 7 & 5 & 2\\\\7 & 5 & 3 & 7\\\\-4 & 8 & -8 & -3\\end{matrix}\\right], \\quad 100\\right )$$"
      ],
      "text/plain": [
       "⎛⎡6   -5  8   4 ⎤     ⎞\n",
       "⎜⎢              ⎥     ⎟\n",
       "⎜⎢9   7   5   2 ⎥     ⎟\n",
       "⎜⎢              ⎥, 100⎟\n",
       "⎜⎢7   5   3   7 ⎥     ⎟\n",
       "⎜⎢              ⎥     ⎟\n",
       "⎝⎣-4  8   -8  -3⎦     ⎠"
      ]
     },
     "execution_count": 84,
     "metadata": {},
     "output_type": "execute_result"
    }
   ],
   "source": [
    "# 268\n",
    "A268 = sympy.Matrix([[6,-5,8,4], [9,7,5,2],[7,5,3,7],[-4,8,-8,-3]])\n",
    "A268, A268.det()"
   ]
  },
  {
   "cell_type": "code",
   "execution_count": 85,
   "metadata": {},
   "outputs": [
    {
     "data": {
      "image/png": "[encoded data removed]",
      "text/latex": [
       "$$\\left ( \\left[\\begin{matrix}6 & 7 & 8 & 4\\\\9 & 25 & 5 & 2\\\\7 & 19 & 3 & 7\\\\-4 & 0 & -8 & -3\\end{matrix}\\right], \\quad 100\\right )$$"
      ],
      "text/plain": [
       "⎛⎡6   7   8   4 ⎤     ⎞\n",
       "⎜⎢              ⎥     ⎟\n",
       "⎜⎢9   25  5   2 ⎥     ⎟\n",
       "⎜⎢              ⎥, 100⎟\n",
       "⎜⎢7   19  3   7 ⎥     ⎟\n",
       "⎜⎢              ⎥     ⎟\n",
       "⎝⎣-4  0   -8  -3⎦     ⎠"
      ]
     },
     "execution_count": 85,
     "metadata": {},
     "output_type": "execute_result"
    }
   ],
   "source": [
    "# Ко 2 столбцу прибавим 1-ый * 2\n",
    "A268 = sympy.Matrix([[6,7,8,4], [9,25,5,2],[7,19,3,7],[-4,0,-8,-3]])\n",
    "A268, A268.det()"
   ]
  },
  {
   "cell_type": "code",
   "execution_count": 86,
   "metadata": {},
   "outputs": [
    {
     "data": {
      "image/png": "[encoded data removed]",
      "text/latex": [
       "$$\\left ( \\left[\\begin{matrix}6 & 7 & -4 & 4\\\\9 & 25 & -13 & 2\\\\7 & 19 & -11 & 7\\\\-4 & 0 & 0 & -3\\end{matrix}\\right], \\quad 100\\right )$$"
      ],
      "text/plain": [
       "⎛⎡6   7   -4   4 ⎤     ⎞\n",
       "⎜⎢               ⎥     ⎟\n",
       "⎜⎢9   25  -13  2 ⎥     ⎟\n",
       "⎜⎢               ⎥, 100⎟\n",
       "⎜⎢7   19  -11  7 ⎥     ⎟\n",
       "⎜⎢               ⎥     ⎟\n",
       "⎝⎣-4  0    0   -3⎦     ⎠"
      ]
     },
     "execution_count": 86,
     "metadata": {},
     "output_type": "execute_result"
    }
   ],
   "source": [
    "# Из 3 столбца вычтем 1-ый * 2\n",
    "A268 = sympy.Matrix([[6,7,-4,4], [9,25,-13,2],[7,19,-11,7],[-4,0,0,-3]])\n",
    "A268, A268.det()"
   ]
  },
  {
   "cell_type": "code",
   "execution_count": 87,
   "metadata": {},
   "outputs": [
    {
     "data": {
      "image/png": "[encoded data removed]",
      "text/latex": [
       "$$\\left ( \\left[\\begin{matrix}6 & 7 & -4 & 16\\\\9 & 25 & -13 & 8\\\\7 & 19 & -11 & 28\\\\-4 & 0 & 0 & -12\\end{matrix}\\right], \\quad 100\\right )$$"
      ],
      "text/plain": [
       "⎛⎡6   7   -4   16 ⎤     ⎞\n",
       "⎜⎢                ⎥     ⎟\n",
       "⎜⎢9   25  -13   8 ⎥     ⎟\n",
       "⎜⎢                ⎥, 100⎟\n",
       "⎜⎢7   19  -11  28 ⎥     ⎟\n",
       "⎜⎢                ⎥     ⎟\n",
       "⎝⎣-4  0    0   -12⎦     ⎠"
      ]
     },
     "execution_count": 87,
     "metadata": {},
     "output_type": "execute_result"
    }
   ],
   "source": [
    "#  Умножим 4-ый столбец на 4\n",
    "A268 = sympy.Matrix([[6,7,-4,16], [9,25,-13,8],[7,19,-11,28],[-4,0,0,-12]])\n",
    "A268, A268.det()/4"
   ]
  },
  {
   "cell_type": "code",
   "execution_count": 88,
   "metadata": {},
   "outputs": [
    {
     "data": {
      "image/png": "[encoded data removed]",
      "text/latex": [
       "$$\\left ( \\left[\\begin{matrix}6 & 7 & -4 & -2\\\\9 & 25 & -13 & -19\\\\7 & 19 & -11 & 7\\\\-4 & 0 & 0 & 0\\end{matrix}\\right], \\quad 100\\right )$$"
      ],
      "text/plain": [
       "⎛⎡6   7   -4   -2 ⎤     ⎞\n",
       "⎜⎢                ⎥     ⎟\n",
       "⎜⎢9   25  -13  -19⎥     ⎟\n",
       "⎜⎢                ⎥, 100⎟\n",
       "⎜⎢7   19  -11   7 ⎥     ⎟\n",
       "⎜⎢                ⎥     ⎟\n",
       "⎝⎣-4  0    0    0 ⎦     ⎠"
      ]
     },
     "execution_count": 88,
     "metadata": {},
     "output_type": "execute_result"
    }
   ],
   "source": [
    "# Из 4 столбца вычтем 1-ый * 3\n",
    "A268 = sympy.Matrix([[6,7,-4,-2], [9,25,-13,-19],[7,19,-11,7],[-4,0,0,0]])\n",
    "A268, A268.det()/4"
   ]
  },
  {
   "cell_type": "code",
   "execution_count": 89,
   "metadata": {},
   "outputs": [
    {
     "data": {
      "image/png": "[encoded data removed]",
      "text/latex": [
       "$$\\left ( \\left[\\begin{matrix}7 & -4 & -2\\\\25 & -13 & -19\\\\19 & -11 & 7\\end{matrix}\\right], \\quad 100\\right )$$"
      ],
      "text/plain": [
       "⎛⎡7   -4   -2 ⎤     ⎞\n",
       "⎜⎢            ⎥     ⎟\n",
       "⎜⎢25  -13  -19⎥, 100⎟\n",
       "⎜⎢            ⎥     ⎟\n",
       "⎝⎣19  -11   7 ⎦     ⎠"
      ]
     },
     "execution_count": 89,
     "metadata": {},
     "output_type": "execute_result"
    }
   ],
   "source": [
    "# Разложим по 4-ой строке\n",
    "A268_1 = sympy.Matrix([[7,-4,-2], [25,-13,-19],[19,-11,7]])\n",
    "A268_1, int(- (-4)/4 * A268_1.det())"
   ]
  },
  {
   "cell_type": "code",
   "execution_count": 90,
   "metadata": {},
   "outputs": [
    {
     "data": {
      "image/png": "[encoded data removed]",
      "text/latex": [
       "$$\\left ( \\left[\\begin{matrix}-1 & -4 & 2\\\\-1 & -13 & -6\\\\-3 & -11 & 18\\end{matrix}\\right], \\quad 100\\right )$$"
      ],
      "text/plain": [
       "⎛⎡-1  -4   2 ⎤     ⎞\n",
       "⎜⎢           ⎥     ⎟\n",
       "⎜⎢-1  -13  -6⎥, 100⎟\n",
       "⎜⎢           ⎥     ⎟\n",
       "⎝⎣-3  -11  18⎦     ⎠"
      ]
     },
     "execution_count": 90,
     "metadata": {},
     "output_type": "execute_result"
    }
   ],
   "source": [
    "# К 1 столбцу прибавим 2-ой * 2\n",
    "# Из 3 столбца вычтем 2-й\n",
    "A268_1 = sympy.Matrix([[-1,-4,2], [-1,-13,-6],[-3,-11,18]])\n",
    "A268_1, A268_1.det()"
   ]
  },
  {
   "cell_type": "code",
   "execution_count": 91,
   "metadata": {},
   "outputs": [
    {
     "data": {
      "image/png": "[encoded data removed]",
      "text/latex": [
       "$$\\left ( \\left[\\begin{matrix}0 & 9 & 8\\\\-1 & -13 & -6\\\\0 & 28 & 36\\end{matrix}\\right], \\quad 100\\right )$$"
      ],
      "text/plain": [
       "⎛⎡0    9   8 ⎤     ⎞\n",
       "⎜⎢           ⎥     ⎟\n",
       "⎜⎢-1  -13  -6⎥, 100⎟\n",
       "⎜⎢           ⎥     ⎟\n",
       "⎝⎣0   28   36⎦     ⎠"
      ]
     },
     "execution_count": 91,
     "metadata": {},
     "output_type": "execute_result"
    }
   ],
   "source": [
    "# Из 1 строки вычтем 2-ую\n",
    "# Из 3 строки вычтем 2-ую * 3\n",
    "A268_1 = sympy.Matrix([[0,9,8], [-1,-13,-6],[0,28,36]])\n",
    "A268_1, A268_1.det()"
   ]
  },
  {
   "cell_type": "code",
   "execution_count": 92,
   "metadata": {},
   "outputs": [
    {
     "data": {
      "image/png": "[encoded data removed]",
      "text/latex": [
       "$$\\left ( \\left[\\begin{matrix}9 & 8\\\\28 & 36\\end{matrix}\\right], \\quad 100\\right )$$"
      ],
      "text/plain": [
       "⎛⎡9   8 ⎤     ⎞\n",
       "⎜⎢      ⎥, 100⎟\n",
       "⎝⎣28  36⎦     ⎠"
      ]
     },
     "execution_count": 92,
     "metadata": {},
     "output_type": "execute_result"
    }
   ],
   "source": [
    "# Разложим по 1 столбцу\n",
    "A268_11 = sympy.Matrix([[9,8],[28,36]])\n",
    "A268_11, -(-1) * A268_11.det()"
   ]
  },
  {
   "cell_type": "code",
   "execution_count": 93,
   "metadata": {},
   "outputs": [
    {
     "data": {
      "image/png": "[encoded data removed]",
      "text/latex": [
       "$$\\left ( 100, \\quad 100\\right )$$"
      ],
      "text/plain": [
       "(100, 100)"
      ]
     },
     "execution_count": 93,
     "metadata": {},
     "output_type": "execute_result"
    }
   ],
   "source": [
    "9 * 36 - 8 * 28, 4 * (81 - 56)"
   ]
  },
  {
   "cell_type": "code",
   "execution_count": 94,
   "metadata": {},
   "outputs": [
    {
     "data": {
      "image/png": "[encoded data removed]",
      "text/latex": [
       "$$100$$"
      ],
      "text/plain": [
       "100"
      ]
     },
     "execution_count": 94,
     "metadata": {},
     "output_type": "execute_result"
    }
   ],
   "source": [
    "deternminant([[6,-5,8,4], [9,7,5,2],[7,5,3,7],[-4,8,-8,-3]])"
   ]
  },
  {
   "cell_type": "markdown",
   "metadata": {},
   "source": [
    "[Алгебраические дополнения и миноры. Виды миноров и алгебраических дополнений.](https://math1.ru/education/matrix/minor.html)\n",
    "\n",
    "[Как найти обратную матрицу](http://mathprofi.ru/kak_naiti_obratnuyu_matricu.html)\n",
    "\n",
    "![Обратная матрица 2-ого порядка](math_images/la102_04.png)\n",
    "\n",
    "---\n",
    "\n",
    "Решить матричные уравнения: / Solve the matrix equations:"
   ]
  },
  {
   "cell_type": "code",
   "execution_count": 126,
   "metadata": {},
   "outputs": [
    {
     "data": {
      "image/png": "[encoded data removed]",
      "text/latex": [
       "$$\\left ( \\left[\\begin{matrix}3 & -2\\\\5 & -4\\end{matrix}\\right], \\quad \\left[\\begin{matrix}-1 & 2\\\\-5 & 6\\end{matrix}\\right]\\right )$$"
      ],
      "text/plain": [
       "⎛⎡3  -2⎤  ⎡-1  2⎤⎞\n",
       "⎜⎢     ⎥, ⎢     ⎥⎟\n",
       "⎝⎣5  -4⎦  ⎣-5  6⎦⎠"
      ]
     },
     "execution_count": 126,
     "metadata": {},
     "output_type": "execute_result"
    }
   ],
   "source": [
    "# 862\n",
    "# X862 * A862 = B862\n",
    "A862 = sympy.Matrix([[3,-2],[5,-4]])\n",
    "B862 = sympy.Matrix([[-1,2],[-5,6]])\n",
    "A862,  B862"
   ]
  },
  {
   "cell_type": "code",
   "execution_count": 127,
   "metadata": {},
   "outputs": [
    {
     "data": {
      "image/png": "[encoded data removed]",
      "text/latex": [
       "$$\\left[\\begin{matrix}3 & 5\\\\-2 & -4\\end{matrix}\\right]$$"
      ],
      "text/plain": [
       "⎡3   5 ⎤\n",
       "⎢      ⎥\n",
       "⎣-2  -4⎦"
      ]
     },
     "execution_count": 127,
     "metadata": {},
     "output_type": "execute_result"
    }
   ],
   "source": [
    "A862.transpose()"
   ]
  },
  {
   "cell_type": "code",
   "execution_count": 128,
   "metadata": {},
   "outputs": [
    {
     "data": {
      "image/png": "[encoded data removed]",
      "text/latex": [
       "$$\\left[\\begin{matrix}-4 & 2\\\\-5 & 3\\end{matrix}\\right]$$"
      ],
      "text/plain": [
       "⎡-4  2⎤\n",
       "⎢     ⎥\n",
       "⎣-5  3⎦"
      ]
     },
     "execution_count": 128,
     "metadata": {},
     "output_type": "execute_result"
    }
   ],
   "source": [
    "A862.adjugate()"
   ]
  },
  {
   "cell_type": "code",
   "execution_count": 129,
   "metadata": {},
   "outputs": [
    {
     "data": {
      "image/png": "[encoded data removed]",
      "text/latex": [
       "$$-2$$"
      ],
      "text/plain": [
       "-2"
      ]
     },
     "execution_count": 129,
     "metadata": {},
     "output_type": "execute_result"
    }
   ],
   "source": [
    "A862.det()"
   ]
  },
  {
   "cell_type": "code",
   "execution_count": 130,
   "metadata": {},
   "outputs": [
    {
     "data": {
      "image/png": "[encoded data removed]",
      "text/latex": [
       "$$\\left[\\begin{matrix}2 & -1\\\\\\frac{5}{2} & - \\frac{3}{2}\\end{matrix}\\right]$$"
      ],
      "text/plain": [
       "⎡ 2    -1 ⎤\n",
       "⎢         ⎥\n",
       "⎣5/2  -3/2⎦"
      ]
     },
     "execution_count": 130,
     "metadata": {},
     "output_type": "execute_result"
    }
   ],
   "source": [
    "1 / A862.det() * A862.adjugate()"
   ]
  },
  {
   "cell_type": "code",
   "execution_count": 131,
   "metadata": {},
   "outputs": [
    {
     "data": {
      "image/png": "[encoded data removed]",
      "text/latex": [
       "$$\\left[\\begin{matrix}-6 & 4\\\\-10 & 8\\end{matrix}\\right]$$"
      ],
      "text/plain": [
       "⎡-6   4⎤\n",
       "⎢      ⎥\n",
       "⎣-10  8⎦"
      ]
     },
     "execution_count": 131,
     "metadata": {},
     "output_type": "execute_result"
    }
   ],
   "source": [
    "B862 * A862.adjugate() # / A862.det()"
   ]
  },
  {
   "cell_type": "code",
   "execution_count": 132,
   "metadata": {},
   "outputs": [
    {
     "data": {
      "image/png": "[encoded data removed]",
      "text/latex": [
       "$$\\left[\\begin{matrix}3 & -2\\\\5 & -4\\end{matrix}\\right]$$"
      ],
      "text/plain": [
       "⎡3  -2⎤\n",
       "⎢     ⎥\n",
       "⎣5  -4⎦"
      ]
     },
     "execution_count": 132,
     "metadata": {},
     "output_type": "execute_result"
    }
   ],
   "source": [
    "B862 * A862.adjugate() / A862.det()"
   ]
  },
  {
   "cell_type": "code",
   "execution_count": 133,
   "metadata": {},
   "outputs": [
    {
     "data": {
      "image/png": "[encoded data removed]",
      "text/latex": [
       "$$\\left[\\begin{matrix}3 & -2\\\\5 & -4\\end{matrix}\\right]$$"
      ],
      "text/plain": [
       "⎡3  -2⎤\n",
       "⎢     ⎥\n",
       "⎣5  -4⎦"
      ]
     },
     "execution_count": 133,
     "metadata": {},
     "output_type": "execute_result"
    }
   ],
   "source": [
    "# Ответ / Answer\n",
    "B862 * A862.inv()"
   ]
  },
  {
   "cell_type": "code",
   "execution_count": 134,
   "metadata": {},
   "outputs": [
    {
     "data": {
      "text/plain": [
       "True"
      ]
     },
     "execution_count": 134,
     "metadata": {},
     "output_type": "execute_result"
    }
   ],
   "source": [
    "A862.inv() == 1 / A862.det() * A862.adjugate()"
   ]
  },
  {
   "cell_type": "code",
   "execution_count": 195,
   "metadata": {},
   "outputs": [
    {
     "data": {
      "image/png": "[encoded data removed]",
      "text/latex": [
       "$$\\left ( \\left[\\begin{matrix}3 & -1\\\\5 & -2\\end{matrix}\\right], \\quad \\left[\\begin{matrix}5 & 6\\\\7 & 8\\end{matrix}\\right], \\quad \\left[\\begin{matrix}14 & 16\\\\9 & 10\\end{matrix}\\right]\\right )$$"
      ],
      "text/plain": [
       "⎛⎡3  -1⎤  ⎡5  6⎤  ⎡14  16⎤⎞\n",
       "⎜⎢     ⎥, ⎢    ⎥, ⎢      ⎥⎟\n",
       "⎝⎣5  -2⎦  ⎣7  8⎦  ⎣9   10⎦⎠"
      ]
     },
     "execution_count": 195,
     "metadata": {},
     "output_type": "execute_result"
    }
   ],
   "source": [
    "# 863\n",
    "# A863 * X863 * B863  = C863\n",
    "A863 = sympy.Matrix([[3,-1],[5,-2]])\n",
    "B863 = sympy.Matrix([[5,6],[7,8]])\n",
    "C863 = sympy.Matrix([[14,16],[9,10]])\n",
    "A863,  B863, C863"
   ]
  },
  {
   "cell_type": "code",
   "execution_count": 196,
   "metadata": {},
   "outputs": [
    {
     "data": {
      "image/png": "[encoded data removed]",
      "text/latex": [
       "$$\\left ( \\left[\\begin{matrix}-2 & 1\\\\-5 & 3\\end{matrix}\\right], \\quad \\left[\\begin{matrix}8 & -6\\\\-7 & 5\\end{matrix}\\right]\\right )$$"
      ],
      "text/plain": [
       "⎛⎡-2  1⎤  ⎡8   -6⎤⎞\n",
       "⎜⎢     ⎥, ⎢      ⎥⎟\n",
       "⎝⎣-5  3⎦  ⎣-7  5 ⎦⎠"
      ]
     },
     "execution_count": 196,
     "metadata": {},
     "output_type": "execute_result"
    }
   ],
   "source": [
    "# 1)\n",
    "A863.adjugate(), B863.adjugate()"
   ]
  },
  {
   "cell_type": "code",
   "execution_count": 197,
   "metadata": {},
   "outputs": [
    {
     "data": {
      "image/png": "[encoded data removed]",
      "text/latex": [
       "$$\\left ( -1, \\quad -2\\right )$$"
      ],
      "text/plain": [
       "(-1, -2)"
      ]
     },
     "execution_count": 197,
     "metadata": {},
     "output_type": "execute_result"
    }
   ],
   "source": [
    "# 2)\n",
    "A863.det(), B863.det()"
   ]
  },
  {
   "cell_type": "code",
   "execution_count": 198,
   "metadata": {},
   "outputs": [
    {
     "data": {
      "image/png": "[encoded data removed]",
      "text/latex": [
       "$$\\left[\\begin{matrix}-19 & -22\\\\-43 & -50\\end{matrix}\\right]$$"
      ],
      "text/plain": [
       "⎡-19  -22⎤\n",
       "⎢        ⎥\n",
       "⎣-43  -50⎦"
      ]
     },
     "execution_count": 198,
     "metadata": {},
     "output_type": "execute_result"
    }
   ],
   "source": [
    "# 3)\n",
    "A863.adjugate() * C863"
   ]
  },
  {
   "cell_type": "code",
   "execution_count": 199,
   "metadata": {},
   "outputs": [
    {
     "data": {
      "image/png": "[encoded data removed]",
      "text/latex": [
       "$$\\left[\\begin{matrix}19 & 22\\\\43 & 50\\end{matrix}\\right]$$"
      ],
      "text/plain": [
       "⎡19  22⎤\n",
       "⎢      ⎥\n",
       "⎣43  50⎦"
      ]
     },
     "execution_count": 199,
     "metadata": {},
     "output_type": "execute_result"
    }
   ],
   "source": [
    "# 4)\n",
    "A863.adjugate() * C863 / A863.det()"
   ]
  },
  {
   "cell_type": "code",
   "execution_count": 200,
   "metadata": {},
   "outputs": [
    {
     "data": {
      "image/png": "[encoded data removed]",
      "text/latex": [
       "$$\\left[\\begin{matrix}-2 & -4\\\\-6 & -8\\end{matrix}\\right]$$"
      ],
      "text/plain": [
       "⎡-2  -4⎤\n",
       "⎢      ⎥\n",
       "⎣-6  -8⎦"
      ]
     },
     "execution_count": 200,
     "metadata": {},
     "output_type": "execute_result"
    }
   ],
   "source": [
    "# 5)\n",
    "A863.adjugate() * C863 / A863.det() * B863.adjugate()"
   ]
  },
  {
   "cell_type": "code",
   "execution_count": 201,
   "metadata": {},
   "outputs": [
    {
     "data": {
      "image/png": "[encoded data removed]",
      "text/latex": [
       "$$\\left[\\begin{matrix}1 & 2\\\\3 & 4\\end{matrix}\\right]$$"
      ],
      "text/plain": [
       "⎡1  2⎤\n",
       "⎢    ⎥\n",
       "⎣3  4⎦"
      ]
     },
     "execution_count": 201,
     "metadata": {},
     "output_type": "execute_result"
    }
   ],
   "source": [
    "# 6)\n",
    "A863.adjugate() * C863 / A863.det() * B863.adjugate() / B863.det()"
   ]
  },
  {
   "cell_type": "code",
   "execution_count": 202,
   "metadata": {},
   "outputs": [
    {
     "data": {
      "image/png": "[encoded data removed]",
      "text/latex": [
       "$$\\left[\\begin{matrix}1 & 2\\\\3 & 4\\end{matrix}\\right]$$"
      ],
      "text/plain": [
       "⎡1  2⎤\n",
       "⎢    ⎥\n",
       "⎣3  4⎦"
      ]
     },
     "execution_count": 202,
     "metadata": {},
     "output_type": "execute_result"
    }
   ],
   "source": [
    "# Ответ / Answer\n",
    "A863.inv() * C863 *  B863.inv() "
   ]
  },
  {
   "cell_type": "code",
   "execution_count": 204,
   "metadata": {},
   "outputs": [
    {
     "data": {
      "image/png": "[encoded data removed]",
      "text/latex": [
       "$$\\left ( \\left[\\begin{matrix}1 & 2\\\\3 & 4\\end{matrix}\\right], \\quad \\left[\\begin{matrix}- \\frac{169}{2} & -99\\\\- \\frac{449}{2} & -263\\end{matrix}\\right], \\quad \\left[\\begin{matrix}10 & -6\\\\8 & -5\\end{matrix}\\right], \\quad \\left[\\begin{matrix}-649 & 479\\\\- \\frac{817}{2} & \\frac{603}{2}\\end{matrix}\\right], \\quad \\left[\\begin{matrix}-228 & 131\\\\208 & - \\frac{239}{2}\\end{matrix}\\right], \\quad \\left[\\begin{matrix}53 & 62\\\\-41 & -48\\end{matrix}\\right]\\right )$$"
      ],
      "text/plain": [
       "⎛⎡1  2⎤  ⎡-169/2  -99 ⎤  ⎡10  -6⎤  ⎡ -649    479 ⎤  ⎡-228   131  ⎤  ⎡53   62 ⎤\n",
       "⎜⎢    ⎥, ⎢            ⎥, ⎢      ⎥, ⎢             ⎥, ⎢            ⎥, ⎢        ⎥\n",
       "⎝⎣3  4⎦  ⎣-449/2  -263⎦  ⎣8   -5⎦  ⎣-817/2  603/2⎦  ⎣208   -239/2⎦  ⎣-41  -48⎦\n",
       "\n",
       "⎞\n",
       "⎟\n",
       "⎠"
      ]
     },
     "execution_count": 204,
     "metadata": {},
     "output_type": "execute_result"
    }
   ],
   "source": [
    "A863.inv() * C863 * B863.inv(), A863.inv() * B863.inv() * C863, \\\n",
    "C863 * B863.inv() * A863.inv(), C863 * A863.inv() * B863.inv(), \\\n",
    "B863.inv() * C863 * A863.inv(), B863.inv() * A863.inv()  * C863"
   ]
  },
  {
   "cell_type": "code",
   "execution_count": 205,
   "metadata": {},
   "outputs": [
    {
     "data": {
      "image/png": "[encoded data removed]",
      "text/latex": [
       "$$\\left ( \\left[\\begin{matrix}1 & 2 & -3\\\\3 & 2 & -4\\\\2 & -1 & 0\\end{matrix}\\right], \\quad \\left[\\begin{matrix}1 & -3 & 0\\\\10 & 2 & 7\\\\10 & 7 & 8\\end{matrix}\\right]\\right )$$"
      ],
      "text/plain": [
       "⎛⎡1  2   -3⎤  ⎡1   -3  0⎤⎞\n",
       "⎜⎢         ⎥  ⎢         ⎥⎟\n",
       "⎜⎢3  2   -4⎥, ⎢10  2   7⎥⎟\n",
       "⎜⎢         ⎥  ⎢         ⎥⎟\n",
       "⎝⎣2  -1  0 ⎦  ⎣10  7   8⎦⎠"
      ]
     },
     "execution_count": 205,
     "metadata": {},
     "output_type": "execute_result"
    }
   ],
   "source": [
    "# 864\n",
    "# A864 * X864 = B864\n",
    "A864 = sympy.Matrix([[1,2,-3],[3,2,-4], [2,-1,0]])\n",
    "B864 = sympy.Matrix([[1,-3,0],[10,2,7],[10,7,8]])\n",
    "A864,  B864"
   ]
  },
  {
   "cell_type": "code",
   "execution_count": 208,
   "metadata": {},
   "outputs": [
    {
     "data": {
      "image/png": "[encoded data removed]",
      "text/latex": [
       "$$\\left[\\begin{matrix}-4 & 3 & -2\\\\-8 & 6 & -5\\\\-7 & 5 & -4\\end{matrix}\\right]$$"
      ],
      "text/plain": [
       "⎡-4  3  -2⎤\n",
       "⎢         ⎥\n",
       "⎢-8  6  -5⎥\n",
       "⎢         ⎥\n",
       "⎣-7  5  -4⎦"
      ]
     },
     "execution_count": 208,
     "metadata": {},
     "output_type": "execute_result"
    }
   ],
   "source": [
    "# Минором к элементу  aij определителя  n-го порядка называется \n",
    "# определитель (n-1)-го порядка, полученный из исходного вычеркиванием i-той строки и  j-того столбца.\n",
    "# Матрица миноров:\n",
    "A864.adjugate()"
   ]
  },
  {
   "cell_type": "code",
   "execution_count": 209,
   "metadata": {},
   "outputs": [
    {
     "data": {
      "image/png": "[encoded data removed]",
      "text/latex": [
       "$$1$$"
      ],
      "text/plain": [
       "1"
      ]
     },
     "execution_count": 209,
     "metadata": {},
     "output_type": "execute_result"
    }
   ],
   "source": [
    "A864.det()"
   ]
  },
  {
   "cell_type": "code",
   "execution_count": 210,
   "metadata": {},
   "outputs": [
    {
     "data": {
      "image/png": "[encoded data removed]",
      "text/latex": [
       "$$\\left[\\begin{matrix}6 & 4 & 5\\\\2 & 1 & 2\\\\3 & 3 & 3\\end{matrix}\\right]$$"
      ],
      "text/plain": [
       "⎡6  4  5⎤\n",
       "⎢       ⎥\n",
       "⎢2  1  2⎥\n",
       "⎢       ⎥\n",
       "⎣3  3  3⎦"
      ]
     },
     "execution_count": 210,
     "metadata": {},
     "output_type": "execute_result"
    }
   ],
   "source": [
    "# Ответ / Answer\n",
    "A864.inv() * B864"
   ]
  },
  {
   "cell_type": "code",
   "execution_count": 211,
   "metadata": {},
   "outputs": [
    {
     "data": {
      "image/png": "[encoded data removed]",
      "text/latex": [
       "$$\\left ( \\left[\\begin{matrix}5 & 3 & 1\\\\1 & -3 & -2\\\\-5 & 2 & 1\\end{matrix}\\right], \\quad \\left[\\begin{matrix}-8 & 3 & 0\\\\-5 & 9 & 0\\\\-2 & 15 & 0\\end{matrix}\\right]\\right )$$"
      ],
      "text/plain": [
       "⎛⎡5   3   1 ⎤  ⎡-8  3   0⎤⎞\n",
       "⎜⎢          ⎥  ⎢         ⎥⎟\n",
       "⎜⎢1   -3  -2⎥, ⎢-5  9   0⎥⎟\n",
       "⎜⎢          ⎥  ⎢         ⎥⎟\n",
       "⎝⎣-5  2   1 ⎦  ⎣-2  15  0⎦⎠"
      ]
     },
     "execution_count": 211,
     "metadata": {},
     "output_type": "execute_result"
    }
   ],
   "source": [
    "# 865\n",
    "# X865 * A865 = B865\n",
    "A865 = sympy.Matrix([[5,3,1],[1,-3,-2], [-5,2,1]])\n",
    "B865 = sympy.Matrix([[-8,3,0],[-5,9,0],[-2,15,0]])\n",
    "A865,  B865"
   ]
  },
  {
   "cell_type": "code",
   "execution_count": 212,
   "metadata": {},
   "outputs": [
    {
     "data": {
      "image/png": "[encoded data removed]",
      "text/latex": [
       "$$\\left[\\begin{matrix}1 & -1 & -3\\\\9 & 10 & 11\\\\-13 & -25 & -18\\end{matrix}\\right]$$"
      ],
      "text/plain": [
       "⎡ 1   -1   -3 ⎤\n",
       "⎢             ⎥\n",
       "⎢ 9   10   11 ⎥\n",
       "⎢             ⎥\n",
       "⎣-13  -25  -18⎦"
      ]
     },
     "execution_count": 212,
     "metadata": {},
     "output_type": "execute_result"
    }
   ],
   "source": [
    "A865.adjugate()"
   ]
  },
  {
   "cell_type": "code",
   "execution_count": 213,
   "metadata": {},
   "outputs": [
    {
     "data": {
      "image/png": "[encoded data removed]",
      "text/latex": [
       "$$19$$"
      ],
      "text/plain": [
       "19"
      ]
     },
     "execution_count": 213,
     "metadata": {},
     "output_type": "execute_result"
    }
   ],
   "source": [
    "A865.det()"
   ]
  },
  {
   "cell_type": "code",
   "execution_count": 214,
   "metadata": {},
   "outputs": [
    {
     "data": {
      "image/png": "[encoded data removed]",
      "text/latex": [
       "$$\\left[\\begin{matrix}19 & 38 & 57\\\\76 & 95 & 114\\\\133 & 152 & 171\\end{matrix}\\right]$$"
      ],
      "text/plain": [
       "⎡19   38   57 ⎤\n",
       "⎢             ⎥\n",
       "⎢76   95   114⎥\n",
       "⎢             ⎥\n",
       "⎣133  152  171⎦"
      ]
     },
     "execution_count": 214,
     "metadata": {},
     "output_type": "execute_result"
    }
   ],
   "source": [
    "B865 * A865.adjugate()"
   ]
  },
  {
   "cell_type": "code",
   "execution_count": 215,
   "metadata": {},
   "outputs": [
    {
     "data": {
      "image/png": "[encoded data removed]",
      "text/latex": [
       "$$\\left[\\begin{matrix}1 & 2 & 3\\\\4 & 5 & 6\\\\7 & 8 & 9\\end{matrix}\\right]$$"
      ],
      "text/plain": [
       "⎡1  2  3⎤\n",
       "⎢       ⎥\n",
       "⎢4  5  6⎥\n",
       "⎢       ⎥\n",
       "⎣7  8  9⎦"
      ]
     },
     "execution_count": 215,
     "metadata": {},
     "output_type": "execute_result"
    }
   ],
   "source": [
    "B865 * A865.adjugate() / A865.det()"
   ]
  },
  {
   "cell_type": "code",
   "execution_count": 216,
   "metadata": {},
   "outputs": [
    {
     "data": {
      "image/png": "[encoded data removed]",
      "text/latex": [
       "$$\\left[\\begin{matrix}1 & 2 & 3\\\\4 & 5 & 6\\\\7 & 8 & 9\\end{matrix}\\right]$$"
      ],
      "text/plain": [
       "⎡1  2  3⎤\n",
       "⎢       ⎥\n",
       "⎢4  5  6⎥\n",
       "⎢       ⎥\n",
       "⎣7  8  9⎦"
      ]
     },
     "execution_count": 216,
     "metadata": {},
     "output_type": "execute_result"
    }
   ],
   "source": [
    "# Ответ / Answer\n",
    "B865 * A865.inv()"
   ]
  },
  {
   "cell_type": "code",
   "execution_count": 221,
   "metadata": {},
   "outputs": [
    {
     "data": {
      "image/png": "[encoded data removed]",
      "text/latex": [
       "$$\\left ( \\left[\\begin{matrix}2 & -3 & 1\\\\4 & -5 & 2\\\\5 & -7 & 3\\end{matrix}\\right], \\quad \\left[\\begin{matrix}9 & 7 & 6\\\\1 & 1 & 2\\\\1 & 1 & 1\\end{matrix}\\right], \\quad \\left[\\begin{matrix}2 & 0 & -2\\\\18 & 12 & 9\\\\23 & 15 & 11\\end{matrix}\\right]\\right )$$"
      ],
      "text/plain": [
       "⎛⎡2  -3  1⎤  ⎡9  7  6⎤  ⎡2   0   -2⎤⎞\n",
       "⎜⎢        ⎥  ⎢       ⎥  ⎢          ⎥⎟\n",
       "⎜⎢4  -5  2⎥, ⎢1  1  2⎥, ⎢18  12  9 ⎥⎟\n",
       "⎜⎢        ⎥  ⎢       ⎥  ⎢          ⎥⎟\n",
       "⎝⎣5  -7  3⎦  ⎣1  1  1⎦  ⎣23  15  11⎦⎠"
      ]
     },
     "execution_count": 221,
     "metadata": {},
     "output_type": "execute_result"
    }
   ],
   "source": [
    "# 866\n",
    "# A866 * X866 * B866  = C866\n",
    "A866 = sympy.Matrix([[2,-3,1],[4,-5,2],[5,-7,3]])\n",
    "B866 = sympy.Matrix([[9,7,6],[1,1,2],[1,1,1]])\n",
    "C866 = sympy.Matrix([[2,0,-2],[18,12,9],[23,15,11]])\n",
    "A866,  B866, C866"
   ]
  },
  {
   "cell_type": "code",
   "execution_count": 222,
   "metadata": {},
   "outputs": [
    {
     "data": {
      "image/png": "[encoded data removed]",
      "text/latex": [
       "$$\\left ( \\left[\\begin{matrix}-6 & 3\\\\-4 & 2\\end{matrix}\\right], \\quad \\left[\\begin{matrix}6 & -3\\\\-4 & 2\\end{matrix}\\right]\\right )$$"
      ],
      "text/plain": [
       "⎛⎡-6  3⎤  ⎡6   -3⎤⎞\n",
       "⎜⎢     ⎥, ⎢      ⎥⎟\n",
       "⎝⎣-4  2⎦  ⎣-4  2 ⎦⎠"
      ]
     },
     "execution_count": 222,
     "metadata": {},
     "output_type": "execute_result"
    }
   ],
   "source": [
    "# 1)\n",
    "A867.adjugate(), B867.adjugate()"
   ]
  },
  {
   "cell_type": "code",
   "execution_count": 225,
   "metadata": {},
   "outputs": [
    {
     "data": {
      "image/png": "[encoded data removed]",
      "text/latex": [
       "$$\\left ( 1, \\quad -2\\right )$$"
      ],
      "text/plain": [
       "(1, -2)"
      ]
     },
     "execution_count": 225,
     "metadata": {},
     "output_type": "execute_result"
    }
   ],
   "source": [
    "# 2)\n",
    "A866.det(), B866.det()"
   ]
  },
  {
   "cell_type": "code",
   "execution_count": 226,
   "metadata": {},
   "outputs": [
    {
     "data": {
      "image/png": "[encoded data removed]",
      "text/latex": [
       "$$\\left[\\begin{matrix}11 & 9 & 9\\\\14 & 12 & 13\\\\22 & 18 & 19\\end{matrix}\\right]$$"
      ],
      "text/plain": [
       "⎡11  9   9 ⎤\n",
       "⎢          ⎥\n",
       "⎢14  12  13⎥\n",
       "⎢          ⎥\n",
       "⎣22  18  19⎦"
      ]
     },
     "execution_count": 226,
     "metadata": {},
     "output_type": "execute_result"
    }
   ],
   "source": [
    "# 3)\n",
    "A866.adjugate() * C866"
   ]
  },
  {
   "cell_type": "code",
   "execution_count": 228,
   "metadata": {},
   "outputs": [
    {
     "data": {
      "image/png": "[encoded data removed]",
      "text/latex": [
       "$$\\left[\\begin{matrix}11 & 9 & 9\\\\14 & 12 & 13\\\\22 & 18 & 19\\end{matrix}\\right]$$"
      ],
      "text/plain": [
       "⎡11  9   9 ⎤\n",
       "⎢          ⎥\n",
       "⎢14  12  13⎥\n",
       "⎢          ⎥\n",
       "⎣22  18  19⎦"
      ]
     },
     "execution_count": 228,
     "metadata": {},
     "output_type": "execute_result"
    }
   ],
   "source": [
    "# 4)\n",
    "A866.adjugate() * C866 / A866.det()"
   ]
  },
  {
   "cell_type": "code",
   "execution_count": 229,
   "metadata": {},
   "outputs": [
    {
     "data": {
      "image/png": "[encoded data removed]",
      "text/latex": [
       "$$\\left[\\begin{matrix}-2 & -2 & -2\\\\-2 & -4 & -6\\\\-4 & -6 & -2\\end{matrix}\\right]$$"
      ],
      "text/plain": [
       "⎡-2  -2  -2⎤\n",
       "⎢          ⎥\n",
       "⎢-2  -4  -6⎥\n",
       "⎢          ⎥\n",
       "⎣-4  -6  -2⎦"
      ]
     },
     "execution_count": 229,
     "metadata": {},
     "output_type": "execute_result"
    }
   ],
   "source": [
    "# 5)\n",
    "A866.adjugate() * C866 / A866.det() * B866.adjugate()"
   ]
  },
  {
   "cell_type": "code",
   "execution_count": 230,
   "metadata": {},
   "outputs": [
    {
     "data": {
      "image/png": "[encoded data removed]",
      "text/latex": [
       "$$\\left[\\begin{matrix}1 & 1 & 1\\\\1 & 2 & 3\\\\2 & 3 & 1\\end{matrix}\\right]$$"
      ],
      "text/plain": [
       "⎡1  1  1⎤\n",
       "⎢       ⎥\n",
       "⎢1  2  3⎥\n",
       "⎢       ⎥\n",
       "⎣2  3  1⎦"
      ]
     },
     "execution_count": 230,
     "metadata": {},
     "output_type": "execute_result"
    }
   ],
   "source": [
    "# 6)\n",
    "A866.adjugate() * C866 / A866.det() * B866.adjugate() / B866.det()"
   ]
  },
  {
   "cell_type": "code",
   "execution_count": 231,
   "metadata": {},
   "outputs": [
    {
     "data": {
      "image/png": "[encoded data removed]",
      "text/latex": [
       "$$\\left[\\begin{matrix}1 & 1 & 1\\\\1 & 2 & 3\\\\2 & 3 & 1\\end{matrix}\\right]$$"
      ],
      "text/plain": [
       "⎡1  1  1⎤\n",
       "⎢       ⎥\n",
       "⎢1  2  3⎥\n",
       "⎢       ⎥\n",
       "⎣2  3  1⎦"
      ]
     },
     "execution_count": 231,
     "metadata": {},
     "output_type": "execute_result"
    }
   ],
   "source": [
    "# Ответ / Answer\n",
    "A866.inv() * C866 *  B866.inv() "
   ]
  },
  {
   "cell_type": "code",
   "execution_count": 257,
   "metadata": {},
   "outputs": [
    {
     "data": {
      "image/png": "[encoded data removed]",
      "text/latex": [
       "$$\\left ( \\left[\\begin{matrix}2 X_{0, 0} - 3 X_{1, 0} & 2 X_{0, 1} - 3 X_{1, 1}\\\\4 X_{0, 0} - 6 X_{1, 0} & 4 X_{0, 1} - 6 X_{1, 1}\\end{matrix}\\right], \\quad \\left[\\begin{matrix}2 & 3\\\\4 & 6\\end{matrix}\\right]\\right )$$"
      ],
      "text/plain": [
       "⎛⎡2⋅X₀₀ - 3⋅X₁₀  2⋅X₀₁ - 3⋅X₁₁⎤  ⎡2  3⎤⎞\n",
       "⎜⎢                            ⎥, ⎢    ⎥⎟\n",
       "⎝⎣4⋅X₀₀ - 6⋅X₁₀  4⋅X₀₁ - 6⋅X₁₁⎦  ⎣4  6⎦⎠"
      ]
     },
     "execution_count": 257,
     "metadata": {},
     "output_type": "execute_result"
    }
   ],
   "source": [
    "# 867\n",
    "# A867 * X867 = B867\n",
    "A867 = sympy.Matrix([[2,-3],[4,-6]])\n",
    "B867 = sympy.Matrix([[2,3],[4,6]])\n",
    "X867 = sympy.MatrixSymbol('X', 2, 2)\n",
    "A867 * X867.as_explicit(),  B867"
   ]
  },
  {
   "cell_type": "code",
   "execution_count": 258,
   "metadata": {},
   "outputs": [
    {
     "data": {
      "image/png": "[encoded data removed]",
      "text/latex": [
       "$$0$$"
      ],
      "text/plain": [
       "0"
      ]
     },
     "execution_count": 258,
     "metadata": {},
     "output_type": "execute_result"
    }
   ],
   "source": [
    "A867.det()"
   ]
  },
  {
   "cell_type": "code",
   "execution_count": 267,
   "metadata": {},
   "outputs": [
    {
     "data": {
      "text/latex": [
       "$\n",
       "\\begin{cases}\n",
       "2 * X_{0,0} - 3 * X_{1,0} = 2 \\\\\n",
       "4 * X_{0,0} - 6 * X_{1,0} = 4 \\\\\n",
       "2 * X_{0,1} - 3 * X_{1,1} = 3 \\\\\n",
       "4 * X_{0,1} - 6 * X_{1,1} = 6\n",
       "\\end{cases} \\implies\n",
       " \\begin{pmatrix}\n",
       " 1.5 * X_{1,0} + 1& 1.5* X_{1,1} + 1.5  \\\\\n",
       "X_{1,0} & X_{1,1}\n",
       " \\end{pmatrix}, \\forall X_{1,0}, X_{1,1}\n",
       "$"
      ],
      "text/plain": [
       "<IPython.core.display.Latex object>"
      ]
     },
     "metadata": {},
     "output_type": "display_data"
    }
   ],
   "source": [
    "%%latex\n",
    "$\n",
    "\\begin{cases}\n",
    "2 * X_{0,0} - 3 * X_{1,0} = 2 \\\\\n",
    "4 * X_{0,0} - 6 * X_{1,0} = 4 \\\\\n",
    "2 * X_{0,1} - 3 * X_{1,1} = 3 \\\\\n",
    "4 * X_{0,1} - 6 * X_{1,1} = 6\n",
    "\\end{cases} \\implies\n",
    " \\begin{pmatrix}\n",
    " 1.5 * X_{1,0} + 1& 1.5* X_{1,1} + 1.5  \\\\\n",
    "X_{1,0} & X_{1,1}\n",
    " \\end{pmatrix}, \\forall X_{1,0}, X_{1,1}\n",
    "$"
   ]
  },
  {
   "cell_type": "code",
   "execution_count": 243,
   "metadata": {},
   "outputs": [
    {
     "data": {
      "image/png": "[encoded data removed]",
      "text/latex": [
       "$$\\left \\{ a : \\frac{3 b}{2} - c + \\frac{3}{2}\\right \\}$$"
      ],
      "text/plain": [
       "⎧   3⋅b       3⎫\n",
       "⎨a: ─── - c + ─⎬\n",
       "⎩    2        2⎭"
      ]
     },
     "execution_count": 243,
     "metadata": {},
     "output_type": "execute_result"
    }
   ],
   "source": [
    "from sympy.abc import a,b,c,d\n",
    "system = sympy.Matrix([[2,-3, 2, 3],[4,-6, 4, 6] ])\n",
    "sympy.solve_linear_system(system, a,b,c,d)"
   ]
  },
  {
   "cell_type": "code",
   "execution_count": 269,
   "metadata": {},
   "outputs": [
    {
     "data": {
      "image/png": "[encoded data removed]",
      "text/latex": [
       "$$\\left ( \\left[\\begin{matrix}3 X_{0, 0} + 4 X_{0, 1} & 6 X_{0, 0} + 8 X_{0, 1}\\\\3 X_{1, 0} + 4 X_{1, 1} & 6 X_{1, 0} + 8 X_{1, 1}\\end{matrix}\\right], \\quad \\left[\\begin{matrix}2 & 4\\\\9 & 18\\end{matrix}\\right]\\right )$$"
      ],
      "text/plain": [
       "⎛⎡3⋅X₀₀ + 4⋅X₀₁  6⋅X₀₀ + 8⋅X₀₁⎤  ⎡2  4 ⎤⎞\n",
       "⎜⎢                            ⎥, ⎢     ⎥⎟\n",
       "⎝⎣3⋅X₁₀ + 4⋅X₁₁  6⋅X₁₀ + 8⋅X₁₁⎦  ⎣9  18⎦⎠"
      ]
     },
     "execution_count": 269,
     "metadata": {},
     "output_type": "execute_result"
    }
   ],
   "source": [
    "# 868\n",
    "# X868 * A868 = B868\n",
    "A868 = sympy.Matrix([[3,6],[4,8]])\n",
    "B868 = sympy.Matrix([[2,4],[9,18]])\n",
    "X868 = sympy.MatrixSymbol('X', 2, 2)\n",
    "(X868 * A868).as_explicit(),  B868"
   ]
  },
  {
   "cell_type": "code",
   "execution_count": 234,
   "metadata": {},
   "outputs": [
    {
     "data": {
      "image/png": "[encoded data removed]",
      "text/latex": [
       "$$0$$"
      ],
      "text/plain": [
       "0"
      ]
     },
     "execution_count": 234,
     "metadata": {},
     "output_type": "execute_result"
    }
   ],
   "source": [
    "A868.det()"
   ]
  },
  {
   "cell_type": "code",
   "execution_count": 272,
   "metadata": {},
   "outputs": [
    {
     "data": {
      "text/latex": [
       "$\n",
       "\\begin{cases}\n",
       "3 * X_{0,0} + 4 * X_{1,0} = 2 \\\\\n",
       "6 * X_{0,0} + 8 * X_{1,0} = 4 \\\\\n",
       "3 * X_{0,1} + 4 * X_{1,1} = 9 \\\\\n",
       "6 * X_{0,1} + 8 * X_{1,1} = 18\n",
       "\\end{cases} \\implies\n",
       " \\begin{pmatrix}\n",
       "X_{0,0} & 0.5 - 0.75 * X_{0,0}  \\\\\n",
       "X_{0,1} & 2.25 - 0.75 * X_{0,1}\n",
       " \\end{pmatrix}, \\forall X_{0,0}, X_{0,1}\n",
       "$"
      ],
      "text/plain": [
       "<IPython.core.display.Latex object>"
      ]
     },
     "metadata": {},
     "output_type": "display_data"
    }
   ],
   "source": [
    "%%latex\n",
    "$\n",
    "\\begin{cases}\n",
    "3 * X_{0,0} + 4 * X_{1,0} = 2 \\\\\n",
    "6 * X_{0,0} + 8 * X_{1,0} = 4 \\\\\n",
    "3 * X_{0,1} + 4 * X_{1,1} = 9 \\\\\n",
    "6 * X_{0,1} + 8 * X_{1,1} = 18\n",
    "\\end{cases} \\implies\n",
    " \\begin{pmatrix}\n",
    "X_{0,0} & 0.5 - 0.75 * X_{0,0}  \\\\\n",
    "X_{0,1} & 2.25 - 0.75 * X_{0,1}\n",
    " \\end{pmatrix}, \\forall X_{0,0}, X_{0,1}\n",
    "$"
   ]
  },
  {
   "cell_type": "code",
   "execution_count": 236,
   "metadata": {},
   "outputs": [
    {
     "data": {
      "image/png": "[encoded data removed]",
      "text/latex": [
       "$$\\left ( \\left[\\begin{matrix}4 & 6\\\\6 & 9\\end{matrix}\\right], \\quad \\left[\\begin{matrix}1 & 1\\\\1 & 1\\end{matrix}\\right]\\right )$$"
      ],
      "text/plain": [
       "⎛⎡4  6⎤  ⎡1  1⎤⎞\n",
       "⎜⎢    ⎥, ⎢    ⎥⎟\n",
       "⎝⎣6  9⎦  ⎣1  1⎦⎠"
      ]
     },
     "execution_count": 236,
     "metadata": {},
     "output_type": "execute_result"
    }
   ],
   "source": [
    "# 869\n",
    "# A869 * X869 = B869\n",
    "A869 = sympy.Matrix([[4,6],[6,9]])\n",
    "B869 = sympy.Matrix([[1,1],[1,1]])\n",
    "A869,  B869"
   ]
  },
  {
   "cell_type": "code",
   "execution_count": 237,
   "metadata": {},
   "outputs": [
    {
     "data": {
      "image/png": "[encoded data removed]",
      "text/latex": [
       "$$0$$"
      ],
      "text/plain": [
       "0"
      ]
     },
     "execution_count": 237,
     "metadata": {},
     "output_type": "execute_result"
    }
   ],
   "source": [
    "A869.det()"
   ]
  },
  {
   "cell_type": "code",
   "execution_count": null,
   "metadata": {},
   "outputs": [],
   "source": []
  },
  {
   "cell_type": "code",
   "execution_count": 238,
   "metadata": {},
   "outputs": [
    {
     "data": {
      "image/png": "[encoded data removed]",
      "text/latex": [
       "$$\\left ( \\left[\\begin{matrix}3 & -1 & 2\\\\4 & -3 & 3\\\\1 & 3 & 0\\end{matrix}\\right], \\quad \\left[\\begin{matrix}3 & 9 & 7\\\\1 & 11 & 7\\\\7 & 5 & 7\\end{matrix}\\right]\\right )$$"
      ],
      "text/plain": [
       "⎛⎡3  -1  2⎤  ⎡3  9   7⎤⎞\n",
       "⎜⎢        ⎥  ⎢        ⎥⎟\n",
       "⎜⎢4  -3  3⎥, ⎢1  11  7⎥⎟\n",
       "⎜⎢        ⎥  ⎢        ⎥⎟\n",
       "⎝⎣1  3   0⎦  ⎣7  5   7⎦⎠"
      ]
     },
     "execution_count": 238,
     "metadata": {},
     "output_type": "execute_result"
    }
   ],
   "source": [
    "# 870\n",
    "# A870 * X870 = B870\n",
    "A870 = sympy.Matrix([[3,-1,2],[4,-3,3],[1,3,0]])\n",
    "B870 = sympy.Matrix([[3,9,7],[1,11,7],[7,5,7]])\n",
    "A870,  B870"
   ]
  },
  {
   "cell_type": "code",
   "execution_count": 239,
   "metadata": {},
   "outputs": [
    {
     "data": {
      "image/png": "[encoded data removed]",
      "text/latex": [
       "$$0$$"
      ],
      "text/plain": [
       "0"
      ]
     },
     "execution_count": 239,
     "metadata": {},
     "output_type": "execute_result"
    }
   ],
   "source": [
    "A870.det()"
   ]
  },
  {
   "cell_type": "code",
   "execution_count": null,
   "metadata": {},
   "outputs": [],
   "source": []
  },
  {
   "cell_type": "markdown",
   "metadata": {},
   "source": [
    "# Типовой расчет 2 / Standard Calculation 2"
   ]
  },
  {
   "cell_type": "markdown",
   "metadata": {},
   "source": [
    "## Постановка  задачи / Formulation of the problem:"
   ]
  },
  {
   "cell_type": "code",
   "execution_count": null,
   "metadata": {},
   "outputs": [],
   "source": [
    "%%latex\n",
    "$ $"
   ]
  },
  {
   "cell_type": "markdown",
   "metadata": {},
   "source": [
    "## Решение / Decisions:"
   ]
  }
 ],
 "metadata": {
  "kernelspec": {
   "display_name": "Python 3",
   "language": "python",
   "name": "python3"
  },
  "language_info": {
   "codemirror_mode": {
    "name": "ipython",
    "version": 3
   },
   "file_extension": ".py",
   "mimetype": "text/x-python",
   "name": "python",
   "nbconvert_exporter": "python",
   "pygments_lexer": "ipython3",
   "version": "3.6.4"
  }
 },
 "nbformat": 4,
 "nbformat_minor": 2
}
