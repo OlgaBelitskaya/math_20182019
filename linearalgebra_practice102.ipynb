{
 "cells": [
  {
   "cell_type": "code",
   "execution_count": 2,
   "metadata": {},
   "outputs": [
    {
     "data": {
      "text/html": [
       "<style>\n",
       "@import url('https://fonts.googleapis.com/css?family=Roboto&effect=3d|brick-sign|');\n",
       "span {font-family:Roboto; color:black; text-shadow:4px 4px 4px #aaa;}  \n",
       "h1,h2 {font-family:Roboto; color:slategray; text-shadow:4px 4px 4px #aaa;} \n",
       "div.output_subarea, div.output_area pre{font-family:Roboto; font_size:120%; color:darkblue;}\n",
       "</style> "
      ],
      "text/plain": [
       "<IPython.core.display.HTML object>"
      ]
     },
     "metadata": {},
     "output_type": "display_data"
    }
   ],
   "source": [
    "%%html\n",
    "<style>\n",
    "@import url('https://fonts.googleapis.com/css?family=Roboto&effect=3d|brick-sign|');\n",
    "span {font-family:Roboto; color:black; text-shadow:4px 4px 4px #aaa;}  \n",
    "h1,h2 {font-family:Roboto; color:slategray; text-shadow:4px 4px 4px #aaa;} \n",
    "div.output_subarea, div.output_area pre{font-family:Roboto; font_size:120%; color:darkblue;}\n",
    "</style> "
   ]
  },
  {
   "cell_type": "code",
   "execution_count": 3,
   "metadata": {},
   "outputs": [],
   "source": [
    "import sympy\n",
    "sympy.init_printing(use_unicode=True)\n",
    "import numpy"
   ]
  },
  {
   "cell_type": "code",
   "execution_count": 4,
   "metadata": {},
   "outputs": [],
   "source": [
    "def minor(m,i,j):\n",
    "    return [row[:j] + row[j+1:] for row in (m[:i] + m[i+1:])]\n",
    "\n",
    "def deternminant(m):\n",
    "    if len(m) == 2:\n",
    "        return m[0][0] * m[1][1] - m[0][1] * m[1][0]\n",
    "\n",
    "    det = 0\n",
    "    for c in range(len(m)):\n",
    "        det += ((-1) ** c) * m[0][c] * deternminant(minor(m,0,c))\n",
    "    return det"
   ]
  },
  {
   "cell_type": "markdown",
   "metadata": {},
   "source": [
    "# Задачи / Problems"
   ]
  },
  {
   "cell_type": "markdown",
   "metadata": {},
   "source": [
    "Матрица знаков для определителя 3-ого порядка / The matrix of signs for the determinant of the 3d order"
   ]
  },
  {
   "cell_type": "code",
   "execution_count": 5,
   "metadata": {},
   "outputs": [
    {
     "data": {
      "text/latex": [
       "$ \n",
       "SIGN_{(3,3)} = \n",
       " \\begin{pmatrix}\n",
       "+ & - & +  \\\\\n",
       "- & + & - \\\\\n",
       "+ & - & +  \\\\\n",
       " \\end{pmatrix}\n",
       "$"
      ],
      "text/plain": [
       "<IPython.core.display.Latex object>"
      ]
     },
     "metadata": {},
     "output_type": "display_data"
    }
   ],
   "source": [
    "%%latex\n",
    "$ \n",
    "SIGN_{(3,3)} = \n",
    " \\begin{pmatrix}\n",
    "+ & - & +  \\\\\n",
    "- & + & - \\\\\n",
    "+ & - & +  \\\\\n",
    " \\end{pmatrix}\n",
    "$"
   ]
  },
  {
   "cell_type": "markdown",
   "metadata": {},
   "source": [
    "Матрица знаков для определителя 4-ого порядка / The matrix of signs for the determinant of the 4th order"
   ]
  },
  {
   "cell_type": "code",
   "execution_count": 6,
   "metadata": {},
   "outputs": [
    {
     "data": {
      "text/latex": [
       "$ \n",
       "SIGN_{(4,4)} = \n",
       " \\begin{pmatrix}\n",
       "+ & - & + & - \\\\\n",
       "- & + & - & + \\\\\n",
       "+ & - & + & - \\\\\n",
       "- & + & - & +\n",
       " \\end{pmatrix}\n",
       "$"
      ],
      "text/plain": [
       "<IPython.core.display.Latex object>"
      ]
     },
     "metadata": {},
     "output_type": "display_data"
    }
   ],
   "source": [
    "%%latex\n",
    "$ \n",
    "SIGN_{(4,4)} = \n",
    " \\begin{pmatrix}\n",
    "+ & - & + & - \\\\\n",
    "- & + & - & + \\\\\n",
    "+ & - & + & - \\\\\n",
    "- & + & - & +\n",
    " \\end{pmatrix}\n",
    "$"
   ]
  },
  {
   "cell_type": "markdown",
   "metadata": {},
   "source": [
    "Пример расчета определителя 4-ого порядка по первому столбцу / Example for calculating the 4th order determinant by the first column"
   ]
  },
  {
   "cell_type": "code",
   "execution_count": 7,
   "metadata": {},
   "outputs": [
    {
     "data": {
      "text/latex": [
       "$\n",
       "A_{(4,4)} = \n",
       " \\begin{pmatrix}\n",
       "a_{11} & a_{12}& a_{13} & a_{14} \\\\\n",
       "a_{21} & a_{22}& a_{23} & a_{24} \\\\\n",
       "a_{31} & a_{32}& a_{33} & a_{34} \\\\\n",
       "a_{41} & a_{42}& a_{43} & a_{44} \n",
       " \\end{pmatrix} \\\\\n",
       "\\Delta = \\\\\n",
       "+ \\ a_{11} * (a_{22} * a_{33} * a_{44}  + a_{23} * a_{34} * a_{42}  + a_{32} * a_{43} * a_{24}  \\\\\n",
       "\\ \\ \\  \\ \\ \\ \\ \\ \\ \\ \\ - a_{42} * a_{33} * a_{24} - a_{32} * a_{23} * a_{44} - a_{43} * a_{34} * a_{22}) \\\\\n",
       "- \\ a_{21} * (a_{12} * a_{33} * a_{44}  + a_{13} * a_{34} * a_{42}  + a_{32} * a_{43} * a_{14}  \\\\\n",
       "\\ \\ \\  \\ \\ \\ \\ \\ \\ \\ \\ - a_{42} * a_{33} * a_{14} - a_{32} * a_{13} * a_{44} - a_{43} * a_{34} * a_{12}) \\\\\n",
       "+ \\ a_{31} *  (a_{12} * a_{23} * a_{44}  + a_{13} * a_{24} * a_{42}  + a_{22} * a_{43} * a_{14}  \\\\\n",
       "\\ \\ \\  \\ \\ \\ \\ \\ \\ \\ \\ - a_{42} * a_{23} * a_{14} - a_{22} * a_{13} * a_{44} - a_{43} * a_{24}* a_{12}) \\\\\n",
       "- \\ a_{41} * (a_{12} * a_{23} * a_{34}  + a_{13} * a_{24} * a_{32}  + a_{22} * a_{33} * a_{14}  \\\\\n",
       "\\ \\ \\  \\ \\ \\ \\ \\ \\ \\ \\ - a_{32} * a_{23} * a_{14} - a_{22} * a_{13} * a_{34} - a_{33} * a_{24}* a_{12})\n",
       "$"
      ],
      "text/plain": [
       "<IPython.core.display.Latex object>"
      ]
     },
     "metadata": {},
     "output_type": "display_data"
    }
   ],
   "source": [
    "%%latex\n",
    "$\n",
    "A_{(4,4)} = \n",
    " \\begin{pmatrix}\n",
    "a_{11} & a_{12}& a_{13} & a_{14} \\\\\n",
    "a_{21} & a_{22}& a_{23} & a_{24} \\\\\n",
    "a_{31} & a_{32}& a_{33} & a_{34} \\\\\n",
    "a_{41} & a_{42}& a_{43} & a_{44} \n",
    " \\end{pmatrix} \\\\\n",
    "\\Delta = \\\\\n",
    "+ \\ a_{11} * (a_{22} * a_{33} * a_{44}  + a_{23} * a_{34} * a_{42}  + a_{32} * a_{43} * a_{24}  \\\\\n",
    "\\ \\ \\  \\ \\ \\ \\ \\ \\ \\ \\ - a_{42} * a_{33} * a_{24} - a_{32} * a_{23} * a_{44} - a_{43} * a_{34} * a_{22}) \\\\\n",
    "- \\ a_{21} * (a_{12} * a_{33} * a_{44}  + a_{13} * a_{34} * a_{42}  + a_{32} * a_{43} * a_{14}  \\\\\n",
    "\\ \\ \\  \\ \\ \\ \\ \\ \\ \\ \\ - a_{42} * a_{33} * a_{14} - a_{32} * a_{13} * a_{44} - a_{43} * a_{34} * a_{12}) \\\\\n",
    "+ \\ a_{31} *  (a_{12} * a_{23} * a_{44}  + a_{13} * a_{24} * a_{42}  + a_{22} * a_{43} * a_{14}  \\\\\n",
    "\\ \\ \\  \\ \\ \\ \\ \\ \\ \\ \\ - a_{42} * a_{23} * a_{14} - a_{22} * a_{13} * a_{44} - a_{43} * a_{24}* a_{12}) \\\\\n",
    "- \\ a_{41} * (a_{12} * a_{23} * a_{34}  + a_{13} * a_{24} * a_{32}  + a_{22} * a_{33} * a_{14}  \\\\\n",
    "\\ \\ \\  \\ \\ \\ \\ \\ \\ \\ \\ - a_{32} * a_{23} * a_{14} - a_{22} * a_{13} * a_{34} - a_{33} * a_{24}* a_{12})\n",
    "$"
   ]
  },
  {
   "cell_type": "markdown",
   "metadata": {},
   "source": [
    "## Иллюстрированные примеры вычисления определителей: /\n",
    "## Illustrated examples of calculating determinants:\n",
    "[Определитель 4-ого порядка](https://www.quora.com/How-do-I-find-the-determinant-of-6x6-matrix-using-C-Programming)\n",
    "![](math_images/la102_01.png)\n",
    "[Определитель 3-его порядка](http://www.sharetechnote.com/html/Handbook_EngMath_Matrix_Determinent.html)\n",
    "![№1](math_images/la102_02.png) ![№2](math_images/la102_03.png)"
   ]
  },
  {
   "cell_type": "markdown",
   "metadata": {},
   "source": [
    "[Проскуряков И.В. Сборник задач по линейной алгебре](http://elibrary.sgu.ru/uch_lit/560.pdf)"
   ]
  },
  {
   "cell_type": "code",
   "execution_count": 8,
   "metadata": {},
   "outputs": [
    {
     "data": {
      "image/png": "[encoded data removed]",
      "text/latex": [
       "$$\\left ( \\left[\\begin{matrix}0 & 1 & 1 & 1\\\\1 & 0 & 1 & 1\\\\1 & 1 & 0 & 1\\\\1 & 1 & 1 & 0\\end{matrix}\\right], \\quad -3\\right )$$"
      ],
      "text/plain": [
       "⎛⎡0  1  1  1⎤    ⎞\n",
       "⎜⎢          ⎥    ⎟\n",
       "⎜⎢1  0  1  1⎥    ⎟\n",
       "⎜⎢          ⎥, -3⎟\n",
       "⎜⎢1  1  0  1⎥    ⎟\n",
       "⎜⎢          ⎥    ⎟\n",
       "⎝⎣1  1  1  0⎦    ⎠"
      ]
     },
     "execution_count": 8,
     "metadata": {},
     "output_type": "execute_result"
    }
   ],
   "source": [
    "# 258\n",
    "A258 = sympy.Matrix([[0,1,1,1], [1,0,1,1],[1,1,0,1],[1,1,1,0]])\n",
    "A258, A258.det()"
   ]
  },
  {
   "cell_type": "code",
   "execution_count": 9,
   "metadata": {},
   "outputs": [
    {
     "data": {
      "image/png": "[encoded data removed]",
      "text/latex": [
       "$$\\left ( \\left[\\begin{matrix}0 & 1 & 1 & 1\\\\1 & -1 & 0 & 0\\\\1 & 0 & -1 & 0\\\\1 & 0 & 0 & -1\\end{matrix}\\right], \\quad -3\\right )$$"
      ],
      "text/plain": [
       "⎛⎡0  1   1   1 ⎤    ⎞\n",
       "⎜⎢             ⎥    ⎟\n",
       "⎜⎢1  -1  0   0 ⎥    ⎟\n",
       "⎜⎢             ⎥, -3⎟\n",
       "⎜⎢1  0   -1  0 ⎥    ⎟\n",
       "⎜⎢             ⎥    ⎟\n",
       "⎝⎣1  0   0   -1⎦    ⎠"
      ]
     },
     "execution_count": 9,
     "metadata": {},
     "output_type": "execute_result"
    }
   ],
   "source": [
    "# Пример устного расчета\n",
    "# Из 2,3,4  столбца вычтем 1-ый\n",
    "A258 = sympy.Matrix([[0,1,1,1], [1,-1,0,0],[1,0,-1,0],[1,0,0,-1]])\n",
    "A258, A258.det()"
   ]
  },
  {
   "cell_type": "code",
   "execution_count": 10,
   "metadata": {},
   "outputs": [
    {
     "data": {
      "image/png": "[encoded data removed]",
      "text/latex": [
       "$$\\left ( \\left[\\begin{matrix}1 & -1 & 0\\\\1 & 0 & -1\\\\1 & 0 & 0\\end{matrix}\\right], \\quad \\left[\\begin{matrix}0 & 1 & 1\\\\1 & -1 & 0\\\\1 & 0 & -1\\end{matrix}\\right], \\quad -3\\right )$$"
      ],
      "text/plain": [
       "⎛⎡1  -1  0 ⎤  ⎡0  1   1 ⎤    ⎞\n",
       "⎜⎢         ⎥  ⎢         ⎥    ⎟\n",
       "⎜⎢1  0   -1⎥, ⎢1  -1  0 ⎥, -3⎟\n",
       "⎜⎢         ⎥  ⎢         ⎥    ⎟\n",
       "⎝⎣1  0   0 ⎦  ⎣1  0   -1⎦    ⎠"
      ]
     },
     "execution_count": 10,
     "metadata": {},
     "output_type": "execute_result"
    }
   ],
   "source": [
    "# Разложим по 4-му столбцу\n",
    "A258_1 = sympy.Matrix([[1,-1,0],[1,0,-1],[1,0,0]])\n",
    "A258_2 = sympy.Matrix([[0,1,1],[1,-1,0],[1,0,-1]])\n",
    "A258_1, A258_2, - 1 * A258_1.det() + (-1) * A258_2.det()"
   ]
  },
  {
   "cell_type": "code",
   "execution_count": 11,
   "metadata": {},
   "outputs": [
    {
     "data": {
      "image/png": "[encoded data removed]",
      "text/latex": [
       "$$\\left ( \\left[\\begin{matrix}-1 & 0\\\\0 & -1\\end{matrix}\\right], \\quad \\left[\\begin{matrix}1 & 0\\\\1 & -1\\end{matrix}\\right], \\quad \\left[\\begin{matrix}1 & -1\\\\1 & 0\\end{matrix}\\right], \\quad -3\\right )$$"
      ],
      "text/plain": [
       "⎛⎡-1  0 ⎤  ⎡1  0 ⎤  ⎡1  -1⎤    ⎞\n",
       "⎜⎢      ⎥, ⎢     ⎥, ⎢     ⎥, -3⎟\n",
       "⎝⎣0   -1⎦  ⎣1  -1⎦  ⎣1  0 ⎦    ⎠"
      ]
     },
     "execution_count": 11,
     "metadata": {},
     "output_type": "execute_result"
    }
   ],
   "source": [
    "# Разложим A258_1, A258_2 по последней строке\n",
    "A258_11 = sympy.Matrix([[-1,0],[0,-1]])\n",
    "A258_21= sympy.Matrix([[1,0],[1,-1]])\n",
    "A258_22= sympy.Matrix([[1,-1],[1,0]])\n",
    "A258_11, A258_21, A258_22, -1 * (1 * A258_11.det() - 1 * A258_21.det() + 1 * A258_22.det())"
   ]
  },
  {
   "cell_type": "code",
   "execution_count": 12,
   "metadata": {},
   "outputs": [
    {
     "data": {
      "image/png": "[encoded data removed]",
      "text/latex": [
       "$$-3$$"
      ],
      "text/plain": [
       "-3"
      ]
     },
     "execution_count": 12,
     "metadata": {},
     "output_type": "execute_result"
    }
   ],
   "source": [
    "-1 * (1 * (-1 * (-1) - 0 * 0) - 1 * (1 * (-1) - 1 * 0) + 1 * (1 * 0 - 1 *  (-1)))"
   ]
  },
  {
   "cell_type": "code",
   "execution_count": 13,
   "metadata": {},
   "outputs": [
    {
     "data": {
      "image/png": "[encoded data removed]",
      "text/latex": [
       "$$-3$$"
      ],
      "text/plain": [
       "-3"
      ]
     },
     "execution_count": 13,
     "metadata": {},
     "output_type": "execute_result"
    }
   ],
   "source": [
    "deternminant([[0,1,1,1], [1,0,1,1],[1,1,0,1],[1,1,1,0]])"
   ]
  },
  {
   "cell_type": "code",
   "execution_count": 14,
   "metadata": {},
   "outputs": [
    {
     "data": {
      "image/png": "[encoded data removed]",
      "text/latex": [
       "$$\\left ( \\left[\\begin{matrix}2 & -5 & 1 & 2\\\\-3 & 7 & -1 & 4\\\\5 & -9 & 2 & 7\\\\4 & -6 & 1 & 2\\end{matrix}\\right], \\quad -9\\right )$$"
      ],
      "text/plain": [
       "⎛⎡2   -5  1   2⎤    ⎞\n",
       "⎜⎢             ⎥    ⎟\n",
       "⎜⎢-3  7   -1  4⎥    ⎟\n",
       "⎜⎢             ⎥, -9⎟\n",
       "⎜⎢5   -9  2   7⎥    ⎟\n",
       "⎜⎢             ⎥    ⎟\n",
       "⎝⎣4   -6  1   2⎦    ⎠"
      ]
     },
     "execution_count": 14,
     "metadata": {},
     "output_type": "execute_result"
    }
   ],
   "source": [
    "# 259\n",
    "A259 = sympy.Matrix([[2,-5,1,2], [-3,7,-1,4],[5,-9,2,7],[4,-6,1,2]])\n",
    "A259, A259.det()"
   ]
  },
  {
   "cell_type": "code",
   "execution_count": 35,
   "metadata": {},
   "outputs": [
    {
     "data": {
      "image/png": "[encoded data removed]",
      "text/latex": [
       "$$\\left ( \\left[\\begin{matrix}-2 & 1 & 0 & 0\\\\1 & 1 & 0 & 6\\\\-3 & 3 & 0 & 3\\\\4 & -6 & 1 & 2\\end{matrix}\\right], \\quad -9\\right )$$"
      ],
      "text/plain": [
       "⎛⎡-2  1   0  0⎤    ⎞\n",
       "⎜⎢            ⎥    ⎟\n",
       "⎜⎢1   1   0  6⎥    ⎟\n",
       "⎜⎢            ⎥, -9⎟\n",
       "⎜⎢-3  3   0  3⎥    ⎟\n",
       "⎜⎢            ⎥    ⎟\n",
       "⎝⎣4   -6  1  2⎦    ⎠"
      ]
     },
     "execution_count": 35,
     "metadata": {},
     "output_type": "execute_result"
    }
   ],
   "source": [
    "# Пример устного расчета\n",
    "# Из 1 строки вычтем 4-ую\n",
    "# Ко 2 строке прибавим 4-ую\n",
    "# Из 3 строки вычтем 4-ую * 2\n",
    "A259 = sympy.Matrix([[-2,1,0,0], [1,1,0,6],[-3,3,0,3],[4,-6,1,2]])\n",
    "A259, A259.det()"
   ]
  },
  {
   "cell_type": "code",
   "execution_count": 36,
   "metadata": {},
   "outputs": [
    {
     "data": {
      "image/png": "[encoded data removed]",
      "text/latex": [
       "$$\\left ( \\left[\\begin{matrix}-2 & 1 & 0\\\\1 & 1 & 6\\\\-3 & 3 & 3\\end{matrix}\\right], \\quad -9\\right )$$"
      ],
      "text/plain": [
       "⎛⎡-2  1  0⎤    ⎞\n",
       "⎜⎢        ⎥    ⎟\n",
       "⎜⎢1   1  6⎥, -9⎟\n",
       "⎜⎢        ⎥    ⎟\n",
       "⎝⎣-3  3  3⎦    ⎠"
      ]
     },
     "execution_count": 36,
     "metadata": {},
     "output_type": "execute_result"
    }
   ],
   "source": [
    "# Разложим по 3-му столбцу\n",
    "A259_1 = sympy.Matrix([[-2,1,0],[1,1,6],[-3,3,3]])\n",
    "A259_1 , - 1 * A259_1.det()"
   ]
  },
  {
   "cell_type": "code",
   "execution_count": 38,
   "metadata": {},
   "outputs": [
    {
     "data": {
      "image/png": "[encoded data removed]",
      "text/latex": [
       "$$\\left ( \\left[\\begin{matrix}-2 & 1 & 0\\\\7 & -5 & 0\\\\-3 & 3 & 3\\end{matrix}\\right], \\quad -9\\right )$$"
      ],
      "text/plain": [
       "⎛⎡-2  1   0⎤    ⎞\n",
       "⎜⎢         ⎥    ⎟\n",
       "⎜⎢7   -5  0⎥, -9⎟\n",
       "⎜⎢         ⎥    ⎟\n",
       "⎝⎣-3  3   3⎦    ⎠"
      ]
     },
     "execution_count": 38,
     "metadata": {},
     "output_type": "execute_result"
    }
   ],
   "source": [
    "# Из 2 строки вычтем 3-ую * 2\n",
    "A259_1 = sympy.Matrix([[-2,1,0],[7,-5,0],[-3,3,3]])\n",
    "A259_1 , - 1 * A259_1.det()"
   ]
  },
  {
   "cell_type": "code",
   "execution_count": 39,
   "metadata": {},
   "outputs": [
    {
     "data": {
      "image/png": "[encoded data removed]",
      "text/latex": [
       "$$\\left ( \\left[\\begin{matrix}-2 & 1\\\\7 & -5\\end{matrix}\\right], \\quad -9\\right )$$"
      ],
      "text/plain": [
       "⎛⎡-2  1 ⎤    ⎞\n",
       "⎜⎢      ⎥, -9⎟\n",
       "⎝⎣7   -5⎦    ⎠"
      ]
     },
     "execution_count": 39,
     "metadata": {},
     "output_type": "execute_result"
    }
   ],
   "source": [
    "A259_11 = sympy.Matrix([[-2,1],[7,-5]])\n",
    "A259_11, -1 * 3 * A259_11.det()"
   ]
  },
  {
   "cell_type": "code",
   "execution_count": 40,
   "metadata": {},
   "outputs": [
    {
     "data": {
      "image/png": "[encoded data removed]",
      "text/latex": [
       "$$-9$$"
      ],
      "text/plain": [
       "-9"
      ]
     },
     "execution_count": 40,
     "metadata": {},
     "output_type": "execute_result"
    }
   ],
   "source": [
    " -1 * 3 * (-2 * (-5) - 1 * 7)"
   ]
  },
  {
   "cell_type": "code",
   "execution_count": 20,
   "metadata": {},
   "outputs": [
    {
     "data": {
      "image/png": "[encoded data removed]",
      "text/latex": [
       "$$-9$$"
      ],
      "text/plain": [
       "-9"
      ]
     },
     "execution_count": 20,
     "metadata": {},
     "output_type": "execute_result"
    }
   ],
   "source": [
    "deternminant([[2,-5,1,2], [-3,7,-1,4],[5,-9,2,7],[4,-6,1,2]])"
   ]
  },
  {
   "cell_type": "code",
   "execution_count": 21,
   "metadata": {},
   "outputs": [
    {
     "data": {
      "image/png": "[encoded data removed]",
      "text/latex": [
       "$$\\left ( \\left[\\begin{matrix}-3 & 9 & 3 & 6\\\\-5 & 8 & 2 & 7\\\\4 & -5 & -3 & -2\\\\7 & -8 & -4 & -5\\end{matrix}\\right], \\quad 18\\right )$$"
      ],
      "text/plain": [
       "⎛⎡-3  9   3   6 ⎤    ⎞\n",
       "⎜⎢              ⎥    ⎟\n",
       "⎜⎢-5  8   2   7 ⎥    ⎟\n",
       "⎜⎢              ⎥, 18⎟\n",
       "⎜⎢4   -5  -3  -2⎥    ⎟\n",
       "⎜⎢              ⎥    ⎟\n",
       "⎝⎣7   -8  -4  -5⎦    ⎠"
      ]
     },
     "execution_count": 21,
     "metadata": {},
     "output_type": "execute_result"
    }
   ],
   "source": [
    "# 260\n",
    "A260 = sympy.Matrix([[-3,9,3,6], [-5,8,2,7],[4,-5,-3,-2],[7,-8,-4,-5]])\n",
    "A260, A260.det()"
   ]
  },
  {
   "cell_type": "code",
   "execution_count": 27,
   "metadata": {},
   "outputs": [
    {
     "data": {
      "image/png": "[encoded data removed]",
      "text/latex": [
       "$$\\left ( \\left[\\begin{matrix}-3 & 0 & 0 & 0\\\\-5 & -7 & -3 & -3\\\\4 & 7 & 1 & 6\\\\7 & 13 & 3 & 9\\end{matrix}\\right], \\quad 18\\right )$$"
      ],
      "text/plain": [
       "⎛⎡-3  0   0   0 ⎤    ⎞\n",
       "⎜⎢              ⎥    ⎟\n",
       "⎜⎢-5  -7  -3  -3⎥    ⎟\n",
       "⎜⎢              ⎥, 18⎟\n",
       "⎜⎢4   7   1   6 ⎥    ⎟\n",
       "⎜⎢              ⎥    ⎟\n",
       "⎝⎣7   13  3   9 ⎦    ⎠"
      ]
     },
     "execution_count": 27,
     "metadata": {},
     "output_type": "execute_result"
    }
   ],
   "source": [
    "# Ко 2 столбцу прибавим 1-ый  * 3\n",
    "# К 3 столбцу прибавим 1-ый \n",
    "# К 4 столбцу прибавим 1-ый  * 2\n",
    "A260 = sympy.Matrix([[-3,0,0,0], [-5,-7,-3,-3],[4,7,1,6],[7,13,3,9]])\n",
    "A260, A260.det()"
   ]
  },
  {
   "cell_type": "code",
   "execution_count": 28,
   "metadata": {},
   "outputs": [
    {
     "data": {
      "image/png": "[encoded data removed]",
      "text/latex": [
       "$$\\left ( \\left[\\begin{matrix}-7 & -3 & -3\\\\7 & 1 & 6\\\\13 & 3 & 9\\end{matrix}\\right], \\quad 18\\right )$$"
      ],
      "text/plain": [
       "⎛⎡-7  -3  -3⎤    ⎞\n",
       "⎜⎢          ⎥    ⎟\n",
       "⎜⎢7   1   6 ⎥, 18⎟\n",
       "⎜⎢          ⎥    ⎟\n",
       "⎝⎣13  3   9 ⎦    ⎠"
      ]
     },
     "execution_count": 28,
     "metadata": {},
     "output_type": "execute_result"
    }
   ],
   "source": [
    "# Разложим по 1-ой строке\n",
    "A260_1 = sympy.Matrix([[-7,-3,-3],[7,1,6],[13,3,9]])\n",
    "A260_1, -3 * A260_1.det()"
   ]
  },
  {
   "cell_type": "code",
   "execution_count": 29,
   "metadata": {},
   "outputs": [
    {
     "data": {
      "image/png": "[encoded data removed]",
      "text/latex": [
       "$$\\left ( \\left[\\begin{matrix}-7 & -3 & -3\\\\-7 & -5 & 0\\\\-8 & -6 & 0\\end{matrix}\\right], \\quad 18\\right )$$"
      ],
      "text/plain": [
       "⎛⎡-7  -3  -3⎤    ⎞\n",
       "⎜⎢          ⎥    ⎟\n",
       "⎜⎢-7  -5  0 ⎥, 18⎟\n",
       "⎜⎢          ⎥    ⎟\n",
       "⎝⎣-8  -6  0 ⎦    ⎠"
      ]
     },
     "execution_count": 29,
     "metadata": {},
     "output_type": "execute_result"
    }
   ],
   "source": [
    "# Ко 2 строке прибавим 1-ую * 2\n",
    "#  К 3 строке прибавим 1-ую * 3\n",
    "A260_1 = sympy.Matrix([[-7,-3,-3],[-7,-5,0],[-8,-6,0]])\n",
    "A260_1, -3 * A260_1.det()"
   ]
  },
  {
   "cell_type": "code",
   "execution_count": 32,
   "metadata": {},
   "outputs": [
    {
     "data": {
      "image/png": "[encoded data removed]",
      "text/latex": [
       "$$\\left ( \\left[\\begin{matrix}-7 & -5\\\\-8 & -6\\end{matrix}\\right], \\quad 18\\right )$$"
      ],
      "text/plain": [
       "⎛⎡-7  -5⎤    ⎞\n",
       "⎜⎢      ⎥, 18⎟\n",
       "⎝⎣-8  -6⎦    ⎠"
      ]
     },
     "execution_count": 32,
     "metadata": {},
     "output_type": "execute_result"
    }
   ],
   "source": [
    "# Разложим по 3-му столбцу\n",
    "A260_11 = sympy.Matrix([[-7,-5],[-8,-6]])\n",
    "A260_11, -3 * (-3) * A260_11.det()"
   ]
  },
  {
   "cell_type": "code",
   "execution_count": 33,
   "metadata": {},
   "outputs": [
    {
     "data": {
      "image/png": "[encoded data removed]",
      "text/latex": [
       "$$18$$"
      ],
      "text/plain": [
       "18"
      ]
     },
     "execution_count": 33,
     "metadata": {},
     "output_type": "execute_result"
    }
   ],
   "source": [
    "-3 * (-3) * (-7 * (-6) - (-5) * (-8))"
   ]
  },
  {
   "cell_type": "code",
   "execution_count": 75,
   "metadata": {},
   "outputs": [
    {
     "data": {
      "image/png": "[encoded data removed]",
      "text/latex": [
       "$$18$$"
      ],
      "text/plain": [
       "18"
      ]
     },
     "execution_count": 75,
     "metadata": {},
     "output_type": "execute_result"
    }
   ],
   "source": [
    "deternminant([[-3,9,3,6], [-5,8,2,7],[4,-5,-3,-2],[7,-8,-4,-5]])"
   ]
  },
  {
   "cell_type": "code",
   "execution_count": 57,
   "metadata": {},
   "outputs": [
    {
     "data": {
      "image/png": "[encoded data removed]",
      "text/latex": [
       "$$\\left ( \\left[\\begin{matrix}3 & -3 & -5 & 8\\\\-3 & 2 & 4 & -6\\\\2 & -5 & -7 & 5\\\\-4 & 3 & 5 & -6\\end{matrix}\\right], \\quad 18\\right )$$"
      ],
      "text/plain": [
       "⎛⎡3   -3  -5  8 ⎤    ⎞\n",
       "⎜⎢              ⎥    ⎟\n",
       "⎜⎢-3  2   4   -6⎥    ⎟\n",
       "⎜⎢              ⎥, 18⎟\n",
       "⎜⎢2   -5  -7  5 ⎥    ⎟\n",
       "⎜⎢              ⎥    ⎟\n",
       "⎝⎣-4  3   5   -6⎦    ⎠"
      ]
     },
     "execution_count": 57,
     "metadata": {},
     "output_type": "execute_result"
    }
   ],
   "source": [
    "# 261\n",
    "A261 = sympy.Matrix([[3,-3,-5,8], [-3,2,4,-6],[2,-5,-7,5],[-4,3,5,-6]])\n",
    "A261, A261.det()"
   ]
  },
  {
   "cell_type": "code",
   "execution_count": 76,
   "metadata": {},
   "outputs": [
    {
     "data": {
      "image/png": "[encoded data removed]",
      "text/latex": [
       "$$18$$"
      ],
      "text/plain": [
       "18"
      ]
     },
     "execution_count": 76,
     "metadata": {},
     "output_type": "execute_result"
    }
   ],
   "source": [
    "deternminant([[3,-3,-5,8], [-3,2,4,-6],[2,-5,-7,5],[-4,3,5,-6]])"
   ]
  },
  {
   "cell_type": "code",
   "execution_count": 58,
   "metadata": {},
   "outputs": [
    {
     "data": {
      "image/png": "[encoded data removed]",
      "text/latex": [
       "$$\\left ( \\left[\\begin{matrix}2 & -5 & 4 & 3\\\\3 & -4 & 7 & 5\\\\4 & -9 & 8 & 5\\\\-3 & 2 & -5 & 3\\end{matrix}\\right], \\quad 4\\right )$$"
      ],
      "text/plain": [
       "⎛⎡2   -5  4   3⎤   ⎞\n",
       "⎜⎢             ⎥   ⎟\n",
       "⎜⎢3   -4  7   5⎥   ⎟\n",
       "⎜⎢             ⎥, 4⎟\n",
       "⎜⎢4   -9  8   5⎥   ⎟\n",
       "⎜⎢             ⎥   ⎟\n",
       "⎝⎣-3  2   -5  3⎦   ⎠"
      ]
     },
     "execution_count": 58,
     "metadata": {},
     "output_type": "execute_result"
    }
   ],
   "source": [
    "# 262\n",
    "A262 = sympy.Matrix([[2,-5,4,3], [3,-4,7,5],[4,-9,8,5],[-3,2,-5,3]])\n",
    "A262, A262.det()"
   ]
  },
  {
   "cell_type": "code",
   "execution_count": 77,
   "metadata": {},
   "outputs": [
    {
     "data": {
      "image/png": "[encoded data removed]",
      "text/latex": [
       "$$4$$"
      ],
      "text/plain": [
       "4"
      ]
     },
     "execution_count": 77,
     "metadata": {},
     "output_type": "execute_result"
    }
   ],
   "source": [
    "deternminant([[2,-5,4,3], [3,-4,7,5],[4,-9,8,5],[-3,2,-5,3]])"
   ]
  },
  {
   "cell_type": "code",
   "execution_count": 59,
   "metadata": {},
   "outputs": [
    {
     "data": {
      "image/png": "[encoded data removed]",
      "text/latex": [
       "$$\\left ( \\left[\\begin{matrix}3 & -3 & -2 & -5\\\\2 & 5 & 4 & 6\\\\5 & 5 & 8 & 7\\\\4 & 4 & 5 & 6\\end{matrix}\\right], \\quad 90\\right )$$"
      ],
      "text/plain": [
       "⎛⎡3  -3  -2  -5⎤    ⎞\n",
       "⎜⎢             ⎥    ⎟\n",
       "⎜⎢2  5   4   6 ⎥    ⎟\n",
       "⎜⎢             ⎥, 90⎟\n",
       "⎜⎢5  5   8   7 ⎥    ⎟\n",
       "⎜⎢             ⎥    ⎟\n",
       "⎝⎣4  4   5   6 ⎦    ⎠"
      ]
     },
     "execution_count": 59,
     "metadata": {},
     "output_type": "execute_result"
    }
   ],
   "source": [
    "# 263\n",
    "A263 = sympy.Matrix([[3,-3,-2,-5], [2,5,4,6],[5,5,8,7],[4,4,5,6]])\n",
    "A263, A263.det()"
   ]
  },
  {
   "cell_type": "code",
   "execution_count": 78,
   "metadata": {},
   "outputs": [
    {
     "data": {
      "image/png": "[encoded data removed]",
      "text/latex": [
       "$$90$$"
      ],
      "text/plain": [
       "90"
      ]
     },
     "execution_count": 78,
     "metadata": {},
     "output_type": "execute_result"
    }
   ],
   "source": [
    "deternminant([[3,-3,-2,-5], [2,5,4,6],[5,5,8,7],[4,4,5,6]])"
   ]
  },
  {
   "cell_type": "code",
   "execution_count": 60,
   "metadata": {},
   "outputs": [
    {
     "data": {
      "image/png": "[encoded data removed]",
      "text/latex": [
       "$$\\left ( \\left[\\begin{matrix}3 & -5 & -2 & 2\\\\-4 & 7 & 4 & 4\\\\4 & -9 & -3 & 7\\\\2 & -6 & -3 & 2\\end{matrix}\\right], \\quad 27\\right )$$"
      ],
      "text/plain": [
       "⎛⎡3   -5  -2  2⎤    ⎞\n",
       "⎜⎢             ⎥    ⎟\n",
       "⎜⎢-4  7   4   4⎥    ⎟\n",
       "⎜⎢             ⎥, 27⎟\n",
       "⎜⎢4   -9  -3  7⎥    ⎟\n",
       "⎜⎢             ⎥    ⎟\n",
       "⎝⎣2   -6  -3  2⎦    ⎠"
      ]
     },
     "execution_count": 60,
     "metadata": {},
     "output_type": "execute_result"
    }
   ],
   "source": [
    "# 264\n",
    "A264 = sympy.Matrix([[3,-5,-2,2], [-4,7,4,4],[4,-9,-3,7],[2,-6,-3,2]])\n",
    "A264, A264.det()"
   ]
  },
  {
   "cell_type": "code",
   "execution_count": 79,
   "metadata": {},
   "outputs": [
    {
     "data": {
      "image/png": "[encoded data removed]",
      "text/latex": [
       "$$27$$"
      ],
      "text/plain": [
       "27"
      ]
     },
     "execution_count": 79,
     "metadata": {},
     "output_type": "execute_result"
    }
   ],
   "source": [
    "deternminant([[3,-5,-2,2], [-4,7,4,4],[4,-9,-3,7],[2,-6,-3,2]])"
   ]
  },
  {
   "cell_type": "code",
   "execution_count": 61,
   "metadata": {},
   "outputs": [
    {
     "data": {
      "image/png": "[encoded data removed]",
      "text/latex": [
       "$$\\left ( \\left[\\begin{matrix}3 & -5 & 2 & -4\\\\-3 & 4 & -5 & 3\\\\-5 & 7 & -7 & 5\\\\8 & -8 & 5 & -6\\end{matrix}\\right], \\quad 17\\right )$$"
      ],
      "text/plain": [
       "⎛⎡3   -5  2   -4⎤    ⎞\n",
       "⎜⎢              ⎥    ⎟\n",
       "⎜⎢-3  4   -5  3 ⎥    ⎟\n",
       "⎜⎢              ⎥, 17⎟\n",
       "⎜⎢-5  7   -7  5 ⎥    ⎟\n",
       "⎜⎢              ⎥    ⎟\n",
       "⎝⎣8   -8  5   -6⎦    ⎠"
      ]
     },
     "execution_count": 61,
     "metadata": {},
     "output_type": "execute_result"
    }
   ],
   "source": [
    "# 265\n",
    "A265 = sympy.Matrix([[3,-5,2,-4], [-3,4,-5,3],[-5,7,-7,5],[8,-8,5,-6]])\n",
    "A265, A265.det()"
   ]
  },
  {
   "cell_type": "code",
   "execution_count": 80,
   "metadata": {},
   "outputs": [
    {
     "data": {
      "image/png": "[encoded data removed]",
      "text/latex": [
       "$$17$$"
      ],
      "text/plain": [
       "17"
      ]
     },
     "execution_count": 80,
     "metadata": {},
     "output_type": "execute_result"
    }
   ],
   "source": [
    "deternminant([[3,-5,2,-4], [-3,4,-5,3],[-5,7,-7,5],[8,-8,5,-6]])"
   ]
  },
  {
   "cell_type": "code",
   "execution_count": 62,
   "metadata": {},
   "outputs": [
    {
     "data": {
      "image/png": "[encoded data removed]",
      "text/latex": [
       "$$\\left ( \\left[\\begin{matrix}3 & 2 & 2 & 2\\\\9 & -8 & 5 & 10\\\\5 & -8 & 5 & 8\\\\6 & -5 & 4 & 7\\end{matrix}\\right], \\quad -6\\right )$$"
      ],
      "text/plain": [
       "⎛⎡3  2   2  2 ⎤    ⎞\n",
       "⎜⎢            ⎥    ⎟\n",
       "⎜⎢9  -8  5  10⎥    ⎟\n",
       "⎜⎢            ⎥, -6⎟\n",
       "⎜⎢5  -8  5  8 ⎥    ⎟\n",
       "⎜⎢            ⎥    ⎟\n",
       "⎝⎣6  -5  4  7 ⎦    ⎠"
      ]
     },
     "execution_count": 62,
     "metadata": {},
     "output_type": "execute_result"
    }
   ],
   "source": [
    "# 266\n",
    "A266 = sympy.Matrix([[3,2,2,2], [9,-8,5,10],[5,-8,5,8],[6,-5,4,7]])\n",
    "A266, A266.det()"
   ]
  },
  {
   "cell_type": "code",
   "execution_count": 81,
   "metadata": {},
   "outputs": [
    {
     "data": {
      "image/png": "[encoded data removed]",
      "text/latex": [
       "$$-6$$"
      ],
      "text/plain": [
       "-6"
      ]
     },
     "execution_count": 81,
     "metadata": {},
     "output_type": "execute_result"
    }
   ],
   "source": [
    "deternminant([[3,2,2,2], [9,-8,5,10],[5,-8,5,8],[6,-5,4,7]])"
   ]
  },
  {
   "cell_type": "code",
   "execution_count": 63,
   "metadata": {},
   "outputs": [
    {
     "data": {
      "image/png": "[encoded data removed]",
      "text/latex": [
       "$$\\left ( \\left[\\begin{matrix}7 & 6 & 3 & 7\\\\3 & 5 & 7 & 2\\\\5 & 4 & 3 & 5\\\\5 & 6 & 5 & 4\\end{matrix}\\right], \\quad -10\\right )$$"
      ],
      "text/plain": [
       "⎛⎡7  6  3  7⎤     ⎞\n",
       "⎜⎢          ⎥     ⎟\n",
       "⎜⎢3  5  7  2⎥     ⎟\n",
       "⎜⎢          ⎥, -10⎟\n",
       "⎜⎢5  4  3  5⎥     ⎟\n",
       "⎜⎢          ⎥     ⎟\n",
       "⎝⎣5  6  5  4⎦     ⎠"
      ]
     },
     "execution_count": 63,
     "metadata": {},
     "output_type": "execute_result"
    }
   ],
   "source": [
    "# 267\n",
    "A267 = sympy.Matrix([[7,6,3,7], [3,5,7,2],[5,4,3,5],[5,6,5,4]])\n",
    "A267, A267.det()"
   ]
  },
  {
   "cell_type": "code",
   "execution_count": 82,
   "metadata": {},
   "outputs": [
    {
     "data": {
      "image/png": "[encoded data removed]",
      "text/latex": [
       "$$-10$$"
      ],
      "text/plain": [
       "-10"
      ]
     },
     "execution_count": 82,
     "metadata": {},
     "output_type": "execute_result"
    }
   ],
   "source": [
    "deternminant([[7,6,3,7], [3,5,7,2],[5,4,3,5],[5,6,5,4]])"
   ]
  },
  {
   "cell_type": "code",
   "execution_count": 41,
   "metadata": {},
   "outputs": [
    {
     "data": {
      "image/png": "[encoded data removed]",
      "text/latex": [
       "$$\\left ( \\left[\\begin{matrix}6 & -5 & 8 & 4\\\\9 & 7 & 5 & 2\\\\7 & 5 & 3 & 7\\\\-4 & 8 & -8 & -3\\end{matrix}\\right], \\quad 100\\right )$$"
      ],
      "text/plain": [
       "⎛⎡6   -5  8   4 ⎤     ⎞\n",
       "⎜⎢              ⎥     ⎟\n",
       "⎜⎢9   7   5   2 ⎥     ⎟\n",
       "⎜⎢              ⎥, 100⎟\n",
       "⎜⎢7   5   3   7 ⎥     ⎟\n",
       "⎜⎢              ⎥     ⎟\n",
       "⎝⎣-4  8   -8  -3⎦     ⎠"
      ]
     },
     "execution_count": 41,
     "metadata": {},
     "output_type": "execute_result"
    }
   ],
   "source": [
    "# 268\n",
    "A268 = sympy.Matrix([[6,-5,8,4], [9,7,5,2],[7,5,3,7],[-4,8,-8,-3]])\n",
    "A268, A268.det()"
   ]
  },
  {
   "cell_type": "code",
   "execution_count": 42,
   "metadata": {},
   "outputs": [
    {
     "data": {
      "image/png": "[encoded data removed]",
      "text/latex": [
       "$$\\left ( \\left[\\begin{matrix}6 & 7 & 8 & 4\\\\9 & 25 & 5 & 2\\\\7 & 19 & 3 & 7\\\\-4 & 0 & -8 & -3\\end{matrix}\\right], \\quad 100\\right )$$"
      ],
      "text/plain": [
       "⎛⎡6   7   8   4 ⎤     ⎞\n",
       "⎜⎢              ⎥     ⎟\n",
       "⎜⎢9   25  5   2 ⎥     ⎟\n",
       "⎜⎢              ⎥, 100⎟\n",
       "⎜⎢7   19  3   7 ⎥     ⎟\n",
       "⎜⎢              ⎥     ⎟\n",
       "⎝⎣-4  0   -8  -3⎦     ⎠"
      ]
     },
     "execution_count": 42,
     "metadata": {},
     "output_type": "execute_result"
    }
   ],
   "source": [
    "# Ко 2 столбцу прибавим 1-ый * 2\n",
    "A268 = sympy.Matrix([[6,7,8,4], [9,25,5,2],[7,19,3,7],[-4,0,-8,-3]])\n",
    "A268, A268.det()"
   ]
  },
  {
   "cell_type": "code",
   "execution_count": 43,
   "metadata": {},
   "outputs": [
    {
     "data": {
      "image/png": "[encoded data removed]",
      "text/latex": [
       "$$\\left ( \\left[\\begin{matrix}6 & 7 & -4 & 4\\\\9 & 25 & -13 & 2\\\\7 & 19 & -11 & 7\\\\-4 & 0 & 0 & -3\\end{matrix}\\right], \\quad 100\\right )$$"
      ],
      "text/plain": [
       "⎛⎡6   7   -4   4 ⎤     ⎞\n",
       "⎜⎢               ⎥     ⎟\n",
       "⎜⎢9   25  -13  2 ⎥     ⎟\n",
       "⎜⎢               ⎥, 100⎟\n",
       "⎜⎢7   19  -11  7 ⎥     ⎟\n",
       "⎜⎢               ⎥     ⎟\n",
       "⎝⎣-4  0    0   -3⎦     ⎠"
      ]
     },
     "execution_count": 43,
     "metadata": {},
     "output_type": "execute_result"
    }
   ],
   "source": [
    "# Из 3 столбца вычтем 1-ый * 2\n",
    "A268 = sympy.Matrix([[6,7,-4,4], [9,25,-13,2],[7,19,-11,7],[-4,0,0,-3]])\n",
    "A268, A268.det()"
   ]
  },
  {
   "cell_type": "code",
   "execution_count": 44,
   "metadata": {},
   "outputs": [
    {
     "data": {
      "image/png": "[encoded data removed]",
      "text/latex": [
       "$$\\left ( \\left[\\begin{matrix}6 & 7 & -4 & 16\\\\9 & 25 & -13 & 8\\\\7 & 19 & -11 & 28\\\\-4 & 0 & 0 & -12\\end{matrix}\\right], \\quad 100\\right )$$"
      ],
      "text/plain": [
       "⎛⎡6   7   -4   16 ⎤     ⎞\n",
       "⎜⎢                ⎥     ⎟\n",
       "⎜⎢9   25  -13   8 ⎥     ⎟\n",
       "⎜⎢                ⎥, 100⎟\n",
       "⎜⎢7   19  -11  28 ⎥     ⎟\n",
       "⎜⎢                ⎥     ⎟\n",
       "⎝⎣-4  0    0   -12⎦     ⎠"
      ]
     },
     "execution_count": 44,
     "metadata": {},
     "output_type": "execute_result"
    }
   ],
   "source": [
    "#  Умножим 4-ый столбец на 4\n",
    "A268 = sympy.Matrix([[6,7,-4,16], [9,25,-13,8],[7,19,-11,28],[-4,0,0,-12]])\n",
    "A268, A268.det()/4"
   ]
  },
  {
   "cell_type": "code",
   "execution_count": 45,
   "metadata": {},
   "outputs": [
    {
     "data": {
      "image/png": "[encoded data removed]",
      "text/latex": [
       "$$\\left ( \\left[\\begin{matrix}6 & 7 & -4 & -2\\\\9 & 25 & -13 & -19\\\\7 & 19 & -11 & 7\\\\-4 & 0 & 0 & 0\\end{matrix}\\right], \\quad 100\\right )$$"
      ],
      "text/plain": [
       "⎛⎡6   7   -4   -2 ⎤     ⎞\n",
       "⎜⎢                ⎥     ⎟\n",
       "⎜⎢9   25  -13  -19⎥     ⎟\n",
       "⎜⎢                ⎥, 100⎟\n",
       "⎜⎢7   19  -11   7 ⎥     ⎟\n",
       "⎜⎢                ⎥     ⎟\n",
       "⎝⎣-4  0    0    0 ⎦     ⎠"
      ]
     },
     "execution_count": 45,
     "metadata": {},
     "output_type": "execute_result"
    }
   ],
   "source": [
    "# Из 4 столбца вычтем 1-ый * 3\n",
    "A268 = sympy.Matrix([[6,7,-4,-2], [9,25,-13,-19],[7,19,-11,7],[-4,0,0,0]])\n",
    "A268, A268.det()/4"
   ]
  },
  {
   "cell_type": "code",
   "execution_count": 47,
   "metadata": {},
   "outputs": [
    {
     "data": {
      "image/png": "[encoded data removed]",
      "text/latex": [
       "$$\\left ( \\left[\\begin{matrix}7 & -4 & -2\\\\25 & -13 & -19\\\\19 & -11 & 7\\end{matrix}\\right], \\quad 100\\right )$$"
      ],
      "text/plain": [
       "⎛⎡7   -4   -2 ⎤     ⎞\n",
       "⎜⎢            ⎥     ⎟\n",
       "⎜⎢25  -13  -19⎥, 100⎟\n",
       "⎜⎢            ⎥     ⎟\n",
       "⎝⎣19  -11   7 ⎦     ⎠"
      ]
     },
     "execution_count": 47,
     "metadata": {},
     "output_type": "execute_result"
    }
   ],
   "source": [
    "# Разложим по 4-ой строке\n",
    "A268_1 = sympy.Matrix([[7,-4,-2], [25,-13,-19],[19,-11,7]])\n",
    "A268_1, int(- (-4)/4 * A268_1.det())"
   ]
  },
  {
   "cell_type": "code",
   "execution_count": 51,
   "metadata": {},
   "outputs": [
    {
     "data": {
      "image/png": "[encoded data removed]",
      "text/latex": [
       "$$\\left ( \\left[\\begin{matrix}-1 & -4 & 2\\\\-1 & -13 & -6\\\\-3 & -11 & 18\\end{matrix}\\right], \\quad 100\\right )$$"
      ],
      "text/plain": [
       "⎛⎡-1  -4   2 ⎤     ⎞\n",
       "⎜⎢           ⎥     ⎟\n",
       "⎜⎢-1  -13  -6⎥, 100⎟\n",
       "⎜⎢           ⎥     ⎟\n",
       "⎝⎣-3  -11  18⎦     ⎠"
      ]
     },
     "execution_count": 51,
     "metadata": {},
     "output_type": "execute_result"
    }
   ],
   "source": [
    "# К 1 столбцу прибавим 2-ой * 2\n",
    "# Из 3 столбца вычтем 2-й\n",
    "A268_1 = sympy.Matrix([[-1,-4,2], [-1,-13,-6],[-3,-11,18]])\n",
    "A268_1, A268_1.det()"
   ]
  },
  {
   "cell_type": "code",
   "execution_count": 54,
   "metadata": {},
   "outputs": [
    {
     "data": {
      "image/png": "[encoded data removed]",
      "text/latex": [
       "$$\\left ( \\left[\\begin{matrix}0 & 9 & 8\\\\-1 & -13 & -6\\\\0 & 28 & 36\\end{matrix}\\right], \\quad 100\\right )$$"
      ],
      "text/plain": [
       "⎛⎡0    9   8 ⎤     ⎞\n",
       "⎜⎢           ⎥     ⎟\n",
       "⎜⎢-1  -13  -6⎥, 100⎟\n",
       "⎜⎢           ⎥     ⎟\n",
       "⎝⎣0   28   36⎦     ⎠"
      ]
     },
     "execution_count": 54,
     "metadata": {},
     "output_type": "execute_result"
    }
   ],
   "source": [
    "# Из 1 строки вычтем 2-ую\n",
    "# Из 3 строки вычтем 2-ую * 3\n",
    "A268_1 = sympy.Matrix([[0,9,8], [-1,-13,-6],[0,28,36]])\n",
    "A268_1, A268_1.det()"
   ]
  },
  {
   "cell_type": "code",
   "execution_count": 55,
   "metadata": {},
   "outputs": [
    {
     "data": {
      "image/png": "[encoded data removed]",
      "text/latex": [
       "$$\\left ( \\left[\\begin{matrix}9 & 8\\\\28 & 36\\end{matrix}\\right], \\quad 100\\right )$$"
      ],
      "text/plain": [
       "⎛⎡9   8 ⎤     ⎞\n",
       "⎜⎢      ⎥, 100⎟\n",
       "⎝⎣28  36⎦     ⎠"
      ]
     },
     "execution_count": 55,
     "metadata": {},
     "output_type": "execute_result"
    }
   ],
   "source": [
    "# Разложим по 1 столбцу\n",
    "A268_11 = sympy.Matrix([[9,8],[28,36]])\n",
    "A268_11, -(-1) * A268_11.det()"
   ]
  },
  {
   "cell_type": "code",
   "execution_count": 56,
   "metadata": {},
   "outputs": [
    {
     "data": {
      "image/png": "[encoded data removed]",
      "text/latex": [
       "$$\\left ( 100, \\quad 100\\right )$$"
      ],
      "text/plain": [
       "(100, 100)"
      ]
     },
     "execution_count": 56,
     "metadata": {},
     "output_type": "execute_result"
    }
   ],
   "source": [
    "9 * 36 - 8 * 28, 4 * (81 - 56)"
   ]
  },
  {
   "cell_type": "code",
   "execution_count": 57,
   "metadata": {},
   "outputs": [
    {
     "data": {
      "image/png": "[encoded data removed]",
      "text/latex": [
       "$$100$$"
      ],
      "text/plain": [
       "100"
      ]
     },
     "execution_count": 57,
     "metadata": {},
     "output_type": "execute_result"
    }
   ],
   "source": [
    "deternminant([[6,-5,8,4], [9,7,5,2],[7,5,3,7],[-4,8,-8,-3]])"
   ]
  },
  {
   "cell_type": "markdown",
   "metadata": {},
   "source": [
    "# Типовой расчет 2 / Standard Calculation 2"
   ]
  },
  {
   "cell_type": "markdown",
   "metadata": {},
   "source": [
    "## Постановка  задачи / Formulation of the problem:"
   ]
  },
  {
   "cell_type": "code",
   "execution_count": null,
   "metadata": {},
   "outputs": [],
   "source": [
    "%%latex\n",
    "$ $"
   ]
  },
  {
   "cell_type": "markdown",
   "metadata": {},
   "source": [
    "## Решение / Decisions:"
   ]
  }
 ],
 "metadata": {
  "kernelspec": {
   "display_name": "Python 3",
   "language": "python",
   "name": "python3"
  },
  "language_info": {
   "codemirror_mode": {
    "name": "ipython",
    "version": 3
   },
   "file_extension": ".py",
   "mimetype": "text/x-python",
   "name": "python",
   "nbconvert_exporter": "python",
   "pygments_lexer": "ipython3",
   "version": "3.6.4"
  }
 },
 "nbformat": 4,
 "nbformat_minor": 2
}
