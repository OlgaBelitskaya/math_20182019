{
 "cells": [
  {
   "cell_type": "markdown",
   "metadata": {},
   "source": [
    "# Спецификация к Лабораторной работе №8 \n",
    "\n",
    "# Обработка матрицы. Разные алгоритмы.\n",
    "\n",
    "# (Вариант 22)\n",
    "\n",
    "## Абстракция А0\n",
    "### 1. Постановка задачи.\n",
    "#### Задание: \n",
    "Написать программу обработки матрицы в соответствии с условием. \n",
    "\n",
    "#### Условие: \n",
    "Проанализировать квадратную матрицу. \n",
    "\n",
    "Сформировать одномерный массив, равный по длине количеству строк матрицы и содержащий значения 0 или 1:\n",
    "\n",
    "- 1, если в соответствующей строке элемент на главной диагонали больше других элементов этой строки;\n",
    "\n",
    "- 0, если это условие для данной строки не выполняется.\n",
    "\n",
    "Найти сумму элементов матрицы."
   ]
  },
  {
   "cell_type": "markdown",
   "metadata": {},
   "source": [
    "### 2. Уточненная постановка задачи.\n",
    "Дана матрица B, состоящая из n строк и n столбцов.\n",
    "\n",
    "Получить массив $X_1, X_2, ..., X_n$ по правилу:\n",
    "    \n",
    "$\\large{\\displaystyle{X_i = \\begin{cases}\n",
    "1, \\ B_{ii} > B_{ij}, \\ \\forall j: 0<j<n+1 \\land j \\neq i\\\\\n",
    "0, \\ B_{ii} \\leq B_{ij}, \\ \\forall j: 0<j<n+1 \\land j \\neq i\\\\\n",
    "\\end{cases}, \\ \\forall i: 0<i<n+1 }}$\n",
    "\n",
    "Найти $\\large{\\displaystyle{S = \\sum_{\\substack{0<i<n+1 \\\\ 0<j<n+1}} B_{ij} }}$"
   ]
  },
  {
   "cell_type": "markdown",
   "metadata": {},
   "source": [
    "### 3. Пример с иллюстрацией."
   ]
  },
  {
   "cell_type": "code",
   "execution_count": 1,
   "metadata": {},
   "outputs": [],
   "source": [
    "import numpy\n",
    "import pylab \n",
    "%matplotlib inline\n",
    "pylab.style.use('seaborn-whitegrid')"
   ]
  },
  {
   "cell_type": "code",
   "execution_count": 8,
   "metadata": {},
   "outputs": [],
   "source": [
    "B1 = numpy.random.randint(-100,100, size=(5,5))\n",
    "numpy.savetxt('B_Lab8_1.txt', B1, fmt='%5.0f')"
   ]
  },
  {
   "cell_type": "code",
   "execution_count": 12,
   "metadata": {},
   "outputs": [
    {
     "data": {
      "text/plain": [
       "array([[0, 0, 0, 0, 0],\n",
       "       [1, 0, 1, 1, 0],\n",
       "       [0, 0, 1, 0, 0],\n",
       "       [1, 0, 1, 1, 1],\n",
       "       [1, 0, 1, 0, 1]])"
      ]
     },
     "execution_count": 12,
     "metadata": {},
     "output_type": "execute_result"
    }
   ],
   "source": [
    "B2 = numpy.random.randint(0,2, size=(5,5))\n",
    "numpy.savetxt('B_Lab8_2.txt', B2, fmt='%5.0f')\n",
    "B2"
   ]
  },
  {
   "cell_type": "code",
   "execution_count": 19,
   "metadata": {},
   "outputs": [
    {
     "data": {
      "text/plain": [
       "array([[-1, -4, -5],\n",
       "       [-7,  6, -4],\n",
       "       [-3,  2, -6]])"
      ]
     },
     "execution_count": 19,
     "metadata": {},
     "output_type": "execute_result"
    }
   ],
   "source": [
    "B3 = numpy.random.randint(-10,10, size=(3,3))\n",
    "numpy.savetxt('B_Lab8_3.txt', B3, fmt='%5.0f')\n",
    "B3"
   ]
  },
  {
   "cell_type": "code",
   "execution_count": 22,
   "metadata": {},
   "outputs": [
    {
     "data": {
      "text/plain": [
       "array([[ -7, -10,  -3,  -3],\n",
       "       [ -5,  -5,  -4,  -6],\n",
       "       [ -1,  -1,  -4,  -6],\n",
       "       [ -3,  -6, -10,  -8]])"
      ]
     },
     "execution_count": 22,
     "metadata": {},
     "output_type": "execute_result"
    }
   ],
   "source": [
    "B4 = numpy.random.randint(-10,0, size=(4,4))\n",
    "numpy.savetxt('B_Lab8_4.txt', B4, fmt='%5.0f')\n",
    "B4"
   ]
  },
  {
   "cell_type": "code",
   "execution_count": 25,
   "metadata": {},
   "outputs": [
    {
     "data": {
      "text/plain": [
       "array([[3, 4, 7, 2],\n",
       "       [2, 3, 9, 2],\n",
       "       [3, 3, 8, 1],\n",
       "       [0, 1, 5, 9]])"
      ]
     },
     "execution_count": 25,
     "metadata": {},
     "output_type": "execute_result"
    }
   ],
   "source": [
    "B5 = numpy.random.randint(0,10, size=(4,4))\n",
    "numpy.savetxt('B_Lab8_5.txt', B5, fmt='%5.0f')\n",
    "B5"
   ]
  },
  {
   "cell_type": "code",
   "execution_count": 23,
   "metadata": {},
   "outputs": [
    {
     "name": "stdout",
     "output_type": "stream",
     "text": [
      "                    Лаб.8\n",
      "==========================================================================================\n",
      "Текстовый файл с элементами матрицы B: B_Lab8_1.txt\n",
      "Текстовый файл с элементами матрицы B, массива X и суммой элементов S: BXS_Lab8_1.txt\n",
      "==========================================================================================\n",
      "Исходная матрица B: \n",
      "\n",
      "[[ 43 -68 -21 -81  90]\n",
      " [  2 -86 -79 -66 -44]\n",
      " [-38 -66 -54 -80 -32]\n",
      " [-67  46 -71  99 -61]\n",
      " [ 63  14  -7 -42 -44]]\n",
      "==========================================================================================\n",
      "Сформированный массив X: \n",
      "\n",
      "[0 0 0 1 0]\n",
      "\n",
      "Сумма элементов матрицы B: \n",
      "\n",
      "-650\n"
     ]
    }
   ],
   "source": [
    "print(20*' ' + 'Лаб.8\\n' + 90*'=')\n",
    "\n",
    "fin = str(input('Текстовый файл с элементами матрицы B: '))\n",
    "fout = str(input('Текстовый файл с элементами матрицы B, массива X и суммой элементов S: '))\n",
    "\n",
    "print(90*'=' + '\\n' + 'Исходная матрица B: \\n')\n",
    "B = numpy.loadtxt(fin, dtype='int')\n",
    "print(B)\n",
    "\n",
    "X = numpy.array(len(B) * [0])\n",
    "for i in range(len(B)):\n",
    "    c = numpy.argmax(B[i])\n",
    "    X[i] = (c == i)\n",
    "print(90*'=' + '\\n' + 'Сформированный массив X: \\n\\n' + str(X))\n",
    "\n",
    "S = numpy.sum(B)\n",
    "print('\\n' + 'Сумма элементов матрицы B: \\n\\n' + str(S))\n",
    "\n",
    "with open(fout, 'w') as f:\n",
    "    for i in range(len(B)):\n",
    "        f.write(\"{}\\n\".format(B[i]))\n",
    "    f.write(\"{}\\n\".format(X))\n",
    "    f.write(\"{}\\n\".format(S))"
   ]
  },
  {
   "cell_type": "code",
   "execution_count": 36,
   "metadata": {},
   "outputs": [
    {
     "name": "stdout",
     "output_type": "stream",
     "text": [
      "                    Лаб.8\n",
      "==========================================================================================\n",
      "Текстовый файл с элементами матрицы B: B_Lab8_1.txt\n",
      "Текстовый файл с элементами матрицы B, массива X и суммой элементов S: BXS_Lab8_1.txt\n",
      "==========================================================================================\n",
      "Исходная матрица B: \n",
      "\n",
      "[43, -68, -21, -81, 90]\n",
      "[2, -86, -79, -66, -44]\n",
      "[-38, -66, -54, -80, -32]\n",
      "[-67, 46, -71, 99, -61]\n",
      "[63, 14, -7, -42, -44]\n",
      "==========================================================================================\n",
      "Сформированный массив X: \n",
      "\n",
      "[0, 0, 0, 1, 0]\n",
      "\n",
      "Сумма элементов матрицы B: \n",
      "\n",
      "-650\n"
     ]
    }
   ],
   "source": [
    "# python only\n",
    "print(20*' ' + 'Лаб.8\\n' + 90*'=')\n",
    "\n",
    "fin = str(input('Текстовый файл с элементами матрицы B: '))\n",
    "fout = str(input('Текстовый файл с элементами матрицы B, массива X и суммой элементов S: '))\n",
    "\n",
    "print(90*'=' + '\\n' + 'Исходная матрица B: \\n')\n",
    "\n",
    "with open(fin, 'r') as f:\n",
    "    B = f.readlines()\n",
    "B = [x[1:-1].split() for x in B]\n",
    "B = [[int(x) for x in B[i]] for i in range(len(B))]\n",
    "[print(B[i]) for i in range(len(B))]\n",
    "\n",
    "X = [int(sum([int(B[j][i] < B[i][i]) \\\n",
    "for j in range(len(B[i]))]) == len(B) - 1) \\\n",
    "for i in range(len(B))]\n",
    "\n",
    "print(90*'=' + '\\n' + 'Сформированный массив X: \\n\\n' + str(X))\n",
    "\n",
    "S = sum([sum(B[i]) for i in range(len(B))])\n",
    "\n",
    "print('\\n' + 'Сумма элементов матрицы B: \\n\\n' + str(S))\n",
    "\n",
    "with open(fout, 'w') as f:\n",
    "    for i in range(len(B)):\n",
    "        f.write(\"{}\\n\".format(B[i]))\n",
    "    f.write(\"{}\\n\".format(X))\n",
    "    f.write(\"{}\\n\".format(S))"
   ]
  },
  {
   "cell_type": "code",
   "execution_count": 37,
   "metadata": {},
   "outputs": [
    {
     "data": {
      "image/png": "[encoded data removed]",
      "text/plain": [
       "<Figure size 720x360 with 1 Axes>"
      ]
     },
     "metadata": {},
     "output_type": "display_data"
    }
   ],
   "source": [
    "pylab.figure(figsize=(10,5))\n",
    "col = ['steelblue', 'darkred']\n",
    "for i in range(len(B)):\n",
    "    pylab.plot(range(len(B[i])), B[i], '-o', c=col[X[i]], \n",
    "               label='i = ' + str(i+1) + ', X[i] = ' + str(X[i]))\n",
    "\n",
    "pylab.suptitle('S = ' + str(S), fontsize=15)\n",
    "pylab.xlabel('j', fontsize=15) \n",
    "pylab.ylabel(r'$B_{ij}$', fontsize=15)\n",
    "pylab.xticks(range(-1, len(B)+1), range(len(B)+2));\n",
    "pylab.legend(title='Строки матрицы B', fontsize=15, shadow=True, \n",
    "             bbox_to_anchor=(1.5,1.0));"
   ]
  },
  {
   "cell_type": "markdown",
   "metadata": {},
   "source": [
    "### 4. Таблица данных \n",
    "\n",
    "| Класс | Имя | Описание (смысл, диапазон, точность) | Тип | Структура | Формат в/в |\n",
    "| :-: | :-: | :-: | :-: | :-: | :-: |\n",
    "| входные данные | fin | название текстового файла с элементами массива B | символ | строка | \"+XX.txt\" |\n",
    "| входные данные | fout | название текстового файла с элементами массива B | символ | строка | \"+XX.txt\" |\n",
    "| входные данные | B | вводимые из текстового файла числа исходной матрицы | цел | двумерный массив | +XX (:5) |\n",
    "| выходные данные | X | выводимые в текстовый файл числа полученного массива | цел | одномерный массив | +XX (:5) |\n",
    "| выходные данные | S | выводимая в текстовый файл сумма элементов матрицы | цел | простая переменная | +XX (:5) |\n",
    "| промежуточные данные | i | индекс текущего элемента, 1≤i≤50 | цел | простая переменная | --- |\n",
    "| промежуточные данные | j | индекс текущего элемента, 1≤j≤50 | цел | простая переменная | --- |\n",
    "| промежуточные данные | c | индекс максимального элемента в строке, 1≤c≤50 | цел | простая переменная | --- |\n",
    "\n",
    "_! в Delphi выход из цикла с 1 до 20 с шагом +1 происходит при значении 21, из цикла с 20 до 1 – при 0_"
   ]
  },
  {
   "cell_type": "markdown",
   "metadata": {},
   "source": [
    "### 5. Входная форма\n",
    "- обр 1.1 Текстовый файл с элементами массива B: $<fin>$       \n",
    "- обр 1.2 Текстовый файл с элементами матрицы B, массива X и суммой элементов S: $<fout>$\n",
    "- обр 2.1 Исходная матрица B:\n",
    "- обр 2.2 $ < B[11] >  < B[12] >  …  < B[1n] > \\\\ ... \\\\ < B[n1] >  < B[n2] >  …  < B[nn] >$\n",
    "\n",
    "\n",
    "### 6. Выходная форма\n",
    "\n",
    "- обр 3 Лаб. 8\n",
    "- обр 4.1 Текстовый файл с элементами массива B: $<fin>$       \n",
    "- обр 4.2 Текстовый файл с элементами матрицы B, массива X и суммой элементов S: $<fout>$\n",
    "- обр 5.1 Исходная матрица B:\n",
    "- обр 5.2 $ < B[11] >  < B[12] >  …  < B[1n] > \\\\ ... \\\\ < B[n1] >  < B[n2] >  …  < B[nn] >$\n",
    "- обр 6.1 Сформированный массив X:\n",
    "- обр 6.2 $ < X[1] > < X[2] > … < X[n] > $\n",
    "- обр 7.1 Сумма элементов матрицы B:\n",
    "- обр 7.2 $ < S > $\n",
    "\n",
    "### 7. Аномалии\n",
    "\n",
    "-"
   ]
  },
  {
   "cell_type": "markdown",
   "metadata": {},
   "source": [
    "### 8. Функциональные тесты\n",
    "\n",
    "| Исходные данные | - | - | Результаты | - | Тест |\n",
    "| :-: | :-: | :-: | :-: | :-: | :-: |\n",
    "| fin | fout | B | X | S | № |\n",
    "| B_Lab8_1.txt | BXS_Lab8_1.txt | `[[ 43 -68 -21 -81  90] [  2 -86 -79 -66 -44] [-38 -66 -54 -80 -32] [-67  46 -71  99 -61] [ 63  14  -7 -42 -44]]` | `[0 0 0 1 0]` | ` -650 ` | 1 | \n",
    "| - | - | - | - | - | - |\n",
    "| B_Lab8_2.txt | BXS_Lab8_2.txt | `[[0 0 0 0 0] [1 0 1 1 0] [0 0 1 0 0] [1 0 1 1 1] [1 0 1 0 1]]` | `[1 0 1 0 0]` | `11` | 2 |\n",
    "| - | - | - | - | - | - |\n",
    "| B_Lab8_3.txt | BXS_Lab8_3.txt | `[[-1 -4 -5] [-7  6 -4] [-3  2 -6]]` | `[1 1 0]` | `-22` | 3 |\n",
    "| - | - | - | - | - | - |\n",
    "| B_Lab8_4.txt | BXS_Lab8_4.txt | `[[-7 -10 -3 -3] [-5 -5 -4 -6] [-1 -1 -4 -6] [-3 -6 -10 -8]]` | `[0 0 0 0]` | `-82` | 4 |\n",
    "| - | - | - | - | - | - |\n",
    "| B_Lab8_5.txt | BXS_Lab8_5.txt | `[[3 4 7 2] [2 3 9 2] [3 3 8 1] [0 1 5 9]]` | `[0 0 1 1]` | `62` | 5 |"
   ]
  },
  {
   "cell_type": "markdown",
   "metadata": {},
   "source": [
    "| № теста | Входные  данные | - | - | Ожидаемый результат | - | Смысл теста |\n",
    "| :-: | :-: | :-: | :-: | :-: | :-: | :-: |\n",
    "| - | - | - | - | - | - | - |\n",
    "| 1 | fin = 'B_Lab8_1.txt' | fout = 'BXS_Lab8_1.txt' |  B = `[[ 43 -68 -21 -81  90] [  2 -86 -79 -66 -44] [-38 -66 -54 -80 -32] [-67  46 -71  99 -61] [ 63  14  -7 -42 -44]]` | X = `[0 0 0 1 0]` | S = `-650` | Подтвердить правильность расчетов в случае матрицы 5х5 |\n",
    "| - | - | - | - | - | - | - |\n",
    "| 2 | fin = 'B_Lab8_2.txt' | fout = 'BXS_Lab8_2.txt' |  B = `[[0 0 0 0 0] [1 0 1 1 0] [0 0 1 0 0] [1 0 1 1 1] [1 0 1 0 1]]` | X = `[1 0 1 0 0]` | S = `11` | Протестировать простейший случай с бинарными значениями |\n",
    "| - | - | - | - | - | - | - |\n",
    "| 3 | fin = 'B_Lab8_3.txt' | fout = 'BXS_Lab8_3.txt' |  B = `[[-1 -4 -5] [-7  6 -4] [-3  2 -6]]` | X = `[1 1 0]` | S = `-22` | Протестировать случай квадратной матрицы 3х3 |\n",
    "| - | - | - | - | - | - | - |\n",
    "| 4 | fin = 'B_Lab8_4.txt' | fout = 'BXS_Lab8_4.txt' |  B = `[[-7 -10 -3 -3] [-5 -5 -4 -6] [-1 -1 -4 -6] [-3 -6 -10 -8]]` | X = `[0 0 0 0]` | S = `-82` | Подтвердить правильность расчетов в случае отрицательных чисел |\n",
    "| - | - | - | - | - | - | - |\n",
    "| 5 | fin = 'B_Lab8_5.txt' | fout = 'BXS_Lab8_5.txt' |  B = `[[3 4 7 2] [2 3 9 2] [3 3 8 1] [0 1 5 9]]` | X = `[0 0 1 1]` | S = `62` | Протестировать матрицу, состоящую из неотрицательных чисел |"
   ]
  },
  {
   "cell_type": "markdown",
   "metadata": {},
   "source": [
    "| - | Результаты | № теста |\n",
    "| :-: | :-: | :-: |\n",
    "| - | - | - |\n",
    "| X | Максимальная вычислительная нагрузка = 25 (сравнение элементов) + 25 (суммирование) | 1 |\n",
    "| S | Соответствует ожидаемым числовым значениям | 1 |\n",
    "| X | Максимальная вычислительная нагрузка = 25 (сравнение элементов) + 25 (суммирование) | 2 |\n",
    "| S | Корректный результат в случае бинарных значений переменных | 2 |\n",
    "| X | Максимальная вычислительная нагрузка = 9 (сравнение элементов) + 9 (суммирование) | 3 |\n",
    "| S | Соответствует ожидаемым числовым значениям и легко подтверждается визуально | 3 |\n",
    "| X | Максимальная вычислительная нагрузка = 16 (сравнение элементов) + 16 (суммирование) | 4 |\n",
    "| S | Корректный результат в случае отрицательных чисел | 4 |\n",
    "| X | Максимальная вычислительная нагрузка = 16 (сравнение элементов) + 16 (суммирование)| 5 |\n",
    "| S | Соответствует ожидаемым числовым значениям | 5 |\n"
   ]
  },
  {
   "cell_type": "markdown",
   "metadata": {},
   "source": [
    "### 9. Метод\n",
    "Отделим ввод-вывод от обработки данных и разделим задачу на три подзадачи:\n",
    "\n",
    "1.\t_Подзадача А 0.1._ Запросить названия текстовых файлов ввода-вывода, считать из текстового файла ввода исходные данные (обр.1-2), затем вывести их на экран (обр.3-5) для визуального подтверждения.\n",
    "2.\t_Подзадача А 0.2._ Решение поставленной задачи: \n",
    "\n",
    "Сформировать одномерный массив, равный по длине количеству строк исходной матрицы `B` и содержащий значения 0 или 1:\n",
    "\n",
    "- 1, если в соответствующей строке элемент на главной диагонали больше других элементов этой строки;\n",
    "\n",
    "- 0, если это условие для данной строки не выполняется.\n",
    "\n",
    "Найти сумму элементов матрицы.\n",
    "    \n",
    "3.\t_Подзадача А 0.3._ Ввести полученные результаты (`X`, `S`) на экран (обр.6-7) и записать в файл вывода исходный массив и полученный результат.\n",
    "\n",
    "Ввод-вывод тривиален и представляет собой чисто техническую задачу. \n",
    "\n",
    "Для осуществления процесса ввода-вывода и обработки массива потребуются промежуточные переменные: \n",
    "\n",
    "- `i` – индекс текущего элемента массива, \n",
    "\n",
    "- `j` – индекс текущего элемента массива,\n",
    "\n",
    "- `c` - индекс максимального элемента в строке.\n",
    "\n",
    "Их следует добавить в таблицу данных. \n",
    "\n",
    "Алгоритм необходим только для обработка входных данных и расчета результата."
   ]
  },
  {
   "cell_type": "markdown",
   "metadata": {},
   "source": [
    "### 10. Алгоритм\n",
    "\n",
    "[Sample diagrams](http://blockdiag.com/en/blockdiag/examples.html#sample-diagrams)"
   ]
  },
  {
   "cell_type": "code",
   "execution_count": 25,
   "metadata": {},
   "outputs": [
    {
     "name": "stdout",
     "output_type": "stream",
     "text": [
      "Overwriting block_diagram\n"
     ]
    }
   ],
   "source": [
    "%%file block_diagram\n",
    "\n",
    "blockdiag {\n",
    "    orientation = portrait;\n",
    "    class start_end [shape = ellipse, fontsize = 15, color = lightskyblue];\n",
    "    class input_out [shape = flowchart.input, fontsize = 15, width = 600, color = lightcyan];\n",
    "    class main_box [shape = box, width = 410, height = 150, fontsize = 18];\n",
    "    \n",
    "    Начало -> \n",
    "    \"Вывод заголовка по обр.3 на экран\" -> \n",
    "    \"Ввод имени файла по обр.1.1\" -> \"Ввод имени файла по обр.1.2\" ->\n",
    "    \"Вывод пояснения по обр.2.1\" -> \"Ввод B из файла по обр.2.2\" ->\n",
    "    \"Вывод имени файла по обр.4.1 на экран\" -> \"Вывод имени файла по обр.4.2 на экран\" ->\n",
    "    \"Вывод пояснения по обр.5.1,6.1,7.1 на экран\" -> \n",
    "    \"Формирование массива X и подсчет суммы элементов S\" ->\n",
    "    \"Вывод B, X, S на экран и в файл по обр.5.2,6.2,7.2\" ->\n",
    "    Конец;\n",
    "\n",
    "    Начало, Конец [class = \"start_end\"];\n",
    "    \"Ввод имени файла по обр.1.1\", \"Ввод имени файла по обр.1.2\" [class = \"input_out\"];\n",
    "    \"Вывод пояснения по обр.2.1\", \"Ввод B из файла по обр.2.2\" [class = \"input_out\"];\n",
    "    \"Вывод имени файла по обр.4.1 на экран\", \"Вывод имени файла по обр.4.2 на экран\" [class = \"input_out\"];\n",
    "    \"Вывод пояснения по обр.5.1,6.1,7.1 на экран\" [class = \"input_out\"];\n",
    "    \"Вывод B, X, S на экран и в файл по обр.5.2,6.2,7.2\" [class = \"input_out\"]; \n",
    "    \"Вывод заголовка по обр.3 на экран\" [class = \"input_out\"];\n",
    "    \"Формирование массива X и подсчет суммы элементов S\" [class = \"main_box\"];\n",
    "    \n",
    "    \"Вывод пояснения по обр.5.1,6.1,7.1 на экран\" -> \n",
    "    \"Формирование массива X и подсчет суммы элементов S\" [label = 'Вх. B', fontsize = 18];\n",
    "    \"Формирование массива X и подсчет суммы элементов S\" ->\n",
    "    \"Вывод B, X, S на экран и в файл по обр.5.2,6.2,7.2\" [label = 'Вых. X, S', fontsize = 18];\n",
    "}"
   ]
  },
  {
   "cell_type": "code",
   "execution_count": 26,
   "metadata": {},
   "outputs": [],
   "source": [
    "!blockdiag block_diagram"
   ]
  },
  {
   "cell_type": "code",
   "execution_count": 27,
   "metadata": {},
   "outputs": [
    {
     "data": {
      "image/png": "[encoded data removed]",
      "text/plain": [
       "<IPython.core.display.Image object>"
      ]
     },
     "execution_count": 27,
     "metadata": {},
     "output_type": "execute_result"
    }
   ],
   "source": [
    "from IPython.display import Image\n",
    "Image(\"block_diagram.png\")"
   ]
  },
  {
   "cell_type": "markdown",
   "metadata": {},
   "source": [
    "### 11. Программа на <i>Delphi</i>. \n",
    "\n",
    "__Диалоговый вариант {ввод названий файлов и данных из текстового файла, вывод на экран и в текстовый файл}__\n",
    "\n",
    "Синтаксис:\n",
    "\n",
    "[Pascal Tutorial](https://www.tutorialspoint.com/pascal/index.htm)"
   ]
  },
  {
   "cell_type": "code",
   "execution_count": null,
   "metadata": {},
   "outputs": [],
   "source": [
    "program Lab8; //сохранить как lab8.dpr (DPR – Delphi PRoject)  \n",
    "{$APPTYPE CONSOLE}\n",
    "Uses Windows; // для русификации \n",
    "\n",
    "    const\n",
    "        {заглушка для теста 1}    \n",
    "        S1 = -650;\n",
    "        {заглушка для теста 2}    \n",
    "        S2 = 11; \n",
    "        {заглушка для теста 3}    \n",
    "        S3 = -22; \n",
    "        {заглушка для теста 4}    \n",
    "        S4 = -82;   \n",
    "        {заглушка для теста 5}    \n",
    "        S5 = 62;\n",
    "        X1: array[0..5] of integer = (0, 0, 0, 1, 0);\n",
    "        {заглушка для теста 2}    \n",
    "        X2: array[0..5] of integer = (1, 0, 1, 0, 0); \n",
    "        {заглушка для теста 3}    \n",
    "        X3: array[0..3] of integer = (1, 1, 0); \n",
    "        {заглушка для теста 4}    \n",
    "        X4: array[0..4] of integer = (0, 0, 0, 0);   \n",
    "        {заглушка для теста 5}    \n",
    "        X5: array[0..4] of integer = (0, 0, 1, 1);\n",
    "\n",
    "    var\n",
    "        i, j: integer;\n",
    "        S: integer;\n",
    "        fin, fout, method: string;\n",
    "        tfin, tfout: TextFile;\n",
    "        B: array [0..N, 0..N] of integer;    \n",
    "        X: array [0..N]of integer; \n",
    "            \n",
    "    begin\n",
    "        setConsoleCP(1251); // для ввода  русификация и \n",
    "        setConsoleOutputCP(1251); // для вывода \n",
    "\n",
    "        {A0.1, A0.3 - ввод-вывод входных данных}\n",
    "        writeln('Лаб.8' :40); {вывод заголовка c переходом на следующую строку по обр.3}\n",
    "        \n",
    "        {ввод-вывод строковой переменной - имени файла с входными данными по обр.1.1, 4.1}\n",
    "        writeln('Текстовый файл с элементами массива B:  '); \n",
    "        readln(fin);\n",
    "        writeln(fin);\n",
    "\n",
    "        {ввод-вывод строковой переменной - имени файла с выходными данными по обр.1.2, 4.2}\n",
    "        writeln('Текстовый файл с элементами матрицы B, массива X и суммой элементов S: '); \n",
    "        readln(fout); \n",
    "        writeln(fout);\n",
    "        \n",
    "        {ввод-вывод исходной матрицы B по обр.2.1, 2.2, 5.1, 5.2}\n",
    "        writeln('Исходная матрица B: '); {вывод пояснения с переходом на следующую строку}\n",
    "        \n",
    "        AssignFile(tfin, fin); reset(tfin); {открыть файл для чтения} \n",
    "        AssignFile(tfout, fout); rewrite(tfout); {открыть файл для записи}\n",
    "            \n",
    "        i :=1;\n",
    "        while not eoln do\n",
    "        begin\n",
    "            j := 1;\n",
    "            while not eoln do\n",
    "            begin\n",
    "                read(B[i,j]);\n",
    "                write(B[i,j], ' ');\n",
    "                j := j + 1;\n",
    "            end;\n",
    "            readln; writeln;\n",
    "            i := i + 1;\n",
    "        end;\n",
    "        \n",
    "        CloseFile(tfin); {закрыть файл для чтения} \n",
    "           \n",
    "        for i:=1 to 80 do \n",
    "            write('='); {отделим визуально чертой и строкой введенные и выводимые значения}\n",
    "        writeln; \n",
    "        \n",
    "        {вывод массива X и суммы S по обр.6.1, 6.2, 7.1, 7.2}\n",
    "        \n",
    "        writeln('Сформированный массив X: '); {вывод пояснения с переходом на следующую строку}\n",
    "        \n",
    "        for i:=1 to N do\n",
    "        begin \n",
    "            writeln(X1[i]:1); {вывод элемента и переход на следующую строку на экране}\n",
    "            writeln(tfout, X1[i]:1); {вывод элемента и переход на следующую строку в файле}\n",
    "        end;\n",
    "        \n",
    "        writeln('Сумма элементов матрицы B: '); {вывод пояснения с переходом на следующую строку}\n",
    "        writeln(S1:5); {вывод значения переменной и переход на следующую строку на экране}\n",
    "        writeln(tfout, S1:5); {вывод значения переменной и переход на следующую строку в файле}\n",
    "        \n",
    "        CloseFile(tfout); {закрыть файл для записи}\n",
    "        \n",
    "    end."
   ]
  },
  {
   "cell_type": "markdown",
   "metadata": {},
   "source": [
    "#### Вариант программы для онлайн-компилятора.\n",
    "[Compile and Execute Pascal Online](http://www.compileonline.com/compile_pascal_online.php)"
   ]
  },
  {
   "cell_type": "code",
   "execution_count": null,
   "metadata": {},
   "outputs": [],
   "source": [
    "// main.pas\n",
    "program Lab8; // сохранить как lab8.dpr (DPR – Delphi PRoject)  \n",
    "    const\n",
    "        {заглушка для теста 1}    \n",
    "        S1 = -650;\n",
    "        X1: array [1..5] of integer = (0, 0, 0, 1, 0);\n",
    "\n",
    "    var\n",
    "        i, j: integer;\n",
    "        B: array [1..1000,1..1000] of integer; \n",
    "            \n",
    "    begin\n",
    "\n",
    "        {A0.1, A0.3 - ввод-вывод входных данных}\n",
    "        writeln('Лаб.8' :40); {вывод заголовка c переходом на следующую строку по обр.3}\n",
    "        \n",
    "        {ввод-вывод исходной матрицы B по обр.2.1, 2.2, 5.1, 5.2}\n",
    "        writeln('Исходная матрица B: '); {вывод пояснения с переходом на следующую строку}\n",
    "        \n",
    "        i :=1;\n",
    "        while not eoln do\n",
    "        begin\n",
    "            j := 1;\n",
    "            while not eoln do\n",
    "            begin\n",
    "                read(B[i,j]);\n",
    "                write(B[i,j], ' ');\n",
    "                j := j + 1;\n",
    "            end;\n",
    "            readln; writeln;\n",
    "            i := i + 1;\n",
    "        end;\n",
    "    \n",
    "        \n",
    "        for i:=1 to 80 do \n",
    "            write('='); {отделим визуально чертой и строкой введенные и выводимые значения}\n",
    "        writeln; \n",
    "        \n",
    "        {вывод массива X и суммы S по обр.6.1, 6.2, 7.1, 7.2}\n",
    "\n",
    "        \n",
    "        writeln('Сформированный массив X: '); {вывод пояснения с переходом на следующую строку}\n",
    "        \n",
    "        for i:=1 to Length(X1) do\n",
    "        begin \n",
    "            write(X1[i]:1); {вывод элемента и переход на следующую строку на экране}\n",
    "        end;\n",
    "        writeln;\n",
    "        \n",
    "        writeln('Сумма элементов матрицы B: '); {вывод пояснения с переходом на следующую строку}\n",
    "        writeln(S1:5); {вывод значения переменной и переход на следующую строку на экране}\n",
    "\n",
    "    end."
   ]
  },
  {
   "cell_type": "code",
   "execution_count": null,
   "metadata": {},
   "outputs": [],
   "source": [
    "// STDIN\n",
    "43 -68 -21 -81 90\n",
    "2 -86 -79 -66 -44\n",
    "-38 -66 -54 -80 -32\n",
    "-67 46 -71 99 -61\n",
    "63 14 -7 -42 -44"
   ]
  },
  {
   "cell_type": "code",
   "execution_count": null,
   "metadata": {},
   "outputs": [],
   "source": []
  }
 ],
 "metadata": {
  "kernelspec": {
   "display_name": "Python 3",
   "language": "python",
   "name": "python3"
  },
  "language_info": {
   "codemirror_mode": {
    "name": "ipython",
    "version": 3
   },
   "file_extension": ".py",
   "mimetype": "text/x-python",
   "name": "python",
   "nbconvert_exporter": "python",
   "pygments_lexer": "ipython3",
   "version": "3.6.4"
  }
 },
 "nbformat": 4,
 "nbformat_minor": 2
}
